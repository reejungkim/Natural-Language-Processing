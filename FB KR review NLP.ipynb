{
 "cells": [
  {
   "cell_type": "markdown",
   "id": "cognitive-money",
   "metadata": {},
   "source": [
    "import locale\n",
    "#locale.setlocale(locale.LC_TIME,'ko_KR.UTF-8')\n",
    "locale.setlocale(locale.LC_ALL, 'ko_KR')\n",
    "\n",
    "locale.getlocale(locale.LC_TIME)"
   ]
  },
  {
   "cell_type": "code",
   "execution_count": 1,
   "id": "optional-maker",
   "metadata": {},
   "outputs": [],
   "source": [
    "import pandas as pd\n",
    "import numpy as np\n",
    "import os\n",
    "import datetime as dt\n",
    "\n",
    "import emoji\n",
    "\n",
    "import matplotlib.pyplot as plt\n",
    "\n",
    "import urllib.request"
   ]
  },
  {
   "cell_type": "code",
   "execution_count": 2,
   "id": "agricultural-trance",
   "metadata": {},
   "outputs": [],
   "source": [
    "import konlpy\n",
    "\n",
    "from konlpy.tag import Kkma\n",
    "from konlpy.utils import pprint\n",
    "kkma = Kkma()"
   ]
  },
  {
   "cell_type": "code",
   "execution_count": 3,
   "id": "german-aggregate",
   "metadata": {},
   "outputs": [
    {
     "name": "stdout",
     "output_type": "stream",
     "text": [
      "['질문', '건의', '건의사항', '사항', '깃헙', '이슈', '트래커']\n"
     ]
    }
   ],
   "source": [
    "print(kkma.nouns('질문이나 건의사항은 깃헙 이슈 트래커에 남겨주세요.'))"
   ]
  },
  {
   "cell_type": "code",
   "execution_count": 4,
   "id": "located-honduras",
   "metadata": {},
   "outputs": [],
   "source": [
    "file = r\"/Users/reejungkim/Documents/Git/WebCrawler/GooglePlayStore_Review_FB2021-02-18-17:02:13.csv\""
   ]
  },
  {
   "cell_type": "code",
   "execution_count": 5,
   "id": "national-investment",
   "metadata": {
    "scrolled": false
   },
   "outputs": [],
   "source": [
    "df = pd.read_csv(file, index_col=None)"
   ]
  },
  {
   "cell_type": "code",
   "execution_count": 6,
   "id": "banner-tonight",
   "metadata": {},
   "outputs": [
    {
     "data": {
      "text/html": [
       "<div>\n",
       "<style scoped>\n",
       "    .dataframe tbody tr th:only-of-type {\n",
       "        vertical-align: middle;\n",
       "    }\n",
       "\n",
       "    .dataframe tbody tr th {\n",
       "        vertical-align: top;\n",
       "    }\n",
       "\n",
       "    .dataframe thead th {\n",
       "        text-align: right;\n",
       "    }\n",
       "</style>\n",
       "<table border=\"1\" class=\"dataframe\">\n",
       "  <thead>\n",
       "    <tr style=\"text-align: right;\">\n",
       "      <th></th>\n",
       "      <th>Unnamed: 0</th>\n",
       "      <th>author</th>\n",
       "      <th>developer_reply</th>\n",
       "      <th>review</th>\n",
       "      <th>review_date</th>\n",
       "      <th>reviewer_ratings</th>\n",
       "      <th>star</th>\n",
       "    </tr>\n",
       "  </thead>\n",
       "  <tbody>\n",
       "    <tr>\n",
       "      <th>0</th>\n",
       "      <td>0</td>\n",
       "      <td>지현우</td>\n",
       "      <td>NaN</td>\n",
       "      <td>한달째 로그인 오류 덕분에 사용하지 못하고 있네요 지인들과 연락도 안되고 이게 뭐...</td>\n",
       "      <td>2021년 2월 14일</td>\n",
       "      <td>51</td>\n",
       "      <td>별표 5개 만점에 1개를 받았습니다.</td>\n",
       "    </tr>\n",
       "    <tr>\n",
       "      <th>1</th>\n",
       "      <td>1</td>\n",
       "      <td>감수성art채널</td>\n",
       "      <td>NaN</td>\n",
       "      <td>다른계정 로그인이 안됩니다 본인 비밀번호를 맞게 입력해도 메일주소가 다르게 나오고...</td>\n",
       "      <td>2021년 2월 9일</td>\n",
       "      <td>51</td>\n",
       "      <td>별표 5개 만점에 1개를 받았습니다.</td>\n",
       "    </tr>\n",
       "    <tr>\n",
       "      <th>2</th>\n",
       "      <td>2</td>\n",
       "      <td>전지현</td>\n",
       "      <td>NaN</td>\n",
       "      <td>번호가바뀌면서쓰던계정과연동이되지않고잇습니다.로그인코드를문자로보내시는거같은데 이미번...</td>\n",
       "      <td>2021년 1월 22일</td>\n",
       "      <td>51</td>\n",
       "      <td>별표 5개 만점에 1개를 받았습니다.</td>\n",
       "    </tr>\n",
       "    <tr>\n",
       "      <th>3</th>\n",
       "      <td>3</td>\n",
       "      <td>윤재형</td>\n",
       "      <td>NaN</td>\n",
       "      <td>비밀번호를 까먹어서 SMS로 인증코드 확인할려고 \"다음\" 눌렀는데 처음화면으로 돌...</td>\n",
       "      <td>2021년 2월 3일</td>\n",
       "      <td>51</td>\n",
       "      <td>별표 5개 만점에 1개를 받았습니다.</td>\n",
       "    </tr>\n",
       "    <tr>\n",
       "      <th>4</th>\n",
       "      <td>4</td>\n",
       "      <td>유진</td>\n",
       "      <td>NaN</td>\n",
       "      <td>제가 이거 한적이 있었는데 깔았다가 지웠거든요 그리고 전화번호도 바꿨어요 그리고 ...</td>\n",
       "      <td>2021년 2월 13일</td>\n",
       "      <td>52</td>\n",
       "      <td>별표 5개 만점에 2개를 받았습니다.</td>\n",
       "    </tr>\n",
       "  </tbody>\n",
       "</table>\n",
       "</div>"
      ],
      "text/plain": [
       "   Unnamed: 0    author  developer_reply  \\\n",
       "0           0       지현우              NaN   \n",
       "1           1  감수성art채널              NaN   \n",
       "2           2       전지현              NaN   \n",
       "3           3       윤재형              NaN   \n",
       "4           4        유진              NaN   \n",
       "\n",
       "                                              review   review_date  \\\n",
       "0   한달째 로그인 오류 덕분에 사용하지 못하고 있네요 지인들과 연락도 안되고 이게 뭐...  2021년 2월 14일   \n",
       "1   다른계정 로그인이 안됩니다 본인 비밀번호를 맞게 입력해도 메일주소가 다르게 나오고...   2021년 2월 9일   \n",
       "2   번호가바뀌면서쓰던계정과연동이되지않고잇습니다.로그인코드를문자로보내시는거같은데 이미번...  2021년 1월 22일   \n",
       "3   비밀번호를 까먹어서 SMS로 인증코드 확인할려고 \"다음\" 눌렀는데 처음화면으로 돌...   2021년 2월 3일   \n",
       "4   제가 이거 한적이 있었는데 깔았다가 지웠거든요 그리고 전화번호도 바꿨어요 그리고 ...  2021년 2월 13일   \n",
       "\n",
       "   reviewer_ratings                  star  \n",
       "0                51  별표 5개 만점에 1개를 받았습니다.  \n",
       "1                51  별표 5개 만점에 1개를 받았습니다.  \n",
       "2                51  별표 5개 만점에 1개를 받았습니다.  \n",
       "3                51  별표 5개 만점에 1개를 받았습니다.  \n",
       "4                52  별표 5개 만점에 2개를 받았습니다.  "
      ]
     },
     "execution_count": 6,
     "metadata": {},
     "output_type": "execute_result"
    }
   ],
   "source": [
    "df.head()"
   ]
  },
  {
   "cell_type": "markdown",
   "id": "funny-memphis",
   "metadata": {},
   "source": [
    "# EDA"
   ]
  },
  {
   "cell_type": "code",
   "execution_count": 7,
   "id": "silent-pollution",
   "metadata": {},
   "outputs": [
    {
     "data": {
      "text/plain": [
       "(200, 7)"
      ]
     },
     "execution_count": 7,
     "metadata": {},
     "output_type": "execute_result"
    }
   ],
   "source": [
    "df.shape"
   ]
  },
  {
   "cell_type": "code",
   "execution_count": 8,
   "id": "numeric-texture",
   "metadata": {},
   "outputs": [
    {
     "name": "stdout",
     "output_type": "stream",
     "text": [
      "<class 'pandas.core.frame.DataFrame'>\n",
      "RangeIndex: 200 entries, 0 to 199\n",
      "Data columns (total 7 columns):\n",
      " #   Column            Non-Null Count  Dtype  \n",
      "---  ------            --------------  -----  \n",
      " 0   Unnamed: 0        200 non-null    int64  \n",
      " 1   author            200 non-null    object \n",
      " 2   developer_reply   0 non-null      float64\n",
      " 3   review            200 non-null    object \n",
      " 4   review_date       200 non-null    object \n",
      " 5   reviewer_ratings  200 non-null    int64  \n",
      " 6   star              200 non-null    object \n",
      "dtypes: float64(1), int64(2), object(4)\n",
      "memory usage: 11.1+ KB\n"
     ]
    }
   ],
   "source": [
    "df.info()"
   ]
  },
  {
   "cell_type": "code",
   "execution_count": 9,
   "id": "honest-india",
   "metadata": {},
   "outputs": [],
   "source": [
    "df['review_date'] = df['review_date'].str.replace('년 ','/').str.replace('월 ', '/').str.replace('일', '/')"
   ]
  },
  {
   "cell_type": "code",
   "execution_count": 10,
   "id": "inappropriate-necessity",
   "metadata": {},
   "outputs": [],
   "source": [
    "df['review_date'] = pd.to_datetime(df['review_date'])"
   ]
  },
  {
   "cell_type": "code",
   "execution_count": 11,
   "id": "intimate-locking",
   "metadata": {},
   "outputs": [],
   "source": [
    "df['year-m'] = df['review_date'].dt.strftime('%Y-%m')"
   ]
  },
  {
   "cell_type": "code",
   "execution_count": 12,
   "id": "bright-louis",
   "metadata": {
    "scrolled": true
   },
   "outputs": [
    {
     "data": {
      "text/html": [
       "<div>\n",
       "<style scoped>\n",
       "    .dataframe tbody tr th:only-of-type {\n",
       "        vertical-align: middle;\n",
       "    }\n",
       "\n",
       "    .dataframe tbody tr th {\n",
       "        vertical-align: top;\n",
       "    }\n",
       "\n",
       "    .dataframe thead th {\n",
       "        text-align: right;\n",
       "    }\n",
       "</style>\n",
       "<table border=\"1\" class=\"dataframe\">\n",
       "  <thead>\n",
       "    <tr style=\"text-align: right;\">\n",
       "      <th></th>\n",
       "      <th>Unnamed: 0</th>\n",
       "      <th>author</th>\n",
       "      <th>developer_reply</th>\n",
       "      <th>review</th>\n",
       "      <th>review_date</th>\n",
       "      <th>reviewer_ratings</th>\n",
       "      <th>star</th>\n",
       "      <th>year-m</th>\n",
       "    </tr>\n",
       "  </thead>\n",
       "  <tbody>\n",
       "    <tr>\n",
       "      <th>0</th>\n",
       "      <td>0</td>\n",
       "      <td>지현우</td>\n",
       "      <td>NaN</td>\n",
       "      <td>한달째 로그인 오류 덕분에 사용하지 못하고 있네요 지인들과 연락도 안되고 이게 뭐...</td>\n",
       "      <td>2021-02-14</td>\n",
       "      <td>51</td>\n",
       "      <td>별표 5개 만점에 1개를 받았습니다.</td>\n",
       "      <td>2021-02</td>\n",
       "    </tr>\n",
       "    <tr>\n",
       "      <th>1</th>\n",
       "      <td>1</td>\n",
       "      <td>감수성art채널</td>\n",
       "      <td>NaN</td>\n",
       "      <td>다른계정 로그인이 안됩니다 본인 비밀번호를 맞게 입력해도 메일주소가 다르게 나오고...</td>\n",
       "      <td>2021-02-09</td>\n",
       "      <td>51</td>\n",
       "      <td>별표 5개 만점에 1개를 받았습니다.</td>\n",
       "      <td>2021-02</td>\n",
       "    </tr>\n",
       "  </tbody>\n",
       "</table>\n",
       "</div>"
      ],
      "text/plain": [
       "   Unnamed: 0    author  developer_reply  \\\n",
       "0           0       지현우              NaN   \n",
       "1           1  감수성art채널              NaN   \n",
       "\n",
       "                                              review review_date  \\\n",
       "0   한달째 로그인 오류 덕분에 사용하지 못하고 있네요 지인들과 연락도 안되고 이게 뭐...  2021-02-14   \n",
       "1   다른계정 로그인이 안됩니다 본인 비밀번호를 맞게 입력해도 메일주소가 다르게 나오고...  2021-02-09   \n",
       "\n",
       "   reviewer_ratings                  star   year-m  \n",
       "0                51  별표 5개 만점에 1개를 받았습니다.  2021-02  \n",
       "1                51  별표 5개 만점에 1개를 받았습니다.  2021-02  "
      ]
     },
     "execution_count": 12,
     "metadata": {},
     "output_type": "execute_result"
    }
   ],
   "source": [
    "df.head(2)"
   ]
  },
  {
   "cell_type": "markdown",
   "id": "upper-grain",
   "metadata": {},
   "source": [
    "df.groupby('review_date')['review'].count()"
   ]
  },
  {
   "cell_type": "code",
   "execution_count": 13,
   "id": "hydraulic-asthma",
   "metadata": {},
   "outputs": [
    {
     "data": {
      "image/png": "[encoded data removed]",
      "text/plain": [
       "<Figure size 720x288 with 1 Axes>"
      ]
     },
     "metadata": {
      "needs_background": "light"
     },
     "output_type": "display_data"
    }
   ],
   "source": [
    "plt.figure(figsize=(10,4))\n",
    "\n",
    "ax = df.groupby('year-m')['review'].count().plot(kind='bar', color='b')\n",
    "ax.set_xticklabels(ax.get_xticklabels(), rotation=40, ha=\"right\")\n",
    "plt.title('Number of reviews added')\n",
    "plt.tight_layout()\n",
    "plt.show()"
   ]
  },
  {
   "cell_type": "markdown",
   "id": "opponent-bread",
   "metadata": {},
   "source": [
    "df[['star_available','star_received']] = df['star'].str.split('만점에 ',expand=True)"
   ]
  },
  {
   "cell_type": "code",
   "execution_count": 14,
   "id": "greater-collectible",
   "metadata": {
    "scrolled": true
   },
   "outputs": [],
   "source": [
    "df['star'] = df['star'].str.replace('별표 5개 만점에 ', '').str.replace('개를 받았습니다.', '')"
   ]
  },
  {
   "cell_type": "markdown",
   "id": "prostate-cover",
   "metadata": {},
   "source": [
    "## Clean texts"
   ]
  },
  {
   "cell_type": "code",
   "execution_count": 15,
   "id": "protecting-cartridge",
   "metadata": {},
   "outputs": [
    {
     "data": {
      "text/plain": [
       "0       한달째 로그인 오류 덕분에 사용하지 못하고 있네요 지인들과 연락도 안되고 이게 뭐...\n",
       "1       다른계정 로그인이 안됩니다 본인 비밀번호를 맞게 입력해도 메일주소가 다르게 나오고...\n",
       "2       번호가바뀌면서쓰던계정과연동이되지않고잇습니다.로그인코드를문자로보내시는거같은데 이미번...\n",
       "3       비밀번호를 까먹어서 SMS로 인증코드 확인할려고 \"다음\" 눌렀는데 처음화면으로 돌...\n",
       "4       제가 이거 한적이 있었는데 깔았다가 지웠거든요 그리고 전화번호도 바꿨어요 그리고 ...\n",
       "                             ...                        \n",
       "195                       로그인이 안돼요 그리고 이상한걸로 영정먹고 도움 안돼요\n",
       "196     페이스북 사진과 가이드라인을 위반 및 이지만 억울합니다 😔😔😔저의 나머지 부계정도...\n",
       "197     다른 새 계정을 만들려고 했는데 옛날에 잘못 만든 계정을 삭제했는데 계정이 안만들...\n",
       "198     프로필 업로드가 안돼요.. 몇일째 그래서 다시 깔아보고 이것저것 해보고 버그 신고...\n",
       "199     페이스북이 자꾸 지멋대로 팅기는 현상이 나타는데 왜이러는거죠? 지우고 다시깔구해도...\n",
       "Name: review, Length: 200, dtype: object"
      ]
     },
     "execution_count": 15,
     "metadata": {},
     "output_type": "execute_result"
    }
   ],
   "source": [
    "df.review"
   ]
  },
  {
   "cell_type": "code",
   "execution_count": 16,
   "id": "seventh-trail",
   "metadata": {},
   "outputs": [],
   "source": [
    "def extract_emojis(string):\n",
    "    emoticon = \"\".join(c for c in string if c in emoji.UNICODE_EMOJI)\n",
    "    if emoticon!=\"\":\n",
    "        return emoticon\n",
    "    return None"
   ]
  },
  {
   "cell_type": "code",
   "execution_count": 17,
   "id": "changing-metallic",
   "metadata": {},
   "outputs": [],
   "source": [
    "df['emoji']=df['review'].apply(lambda x: extract_emojis(x))"
   ]
  },
  {
   "cell_type": "code",
   "execution_count": 18,
   "id": "forbidden-battery",
   "metadata": {},
   "outputs": [],
   "source": [
    "import re\n",
    "\n",
    "def clean_text(texts):\n",
    "    corpus = []\n",
    "    for i in range(0, len(texts)):\n",
    "        review = re.sub(r'[@%\\\\*=()/~#&\\+á?\\xc3\\xa1\\-\\|\\.\\:\\;\\!\\-\\,\\_\\~\\$\\'\\\"]', '',str(texts[i])) #remove punctuation\n",
    "        review = re.sub(r'\\d+','', str(texts[i]))# remove number\n",
    "        review = review.lower() #lower case\n",
    "        review = re.sub(r'\\s+', ' ', review) #remove extra space\n",
    "        review = re.sub(r'<[^>]+>','',review) #remove Html tags\n",
    "        review = re.sub(r'\\s+', ' ', review) #remove spaces\n",
    "        review = re.sub(r\"^\\s+\", '', review) #remove space from start\n",
    "        review = re.sub(r'\\s+$', '', review) #remove space from the end\n",
    "        corpus.append(review)\n",
    "    return corpus"
   ]
  },
  {
   "cell_type": "markdown",
   "id": "dried-audio",
   "metadata": {},
   "source": [
    "df['text processed'] = df['review'].apply(lambda x: clean_text(x)) "
   ]
  },
  {
   "cell_type": "code",
   "execution_count": 19,
   "id": "introductory-variation",
   "metadata": {},
   "outputs": [],
   "source": [
    "df['nouns'] = df['review'].apply(lambda x: kkma.nouns(x))"
   ]
  },
  {
   "cell_type": "code",
   "execution_count": 20,
   "id": "confused-gospel",
   "metadata": {},
   "outputs": [
    {
     "data": {
      "text/html": [
       "<div>\n",
       "<style scoped>\n",
       "    .dataframe tbody tr th:only-of-type {\n",
       "        vertical-align: middle;\n",
       "    }\n",
       "\n",
       "    .dataframe tbody tr th {\n",
       "        vertical-align: top;\n",
       "    }\n",
       "\n",
       "    .dataframe thead th {\n",
       "        text-align: right;\n",
       "    }\n",
       "</style>\n",
       "<table border=\"1\" class=\"dataframe\">\n",
       "  <thead>\n",
       "    <tr style=\"text-align: right;\">\n",
       "      <th></th>\n",
       "      <th>Unnamed: 0</th>\n",
       "      <th>author</th>\n",
       "      <th>developer_reply</th>\n",
       "      <th>review</th>\n",
       "      <th>review_date</th>\n",
       "      <th>reviewer_ratings</th>\n",
       "      <th>star</th>\n",
       "      <th>year-m</th>\n",
       "      <th>emoji</th>\n",
       "      <th>nouns</th>\n",
       "    </tr>\n",
       "  </thead>\n",
       "  <tbody>\n",
       "    <tr>\n",
       "      <th>0</th>\n",
       "      <td>0</td>\n",
       "      <td>지현우</td>\n",
       "      <td>NaN</td>\n",
       "      <td>한달째 로그인 오류 덕분에 사용하지 못하고 있네요 지인들과 연락도 안되고 이게 뭐...</td>\n",
       "      <td>2021-02-14</td>\n",
       "      <td>51</td>\n",
       "      <td>1</td>\n",
       "      <td>2021-02</td>\n",
       "      <td>None</td>\n",
       "      <td>[달, 로그, 오류, 덕분, 사용, 지인, 연락도, 안, 이것, 짓, 비활성, 최악...</td>\n",
       "    </tr>\n",
       "    <tr>\n",
       "      <th>1</th>\n",
       "      <td>1</td>\n",
       "      <td>감수성art채널</td>\n",
       "      <td>NaN</td>\n",
       "      <td>다른계정 로그인이 안됩니다 본인 비밀번호를 맞게 입력해도 메일주소가 다르게 나오고...</td>\n",
       "      <td>2021-02-09</td>\n",
       "      <td>51</td>\n",
       "      <td>1</td>\n",
       "      <td>2021-02</td>\n",
       "      <td>None</td>\n",
       "      <td>[계정, 로그, 로그인, 인, 본인, 비밀, 비밀번호, 번호, 입력, 메일, 메일주...</td>\n",
       "    </tr>\n",
       "    <tr>\n",
       "      <th>2</th>\n",
       "      <td>2</td>\n",
       "      <td>전지현</td>\n",
       "      <td>NaN</td>\n",
       "      <td>번호가바뀌면서쓰던계정과연동이되지않고잇습니다.로그인코드를문자로보내시는거같은데 이미번...</td>\n",
       "      <td>2021-01-22</td>\n",
       "      <td>51</td>\n",
       "      <td>1</td>\n",
       "      <td>2021-01</td>\n",
       "      <td>None</td>\n",
       "      <td>[번호, 계정, 연동, 로그, 코드, 문자, 로그인, 인, 거, 상태, 그전, 인증...</td>\n",
       "    </tr>\n",
       "    <tr>\n",
       "      <th>3</th>\n",
       "      <td>3</td>\n",
       "      <td>윤재형</td>\n",
       "      <td>NaN</td>\n",
       "      <td>비밀번호를 까먹어서 SMS로 인증코드 확인할려고 \"다음\" 눌렀는데 처음화면으로 돌...</td>\n",
       "      <td>2021-02-03</td>\n",
       "      <td>51</td>\n",
       "      <td>1</td>\n",
       "      <td>2021-02</td>\n",
       "      <td>🖕</td>\n",
       "      <td>[비밀, 비밀번호, 번호, 인증, 인증코드, 코드, 확인할려, 다음, 처음, 처음화...</td>\n",
       "    </tr>\n",
       "    <tr>\n",
       "      <th>4</th>\n",
       "      <td>4</td>\n",
       "      <td>유진</td>\n",
       "      <td>NaN</td>\n",
       "      <td>제가 이거 한적이 있었는데 깔았다가 지웠거든요 그리고 전화번호도 바꿨어요 그리고 ...</td>\n",
       "      <td>2021-02-13</td>\n",
       "      <td>52</td>\n",
       "      <td>2</td>\n",
       "      <td>2021-02</td>\n",
       "      <td>None</td>\n",
       "      <td>[제가, 이거, 전화, 전화번호, 번호, 계정, 연동, 새, 새계정, 이것, 주세,...</td>\n",
       "    </tr>\n",
       "  </tbody>\n",
       "</table>\n",
       "</div>"
      ],
      "text/plain": [
       "   Unnamed: 0    author  developer_reply  \\\n",
       "0           0       지현우              NaN   \n",
       "1           1  감수성art채널              NaN   \n",
       "2           2       전지현              NaN   \n",
       "3           3       윤재형              NaN   \n",
       "4           4        유진              NaN   \n",
       "\n",
       "                                              review review_date  \\\n",
       "0   한달째 로그인 오류 덕분에 사용하지 못하고 있네요 지인들과 연락도 안되고 이게 뭐...  2021-02-14   \n",
       "1   다른계정 로그인이 안됩니다 본인 비밀번호를 맞게 입력해도 메일주소가 다르게 나오고...  2021-02-09   \n",
       "2   번호가바뀌면서쓰던계정과연동이되지않고잇습니다.로그인코드를문자로보내시는거같은데 이미번...  2021-01-22   \n",
       "3   비밀번호를 까먹어서 SMS로 인증코드 확인할려고 \"다음\" 눌렀는데 처음화면으로 돌...  2021-02-03   \n",
       "4   제가 이거 한적이 있었는데 깔았다가 지웠거든요 그리고 전화번호도 바꿨어요 그리고 ...  2021-02-13   \n",
       "\n",
       "   reviewer_ratings star   year-m emoji  \\\n",
       "0                51    1  2021-02  None   \n",
       "1                51    1  2021-02  None   \n",
       "2                51    1  2021-01  None   \n",
       "3                51    1  2021-02     🖕   \n",
       "4                52    2  2021-02  None   \n",
       "\n",
       "                                               nouns  \n",
       "0  [달, 로그, 오류, 덕분, 사용, 지인, 연락도, 안, 이것, 짓, 비활성, 최악...  \n",
       "1  [계정, 로그, 로그인, 인, 본인, 비밀, 비밀번호, 번호, 입력, 메일, 메일주...  \n",
       "2  [번호, 계정, 연동, 로그, 코드, 문자, 로그인, 인, 거, 상태, 그전, 인증...  \n",
       "3  [비밀, 비밀번호, 번호, 인증, 인증코드, 코드, 확인할려, 다음, 처음, 처음화...  \n",
       "4  [제가, 이거, 전화, 전화번호, 번호, 계정, 연동, 새, 새계정, 이것, 주세,...  "
      ]
     },
     "execution_count": 20,
     "metadata": {},
     "output_type": "execute_result"
    }
   ],
   "source": [
    "df.head()"
   ]
  },
  {
   "cell_type": "code",
   "execution_count": 33,
   "id": "understanding-compromise",
   "metadata": {},
   "outputs": [],
   "source": [
    "from nltk.corpus import stopwords\n",
    "from nltk.tokenize import word_tokenize\n",
    "\n",
    "from nltk.classify import NaiveBayesClassifier\n",
    "from nltk.corpus import subjectivity\n",
    "from nltk.sentiment import SentimentAnalyzer\n",
    "from nltk.sentiment.util import *\n",
    "\n"
   ]
  },
  {
   "cell_type": "code",
   "execution_count": 43,
   "id": "consecutive-second",
   "metadata": {},
   "outputs": [
    {
     "data": {
      "text/plain": [
       "['고기를', '먹으러', '가고', '싶다']"
      ]
     },
     "execution_count": 43,
     "metadata": {},
     "output_type": "execute_result"
    }
   ],
   "source": [
    "nltk.tokenize.word_tokenize('고기를 먹으러 가고 싶다')"
   ]
  },
  {
   "cell_type": "code",
   "execution_count": 44,
   "id": "pregnant-defendant",
   "metadata": {},
   "outputs": [
    {
     "data": {
      "text/plain": [
       "['고기']"
      ]
     },
     "execution_count": 44,
     "metadata": {},
     "output_type": "execute_result"
    }
   ],
   "source": [
    "kkma.nouns('고기를 먹으러 가고 싶다')"
   ]
  },
  {
   "cell_type": "code",
   "execution_count": 45,
   "id": "voluntary-custom",
   "metadata": {},
   "outputs": [],
   "source": [
    "from konlpy.tag import Okt\n",
    "okt = Okt()"
   ]
  },
  {
   "cell_type": "code",
   "execution_count": 50,
   "id": "clear-draft",
   "metadata": {},
   "outputs": [
    {
     "name": "stdout",
     "output_type": "stream",
     "text": [
      "['것', '되나욬']\n"
     ]
    }
   ],
   "source": [
    "print(okt.nouns(u'이것도 되나욬ㅋㅋ'))"
   ]
  },
  {
   "cell_type": "code",
   "execution_count": 46,
   "id": "affected-perception",
   "metadata": {},
   "outputs": [
    {
     "name": "stdout",
     "output_type": "stream",
     "text": [
      "[('이', 'Determiner'), ('것', 'Noun'), ('도', 'Josa'), ('되다', 'Verb'), ('ㅋㅋ', 'KoreanParticle')]\n"
     ]
    }
   ],
   "source": [
    "print(okt.pos(u'이것도 되나욬ㅋㅋ', norm=True, stem=True))"
   ]
  },
  {
   "cell_type": "code",
   "execution_count": 21,
   "id": "external-walter",
   "metadata": {},
   "outputs": [],
   "source": [
    "from collections import Counter\n",
    "def common_words(df, col, n):\n",
    "    counts = Counter([item for sublist in df[col] for item in sublist])\n",
    "    common_words = pd.DataFrame(counts.most_common(n))\n",
    "    common_words.columns =['Word','count']\n",
    "    return common_words\n",
    "    "
   ]
  },
  {
   "cell_type": "code",
   "execution_count": 29,
   "id": "black-collect",
   "metadata": {
    "scrolled": true
   },
   "outputs": [
    {
     "data": {
      "text/html": [
       "<div>\n",
       "<style scoped>\n",
       "    .dataframe tbody tr th:only-of-type {\n",
       "        vertical-align: middle;\n",
       "    }\n",
       "\n",
       "    .dataframe tbody tr th {\n",
       "        vertical-align: top;\n",
       "    }\n",
       "\n",
       "    .dataframe thead th {\n",
       "        text-align: right;\n",
       "    }\n",
       "</style>\n",
       "<table border=\"1\" class=\"dataframe\">\n",
       "  <thead>\n",
       "    <tr style=\"text-align: right;\">\n",
       "      <th></th>\n",
       "      <th>Word</th>\n",
       "      <th>count</th>\n",
       "    </tr>\n",
       "  </thead>\n",
       "  <tbody>\n",
       "    <tr>\n",
       "      <th>0</th>\n",
       "      <td>북</td>\n",
       "      <td>62</td>\n",
       "    </tr>\n",
       "    <tr>\n",
       "      <th>1</th>\n",
       "      <td>계정</td>\n",
       "      <td>53</td>\n",
       "    </tr>\n",
       "    <tr>\n",
       "      <th>2</th>\n",
       "      <td>로그</td>\n",
       "      <td>45</td>\n",
       "    </tr>\n",
       "    <tr>\n",
       "      <th>3</th>\n",
       "      <td>페이스</td>\n",
       "      <td>41</td>\n",
       "    </tr>\n",
       "    <tr>\n",
       "      <th>4</th>\n",
       "      <td>페이스북</td>\n",
       "      <td>39</td>\n",
       "    </tr>\n",
       "    <tr>\n",
       "      <th>5</th>\n",
       "      <td>페북</td>\n",
       "      <td>35</td>\n",
       "    </tr>\n",
       "    <tr>\n",
       "      <th>6</th>\n",
       "      <td>수</td>\n",
       "      <td>34</td>\n",
       "    </tr>\n",
       "    <tr>\n",
       "      <th>7</th>\n",
       "      <td>오류</td>\n",
       "      <td>33</td>\n",
       "    </tr>\n",
       "    <tr>\n",
       "      <th>8</th>\n",
       "      <td>거</td>\n",
       "      <td>33</td>\n",
       "    </tr>\n",
       "    <tr>\n",
       "      <th>9</th>\n",
       "      <td>번호</td>\n",
       "      <td>31</td>\n",
       "    </tr>\n",
       "    <tr>\n",
       "      <th>10</th>\n",
       "      <td>인</td>\n",
       "      <td>30</td>\n",
       "    </tr>\n",
       "    <tr>\n",
       "      <th>11</th>\n",
       "      <td>저</td>\n",
       "      <td>28</td>\n",
       "    </tr>\n",
       "    <tr>\n",
       "      <th>12</th>\n",
       "      <td>페</td>\n",
       "      <td>27</td>\n",
       "    </tr>\n",
       "    <tr>\n",
       "      <th>13</th>\n",
       "      <td>로그인</td>\n",
       "      <td>26</td>\n",
       "    </tr>\n",
       "    <tr>\n",
       "      <th>14</th>\n",
       "      <td>설정</td>\n",
       "      <td>23</td>\n",
       "    </tr>\n",
       "    <tr>\n",
       "      <th>15</th>\n",
       "      <td>업데이트</td>\n",
       "      <td>22</td>\n",
       "    </tr>\n",
       "    <tr>\n",
       "      <th>16</th>\n",
       "      <td>주세</td>\n",
       "      <td>21</td>\n",
       "    </tr>\n",
       "    <tr>\n",
       "      <th>17</th>\n",
       "      <td>앱</td>\n",
       "      <td>21</td>\n",
       "    </tr>\n",
       "    <tr>\n",
       "      <th>18</th>\n",
       "      <td>글</td>\n",
       "      <td>20</td>\n",
       "    </tr>\n",
       "    <tr>\n",
       "      <th>19</th>\n",
       "      <td>사용</td>\n",
       "      <td>19</td>\n",
       "    </tr>\n",
       "    <tr>\n",
       "      <th>20</th>\n",
       "      <td>비밀</td>\n",
       "      <td>19</td>\n",
       "    </tr>\n",
       "    <tr>\n",
       "      <th>21</th>\n",
       "      <td>비밀번호</td>\n",
       "      <td>19</td>\n",
       "    </tr>\n",
       "    <tr>\n",
       "      <th>22</th>\n",
       "      <td>삭제</td>\n",
       "      <td>19</td>\n",
       "    </tr>\n",
       "    <tr>\n",
       "      <th>23</th>\n",
       "      <td>안</td>\n",
       "      <td>18</td>\n",
       "    </tr>\n",
       "    <tr>\n",
       "      <th>24</th>\n",
       "      <td>데</td>\n",
       "      <td>18</td>\n",
       "    </tr>\n",
       "    <tr>\n",
       "      <th>25</th>\n",
       "      <td>중</td>\n",
       "      <td>17</td>\n",
       "    </tr>\n",
       "    <tr>\n",
       "      <th>26</th>\n",
       "      <td>불편</td>\n",
       "      <td>16</td>\n",
       "    </tr>\n",
       "    <tr>\n",
       "      <th>27</th>\n",
       "      <td>21</td>\n",
       "      <td>16</td>\n",
       "    </tr>\n",
       "    <tr>\n",
       "      <th>28</th>\n",
       "      <td>때</td>\n",
       "      <td>16</td>\n",
       "    </tr>\n",
       "    <tr>\n",
       "      <th>29</th>\n",
       "      <td>아웃</td>\n",
       "      <td>16</td>\n",
       "    </tr>\n",
       "    <tr>\n",
       "      <th>30</th>\n",
       "      <td>개</td>\n",
       "      <td>15</td>\n",
       "    </tr>\n",
       "    <tr>\n",
       "      <th>31</th>\n",
       "      <td>이메일</td>\n",
       "      <td>15</td>\n",
       "    </tr>\n",
       "    <tr>\n",
       "      <th>32</th>\n",
       "      <td>동영상</td>\n",
       "      <td>15</td>\n",
       "    </tr>\n",
       "    <tr>\n",
       "      <th>33</th>\n",
       "      <td>뭐</td>\n",
       "      <td>15</td>\n",
       "    </tr>\n",
       "    <tr>\n",
       "      <th>34</th>\n",
       "      <td>로그아웃</td>\n",
       "      <td>15</td>\n",
       "    </tr>\n",
       "    <tr>\n",
       "      <th>35</th>\n",
       "      <td>코드</td>\n",
       "      <td>14</td>\n",
       "    </tr>\n",
       "    <tr>\n",
       "      <th>36</th>\n",
       "      <td>계속</td>\n",
       "      <td>14</td>\n",
       "    </tr>\n",
       "    <tr>\n",
       "      <th>37</th>\n",
       "      <td>사람</td>\n",
       "      <td>14</td>\n",
       "    </tr>\n",
       "    <tr>\n",
       "      <th>38</th>\n",
       "      <td>나</td>\n",
       "      <td>14</td>\n",
       "    </tr>\n",
       "    <tr>\n",
       "      <th>39</th>\n",
       "      <td>일</td>\n",
       "      <td>14</td>\n",
       "    </tr>\n",
       "    <tr>\n",
       "      <th>40</th>\n",
       "      <td>수정</td>\n",
       "      <td>14</td>\n",
       "    </tr>\n",
       "    <tr>\n",
       "      <th>41</th>\n",
       "      <td>인증</td>\n",
       "      <td>13</td>\n",
       "    </tr>\n",
       "    <tr>\n",
       "      <th>42</th>\n",
       "      <td>스토리</td>\n",
       "      <td>13</td>\n",
       "    </tr>\n",
       "    <tr>\n",
       "      <th>43</th>\n",
       "      <td>말</td>\n",
       "      <td>13</td>\n",
       "    </tr>\n",
       "    <tr>\n",
       "      <th>44</th>\n",
       "      <td>전</td>\n",
       "      <td>13</td>\n",
       "    </tr>\n",
       "    <tr>\n",
       "      <th>45</th>\n",
       "      <td>해결</td>\n",
       "      <td>12</td>\n",
       "    </tr>\n",
       "    <tr>\n",
       "      <th>46</th>\n",
       "      <td>제가</td>\n",
       "      <td>12</td>\n",
       "    </tr>\n",
       "    <tr>\n",
       "      <th>47</th>\n",
       "      <td>이거</td>\n",
       "      <td>12</td>\n",
       "    </tr>\n",
       "    <tr>\n",
       "      <th>48</th>\n",
       "      <td>광고</td>\n",
       "      <td>11</td>\n",
       "    </tr>\n",
       "    <tr>\n",
       "      <th>49</th>\n",
       "      <td>럭</td>\n",
       "      <td>11</td>\n",
       "    </tr>\n",
       "  </tbody>\n",
       "</table>\n",
       "</div>"
      ],
      "text/plain": [
       "    Word  count\n",
       "0      북     62\n",
       "1     계정     53\n",
       "2     로그     45\n",
       "3    페이스     41\n",
       "4   페이스북     39\n",
       "5     페북     35\n",
       "6      수     34\n",
       "7     오류     33\n",
       "8      거     33\n",
       "9     번호     31\n",
       "10     인     30\n",
       "11     저     28\n",
       "12     페     27\n",
       "13   로그인     26\n",
       "14    설정     23\n",
       "15  업데이트     22\n",
       "16    주세     21\n",
       "17     앱     21\n",
       "18     글     20\n",
       "19    사용     19\n",
       "20    비밀     19\n",
       "21  비밀번호     19\n",
       "22    삭제     19\n",
       "23     안     18\n",
       "24     데     18\n",
       "25     중     17\n",
       "26    불편     16\n",
       "27    21     16\n",
       "28     때     16\n",
       "29    아웃     16\n",
       "30     개     15\n",
       "31   이메일     15\n",
       "32   동영상     15\n",
       "33     뭐     15\n",
       "34  로그아웃     15\n",
       "35    코드     14\n",
       "36    계속     14\n",
       "37    사람     14\n",
       "38     나     14\n",
       "39     일     14\n",
       "40    수정     14\n",
       "41    인증     13\n",
       "42   스토리     13\n",
       "43     말     13\n",
       "44     전     13\n",
       "45    해결     12\n",
       "46    제가     12\n",
       "47    이거     12\n",
       "48    광고     11\n",
       "49     럭     11"
      ]
     },
     "execution_count": 29,
     "metadata": {},
     "output_type": "execute_result"
    }
   ],
   "source": [
    "common_review = common_words(df, 'nouns', 50)\n",
    "common_review"
   ]
  },
  {
   "cell_type": "code",
   "execution_count": 30,
   "id": "interpreted-slave",
   "metadata": {},
   "outputs": [
    {
     "data": {
      "application/vnd.plotly.v1+json": {
       "config": {
        "plotlyServerURL": "https://plot.ly"
       },
       "data": [
        {
         "branchvalues": "total",
         "domain": {
          "x": [
           0,
           1
          ],
          "y": [
           0,
           1
          ]
         },
         "hovertemplate": "labels=%{label}<br>count=%{value}<br>parent=%{parent}<br>id=%{id}<extra></extra>",
         "ids": [
          "21",
          "개",
          "거",
          "계속",
          "계정",
          "광고",
          "글",
          "나",
          "데",
          "동영상",
          "때",
          "럭",
          "로그",
          "로그아웃",
          "로그인",
          "말",
          "뭐",
          "번호",
          "북",
          "불편",
          "비밀",
          "비밀번호",
          "사람",
          "사용",
          "삭제",
          "설정",
          "수",
          "수정",
          "스토리",
          "아웃",
          "안",
          "앱",
          "업데이트",
          "오류",
          "이거",
          "이메일",
          "인",
          "인증",
          "일",
          "저",
          "전",
          "제가",
          "주세",
          "중",
          "코드",
          "페",
          "페북",
          "페이스",
          "페이스북",
          "해결"
         ],
         "labels": [
          "21",
          "개",
          "거",
          "계속",
          "계정",
          "광고",
          "글",
          "나",
          "데",
          "동영상",
          "때",
          "럭",
          "로그",
          "로그아웃",
          "로그인",
          "말",
          "뭐",
          "번호",
          "북",
          "불편",
          "비밀",
          "비밀번호",
          "사람",
          "사용",
          "삭제",
          "설정",
          "수",
          "수정",
          "스토리",
          "아웃",
          "안",
          "앱",
          "업데이트",
          "오류",
          "이거",
          "이메일",
          "인",
          "인증",
          "일",
          "저",
          "전",
          "제가",
          "주세",
          "중",
          "코드",
          "페",
          "페북",
          "페이스",
          "페이스북",
          "해결"
         ],
         "name": "",
         "parents": [
          "",
          "",
          "",
          "",
          "",
          "",
          "",
          "",
          "",
          "",
          "",
          "",
          "",
          "",
          "",
          "",
          "",
          "",
          "",
          "",
          "",
          "",
          "",
          "",
          "",
          "",
          "",
          "",
          "",
          "",
          "",
          "",
          "",
          "",
          "",
          "",
          "",
          "",
          "",
          "",
          "",
          "",
          "",
          "",
          "",
          "",
          "",
          "",
          "",
          ""
         ],
         "type": "treemap",
         "values": [
          16,
          15,
          33,
          14,
          53,
          11,
          20,
          14,
          18,
          15,
          16,
          11,
          45,
          15,
          26,
          13,
          15,
          31,
          62,
          16,
          19,
          19,
          14,
          19,
          19,
          23,
          34,
          14,
          13,
          16,
          18,
          21,
          22,
          33,
          12,
          15,
          30,
          13,
          14,
          28,
          13,
          12,
          21,
          17,
          14,
          27,
          35,
          41,
          39,
          12
         ]
        }
       ],
       "layout": {
        "height": 400,
        "legend": {
         "tracegroupgap": 0
        },
        "template": {
         "data": {
          "bar": [
           {
            "error_x": {
             "color": "#2a3f5f"
            },
            "error_y": {
             "color": "#2a3f5f"
            },
            "marker": {
             "line": {
              "color": "#E5ECF6",
              "width": 0.5
             }
            },
            "type": "bar"
           }
          ],
          "barpolar": [
           {
            "marker": {
             "line": {
              "color": "#E5ECF6",
              "width": 0.5
             }
            },
            "type": "barpolar"
           }
          ],
          "carpet": [
           {
            "aaxis": {
             "endlinecolor": "#2a3f5f",
             "gridcolor": "white",
             "linecolor": "white",
             "minorgridcolor": "white",
             "startlinecolor": "#2a3f5f"
            },
            "baxis": {
             "endlinecolor": "#2a3f5f",
             "gridcolor": "white",
             "linecolor": "white",
             "minorgridcolor": "white",
             "startlinecolor": "#2a3f5f"
            },
            "type": "carpet"
           }
          ],
          "choropleth": [
           {
            "colorbar": {
             "outlinewidth": 0,
             "ticks": ""
            },
            "type": "choropleth"
           }
          ],
          "contour": [
           {
            "colorbar": {
             "outlinewidth": 0,
             "ticks": ""
            },
            "colorscale": [
             [
              0,
              "#0d0887"
             ],
             [
              0.1111111111111111,
              "#46039f"
             ],
             [
              0.2222222222222222,
              "#7201a8"
             ],
             [
              0.3333333333333333,
              "#9c179e"
             ],
             [
              0.4444444444444444,
              "#bd3786"
             ],
             [
              0.5555555555555556,
              "#d8576b"
             ],
             [
              0.6666666666666666,
              "#ed7953"
             ],
             [
              0.7777777777777778,
              "#fb9f3a"
             ],
             [
              0.8888888888888888,
              "#fdca26"
             ],
             [
              1,
              "#f0f921"
             ]
            ],
            "type": "contour"
           }
          ],
          "contourcarpet": [
           {
            "colorbar": {
             "outlinewidth": 0,
             "ticks": ""
            },
            "type": "contourcarpet"
           }
          ],
          "heatmap": [
           {
            "colorbar": {
             "outlinewidth": 0,
             "ticks": ""
            },
            "colorscale": [
             [
              0,
              "#0d0887"
             ],
             [
              0.1111111111111111,
              "#46039f"
             ],
             [
              0.2222222222222222,
              "#7201a8"
             ],
             [
              0.3333333333333333,
              "#9c179e"
             ],
             [
              0.4444444444444444,
              "#bd3786"
             ],
             [
              0.5555555555555556,
              "#d8576b"
             ],
             [
              0.6666666666666666,
              "#ed7953"
             ],
             [
              0.7777777777777778,
              "#fb9f3a"
             ],
             [
              0.8888888888888888,
              "#fdca26"
             ],
             [
              1,
              "#f0f921"
             ]
            ],
            "type": "heatmap"
           }
          ],
          "heatmapgl": [
           {
            "colorbar": {
             "outlinewidth": 0,
             "ticks": ""
            },
            "colorscale": [
             [
              0,
              "#0d0887"
             ],
             [
              0.1111111111111111,
              "#46039f"
             ],
             [
              0.2222222222222222,
              "#7201a8"
             ],
             [
              0.3333333333333333,
              "#9c179e"
             ],
             [
              0.4444444444444444,
              "#bd3786"
             ],
             [
              0.5555555555555556,
              "#d8576b"
             ],
             [
              0.6666666666666666,
              "#ed7953"
             ],
             [
              0.7777777777777778,
              "#fb9f3a"
             ],
             [
              0.8888888888888888,
              "#fdca26"
             ],
             [
              1,
              "#f0f921"
             ]
            ],
            "type": "heatmapgl"
           }
          ],
          "histogram": [
           {
            "marker": {
             "colorbar": {
              "outlinewidth": 0,
              "ticks": ""
             }
            },
            "type": "histogram"
           }
          ],
          "histogram2d": [
           {
            "colorbar": {
             "outlinewidth": 0,
             "ticks": ""
            },
            "colorscale": [
             [
              0,
              "#0d0887"
             ],
             [
              0.1111111111111111,
              "#46039f"
             ],
             [
              0.2222222222222222,
              "#7201a8"
             ],
             [
              0.3333333333333333,
              "#9c179e"
             ],
             [
              0.4444444444444444,
              "#bd3786"
             ],
             [
              0.5555555555555556,
              "#d8576b"
             ],
             [
              0.6666666666666666,
              "#ed7953"
             ],
             [
              0.7777777777777778,
              "#fb9f3a"
             ],
             [
              0.8888888888888888,
              "#fdca26"
             ],
             [
              1,
              "#f0f921"
             ]
            ],
            "type": "histogram2d"
           }
          ],
          "histogram2dcontour": [
           {
            "colorbar": {
             "outlinewidth": 0,
             "ticks": ""
            },
            "colorscale": [
             [
              0,
              "#0d0887"
             ],
             [
              0.1111111111111111,
              "#46039f"
             ],
             [
              0.2222222222222222,
              "#7201a8"
             ],
             [
              0.3333333333333333,
              "#9c179e"
             ],
             [
              0.4444444444444444,
              "#bd3786"
             ],
             [
              0.5555555555555556,
              "#d8576b"
             ],
             [
              0.6666666666666666,
              "#ed7953"
             ],
             [
              0.7777777777777778,
              "#fb9f3a"
             ],
             [
              0.8888888888888888,
              "#fdca26"
             ],
             [
              1,
              "#f0f921"
             ]
            ],
            "type": "histogram2dcontour"
           }
          ],
          "mesh3d": [
           {
            "colorbar": {
             "outlinewidth": 0,
             "ticks": ""
            },
            "type": "mesh3d"
           }
          ],
          "parcoords": [
           {
            "line": {
             "colorbar": {
              "outlinewidth": 0,
              "ticks": ""
             }
            },
            "type": "parcoords"
           }
          ],
          "pie": [
           {
            "automargin": true,
            "type": "pie"
           }
          ],
          "scatter": [
           {
            "marker": {
             "colorbar": {
              "outlinewidth": 0,
              "ticks": ""
             }
            },
            "type": "scatter"
           }
          ],
          "scatter3d": [
           {
            "line": {
             "colorbar": {
              "outlinewidth": 0,
              "ticks": ""
             }
            },
            "marker": {
             "colorbar": {
              "outlinewidth": 0,
              "ticks": ""
             }
            },
            "type": "scatter3d"
           }
          ],
          "scattercarpet": [
           {
            "marker": {
             "colorbar": {
              "outlinewidth": 0,
              "ticks": ""
             }
            },
            "type": "scattercarpet"
           }
          ],
          "scattergeo": [
           {
            "marker": {
             "colorbar": {
              "outlinewidth": 0,
              "ticks": ""
             }
            },
            "type": "scattergeo"
           }
          ],
          "scattergl": [
           {
            "marker": {
             "colorbar": {
              "outlinewidth": 0,
              "ticks": ""
             }
            },
            "type": "scattergl"
           }
          ],
          "scattermapbox": [
           {
            "marker": {
             "colorbar": {
              "outlinewidth": 0,
              "ticks": ""
             }
            },
            "type": "scattermapbox"
           }
          ],
          "scatterpolar": [
           {
            "marker": {
             "colorbar": {
              "outlinewidth": 0,
              "ticks": ""
             }
            },
            "type": "scatterpolar"
           }
          ],
          "scatterpolargl": [
           {
            "marker": {
             "colorbar": {
              "outlinewidth": 0,
              "ticks": ""
             }
            },
            "type": "scatterpolargl"
           }
          ],
          "scatterternary": [
           {
            "marker": {
             "colorbar": {
              "outlinewidth": 0,
              "ticks": ""
             }
            },
            "type": "scatterternary"
           }
          ],
          "surface": [
           {
            "colorbar": {
             "outlinewidth": 0,
             "ticks": ""
            },
            "colorscale": [
             [
              0,
              "#0d0887"
             ],
             [
              0.1111111111111111,
              "#46039f"
             ],
             [
              0.2222222222222222,
              "#7201a8"
             ],
             [
              0.3333333333333333,
              "#9c179e"
             ],
             [
              0.4444444444444444,
              "#bd3786"
             ],
             [
              0.5555555555555556,
              "#d8576b"
             ],
             [
              0.6666666666666666,
              "#ed7953"
             ],
             [
              0.7777777777777778,
              "#fb9f3a"
             ],
             [
              0.8888888888888888,
              "#fdca26"
             ],
             [
              1,
              "#f0f921"
             ]
            ],
            "type": "surface"
           }
          ],
          "table": [
           {
            "cells": {
             "fill": {
              "color": "#EBF0F8"
             },
             "line": {
              "color": "white"
             }
            },
            "header": {
             "fill": {
              "color": "#C8D4E3"
             },
             "line": {
              "color": "white"
             }
            },
            "type": "table"
           }
          ]
         },
         "layout": {
          "annotationdefaults": {
           "arrowcolor": "#2a3f5f",
           "arrowhead": 0,
           "arrowwidth": 1
          },
          "coloraxis": {
           "colorbar": {
            "outlinewidth": 0,
            "ticks": ""
           }
          },
          "colorscale": {
           "diverging": [
            [
             0,
             "#8e0152"
            ],
            [
             0.1,
             "#c51b7d"
            ],
            [
             0.2,
             "#de77ae"
            ],
            [
             0.3,
             "#f1b6da"
            ],
            [
             0.4,
             "#fde0ef"
            ],
            [
             0.5,
             "#f7f7f7"
            ],
            [
             0.6,
             "#e6f5d0"
            ],
            [
             0.7,
             "#b8e186"
            ],
            [
             0.8,
             "#7fbc41"
            ],
            [
             0.9,
             "#4d9221"
            ],
            [
             1,
             "#276419"
            ]
           ],
           "sequential": [
            [
             0,
             "#0d0887"
            ],
            [
             0.1111111111111111,
             "#46039f"
            ],
            [
             0.2222222222222222,
             "#7201a8"
            ],
            [
             0.3333333333333333,
             "#9c179e"
            ],
            [
             0.4444444444444444,
             "#bd3786"
            ],
            [
             0.5555555555555556,
             "#d8576b"
            ],
            [
             0.6666666666666666,
             "#ed7953"
            ],
            [
             0.7777777777777778,
             "#fb9f3a"
            ],
            [
             0.8888888888888888,
             "#fdca26"
            ],
            [
             1,
             "#f0f921"
            ]
           ],
           "sequentialminus": [
            [
             0,
             "#0d0887"
            ],
            [
             0.1111111111111111,
             "#46039f"
            ],
            [
             0.2222222222222222,
             "#7201a8"
            ],
            [
             0.3333333333333333,
             "#9c179e"
            ],
            [
             0.4444444444444444,
             "#bd3786"
            ],
            [
             0.5555555555555556,
             "#d8576b"
            ],
            [
             0.6666666666666666,
             "#ed7953"
            ],
            [
             0.7777777777777778,
             "#fb9f3a"
            ],
            [
             0.8888888888888888,
             "#fdca26"
            ],
            [
             1,
             "#f0f921"
            ]
           ]
          },
          "colorway": [
           "#636efa",
           "#EF553B",
           "#00cc96",
           "#ab63fa",
           "#FFA15A",
           "#19d3f3",
           "#FF6692",
           "#B6E880",
           "#FF97FF",
           "#FECB52"
          ],
          "font": {
           "color": "#2a3f5f"
          },
          "geo": {
           "bgcolor": "white",
           "lakecolor": "white",
           "landcolor": "#E5ECF6",
           "showlakes": true,
           "showland": true,
           "subunitcolor": "white"
          },
          "hoverlabel": {
           "align": "left"
          },
          "hovermode": "closest",
          "mapbox": {
           "style": "light"
          },
          "paper_bgcolor": "white",
          "plot_bgcolor": "#E5ECF6",
          "polar": {
           "angularaxis": {
            "gridcolor": "white",
            "linecolor": "white",
            "ticks": ""
           },
           "bgcolor": "#E5ECF6",
           "radialaxis": {
            "gridcolor": "white",
            "linecolor": "white",
            "ticks": ""
           }
          },
          "scene": {
           "xaxis": {
            "backgroundcolor": "#E5ECF6",
            "gridcolor": "white",
            "gridwidth": 2,
            "linecolor": "white",
            "showbackground": true,
            "ticks": "",
            "zerolinecolor": "white"
           },
           "yaxis": {
            "backgroundcolor": "#E5ECF6",
            "gridcolor": "white",
            "gridwidth": 2,
            "linecolor": "white",
            "showbackground": true,
            "ticks": "",
            "zerolinecolor": "white"
           },
           "zaxis": {
            "backgroundcolor": "#E5ECF6",
            "gridcolor": "white",
            "gridwidth": 2,
            "linecolor": "white",
            "showbackground": true,
            "ticks": "",
            "zerolinecolor": "white"
           }
          },
          "shapedefaults": {
           "line": {
            "color": "#2a3f5f"
           }
          },
          "ternary": {
           "aaxis": {
            "gridcolor": "white",
            "linecolor": "white",
            "ticks": ""
           },
           "baxis": {
            "gridcolor": "white",
            "linecolor": "white",
            "ticks": ""
           },
           "bgcolor": "#E5ECF6",
           "caxis": {
            "gridcolor": "white",
            "linecolor": "white",
            "ticks": ""
           }
          },
          "title": {
           "x": 0.05
          },
          "xaxis": {
           "automargin": true,
           "gridcolor": "white",
           "linecolor": "white",
           "ticks": "",
           "title": {
            "standoff": 15
           },
           "zerolinecolor": "white",
           "zerolinewidth": 2
          },
          "yaxis": {
           "automargin": true,
           "gridcolor": "white",
           "linecolor": "white",
           "ticks": "",
           "title": {
            "standoff": 15
           },
           "zerolinecolor": "white",
           "zerolinewidth": 2
          }
         }
        },
        "title": {
         "text": "Most commonly used words"
        },
        "width": 400
       }
      },
      "text/html": [
       "<div>                            <div id=\"015e4624-504e-41b8-adcb-9690eadab957\" class=\"plotly-graph-div\" style=\"height:400px; width:400px;\"></div>            <script type=\"text/javascript\">                require([\"plotly\"], function(Plotly) {                    window.PLOTLYENV=window.PLOTLYENV || {};                                    if (document.getElementById(\"015e4624-504e-41b8-adcb-9690eadab957\")) {                    Plotly.newPlot(                        \"015e4624-504e-41b8-adcb-9690eadab957\",                        [{\"branchvalues\": \"total\", \"domain\": {\"x\": [0.0, 1.0], \"y\": [0.0, 1.0]}, \"hovertemplate\": \"labels=%{label}<br>count=%{value}<br>parent=%{parent}<br>id=%{id}<extra></extra>\", \"ids\": [\"21\", \"\\uac1c\", \"\\uac70\", \"\\uacc4\\uc18d\", \"\\uacc4\\uc815\", \"\\uad11\\uace0\", \"\\uae00\", \"\\ub098\", \"\\ub370\", \"\\ub3d9\\uc601\\uc0c1\", \"\\ub54c\", \"\\ub7ed\", \"\\ub85c\\uadf8\", \"\\ub85c\\uadf8\\uc544\\uc6c3\", \"\\ub85c\\uadf8\\uc778\", \"\\ub9d0\", \"\\ubb50\", \"\\ubc88\\ud638\", \"\\ubd81\", \"\\ubd88\\ud3b8\", \"\\ube44\\ubc00\", \"\\ube44\\ubc00\\ubc88\\ud638\", \"\\uc0ac\\ub78c\", \"\\uc0ac\\uc6a9\", \"\\uc0ad\\uc81c\", \"\\uc124\\uc815\", \"\\uc218\", \"\\uc218\\uc815\", \"\\uc2a4\\ud1a0\\ub9ac\", \"\\uc544\\uc6c3\", \"\\uc548\", \"\\uc571\", \"\\uc5c5\\ub370\\uc774\\ud2b8\", \"\\uc624\\ub958\", \"\\uc774\\uac70\", \"\\uc774\\uba54\\uc77c\", \"\\uc778\", \"\\uc778\\uc99d\", \"\\uc77c\", \"\\uc800\", \"\\uc804\", \"\\uc81c\\uac00\", \"\\uc8fc\\uc138\", \"\\uc911\", \"\\ucf54\\ub4dc\", \"\\ud398\", \"\\ud398\\ubd81\", \"\\ud398\\uc774\\uc2a4\", \"\\ud398\\uc774\\uc2a4\\ubd81\", \"\\ud574\\uacb0\"], \"labels\": [\"21\", \"\\uac1c\", \"\\uac70\", \"\\uacc4\\uc18d\", \"\\uacc4\\uc815\", \"\\uad11\\uace0\", \"\\uae00\", \"\\ub098\", \"\\ub370\", \"\\ub3d9\\uc601\\uc0c1\", \"\\ub54c\", \"\\ub7ed\", \"\\ub85c\\uadf8\", \"\\ub85c\\uadf8\\uc544\\uc6c3\", \"\\ub85c\\uadf8\\uc778\", \"\\ub9d0\", \"\\ubb50\", \"\\ubc88\\ud638\", \"\\ubd81\", \"\\ubd88\\ud3b8\", \"\\ube44\\ubc00\", \"\\ube44\\ubc00\\ubc88\\ud638\", \"\\uc0ac\\ub78c\", \"\\uc0ac\\uc6a9\", \"\\uc0ad\\uc81c\", \"\\uc124\\uc815\", \"\\uc218\", \"\\uc218\\uc815\", \"\\uc2a4\\ud1a0\\ub9ac\", \"\\uc544\\uc6c3\", \"\\uc548\", \"\\uc571\", \"\\uc5c5\\ub370\\uc774\\ud2b8\", \"\\uc624\\ub958\", \"\\uc774\\uac70\", \"\\uc774\\uba54\\uc77c\", \"\\uc778\", \"\\uc778\\uc99d\", \"\\uc77c\", \"\\uc800\", \"\\uc804\", \"\\uc81c\\uac00\", \"\\uc8fc\\uc138\", \"\\uc911\", \"\\ucf54\\ub4dc\", \"\\ud398\", \"\\ud398\\ubd81\", \"\\ud398\\uc774\\uc2a4\", \"\\ud398\\uc774\\uc2a4\\ubd81\", \"\\ud574\\uacb0\"], \"name\": \"\", \"parents\": [\"\", \"\", \"\", \"\", \"\", \"\", \"\", \"\", \"\", \"\", \"\", \"\", \"\", \"\", \"\", \"\", \"\", \"\", \"\", \"\", \"\", \"\", \"\", \"\", \"\", \"\", \"\", \"\", \"\", \"\", \"\", \"\", \"\", \"\", \"\", \"\", \"\", \"\", \"\", \"\", \"\", \"\", \"\", \"\", \"\", \"\", \"\", \"\", \"\", \"\"], \"type\": \"treemap\", \"values\": [16, 15, 33, 14, 53, 11, 20, 14, 18, 15, 16, 11, 45, 15, 26, 13, 15, 31, 62, 16, 19, 19, 14, 19, 19, 23, 34, 14, 13, 16, 18, 21, 22, 33, 12, 15, 30, 13, 14, 28, 13, 12, 21, 17, 14, 27, 35, 41, 39, 12]}],                        {\"height\": 400, \"legend\": {\"tracegroupgap\": 0}, \"template\": {\"data\": {\"bar\": [{\"error_x\": {\"color\": \"#2a3f5f\"}, \"error_y\": {\"color\": \"#2a3f5f\"}, \"marker\": {\"line\": {\"color\": \"#E5ECF6\", \"width\": 0.5}}, \"type\": \"bar\"}], \"barpolar\": [{\"marker\": {\"line\": {\"color\": \"#E5ECF6\", \"width\": 0.5}}, \"type\": \"barpolar\"}], \"carpet\": [{\"aaxis\": {\"endlinecolor\": \"#2a3f5f\", \"gridcolor\": \"white\", \"linecolor\": \"white\", \"minorgridcolor\": \"white\", \"startlinecolor\": \"#2a3f5f\"}, \"baxis\": {\"endlinecolor\": \"#2a3f5f\", \"gridcolor\": \"white\", \"linecolor\": \"white\", \"minorgridcolor\": \"white\", \"startlinecolor\": \"#2a3f5f\"}, \"type\": \"carpet\"}], \"choropleth\": [{\"colorbar\": {\"outlinewidth\": 0, \"ticks\": \"\"}, \"type\": \"choropleth\"}], \"contour\": [{\"colorbar\": {\"outlinewidth\": 0, \"ticks\": \"\"}, \"colorscale\": [[0.0, \"#0d0887\"], [0.1111111111111111, \"#46039f\"], [0.2222222222222222, \"#7201a8\"], [0.3333333333333333, \"#9c179e\"], [0.4444444444444444, \"#bd3786\"], [0.5555555555555556, \"#d8576b\"], [0.6666666666666666, \"#ed7953\"], [0.7777777777777778, \"#fb9f3a\"], [0.8888888888888888, \"#fdca26\"], [1.0, \"#f0f921\"]], \"type\": \"contour\"}], \"contourcarpet\": [{\"colorbar\": {\"outlinewidth\": 0, \"ticks\": \"\"}, \"type\": \"contourcarpet\"}], \"heatmap\": [{\"colorbar\": {\"outlinewidth\": 0, \"ticks\": \"\"}, \"colorscale\": [[0.0, \"#0d0887\"], [0.1111111111111111, \"#46039f\"], [0.2222222222222222, \"#7201a8\"], [0.3333333333333333, \"#9c179e\"], [0.4444444444444444, \"#bd3786\"], [0.5555555555555556, \"#d8576b\"], [0.6666666666666666, \"#ed7953\"], [0.7777777777777778, \"#fb9f3a\"], [0.8888888888888888, \"#fdca26\"], [1.0, \"#f0f921\"]], \"type\": \"heatmap\"}], \"heatmapgl\": [{\"colorbar\": {\"outlinewidth\": 0, \"ticks\": \"\"}, \"colorscale\": [[0.0, \"#0d0887\"], [0.1111111111111111, \"#46039f\"], [0.2222222222222222, \"#7201a8\"], [0.3333333333333333, \"#9c179e\"], [0.4444444444444444, \"#bd3786\"], [0.5555555555555556, \"#d8576b\"], [0.6666666666666666, \"#ed7953\"], [0.7777777777777778, \"#fb9f3a\"], [0.8888888888888888, \"#fdca26\"], [1.0, \"#f0f921\"]], \"type\": \"heatmapgl\"}], \"histogram\": [{\"marker\": {\"colorbar\": {\"outlinewidth\": 0, \"ticks\": \"\"}}, \"type\": \"histogram\"}], \"histogram2d\": [{\"colorbar\": {\"outlinewidth\": 0, \"ticks\": \"\"}, \"colorscale\": [[0.0, \"#0d0887\"], [0.1111111111111111, \"#46039f\"], [0.2222222222222222, \"#7201a8\"], [0.3333333333333333, \"#9c179e\"], [0.4444444444444444, \"#bd3786\"], [0.5555555555555556, \"#d8576b\"], [0.6666666666666666, \"#ed7953\"], [0.7777777777777778, \"#fb9f3a\"], [0.8888888888888888, \"#fdca26\"], [1.0, \"#f0f921\"]], \"type\": \"histogram2d\"}], \"histogram2dcontour\": [{\"colorbar\": {\"outlinewidth\": 0, \"ticks\": \"\"}, \"colorscale\": [[0.0, \"#0d0887\"], [0.1111111111111111, \"#46039f\"], [0.2222222222222222, \"#7201a8\"], [0.3333333333333333, \"#9c179e\"], [0.4444444444444444, \"#bd3786\"], [0.5555555555555556, \"#d8576b\"], [0.6666666666666666, \"#ed7953\"], [0.7777777777777778, \"#fb9f3a\"], [0.8888888888888888, \"#fdca26\"], [1.0, \"#f0f921\"]], \"type\": \"histogram2dcontour\"}], \"mesh3d\": [{\"colorbar\": {\"outlinewidth\": 0, \"ticks\": \"\"}, \"type\": \"mesh3d\"}], \"parcoords\": [{\"line\": {\"colorbar\": {\"outlinewidth\": 0, \"ticks\": \"\"}}, \"type\": \"parcoords\"}], \"pie\": [{\"automargin\": true, \"type\": \"pie\"}], \"scatter\": [{\"marker\": {\"colorbar\": {\"outlinewidth\": 0, \"ticks\": \"\"}}, \"type\": \"scatter\"}], \"scatter3d\": [{\"line\": {\"colorbar\": {\"outlinewidth\": 0, \"ticks\": \"\"}}, \"marker\": {\"colorbar\": {\"outlinewidth\": 0, \"ticks\": \"\"}}, \"type\": \"scatter3d\"}], \"scattercarpet\": [{\"marker\": {\"colorbar\": {\"outlinewidth\": 0, \"ticks\": \"\"}}, \"type\": \"scattercarpet\"}], \"scattergeo\": [{\"marker\": {\"colorbar\": {\"outlinewidth\": 0, \"ticks\": \"\"}}, \"type\": \"scattergeo\"}], \"scattergl\": [{\"marker\": {\"colorbar\": {\"outlinewidth\": 0, \"ticks\": \"\"}}, \"type\": \"scattergl\"}], \"scattermapbox\": [{\"marker\": {\"colorbar\": {\"outlinewidth\": 0, \"ticks\": \"\"}}, \"type\": \"scattermapbox\"}], \"scatterpolar\": [{\"marker\": {\"colorbar\": {\"outlinewidth\": 0, \"ticks\": \"\"}}, \"type\": \"scatterpolar\"}], \"scatterpolargl\": [{\"marker\": {\"colorbar\": {\"outlinewidth\": 0, \"ticks\": \"\"}}, \"type\": \"scatterpolargl\"}], \"scatterternary\": [{\"marker\": {\"colorbar\": {\"outlinewidth\": 0, \"ticks\": \"\"}}, \"type\": \"scatterternary\"}], \"surface\": [{\"colorbar\": {\"outlinewidth\": 0, \"ticks\": \"\"}, \"colorscale\": [[0.0, \"#0d0887\"], [0.1111111111111111, \"#46039f\"], [0.2222222222222222, \"#7201a8\"], [0.3333333333333333, \"#9c179e\"], [0.4444444444444444, \"#bd3786\"], [0.5555555555555556, \"#d8576b\"], [0.6666666666666666, \"#ed7953\"], [0.7777777777777778, \"#fb9f3a\"], [0.8888888888888888, \"#fdca26\"], [1.0, \"#f0f921\"]], \"type\": \"surface\"}], \"table\": [{\"cells\": {\"fill\": {\"color\": \"#EBF0F8\"}, \"line\": {\"color\": \"white\"}}, \"header\": {\"fill\": {\"color\": \"#C8D4E3\"}, \"line\": {\"color\": \"white\"}}, \"type\": \"table\"}]}, \"layout\": {\"annotationdefaults\": {\"arrowcolor\": \"#2a3f5f\", \"arrowhead\": 0, \"arrowwidth\": 1}, \"coloraxis\": {\"colorbar\": {\"outlinewidth\": 0, \"ticks\": \"\"}}, \"colorscale\": {\"diverging\": [[0, \"#8e0152\"], [0.1, \"#c51b7d\"], [0.2, \"#de77ae\"], [0.3, \"#f1b6da\"], [0.4, \"#fde0ef\"], [0.5, \"#f7f7f7\"], [0.6, \"#e6f5d0\"], [0.7, \"#b8e186\"], [0.8, \"#7fbc41\"], [0.9, \"#4d9221\"], [1, \"#276419\"]], \"sequential\": [[0.0, \"#0d0887\"], [0.1111111111111111, \"#46039f\"], [0.2222222222222222, \"#7201a8\"], [0.3333333333333333, \"#9c179e\"], [0.4444444444444444, \"#bd3786\"], [0.5555555555555556, \"#d8576b\"], [0.6666666666666666, \"#ed7953\"], [0.7777777777777778, \"#fb9f3a\"], [0.8888888888888888, \"#fdca26\"], [1.0, \"#f0f921\"]], \"sequentialminus\": [[0.0, \"#0d0887\"], [0.1111111111111111, \"#46039f\"], [0.2222222222222222, \"#7201a8\"], [0.3333333333333333, \"#9c179e\"], [0.4444444444444444, \"#bd3786\"], [0.5555555555555556, \"#d8576b\"], [0.6666666666666666, \"#ed7953\"], [0.7777777777777778, \"#fb9f3a\"], [0.8888888888888888, \"#fdca26\"], [1.0, \"#f0f921\"]]}, \"colorway\": [\"#636efa\", \"#EF553B\", \"#00cc96\", \"#ab63fa\", \"#FFA15A\", \"#19d3f3\", \"#FF6692\", \"#B6E880\", \"#FF97FF\", \"#FECB52\"], \"font\": {\"color\": \"#2a3f5f\"}, \"geo\": {\"bgcolor\": \"white\", \"lakecolor\": \"white\", \"landcolor\": \"#E5ECF6\", \"showlakes\": true, \"showland\": true, \"subunitcolor\": \"white\"}, \"hoverlabel\": {\"align\": \"left\"}, \"hovermode\": \"closest\", \"mapbox\": {\"style\": \"light\"}, \"paper_bgcolor\": \"white\", \"plot_bgcolor\": \"#E5ECF6\", \"polar\": {\"angularaxis\": {\"gridcolor\": \"white\", \"linecolor\": \"white\", \"ticks\": \"\"}, \"bgcolor\": \"#E5ECF6\", \"radialaxis\": {\"gridcolor\": \"white\", \"linecolor\": \"white\", \"ticks\": \"\"}}, \"scene\": {\"xaxis\": {\"backgroundcolor\": \"#E5ECF6\", \"gridcolor\": \"white\", \"gridwidth\": 2, \"linecolor\": \"white\", \"showbackground\": true, \"ticks\": \"\", \"zerolinecolor\": \"white\"}, \"yaxis\": {\"backgroundcolor\": \"#E5ECF6\", \"gridcolor\": \"white\", \"gridwidth\": 2, \"linecolor\": \"white\", \"showbackground\": true, \"ticks\": \"\", \"zerolinecolor\": \"white\"}, \"zaxis\": {\"backgroundcolor\": \"#E5ECF6\", \"gridcolor\": \"white\", \"gridwidth\": 2, \"linecolor\": \"white\", \"showbackground\": true, \"ticks\": \"\", \"zerolinecolor\": \"white\"}}, \"shapedefaults\": {\"line\": {\"color\": \"#2a3f5f\"}}, \"ternary\": {\"aaxis\": {\"gridcolor\": \"white\", \"linecolor\": \"white\", \"ticks\": \"\"}, \"baxis\": {\"gridcolor\": \"white\", \"linecolor\": \"white\", \"ticks\": \"\"}, \"bgcolor\": \"#E5ECF6\", \"caxis\": {\"gridcolor\": \"white\", \"linecolor\": \"white\", \"ticks\": \"\"}}, \"title\": {\"x\": 0.05}, \"xaxis\": {\"automargin\": true, \"gridcolor\": \"white\", \"linecolor\": \"white\", \"ticks\": \"\", \"title\": {\"standoff\": 15}, \"zerolinecolor\": \"white\", \"zerolinewidth\": 2}, \"yaxis\": {\"automargin\": true, \"gridcolor\": \"white\", \"linecolor\": \"white\", \"ticks\": \"\", \"title\": {\"standoff\": 15}, \"zerolinecolor\": \"white\", \"zerolinewidth\": 2}}}, \"title\": {\"text\": \"Most commonly used words\"}, \"width\": 400},                        {\"responsive\": true}                    ).then(function(){\n",
       "                            \n",
       "var gd = document.getElementById('015e4624-504e-41b8-adcb-9690eadab957');\n",
       "var x = new MutationObserver(function (mutations, observer) {{\n",
       "        var display = window.getComputedStyle(gd).display;\n",
       "        if (!display || display === 'none') {{\n",
       "            console.log([gd, 'removed!']);\n",
       "            Plotly.purge(gd);\n",
       "            observer.disconnect();\n",
       "        }}\n",
       "}});\n",
       "\n",
       "// Listen for the removal of the full notebook cells\n",
       "var notebookContainer = gd.closest('#notebook-container');\n",
       "if (notebookContainer) {{\n",
       "    x.observe(notebookContainer, {childList: true});\n",
       "}}\n",
       "\n",
       "// Listen for the clearing of the current output cell\n",
       "var outputEl = gd.closest('.output');\n",
       "if (outputEl) {{\n",
       "    x.observe(outputEl, {childList: true});\n",
       "}}\n",
       "\n",
       "                        })                };                });            </script>        </div>"
      ]
     },
     "metadata": {},
     "output_type": "display_data"
    }
   ],
   "source": [
    "import plotly.express as px\n",
    "\n",
    "px.treemap(common_review, \n",
    "           path=['Word'], values='count',\n",
    "           title='Most commonly used words',\n",
    "          width=400, height=400)"
   ]
  },
  {
   "cell_type": "code",
   "execution_count": null,
   "id": "fuzzy-instruction",
   "metadata": {},
   "outputs": [],
   "source": []
  }
 ],
 "metadata": {
  "kernelspec": {
   "display_name": "Python 3",
   "language": "python",
   "name": "python3"
  },
  "language_info": {
   "codemirror_mode": {
    "name": "ipython",
    "version": 3
   },
   "file_extension": ".py",
   "mimetype": "text/x-python",
   "name": "python",
   "nbconvert_exporter": "python",
   "pygments_lexer": "ipython3",
   "version": "3.7.0"
  }
 },
 "nbformat": 4,
 "nbformat_minor": 5
}
