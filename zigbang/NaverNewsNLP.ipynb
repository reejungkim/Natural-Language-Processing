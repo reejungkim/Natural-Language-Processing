{
 "cells": [
  {
   "cell_type": "markdown",
   "id": "b7f1d3e9",
   "metadata": {},
   "source": [
    "# Korean NLP\n",
    "\n",
    "[Data source](https://play.google.com/store/apps/details?id=com.facebook.katana&hl=ko&gl=US&showAllReviews=true)\n",
    "\n",
    "[web cralwer](http://localhost:8888/notebooks/Documents/Git/WebCrawler/Google%20App%20Play%20Web%20Scraping.ipynb)"
   ]
  },
  {
   "cell_type": "code",
   "execution_count": 1,
   "id": "22745f93",
   "metadata": {},
   "outputs": [],
   "source": [
    "import pandas as pd\n",
    "import numpy as np\n",
    "import os\n",
    "import datetime as dt\n",
    "\n",
    "import emoji\n",
    "\n",
    "import matplotlib.pyplot as plt\n",
    "import warnings\n",
    "warnings.filterwarnings('ignore')\n",
    "\n",
    "import urllib.request"
   ]
  },
  {
   "cell_type": "code",
   "execution_count": 2,
   "id": "e90e9f9c",
   "metadata": {},
   "outputs": [],
   "source": [
    "import konlpy"
   ]
  },
  {
   "cell_type": "code",
   "execution_count": 3,
   "id": "2ab42a33",
   "metadata": {},
   "outputs": [],
   "source": [
    "from konlpy.utils import pprint"
   ]
  },
  {
   "cell_type": "markdown",
   "id": "04f4a22b",
   "metadata": {},
   "source": [
    "!pip install soylemma"
   ]
  },
  {
   "cell_type": "code",
   "execution_count": 4,
   "id": "636d30ec",
   "metadata": {},
   "outputs": [],
   "source": [
    "from soylemma import Lemmatizer"
   ]
  },
  {
   "cell_type": "code",
   "execution_count": 5,
   "id": "daf968fe",
   "metadata": {},
   "outputs": [
    {
     "data": {
      "text/plain": [
       "[(('주', 'Verb'), ('ㄴ다는데', 'Eomi')), (('줄', 'Verb'), ('ㄴ다는데', 'Eomi'))]"
      ]
     },
     "execution_count": 5,
     "metadata": {},
     "output_type": "execute_result"
    }
   ],
   "source": [
    "lemmatizer = Lemmatizer()\n",
    "lemmatizer.analyze('준다는데')"
   ]
  },
  {
   "cell_type": "code",
   "execution_count": 45,
   "id": "b9aa5007",
   "metadata": {},
   "outputs": [],
   "source": [
    "file = r\"/Users/reejungkim/Documents/Git/WebCrawler/아실에 따르면.xlsx\""
   ]
  },
  {
   "cell_type": "code",
   "execution_count": 46,
   "id": "cb869102",
   "metadata": {
    "scrolled": false
   },
   "outputs": [],
   "source": [
    "df = pd.read_excel(file, index_col=None)"
   ]
  },
  {
   "cell_type": "code",
   "execution_count": 47,
   "id": "abee8bec",
   "metadata": {},
   "outputs": [
    {
     "data": {
      "text/html": [
       "<div>\n",
       "<style scoped>\n",
       "    .dataframe tbody tr th:only-of-type {\n",
       "        vertical-align: middle;\n",
       "    }\n",
       "\n",
       "    .dataframe tbody tr th {\n",
       "        vertical-align: top;\n",
       "    }\n",
       "\n",
       "    .dataframe thead th {\n",
       "        text-align: right;\n",
       "    }\n",
       "</style>\n",
       "<table border=\"1\" class=\"dataframe\">\n",
       "  <thead>\n",
       "    <tr style=\"text-align: right;\">\n",
       "      <th></th>\n",
       "      <th>Unnamed: 0</th>\n",
       "      <th>description</th>\n",
       "      <th>link</th>\n",
       "      <th>org_link</th>\n",
       "      <th>pDate</th>\n",
       "      <th>title</th>\n",
       "    </tr>\n",
       "  </thead>\n",
       "  <tbody>\n",
       "    <tr>\n",
       "      <th>0</th>\n",
       "      <td>0</td>\n",
       "      <td>20일(한국시간) 영국 스카이 스포츠에 &lt;b&gt;따르면&lt;/b&gt; 살리바는 &amp;quot;조국...</td>\n",
       "      <td>https://www.xportsnews.com/article/1631907</td>\n",
       "      <td>https://www.xportsnews.com/article/1631907</td>\n",
       "      <td>2022-09-20 12:41:00</td>\n",
       "      <td>&amp;apos;임대 전전→폭풍 성장&amp;apos; 아스널 핵심 CB...&amp;quot;월드컵 ...</td>\n",
       "    </tr>\n",
       "    <tr>\n",
       "      <th>1</th>\n",
       "      <td>1</td>\n",
       "      <td>부동산 빅데이터 업체 &lt;b&gt;아실에 따르면&lt;/b&gt; 지난달 서울 아파트 전월세 매물(2...</td>\n",
       "      <td>http://www.seoulwire.com/news/articleView.html...</td>\n",
       "      <td>http://www.seoulwire.com/news/articleView.html...</td>\n",
       "      <td>2022-09-20 10:34:00</td>\n",
       "      <td>[메타센서] 폭락하는 아파트 어떻게 사는게 유리할까...&amp;apos;경매냐 중개냐&amp;a...</td>\n",
       "    </tr>\n",
       "    <tr>\n",
       "      <th>2</th>\n",
       "      <td>2</td>\n",
       "      <td>부동산 빅데이터 업체 &lt;b&gt;아실에 따르면&lt;/b&gt;, 포항의 적정 수요 물량은 2492...</td>\n",
       "      <td>https://biz.chosun.com/real_estate/real_estate...</td>\n",
       "      <td>https://biz.chosun.com/real_estate/real_estate...</td>\n",
       "      <td>2022-09-20 06:01:00</td>\n",
       "      <td>‘미분양 전국 1위’ 포항의 깊어지는 시름</td>\n",
       "    </tr>\n",
       "    <tr>\n",
       "      <th>3</th>\n",
       "      <td>3</td>\n",
       "      <td>부동산 빅데이터 업체 &lt;b&gt;아실에 따르면&lt;/b&gt; 이날 기준 서구 아파트 전세 물건은...</td>\n",
       "      <td>http://www.incheonin.com/news/articleView.html...</td>\n",
       "      <td>http://www.incheonin.com/news/articleView.html...</td>\n",
       "      <td>2022-09-19 18:00:00</td>\n",
       "      <td>검단 전셋값 급락, 역전세난 우려... 전용 84㎡ 1.9억까지 떨어져</td>\n",
       "    </tr>\n",
       "    <tr>\n",
       "      <th>4</th>\n",
       "      <td>4</td>\n",
       "      <td>19일 부동산 빅데이터 전문업체 &lt;b&gt;아실에 따르면&lt;/b&gt; 전날(18일) 기준 1기...</td>\n",
       "      <td>http://www.sisajournal-e.com/news/articleView....</td>\n",
       "      <td>http://www.sisajournal-e.com/news/articleView....</td>\n",
       "      <td>2022-09-19 17:08:00</td>\n",
       "      <td>8·16대책 발표 한 달···1기 신도시 여전히 혼돈 속</td>\n",
       "    </tr>\n",
       "  </tbody>\n",
       "</table>\n",
       "</div>"
      ],
      "text/plain": [
       "   Unnamed: 0                                        description  \\\n",
       "0           0  20일(한국시간) 영국 스카이 스포츠에 <b>따르면</b> 살리바는 &quot;조국...   \n",
       "1           1  부동산 빅데이터 업체 <b>아실에 따르면</b> 지난달 서울 아파트 전월세 매물(2...   \n",
       "2           2  부동산 빅데이터 업체 <b>아실에 따르면</b>, 포항의 적정 수요 물량은 2492...   \n",
       "3           3  부동산 빅데이터 업체 <b>아실에 따르면</b> 이날 기준 서구 아파트 전세 물건은...   \n",
       "4           4  19일 부동산 빅데이터 전문업체 <b>아실에 따르면</b> 전날(18일) 기준 1기...   \n",
       "\n",
       "                                                link  \\\n",
       "0         https://www.xportsnews.com/article/1631907   \n",
       "1  http://www.seoulwire.com/news/articleView.html...   \n",
       "2  https://biz.chosun.com/real_estate/real_estate...   \n",
       "3  http://www.incheonin.com/news/articleView.html...   \n",
       "4  http://www.sisajournal-e.com/news/articleView....   \n",
       "\n",
       "                                            org_link                pDate  \\\n",
       "0         https://www.xportsnews.com/article/1631907  2022-09-20 12:41:00   \n",
       "1  http://www.seoulwire.com/news/articleView.html...  2022-09-20 10:34:00   \n",
       "2  https://biz.chosun.com/real_estate/real_estate...  2022-09-20 06:01:00   \n",
       "3  http://www.incheonin.com/news/articleView.html...  2022-09-19 18:00:00   \n",
       "4  http://www.sisajournal-e.com/news/articleView....  2022-09-19 17:08:00   \n",
       "\n",
       "                                               title  \n",
       "0  &apos;임대 전전→폭풍 성장&apos; 아스널 핵심 CB...&quot;월드컵 ...  \n",
       "1  [메타센서] 폭락하는 아파트 어떻게 사는게 유리할까...&apos;경매냐 중개냐&a...  \n",
       "2                            ‘미분양 전국 1위’ 포항의 깊어지는 시름  \n",
       "3            검단 전셋값 급락, 역전세난 우려... 전용 84㎡ 1.9억까지 떨어져  \n",
       "4                    8·16대책 발표 한 달···1기 신도시 여전히 혼돈 속  "
      ]
     },
     "execution_count": 47,
     "metadata": {},
     "output_type": "execute_result"
    }
   ],
   "source": [
    "df.head()"
   ]
  },
  {
   "cell_type": "markdown",
   "id": "a4480172",
   "metadata": {},
   "source": [
    "# 탐색적 분석 (EDA) "
   ]
  },
  {
   "cell_type": "code",
   "execution_count": 48,
   "id": "1244e001",
   "metadata": {},
   "outputs": [
    {
     "data": {
      "text/plain": [
       "(1000, 6)"
      ]
     },
     "execution_count": 48,
     "metadata": {},
     "output_type": "execute_result"
    }
   ],
   "source": [
    "df.shape"
   ]
  },
  {
   "cell_type": "code",
   "execution_count": 49,
   "id": "eb1d0a5f",
   "metadata": {},
   "outputs": [
    {
     "name": "stdout",
     "output_type": "stream",
     "text": [
      "<class 'pandas.core.frame.DataFrame'>\n",
      "RangeIndex: 1000 entries, 0 to 999\n",
      "Data columns (total 6 columns):\n",
      " #   Column       Non-Null Count  Dtype \n",
      "---  ------       --------------  ----- \n",
      " 0   Unnamed: 0   1000 non-null   int64 \n",
      " 1   description  1000 non-null   object\n",
      " 2   link         996 non-null    object\n",
      " 3   org_link     996 non-null    object\n",
      " 4   pDate        1000 non-null   object\n",
      " 5   title        1000 non-null   object\n",
      "dtypes: int64(1), object(5)\n",
      "memory usage: 47.0+ KB\n"
     ]
    }
   ],
   "source": [
    "df.info()"
   ]
  },
  {
   "cell_type": "code",
   "execution_count": 50,
   "id": "a7740757",
   "metadata": {},
   "outputs": [],
   "source": [
    "df['pDate'] = pd.to_datetime(df['pDate'])"
   ]
  },
  {
   "cell_type": "code",
   "execution_count": 51,
   "id": "5d9d787e",
   "metadata": {},
   "outputs": [],
   "source": [
    "df['year-m'] = df['pDate'].dt.strftime('%Y-%m')"
   ]
  },
  {
   "cell_type": "code",
   "execution_count": 52,
   "id": "7101aaeb",
   "metadata": {
    "scrolled": true
   },
   "outputs": [
    {
     "data": {
      "text/html": [
       "<div>\n",
       "<style scoped>\n",
       "    .dataframe tbody tr th:only-of-type {\n",
       "        vertical-align: middle;\n",
       "    }\n",
       "\n",
       "    .dataframe tbody tr th {\n",
       "        vertical-align: top;\n",
       "    }\n",
       "\n",
       "    .dataframe thead th {\n",
       "        text-align: right;\n",
       "    }\n",
       "</style>\n",
       "<table border=\"1\" class=\"dataframe\">\n",
       "  <thead>\n",
       "    <tr style=\"text-align: right;\">\n",
       "      <th></th>\n",
       "      <th>Unnamed: 0</th>\n",
       "      <th>description</th>\n",
       "      <th>link</th>\n",
       "      <th>org_link</th>\n",
       "      <th>pDate</th>\n",
       "      <th>title</th>\n",
       "      <th>year-m</th>\n",
       "    </tr>\n",
       "  </thead>\n",
       "  <tbody>\n",
       "    <tr>\n",
       "      <th>0</th>\n",
       "      <td>0</td>\n",
       "      <td>20일(한국시간) 영국 스카이 스포츠에 &lt;b&gt;따르면&lt;/b&gt; 살리바는 &amp;quot;조국...</td>\n",
       "      <td>https://www.xportsnews.com/article/1631907</td>\n",
       "      <td>https://www.xportsnews.com/article/1631907</td>\n",
       "      <td>2022-09-20 12:41:00</td>\n",
       "      <td>&amp;apos;임대 전전→폭풍 성장&amp;apos; 아스널 핵심 CB...&amp;quot;월드컵 ...</td>\n",
       "      <td>2022-09</td>\n",
       "    </tr>\n",
       "    <tr>\n",
       "      <th>1</th>\n",
       "      <td>1</td>\n",
       "      <td>부동산 빅데이터 업체 &lt;b&gt;아실에 따르면&lt;/b&gt; 지난달 서울 아파트 전월세 매물(2...</td>\n",
       "      <td>http://www.seoulwire.com/news/articleView.html...</td>\n",
       "      <td>http://www.seoulwire.com/news/articleView.html...</td>\n",
       "      <td>2022-09-20 10:34:00</td>\n",
       "      <td>[메타센서] 폭락하는 아파트 어떻게 사는게 유리할까...&amp;apos;경매냐 중개냐&amp;a...</td>\n",
       "      <td>2022-09</td>\n",
       "    </tr>\n",
       "  </tbody>\n",
       "</table>\n",
       "</div>"
      ],
      "text/plain": [
       "   Unnamed: 0                                        description  \\\n",
       "0           0  20일(한국시간) 영국 스카이 스포츠에 <b>따르면</b> 살리바는 &quot;조국...   \n",
       "1           1  부동산 빅데이터 업체 <b>아실에 따르면</b> 지난달 서울 아파트 전월세 매물(2...   \n",
       "\n",
       "                                                link  \\\n",
       "0         https://www.xportsnews.com/article/1631907   \n",
       "1  http://www.seoulwire.com/news/articleView.html...   \n",
       "\n",
       "                                            org_link               pDate  \\\n",
       "0         https://www.xportsnews.com/article/1631907 2022-09-20 12:41:00   \n",
       "1  http://www.seoulwire.com/news/articleView.html... 2022-09-20 10:34:00   \n",
       "\n",
       "                                               title   year-m  \n",
       "0  &apos;임대 전전→폭풍 성장&apos; 아스널 핵심 CB...&quot;월드컵 ...  2022-09  \n",
       "1  [메타센서] 폭락하는 아파트 어떻게 사는게 유리할까...&apos;경매냐 중개냐&a...  2022-09  "
      ]
     },
     "execution_count": 52,
     "metadata": {},
     "output_type": "execute_result"
    }
   ],
   "source": [
    "df.head(2)"
   ]
  },
  {
   "cell_type": "code",
   "execution_count": 53,
   "id": "fe8f54ba",
   "metadata": {},
   "outputs": [],
   "source": [
    "import seaborn as sns\n",
    "sns.set_palette(\"light:#5A9\")"
   ]
  },
  {
   "cell_type": "markdown",
   "id": "9ef9b4d9",
   "metadata": {},
   "source": [
    "plt.figure(figsize=(5,3))\n",
    "\n",
    "ax = df.groupby('year-m')['review'].count().plot(kind='bar', color='green')\n",
    "ax.set_xticklabels(ax.get_xticklabels(), rotation=40, ha=\"right\")\n",
    "plt.title(\"Number of reviews added\")\n",
    "plt.tight_layout()\n",
    "plt.show()"
   ]
  },
  {
   "cell_type": "markdown",
   "id": "d4232cc9",
   "metadata": {},
   "source": [
    "plt.figure(figsize=(7,5))\n",
    "sns.countplot(x='at',data=df, hue='star', dodge=False, order=df['at'].sort_values().unique()) \n",
    "plt.show()"
   ]
  },
  {
   "cell_type": "markdown",
   "id": "6e8e5141",
   "metadata": {},
   "source": [
    "## 텍스트 정재 Clean texts"
   ]
  },
  {
   "cell_type": "markdown",
   "id": "697e834f",
   "metadata": {},
   "source": [
    "### Clean star rating"
   ]
  },
  {
   "cell_type": "code",
   "execution_count": 54,
   "id": "b678af49",
   "metadata": {},
   "outputs": [],
   "source": [
    "pd.pivot_table(df,index='year-m',values='title',\n",
    "               aggfunc ='count', margins=True).to_csv('pvt_asil.csv')"
   ]
  },
  {
   "cell_type": "markdown",
   "id": "9eec1fb0",
   "metadata": {},
   "source": [
    "### 명사 추출 (Extract nouns)"
   ]
  },
  {
   "cell_type": "markdown",
   "id": "2d78b301",
   "metadata": {},
   "source": [
    "kkma과 okt의 다른점"
   ]
  },
  {
   "cell_type": "markdown",
   "id": "4f9f2cb5",
   "metadata": {},
   "source": [
    "Okt는 Kkma에 비해 비교적 빠른 속도로 처리하지만 지원하는 품사 태그가 적다. \n",
    "속도가 중요할 때는 Okt를, 정확한 품사 정보가 필요할 때는 Kkma를 많이 사용.\n"
   ]
  },
  {
   "cell_type": "markdown",
   "id": "7a04833b",
   "metadata": {},
   "source": [
    "http://kkma.snu.ac.kr/documents/?doc=postag"
   ]
  },
  {
   "cell_type": "code",
   "execution_count": 16,
   "id": "4bab6016",
   "metadata": {},
   "outputs": [
    {
     "name": "stdout",
     "output_type": "stream",
     "text": [
      "kkma 사용: ['로그', '로그인', '인']\n",
      "okt 사용: ['로그인']\n"
     ]
    }
   ],
   "source": [
    "from konlpy.tag import Kkma\n",
    "kkma = Kkma()\n",
    "\n",
    "from konlpy.tag import Okt\n",
    "okt = Okt()\n",
    "\n",
    "print('kkma 사용: {}'.format(kkma.nouns(\"로그인이 안돼요\")))\n",
    "print('okt 사용: {}'.format(okt.nouns(\"로그인이 안돼요\")))"
   ]
  },
  {
   "cell_type": "code",
   "execution_count": 17,
   "id": "1c55736f",
   "metadata": {},
   "outputs": [
    {
     "name": "stdout",
     "output_type": "stream",
     "text": [
      "[('하', 'VV'), ('었', 'EPT'), ('다', 'EFN')]\n",
      "[('하', 'VV'), ('었', 'EPT'), ('지만', 'ECE')]\n",
      "[('하면서', 'NNG'), ('도', 'JX')]\n",
      "[('하', 'VV'), ('었', 'EPT'), ('던', 'EFQ')]\n",
      "[('하', 'VV'), ('니까', 'ECD')]\n"
     ]
    }
   ],
   "source": [
    "\n",
    "from konlpy.tag import Kkma #Twitter\n",
    "\n",
    "for word in ['했다', '했지만', '하면서도', '했던', '하니까']:\n",
    "    print(kkma.pos(word))"
   ]
  },
  {
   "cell_type": "code",
   "execution_count": 55,
   "id": "b71bbf5b",
   "metadata": {},
   "outputs": [],
   "source": [
    "df['title_nouns'] = df['title'].apply(lambda x: okt.nouns(x))"
   ]
  },
  {
   "cell_type": "code",
   "execution_count": 56,
   "id": "eb8d4e38",
   "metadata": {},
   "outputs": [
    {
     "data": {
      "text/html": [
       "<div>\n",
       "<style scoped>\n",
       "    .dataframe tbody tr th:only-of-type {\n",
       "        vertical-align: middle;\n",
       "    }\n",
       "\n",
       "    .dataframe tbody tr th {\n",
       "        vertical-align: top;\n",
       "    }\n",
       "\n",
       "    .dataframe thead th {\n",
       "        text-align: right;\n",
       "    }\n",
       "</style>\n",
       "<table border=\"1\" class=\"dataframe\">\n",
       "  <thead>\n",
       "    <tr style=\"text-align: right;\">\n",
       "      <th></th>\n",
       "      <th>Unnamed: 0</th>\n",
       "      <th>description</th>\n",
       "      <th>link</th>\n",
       "      <th>org_link</th>\n",
       "      <th>pDate</th>\n",
       "      <th>title</th>\n",
       "      <th>year-m</th>\n",
       "      <th>title_nouns</th>\n",
       "    </tr>\n",
       "  </thead>\n",
       "  <tbody>\n",
       "    <tr>\n",
       "      <th>0</th>\n",
       "      <td>0</td>\n",
       "      <td>20일(한국시간) 영국 스카이 스포츠에 &lt;b&gt;따르면&lt;/b&gt; 살리바는 &amp;quot;조국...</td>\n",
       "      <td>https://www.xportsnews.com/article/1631907</td>\n",
       "      <td>https://www.xportsnews.com/article/1631907</td>\n",
       "      <td>2022-09-20 12:41:00</td>\n",
       "      <td>&amp;apos;임대 전전→폭풍 성장&amp;apos; 아스널 핵심 CB...&amp;quot;월드컵 ...</td>\n",
       "      <td>2022-09</td>\n",
       "      <td>[임대, 전전, 폭풍, 성장, 아스널, 핵심, 월드컵, 꼭]</td>\n",
       "    </tr>\n",
       "    <tr>\n",
       "      <th>1</th>\n",
       "      <td>1</td>\n",
       "      <td>부동산 빅데이터 업체 &lt;b&gt;아실에 따르면&lt;/b&gt; 지난달 서울 아파트 전월세 매물(2...</td>\n",
       "      <td>http://www.seoulwire.com/news/articleView.html...</td>\n",
       "      <td>http://www.seoulwire.com/news/articleView.html...</td>\n",
       "      <td>2022-09-20 10:34:00</td>\n",
       "      <td>[메타센서] 폭락하는 아파트 어떻게 사는게 유리할까...&amp;apos;경매냐 중개냐&amp;a...</td>\n",
       "      <td>2022-09</td>\n",
       "      <td>[메타, 센서, 폭락, 아파트, 경매, 중개]</td>\n",
       "    </tr>\n",
       "    <tr>\n",
       "      <th>2</th>\n",
       "      <td>2</td>\n",
       "      <td>부동산 빅데이터 업체 &lt;b&gt;아실에 따르면&lt;/b&gt;, 포항의 적정 수요 물량은 2492...</td>\n",
       "      <td>https://biz.chosun.com/real_estate/real_estate...</td>\n",
       "      <td>https://biz.chosun.com/real_estate/real_estate...</td>\n",
       "      <td>2022-09-20 06:01:00</td>\n",
       "      <td>‘미분양 전국 1위’ 포항의 깊어지는 시름</td>\n",
       "      <td>2022-09</td>\n",
       "      <td>[미분, 전국, 위, 포항, 시름]</td>\n",
       "    </tr>\n",
       "  </tbody>\n",
       "</table>\n",
       "</div>"
      ],
      "text/plain": [
       "   Unnamed: 0                                        description  \\\n",
       "0           0  20일(한국시간) 영국 스카이 스포츠에 <b>따르면</b> 살리바는 &quot;조국...   \n",
       "1           1  부동산 빅데이터 업체 <b>아실에 따르면</b> 지난달 서울 아파트 전월세 매물(2...   \n",
       "2           2  부동산 빅데이터 업체 <b>아실에 따르면</b>, 포항의 적정 수요 물량은 2492...   \n",
       "\n",
       "                                                link  \\\n",
       "0         https://www.xportsnews.com/article/1631907   \n",
       "1  http://www.seoulwire.com/news/articleView.html...   \n",
       "2  https://biz.chosun.com/real_estate/real_estate...   \n",
       "\n",
       "                                            org_link               pDate  \\\n",
       "0         https://www.xportsnews.com/article/1631907 2022-09-20 12:41:00   \n",
       "1  http://www.seoulwire.com/news/articleView.html... 2022-09-20 10:34:00   \n",
       "2  https://biz.chosun.com/real_estate/real_estate... 2022-09-20 06:01:00   \n",
       "\n",
       "                                               title   year-m  \\\n",
       "0  &apos;임대 전전→폭풍 성장&apos; 아스널 핵심 CB...&quot;월드컵 ...  2022-09   \n",
       "1  [메타센서] 폭락하는 아파트 어떻게 사는게 유리할까...&apos;경매냐 중개냐&a...  2022-09   \n",
       "2                            ‘미분양 전국 1위’ 포항의 깊어지는 시름  2022-09   \n",
       "\n",
       "                         title_nouns  \n",
       "0  [임대, 전전, 폭풍, 성장, 아스널, 핵심, 월드컵, 꼭]  \n",
       "1          [메타, 센서, 폭락, 아파트, 경매, 중개]  \n",
       "2                [미분, 전국, 위, 포항, 시름]  "
      ]
     },
     "execution_count": 56,
     "metadata": {},
     "output_type": "execute_result"
    }
   ],
   "source": [
    "df.head(3)"
   ]
  },
  {
   "cell_type": "markdown",
   "id": "9ae1f688",
   "metadata": {},
   "source": [
    "### 불용어 정리 Remove Stopwords"
   ]
  },
  {
   "cell_type": "markdown",
   "id": "e4a8e807",
   "metadata": {},
   "source": [
    "stopwords = ['덕분', '안', '중','때문', '짓', '이것', '하', '거', '식', '시', '앱', '뭐', '데','나', '개','페', '주세',\n",
    "             '이거', '일', '업', '북', '인', '구', '저', '해','해보고','대','여', '페북', '페이스북', '페이스', '수', \n",
    "             '전', '제가','제','것','이것' , '좀', '왜','어째서', '재', '때', '계속', '후', '다시', '요','를', '을', \n",
    "             '무슨','못','사', '진짜', '제발','비', '자꾸', '츠궁']"
   ]
  },
  {
   "cell_type": "markdown",
   "id": "7a5a1cf2",
   "metadata": {},
   "source": [
    "with open('/Users/reejungkim/Documents/Git/NLP/한국어불용어100.txt') as f:\n",
    "    lines = f.readlines()\n",
    "    result=[]\n",
    "    for x in lines:\n",
    "        result.append(x.split('\\t')[0])\n",
    "    f.close()\n"
   ]
  },
  {
   "cell_type": "code",
   "execution_count": 168,
   "id": "f5f1b7db",
   "metadata": {},
   "outputs": [],
   "source": [
    "stopwords = stopwords + result"
   ]
  },
  {
   "cell_type": "code",
   "execution_count": 169,
   "id": "f2075537",
   "metadata": {},
   "outputs": [],
   "source": [
    "def removeStopWords(Noun_words):\n",
    "    unique_Noun_words = set(Noun_words)\n",
    "    for word in unique_Noun_words:\n",
    "        if word in stopwords:\n",
    "            while word in Noun_words: \n",
    "                Noun_words.remove(word) \n",
    "    return Noun_words"
   ]
  },
  {
   "cell_type": "code",
   "execution_count": 170,
   "id": "a2659d6b",
   "metadata": {
    "scrolled": true
   },
   "outputs": [],
   "source": [
    "df['nouns'] = df['nouns'].apply(lambda x: removeStopWords(x))"
   ]
  },
  {
   "cell_type": "code",
   "execution_count": 171,
   "id": "a8d760df",
   "metadata": {},
   "outputs": [],
   "source": [
    "from nltk.corpus import stopwords\n",
    "from nltk.tokenize import word_tokenize\n",
    "\n",
    "from nltk.classify import NaiveBayesClassifier\n",
    "from nltk.corpus import subjectivity\n",
    "from nltk.sentiment import SentimentAnalyzer\n",
    "from nltk.sentiment.util import *"
   ]
  },
  {
   "cell_type": "markdown",
   "id": "d2a7be2e",
   "metadata": {},
   "source": [
    "### Counter"
   ]
  },
  {
   "cell_type": "code",
   "execution_count": 57,
   "id": "141b77d9",
   "metadata": {},
   "outputs": [],
   "source": [
    "from collections import Counter"
   ]
  },
  {
   "cell_type": "code",
   "execution_count": 58,
   "id": "5837e1ed",
   "metadata": {},
   "outputs": [
    {
     "name": "stdout",
     "output_type": "stream",
     "text": [
      "[('임대', 1), ('전전', 1), ('폭풍', 1), ('성장', 1), ('아스널', 1), ('핵심', 1), ('월드컵', 1), ('꼭', 1)]\n"
     ]
    }
   ],
   "source": [
    "#카운터 쓰임예제\n",
    "c = Counter(df.title_nouns[0])\n",
    "print(c.most_common(10))"
   ]
  },
  {
   "cell_type": "markdown",
   "id": "6e4ed22f",
   "metadata": {},
   "source": []
  },
  {
   "cell_type": "code",
   "execution_count": 59,
   "id": "12087c5d",
   "metadata": {},
   "outputs": [],
   "source": [
    "def common_words(df, col, n):\n",
    "    counts = Counter([item for sublist in df[col] for item in sublist])\n",
    "    common_words = pd.DataFrame(counts.most_common(n))\n",
    "    common_words.columns =['Word','count']\n",
    "    return common_words"
   ]
  },
  {
   "cell_type": "code",
   "execution_count": 60,
   "id": "b164ac8a",
   "metadata": {
    "scrolled": true
   },
   "outputs": [],
   "source": [
    "common_review = common_words(df, 'title_nouns', 50)"
   ]
  },
  {
   "cell_type": "code",
   "execution_count": 61,
   "id": "94c44be2",
   "metadata": {},
   "outputs": [],
   "source": [
    "def getCounter(row):\n",
    "    return dict(Counter(row['title_nouns']))#.most_common"
   ]
  },
  {
   "cell_type": "code",
   "execution_count": 62,
   "id": "12d3a3ed",
   "metadata": {
    "scrolled": true
   },
   "outputs": [],
   "source": [
    "df['counter']= df.apply(lambda row : getCounter(row), axis=1)"
   ]
  },
  {
   "cell_type": "markdown",
   "id": "d2e689ed",
   "metadata": {},
   "source": [
    "#### Counter without weight"
   ]
  },
  {
   "cell_type": "code",
   "execution_count": 63,
   "id": "eb071a76",
   "metadata": {},
   "outputs": [
    {
     "data": {
      "text/plain": [
       "0      {'임대': 1, '전전': 1, '폭풍': 1, '성장': 1, '아스널': 1,...\n",
       "1      {'메타': 1, '센서': 1, '폭락': 1, '아파트': 1, '경매': 1,...\n",
       "2           {'미분': 1, '전국': 1, '위': 1, '포항': 1, '시름': 1}\n",
       "3                   {'셋값': 1, '급락': 1, '우려': 1, '전용': 1}\n",
       "4      {'대책': 1, '발표': 1, '달': 1, '기': 1, '신도시': 1, '...\n",
       "                             ...                        \n",
       "995    {'서울': 1, '아파트': 1, '매수': 1, '심리': 1, '수급': 1,...\n",
       "996    {'서울': 1, '아파트': 1, '셋값': 1, '주': 1, '연속': 1, ...\n",
       "997    {'서울': 1, '아파트': 1, '매수': 1, '심리': 1, '수급': 1,...\n",
       "998    {'메타': 1, '센서': 1, '대치동': 1, '서울': 1, '집값': 1,...\n",
       "999    {'부동산': 1, '시장': 1, '거래': 1, '절벽': 1, '언제': 1,...\n",
       "Name: counter, Length: 1000, dtype: object"
      ]
     },
     "execution_count": 63,
     "metadata": {},
     "output_type": "execute_result"
    }
   ],
   "source": [
    "df.counter"
   ]
  },
  {
   "cell_type": "markdown",
   "id": "fe41c821",
   "metadata": {},
   "source": [
    "def getWeightedCounter(row):\n",
    "    for key, value in row['counter'].items():\n",
    "        newvalue = value*row['reviewer_ratings'] + 1\n",
    "        row['counter'][key] = newvalue"
   ]
  },
  {
   "cell_type": "markdown",
   "id": "94b6d604",
   "metadata": {},
   "source": [
    "df.apply(lambda row : getWeightedCounter(row), axis=1)"
   ]
  },
  {
   "cell_type": "markdown",
   "id": "01bf9bbb",
   "metadata": {},
   "source": [
    "#### Counter weighted by reviewer ratings (likes on the review)"
   ]
  },
  {
   "cell_type": "code",
   "execution_count": 183,
   "id": "184032e9",
   "metadata": {},
   "outputs": [
    {
     "data": {
      "text/plain": [
       "0     {'성산동': 1, '공업': 1, '사가': 1, '빌라': 2, '유진': 1,...\n",
       "1         {'자체': 1, '설치': 1, '파란': 1, '화면': 1, '다해': 1}\n",
       "2     {'아파트': 1, '실': 1, '거래': 1, '이용': 1, '핸드폰': 1,...\n",
       "3                           {'요즘': 1, '튕기': 1, '안정': 1}\n",
       "4                   {'뒤': 1, '가기': 1, '바로': 1, '종료': 1}\n",
       "                            ...                        \n",
       "95                 {'거상': 1, '쌤': 1, '성격': 1, '영향력': 1}\n",
       "96                {'경매': 1, '정보': 1, '등기부': 1, '열람': 1}\n",
       "97                {'어플': 1, '갑자기': 1, '왜케': 1, '반응': 1}\n",
       "98                        {'전문가': 1, '분석': 1, '조아욤': 1}\n",
       "99                                 {'부동산': 1, '최고봉': 1}\n",
       "Name: counter, Length: 100, dtype: object"
      ]
     },
     "execution_count": 183,
     "metadata": {},
     "output_type": "execute_result"
    }
   ],
   "source": [
    "df.counter"
   ]
  },
  {
   "cell_type": "markdown",
   "id": "00330ecf",
   "metadata": {},
   "source": []
  },
  {
   "cell_type": "markdown",
   "id": "05e49eeb",
   "metadata": {},
   "source": [
    "## Visualization"
   ]
  },
  {
   "cell_type": "code",
   "execution_count": 68,
   "id": "a4b64a18",
   "metadata": {},
   "outputs": [],
   "source": [
    "import plotly.express as px\n",
    "\n",
    "fig = px.treemap(common_review, \n",
    "           path=['Word'], values='count',\n",
    "           title='Most commonly used words',\n",
    "          width=600, height=700)\n",
    "\n",
    "fig.write_html(\"NaverNews_asil1.html\")\n",
    "#fig.show()"
   ]
  },
  {
   "cell_type": "code",
   "execution_count": 65,
   "id": "bd36efcc",
   "metadata": {},
   "outputs": [],
   "source": [
    "import wordcloud\n",
    "from wordcloud import WordCloud\n",
    "import matplotlib.pyplot as plt"
   ]
  },
  {
   "cell_type": "code",
   "execution_count": 34,
   "id": "55fc0c61",
   "metadata": {},
   "outputs": [],
   "source": [
    "FONT_PATH = '/Users/reejungkim/Documents/Git/NLP/Korean font ttf/BMHANNA_11yrs_ttf.ttf'"
   ]
  },
  {
   "cell_type": "markdown",
   "id": "8fcf46da",
   "metadata": {},
   "source": []
  },
  {
   "cell_type": "markdown",
   "id": "191c3f6f",
   "metadata": {},
   "source": [
    "words = common_review.set_index(\"Word\")['count'].to_dict()"
   ]
  },
  {
   "cell_type": "code",
   "execution_count": 66,
   "id": "495f9473",
   "metadata": {},
   "outputs": [],
   "source": [
    "wc = WordCloud(background_color='white',width=800, height=400, font_path=FONT_PATH)"
   ]
  },
  {
   "cell_type": "markdown",
   "id": "dc3b2e90",
   "metadata": {},
   "source": [
    "## negative reviews"
   ]
  },
  {
   "cell_type": "code",
   "execution_count": 67,
   "id": "2051c01a",
   "metadata": {
    "scrolled": true
   },
   "outputs": [
    {
     "data": {
      "image/png": "[encoded data removed]",
      "text/plain": [
       "<Figure size 640x480 with 1 Axes>"
      ]
     },
     "metadata": {},
     "output_type": "display_data"
    }
   ],
   "source": [
    "common_words =common_review.set_index(\"Word\")['count'].to_dict()\n",
    "wordcloud = wc.generate_from_frequencies(common_words)\n",
    "plt.imshow(wordcloud)\n",
    "plt.savefig(\"NaverNews_ASIL.png\")\n",
    "plt.axis('off')\n",
    "plt.show()\n"
   ]
  },
  {
   "cell_type": "code",
   "execution_count": null,
   "id": "7435a1dd",
   "metadata": {},
   "outputs": [],
   "source": []
  },
  {
   "cell_type": "code",
   "execution_count": null,
   "id": "aea2c3ba",
   "metadata": {},
   "outputs": [],
   "source": []
  },
  {
   "cell_type": "code",
   "execution_count": null,
   "id": "93486179",
   "metadata": {},
   "outputs": [],
   "source": []
  },
  {
   "cell_type": "code",
   "execution_count": null,
   "id": "e4ffe96f",
   "metadata": {},
   "outputs": [],
   "source": []
  },
  {
   "cell_type": "code",
   "execution_count": null,
   "id": "d4c21f40",
   "metadata": {},
   "outputs": [],
   "source": []
  },
  {
   "cell_type": "code",
   "execution_count": null,
   "id": "8abbfb76",
   "metadata": {},
   "outputs": [],
   "source": []
  },
  {
   "cell_type": "code",
   "execution_count": null,
   "id": "af847e98",
   "metadata": {},
   "outputs": [],
   "source": []
  },
  {
   "cell_type": "code",
   "execution_count": null,
   "id": "6442893c",
   "metadata": {},
   "outputs": [],
   "source": []
  }
 ],
 "metadata": {
  "kernelspec": {
   "display_name": "Python 3 (ipykernel)",
   "language": "python",
   "name": "python3"
  },
  "language_info": {
   "codemirror_mode": {
    "name": "ipython",
    "version": 3
   },
   "file_extension": ".py",
   "mimetype": "text/x-python",
   "name": "python",
   "nbconvert_exporter": "python",
   "pygments_lexer": "ipython3",
   "version": "3.7.13"
  }
 },
 "nbformat": 4,
 "nbformat_minor": 5
}
