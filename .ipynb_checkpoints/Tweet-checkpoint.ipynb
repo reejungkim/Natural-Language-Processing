{
 "cells": [
  {
   "cell_type": "code",
   "execution_count": 9,
   "metadata": {},
   "outputs": [
    {
     "name": "stdout",
     "output_type": "stream",
     "text": [
      "Warning: Your Kaggle API key is readable by other users on this system! To fix this, you can run 'chmod 600 /Users/reejungkim/.kaggle/kaggle.json'\n",
      "Downloading tweet-sentiment-extraction.zip to /Users/reejungkim/Documents/Git/Sentimental analysis\n",
      "100%|██████████████████████████████████████| 1.39M/1.39M [00:01<00:00, 1.20MB/s]\n",
      "100%|██████████████████████████████████████| 1.39M/1.39M [00:01<00:00, 1.20MB/s]\n"
     ]
    }
   ],
   "source": [
    "#!kaggle competitions download -c tweet-sentiment-extraction"
   ]
  },
  {
   "cell_type": "code",
   "execution_count": 101,
   "metadata": {},
   "outputs": [],
   "source": [
    "import pandas as pd\n",
    "import numpy as np\n",
    "import os\n",
    "\n",
    "import emoji\n",
    "\n",
    "from sklearn.feature_extraction.text import CountVectorizer, TfidfVectorizer\n",
    "\n",
    "from nltk.corpus import stopwords\n",
    "from nltk.tokenize import word_tokenize\n",
    "\n",
    "from nltk.classify import NaiveBayesClassifier\n",
    "from nltk.corpus import subjectivity\n",
    "from nltk.sentiment import SentimentAnalyzer\n",
    "from nltk.sentiment.util import *\n"
   ]
  },
  {
   "cell_type": "code",
   "execution_count": 4,
   "metadata": {
    "scrolled": true
   },
   "outputs": [],
   "source": [
    "train = pd.read_csv(\"/Users/reejungkim/Documents/Git/Sentimental analysis/tweet-sentiment-extraction/train.csv\")\n",
    "test = pd.read_csv(\"/Users/reejungkim/Documents/Git/Sentimental analysis/tweet-sentiment-extraction/test.csv\")"
   ]
  },
  {
   "cell_type": "code",
   "execution_count": 5,
   "metadata": {},
   "outputs": [
    {
     "data": {
      "text/html": [
       "<div>\n",
       "<style scoped>\n",
       "    .dataframe tbody tr th:only-of-type {\n",
       "        vertical-align: middle;\n",
       "    }\n",
       "\n",
       "    .dataframe tbody tr th {\n",
       "        vertical-align: top;\n",
       "    }\n",
       "\n",
       "    .dataframe thead th {\n",
       "        text-align: right;\n",
       "    }\n",
       "</style>\n",
       "<table border=\"1\" class=\"dataframe\">\n",
       "  <thead>\n",
       "    <tr style=\"text-align: right;\">\n",
       "      <th></th>\n",
       "      <th>textID</th>\n",
       "      <th>text</th>\n",
       "      <th>selected_text</th>\n",
       "      <th>sentiment</th>\n",
       "    </tr>\n",
       "  </thead>\n",
       "  <tbody>\n",
       "    <tr>\n",
       "      <th>0</th>\n",
       "      <td>cb774db0d1</td>\n",
       "      <td>I`d have responded, if I were going</td>\n",
       "      <td>I`d have responded, if I were going</td>\n",
       "      <td>neutral</td>\n",
       "    </tr>\n",
       "    <tr>\n",
       "      <th>1</th>\n",
       "      <td>549e992a42</td>\n",
       "      <td>Sooo SAD I will miss you here in San Diego!!!</td>\n",
       "      <td>Sooo SAD</td>\n",
       "      <td>negative</td>\n",
       "    </tr>\n",
       "    <tr>\n",
       "      <th>2</th>\n",
       "      <td>088c60f138</td>\n",
       "      <td>my boss is bullying me...</td>\n",
       "      <td>bullying me</td>\n",
       "      <td>negative</td>\n",
       "    </tr>\n",
       "    <tr>\n",
       "      <th>3</th>\n",
       "      <td>9642c003ef</td>\n",
       "      <td>what interview! leave me alone</td>\n",
       "      <td>leave me alone</td>\n",
       "      <td>negative</td>\n",
       "    </tr>\n",
       "    <tr>\n",
       "      <th>4</th>\n",
       "      <td>358bd9e861</td>\n",
       "      <td>Sons of ****, why couldn`t they put them on t...</td>\n",
       "      <td>Sons of ****,</td>\n",
       "      <td>negative</td>\n",
       "    </tr>\n",
       "  </tbody>\n",
       "</table>\n",
       "</div>"
      ],
      "text/plain": [
       "       textID                                               text  \\\n",
       "0  cb774db0d1                I`d have responded, if I were going   \n",
       "1  549e992a42      Sooo SAD I will miss you here in San Diego!!!   \n",
       "2  088c60f138                          my boss is bullying me...   \n",
       "3  9642c003ef                     what interview! leave me alone   \n",
       "4  358bd9e861   Sons of ****, why couldn`t they put them on t...   \n",
       "\n",
       "                         selected_text sentiment  \n",
       "0  I`d have responded, if I were going   neutral  \n",
       "1                             Sooo SAD  negative  \n",
       "2                          bullying me  negative  \n",
       "3                       leave me alone  negative  \n",
       "4                        Sons of ****,  negative  "
      ]
     },
     "execution_count": 5,
     "metadata": {},
     "output_type": "execute_result"
    }
   ],
   "source": [
    "train.head()"
   ]
  },
  {
   "cell_type": "code",
   "execution_count": 6,
   "metadata": {},
   "outputs": [
    {
     "data": {
      "text/html": [
       "<div>\n",
       "<style scoped>\n",
       "    .dataframe tbody tr th:only-of-type {\n",
       "        vertical-align: middle;\n",
       "    }\n",
       "\n",
       "    .dataframe tbody tr th {\n",
       "        vertical-align: top;\n",
       "    }\n",
       "\n",
       "    .dataframe thead th {\n",
       "        text-align: right;\n",
       "    }\n",
       "</style>\n",
       "<table border=\"1\" class=\"dataframe\">\n",
       "  <thead>\n",
       "    <tr style=\"text-align: right;\">\n",
       "      <th></th>\n",
       "      <th>textID</th>\n",
       "      <th>text</th>\n",
       "      <th>sentiment</th>\n",
       "    </tr>\n",
       "  </thead>\n",
       "  <tbody>\n",
       "    <tr>\n",
       "      <th>0</th>\n",
       "      <td>f87dea47db</td>\n",
       "      <td>Last session of the day  http://twitpic.com/67ezh</td>\n",
       "      <td>neutral</td>\n",
       "    </tr>\n",
       "    <tr>\n",
       "      <th>1</th>\n",
       "      <td>96d74cb729</td>\n",
       "      <td>Shanghai is also really exciting (precisely -...</td>\n",
       "      <td>positive</td>\n",
       "    </tr>\n",
       "    <tr>\n",
       "      <th>2</th>\n",
       "      <td>eee518ae67</td>\n",
       "      <td>Recession hit Veronique Branquinho, she has to...</td>\n",
       "      <td>negative</td>\n",
       "    </tr>\n",
       "    <tr>\n",
       "      <th>3</th>\n",
       "      <td>01082688c6</td>\n",
       "      <td>happy bday!</td>\n",
       "      <td>positive</td>\n",
       "    </tr>\n",
       "    <tr>\n",
       "      <th>4</th>\n",
       "      <td>33987a8ee5</td>\n",
       "      <td>http://twitpic.com/4w75p - I like it!!</td>\n",
       "      <td>positive</td>\n",
       "    </tr>\n",
       "  </tbody>\n",
       "</table>\n",
       "</div>"
      ],
      "text/plain": [
       "       textID                                               text sentiment\n",
       "0  f87dea47db  Last session of the day  http://twitpic.com/67ezh   neutral\n",
       "1  96d74cb729   Shanghai is also really exciting (precisely -...  positive\n",
       "2  eee518ae67  Recession hit Veronique Branquinho, she has to...  negative\n",
       "3  01082688c6                                        happy bday!  positive\n",
       "4  33987a8ee5             http://twitpic.com/4w75p - I like it!!  positive"
      ]
     },
     "execution_count": 6,
     "metadata": {},
     "output_type": "execute_result"
    }
   ],
   "source": [
    "test.head()"
   ]
  },
  {
   "cell_type": "markdown",
   "metadata": {},
   "source": [
    "# Data exploration"
   ]
  },
  {
   "cell_type": "markdown",
   "metadata": {},
   "source": [
    "## checking for null values"
   ]
  },
  {
   "cell_type": "code",
   "execution_count": 10,
   "metadata": {},
   "outputs": [
    {
     "data": {
      "text/plain": [
       "textID           0\n",
       "text             1\n",
       "selected_text    1\n",
       "sentiment        0\n",
       "dtype: int64"
      ]
     },
     "execution_count": 10,
     "metadata": {},
     "output_type": "execute_result"
    }
   ],
   "source": [
    "train.isnull().sum()"
   ]
  },
  {
   "cell_type": "code",
   "execution_count": 13,
   "metadata": {},
   "outputs": [
    {
     "data": {
      "text/html": [
       "<div>\n",
       "<style scoped>\n",
       "    .dataframe tbody tr th:only-of-type {\n",
       "        vertical-align: middle;\n",
       "    }\n",
       "\n",
       "    .dataframe tbody tr th {\n",
       "        vertical-align: top;\n",
       "    }\n",
       "\n",
       "    .dataframe thead th {\n",
       "        text-align: right;\n",
       "    }\n",
       "</style>\n",
       "<table border=\"1\" class=\"dataframe\">\n",
       "  <thead>\n",
       "    <tr style=\"text-align: right;\">\n",
       "      <th></th>\n",
       "      <th>textID</th>\n",
       "      <th>text</th>\n",
       "      <th>selected_text</th>\n",
       "      <th>sentiment</th>\n",
       "    </tr>\n",
       "  </thead>\n",
       "  <tbody>\n",
       "    <tr>\n",
       "      <th>314</th>\n",
       "      <td>fdb77c3752</td>\n",
       "      <td>NaN</td>\n",
       "      <td>NaN</td>\n",
       "      <td>neutral</td>\n",
       "    </tr>\n",
       "  </tbody>\n",
       "</table>\n",
       "</div>"
      ],
      "text/plain": [
       "         textID text selected_text sentiment\n",
       "314  fdb77c3752  NaN           NaN   neutral"
      ]
     },
     "execution_count": 13,
     "metadata": {},
     "output_type": "execute_result"
    }
   ],
   "source": [
    "train.loc[pd.isnull(train.text)]"
   ]
  },
  {
   "cell_type": "markdown",
   "metadata": {},
   "source": [
    "## drop null"
   ]
  },
  {
   "cell_type": "code",
   "execution_count": 15,
   "metadata": {},
   "outputs": [],
   "source": [
    "train.dropna(inplace=True)"
   ]
  },
  {
   "cell_type": "markdown",
   "metadata": {},
   "source": [
    "## count of unique values"
   ]
  },
  {
   "cell_type": "code",
   "execution_count": 16,
   "metadata": {},
   "outputs": [
    {
     "data": {
      "text/plain": [
       "array(['neutral', 'negative', 'positive'], dtype=object)"
      ]
     },
     "execution_count": 16,
     "metadata": {},
     "output_type": "execute_result"
    }
   ],
   "source": [
    "train.sentiment.unique()"
   ]
  },
  {
   "cell_type": "code",
   "execution_count": 17,
   "metadata": {},
   "outputs": [
    {
     "data": {
      "text/plain": [
       "((27480, 4), (3534, 3))"
      ]
     },
     "execution_count": 17,
     "metadata": {},
     "output_type": "execute_result"
    }
   ],
   "source": [
    "train.shape, test.shape"
   ]
  },
  {
   "cell_type": "code",
   "execution_count": 45,
   "metadata": {},
   "outputs": [
    {
     "data": {
      "text/html": [
       "<div>\n",
       "<style scoped>\n",
       "    .dataframe tbody tr th:only-of-type {\n",
       "        vertical-align: middle;\n",
       "    }\n",
       "\n",
       "    .dataframe tbody tr th {\n",
       "        vertical-align: top;\n",
       "    }\n",
       "\n",
       "    .dataframe thead th {\n",
       "        text-align: right;\n",
       "    }\n",
       "</style>\n",
       "<table border=\"1\" class=\"dataframe\">\n",
       "  <thead>\n",
       "    <tr style=\"text-align: right;\">\n",
       "      <th></th>\n",
       "      <th>textID</th>\n",
       "    </tr>\n",
       "    <tr>\n",
       "      <th>sentiment</th>\n",
       "      <th></th>\n",
       "    </tr>\n",
       "  </thead>\n",
       "  <tbody>\n",
       "    <tr>\n",
       "      <th>negative</th>\n",
       "      <td>7781</td>\n",
       "    </tr>\n",
       "    <tr>\n",
       "      <th>neutral</th>\n",
       "      <td>11117</td>\n",
       "    </tr>\n",
       "    <tr>\n",
       "      <th>positive</th>\n",
       "      <td>8582</td>\n",
       "    </tr>\n",
       "    <tr>\n",
       "      <th>All</th>\n",
       "      <td>27480</td>\n",
       "    </tr>\n",
       "  </tbody>\n",
       "</table>\n",
       "</div>"
      ],
      "text/plain": [
       "           textID\n",
       "sentiment        \n",
       "negative     7781\n",
       "neutral     11117\n",
       "positive     8582\n",
       "All         27480"
      ]
     },
     "execution_count": 45,
     "metadata": {},
     "output_type": "execute_result"
    }
   ],
   "source": [
    "train.pivot_table(index='sentiment', values='textID', \n",
    "                  aggfunc='count', margins=True)\n"
   ]
  },
  {
   "cell_type": "code",
   "execution_count": 46,
   "metadata": {},
   "outputs": [
    {
     "data": {
      "text/html": [
       "<div>\n",
       "<style scoped>\n",
       "    .dataframe tbody tr th:only-of-type {\n",
       "        vertical-align: middle;\n",
       "    }\n",
       "\n",
       "    .dataframe tbody tr th {\n",
       "        vertical-align: top;\n",
       "    }\n",
       "\n",
       "    .dataframe thead th {\n",
       "        text-align: right;\n",
       "    }\n",
       "</style>\n",
       "<table border=\"1\" class=\"dataframe\">\n",
       "  <thead>\n",
       "    <tr style=\"text-align: right;\">\n",
       "      <th></th>\n",
       "      <th>textID</th>\n",
       "    </tr>\n",
       "    <tr>\n",
       "      <th>sentiment</th>\n",
       "      <th></th>\n",
       "    </tr>\n",
       "  </thead>\n",
       "  <tbody>\n",
       "    <tr>\n",
       "      <th>negative</th>\n",
       "      <td>0.283151</td>\n",
       "    </tr>\n",
       "    <tr>\n",
       "      <th>neutral</th>\n",
       "      <td>0.404549</td>\n",
       "    </tr>\n",
       "    <tr>\n",
       "      <th>positive</th>\n",
       "      <td>0.312300</td>\n",
       "    </tr>\n",
       "  </tbody>\n",
       "</table>\n",
       "</div>"
      ],
      "text/plain": [
       "             textID\n",
       "sentiment          \n",
       "negative   0.283151\n",
       "neutral    0.404549\n",
       "positive   0.312300"
      ]
     },
     "execution_count": 46,
     "metadata": {},
     "output_type": "execute_result"
    }
   ],
   "source": [
    "train.pivot_table(index='sentiment', values='textID', \n",
    "                 aggfunc = lambda x: x.count()/train['sentiment'].count())\n"
   ]
  },
  {
   "cell_type": "markdown",
   "metadata": {},
   "source": [
    "# Feature engineering"
   ]
  },
  {
   "cell_type": "markdown",
   "metadata": {},
   "source": [
    "## URL "
   ]
  },
  {
   "cell_type": "code",
   "execution_count": 97,
   "metadata": {},
   "outputs": [],
   "source": [
    "def find_url(string): \n",
    "    text = re.findall('http[s]?://(?:[a-zA-Z]|[0-9]|[$-_@.&+]|[!*\\(\\),]|(?:%[0-9a-fA-F][0-9a-fA-F]))+',string)\n",
    "    if text!=[]:\n",
    "        return \"\".join(text)\n",
    "    return None"
   ]
  },
  {
   "cell_type": "code",
   "execution_count": 98,
   "metadata": {
    "scrolled": true
   },
   "outputs": [],
   "source": [
    "train['url']=train['text'].apply(lambda x:find_url(x))"
   ]
  },
  {
   "cell_type": "code",
   "execution_count": 99,
   "metadata": {},
   "outputs": [
    {
     "data": {
      "text/html": [
       "<div>\n",
       "<style scoped>\n",
       "    .dataframe tbody tr th:only-of-type {\n",
       "        vertical-align: middle;\n",
       "    }\n",
       "\n",
       "    .dataframe tbody tr th {\n",
       "        vertical-align: top;\n",
       "    }\n",
       "\n",
       "    .dataframe thead th {\n",
       "        text-align: right;\n",
       "    }\n",
       "</style>\n",
       "<table border=\"1\" class=\"dataframe\">\n",
       "  <thead>\n",
       "    <tr style=\"text-align: right;\">\n",
       "      <th></th>\n",
       "      <th>textID</th>\n",
       "      <th>text</th>\n",
       "      <th>selected_text</th>\n",
       "      <th>sentiment</th>\n",
       "      <th>url</th>\n",
       "    </tr>\n",
       "  </thead>\n",
       "  <tbody>\n",
       "    <tr>\n",
       "      <th>5</th>\n",
       "      <td>28b57f3990</td>\n",
       "      <td>http://www.dothebouncy.com/smf - some shameles...</td>\n",
       "      <td>http://www.dothebouncy.com/smf - some shameles...</td>\n",
       "      <td>neutral</td>\n",
       "      <td>http://www.dothebouncy.com/smf</td>\n",
       "    </tr>\n",
       "    <tr>\n",
       "      <th>17</th>\n",
       "      <td>919fa93391</td>\n",
       "      <td>i`ve been sick for the past few days  and thus...</td>\n",
       "      <td>sick</td>\n",
       "      <td>negative</td>\n",
       "      <td>http://tinyurl.com/mnf4kw</td>\n",
       "    </tr>\n",
       "    <tr>\n",
       "      <th>35</th>\n",
       "      <td>4f5267ad70</td>\n",
       "      <td>Thats it, its the end. Tears for Fears vs Eric...</td>\n",
       "      <td>Thats it, its the end. Tears for Fears</td>\n",
       "      <td>neutral</td>\n",
       "      <td>http://bit.ly/2Hpbg4</td>\n",
       "    </tr>\n",
       "    <tr>\n",
       "      <th>50</th>\n",
       "      <td>a3ae670885</td>\n",
       "      <td>Then you should check out http://twittersucks...</td>\n",
       "      <td>Then you should check out http://twittersucks....</td>\n",
       "      <td>neutral</td>\n",
       "      <td>http://twittersucks.com</td>\n",
       "    </tr>\n",
       "    <tr>\n",
       "      <th>57</th>\n",
       "      <td>6086b1f016</td>\n",
       "      <td>will be back later.  http://plurk.com/p/rp3k7</td>\n",
       "      <td>will be back later.</td>\n",
       "      <td>neutral</td>\n",
       "      <td>http://plurk.com/p/rp3k7</td>\n",
       "    </tr>\n",
       "    <tr>\n",
       "      <th>...</th>\n",
       "      <td>...</td>\n",
       "      <td>...</td>\n",
       "      <td>...</td>\n",
       "      <td>...</td>\n",
       "      <td>...</td>\n",
       "    </tr>\n",
       "    <tr>\n",
       "      <th>27374</th>\n",
       "      <td>b49385ebb7</td>\n",
       "      <td>says Finally, Im home.  http://plurk.com/p/rr121</td>\n",
       "      <td>says Finally, Im home.</td>\n",
       "      <td>neutral</td>\n",
       "      <td>http://plurk.com/p/rr121</td>\n",
       "    </tr>\n",
       "    <tr>\n",
       "      <th>27384</th>\n",
       "      <td>f94af8cb85</td>\n",
       "      <td>This is a much better tool than some I have co...</td>\n",
       "      <td>This is a much better tool</td>\n",
       "      <td>positive</td>\n",
       "      <td>http://www.tweepular.com</td>\n",
       "    </tr>\n",
       "    <tr>\n",
       "      <th>27386</th>\n",
       "      <td>e149ebd3a1</td>\n",
       "      <td>#vwll2009 Would one of the VWLLers want to add...</td>\n",
       "      <td>ch appreciat</td>\n",
       "      <td>positive</td>\n",
       "      <td>http://bit.ly/BF5sh</td>\n",
       "    </tr>\n",
       "    <tr>\n",
       "      <th>27463</th>\n",
       "      <td>a38bf809b0</td>\n",
       "      <td>LIKE DREW SAID 'GIVE TC A CHANCE' WE WILL MIS...</td>\n",
       "      <td>MISS</td>\n",
       "      <td>negative</td>\n",
       "      <td>http://bit.ly/r6RfC</td>\n",
       "    </tr>\n",
       "    <tr>\n",
       "      <th>27472</th>\n",
       "      <td>8f5adc47ec</td>\n",
       "      <td>http://twitpic.com/663vr - Wanted to visit the...</td>\n",
       "      <td>were too late</td>\n",
       "      <td>negative</td>\n",
       "      <td>http://twitpic.com/663vr</td>\n",
       "    </tr>\n",
       "  </tbody>\n",
       "</table>\n",
       "<p>1221 rows × 5 columns</p>\n",
       "</div>"
      ],
      "text/plain": [
       "           textID                                               text  \\\n",
       "5      28b57f3990  http://www.dothebouncy.com/smf - some shameles...   \n",
       "17     919fa93391  i`ve been sick for the past few days  and thus...   \n",
       "35     4f5267ad70  Thats it, its the end. Tears for Fears vs Eric...   \n",
       "50     a3ae670885   Then you should check out http://twittersucks...   \n",
       "57     6086b1f016      will be back later.  http://plurk.com/p/rp3k7   \n",
       "...           ...                                                ...   \n",
       "27374  b49385ebb7   says Finally, Im home.  http://plurk.com/p/rr121   \n",
       "27384  f94af8cb85  This is a much better tool than some I have co...   \n",
       "27386  e149ebd3a1  #vwll2009 Would one of the VWLLers want to add...   \n",
       "27463  a38bf809b0   LIKE DREW SAID 'GIVE TC A CHANCE' WE WILL MIS...   \n",
       "27472  8f5adc47ec  http://twitpic.com/663vr - Wanted to visit the...   \n",
       "\n",
       "                                           selected_text sentiment  \\\n",
       "5      http://www.dothebouncy.com/smf - some shameles...   neutral   \n",
       "17                                                  sick  negative   \n",
       "35                Thats it, its the end. Tears for Fears   neutral   \n",
       "50     Then you should check out http://twittersucks....   neutral   \n",
       "57                                   will be back later.   neutral   \n",
       "...                                                  ...       ...   \n",
       "27374                             says Finally, Im home.   neutral   \n",
       "27384                         This is a much better tool  positive   \n",
       "27386                                       ch appreciat  positive   \n",
       "27463                                               MISS  negative   \n",
       "27472                                      were too late  negative   \n",
       "\n",
       "                                  url  \n",
       "5      http://www.dothebouncy.com/smf  \n",
       "17          http://tinyurl.com/mnf4kw  \n",
       "35               http://bit.ly/2Hpbg4  \n",
       "50            http://twittersucks.com  \n",
       "57           http://plurk.com/p/rp3k7  \n",
       "...                               ...  \n",
       "27374        http://plurk.com/p/rr121  \n",
       "27384        http://www.tweepular.com  \n",
       "27386             http://bit.ly/BF5sh  \n",
       "27463             http://bit.ly/r6RfC  \n",
       "27472        http://twitpic.com/663vr  \n",
       "\n",
       "[1221 rows x 5 columns]"
      ]
     },
     "execution_count": 99,
     "metadata": {},
     "output_type": "execute_result"
    }
   ],
   "source": [
    "train.loc[pd.notnull(train.url)]"
   ]
  },
  {
   "cell_type": "markdown",
   "metadata": {},
   "source": [
    "## Emoticons"
   ]
  },
  {
   "cell_type": "code",
   "execution_count": 143,
   "metadata": {},
   "outputs": [
    {
     "data": {
      "text/plain": [
       "':smiling_face_with_heart-eyes: lol :grinning_squinting_face: :face_with_tears_of_joy: '"
      ]
     },
     "execution_count": 143,
     "metadata": {},
     "output_type": "execute_result"
    }
   ],
   "source": [
    "ex = \"😍 lol 😆 😂 \"\n",
    "emoji.demojize(ex)"
   ]
  },
  {
   "cell_type": "code",
   "execution_count": 144,
   "metadata": {},
   "outputs": [
    {
     "data": {
      "text/plain": [
       "['smiling_face_with_heart-eyes',\n",
       " 'grinning_squinting_face',\n",
       " 'face_with_tears_of_joy']"
      ]
     },
     "execution_count": 144,
     "metadata": {},
     "output_type": "execute_result"
    }
   ],
   "source": [
    "re.findall(':(.*?):', emoji.demojize(ex) )  #<-mac\n",
    "#re.findall( r'\\:(.*?)\\:', emoji.demojize(ex) )  <- window"
   ]
  },
  {
   "cell_type": "code",
   "execution_count": 168,
   "metadata": {
    "collapsed": true
   },
   "outputs": [
    {
     "data": {
      "text/plain": [
       "{'🥇': ':1st_place_medal:',\n",
       " '🥈': ':2nd_place_medal:',\n",
       " '🥉': ':3rd_place_medal:',\n",
       " '🆎': ':AB_button_(blood_type):',\n",
       " '🏧': ':ATM_sign:',\n",
       " '🅰': ':A_button_(blood_type):',\n",
       " '🇦🇫': ':Afghanistan:',\n",
       " '🇦🇱': ':Albania:',\n",
       " '🇩🇿': ':Algeria:',\n",
       " '🇦🇸': ':American_Samoa:',\n",
       " '🇦🇩': ':Andorra:',\n",
       " '🇦🇴': ':Angola:',\n",
       " '🇦🇮': ':Anguilla:',\n",
       " '🇦🇶': ':Antarctica:',\n",
       " '🇦🇬': ':Antigua_&_Barbuda:',\n",
       " '♒': ':Aquarius:',\n",
       " '🇦🇷': ':Argentina:',\n",
       " '♈': ':Aries:',\n",
       " '🇦🇲': ':Armenia:',\n",
       " '🇦🇼': ':Aruba:',\n",
       " '🇦🇨': ':Ascension_Island:',\n",
       " '🇦🇺': ':Australia:',\n",
       " '🇦🇹': ':Austria:',\n",
       " '🇦🇿': ':Azerbaijan:',\n",
       " '🔙': ':BACK_arrow:',\n",
       " '🅱': ':B_button_(blood_type):',\n",
       " '🇧🇸': ':Bahamas:',\n",
       " '🇧🇭': ':Bahrain:',\n",
       " '🇧🇩': ':Bangladesh:',\n",
       " '🇧🇧': ':Barbados:',\n",
       " '🇧🇾': ':Belarus:',\n",
       " '🇧🇪': ':Belgium:',\n",
       " '🇧🇿': ':Belize:',\n",
       " '🇧🇯': ':Benin:',\n",
       " '🇧🇲': ':Bermuda:',\n",
       " '🇧🇹': ':Bhutan:',\n",
       " '🇧🇴': ':Bolivia:',\n",
       " '🇧🇦': ':Bosnia_&_Herzegovina:',\n",
       " '🇧🇼': ':Botswana:',\n",
       " '🇧🇻': ':Bouvet_Island:',\n",
       " '🇧🇷': ':Brazil:',\n",
       " '🇮🇴': ':British_Indian_Ocean_Territory:',\n",
       " '🇻🇬': ':British_Virgin_Islands:',\n",
       " '🇧🇳': ':Brunei:',\n",
       " '🇧🇬': ':Bulgaria:',\n",
       " '🇧🇫': ':Burkina_Faso:',\n",
       " '🇧🇮': ':Burundi:',\n",
       " '🆑': ':CL_button:',\n",
       " '🆒': ':COOL_button:',\n",
       " '🇰🇭': ':Cambodia:',\n",
       " '🇨🇲': ':Cameroon:',\n",
       " '🇨🇦': ':Canada:',\n",
       " '🇮🇨': ':Canary_Islands:',\n",
       " '♋': ':Cancer:',\n",
       " '🇨🇻': ':Cape_Verde:',\n",
       " '♑': ':Capricorn:',\n",
       " '🇧🇶': ':Caribbean_Netherlands:',\n",
       " '🇰🇾': ':Cayman_Islands:',\n",
       " '🇨🇫': ':Central_African_Republic:',\n",
       " '🇪🇦': ':Ceuta_&_Melilla:',\n",
       " '🇹🇩': ':Chad:',\n",
       " '🇨🇱': ':Chile:',\n",
       " '🇨🇳': ':China:',\n",
       " '🇨🇽': ':Christmas_Island:',\n",
       " '🎄': ':Christmas_tree:',\n",
       " '🇨🇵': ':Clipperton_Island:',\n",
       " '🇨🇨': ':Cocos_(Keeling)_Islands:',\n",
       " '🇨🇴': ':Colombia:',\n",
       " '🇰🇲': ':Comoros:',\n",
       " '🇨🇬': ':Congo_-_Brazzaville:',\n",
       " '🇨🇩': ':Congo_-_Kinshasa:',\n",
       " '🇨🇰': ':Cook_Islands:',\n",
       " '🇨🇷': ':Costa_Rica:',\n",
       " '🇭🇷': ':Croatia:',\n",
       " '🇨🇺': ':Cuba:',\n",
       " '🇨🇼': ':Curaçao:',\n",
       " '🇨🇾': ':Cyprus:',\n",
       " '🇨🇿': ':Czechia:',\n",
       " '🇨🇮': ':Côte_d’Ivoire:',\n",
       " '🇩🇰': ':Denmark:',\n",
       " '🇩🇬': ':Diego_Garcia:',\n",
       " '🇩🇯': ':Djibouti:',\n",
       " '🇩🇲': ':Dominica:',\n",
       " '🇩🇴': ':Dominican_Republic:',\n",
       " '🔚': ':END_arrow:',\n",
       " '🇪🇨': ':Ecuador:',\n",
       " '🇪🇬': ':Egypt:',\n",
       " '🇸🇻': ':El_Salvador:',\n",
       " '🏴\\U000e0067\\U000e0062\\U000e0065\\U000e006e\\U000e0067\\U000e007f': ':England:',\n",
       " '🇬🇶': ':Equatorial_Guinea:',\n",
       " '🇪🇷': ':Eritrea:',\n",
       " '🇪🇪': ':Estonia:',\n",
       " '🇪🇹': ':Ethiopia:',\n",
       " '🇪🇺': ':European_Union:',\n",
       " '🆓': ':FREE_button:',\n",
       " '🇫🇰': ':Falkland_Islands:',\n",
       " '🇫🇴': ':Faroe_Islands:',\n",
       " '🇫🇯': ':Fiji:',\n",
       " '🇫🇮': ':Finland:',\n",
       " '🇫🇷': ':France:',\n",
       " '🇬🇫': ':French_Guiana:',\n",
       " '🇵🇫': ':French_Polynesia:',\n",
       " '🇹🇫': ':French_Southern_Territories:',\n",
       " '🇬🇦': ':Gabon:',\n",
       " '🇬🇲': ':Gambia:',\n",
       " '♊': ':Gemini:',\n",
       " '🇬🇪': ':Georgia:',\n",
       " '🇩🇪': ':Germany:',\n",
       " '🇬🇭': ':Ghana:',\n",
       " '🇬🇮': ':Gibraltar:',\n",
       " '🇬🇷': ':Greece:',\n",
       " '🇬🇱': ':Greenland:',\n",
       " '🇬🇩': ':Grenada:',\n",
       " '🇬🇵': ':Guadeloupe:',\n",
       " '🇬🇺': ':Guam:',\n",
       " '🇬🇹': ':Guatemala:',\n",
       " '🇬🇬': ':Guernsey:',\n",
       " '🇬🇳': ':Guinea:',\n",
       " '🇬🇼': ':Guinea-Bissau:',\n",
       " '🇬🇾': ':Guyana:',\n",
       " '🇭🇹': ':Haiti:',\n",
       " '🇭🇲': ':Heard_&_McDonald_Islands:',\n",
       " '🇭🇳': ':Honduras:',\n",
       " '🇭🇰': ':Hong_Kong_SAR_China:',\n",
       " '🇭🇺': ':Hungary:',\n",
       " '🆔': ':ID_button:',\n",
       " '🇮🇸': ':Iceland:',\n",
       " '🇮🇳': ':India:',\n",
       " '🇮🇩': ':Indonesia:',\n",
       " '🇮🇷': ':Iran:',\n",
       " '🇮🇶': ':Iraq:',\n",
       " '🇮🇪': ':Ireland:',\n",
       " '🇮🇲': ':Isle_of_Man:',\n",
       " '🇮🇱': ':Israel:',\n",
       " '🇮🇹': ':Italy:',\n",
       " '🇯🇲': ':Jamaica:',\n",
       " '🇯🇵': ':Japan:',\n",
       " '🉑': ':Japanese_acceptable_button:',\n",
       " '🈸': ':Japanese_application_button:',\n",
       " '🉐': ':Japanese_bargain_button:',\n",
       " '🏯': ':Japanese_castle:',\n",
       " '㊗': ':Japanese_congratulations_button:',\n",
       " '🈹': ':Japanese_discount_button:',\n",
       " '🎎': ':Japanese_dolls:',\n",
       " '🈚': ':Japanese_free_of_charge_button:',\n",
       " '🈁': ':Japanese_here_button:',\n",
       " '🈷': ':Japanese_monthly_amount_button:',\n",
       " '🈵': ':Japanese_no_vacancy_button:',\n",
       " '🈶': ':Japanese_not_free_of_charge_button:',\n",
       " '🈺': ':Japanese_open_for_business_button:',\n",
       " '🈴': ':Japanese_passing_grade_button:',\n",
       " '🏣': ':Japanese_post_office:',\n",
       " '🈲': ':Japanese_prohibited_button:',\n",
       " '🈯': ':Japanese_reserved_button:',\n",
       " '㊙': ':Japanese_secret_button:',\n",
       " '🈂': ':Japanese_service_charge_button:',\n",
       " '🔰': ':Japanese_symbol_for_beginner:',\n",
       " '🈳': ':Japanese_vacancy_button:',\n",
       " '🇯🇪': ':Jersey:',\n",
       " '🇯🇴': ':Jordan:',\n",
       " '🇰🇿': ':Kazakhstan:',\n",
       " '🇰🇪': ':Kenya:',\n",
       " '🇰🇮': ':Kiribati:',\n",
       " '🇽🇰': ':Kosovo:',\n",
       " '🇰🇼': ':Kuwait:',\n",
       " '🇰🇬': ':Kyrgyzstan:',\n",
       " '🇱🇦': ':Laos:',\n",
       " '🇱🇻': ':Latvia:',\n",
       " '🇱🇧': ':Lebanon:',\n",
       " '♌': ':Leo:',\n",
       " '🇱🇸': ':Lesotho:',\n",
       " '🇱🇷': ':Liberia:',\n",
       " '♎': ':Libra:',\n",
       " '🇱🇾': ':Libya:',\n",
       " '🇱🇮': ':Liechtenstein:',\n",
       " '🇱🇹': ':Lithuania:',\n",
       " '🇱🇺': ':Luxembourg:',\n",
       " '🇲🇴': ':Macau_SAR_China:',\n",
       " '🇲🇰': ':Macedonia:',\n",
       " '🇲🇬': ':Madagascar:',\n",
       " '🇲🇼': ':Malawi:',\n",
       " '🇲🇾': ':Malaysia:',\n",
       " '🇲🇻': ':Maldives:',\n",
       " '🇲🇱': ':Mali:',\n",
       " '🇲🇹': ':Malta:',\n",
       " '🇲🇭': ':Marshall_Islands:',\n",
       " '🇲🇶': ':Martinique:',\n",
       " '🇲🇷': ':Mauritania:',\n",
       " '🇲🇺': ':Mauritius:',\n",
       " '🇾🇹': ':Mayotte:',\n",
       " '🇲🇽': ':Mexico:',\n",
       " '🇫🇲': ':Micronesia:',\n",
       " '🇲🇩': ':Moldova:',\n",
       " '🇲🇨': ':Monaco:',\n",
       " '🇲🇳': ':Mongolia:',\n",
       " '🇲🇪': ':Montenegro:',\n",
       " '🇲🇸': ':Montserrat:',\n",
       " '🇲🇦': ':Morocco:',\n",
       " '🇲🇿': ':Mozambique:',\n",
       " '🤶': ':Mrs._Claus:',\n",
       " '🤶🏿': ':Mrs._Claus_dark_skin_tone:',\n",
       " '🤶🏻': ':Mrs._Claus_light_skin_tone:',\n",
       " '🤶🏾': ':Mrs._Claus_medium-dark_skin_tone:',\n",
       " '🤶🏼': ':Mrs._Claus_medium-light_skin_tone:',\n",
       " '🤶🏽': ':Mrs._Claus_medium_skin_tone:',\n",
       " '🇲🇲': ':Myanmar_(Burma):',\n",
       " '🆕': ':NEW_button:',\n",
       " '🆖': ':NG_button:',\n",
       " '🇳🇦': ':Namibia:',\n",
       " '🇳🇷': ':Nauru:',\n",
       " '🇳🇵': ':Nepal:',\n",
       " '🇳🇱': ':Netherlands:',\n",
       " '🇳🇨': ':New_Caledonia:',\n",
       " '🇳🇿': ':New_Zealand:',\n",
       " '🇳🇮': ':Nicaragua:',\n",
       " '🇳🇪': ':Niger:',\n",
       " '🇳🇬': ':Nigeria:',\n",
       " '🇳🇺': ':Niue:',\n",
       " '🇳🇫': ':Norfolk_Island:',\n",
       " '🇰🇵': ':North_Korea:',\n",
       " '🇲🇵': ':Northern_Mariana_Islands:',\n",
       " '🇳🇴': ':Norway:',\n",
       " '🆗': ':OK_button:',\n",
       " '👌': ':OK_hand:',\n",
       " '👌🏿': ':OK_hand_dark_skin_tone:',\n",
       " '👌🏻': ':OK_hand_light_skin_tone:',\n",
       " '👌🏾': ':OK_hand_medium-dark_skin_tone:',\n",
       " '👌🏼': ':OK_hand_medium-light_skin_tone:',\n",
       " '👌🏽': ':OK_hand_medium_skin_tone:',\n",
       " '🔛': ':ON!_arrow:',\n",
       " '🅾': ':O_button_(blood_type):',\n",
       " '🇴🇲': ':Oman:',\n",
       " '⛎': ':Ophiuchus:',\n",
       " '🅿': ':P_button:',\n",
       " '🇵🇰': ':Pakistan:',\n",
       " '🇵🇼': ':Palau:',\n",
       " '🇵🇸': ':Palestinian_Territories:',\n",
       " '🇵🇦': ':Panama:',\n",
       " '🇵🇬': ':Papua_New_Guinea:',\n",
       " '🇵🇾': ':Paraguay:',\n",
       " '🇵🇪': ':Peru:',\n",
       " '🇵🇭': ':Philippines:',\n",
       " '♓': ':Pisces:',\n",
       " '🇵🇳': ':Pitcairn_Islands:',\n",
       " '🇵🇱': ':Poland:',\n",
       " '🇵🇹': ':Portugal:',\n",
       " '🇵🇷': ':Puerto_Rico:',\n",
       " '🇶🇦': ':Qatar:',\n",
       " '🇷🇴': ':Romania:',\n",
       " '🇷🇺': ':Russia:',\n",
       " '🇷🇼': ':Rwanda:',\n",
       " '🇷🇪': ':Réunion:',\n",
       " '🔜': ':SOON_arrow:',\n",
       " '🆘': ':SOS_button:',\n",
       " '♐': ':Sagittarius:',\n",
       " '🇼🇸': ':Samoa:',\n",
       " '🇸🇲': ':San_Marino:',\n",
       " '🎅': ':Santa_Claus:',\n",
       " '🎅🏿': ':Santa_Claus_dark_skin_tone:',\n",
       " '🎅🏻': ':Santa_Claus_light_skin_tone:',\n",
       " '🎅🏾': ':Santa_Claus_medium-dark_skin_tone:',\n",
       " '🎅🏼': ':Santa_Claus_medium-light_skin_tone:',\n",
       " '🎅🏽': ':Santa_Claus_medium_skin_tone:',\n",
       " '🇸🇦': ':Saudi_Arabia:',\n",
       " '♏': ':Scorpio:',\n",
       " '🏴\\U000e0067\\U000e0062\\U000e0073\\U000e0063\\U000e0074\\U000e007f': ':Scotland:',\n",
       " '🇸🇳': ':Senegal:',\n",
       " '🇷🇸': ':Serbia:',\n",
       " '🇸🇨': ':Seychelles:',\n",
       " '🇸🇱': ':Sierra_Leone:',\n",
       " '🇸🇬': ':Singapore:',\n",
       " '🇸🇽': ':Sint_Maarten:',\n",
       " '🇸🇰': ':Slovakia:',\n",
       " '🇸🇮': ':Slovenia:',\n",
       " '🇸🇧': ':Solomon_Islands:',\n",
       " '🇸🇴': ':Somalia:',\n",
       " '🇿🇦': ':South_Africa:',\n",
       " '🇬🇸': ':South_Georgia_&_South_Sandwich_Islands:',\n",
       " '🇰🇷': ':South_Korea:',\n",
       " '🇸🇸': ':South_Sudan:',\n",
       " '🇪🇸': ':Spain:',\n",
       " '🇱🇰': ':Sri_Lanka:',\n",
       " '🇧🇱': ':St._Barthélemy:',\n",
       " '🇸🇭': ':St._Helena:',\n",
       " '🇰🇳': ':St._Kitts_&_Nevis:',\n",
       " '🇱🇨': ':St._Lucia:',\n",
       " '🇲🇫': ':St._Martin:',\n",
       " '🇵🇲': ':St._Pierre_&_Miquelon:',\n",
       " '🇻🇨': ':St._Vincent_&_Grenadines:',\n",
       " '🗽': ':Statue_of_Liberty:',\n",
       " '🇸🇩': ':Sudan:',\n",
       " '🇸🇷': ':Suriname:',\n",
       " '🇸🇯': ':Svalbard_&_Jan_Mayen:',\n",
       " '🇸🇿': ':Swaziland:',\n",
       " '🇸🇪': ':Sweden:',\n",
       " '🇨🇭': ':Switzerland:',\n",
       " '🇸🇾': ':Syria:',\n",
       " '🇸🇹': ':São_Tomé_&_Príncipe:',\n",
       " '🦖': ':T-Rex:',\n",
       " '🔝': ':TOP_arrow:',\n",
       " '🇹🇼': ':Taiwan:',\n",
       " '🇹🇯': ':Tajikistan:',\n",
       " '🇹🇿': ':Tanzania:',\n",
       " '♉': ':Taurus:',\n",
       " '🇹🇭': ':Thailand:',\n",
       " '🇹🇱': ':Timor-Leste:',\n",
       " '🇹🇬': ':Togo:',\n",
       " '🇹🇰': ':Tokelau:',\n",
       " '🗼': ':Tokyo_tower:',\n",
       " '🇹🇴': ':Tonga:',\n",
       " '🇹🇹': ':Trinidad_&_Tobago:',\n",
       " '🇹🇦': ':Tristan_da_Cunha:',\n",
       " '🇹🇳': ':Tunisia:',\n",
       " '🇹🇷': ':Turkey:',\n",
       " '🇹🇲': ':Turkmenistan:',\n",
       " '🇹🇨': ':Turks_&_Caicos_Islands:',\n",
       " '🇹🇻': ':Tuvalu:',\n",
       " '🇺🇲': ':U.S._Outlying_Islands:',\n",
       " '🇻🇮': ':U.S._Virgin_Islands:',\n",
       " '🆙': ':UP!_button:',\n",
       " '🇺🇬': ':Uganda:',\n",
       " '🇺🇦': ':Ukraine:',\n",
       " '🇦🇪': ':United_Arab_Emirates:',\n",
       " '🇬🇧': ':United_Kingdom:',\n",
       " '🇺🇳': ':United_Nations:',\n",
       " '🇺🇸': ':United_States:',\n",
       " '🇺🇾': ':Uruguay:',\n",
       " '🇺🇿': ':Uzbekistan:',\n",
       " '🆚': ':VS_button:',\n",
       " '🇻🇺': ':Vanuatu:',\n",
       " '🇻🇦': ':Vatican_City:',\n",
       " '🇻🇪': ':Venezuela:',\n",
       " '🇻🇳': ':Vietnam:',\n",
       " '♍': ':Virgo:',\n",
       " '🏴\\U000e0067\\U000e0062\\U000e0077\\U000e006c\\U000e0073\\U000e007f': ':Wales:',\n",
       " '🇼🇫': ':Wallis_&_Futuna:',\n",
       " '🇪🇭': ':Western_Sahara:',\n",
       " '🇾🇪': ':Yemen:',\n",
       " '🇿🇲': ':Zambia:',\n",
       " '🇿🇼': ':Zimbabwe:',\n",
       " '🧮': ':abacus:',\n",
       " '\\U0001fa79': ':adhesive_bandage:',\n",
       " '🎟': ':admission_tickets:',\n",
       " '🧑': ':adult:',\n",
       " '🧑🏿': ':adult_dark_skin_tone:',\n",
       " '🧑🏻': ':adult_light_skin_tone:',\n",
       " '🧑🏾': ':adult_medium-dark_skin_tone:',\n",
       " '🧑🏼': ':adult_medium-light_skin_tone:',\n",
       " '🧑🏽': ':adult_medium_skin_tone:',\n",
       " '🚡': ':aerial_tramway:',\n",
       " '✈': ':airplane:',\n",
       " '🛬': ':airplane_arrival:',\n",
       " '🛫': ':airplane_departure:',\n",
       " '⏰': ':alarm_clock:',\n",
       " '⚗': ':alembic:',\n",
       " '👽': ':alien:',\n",
       " '👾': ':alien_monster:',\n",
       " '🚑': ':ambulance:',\n",
       " '🏈': ':american_football:',\n",
       " '🏺': ':amphora:',\n",
       " '⚓': ':anchor:',\n",
       " '💢': ':anger_symbol:',\n",
       " '😠': ':angry_face:',\n",
       " '👿': ':angry_face_with_horns:',\n",
       " '😧': ':anguished_face:',\n",
       " '🐜': ':ant:',\n",
       " '📶': ':antenna_bars:',\n",
       " '😰': ':anxious_face_with_sweat:',\n",
       " '🚛': ':articulated_lorry:',\n",
       " '🎨': ':artist_palette:',\n",
       " '😲': ':astonished_face:',\n",
       " '⚛': ':atom_symbol:',\n",
       " '\\U0001f6fa': ':auto_rickshaw:',\n",
       " '🚗': ':automobile:',\n",
       " '🥑': ':avocado:',\n",
       " '\\U0001fa93': ':axe:',\n",
       " '👶': ':baby:',\n",
       " '👼': ':baby_angel:',\n",
       " '👼🏿': ':baby_angel_dark_skin_tone:',\n",
       " '👼🏻': ':baby_angel_light_skin_tone:',\n",
       " '👼🏾': ':baby_angel_medium-dark_skin_tone:',\n",
       " '👼🏼': ':baby_angel_medium-light_skin_tone:',\n",
       " '👼🏽': ':baby_angel_medium_skin_tone:',\n",
       " '🍼': ':baby_bottle:',\n",
       " '🐤': ':baby_chick:',\n",
       " '👶🏿': ':baby_dark_skin_tone:',\n",
       " '👶🏻': ':baby_light_skin_tone:',\n",
       " '👶🏾': ':baby_medium-dark_skin_tone:',\n",
       " '👶🏼': ':baby_medium-light_skin_tone:',\n",
       " '👶🏽': ':baby_medium_skin_tone:',\n",
       " '🚼': ':baby_symbol:',\n",
       " '👇': ':backhand_index_pointing_down:',\n",
       " '👇🏿': ':backhand_index_pointing_down_dark_skin_tone:',\n",
       " '👇🏻': ':backhand_index_pointing_down_light_skin_tone:',\n",
       " '👇🏾': ':backhand_index_pointing_down_medium-dark_skin_tone:',\n",
       " '👇🏼': ':backhand_index_pointing_down_medium-light_skin_tone:',\n",
       " '👇🏽': ':backhand_index_pointing_down_medium_skin_tone:',\n",
       " '👈': ':backhand_index_pointing_left:',\n",
       " '👈🏿': ':backhand_index_pointing_left_dark_skin_tone:',\n",
       " '👈🏻': ':backhand_index_pointing_left_light_skin_tone:',\n",
       " '👈🏾': ':backhand_index_pointing_left_medium-dark_skin_tone:',\n",
       " '👈🏼': ':backhand_index_pointing_left_medium-light_skin_tone:',\n",
       " '👈🏽': ':backhand_index_pointing_left_medium_skin_tone:',\n",
       " '👉': ':backhand_index_pointing_right:',\n",
       " '👉🏿': ':backhand_index_pointing_right_dark_skin_tone:',\n",
       " '👉🏻': ':backhand_index_pointing_right_light_skin_tone:',\n",
       " '👉🏾': ':backhand_index_pointing_right_medium-dark_skin_tone:',\n",
       " '👉🏼': ':backhand_index_pointing_right_medium-light_skin_tone:',\n",
       " '👉🏽': ':backhand_index_pointing_right_medium_skin_tone:',\n",
       " '👆': ':backhand_index_pointing_up:',\n",
       " '👆🏿': ':backhand_index_pointing_up_dark_skin_tone:',\n",
       " '👆🏻': ':backhand_index_pointing_up_light_skin_tone:',\n",
       " '👆🏾': ':backhand_index_pointing_up_medium-dark_skin_tone:',\n",
       " '👆🏼': ':backhand_index_pointing_up_medium-light_skin_tone:',\n",
       " '👆🏽': ':backhand_index_pointing_up_medium_skin_tone:',\n",
       " '🥓': ':bacon:',\n",
       " '🦡': ':badger:',\n",
       " '🏸': ':badminton:',\n",
       " '🥯': ':bagel:',\n",
       " '🛄': ':baggage_claim:',\n",
       " '🥖': ':baguette_bread:',\n",
       " '⚖': ':balance_scale:',\n",
       " '🦲': ':bald:',\n",
       " '👨\\u200d🦲': ':bald_man:',\n",
       " '👩\\u200d🦲': ':bald_woman:',\n",
       " '\\U0001fa70': ':ballet_shoes:',\n",
       " '🎈': ':balloon:',\n",
       " '🗳': ':ballot_box_with_ballot:',\n",
       " '☑': ':ballot_box_with_check:',\n",
       " '🍌': ':banana:',\n",
       " '\\U0001fa95': ':banjo:',\n",
       " '🏦': ':bank:',\n",
       " '📊': ':bar_chart:',\n",
       " '💈': ':barber_pole:',\n",
       " '⚾': ':baseball:',\n",
       " '🧺': ':basket:',\n",
       " '🏀': ':basketball:',\n",
       " '🦇': ':bat:',\n",
       " '🛁': ':bathtub:',\n",
       " '🔋': ':battery:',\n",
       " '🏖': ':beach_with_umbrella:',\n",
       " '😁': ':beaming_face_with_smiling_eyes:',\n",
       " '🐻': ':bear_face:',\n",
       " '🧔': ':bearded_person:',\n",
       " '🧔🏿': ':bearded_person_dark_skin_tone:',\n",
       " '🧔🏻': ':bearded_person_light_skin_tone:',\n",
       " '🧔🏾': ':bearded_person_medium-dark_skin_tone:',\n",
       " '🧔🏼': ':bearded_person_medium-light_skin_tone:',\n",
       " '🧔🏽': ':bearded_person_medium_skin_tone:',\n",
       " '💓': ':beating_heart:',\n",
       " '🛏': ':bed:',\n",
       " '🍺': ':beer_mug:',\n",
       " '🔔': ':bell:',\n",
       " '🔕': ':bell_with_slash:',\n",
       " '🛎': ':bellhop_bell:',\n",
       " '🍱': ':bento_box:',\n",
       " '\\U0001f9c3': ':beverage_box:',\n",
       " '🚲': ':bicycle:',\n",
       " '👙': ':bikini:',\n",
       " '🧢': ':billed_cap:',\n",
       " '☣': ':biohazard:',\n",
       " '🐦': ':bird:',\n",
       " '🎂': ':birthday_cake:',\n",
       " '⚫': ':black_circle:',\n",
       " '🏴': ':black_flag:',\n",
       " '🖤': ':black_heart:',\n",
       " '⬛': ':black_large_square:',\n",
       " '◾': ':black_medium-small_square:',\n",
       " '◼': ':black_medium_square:',\n",
       " '✒': ':black_nib:',\n",
       " '▪': ':black_small_square:',\n",
       " '🔲': ':black_square_button:',\n",
       " '👱\\u200d♂️': ':blond-haired_man:',\n",
       " '👱🏿\\u200d♂️': ':blond-haired_man_dark_skin_tone:',\n",
       " '👱🏻\\u200d♂️': ':blond-haired_man_light_skin_tone:',\n",
       " '👱🏾\\u200d♂️': ':blond-haired_man_medium-dark_skin_tone:',\n",
       " '👱🏼\\u200d♂️': ':blond-haired_man_medium-light_skin_tone:',\n",
       " '👱🏽\\u200d♂️': ':blond-haired_man_medium_skin_tone:',\n",
       " '👱': ':blond-haired_person:',\n",
       " '👱🏿': ':blond-haired_person_dark_skin_tone:',\n",
       " '👱🏻': ':blond-haired_person_light_skin_tone:',\n",
       " '👱🏾': ':blond-haired_person_medium-dark_skin_tone:',\n",
       " '👱🏼': ':blond-haired_person_medium-light_skin_tone:',\n",
       " '👱🏽': ':blond-haired_person_medium_skin_tone:',\n",
       " '👱\\u200d♀️': ':blond-haired_woman:',\n",
       " '👱🏿\\u200d♀️': ':blond-haired_woman_dark_skin_tone:',\n",
       " '👱🏻\\u200d♀️': ':blond-haired_woman_light_skin_tone:',\n",
       " '👱🏾\\u200d♀️': ':blond-haired_woman_medium-dark_skin_tone:',\n",
       " '👱🏼\\u200d♀️': ':blond-haired_woman_medium-light_skin_tone:',\n",
       " '👱🏽\\u200d♀️': ':blond-haired_woman_medium_skin_tone:',\n",
       " '🌼': ':blossom:',\n",
       " '🐡': ':blowfish:',\n",
       " '📘': ':blue_book:',\n",
       " '🔵': ':blue_circle:',\n",
       " '💙': ':blue_heart:',\n",
       " '\\U0001f7e6': ':blue_square:',\n",
       " '🐗': ':boar:',\n",
       " '💣': ':bomb:',\n",
       " '🦴': ':bone:',\n",
       " '🔖': ':bookmark:',\n",
       " '📑': ':bookmark_tabs:',\n",
       " '📚': ':books:',\n",
       " '🍾': ':bottle_with_popping_cork:',\n",
       " '💐': ':bouquet:',\n",
       " '🏹': ':bow_and_arrow:',\n",
       " '🥣': ':bowl_with_spoon:',\n",
       " '🎳': ':bowling:',\n",
       " '🥊': ':boxing_glove:',\n",
       " '👦': ':boy:',\n",
       " '👦🏿': ':boy_dark_skin_tone:',\n",
       " '👦🏻': ':boy_light_skin_tone:',\n",
       " '👦🏾': ':boy_medium-dark_skin_tone:',\n",
       " '👦🏼': ':boy_medium-light_skin_tone:',\n",
       " '👦🏽': ':boy_medium_skin_tone:',\n",
       " '🧠': ':brain:',\n",
       " '🍞': ':bread:',\n",
       " '🤱': ':breast-feeding:',\n",
       " '🤱🏿': ':breast-feeding_dark_skin_tone:',\n",
       " '🤱🏻': ':breast-feeding_light_skin_tone:',\n",
       " '🤱🏾': ':breast-feeding_medium-dark_skin_tone:',\n",
       " '🤱🏼': ':breast-feeding_medium-light_skin_tone:',\n",
       " '🤱🏽': ':breast-feeding_medium_skin_tone:',\n",
       " '🧱': ':brick:',\n",
       " '👰': ':bride_with_veil:',\n",
       " '👰🏿': ':bride_with_veil_dark_skin_tone:',\n",
       " '👰🏻': ':bride_with_veil_light_skin_tone:',\n",
       " '👰🏾': ':bride_with_veil_medium-dark_skin_tone:',\n",
       " '👰🏼': ':bride_with_veil_medium-light_skin_tone:',\n",
       " '👰🏽': ':bride_with_veil_medium_skin_tone:',\n",
       " '🌉': ':bridge_at_night:',\n",
       " '💼': ':briefcase:',\n",
       " '\\U0001fa72': ':briefs:',\n",
       " '🔆': ':bright_button:',\n",
       " '🥦': ':broccoli:',\n",
       " '💔': ':broken_heart:',\n",
       " '🧹': ':broom:',\n",
       " '\\U0001f7e4': ':brown_circle:',\n",
       " '\\U0001f90e': ':brown_heart:',\n",
       " '\\U0001f7eb': ':brown_square:',\n",
       " '🐛': ':bug:',\n",
       " '🏗': ':building_construction:',\n",
       " '🚅': ':bullet_train:',\n",
       " '🌯': ':burrito:',\n",
       " '🚌': ':bus:',\n",
       " '🚏': ':bus_stop:',\n",
       " '👤': ':bust_in_silhouette:',\n",
       " '👥': ':busts_in_silhouette:',\n",
       " '\\U0001f9c8': ':butter:',\n",
       " '🦋': ':butterfly:',\n",
       " '🌵': ':cactus:',\n",
       " '📅': ':calendar:',\n",
       " '🤙': ':call_me_hand:',\n",
       " '🤙🏿': ':call_me_hand_dark_skin_tone:',\n",
       " '🤙🏻': ':call_me_hand_light_skin_tone:',\n",
       " '🤙🏾': ':call_me_hand_medium-dark_skin_tone:',\n",
       " '🤙🏼': ':call_me_hand_medium-light_skin_tone:',\n",
       " '🤙🏽': ':call_me_hand_medium_skin_tone:',\n",
       " '🐪': ':camel:',\n",
       " '📷': ':camera:',\n",
       " '📸': ':camera_with_flash:',\n",
       " '🏕': ':camping:',\n",
       " '🕯': ':candle:',\n",
       " '🍬': ':candy:',\n",
       " '🥫': ':canned_food:',\n",
       " '🛶': ':canoe:',\n",
       " '🗃': ':card_file_box:',\n",
       " '📇': ':card_index:',\n",
       " '🗂': ':card_index_dividers:',\n",
       " '🎠': ':carousel_horse:',\n",
       " '🎏': ':carp_streamer:',\n",
       " '🥕': ':carrot:',\n",
       " '🏰': ':castle:',\n",
       " '🐈': ':cat:',\n",
       " '🐱': ':cat_face:',\n",
       " '😹': ':cat_face_with_tears_of_joy:',\n",
       " '😼': ':cat_face_with_wry_smile:',\n",
       " '⛓': ':chains:',\n",
       " '\\U0001fa91': ':chair:',\n",
       " '📉': ':chart_decreasing:',\n",
       " '📈': ':chart_increasing:',\n",
       " '💹': ':chart_increasing_with_yen:',\n",
       " '🧀': ':cheese_wedge:',\n",
       " '🏁': ':chequered_flag:',\n",
       " '🍒': ':cherries:',\n",
       " '🌸': ':cherry_blossom:',\n",
       " '♟': ':chess_pawn:',\n",
       " '🌰': ':chestnut:',\n",
       " '🐔': ':chicken:',\n",
       " '🧒': ':child:',\n",
       " '🧒🏿': ':child_dark_skin_tone:',\n",
       " '🧒🏻': ':child_light_skin_tone:',\n",
       " '🧒🏾': ':child_medium-dark_skin_tone:',\n",
       " '🧒🏼': ':child_medium-light_skin_tone:',\n",
       " '🧒🏽': ':child_medium_skin_tone:',\n",
       " '🚸': ':children_crossing:',\n",
       " '🐿': ':chipmunk:',\n",
       " '🍫': ':chocolate_bar:',\n",
       " '🥢': ':chopsticks:',\n",
       " '⛪': ':church:',\n",
       " '🚬': ':cigarette:',\n",
       " '🎦': ':cinema:',\n",
       " 'Ⓜ': ':circled_M:',\n",
       " '🎪': ':circus_tent:',\n",
       " '🏙': ':cityscape:',\n",
       " '🌆': ':cityscape_at_dusk:',\n",
       " '🗜': ':clamp:',\n",
       " '🎬': ':clapper_board:',\n",
       " '👏': ':clapping_hands:',\n",
       " '👏🏿': ':clapping_hands_dark_skin_tone:',\n",
       " '👏🏻': ':clapping_hands_light_skin_tone:',\n",
       " '👏🏾': ':clapping_hands_medium-dark_skin_tone:',\n",
       " '👏🏼': ':clapping_hands_medium-light_skin_tone:',\n",
       " '👏🏽': ':clapping_hands_medium_skin_tone:',\n",
       " '🏛': ':classical_building:',\n",
       " '🍻': ':clinking_beer_mugs:',\n",
       " '🥂': ':clinking_glasses:',\n",
       " '📋': ':clipboard:',\n",
       " '🔃': ':clockwise_vertical_arrows:',\n",
       " '📕': ':closed_book:',\n",
       " '📪': ':closed_mailbox_with_lowered_flag:',\n",
       " '📫': ':closed_mailbox_with_raised_flag:',\n",
       " '🌂': ':closed_umbrella:',\n",
       " '☁': ':cloud:',\n",
       " '🌩': ':cloud_with_lightning:',\n",
       " '⛈': ':cloud_with_lightning_and_rain:',\n",
       " '🌧': ':cloud_with_rain:',\n",
       " '🌨': ':cloud_with_snow:',\n",
       " '🤡': ':clown_face:',\n",
       " '♣': ':club_suit:',\n",
       " '👝': ':clutch_bag:',\n",
       " '🧥': ':coat:',\n",
       " '🍸': ':cocktail_glass:',\n",
       " '🥥': ':coconut:',\n",
       " '⚰': ':coffin:',\n",
       " '🥶': ':cold_face:',\n",
       " '💥': ':collision:',\n",
       " '☄': ':comet:',\n",
       " '🧭': ':compass:',\n",
       " '💽': ':computer_disk:',\n",
       " '🖱': ':computer_mouse:',\n",
       " '🎊': ':confetti_ball:',\n",
       " '😖': ':confounded_face:',\n",
       " '😕': ':confused_face:',\n",
       " '🚧': ':construction:',\n",
       " '👷': ':construction_worker:',\n",
       " '👷🏿': ':construction_worker_dark_skin_tone:',\n",
       " '👷🏻': ':construction_worker_light_skin_tone:',\n",
       " '👷🏾': ':construction_worker_medium-dark_skin_tone:',\n",
       " '👷🏼': ':construction_worker_medium-light_skin_tone:',\n",
       " '👷🏽': ':construction_worker_medium_skin_tone:',\n",
       " '🎛': ':control_knobs:',\n",
       " '🏪': ':convenience_store:',\n",
       " '🍚': ':cooked_rice:',\n",
       " '🍪': ':cookie:',\n",
       " '🍳': ':cooking:',\n",
       " '©': ':copyright:',\n",
       " '🛋': ':couch_and_lamp:',\n",
       " '🔄': ':counterclockwise_arrows_button:',\n",
       " '💑': ':couple_with_heart:',\n",
       " '👨\\u200d❤️\\u200d👨': ':couple_with_heart_man_man:',\n",
       " '👩\\u200d❤️\\u200d👨': ':couple_with_heart_woman_man:',\n",
       " '👩\\u200d❤️\\u200d👩': ':couple_with_heart_woman_woman:',\n",
       " '🐄': ':cow:',\n",
       " '🐮': ':cow_face:',\n",
       " '🤠': ':cowboy_hat_face:',\n",
       " '🦀': ':crab:',\n",
       " '🖍': ':crayon:',\n",
       " '💳': ':credit_card:',\n",
       " '🌙': ':crescent_moon:',\n",
       " '🦗': ':cricket:',\n",
       " '🏏': ':cricket_game:',\n",
       " '🐊': ':crocodile:',\n",
       " '🥐': ':croissant:',\n",
       " '❌': ':cross_mark:',\n",
       " '❎': ':cross_mark_button:',\n",
       " '🤞': ':crossed_fingers:',\n",
       " '🤞🏿': ':crossed_fingers_dark_skin_tone:',\n",
       " '🤞🏻': ':crossed_fingers_light_skin_tone:',\n",
       " '🤞🏾': ':crossed_fingers_medium-dark_skin_tone:',\n",
       " '🤞🏼': ':crossed_fingers_medium-light_skin_tone:',\n",
       " '🤞🏽': ':crossed_fingers_medium_skin_tone:',\n",
       " '🎌': ':crossed_flags:',\n",
       " '⚔': ':crossed_swords:',\n",
       " '👑': ':crown:',\n",
       " '😿': ':crying_cat_face:',\n",
       " '😢': ':crying_face:',\n",
       " '🔮': ':crystal_ball:',\n",
       " '🥒': ':cucumber:',\n",
       " '🧁': ':cupcake:',\n",
       " '🥤': ':cup_with_straw:',\n",
       " '🥌': ':curling_stone:',\n",
       " '🦱': ':curly_hair:',\n",
       " '👨\\u200d🦱': ':curly-haired_man:',\n",
       " '👩\\u200d🦱': ':curly-haired_woman:',\n",
       " '➰': ':curly_loop:',\n",
       " '💱': ':currency_exchange:',\n",
       " '🍛': ':curry_rice:',\n",
       " '🍮': ':custard:',\n",
       " '🛃': ':customs:',\n",
       " '🥩': ':cut_of_meat:',\n",
       " '🌀': ':cyclone:',\n",
       " '🗡': ':dagger:',\n",
       " '🍡': ':dango:',\n",
       " '💨': ':dashing_away:',\n",
       " '\\U0001f9cf': ':deaf_person:',\n",
       " '🌳': ':deciduous_tree:',\n",
       " '🦌': ':deer:',\n",
       " '🚚': ':delivery_truck:',\n",
       " '🏬': ':department_store:',\n",
       " '🏚': ':derelict_house:',\n",
       " '🏜': ':desert:',\n",
       " '🏝': ':desert_island:',\n",
       " '🖥': ':desktop_computer:',\n",
       " '🕵': ':detective:',\n",
       " '🕵🏿': ':detective_dark_skin_tone:',\n",
       " '🕵🏻': ':detective_light_skin_tone:',\n",
       " '🕵🏾': ':detective_medium-dark_skin_tone:',\n",
       " '🕵🏼': ':detective_medium-light_skin_tone:',\n",
       " '🕵🏽': ':detective_medium_skin_tone:',\n",
       " '♦': ':diamond_suit:',\n",
       " '💠': ':diamond_with_a_dot:',\n",
       " '🔅': ':dim_button:',\n",
       " '🎯': ':direct_hit:',\n",
       " '😞': ':disappointed_face:',\n",
       " '\\U0001f93f': ':diving_mask:',\n",
       " '\\U0001fa94': ':diya_lamp:',\n",
       " '💫': ':dizzy:',\n",
       " '😵': ':dizzy_face:',\n",
       " '🧬': ':dna:',\n",
       " '🐕': ':dog:',\n",
       " '🐶': ':dog_face:',\n",
       " '💵': ':dollar_banknote:',\n",
       " '🐬': ':dolphin:',\n",
       " '🚪': ':door:',\n",
       " '🔯': ':dotted_six-pointed_star:',\n",
       " '➿': ':double_curly_loop:',\n",
       " '‼': ':double_exclamation_mark:',\n",
       " '🍩': ':doughnut:',\n",
       " '🕊': ':dove:',\n",
       " '↙': ':down-left_arrow:',\n",
       " '↘': ':down-right_arrow:',\n",
       " '⬇': ':down_arrow:',\n",
       " '😓': ':downcast_face_with_sweat:',\n",
       " '🔽': ':downwards_button:',\n",
       " '🐉': ':dragon:',\n",
       " '🐲': ':dragon_face:',\n",
       " '👗': ':dress:',\n",
       " '🤤': ':drooling_face:',\n",
       " '\\U0001fa78': ':drop_of_blood:',\n",
       " '💧': ':droplet:',\n",
       " '🥁': ':drum:',\n",
       " '🦆': ':duck:',\n",
       " '🥟': ':dumpling:',\n",
       " '📀': ':dvd:',\n",
       " '📧': ':e-mail:',\n",
       " '🦅': ':eagle:',\n",
       " '👂': ':ear:',\n",
       " '👂🏿': ':ear_dark_skin_tone:',\n",
       " '👂🏻': ':ear_light_skin_tone:',\n",
       " '👂🏾': ':ear_medium-dark_skin_tone:',\n",
       " '👂🏼': ':ear_medium-light_skin_tone:',\n",
       " '👂🏽': ':ear_medium_skin_tone:',\n",
       " '🌽': ':ear_of_corn:',\n",
       " '\\U0001f9bb': ':ear_with_hearing_aid:',\n",
       " '🥚': ':egg:',\n",
       " '🍆': ':eggplant:',\n",
       " '✴': ':eight-pointed_star:',\n",
       " '✳': ':eight-spoked_asterisk:',\n",
       " '🕣': ':eight-thirty:',\n",
       " '🕗': ':eight_o’clock:',\n",
       " '⏏': ':eject_button:',\n",
       " '🔌': ':electric_plug:',\n",
       " '🐘': ':elephant:',\n",
       " '🕦': ':eleven-thirty:',\n",
       " '🕚': ':eleven_o’clock:',\n",
       " '🧝': ':elf:',\n",
       " '🧝🏿': ':elf_dark_skin_tone:',\n",
       " '🧝🏻': ':elf_light_skin_tone:',\n",
       " '🧝🏾': ':elf_medium-dark_skin_tone:',\n",
       " '🧝🏼': ':elf_medium-light_skin_tone:',\n",
       " '🧝🏽': ':elf_medium_skin_tone:',\n",
       " '✉': ':envelope:',\n",
       " '📩': ':envelope_with_arrow:',\n",
       " '💶': ':euro_banknote:',\n",
       " '🌲': ':evergreen_tree:',\n",
       " '🐑': ':ewe:',\n",
       " '❗': ':exclamation_mark:',\n",
       " '⁉': ':exclamation_question_mark:',\n",
       " '🤯': ':exploding_head:',\n",
       " '😑': ':expressionless_face:',\n",
       " '👁': ':eye:',\n",
       " '👁️\\u200d🗨️': ':eye_in_speech_bubble:',\n",
       " '👀': ':eyes:',\n",
       " '😘': ':face_blowing_a_kiss:',\n",
       " '😋': ':face_savoring_food:',\n",
       " '😱': ':face_screaming_in_fear:',\n",
       " '🤮': ':face_vomiting:',\n",
       " '🤭': ':face_with_hand_over_mouth:',\n",
       " '🤕': ':face_with_head-bandage:',\n",
       " '😷': ':face_with_medical_mask:',\n",
       " '🧐': ':face_with_monocle:',\n",
       " '😮': ':face_with_open_mouth:',\n",
       " '🤨': ':face_with_raised_eyebrow:',\n",
       " '🙄': ':face_with_rolling_eyes:',\n",
       " '😤': ':face_with_steam_from_nose:',\n",
       " '🤬': ':face_with_symbols_on_mouth:',\n",
       " '😂': ':face_with_tears_of_joy:',\n",
       " '🤒': ':face_with_thermometer:',\n",
       " '😛': ':face_with_tongue:',\n",
       " '😶': ':face_without_mouth:',\n",
       " '🏭': ':factory:',\n",
       " '🧚': ':fairy:',\n",
       " '🧚🏿': ':fairy_dark_skin_tone:',\n",
       " '🧚🏻': ':fairy_light_skin_tone:',\n",
       " '🧚🏾': ':fairy_medium-dark_skin_tone:',\n",
       " '🧚🏼': ':fairy_medium-light_skin_tone:',\n",
       " '🧚🏽': ':fairy_medium_skin_tone:',\n",
       " '\\U0001f9c6': ':falafel:',\n",
       " '🍂': ':fallen_leaf:',\n",
       " '👪': ':family:',\n",
       " '👨\\u200d👦': ':family_man_boy:',\n",
       " '👨\\u200d👦\\u200d👦': ':family_man_boy_boy:',\n",
       " '👨\\u200d👧': ':family_man_girl:',\n",
       " '👨\\u200d👧\\u200d👦': ':family_man_girl_boy:',\n",
       " '👨\\u200d👧\\u200d👧': ':family_man_girl_girl:',\n",
       " '👨\\u200d👨\\u200d👦': ':family_man_man_boy:',\n",
       " '👨\\u200d👨\\u200d👦\\u200d👦': ':family_man_man_boy_boy:',\n",
       " '👨\\u200d👨\\u200d👧': ':family_man_man_girl:',\n",
       " '👨\\u200d👨\\u200d👧\\u200d👦': ':family_man_man_girl_boy:',\n",
       " '👨\\u200d👨\\u200d👧\\u200d👧': ':family_man_man_girl_girl:',\n",
       " '👨\\u200d👩\\u200d👦': ':family_man_woman_boy:',\n",
       " '👨\\u200d👩\\u200d👦\\u200d👦': ':family_man_woman_boy_boy:',\n",
       " '👨\\u200d👩\\u200d👧': ':family_man_woman_girl:',\n",
       " '👨\\u200d👩\\u200d👧\\u200d👦': ':family_man_woman_girl_boy:',\n",
       " '👨\\u200d👩\\u200d👧\\u200d👧': ':family_man_woman_girl_girl:',\n",
       " '👩\\u200d👦': ':family_woman_boy:',\n",
       " '👩\\u200d👦\\u200d👦': ':family_woman_boy_boy:',\n",
       " '👩\\u200d👧': ':family_woman_girl:',\n",
       " '👩\\u200d👧\\u200d👦': ':family_woman_girl_boy:',\n",
       " '👩\\u200d👧\\u200d👧': ':family_woman_girl_girl:',\n",
       " '👩\\u200d👩\\u200d👦': ':family_woman_woman_boy:',\n",
       " '👩\\u200d👩\\u200d👦\\u200d👦': ':family_woman_woman_boy_boy:',\n",
       " '👩\\u200d👩\\u200d👧': ':family_woman_woman_girl:',\n",
       " '👩\\u200d👩\\u200d👧\\u200d👦': ':family_woman_woman_girl_boy:',\n",
       " '👩\\u200d👩\\u200d👧\\u200d👧': ':family_woman_woman_girl_girl:',\n",
       " '⏩': ':fast-forward_button:',\n",
       " '⏬': ':fast_down_button:',\n",
       " '⏪': ':fast_reverse_button:',\n",
       " '⏫': ':fast_up_button:',\n",
       " '📠': ':fax_machine:',\n",
       " '😨': ':fearful_face:',\n",
       " '♀': ':female_sign:',\n",
       " '🎡': ':ferris_wheel:',\n",
       " '⛴': ':ferry:',\n",
       " '🏑': ':field_hockey:',\n",
       " '🗄': ':file_cabinet:',\n",
       " '📁': ':file_folder:',\n",
       " '🎞': ':film_frames:',\n",
       " '📽': ':film_projector:',\n",
       " '🔥': ':fire:',\n",
       " '🧯': ':fire_extinguisher:',\n",
       " '🧨': ':firecracker:',\n",
       " '🚒': ':fire_engine:',\n",
       " '🎆': ':fireworks:',\n",
       " '🌓': ':first_quarter_moon:',\n",
       " '🌛': ':first_quarter_moon_face:',\n",
       " '🐟': ':fish:',\n",
       " '🍥': ':fish_cake_with_swirl:',\n",
       " '🎣': ':fishing_pole:',\n",
       " '🕠': ':five-thirty:',\n",
       " '🕔': ':five_o’clock:',\n",
       " '⛳': ':flag_in_hole:',\n",
       " '\\U0001f9a9': ':flamingo:',\n",
       " '🔦': ':flashlight:',\n",
       " '🥿': ':flat_shoe:',\n",
       " '⚜': ':fleur-de-lis:',\n",
       " '💪': ':flexed_biceps:',\n",
       " '💪🏿': ':flexed_biceps_dark_skin_tone:',\n",
       " '💪🏻': ':flexed_biceps_light_skin_tone:',\n",
       " '💪🏾': ':flexed_biceps_medium-dark_skin_tone:',\n",
       " '💪🏼': ':flexed_biceps_medium-light_skin_tone:',\n",
       " '💪🏽': ':flexed_biceps_medium_skin_tone:',\n",
       " '💾': ':floppy_disk:',\n",
       " '🎴': ':flower_playing_cards:',\n",
       " '😳': ':flushed_face:',\n",
       " '🥏': ':flying_disc:',\n",
       " '🛸': ':flying_saucer:',\n",
       " '🌫': ':fog:',\n",
       " '🌁': ':foggy:',\n",
       " '🙏': ':folded_hands:',\n",
       " '🙏🏿': ':folded_hands_dark_skin_tone:',\n",
       " '🙏🏻': ':folded_hands_light_skin_tone:',\n",
       " '🙏🏾': ':folded_hands_medium-dark_skin_tone:',\n",
       " '🙏🏼': ':folded_hands_medium-light_skin_tone:',\n",
       " '🙏🏽': ':folded_hands_medium_skin_tone:',\n",
       " '🦶': ':foot:',\n",
       " '👣': ':footprints:',\n",
       " '🍴': ':fork_and_knife:',\n",
       " '🍽': ':fork_and_knife_with_plate:',\n",
       " '🥠': ':fortune_cookie:',\n",
       " '⛲': ':fountain:',\n",
       " '🖋': ':fountain_pen:',\n",
       " '🕟': ':four-thirty:',\n",
       " '🍀': ':four_leaf_clover:',\n",
       " '🕓': ':four_o’clock:',\n",
       " '🦊': ':fox_face:',\n",
       " '🖼': ':framed_picture:',\n",
       " '🍟': ':french_fries:',\n",
       " '🍤': ':fried_shrimp:',\n",
       " '🐸': ':frog_face:',\n",
       " '🐥': ':front-facing_baby_chick:',\n",
       " '☹': ':frowning_face:',\n",
       " '😦': ':frowning_face_with_open_mouth:',\n",
       " '⛽': ':fuel_pump:',\n",
       " '🌕': ':full_moon:',\n",
       " '🌝': ':full_moon_face:',\n",
       " '⚱': ':funeral_urn:',\n",
       " '🎲': ':game_die:',\n",
       " '\\U0001f9c4': ':garlic:',\n",
       " '⚙': ':gear:',\n",
       " '💎': ':gem_stone:',\n",
       " '🧞': ':genie:',\n",
       " '👻': ':ghost:',\n",
       " '🦒': ':giraffe:',\n",
       " '👧': ':girl:',\n",
       " '👧🏿': ':girl_dark_skin_tone:',\n",
       " '👧🏻': ':girl_light_skin_tone:',\n",
       " '👧🏾': ':girl_medium-dark_skin_tone:',\n",
       " '👧🏼': ':girl_medium-light_skin_tone:',\n",
       " '👧🏽': ':girl_medium_skin_tone:',\n",
       " '🥛': ':glass_of_milk:',\n",
       " '👓': ':glasses:',\n",
       " '🌎': ':globe_showing_Americas:',\n",
       " '🌏': ':globe_showing_Asia-Australia:',\n",
       " '🌍': ':globe_showing_Europe-Africa:',\n",
       " '🌐': ':globe_with_meridians:',\n",
       " '🧤': ':gloves:',\n",
       " '🌟': ':glowing_star:',\n",
       " '🥅': ':goal_net:',\n",
       " '🐐': ':goat:',\n",
       " '👺': ':goblin:',\n",
       " '🥽': ':goggles:',\n",
       " '🦍': ':gorilla:',\n",
       " '🎓': ':graduation_cap:',\n",
       " '🍇': ':grapes:',\n",
       " '🍏': ':green_apple:',\n",
       " '📗': ':green_book:',\n",
       " '\\U0001f7e2': ':green_circle:',\n",
       " '💚': ':green_heart:',\n",
       " '🥗': ':green_salad:',\n",
       " '\\U0001f7e9': ':green_square:',\n",
       " '😬': ':grimacing_face:',\n",
       " '😺': ':grinning_cat_face:',\n",
       " '😸': ':grinning_cat_face_with_smiling_eyes:',\n",
       " '😀': ':grinning_face:',\n",
       " '😃': ':grinning_face_with_big_eyes:',\n",
       " '😄': ':grinning_face_with_smiling_eyes:',\n",
       " '😅': ':grinning_face_with_sweat:',\n",
       " '😆': ':grinning_squinting_face:',\n",
       " '💗': ':growing_heart:',\n",
       " '💂': ':guard:',\n",
       " '💂🏿': ':guard_dark_skin_tone:',\n",
       " '💂🏻': ':guard_light_skin_tone:',\n",
       " '💂🏾': ':guard_medium-dark_skin_tone:',\n",
       " '💂🏼': ':guard_medium-light_skin_tone:',\n",
       " '💂🏽': ':guard_medium_skin_tone:',\n",
       " '\\U0001f9ae': ':guide_dog:',\n",
       " '🎸': ':guitar:',\n",
       " '🍔': ':hamburger:',\n",
       " '🔨': ':hammer:',\n",
       " '⚒': ':hammer_and_pick:',\n",
       " '🛠': ':hammer_and_wrench:',\n",
       " '🐹': ':hamster_face:',\n",
       " '🖐': ':hand_with_fingers_splayed:',\n",
       " '🖐🏿': ':hand_with_fingers_splayed_dark_skin_tone:',\n",
       " '🖐🏻': ':hand_with_fingers_splayed_light_skin_tone:',\n",
       " '🖐🏾': ':hand_with_fingers_splayed_medium-dark_skin_tone:',\n",
       " '🖐🏼': ':hand_with_fingers_splayed_medium-light_skin_tone:',\n",
       " '🖐🏽': ':hand_with_fingers_splayed_medium_skin_tone:',\n",
       " '👜': ':handbag:',\n",
       " '🤝': ':handshake:',\n",
       " '🐣': ':hatching_chick:',\n",
       " '🎧': ':headphone:',\n",
       " '🙉': ':hear-no-evil_monkey:',\n",
       " '💟': ':heart_decoration:',\n",
       " '♥': ':heart_suit:',\n",
       " '💘': ':heart_with_arrow:',\n",
       " '💝': ':heart_with_ribbon:',\n",
       " '✔': ':heavy_check_mark:',\n",
       " '➗': ':heavy_division_sign:',\n",
       " '💲': ':heavy_dollar_sign:',\n",
       " '❣': ':heavy_heart_exclamation:',\n",
       " '⭕': ':heavy_large_circle:',\n",
       " '➖': ':heavy_minus_sign:',\n",
       " '✖': ':heavy_multiplication_x:',\n",
       " '➕': ':heavy_plus_sign:',\n",
       " '🦔': ':hedgehog:',\n",
       " '🚁': ':helicopter:',\n",
       " '🌿': ':herb:',\n",
       " '🌺': ':hibiscus:',\n",
       " ...}"
      ]
     },
     "execution_count": 168,
     "metadata": {},
     "output_type": "execute_result"
    }
   ],
   "source": [
    "emoji.UNICODE_EMOJI"
   ]
  },
  {
   "cell_type": "code",
   "execution_count": 177,
   "metadata": {},
   "outputs": [],
   "source": [
    "def extract_emojis(string):\n",
    "    emoticon = \"\".join(c for c in string if c in emoji.UNICODE_EMOJI)\n",
    "    if emoticon!=\"\":\n",
    "        return emoticon\n",
    "    return None"
   ]
  },
  {
   "cell_type": "code",
   "execution_count": 194,
   "metadata": {},
   "outputs": [
    {
     "data": {
      "text/plain": [
       "'😊😳😏😁'"
      ]
     },
     "execution_count": 194,
     "metadata": {},
     "output_type": "execute_result"
    }
   ],
   "source": [
    "extract_emojis( \"😊😳😏😁\")"
   ]
  },
  {
   "cell_type": "code",
   "execution_count": 195,
   "metadata": {},
   "outputs": [],
   "source": [
    "extract_emojis('text without emojis')"
   ]
  },
  {
   "cell_type": "code",
   "execution_count": 196,
   "metadata": {},
   "outputs": [],
   "source": [
    "train['emoji']=train['text'].apply(lambda x: extract_emojis(x))"
   ]
  },
  {
   "cell_type": "code",
   "execution_count": 197,
   "metadata": {
    "scrolled": true
   },
   "outputs": [
    {
     "data": {
      "text/html": [
       "<div>\n",
       "<style scoped>\n",
       "    .dataframe tbody tr th:only-of-type {\n",
       "        vertical-align: middle;\n",
       "    }\n",
       "\n",
       "    .dataframe tbody tr th {\n",
       "        vertical-align: top;\n",
       "    }\n",
       "\n",
       "    .dataframe thead th {\n",
       "        text-align: right;\n",
       "    }\n",
       "</style>\n",
       "<table border=\"1\" class=\"dataframe\">\n",
       "  <thead>\n",
       "    <tr style=\"text-align: right;\">\n",
       "      <th></th>\n",
       "      <th>textID</th>\n",
       "      <th>text</th>\n",
       "      <th>selected_text</th>\n",
       "      <th>sentiment</th>\n",
       "      <th>url</th>\n",
       "      <th>emoji</th>\n",
       "    </tr>\n",
       "  </thead>\n",
       "  <tbody>\n",
       "  </tbody>\n",
       "</table>\n",
       "</div>"
      ],
      "text/plain": [
       "Empty DataFrame\n",
       "Columns: [textID, text, selected_text, sentiment, url, emoji]\n",
       "Index: []"
      ]
     },
     "execution_count": 197,
     "metadata": {},
     "output_type": "execute_result"
    }
   ],
   "source": [
    "train.loc[pd.notnull(train.emoji)]"
   ]
  },
  {
   "cell_type": "code",
   "execution_count": 198,
   "metadata": {},
   "outputs": [
    {
     "data": {
      "text/html": [
       "<div>\n",
       "<style scoped>\n",
       "    .dataframe tbody tr th:only-of-type {\n",
       "        vertical-align: middle;\n",
       "    }\n",
       "\n",
       "    .dataframe tbody tr th {\n",
       "        vertical-align: top;\n",
       "    }\n",
       "\n",
       "    .dataframe thead th {\n",
       "        text-align: right;\n",
       "    }\n",
       "</style>\n",
       "<table border=\"1\" class=\"dataframe\">\n",
       "  <thead>\n",
       "    <tr style=\"text-align: right;\">\n",
       "      <th></th>\n",
       "      <th>textID</th>\n",
       "      <th>text</th>\n",
       "      <th>selected_text</th>\n",
       "      <th>sentiment</th>\n",
       "      <th>url</th>\n",
       "      <th>emoji</th>\n",
       "    </tr>\n",
       "  </thead>\n",
       "  <tbody>\n",
       "    <tr>\n",
       "      <th>0</th>\n",
       "      <td>cb774db0d1</td>\n",
       "      <td>I`d have responded, if I were going</td>\n",
       "      <td>I`d have responded, if I were going</td>\n",
       "      <td>neutral</td>\n",
       "      <td>None</td>\n",
       "      <td>None</td>\n",
       "    </tr>\n",
       "    <tr>\n",
       "      <th>1</th>\n",
       "      <td>549e992a42</td>\n",
       "      <td>Sooo SAD I will miss you here in San Diego!!!</td>\n",
       "      <td>Sooo SAD</td>\n",
       "      <td>negative</td>\n",
       "      <td>None</td>\n",
       "      <td>None</td>\n",
       "    </tr>\n",
       "    <tr>\n",
       "      <th>2</th>\n",
       "      <td>088c60f138</td>\n",
       "      <td>my boss is bullying me...</td>\n",
       "      <td>bullying me</td>\n",
       "      <td>negative</td>\n",
       "      <td>None</td>\n",
       "      <td>None</td>\n",
       "    </tr>\n",
       "    <tr>\n",
       "      <th>3</th>\n",
       "      <td>9642c003ef</td>\n",
       "      <td>what interview! leave me alone</td>\n",
       "      <td>leave me alone</td>\n",
       "      <td>negative</td>\n",
       "      <td>None</td>\n",
       "      <td>None</td>\n",
       "    </tr>\n",
       "    <tr>\n",
       "      <th>4</th>\n",
       "      <td>358bd9e861</td>\n",
       "      <td>Sons of ****, why couldn`t they put them on t...</td>\n",
       "      <td>Sons of ****,</td>\n",
       "      <td>negative</td>\n",
       "      <td>None</td>\n",
       "      <td>None</td>\n",
       "    </tr>\n",
       "  </tbody>\n",
       "</table>\n",
       "</div>"
      ],
      "text/plain": [
       "       textID                                               text  \\\n",
       "0  cb774db0d1                I`d have responded, if I were going   \n",
       "1  549e992a42      Sooo SAD I will miss you here in San Diego!!!   \n",
       "2  088c60f138                          my boss is bullying me...   \n",
       "3  9642c003ef                     what interview! leave me alone   \n",
       "4  358bd9e861   Sons of ****, why couldn`t they put them on t...   \n",
       "\n",
       "                         selected_text sentiment   url emoji  \n",
       "0  I`d have responded, if I were going   neutral  None  None  \n",
       "1                             Sooo SAD  negative  None  None  \n",
       "2                          bullying me  negative  None  None  \n",
       "3                       leave me alone  negative  None  None  \n",
       "4                        Sons of ****,  negative  None  None  "
      ]
     },
     "execution_count": 198,
     "metadata": {},
     "output_type": "execute_result"
    }
   ],
   "source": [
    "train.head()"
   ]
  },
  {
   "cell_type": "markdown",
   "metadata": {},
   "source": [
    "## Text preparation"
   ]
  },
  {
   "cell_type": "markdown",
   "metadata": {},
   "source": [
    "### stopwords: words which does not add much meaning to a sentence"
   ]
  },
  {
   "cell_type": "code",
   "execution_count": 209,
   "metadata": {
    "scrolled": true
   },
   "outputs": [
    {
     "data": {
      "text/plain": [
       "{'a',\n",
       " 'about',\n",
       " 'above',\n",
       " 'after',\n",
       " 'again',\n",
       " 'against',\n",
       " 'ain',\n",
       " 'all',\n",
       " 'am',\n",
       " 'an',\n",
       " 'and',\n",
       " 'any',\n",
       " 'are',\n",
       " 'aren',\n",
       " \"aren't\",\n",
       " 'as',\n",
       " 'at',\n",
       " 'be',\n",
       " 'because',\n",
       " 'been',\n",
       " 'before',\n",
       " 'being',\n",
       " 'below',\n",
       " 'between',\n",
       " 'both',\n",
       " 'but',\n",
       " 'by',\n",
       " 'can',\n",
       " 'couldn',\n",
       " \"couldn't\",\n",
       " 'd',\n",
       " 'did',\n",
       " 'didn',\n",
       " \"didn't\",\n",
       " 'do',\n",
       " 'does',\n",
       " 'doesn',\n",
       " \"doesn't\",\n",
       " 'doing',\n",
       " 'don',\n",
       " \"don't\",\n",
       " 'down',\n",
       " 'during',\n",
       " 'each',\n",
       " 'few',\n",
       " 'for',\n",
       " 'from',\n",
       " 'further',\n",
       " 'had',\n",
       " 'hadn',\n",
       " \"hadn't\",\n",
       " 'has',\n",
       " 'hasn',\n",
       " \"hasn't\",\n",
       " 'have',\n",
       " 'haven',\n",
       " \"haven't\",\n",
       " 'having',\n",
       " 'he',\n",
       " 'her',\n",
       " 'here',\n",
       " 'hers',\n",
       " 'herself',\n",
       " 'him',\n",
       " 'himself',\n",
       " 'his',\n",
       " 'how',\n",
       " 'i',\n",
       " 'if',\n",
       " 'in',\n",
       " 'into',\n",
       " 'is',\n",
       " 'isn',\n",
       " \"isn't\",\n",
       " 'it',\n",
       " \"it's\",\n",
       " 'its',\n",
       " 'itself',\n",
       " 'just',\n",
       " 'll',\n",
       " 'm',\n",
       " 'ma',\n",
       " 'me',\n",
       " 'mightn',\n",
       " \"mightn't\",\n",
       " 'more',\n",
       " 'most',\n",
       " 'mustn',\n",
       " \"mustn't\",\n",
       " 'my',\n",
       " 'myself',\n",
       " 'needn',\n",
       " \"needn't\",\n",
       " 'no',\n",
       " 'nor',\n",
       " 'not',\n",
       " 'now',\n",
       " 'o',\n",
       " 'of',\n",
       " 'off',\n",
       " 'on',\n",
       " 'once',\n",
       " 'only',\n",
       " 'or',\n",
       " 'other',\n",
       " 'our',\n",
       " 'ours',\n",
       " 'ourselves',\n",
       " 'out',\n",
       " 'over',\n",
       " 'own',\n",
       " 're',\n",
       " 's',\n",
       " 'same',\n",
       " 'shan',\n",
       " \"shan't\",\n",
       " 'she',\n",
       " \"she's\",\n",
       " 'should',\n",
       " \"should've\",\n",
       " 'shouldn',\n",
       " \"shouldn't\",\n",
       " 'so',\n",
       " 'some',\n",
       " 'such',\n",
       " 't',\n",
       " 'than',\n",
       " 'that',\n",
       " \"that'll\",\n",
       " 'the',\n",
       " 'their',\n",
       " 'theirs',\n",
       " 'them',\n",
       " 'themselves',\n",
       " 'then',\n",
       " 'there',\n",
       " 'these',\n",
       " 'they',\n",
       " 'this',\n",
       " 'those',\n",
       " 'through',\n",
       " 'to',\n",
       " 'too',\n",
       " 'under',\n",
       " 'until',\n",
       " 'up',\n",
       " 've',\n",
       " 'very',\n",
       " 'was',\n",
       " 'wasn',\n",
       " \"wasn't\",\n",
       " 'we',\n",
       " 'were',\n",
       " 'weren',\n",
       " \"weren't\",\n",
       " 'what',\n",
       " 'when',\n",
       " 'where',\n",
       " 'which',\n",
       " 'while',\n",
       " 'who',\n",
       " 'whom',\n",
       " 'why',\n",
       " 'will',\n",
       " 'with',\n",
       " 'won',\n",
       " \"won't\",\n",
       " 'wouldn',\n",
       " \"wouldn't\",\n",
       " 'y',\n",
       " 'you',\n",
       " \"you'd\",\n",
       " \"you'll\",\n",
       " \"you're\",\n",
       " \"you've\",\n",
       " 'your',\n",
       " 'yours',\n",
       " 'yourself',\n",
       " 'yourselves'}"
      ]
     },
     "execution_count": 209,
     "metadata": {},
     "output_type": "execute_result"
    }
   ],
   "source": [
    "#nltk.download('stopwords') <- if error raises on nltk stopwords\n",
    "\n",
    "stops = set(stopwords.words('english'))\n",
    "stops"
   ]
  },
  {
   "cell_type": "markdown",
   "metadata": {},
   "source": [
    "### stem extraction"
   ]
  },
  {
   "cell_type": "code",
   "execution_count": 218,
   "metadata": {},
   "outputs": [],
   "source": [
    "stemmer = nltk.stem.SnowballStemmer('english')  \n",
    "# Porter, Lancaster, Snotball, etc."
   ]
  },
  {
   "cell_type": "code",
   "execution_count": 231,
   "metadata": {},
   "outputs": [],
   "source": [
    "def language_preprocessor(string):\n",
    "    text =  re.sub('[^a-zA-Z]', ' ', string) #replace non-english with blank\n",
    "    text = text.lower().split() #decapitalize texts\n",
    "    text = [word for word in text if not word in stops] #remove stopword\n",
    "    text = [stemmer.stem(word) for word in text]\n",
    "    return text #' '.join(text)\n",
    "    "
   ]
  },
  {
   "cell_type": "code",
   "execution_count": 232,
   "metadata": {},
   "outputs": [],
   "source": [
    "train['text processed'] = train['text'].apply(lambda x: language_preprocessor(x)) "
   ]
  },
  {
   "cell_type": "code",
   "execution_count": 233,
   "metadata": {},
   "outputs": [
    {
     "data": {
      "text/html": [
       "<div>\n",
       "<style scoped>\n",
       "    .dataframe tbody tr th:only-of-type {\n",
       "        vertical-align: middle;\n",
       "    }\n",
       "\n",
       "    .dataframe tbody tr th {\n",
       "        vertical-align: top;\n",
       "    }\n",
       "\n",
       "    .dataframe thead th {\n",
       "        text-align: right;\n",
       "    }\n",
       "</style>\n",
       "<table border=\"1\" class=\"dataframe\">\n",
       "  <thead>\n",
       "    <tr style=\"text-align: right;\">\n",
       "      <th></th>\n",
       "      <th>textID</th>\n",
       "      <th>text</th>\n",
       "      <th>selected_text</th>\n",
       "      <th>sentiment</th>\n",
       "      <th>url</th>\n",
       "      <th>emoji</th>\n",
       "      <th>text processed</th>\n",
       "    </tr>\n",
       "  </thead>\n",
       "  <tbody>\n",
       "    <tr>\n",
       "      <th>0</th>\n",
       "      <td>cb774db0d1</td>\n",
       "      <td>I`d have responded, if I were going</td>\n",
       "      <td>I`d have responded, if I were going</td>\n",
       "      <td>neutral</td>\n",
       "      <td>None</td>\n",
       "      <td>None</td>\n",
       "      <td>[respond, go]</td>\n",
       "    </tr>\n",
       "    <tr>\n",
       "      <th>1</th>\n",
       "      <td>549e992a42</td>\n",
       "      <td>Sooo SAD I will miss you here in San Diego!!!</td>\n",
       "      <td>Sooo SAD</td>\n",
       "      <td>negative</td>\n",
       "      <td>None</td>\n",
       "      <td>None</td>\n",
       "      <td>[sooo, sad, miss, san, diego]</td>\n",
       "    </tr>\n",
       "    <tr>\n",
       "      <th>2</th>\n",
       "      <td>088c60f138</td>\n",
       "      <td>my boss is bullying me...</td>\n",
       "      <td>bullying me</td>\n",
       "      <td>negative</td>\n",
       "      <td>None</td>\n",
       "      <td>None</td>\n",
       "      <td>[boss, bulli]</td>\n",
       "    </tr>\n",
       "    <tr>\n",
       "      <th>3</th>\n",
       "      <td>9642c003ef</td>\n",
       "      <td>what interview! leave me alone</td>\n",
       "      <td>leave me alone</td>\n",
       "      <td>negative</td>\n",
       "      <td>None</td>\n",
       "      <td>None</td>\n",
       "      <td>[interview, leav, alon]</td>\n",
       "    </tr>\n",
       "    <tr>\n",
       "      <th>4</th>\n",
       "      <td>358bd9e861</td>\n",
       "      <td>Sons of ****, why couldn`t they put them on t...</td>\n",
       "      <td>Sons of ****,</td>\n",
       "      <td>negative</td>\n",
       "      <td>None</td>\n",
       "      <td>None</td>\n",
       "      <td>[son, put, releas, alreadi, bought]</td>\n",
       "    </tr>\n",
       "  </tbody>\n",
       "</table>\n",
       "</div>"
      ],
      "text/plain": [
       "       textID                                               text  \\\n",
       "0  cb774db0d1                I`d have responded, if I were going   \n",
       "1  549e992a42      Sooo SAD I will miss you here in San Diego!!!   \n",
       "2  088c60f138                          my boss is bullying me...   \n",
       "3  9642c003ef                     what interview! leave me alone   \n",
       "4  358bd9e861   Sons of ****, why couldn`t they put them on t...   \n",
       "\n",
       "                         selected_text sentiment   url emoji  \\\n",
       "0  I`d have responded, if I were going   neutral  None  None   \n",
       "1                             Sooo SAD  negative  None  None   \n",
       "2                          bullying me  negative  None  None   \n",
       "3                       leave me alone  negative  None  None   \n",
       "4                        Sons of ****,  negative  None  None   \n",
       "\n",
       "                        text processed  \n",
       "0                        [respond, go]  \n",
       "1        [sooo, sad, miss, san, diego]  \n",
       "2                        [boss, bulli]  \n",
       "3              [interview, leav, alon]  \n",
       "4  [son, put, releas, alreadi, bought]  "
      ]
     },
     "execution_count": 233,
     "metadata": {},
     "output_type": "execute_result"
    }
   ],
   "source": [
    "train.head()"
   ]
  },
  {
   "cell_type": "markdown",
   "metadata": {},
   "source": [
    "# Commonly used words for each sentiment type"
   ]
  },
  {
   "cell_type": "code",
   "execution_count": 234,
   "metadata": {
    "scrolled": true
   },
   "outputs": [],
   "source": [
    "positive = train[train.sentiment=='positive']\n",
    "negative = train[train.sentiment=='negative']\n",
    "neutral = train[train.sentiment=='neutral']"
   ]
  },
  {
   "cell_type": "code",
   "execution_count": 257,
   "metadata": {},
   "outputs": [],
   "source": [
    "from collections import Counter\n",
    "\n",
    "def common_words(df, col, n):\n",
    "    counts = Counter([item for sublist in df[col] for item in sublist])\n",
    "    common_words = pd.DataFrame(counts.most_common(n))\n",
    "    common_words.columns =['Word','count']\n",
    "    return common_words\n",
    "    "
   ]
  },
  {
   "cell_type": "markdown",
   "metadata": {},
   "source": [
    "## positive"
   ]
  },
  {
   "cell_type": "code",
   "execution_count": 259,
   "metadata": {},
   "outputs": [
    {
     "data": {
      "text/html": [
       "<div>\n",
       "<style scoped>\n",
       "    .dataframe tbody tr th:only-of-type {\n",
       "        vertical-align: middle;\n",
       "    }\n",
       "\n",
       "    .dataframe tbody tr th {\n",
       "        vertical-align: top;\n",
       "    }\n",
       "\n",
       "    .dataframe thead th {\n",
       "        text-align: right;\n",
       "    }\n",
       "</style>\n",
       "<table border=\"1\" class=\"dataframe\">\n",
       "  <thead>\n",
       "    <tr style=\"text-align: right;\">\n",
       "      <th></th>\n",
       "      <th>Word</th>\n",
       "      <th>count</th>\n",
       "    </tr>\n",
       "  </thead>\n",
       "  <tbody>\n",
       "    <tr>\n",
       "      <th>0</th>\n",
       "      <td>day</td>\n",
       "      <td>1375</td>\n",
       "    </tr>\n",
       "    <tr>\n",
       "      <th>1</th>\n",
       "      <td>love</td>\n",
       "      <td>1160</td>\n",
       "    </tr>\n",
       "    <tr>\n",
       "      <th>2</th>\n",
       "      <td>good</td>\n",
       "      <td>1078</td>\n",
       "    </tr>\n",
       "    <tr>\n",
       "      <th>3</th>\n",
       "      <td>happi</td>\n",
       "      <td>870</td>\n",
       "    </tr>\n",
       "    <tr>\n",
       "      <th>4</th>\n",
       "      <td>thank</td>\n",
       "      <td>834</td>\n",
       "    </tr>\n",
       "    <tr>\n",
       "      <th>5</th>\n",
       "      <td>mother</td>\n",
       "      <td>675</td>\n",
       "    </tr>\n",
       "    <tr>\n",
       "      <th>6</th>\n",
       "      <td>go</td>\n",
       "      <td>581</td>\n",
       "    </tr>\n",
       "    <tr>\n",
       "      <th>7</th>\n",
       "      <td>hope</td>\n",
       "      <td>536</td>\n",
       "    </tr>\n",
       "    <tr>\n",
       "      <th>8</th>\n",
       "      <td>like</td>\n",
       "      <td>487</td>\n",
       "    </tr>\n",
       "    <tr>\n",
       "      <th>9</th>\n",
       "      <td>great</td>\n",
       "      <td>487</td>\n",
       "    </tr>\n",
       "  </tbody>\n",
       "</table>\n",
       "</div>"
      ],
      "text/plain": [
       "     Word  count\n",
       "0     day   1375\n",
       "1    love   1160\n",
       "2    good   1078\n",
       "3   happi    870\n",
       "4   thank    834\n",
       "5  mother    675\n",
       "6      go    581\n",
       "7    hope    536\n",
       "8    like    487\n",
       "9   great    487"
      ]
     },
     "execution_count": 259,
     "metadata": {},
     "output_type": "execute_result"
    }
   ],
   "source": [
    "common_words_positive  = common_words(positive, 'text processed', 10)\n",
    "common_words_positive"
   ]
  },
  {
   "cell_type": "code",
   "execution_count": 260,
   "metadata": {},
   "outputs": [
    {
     "data": {
      "text/plain": [
       "<matplotlib.axes._subplots.AxesSubplot at 0x7fef10538d90>"
      ]
     },
     "execution_count": 260,
     "metadata": {},
     "output_type": "execute_result"
    },
    {
     "data": {
      "image/png": "[encoded data removed]",
      "text/plain": [
       "<Figure size 432x288 with 1 Axes>"
      ]
     },
     "metadata": {
      "needs_background": "light"
     },
     "output_type": "display_data"
    }
   ],
   "source": [
    "common_words_positive.set_index('Word').sort_values(\n",
    "    by='count', ascending=True).plot(kind='barh')"
   ]
  },
  {
   "cell_type": "code",
   "execution_count": 282,
   "metadata": {},
   "outputs": [
    {
     "data": {
      "application/vnd.plotly.v1+json": {
       "config": {
        "plotlyServerURL": "https://plot.ly"
       },
       "data": [
        {
         "branchvalues": "total",
         "domain": {
          "x": [
           0,
           1
          ],
          "y": [
           0,
           1
          ]
         },
         "hovertemplate": "labels=%{label}<br>count=%{value}<br>parent=%{parent}<br>id=%{id}<extra></extra>",
         "ids": [
          "day",
          "go",
          "good",
          "great",
          "happi",
          "hope",
          "like",
          "love",
          "mother",
          "thank"
         ],
         "labels": [
          "day",
          "go",
          "good",
          "great",
          "happi",
          "hope",
          "like",
          "love",
          "mother",
          "thank"
         ],
         "name": "",
         "parents": [
          "",
          "",
          "",
          "",
          "",
          "",
          "",
          "",
          "",
          ""
         ],
         "type": "treemap",
         "values": [
          1375,
          581,
          1078,
          487,
          870,
          536,
          487,
          1160,
          675,
          834
         ]
        }
       ],
       "layout": {
        "height": 400,
        "legend": {
         "tracegroupgap": 0
        },
        "template": {
         "data": {
          "bar": [
           {
            "error_x": {
             "color": "#2a3f5f"
            },
            "error_y": {
             "color": "#2a3f5f"
            },
            "marker": {
             "line": {
              "color": "#E5ECF6",
              "width": 0.5
             }
            },
            "type": "bar"
           }
          ],
          "barpolar": [
           {
            "marker": {
             "line": {
              "color": "#E5ECF6",
              "width": 0.5
             }
            },
            "type": "barpolar"
           }
          ],
          "carpet": [
           {
            "aaxis": {
             "endlinecolor": "#2a3f5f",
             "gridcolor": "white",
             "linecolor": "white",
             "minorgridcolor": "white",
             "startlinecolor": "#2a3f5f"
            },
            "baxis": {
             "endlinecolor": "#2a3f5f",
             "gridcolor": "white",
             "linecolor": "white",
             "minorgridcolor": "white",
             "startlinecolor": "#2a3f5f"
            },
            "type": "carpet"
           }
          ],
          "choropleth": [
           {
            "colorbar": {
             "outlinewidth": 0,
             "ticks": ""
            },
            "type": "choropleth"
           }
          ],
          "contour": [
           {
            "colorbar": {
             "outlinewidth": 0,
             "ticks": ""
            },
            "colorscale": [
             [
              0,
              "#0d0887"
             ],
             [
              0.1111111111111111,
              "#46039f"
             ],
             [
              0.2222222222222222,
              "#7201a8"
             ],
             [
              0.3333333333333333,
              "#9c179e"
             ],
             [
              0.4444444444444444,
              "#bd3786"
             ],
             [
              0.5555555555555556,
              "#d8576b"
             ],
             [
              0.6666666666666666,
              "#ed7953"
             ],
             [
              0.7777777777777778,
              "#fb9f3a"
             ],
             [
              0.8888888888888888,
              "#fdca26"
             ],
             [
              1,
              "#f0f921"
             ]
            ],
            "type": "contour"
           }
          ],
          "contourcarpet": [
           {
            "colorbar": {
             "outlinewidth": 0,
             "ticks": ""
            },
            "type": "contourcarpet"
           }
          ],
          "heatmap": [
           {
            "colorbar": {
             "outlinewidth": 0,
             "ticks": ""
            },
            "colorscale": [
             [
              0,
              "#0d0887"
             ],
             [
              0.1111111111111111,
              "#46039f"
             ],
             [
              0.2222222222222222,
              "#7201a8"
             ],
             [
              0.3333333333333333,
              "#9c179e"
             ],
             [
              0.4444444444444444,
              "#bd3786"
             ],
             [
              0.5555555555555556,
              "#d8576b"
             ],
             [
              0.6666666666666666,
              "#ed7953"
             ],
             [
              0.7777777777777778,
              "#fb9f3a"
             ],
             [
              0.8888888888888888,
              "#fdca26"
             ],
             [
              1,
              "#f0f921"
             ]
            ],
            "type": "heatmap"
           }
          ],
          "heatmapgl": [
           {
            "colorbar": {
             "outlinewidth": 0,
             "ticks": ""
            },
            "colorscale": [
             [
              0,
              "#0d0887"
             ],
             [
              0.1111111111111111,
              "#46039f"
             ],
             [
              0.2222222222222222,
              "#7201a8"
             ],
             [
              0.3333333333333333,
              "#9c179e"
             ],
             [
              0.4444444444444444,
              "#bd3786"
             ],
             [
              0.5555555555555556,
              "#d8576b"
             ],
             [
              0.6666666666666666,
              "#ed7953"
             ],
             [
              0.7777777777777778,
              "#fb9f3a"
             ],
             [
              0.8888888888888888,
              "#fdca26"
             ],
             [
              1,
              "#f0f921"
             ]
            ],
            "type": "heatmapgl"
           }
          ],
          "histogram": [
           {
            "marker": {
             "colorbar": {
              "outlinewidth": 0,
              "ticks": ""
             }
            },
            "type": "histogram"
           }
          ],
          "histogram2d": [
           {
            "colorbar": {
             "outlinewidth": 0,
             "ticks": ""
            },
            "colorscale": [
             [
              0,
              "#0d0887"
             ],
             [
              0.1111111111111111,
              "#46039f"
             ],
             [
              0.2222222222222222,
              "#7201a8"
             ],
             [
              0.3333333333333333,
              "#9c179e"
             ],
             [
              0.4444444444444444,
              "#bd3786"
             ],
             [
              0.5555555555555556,
              "#d8576b"
             ],
             [
              0.6666666666666666,
              "#ed7953"
             ],
             [
              0.7777777777777778,
              "#fb9f3a"
             ],
             [
              0.8888888888888888,
              "#fdca26"
             ],
             [
              1,
              "#f0f921"
             ]
            ],
            "type": "histogram2d"
           }
          ],
          "histogram2dcontour": [
           {
            "colorbar": {
             "outlinewidth": 0,
             "ticks": ""
            },
            "colorscale": [
             [
              0,
              "#0d0887"
             ],
             [
              0.1111111111111111,
              "#46039f"
             ],
             [
              0.2222222222222222,
              "#7201a8"
             ],
             [
              0.3333333333333333,
              "#9c179e"
             ],
             [
              0.4444444444444444,
              "#bd3786"
             ],
             [
              0.5555555555555556,
              "#d8576b"
             ],
             [
              0.6666666666666666,
              "#ed7953"
             ],
             [
              0.7777777777777778,
              "#fb9f3a"
             ],
             [
              0.8888888888888888,
              "#fdca26"
             ],
             [
              1,
              "#f0f921"
             ]
            ],
            "type": "histogram2dcontour"
           }
          ],
          "mesh3d": [
           {
            "colorbar": {
             "outlinewidth": 0,
             "ticks": ""
            },
            "type": "mesh3d"
           }
          ],
          "parcoords": [
           {
            "line": {
             "colorbar": {
              "outlinewidth": 0,
              "ticks": ""
             }
            },
            "type": "parcoords"
           }
          ],
          "pie": [
           {
            "automargin": true,
            "type": "pie"
           }
          ],
          "scatter": [
           {
            "marker": {
             "colorbar": {
              "outlinewidth": 0,
              "ticks": ""
             }
            },
            "type": "scatter"
           }
          ],
          "scatter3d": [
           {
            "line": {
             "colorbar": {
              "outlinewidth": 0,
              "ticks": ""
             }
            },
            "marker": {
             "colorbar": {
              "outlinewidth": 0,
              "ticks": ""
             }
            },
            "type": "scatter3d"
           }
          ],
          "scattercarpet": [
           {
            "marker": {
             "colorbar": {
              "outlinewidth": 0,
              "ticks": ""
             }
            },
            "type": "scattercarpet"
           }
          ],
          "scattergeo": [
           {
            "marker": {
             "colorbar": {
              "outlinewidth": 0,
              "ticks": ""
             }
            },
            "type": "scattergeo"
           }
          ],
          "scattergl": [
           {
            "marker": {
             "colorbar": {
              "outlinewidth": 0,
              "ticks": ""
             }
            },
            "type": "scattergl"
           }
          ],
          "scattermapbox": [
           {
            "marker": {
             "colorbar": {
              "outlinewidth": 0,
              "ticks": ""
             }
            },
            "type": "scattermapbox"
           }
          ],
          "scatterpolar": [
           {
            "marker": {
             "colorbar": {
              "outlinewidth": 0,
              "ticks": ""
             }
            },
            "type": "scatterpolar"
           }
          ],
          "scatterpolargl": [
           {
            "marker": {
             "colorbar": {
              "outlinewidth": 0,
              "ticks": ""
             }
            },
            "type": "scatterpolargl"
           }
          ],
          "scatterternary": [
           {
            "marker": {
             "colorbar": {
              "outlinewidth": 0,
              "ticks": ""
             }
            },
            "type": "scatterternary"
           }
          ],
          "surface": [
           {
            "colorbar": {
             "outlinewidth": 0,
             "ticks": ""
            },
            "colorscale": [
             [
              0,
              "#0d0887"
             ],
             [
              0.1111111111111111,
              "#46039f"
             ],
             [
              0.2222222222222222,
              "#7201a8"
             ],
             [
              0.3333333333333333,
              "#9c179e"
             ],
             [
              0.4444444444444444,
              "#bd3786"
             ],
             [
              0.5555555555555556,
              "#d8576b"
             ],
             [
              0.6666666666666666,
              "#ed7953"
             ],
             [
              0.7777777777777778,
              "#fb9f3a"
             ],
             [
              0.8888888888888888,
              "#fdca26"
             ],
             [
              1,
              "#f0f921"
             ]
            ],
            "type": "surface"
           }
          ],
          "table": [
           {
            "cells": {
             "fill": {
              "color": "#EBF0F8"
             },
             "line": {
              "color": "white"
             }
            },
            "header": {
             "fill": {
              "color": "#C8D4E3"
             },
             "line": {
              "color": "white"
             }
            },
            "type": "table"
           }
          ]
         },
         "layout": {
          "annotationdefaults": {
           "arrowcolor": "#2a3f5f",
           "arrowhead": 0,
           "arrowwidth": 1
          },
          "coloraxis": {
           "colorbar": {
            "outlinewidth": 0,
            "ticks": ""
           }
          },
          "colorscale": {
           "diverging": [
            [
             0,
             "#8e0152"
            ],
            [
             0.1,
             "#c51b7d"
            ],
            [
             0.2,
             "#de77ae"
            ],
            [
             0.3,
             "#f1b6da"
            ],
            [
             0.4,
             "#fde0ef"
            ],
            [
             0.5,
             "#f7f7f7"
            ],
            [
             0.6,
             "#e6f5d0"
            ],
            [
             0.7,
             "#b8e186"
            ],
            [
             0.8,
             "#7fbc41"
            ],
            [
             0.9,
             "#4d9221"
            ],
            [
             1,
             "#276419"
            ]
           ],
           "sequential": [
            [
             0,
             "#0d0887"
            ],
            [
             0.1111111111111111,
             "#46039f"
            ],
            [
             0.2222222222222222,
             "#7201a8"
            ],
            [
             0.3333333333333333,
             "#9c179e"
            ],
            [
             0.4444444444444444,
             "#bd3786"
            ],
            [
             0.5555555555555556,
             "#d8576b"
            ],
            [
             0.6666666666666666,
             "#ed7953"
            ],
            [
             0.7777777777777778,
             "#fb9f3a"
            ],
            [
             0.8888888888888888,
             "#fdca26"
            ],
            [
             1,
             "#f0f921"
            ]
           ],
           "sequentialminus": [
            [
             0,
             "#0d0887"
            ],
            [
             0.1111111111111111,
             "#46039f"
            ],
            [
             0.2222222222222222,
             "#7201a8"
            ],
            [
             0.3333333333333333,
             "#9c179e"
            ],
            [
             0.4444444444444444,
             "#bd3786"
            ],
            [
             0.5555555555555556,
             "#d8576b"
            ],
            [
             0.6666666666666666,
             "#ed7953"
            ],
            [
             0.7777777777777778,
             "#fb9f3a"
            ],
            [
             0.8888888888888888,
             "#fdca26"
            ],
            [
             1,
             "#f0f921"
            ]
           ]
          },
          "colorway": [
           "#636efa",
           "#EF553B",
           "#00cc96",
           "#ab63fa",
           "#FFA15A",
           "#19d3f3",
           "#FF6692",
           "#B6E880",
           "#FF97FF",
           "#FECB52"
          ],
          "font": {
           "color": "#2a3f5f"
          },
          "geo": {
           "bgcolor": "white",
           "lakecolor": "white",
           "landcolor": "#E5ECF6",
           "showlakes": true,
           "showland": true,
           "subunitcolor": "white"
          },
          "hoverlabel": {
           "align": "left"
          },
          "hovermode": "closest",
          "mapbox": {
           "style": "light"
          },
          "paper_bgcolor": "white",
          "plot_bgcolor": "#E5ECF6",
          "polar": {
           "angularaxis": {
            "gridcolor": "white",
            "linecolor": "white",
            "ticks": ""
           },
           "bgcolor": "#E5ECF6",
           "radialaxis": {
            "gridcolor": "white",
            "linecolor": "white",
            "ticks": ""
           }
          },
          "scene": {
           "xaxis": {
            "backgroundcolor": "#E5ECF6",
            "gridcolor": "white",
            "gridwidth": 2,
            "linecolor": "white",
            "showbackground": true,
            "ticks": "",
            "zerolinecolor": "white"
           },
           "yaxis": {
            "backgroundcolor": "#E5ECF6",
            "gridcolor": "white",
            "gridwidth": 2,
            "linecolor": "white",
            "showbackground": true,
            "ticks": "",
            "zerolinecolor": "white"
           },
           "zaxis": {
            "backgroundcolor": "#E5ECF6",
            "gridcolor": "white",
            "gridwidth": 2,
            "linecolor": "white",
            "showbackground": true,
            "ticks": "",
            "zerolinecolor": "white"
           }
          },
          "shapedefaults": {
           "line": {
            "color": "#2a3f5f"
           }
          },
          "ternary": {
           "aaxis": {
            "gridcolor": "white",
            "linecolor": "white",
            "ticks": ""
           },
           "baxis": {
            "gridcolor": "white",
            "linecolor": "white",
            "ticks": ""
           },
           "bgcolor": "#E5ECF6",
           "caxis": {
            "gridcolor": "white",
            "linecolor": "white",
            "ticks": ""
           }
          },
          "title": {
           "x": 0.05
          },
          "xaxis": {
           "automargin": true,
           "gridcolor": "white",
           "linecolor": "white",
           "ticks": "",
           "title": {
            "standoff": 15
           },
           "zerolinecolor": "white",
           "zerolinewidth": 2
          },
          "yaxis": {
           "automargin": true,
           "gridcolor": "white",
           "linecolor": "white",
           "ticks": "",
           "title": {
            "standoff": 15
           },
           "zerolinecolor": "white",
           "zerolinewidth": 2
          }
         }
        },
        "title": {
         "text": "Most commonly used Positive Words"
        },
        "width": 400
       }
      },
      "text/html": [
       "<div>\n",
       "        \n",
       "        \n",
       "            <div id=\"18fa4adf-32d9-4bed-b262-ed2eeaac0b0e\" class=\"plotly-graph-div\" style=\"height:400px; width:400px;\"></div>\n",
       "            <script type=\"text/javascript\">\n",
       "                require([\"plotly\"], function(Plotly) {\n",
       "                    window.PLOTLYENV=window.PLOTLYENV || {};\n",
       "                    \n",
       "                if (document.getElementById(\"18fa4adf-32d9-4bed-b262-ed2eeaac0b0e\")) {\n",
       "                    Plotly.newPlot(\n",
       "                        '18fa4adf-32d9-4bed-b262-ed2eeaac0b0e',\n",
       "                        [{\"branchvalues\": \"total\", \"domain\": {\"x\": [0.0, 1.0], \"y\": [0.0, 1.0]}, \"hovertemplate\": \"labels=%{label}<br>count=%{value}<br>parent=%{parent}<br>id=%{id}<extra></extra>\", \"ids\": [\"day\", \"go\", \"good\", \"great\", \"happi\", \"hope\", \"like\", \"love\", \"mother\", \"thank\"], \"labels\": [\"day\", \"go\", \"good\", \"great\", \"happi\", \"hope\", \"like\", \"love\", \"mother\", \"thank\"], \"name\": \"\", \"parents\": [\"\", \"\", \"\", \"\", \"\", \"\", \"\", \"\", \"\", \"\"], \"type\": \"treemap\", \"values\": [1375, 581, 1078, 487, 870, 536, 487, 1160, 675, 834]}],\n",
       "                        {\"height\": 400, \"legend\": {\"tracegroupgap\": 0}, \"template\": {\"data\": {\"bar\": [{\"error_x\": {\"color\": \"#2a3f5f\"}, \"error_y\": {\"color\": \"#2a3f5f\"}, \"marker\": {\"line\": {\"color\": \"#E5ECF6\", \"width\": 0.5}}, \"type\": \"bar\"}], \"barpolar\": [{\"marker\": {\"line\": {\"color\": \"#E5ECF6\", \"width\": 0.5}}, \"type\": \"barpolar\"}], \"carpet\": [{\"aaxis\": {\"endlinecolor\": \"#2a3f5f\", \"gridcolor\": \"white\", \"linecolor\": \"white\", \"minorgridcolor\": \"white\", \"startlinecolor\": \"#2a3f5f\"}, \"baxis\": {\"endlinecolor\": \"#2a3f5f\", \"gridcolor\": \"white\", \"linecolor\": \"white\", \"minorgridcolor\": \"white\", \"startlinecolor\": \"#2a3f5f\"}, \"type\": \"carpet\"}], \"choropleth\": [{\"colorbar\": {\"outlinewidth\": 0, \"ticks\": \"\"}, \"type\": \"choropleth\"}], \"contour\": [{\"colorbar\": {\"outlinewidth\": 0, \"ticks\": \"\"}, \"colorscale\": [[0.0, \"#0d0887\"], [0.1111111111111111, \"#46039f\"], [0.2222222222222222, \"#7201a8\"], [0.3333333333333333, \"#9c179e\"], [0.4444444444444444, \"#bd3786\"], [0.5555555555555556, \"#d8576b\"], [0.6666666666666666, \"#ed7953\"], [0.7777777777777778, \"#fb9f3a\"], [0.8888888888888888, \"#fdca26\"], [1.0, \"#f0f921\"]], \"type\": \"contour\"}], \"contourcarpet\": [{\"colorbar\": {\"outlinewidth\": 0, \"ticks\": \"\"}, \"type\": \"contourcarpet\"}], \"heatmap\": [{\"colorbar\": {\"outlinewidth\": 0, \"ticks\": \"\"}, \"colorscale\": [[0.0, \"#0d0887\"], [0.1111111111111111, \"#46039f\"], [0.2222222222222222, \"#7201a8\"], [0.3333333333333333, \"#9c179e\"], [0.4444444444444444, \"#bd3786\"], [0.5555555555555556, \"#d8576b\"], [0.6666666666666666, \"#ed7953\"], [0.7777777777777778, \"#fb9f3a\"], [0.8888888888888888, \"#fdca26\"], [1.0, \"#f0f921\"]], \"type\": \"heatmap\"}], \"heatmapgl\": [{\"colorbar\": {\"outlinewidth\": 0, \"ticks\": \"\"}, \"colorscale\": [[0.0, \"#0d0887\"], [0.1111111111111111, \"#46039f\"], [0.2222222222222222, \"#7201a8\"], [0.3333333333333333, \"#9c179e\"], [0.4444444444444444, \"#bd3786\"], [0.5555555555555556, \"#d8576b\"], [0.6666666666666666, \"#ed7953\"], [0.7777777777777778, \"#fb9f3a\"], [0.8888888888888888, \"#fdca26\"], [1.0, \"#f0f921\"]], \"type\": \"heatmapgl\"}], \"histogram\": [{\"marker\": {\"colorbar\": {\"outlinewidth\": 0, \"ticks\": \"\"}}, \"type\": \"histogram\"}], \"histogram2d\": [{\"colorbar\": {\"outlinewidth\": 0, \"ticks\": \"\"}, \"colorscale\": [[0.0, \"#0d0887\"], [0.1111111111111111, \"#46039f\"], [0.2222222222222222, \"#7201a8\"], [0.3333333333333333, \"#9c179e\"], [0.4444444444444444, \"#bd3786\"], [0.5555555555555556, \"#d8576b\"], [0.6666666666666666, \"#ed7953\"], [0.7777777777777778, \"#fb9f3a\"], [0.8888888888888888, \"#fdca26\"], [1.0, \"#f0f921\"]], \"type\": \"histogram2d\"}], \"histogram2dcontour\": [{\"colorbar\": {\"outlinewidth\": 0, \"ticks\": \"\"}, \"colorscale\": [[0.0, \"#0d0887\"], [0.1111111111111111, \"#46039f\"], [0.2222222222222222, \"#7201a8\"], [0.3333333333333333, \"#9c179e\"], [0.4444444444444444, \"#bd3786\"], [0.5555555555555556, \"#d8576b\"], [0.6666666666666666, \"#ed7953\"], [0.7777777777777778, \"#fb9f3a\"], [0.8888888888888888, \"#fdca26\"], [1.0, \"#f0f921\"]], \"type\": \"histogram2dcontour\"}], \"mesh3d\": [{\"colorbar\": {\"outlinewidth\": 0, \"ticks\": \"\"}, \"type\": \"mesh3d\"}], \"parcoords\": [{\"line\": {\"colorbar\": {\"outlinewidth\": 0, \"ticks\": \"\"}}, \"type\": \"parcoords\"}], \"pie\": [{\"automargin\": true, \"type\": \"pie\"}], \"scatter\": [{\"marker\": {\"colorbar\": {\"outlinewidth\": 0, \"ticks\": \"\"}}, \"type\": \"scatter\"}], \"scatter3d\": [{\"line\": {\"colorbar\": {\"outlinewidth\": 0, \"ticks\": \"\"}}, \"marker\": {\"colorbar\": {\"outlinewidth\": 0, \"ticks\": \"\"}}, \"type\": \"scatter3d\"}], \"scattercarpet\": [{\"marker\": {\"colorbar\": {\"outlinewidth\": 0, \"ticks\": \"\"}}, \"type\": \"scattercarpet\"}], \"scattergeo\": [{\"marker\": {\"colorbar\": {\"outlinewidth\": 0, \"ticks\": \"\"}}, \"type\": \"scattergeo\"}], \"scattergl\": [{\"marker\": {\"colorbar\": {\"outlinewidth\": 0, \"ticks\": \"\"}}, \"type\": \"scattergl\"}], \"scattermapbox\": [{\"marker\": {\"colorbar\": {\"outlinewidth\": 0, \"ticks\": \"\"}}, \"type\": \"scattermapbox\"}], \"scatterpolar\": [{\"marker\": {\"colorbar\": {\"outlinewidth\": 0, \"ticks\": \"\"}}, \"type\": \"scatterpolar\"}], \"scatterpolargl\": [{\"marker\": {\"colorbar\": {\"outlinewidth\": 0, \"ticks\": \"\"}}, \"type\": \"scatterpolargl\"}], \"scatterternary\": [{\"marker\": {\"colorbar\": {\"outlinewidth\": 0, \"ticks\": \"\"}}, \"type\": \"scatterternary\"}], \"surface\": [{\"colorbar\": {\"outlinewidth\": 0, \"ticks\": \"\"}, \"colorscale\": [[0.0, \"#0d0887\"], [0.1111111111111111, \"#46039f\"], [0.2222222222222222, \"#7201a8\"], [0.3333333333333333, \"#9c179e\"], [0.4444444444444444, \"#bd3786\"], [0.5555555555555556, \"#d8576b\"], [0.6666666666666666, \"#ed7953\"], [0.7777777777777778, \"#fb9f3a\"], [0.8888888888888888, \"#fdca26\"], [1.0, \"#f0f921\"]], \"type\": \"surface\"}], \"table\": [{\"cells\": {\"fill\": {\"color\": \"#EBF0F8\"}, \"line\": {\"color\": \"white\"}}, \"header\": {\"fill\": {\"color\": \"#C8D4E3\"}, \"line\": {\"color\": \"white\"}}, \"type\": \"table\"}]}, \"layout\": {\"annotationdefaults\": {\"arrowcolor\": \"#2a3f5f\", \"arrowhead\": 0, \"arrowwidth\": 1}, \"coloraxis\": {\"colorbar\": {\"outlinewidth\": 0, \"ticks\": \"\"}}, \"colorscale\": {\"diverging\": [[0, \"#8e0152\"], [0.1, \"#c51b7d\"], [0.2, \"#de77ae\"], [0.3, \"#f1b6da\"], [0.4, \"#fde0ef\"], [0.5, \"#f7f7f7\"], [0.6, \"#e6f5d0\"], [0.7, \"#b8e186\"], [0.8, \"#7fbc41\"], [0.9, \"#4d9221\"], [1, \"#276419\"]], \"sequential\": [[0.0, \"#0d0887\"], [0.1111111111111111, \"#46039f\"], [0.2222222222222222, \"#7201a8\"], [0.3333333333333333, \"#9c179e\"], [0.4444444444444444, \"#bd3786\"], [0.5555555555555556, \"#d8576b\"], [0.6666666666666666, \"#ed7953\"], [0.7777777777777778, \"#fb9f3a\"], [0.8888888888888888, \"#fdca26\"], [1.0, \"#f0f921\"]], \"sequentialminus\": [[0.0, \"#0d0887\"], [0.1111111111111111, \"#46039f\"], [0.2222222222222222, \"#7201a8\"], [0.3333333333333333, \"#9c179e\"], [0.4444444444444444, \"#bd3786\"], [0.5555555555555556, \"#d8576b\"], [0.6666666666666666, \"#ed7953\"], [0.7777777777777778, \"#fb9f3a\"], [0.8888888888888888, \"#fdca26\"], [1.0, \"#f0f921\"]]}, \"colorway\": [\"#636efa\", \"#EF553B\", \"#00cc96\", \"#ab63fa\", \"#FFA15A\", \"#19d3f3\", \"#FF6692\", \"#B6E880\", \"#FF97FF\", \"#FECB52\"], \"font\": {\"color\": \"#2a3f5f\"}, \"geo\": {\"bgcolor\": \"white\", \"lakecolor\": \"white\", \"landcolor\": \"#E5ECF6\", \"showlakes\": true, \"showland\": true, \"subunitcolor\": \"white\"}, \"hoverlabel\": {\"align\": \"left\"}, \"hovermode\": \"closest\", \"mapbox\": {\"style\": \"light\"}, \"paper_bgcolor\": \"white\", \"plot_bgcolor\": \"#E5ECF6\", \"polar\": {\"angularaxis\": {\"gridcolor\": \"white\", \"linecolor\": \"white\", \"ticks\": \"\"}, \"bgcolor\": \"#E5ECF6\", \"radialaxis\": {\"gridcolor\": \"white\", \"linecolor\": \"white\", \"ticks\": \"\"}}, \"scene\": {\"xaxis\": {\"backgroundcolor\": \"#E5ECF6\", \"gridcolor\": \"white\", \"gridwidth\": 2, \"linecolor\": \"white\", \"showbackground\": true, \"ticks\": \"\", \"zerolinecolor\": \"white\"}, \"yaxis\": {\"backgroundcolor\": \"#E5ECF6\", \"gridcolor\": \"white\", \"gridwidth\": 2, \"linecolor\": \"white\", \"showbackground\": true, \"ticks\": \"\", \"zerolinecolor\": \"white\"}, \"zaxis\": {\"backgroundcolor\": \"#E5ECF6\", \"gridcolor\": \"white\", \"gridwidth\": 2, \"linecolor\": \"white\", \"showbackground\": true, \"ticks\": \"\", \"zerolinecolor\": \"white\"}}, \"shapedefaults\": {\"line\": {\"color\": \"#2a3f5f\"}}, \"ternary\": {\"aaxis\": {\"gridcolor\": \"white\", \"linecolor\": \"white\", \"ticks\": \"\"}, \"baxis\": {\"gridcolor\": \"white\", \"linecolor\": \"white\", \"ticks\": \"\"}, \"bgcolor\": \"#E5ECF6\", \"caxis\": {\"gridcolor\": \"white\", \"linecolor\": \"white\", \"ticks\": \"\"}}, \"title\": {\"x\": 0.05}, \"xaxis\": {\"automargin\": true, \"gridcolor\": \"white\", \"linecolor\": \"white\", \"ticks\": \"\", \"title\": {\"standoff\": 15}, \"zerolinecolor\": \"white\", \"zerolinewidth\": 2}, \"yaxis\": {\"automargin\": true, \"gridcolor\": \"white\", \"linecolor\": \"white\", \"ticks\": \"\", \"title\": {\"standoff\": 15}, \"zerolinecolor\": \"white\", \"zerolinewidth\": 2}}}, \"title\": {\"text\": \"Most commonly used Positive Words\"}, \"width\": 400},\n",
       "                        {\"responsive\": true}\n",
       "                    ).then(function(){\n",
       "                            \n",
       "var gd = document.getElementById('18fa4adf-32d9-4bed-b262-ed2eeaac0b0e');\n",
       "var x = new MutationObserver(function (mutations, observer) {{\n",
       "        var display = window.getComputedStyle(gd).display;\n",
       "        if (!display || display === 'none') {{\n",
       "            console.log([gd, 'removed!']);\n",
       "            Plotly.purge(gd);\n",
       "            observer.disconnect();\n",
       "        }}\n",
       "}});\n",
       "\n",
       "// Listen for the removal of the full notebook cells\n",
       "var notebookContainer = gd.closest('#notebook-container');\n",
       "if (notebookContainer) {{\n",
       "    x.observe(notebookContainer, {childList: true});\n",
       "}}\n",
       "\n",
       "// Listen for the clearing of the current output cell\n",
       "var outputEl = gd.closest('.output');\n",
       "if (outputEl) {{\n",
       "    x.observe(outputEl, {childList: true});\n",
       "}}\n",
       "\n",
       "                        })\n",
       "                };\n",
       "                });\n",
       "            </script>\n",
       "        </div>"
      ]
     },
     "metadata": {},
     "output_type": "display_data"
    }
   ],
   "source": [
    "import plotly.express as px\n",
    "\n",
    "px.treemap(common_words_positive, \n",
    "           path=['Word'], values='count',\n",
    "           title='Most commonly used Positive Words',\n",
    "          width=400, height=400)"
   ]
  },
  {
   "cell_type": "code",
   "execution_count": 278,
   "metadata": {},
   "outputs": [
    {
     "data": {
      "image/png": "[encoded data removed]",
      "text/plain": [
       "<Figure size 360x504 with 1 Axes>"
      ]
     },
     "metadata": {},
     "output_type": "display_data"
    }
   ],
   "source": [
    "import matplotlib.pyplot as plt\n",
    "#from palettable.colorbrewer.qualitative import Pastel1_7\n",
    "\n",
    "plt.figure(figsize=(5,7))\n",
    "my_circle=plt.Circle((0,0), 0.7, color='white')\n",
    "\n",
    "\n",
    "plt.pie(common_words_positive['count'], \n",
    "        labels=common_words_positive.Word) #,colors=Pastel1_7.hex_colors)\n",
    "\n",
    "p=plt.gcf()\n",
    "p.gca().add_artist(my_circle)\n",
    "plt.title('Unique Positive Words')\n",
    "plt.show()"
   ]
  },
  {
   "cell_type": "markdown",
   "metadata": {},
   "source": [
    "## negative"
   ]
  },
  {
   "cell_type": "code",
   "execution_count": 261,
   "metadata": {},
   "outputs": [
    {
     "data": {
      "text/html": [
       "<div>\n",
       "<style scoped>\n",
       "    .dataframe tbody tr th:only-of-type {\n",
       "        vertical-align: middle;\n",
       "    }\n",
       "\n",
       "    .dataframe tbody tr th {\n",
       "        vertical-align: top;\n",
       "    }\n",
       "\n",
       "    .dataframe thead th {\n",
       "        text-align: right;\n",
       "    }\n",
       "</style>\n",
       "<table border=\"1\" class=\"dataframe\">\n",
       "  <thead>\n",
       "    <tr style=\"text-align: right;\">\n",
       "      <th></th>\n",
       "      <th>Word</th>\n",
       "      <th>count</th>\n",
       "    </tr>\n",
       "  </thead>\n",
       "  <tbody>\n",
       "    <tr>\n",
       "      <th>0</th>\n",
       "      <td>go</td>\n",
       "      <td>737</td>\n",
       "    </tr>\n",
       "    <tr>\n",
       "      <th>1</th>\n",
       "      <td>miss</td>\n",
       "      <td>666</td>\n",
       "    </tr>\n",
       "    <tr>\n",
       "      <th>2</th>\n",
       "      <td>get</td>\n",
       "      <td>613</td>\n",
       "    </tr>\n",
       "    <tr>\n",
       "      <th>3</th>\n",
       "      <td>work</td>\n",
       "      <td>512</td>\n",
       "    </tr>\n",
       "    <tr>\n",
       "      <th>4</th>\n",
       "      <td>like</td>\n",
       "      <td>493</td>\n",
       "    </tr>\n",
       "    <tr>\n",
       "      <th>5</th>\n",
       "      <td>feel</td>\n",
       "      <td>468</td>\n",
       "    </tr>\n",
       "    <tr>\n",
       "      <th>6</th>\n",
       "      <td>sad</td>\n",
       "      <td>453</td>\n",
       "    </tr>\n",
       "    <tr>\n",
       "      <th>7</th>\n",
       "      <td>day</td>\n",
       "      <td>436</td>\n",
       "    </tr>\n",
       "    <tr>\n",
       "      <th>8</th>\n",
       "      <td>im</td>\n",
       "      <td>369</td>\n",
       "    </tr>\n",
       "    <tr>\n",
       "      <th>9</th>\n",
       "      <td>sorri</td>\n",
       "      <td>354</td>\n",
       "    </tr>\n",
       "  </tbody>\n",
       "</table>\n",
       "</div>"
      ],
      "text/plain": [
       "    Word  count\n",
       "0     go    737\n",
       "1   miss    666\n",
       "2    get    613\n",
       "3   work    512\n",
       "4   like    493\n",
       "5   feel    468\n",
       "6    sad    453\n",
       "7    day    436\n",
       "8     im    369\n",
       "9  sorri    354"
      ]
     },
     "execution_count": 261,
     "metadata": {},
     "output_type": "execute_result"
    }
   ],
   "source": [
    "common_words_negative  = common_words(negative, 'text processed', 10)\n",
    "common_words_negative"
   ]
  },
  {
   "cell_type": "code",
   "execution_count": 262,
   "metadata": {},
   "outputs": [
    {
     "data": {
      "text/plain": [
       "<matplotlib.axes._subplots.AxesSubplot at 0x7fef100fe8d0>"
      ]
     },
     "execution_count": 262,
     "metadata": {},
     "output_type": "execute_result"
    },
    {
     "data": {
      "image/png": "[encoded data removed]",
      "text/plain": [
       "<Figure size 432x288 with 1 Axes>"
      ]
     },
     "metadata": {
      "needs_background": "light"
     },
     "output_type": "display_data"
    }
   ],
   "source": [
    "common_words_negative.set_index('Word').sort_values(\n",
    "    by='count', ascending=True).plot(kind='barh')"
   ]
  },
  {
   "cell_type": "code",
   "execution_count": null,
   "metadata": {},
   "outputs": [],
   "source": []
  }
 ],
 "metadata": {
  "kernelspec": {
   "display_name": "Python 3",
   "language": "python",
   "name": "python3"
  },
  "language_info": {
   "codemirror_mode": {
    "name": "ipython",
    "version": 3
   },
   "file_extension": ".py",
   "mimetype": "text/x-python",
   "name": "python",
   "nbconvert_exporter": "python",
   "pygments_lexer": "ipython3",
   "version": "3.7.7"
  }
 },
 "nbformat": 4,
 "nbformat_minor": 4
}
