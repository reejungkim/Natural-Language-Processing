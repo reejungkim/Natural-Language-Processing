{
 "cells": [
  {
   "cell_type": "code",
   "execution_count": 9,
   "metadata": {},
   "outputs": [
    {
     "name": "stdout",
     "output_type": "stream",
     "text": [
      "Warning: Your Kaggle API key is readable by other users on this system! To fix this, you can run 'chmod 600 /Users/reejungkim/.kaggle/kaggle.json'\n",
      "Downloading tweet-sentiment-extraction.zip to /Users/reejungkim/Documents/Git/Sentimental analysis\n",
      "100%|██████████████████████████████████████| 1.39M/1.39M [00:01<00:00, 1.20MB/s]\n",
      "100%|██████████████████████████████████████| 1.39M/1.39M [00:01<00:00, 1.20MB/s]\n"
     ]
    }
   ],
   "source": [
    "#!kaggle competitions download -c tweet-sentiment-extraction"
   ]
  },
  {
   "cell_type": "code",
   "execution_count": 101,
   "metadata": {},
   "outputs": [],
   "source": [
    "import pandas as pd\n",
    "import numpy as np\n",
    "import os\n",
    "\n",
    "import emoji\n",
    "\n",
    "from sklearn.feature_extraction.text import CountVectorizer, TfidfVectorizer\n",
    "\n",
    "from nltk.corpus import stopwords\n",
    "from nltk.tokenize import word_tokenize\n",
    "\n",
    "from nltk.classify import NaiveBayesClassifier\n",
    "from nltk.corpus import subjectivity\n",
    "from nltk.sentiment import SentimentAnalyzer\n",
    "from nltk.sentiment.util import *\n"
   ]
  },
  {
   "cell_type": "code",
   "execution_count": 4,
   "metadata": {
    "scrolled": true
   },
   "outputs": [],
   "source": [
    "train = pd.read_csv(\"/Users/reejungkim/Documents/Git/Sentimental analysis/tweet-sentiment-extraction/train.csv\")\n",
    "test = pd.read_csv(\"/Users/reejungkim/Documents/Git/Sentimental analysis/tweet-sentiment-extraction/test.csv\")"
   ]
  },
  {
   "cell_type": "code",
   "execution_count": 5,
   "metadata": {},
   "outputs": [
    {
     "data": {
      "text/html": [
       "<div>\n",
       "<style scoped>\n",
       "    .dataframe tbody tr th:only-of-type {\n",
       "        vertical-align: middle;\n",
       "    }\n",
       "\n",
       "    .dataframe tbody tr th {\n",
       "        vertical-align: top;\n",
       "    }\n",
       "\n",
       "    .dataframe thead th {\n",
       "        text-align: right;\n",
       "    }\n",
       "</style>\n",
       "<table border=\"1\" class=\"dataframe\">\n",
       "  <thead>\n",
       "    <tr style=\"text-align: right;\">\n",
       "      <th></th>\n",
       "      <th>textID</th>\n",
       "      <th>text</th>\n",
       "      <th>selected_text</th>\n",
       "      <th>sentiment</th>\n",
       "    </tr>\n",
       "  </thead>\n",
       "  <tbody>\n",
       "    <tr>\n",
       "      <th>0</th>\n",
       "      <td>cb774db0d1</td>\n",
       "      <td>I`d have responded, if I were going</td>\n",
       "      <td>I`d have responded, if I were going</td>\n",
       "      <td>neutral</td>\n",
       "    </tr>\n",
       "    <tr>\n",
       "      <th>1</th>\n",
       "      <td>549e992a42</td>\n",
       "      <td>Sooo SAD I will miss you here in San Diego!!!</td>\n",
       "      <td>Sooo SAD</td>\n",
       "      <td>negative</td>\n",
       "    </tr>\n",
       "    <tr>\n",
       "      <th>2</th>\n",
       "      <td>088c60f138</td>\n",
       "      <td>my boss is bullying me...</td>\n",
       "      <td>bullying me</td>\n",
       "      <td>negative</td>\n",
       "    </tr>\n",
       "    <tr>\n",
       "      <th>3</th>\n",
       "      <td>9642c003ef</td>\n",
       "      <td>what interview! leave me alone</td>\n",
       "      <td>leave me alone</td>\n",
       "      <td>negative</td>\n",
       "    </tr>\n",
       "    <tr>\n",
       "      <th>4</th>\n",
       "      <td>358bd9e861</td>\n",
       "      <td>Sons of ****, why couldn`t they put them on t...</td>\n",
       "      <td>Sons of ****,</td>\n",
       "      <td>negative</td>\n",
       "    </tr>\n",
       "  </tbody>\n",
       "</table>\n",
       "</div>"
      ],
      "text/plain": [
       "       textID                                               text  \\\n",
       "0  cb774db0d1                I`d have responded, if I were going   \n",
       "1  549e992a42      Sooo SAD I will miss you here in San Diego!!!   \n",
       "2  088c60f138                          my boss is bullying me...   \n",
       "3  9642c003ef                     what interview! leave me alone   \n",
       "4  358bd9e861   Sons of ****, why couldn`t they put them on t...   \n",
       "\n",
       "                         selected_text sentiment  \n",
       "0  I`d have responded, if I were going   neutral  \n",
       "1                             Sooo SAD  negative  \n",
       "2                          bullying me  negative  \n",
       "3                       leave me alone  negative  \n",
       "4                        Sons of ****,  negative  "
      ]
     },
     "execution_count": 5,
     "metadata": {},
     "output_type": "execute_result"
    }
   ],
   "source": [
    "train.head()"
   ]
  },
  {
   "cell_type": "code",
   "execution_count": 6,
   "metadata": {},
   "outputs": [
    {
     "data": {
      "text/html": [
       "<div>\n",
       "<style scoped>\n",
       "    .dataframe tbody tr th:only-of-type {\n",
       "        vertical-align: middle;\n",
       "    }\n",
       "\n",
       "    .dataframe tbody tr th {\n",
       "        vertical-align: top;\n",
       "    }\n",
       "\n",
       "    .dataframe thead th {\n",
       "        text-align: right;\n",
       "    }\n",
       "</style>\n",
       "<table border=\"1\" class=\"dataframe\">\n",
       "  <thead>\n",
       "    <tr style=\"text-align: right;\">\n",
       "      <th></th>\n",
       "      <th>textID</th>\n",
       "      <th>text</th>\n",
       "      <th>sentiment</th>\n",
       "    </tr>\n",
       "  </thead>\n",
       "  <tbody>\n",
       "    <tr>\n",
       "      <th>0</th>\n",
       "      <td>f87dea47db</td>\n",
       "      <td>Last session of the day  http://twitpic.com/67ezh</td>\n",
       "      <td>neutral</td>\n",
       "    </tr>\n",
       "    <tr>\n",
       "      <th>1</th>\n",
       "      <td>96d74cb729</td>\n",
       "      <td>Shanghai is also really exciting (precisely -...</td>\n",
       "      <td>positive</td>\n",
       "    </tr>\n",
       "    <tr>\n",
       "      <th>2</th>\n",
       "      <td>eee518ae67</td>\n",
       "      <td>Recession hit Veronique Branquinho, she has to...</td>\n",
       "      <td>negative</td>\n",
       "    </tr>\n",
       "    <tr>\n",
       "      <th>3</th>\n",
       "      <td>01082688c6</td>\n",
       "      <td>happy bday!</td>\n",
       "      <td>positive</td>\n",
       "    </tr>\n",
       "    <tr>\n",
       "      <th>4</th>\n",
       "      <td>33987a8ee5</td>\n",
       "      <td>http://twitpic.com/4w75p - I like it!!</td>\n",
       "      <td>positive</td>\n",
       "    </tr>\n",
       "  </tbody>\n",
       "</table>\n",
       "</div>"
      ],
      "text/plain": [
       "       textID                                               text sentiment\n",
       "0  f87dea47db  Last session of the day  http://twitpic.com/67ezh   neutral\n",
       "1  96d74cb729   Shanghai is also really exciting (precisely -...  positive\n",
       "2  eee518ae67  Recession hit Veronique Branquinho, she has to...  negative\n",
       "3  01082688c6                                        happy bday!  positive\n",
       "4  33987a8ee5             http://twitpic.com/4w75p - I like it!!  positive"
      ]
     },
     "execution_count": 6,
     "metadata": {},
     "output_type": "execute_result"
    }
   ],
   "source": [
    "test.head()"
   ]
  },
  {
   "cell_type": "markdown",
   "metadata": {},
   "source": [
    "# Data exploration"
   ]
  },
  {
   "cell_type": "markdown",
   "metadata": {},
   "source": [
    "## checking for null values"
   ]
  },
  {
   "cell_type": "code",
   "execution_count": 10,
   "metadata": {},
   "outputs": [
    {
     "data": {
      "text/plain": [
       "textID           0\n",
       "text             1\n",
       "selected_text    1\n",
       "sentiment        0\n",
       "dtype: int64"
      ]
     },
     "execution_count": 10,
     "metadata": {},
     "output_type": "execute_result"
    }
   ],
   "source": [
    "train.isnull().sum()"
   ]
  },
  {
   "cell_type": "code",
   "execution_count": 13,
   "metadata": {},
   "outputs": [
    {
     "data": {
      "text/html": [
       "<div>\n",
       "<style scoped>\n",
       "    .dataframe tbody tr th:only-of-type {\n",
       "        vertical-align: middle;\n",
       "    }\n",
       "\n",
       "    .dataframe tbody tr th {\n",
       "        vertical-align: top;\n",
       "    }\n",
       "\n",
       "    .dataframe thead th {\n",
       "        text-align: right;\n",
       "    }\n",
       "</style>\n",
       "<table border=\"1\" class=\"dataframe\">\n",
       "  <thead>\n",
       "    <tr style=\"text-align: right;\">\n",
       "      <th></th>\n",
       "      <th>textID</th>\n",
       "      <th>text</th>\n",
       "      <th>selected_text</th>\n",
       "      <th>sentiment</th>\n",
       "    </tr>\n",
       "  </thead>\n",
       "  <tbody>\n",
       "    <tr>\n",
       "      <th>314</th>\n",
       "      <td>fdb77c3752</td>\n",
       "      <td>NaN</td>\n",
       "      <td>NaN</td>\n",
       "      <td>neutral</td>\n",
       "    </tr>\n",
       "  </tbody>\n",
       "</table>\n",
       "</div>"
      ],
      "text/plain": [
       "         textID text selected_text sentiment\n",
       "314  fdb77c3752  NaN           NaN   neutral"
      ]
     },
     "execution_count": 13,
     "metadata": {},
     "output_type": "execute_result"
    }
   ],
   "source": [
    "train.loc[pd.isnull(train.text)]"
   ]
  },
  {
   "cell_type": "markdown",
   "metadata": {},
   "source": [
    "## drop null"
   ]
  },
  {
   "cell_type": "code",
   "execution_count": 15,
   "metadata": {},
   "outputs": [],
   "source": [
    "train.dropna(inplace=True)"
   ]
  },
  {
   "cell_type": "markdown",
   "metadata": {},
   "source": [
    "## count of unique values"
   ]
  },
  {
   "cell_type": "code",
   "execution_count": 16,
   "metadata": {},
   "outputs": [
    {
     "data": {
      "text/plain": [
       "array(['neutral', 'negative', 'positive'], dtype=object)"
      ]
     },
     "execution_count": 16,
     "metadata": {},
     "output_type": "execute_result"
    }
   ],
   "source": [
    "train.sentiment.unique()"
   ]
  },
  {
   "cell_type": "code",
   "execution_count": 17,
   "metadata": {},
   "outputs": [
    {
     "data": {
      "text/plain": [
       "((27480, 4), (3534, 3))"
      ]
     },
     "execution_count": 17,
     "metadata": {},
     "output_type": "execute_result"
    }
   ],
   "source": [
    "train.shape, test.shape"
   ]
  },
  {
   "cell_type": "code",
   "execution_count": 45,
   "metadata": {},
   "outputs": [
    {
     "data": {
      "text/html": [
       "<div>\n",
       "<style scoped>\n",
       "    .dataframe tbody tr th:only-of-type {\n",
       "        vertical-align: middle;\n",
       "    }\n",
       "\n",
       "    .dataframe tbody tr th {\n",
       "        vertical-align: top;\n",
       "    }\n",
       "\n",
       "    .dataframe thead th {\n",
       "        text-align: right;\n",
       "    }\n",
       "</style>\n",
       "<table border=\"1\" class=\"dataframe\">\n",
       "  <thead>\n",
       "    <tr style=\"text-align: right;\">\n",
       "      <th></th>\n",
       "      <th>textID</th>\n",
       "    </tr>\n",
       "    <tr>\n",
       "      <th>sentiment</th>\n",
       "      <th></th>\n",
       "    </tr>\n",
       "  </thead>\n",
       "  <tbody>\n",
       "    <tr>\n",
       "      <th>negative</th>\n",
       "      <td>7781</td>\n",
       "    </tr>\n",
       "    <tr>\n",
       "      <th>neutral</th>\n",
       "      <td>11117</td>\n",
       "    </tr>\n",
       "    <tr>\n",
       "      <th>positive</th>\n",
       "      <td>8582</td>\n",
       "    </tr>\n",
       "    <tr>\n",
       "      <th>All</th>\n",
       "      <td>27480</td>\n",
       "    </tr>\n",
       "  </tbody>\n",
       "</table>\n",
       "</div>"
      ],
      "text/plain": [
       "           textID\n",
       "sentiment        \n",
       "negative     7781\n",
       "neutral     11117\n",
       "positive     8582\n",
       "All         27480"
      ]
     },
     "execution_count": 45,
     "metadata": {},
     "output_type": "execute_result"
    }
   ],
   "source": [
    "train.pivot_table(index='sentiment', values='textID', \n",
    "                  aggfunc='count', margins=True)\n"
   ]
  },
  {
   "cell_type": "code",
   "execution_count": 46,
   "metadata": {},
   "outputs": [
    {
     "data": {
      "text/html": [
       "<div>\n",
       "<style scoped>\n",
       "    .dataframe tbody tr th:only-of-type {\n",
       "        vertical-align: middle;\n",
       "    }\n",
       "\n",
       "    .dataframe tbody tr th {\n",
       "        vertical-align: top;\n",
       "    }\n",
       "\n",
       "    .dataframe thead th {\n",
       "        text-align: right;\n",
       "    }\n",
       "</style>\n",
       "<table border=\"1\" class=\"dataframe\">\n",
       "  <thead>\n",
       "    <tr style=\"text-align: right;\">\n",
       "      <th></th>\n",
       "      <th>textID</th>\n",
       "    </tr>\n",
       "    <tr>\n",
       "      <th>sentiment</th>\n",
       "      <th></th>\n",
       "    </tr>\n",
       "  </thead>\n",
       "  <tbody>\n",
       "    <tr>\n",
       "      <th>negative</th>\n",
       "      <td>0.283151</td>\n",
       "    </tr>\n",
       "    <tr>\n",
       "      <th>neutral</th>\n",
       "      <td>0.404549</td>\n",
       "    </tr>\n",
       "    <tr>\n",
       "      <th>positive</th>\n",
       "      <td>0.312300</td>\n",
       "    </tr>\n",
       "  </tbody>\n",
       "</table>\n",
       "</div>"
      ],
      "text/plain": [
       "             textID\n",
       "sentiment          \n",
       "negative   0.283151\n",
       "neutral    0.404549\n",
       "positive   0.312300"
      ]
     },
     "execution_count": 46,
     "metadata": {},
     "output_type": "execute_result"
    }
   ],
   "source": [
    "train.pivot_table(index='sentiment', values='textID', \n",
    "                 aggfunc = lambda x: x.count()/train['sentiment'].count())\n"
   ]
  },
  {
   "cell_type": "markdown",
   "metadata": {},
   "source": [
    "# Feature engineering"
   ]
  },
  {
   "cell_type": "markdown",
   "metadata": {},
   "source": [
    "## URL "
   ]
  },
  {
   "cell_type": "code",
   "execution_count": 97,
   "metadata": {},
   "outputs": [],
   "source": [
    "def find_url(string): \n",
    "    text = re.findall('http[s]?://(?:[a-zA-Z]|[0-9]|[$-_@.&+]|[!*\\(\\),]|(?:%[0-9a-fA-F][0-9a-fA-F]))+',string)\n",
    "    if text!=[]:\n",
    "        return \"\".join(text)\n",
    "    return None"
   ]
  },
  {
   "cell_type": "code",
   "execution_count": 98,
   "metadata": {
    "scrolled": true
   },
   "outputs": [],
   "source": [
    "train['url']=train['text'].apply(lambda x:find_url(x))"
   ]
  },
  {
   "cell_type": "code",
   "execution_count": 99,
   "metadata": {},
   "outputs": [
    {
     "data": {
      "text/html": [
       "<div>\n",
       "<style scoped>\n",
       "    .dataframe tbody tr th:only-of-type {\n",
       "        vertical-align: middle;\n",
       "    }\n",
       "\n",
       "    .dataframe tbody tr th {\n",
       "        vertical-align: top;\n",
       "    }\n",
       "\n",
       "    .dataframe thead th {\n",
       "        text-align: right;\n",
       "    }\n",
       "</style>\n",
       "<table border=\"1\" class=\"dataframe\">\n",
       "  <thead>\n",
       "    <tr style=\"text-align: right;\">\n",
       "      <th></th>\n",
       "      <th>textID</th>\n",
       "      <th>text</th>\n",
       "      <th>selected_text</th>\n",
       "      <th>sentiment</th>\n",
       "      <th>url</th>\n",
       "    </tr>\n",
       "  </thead>\n",
       "  <tbody>\n",
       "    <tr>\n",
       "      <th>5</th>\n",
       "      <td>28b57f3990</td>\n",
       "      <td>http://www.dothebouncy.com/smf - some shameles...</td>\n",
       "      <td>http://www.dothebouncy.com/smf - some shameles...</td>\n",
       "      <td>neutral</td>\n",
       "      <td>http://www.dothebouncy.com/smf</td>\n",
       "    </tr>\n",
       "    <tr>\n",
       "      <th>17</th>\n",
       "      <td>919fa93391</td>\n",
       "      <td>i`ve been sick for the past few days  and thus...</td>\n",
       "      <td>sick</td>\n",
       "      <td>negative</td>\n",
       "      <td>http://tinyurl.com/mnf4kw</td>\n",
       "    </tr>\n",
       "    <tr>\n",
       "      <th>35</th>\n",
       "      <td>4f5267ad70</td>\n",
       "      <td>Thats it, its the end. Tears for Fears vs Eric...</td>\n",
       "      <td>Thats it, its the end. Tears for Fears</td>\n",
       "      <td>neutral</td>\n",
       "      <td>http://bit.ly/2Hpbg4</td>\n",
       "    </tr>\n",
       "    <tr>\n",
       "      <th>50</th>\n",
       "      <td>a3ae670885</td>\n",
       "      <td>Then you should check out http://twittersucks...</td>\n",
       "      <td>Then you should check out http://twittersucks....</td>\n",
       "      <td>neutral</td>\n",
       "      <td>http://twittersucks.com</td>\n",
       "    </tr>\n",
       "    <tr>\n",
       "      <th>57</th>\n",
       "      <td>6086b1f016</td>\n",
       "      <td>will be back later.  http://plurk.com/p/rp3k7</td>\n",
       "      <td>will be back later.</td>\n",
       "      <td>neutral</td>\n",
       "      <td>http://plurk.com/p/rp3k7</td>\n",
       "    </tr>\n",
       "    <tr>\n",
       "      <th>...</th>\n",
       "      <td>...</td>\n",
       "      <td>...</td>\n",
       "      <td>...</td>\n",
       "      <td>...</td>\n",
       "      <td>...</td>\n",
       "    </tr>\n",
       "    <tr>\n",
       "      <th>27374</th>\n",
       "      <td>b49385ebb7</td>\n",
       "      <td>says Finally, Im home.  http://plurk.com/p/rr121</td>\n",
       "      <td>says Finally, Im home.</td>\n",
       "      <td>neutral</td>\n",
       "      <td>http://plurk.com/p/rr121</td>\n",
       "    </tr>\n",
       "    <tr>\n",
       "      <th>27384</th>\n",
       "      <td>f94af8cb85</td>\n",
       "      <td>This is a much better tool than some I have co...</td>\n",
       "      <td>This is a much better tool</td>\n",
       "      <td>positive</td>\n",
       "      <td>http://www.tweepular.com</td>\n",
       "    </tr>\n",
       "    <tr>\n",
       "      <th>27386</th>\n",
       "      <td>e149ebd3a1</td>\n",
       "      <td>#vwll2009 Would one of the VWLLers want to add...</td>\n",
       "      <td>ch appreciat</td>\n",
       "      <td>positive</td>\n",
       "      <td>http://bit.ly/BF5sh</td>\n",
       "    </tr>\n",
       "    <tr>\n",
       "      <th>27463</th>\n",
       "      <td>a38bf809b0</td>\n",
       "      <td>LIKE DREW SAID 'GIVE TC A CHANCE' WE WILL MIS...</td>\n",
       "      <td>MISS</td>\n",
       "      <td>negative</td>\n",
       "      <td>http://bit.ly/r6RfC</td>\n",
       "    </tr>\n",
       "    <tr>\n",
       "      <th>27472</th>\n",
       "      <td>8f5adc47ec</td>\n",
       "      <td>http://twitpic.com/663vr - Wanted to visit the...</td>\n",
       "      <td>were too late</td>\n",
       "      <td>negative</td>\n",
       "      <td>http://twitpic.com/663vr</td>\n",
       "    </tr>\n",
       "  </tbody>\n",
       "</table>\n",
       "<p>1221 rows × 5 columns</p>\n",
       "</div>"
      ],
      "text/plain": [
       "           textID                                               text  \\\n",
       "5      28b57f3990  http://www.dothebouncy.com/smf - some shameles...   \n",
       "17     919fa93391  i`ve been sick for the past few days  and thus...   \n",
       "35     4f5267ad70  Thats it, its the end. Tears for Fears vs Eric...   \n",
       "50     a3ae670885   Then you should check out http://twittersucks...   \n",
       "57     6086b1f016      will be back later.  http://plurk.com/p/rp3k7   \n",
       "...           ...                                                ...   \n",
       "27374  b49385ebb7   says Finally, Im home.  http://plurk.com/p/rr121   \n",
       "27384  f94af8cb85  This is a much better tool than some I have co...   \n",
       "27386  e149ebd3a1  #vwll2009 Would one of the VWLLers want to add...   \n",
       "27463  a38bf809b0   LIKE DREW SAID 'GIVE TC A CHANCE' WE WILL MIS...   \n",
       "27472  8f5adc47ec  http://twitpic.com/663vr - Wanted to visit the...   \n",
       "\n",
       "                                           selected_text sentiment  \\\n",
       "5      http://www.dothebouncy.com/smf - some shameles...   neutral   \n",
       "17                                                  sick  negative   \n",
       "35                Thats it, its the end. Tears for Fears   neutral   \n",
       "50     Then you should check out http://twittersucks....   neutral   \n",
       "57                                   will be back later.   neutral   \n",
       "...                                                  ...       ...   \n",
       "27374                             says Finally, Im home.   neutral   \n",
       "27384                         This is a much better tool  positive   \n",
       "27386                                       ch appreciat  positive   \n",
       "27463                                               MISS  negative   \n",
       "27472                                      were too late  negative   \n",
       "\n",
       "                                  url  \n",
       "5      http://www.dothebouncy.com/smf  \n",
       "17          http://tinyurl.com/mnf4kw  \n",
       "35               http://bit.ly/2Hpbg4  \n",
       "50            http://twittersucks.com  \n",
       "57           http://plurk.com/p/rp3k7  \n",
       "...                               ...  \n",
       "27374        http://plurk.com/p/rr121  \n",
       "27384        http://www.tweepular.com  \n",
       "27386             http://bit.ly/BF5sh  \n",
       "27463             http://bit.ly/r6RfC  \n",
       "27472        http://twitpic.com/663vr  \n",
       "\n",
       "[1221 rows x 5 columns]"
      ]
     },
     "execution_count": 99,
     "metadata": {},
     "output_type": "execute_result"
    }
   ],
   "source": [
    "train.loc[pd.notnull(train.url)]"
   ]
  },
  {
   "cell_type": "markdown",
   "metadata": {},
   "source": [
    "## Emoticons"
   ]
  },
  {
   "cell_type": "code",
   "execution_count": 143,
   "metadata": {},
   "outputs": [
    {
     "data": {
      "text/plain": [
       "':smiling_face_with_heart-eyes: lol :grinning_squinting_face: :face_with_tears_of_joy: '"
      ]
     },
     "execution_count": 143,
     "metadata": {},
     "output_type": "execute_result"
    }
   ],
   "source": [
    "ex = \"😍 lol 😆 😂 \"\n",
    "emoji.demojize(ex)"
   ]
  },
  {
   "cell_type": "code",
   "execution_count": 144,
   "metadata": {},
   "outputs": [
    {
     "data": {
      "text/plain": [
       "['smiling_face_with_heart-eyes',\n",
       " 'grinning_squinting_face',\n",
       " 'face_with_tears_of_joy']"
      ]
     },
     "execution_count": 144,
     "metadata": {},
     "output_type": "execute_result"
    }
   ],
   "source": [
    "re.findall(':(.*?):', emoji.demojize(ex) )  #<-mac\n",
    "#re.findall( r'\\:(.*?)\\:', emoji.demojize(ex) )  <- window"
   ]
  },
  {
   "cell_type": "code",
   "execution_count": 168,
   "metadata": {
    "collapsed": true
   },
   "outputs": [
    {
     "data": {
      "text/plain": [
       "{'🥇': ':1st_place_medal:',\n",
       " '🥈': ':2nd_place_medal:',\n",
       " '🥉': ':3rd_place_medal:',\n",
       " '🆎': ':AB_button_(blood_type):',\n",
       " '🏧': ':ATM_sign:',\n",
       " '🅰': ':A_button_(blood_type):',\n",
       " '🇦🇫': ':Afghanistan:',\n",
       " '🇦🇱': ':Albania:',\n",
       " '🇩🇿': ':Algeria:',\n",
       " '🇦🇸': ':American_Samoa:',\n",
       " '🇦🇩': ':Andorra:',\n",
       " '🇦🇴': ':Angola:',\n",
       " '🇦🇮': ':Anguilla:',\n",
       " '🇦🇶': ':Antarctica:',\n",
       " '🇦🇬': ':Antigua_&_Barbuda:',\n",
       " '♒': ':Aquarius:',\n",
       " '🇦🇷': ':Argentina:',\n",
       " '♈': ':Aries:',\n",
       " '🇦🇲': ':Armenia:',\n",
       " '🇦🇼': ':Aruba:',\n",
       " '🇦🇨': ':Ascension_Island:',\n",
       " '🇦🇺': ':Australia:',\n",
       " '🇦🇹': ':Austria:',\n",
       " '🇦🇿': ':Azerbaijan:',\n",
       " '🔙': ':BACK_arrow:',\n",
       " '🅱': ':B_button_(blood_type):',\n",
       " '🇧🇸': ':Bahamas:',\n",
       " '🇧🇭': ':Bahrain:',\n",
       " '🇧🇩': ':Bangladesh:',\n",
       " '🇧🇧': ':Barbados:',\n",
       " '🇧🇾': ':Belarus:',\n",
       " '🇧🇪': ':Belgium:',\n",
       " '🇧🇿': ':Belize:',\n",
       " '🇧🇯': ':Benin:',\n",
       " '🇧🇲': ':Bermuda:',\n",
       " '🇧🇹': ':Bhutan:',\n",
       " '🇧🇴': ':Bolivia:',\n",
       " '🇧🇦': ':Bosnia_&_Herzegovina:',\n",
       " '🇧🇼': ':Botswana:',\n",
       " '🇧🇻': ':Bouvet_Island:',\n",
       " '🇧🇷': ':Brazil:',\n",
       " '🇮🇴': ':British_Indian_Ocean_Territory:',\n",
       " '🇻🇬': ':British_Virgin_Islands:',\n",
       " '🇧🇳': ':Brunei:',\n",
       " '🇧🇬': ':Bulgaria:',\n",
       " '🇧🇫': ':Burkina_Faso:',\n",
       " '🇧🇮': ':Burundi:',\n",
       " '🆑': ':CL_button:',\n",
       " '🆒': ':COOL_button:',\n",
       " '🇰🇭': ':Cambodia:',\n",
       " '🇨🇲': ':Cameroon:',\n",
       " '🇨🇦': ':Canada:',\n",
       " '🇮🇨': ':Canary_Islands:',\n",
       " '♋': ':Cancer:',\n",
       " '🇨🇻': ':Cape_Verde:',\n",
       " '♑': ':Capricorn:',\n",
       " '🇧🇶': ':Caribbean_Netherlands:',\n",
       " '🇰🇾': ':Cayman_Islands:',\n",
       " '🇨🇫': ':Central_African_Republic:',\n",
       " '🇪🇦': ':Ceuta_&_Melilla:',\n",
       " '🇹🇩': ':Chad:',\n",
       " '🇨🇱': ':Chile:',\n",
       " '🇨🇳': ':China:',\n",
       " '🇨🇽': ':Christmas_Island:',\n",
       " '🎄': ':Christmas_tree:',\n",
       " '🇨🇵': ':Clipperton_Island:',\n",
       " '🇨🇨': ':Cocos_(Keeling)_Islands:',\n",
       " '🇨🇴': ':Colombia:',\n",
       " '🇰🇲': ':Comoros:',\n",
       " '🇨🇬': ':Congo_-_Brazzaville:',\n",
       " '🇨🇩': ':Congo_-_Kinshasa:',\n",
       " '🇨🇰': ':Cook_Islands:',\n",
       " '🇨🇷': ':Costa_Rica:',\n",
       " '🇭🇷': ':Croatia:',\n",
       " '🇨🇺': ':Cuba:',\n",
       " '🇨🇼': ':Curaçao:',\n",
       " '🇨🇾': ':Cyprus:',\n",
       " '🇨🇿': ':Czechia:',\n",
       " '🇨🇮': ':Côte_d’Ivoire:',\n",
       " '🇩🇰': ':Denmark:',\n",
       " '🇩🇬': ':Diego_Garcia:',\n",
       " '🇩🇯': ':Djibouti:',\n",
       " '🇩🇲': ':Dominica:',\n",
       " '🇩🇴': ':Dominican_Republic:',\n",
       " '🔚': ':END_arrow:',\n",
       " '🇪🇨': ':Ecuador:',\n",
       " '🇪🇬': ':Egypt:',\n",
       " '🇸🇻': ':El_Salvador:',\n",
       " '🏴\\U000e0067\\U000e0062\\U000e0065\\U000e006e\\U000e0067\\U000e007f': ':England:',\n",
       " '🇬🇶': ':Equatorial_Guinea:',\n",
       " '🇪🇷': ':Eritrea:',\n",
       " '🇪🇪': ':Estonia:',\n",
       " '🇪🇹': ':Ethiopia:',\n",
       " '🇪🇺': ':European_Union:',\n",
       " '🆓': ':FREE_button:',\n",
       " '🇫🇰': ':Falkland_Islands:',\n",
       " '🇫🇴': ':Faroe_Islands:',\n",
       " '🇫🇯': ':Fiji:',\n",
       " '🇫🇮': ':Finland:',\n",
       " '🇫🇷': ':France:',\n",
       " '🇬🇫': ':French_Guiana:',\n",
       " '🇵🇫': ':French_Polynesia:',\n",
       " '🇹🇫': ':French_Southern_Territories:',\n",
       " '🇬🇦': ':Gabon:',\n",
       " '🇬🇲': ':Gambia:',\n",
       " '♊': ':Gemini:',\n",
       " '🇬🇪': ':Georgia:',\n",
       " '🇩🇪': ':Germany:',\n",
       " '🇬🇭': ':Ghana:',\n",
       " '🇬🇮': ':Gibraltar:',\n",
       " '🇬🇷': ':Greece:',\n",
       " '🇬🇱': ':Greenland:',\n",
       " '🇬🇩': ':Grenada:',\n",
       " '🇬🇵': ':Guadeloupe:',\n",
       " '🇬🇺': ':Guam:',\n",
       " '🇬🇹': ':Guatemala:',\n",
       " '🇬🇬': ':Guernsey:',\n",
       " '🇬🇳': ':Guinea:',\n",
       " '🇬🇼': ':Guinea-Bissau:',\n",
       " '🇬🇾': ':Guyana:',\n",
       " '🇭🇹': ':Haiti:',\n",
       " '🇭🇲': ':Heard_&_McDonald_Islands:',\n",
       " '🇭🇳': ':Honduras:',\n",
       " '🇭🇰': ':Hong_Kong_SAR_China:',\n",
       " '🇭🇺': ':Hungary:',\n",
       " '🆔': ':ID_button:',\n",
       " '🇮🇸': ':Iceland:',\n",
       " '🇮🇳': ':India:',\n",
       " '🇮🇩': ':Indonesia:',\n",
       " '🇮🇷': ':Iran:',\n",
       " '🇮🇶': ':Iraq:',\n",
       " '🇮🇪': ':Ireland:',\n",
       " '🇮🇲': ':Isle_of_Man:',\n",
       " '🇮🇱': ':Israel:',\n",
       " '🇮🇹': ':Italy:',\n",
       " '🇯🇲': ':Jamaica:',\n",
       " '🇯🇵': ':Japan:',\n",
       " '🉑': ':Japanese_acceptable_button:',\n",
       " '🈸': ':Japanese_application_button:',\n",
       " '🉐': ':Japanese_bargain_button:',\n",
       " '🏯': ':Japanese_castle:',\n",
       " '㊗': ':Japanese_congratulations_button:',\n",
       " '🈹': ':Japanese_discount_button:',\n",
       " '🎎': ':Japanese_dolls:',\n",
       " '🈚': ':Japanese_free_of_charge_button:',\n",
       " '🈁': ':Japanese_here_button:',\n",
       " '🈷': ':Japanese_monthly_amount_button:',\n",
       " '🈵': ':Japanese_no_vacancy_button:',\n",
       " '🈶': ':Japanese_not_free_of_charge_button:',\n",
       " '🈺': ':Japanese_open_for_business_button:',\n",
       " '🈴': ':Japanese_passing_grade_button:',\n",
       " '🏣': ':Japanese_post_office:',\n",
       " '🈲': ':Japanese_prohibited_button:',\n",
       " '🈯': ':Japanese_reserved_button:',\n",
       " '㊙': ':Japanese_secret_button:',\n",
       " '🈂': ':Japanese_service_charge_button:',\n",
       " '🔰': ':Japanese_symbol_for_beginner:',\n",
       " '🈳': ':Japanese_vacancy_button:',\n",
       " '🇯🇪': ':Jersey:',\n",
       " '🇯🇴': ':Jordan:',\n",
       " '🇰🇿': ':Kazakhstan:',\n",
       " '🇰🇪': ':Kenya:',\n",
       " '🇰🇮': ':Kiribati:',\n",
       " '🇽🇰': ':Kosovo:',\n",
       " '🇰🇼': ':Kuwait:',\n",
       " '🇰🇬': ':Kyrgyzstan:',\n",
       " '🇱🇦': ':Laos:',\n",
       " '🇱🇻': ':Latvia:',\n",
       " '🇱🇧': ':Lebanon:',\n",
       " '♌': ':Leo:',\n",
       " '🇱🇸': ':Lesotho:',\n",
       " '🇱🇷': ':Liberia:',\n",
       " '♎': ':Libra:',\n",
       " '🇱🇾': ':Libya:',\n",
       " '🇱🇮': ':Liechtenstein:',\n",
       " '🇱🇹': ':Lithuania:',\n",
       " '🇱🇺': ':Luxembourg:',\n",
       " '🇲🇴': ':Macau_SAR_China:',\n",
       " '🇲🇰': ':Macedonia:',\n",
       " '🇲🇬': ':Madagascar:',\n",
       " '🇲🇼': ':Malawi:',\n",
       " '🇲🇾': ':Malaysia:',\n",
       " '🇲🇻': ':Maldives:',\n",
       " '🇲🇱': ':Mali:',\n",
       " '🇲🇹': ':Malta:',\n",
       " '🇲🇭': ':Marshall_Islands:',\n",
       " '🇲🇶': ':Martinique:',\n",
       " '🇲🇷': ':Mauritania:',\n",
       " '🇲🇺': ':Mauritius:',\n",
       " '🇾🇹': ':Mayotte:',\n",
       " '🇲🇽': ':Mexico:',\n",
       " '🇫🇲': ':Micronesia:',\n",
       " '🇲🇩': ':Moldova:',\n",
       " '🇲🇨': ':Monaco:',\n",
       " '🇲🇳': ':Mongolia:',\n",
       " '🇲🇪': ':Montenegro:',\n",
       " '🇲🇸': ':Montserrat:',\n",
       " '🇲🇦': ':Morocco:',\n",
       " '🇲🇿': ':Mozambique:',\n",
       " '🤶': ':Mrs._Claus:',\n",
       " '🤶🏿': ':Mrs._Claus_dark_skin_tone:',\n",
       " '🤶🏻': ':Mrs._Claus_light_skin_tone:',\n",
       " '🤶🏾': ':Mrs._Claus_medium-dark_skin_tone:',\n",
       " '🤶🏼': ':Mrs._Claus_medium-light_skin_tone:',\n",
       " '🤶🏽': ':Mrs._Claus_medium_skin_tone:',\n",
       " '🇲🇲': ':Myanmar_(Burma):',\n",
       " '🆕': ':NEW_button:',\n",
       " '🆖': ':NG_button:',\n",
       " '🇳🇦': ':Namibia:',\n",
       " '🇳🇷': ':Nauru:',\n",
       " '🇳🇵': ':Nepal:',\n",
       " '🇳🇱': ':Netherlands:',\n",
       " '🇳🇨': ':New_Caledonia:',\n",
       " '🇳🇿': ':New_Zealand:',\n",
       " '🇳🇮': ':Nicaragua:',\n",
       " '🇳🇪': ':Niger:',\n",
       " '🇳🇬': ':Nigeria:',\n",
       " '🇳🇺': ':Niue:',\n",
       " '🇳🇫': ':Norfolk_Island:',\n",
       " '🇰🇵': ':North_Korea:',\n",
       " '🇲🇵': ':Northern_Mariana_Islands:',\n",
       " '🇳🇴': ':Norway:',\n",
       " '🆗': ':OK_button:',\n",
       " '👌': ':OK_hand:',\n",
       " '👌🏿': ':OK_hand_dark_skin_tone:',\n",
       " '👌🏻': ':OK_hand_light_skin_tone:',\n",
       " '👌🏾': ':OK_hand_medium-dark_skin_tone:',\n",
       " '👌🏼': ':OK_hand_medium-light_skin_tone:',\n",
       " '👌🏽': ':OK_hand_medium_skin_tone:',\n",
       " '🔛': ':ON!_arrow:',\n",
       " '🅾': ':O_button_(blood_type):',\n",
       " '🇴🇲': ':Oman:',\n",
       " '⛎': ':Ophiuchus:',\n",
       " '🅿': ':P_button:',\n",
       " '🇵🇰': ':Pakistan:',\n",
       " '🇵🇼': ':Palau:',\n",
       " '🇵🇸': ':Palestinian_Territories:',\n",
       " '🇵🇦': ':Panama:',\n",
       " '🇵🇬': ':Papua_New_Guinea:',\n",
       " '🇵🇾': ':Paraguay:',\n",
       " '🇵🇪': ':Peru:',\n",
       " '🇵🇭': ':Philippines:',\n",
       " '♓': ':Pisces:',\n",
       " '🇵🇳': ':Pitcairn_Islands:',\n",
       " '🇵🇱': ':Poland:',\n",
       " '🇵🇹': ':Portugal:',\n",
       " '🇵🇷': ':Puerto_Rico:',\n",
       " '🇶🇦': ':Qatar:',\n",
       " '🇷🇴': ':Romania:',\n",
       " '🇷🇺': ':Russia:',\n",
       " '🇷🇼': ':Rwanda:',\n",
       " '🇷🇪': ':Réunion:',\n",
       " '🔜': ':SOON_arrow:',\n",
       " '🆘': ':SOS_button:',\n",
       " '♐': ':Sagittarius:',\n",
       " '🇼🇸': ':Samoa:',\n",
       " '🇸🇲': ':San_Marino:',\n",
       " '🎅': ':Santa_Claus:',\n",
       " '🎅🏿': ':Santa_Claus_dark_skin_tone:',\n",
       " '🎅🏻': ':Santa_Claus_light_skin_tone:',\n",
       " '🎅🏾': ':Santa_Claus_medium-dark_skin_tone:',\n",
       " '🎅🏼': ':Santa_Claus_medium-light_skin_tone:',\n",
       " '🎅🏽': ':Santa_Claus_medium_skin_tone:',\n",
       " '🇸🇦': ':Saudi_Arabia:',\n",
       " '♏': ':Scorpio:',\n",
       " '🏴\\U000e0067\\U000e0062\\U000e0073\\U000e0063\\U000e0074\\U000e007f': ':Scotland:',\n",
       " '🇸🇳': ':Senegal:',\n",
       " '🇷🇸': ':Serbia:',\n",
       " '🇸🇨': ':Seychelles:',\n",
       " '🇸🇱': ':Sierra_Leone:',\n",
       " '🇸🇬': ':Singapore:',\n",
       " '🇸🇽': ':Sint_Maarten:',\n",
       " '🇸🇰': ':Slovakia:',\n",
       " '🇸🇮': ':Slovenia:',\n",
       " '🇸🇧': ':Solomon_Islands:',\n",
       " '🇸🇴': ':Somalia:',\n",
       " '🇿🇦': ':South_Africa:',\n",
       " '🇬🇸': ':South_Georgia_&_South_Sandwich_Islands:',\n",
       " '🇰🇷': ':South_Korea:',\n",
       " '🇸🇸': ':South_Sudan:',\n",
       " '🇪🇸': ':Spain:',\n",
       " '🇱🇰': ':Sri_Lanka:',\n",
       " '🇧🇱': ':St._Barthélemy:',\n",
       " '🇸🇭': ':St._Helena:',\n",
       " '🇰🇳': ':St._Kitts_&_Nevis:',\n",
       " '🇱🇨': ':St._Lucia:',\n",
       " '🇲🇫': ':St._Martin:',\n",
       " '🇵🇲': ':St._Pierre_&_Miquelon:',\n",
       " '🇻🇨': ':St._Vincent_&_Grenadines:',\n",
       " '🗽': ':Statue_of_Liberty:',\n",
       " '🇸🇩': ':Sudan:',\n",
       " '🇸🇷': ':Suriname:',\n",
       " '🇸🇯': ':Svalbard_&_Jan_Mayen:',\n",
       " '🇸🇿': ':Swaziland:',\n",
       " '🇸🇪': ':Sweden:',\n",
       " '🇨🇭': ':Switzerland:',\n",
       " '🇸🇾': ':Syria:',\n",
       " '🇸🇹': ':São_Tomé_&_Príncipe:',\n",
       " '🦖': ':T-Rex:',\n",
       " '🔝': ':TOP_arrow:',\n",
       " '🇹🇼': ':Taiwan:',\n",
       " '🇹🇯': ':Tajikistan:',\n",
       " '🇹🇿': ':Tanzania:',\n",
       " '♉': ':Taurus:',\n",
       " '🇹🇭': ':Thailand:',\n",
       " '🇹🇱': ':Timor-Leste:',\n",
       " '🇹🇬': ':Togo:',\n",
       " '🇹🇰': ':Tokelau:',\n",
       " '🗼': ':Tokyo_tower:',\n",
       " '🇹🇴': ':Tonga:',\n",
       " '🇹🇹': ':Trinidad_&_Tobago:',\n",
       " '🇹🇦': ':Tristan_da_Cunha:',\n",
       " '🇹🇳': ':Tunisia:',\n",
       " '🇹🇷': ':Turkey:',\n",
       " '🇹🇲': ':Turkmenistan:',\n",
       " '🇹🇨': ':Turks_&_Caicos_Islands:',\n",
       " '🇹🇻': ':Tuvalu:',\n",
       " '🇺🇲': ':U.S._Outlying_Islands:',\n",
       " '🇻🇮': ':U.S._Virgin_Islands:',\n",
       " '🆙': ':UP!_button:',\n",
       " '🇺🇬': ':Uganda:',\n",
       " '🇺🇦': ':Ukraine:',\n",
       " '🇦🇪': ':United_Arab_Emirates:',\n",
       " '🇬🇧': ':United_Kingdom:',\n",
       " '🇺🇳': ':United_Nations:',\n",
       " '🇺🇸': ':United_States:',\n",
       " '🇺🇾': ':Uruguay:',\n",
       " '🇺🇿': ':Uzbekistan:',\n",
       " '🆚': ':VS_button:',\n",
       " '🇻🇺': ':Vanuatu:',\n",
       " '🇻🇦': ':Vatican_City:',\n",
       " '🇻🇪': ':Venezuela:',\n",
       " '🇻🇳': ':Vietnam:',\n",
       " '♍': ':Virgo:',\n",
       " '🏴\\U000e0067\\U000e0062\\U000e0077\\U000e006c\\U000e0073\\U000e007f': ':Wales:',\n",
       " '🇼🇫': ':Wallis_&_Futuna:',\n",
       " '🇪🇭': ':Western_Sahara:',\n",
       " '🇾🇪': ':Yemen:',\n",
       " '🇿🇲': ':Zambia:',\n",
       " '🇿🇼': ':Zimbabwe:',\n",
       " '🧮': ':abacus:',\n",
       " '\\U0001fa79': ':adhesive_bandage:',\n",
       " '🎟': ':admission_tickets:',\n",
       " '🧑': ':adult:',\n",
       " '🧑🏿': ':adult_dark_skin_tone:',\n",
       " '🧑🏻': ':adult_light_skin_tone:',\n",
       " '🧑🏾': ':adult_medium-dark_skin_tone:',\n",
       " '🧑🏼': ':adult_medium-light_skin_tone:',\n",
       " '🧑🏽': ':adult_medium_skin_tone:',\n",
       " '🚡': ':aerial_tramway:',\n",
       " '✈': ':airplane:',\n",
       " '🛬': ':airplane_arrival:',\n",
       " '🛫': ':airplane_departure:',\n",
       " '⏰': ':alarm_clock:',\n",
       " '⚗': ':alembic:',\n",
       " '👽': ':alien:',\n",
       " '👾': ':alien_monster:',\n",
       " '🚑': ':ambulance:',\n",
       " '🏈': ':american_football:',\n",
       " '🏺': ':amphora:',\n",
       " '⚓': ':anchor:',\n",
       " '💢': ':anger_symbol:',\n",
       " '😠': ':angry_face:',\n",
       " '👿': ':angry_face_with_horns:',\n",
       " '😧': ':anguished_face:',\n",
       " '🐜': ':ant:',\n",
       " '📶': ':antenna_bars:',\n",
       " '😰': ':anxious_face_with_sweat:',\n",
       " '🚛': ':articulated_lorry:',\n",
       " '🎨': ':artist_palette:',\n",
       " '😲': ':astonished_face:',\n",
       " '⚛': ':atom_symbol:',\n",
       " '\\U0001f6fa': ':auto_rickshaw:',\n",
       " '🚗': ':automobile:',\n",
       " '🥑': ':avocado:',\n",
       " '\\U0001fa93': ':axe:',\n",
       " '👶': ':baby:',\n",
       " '👼': ':baby_angel:',\n",
       " '👼🏿': ':baby_angel_dark_skin_tone:',\n",
       " '👼🏻': ':baby_angel_light_skin_tone:',\n",
       " '👼🏾': ':baby_angel_medium-dark_skin_tone:',\n",
       " '👼🏼': ':baby_angel_medium-light_skin_tone:',\n",
       " '👼🏽': ':baby_angel_medium_skin_tone:',\n",
       " '🍼': ':baby_bottle:',\n",
       " '🐤': ':baby_chick:',\n",
       " '👶🏿': ':baby_dark_skin_tone:',\n",
       " '👶🏻': ':baby_light_skin_tone:',\n",
       " '👶🏾': ':baby_medium-dark_skin_tone:',\n",
       " '👶🏼': ':baby_medium-light_skin_tone:',\n",
       " '👶🏽': ':baby_medium_skin_tone:',\n",
       " '🚼': ':baby_symbol:',\n",
       " '👇': ':backhand_index_pointing_down:',\n",
       " '👇🏿': ':backhand_index_pointing_down_dark_skin_tone:',\n",
       " '👇🏻': ':backhand_index_pointing_down_light_skin_tone:',\n",
       " '👇🏾': ':backhand_index_pointing_down_medium-dark_skin_tone:',\n",
       " '👇🏼': ':backhand_index_pointing_down_medium-light_skin_tone:',\n",
       " '👇🏽': ':backhand_index_pointing_down_medium_skin_tone:',\n",
       " '👈': ':backhand_index_pointing_left:',\n",
       " '👈🏿': ':backhand_index_pointing_left_dark_skin_tone:',\n",
       " '👈🏻': ':backhand_index_pointing_left_light_skin_tone:',\n",
       " '👈🏾': ':backhand_index_pointing_left_medium-dark_skin_tone:',\n",
       " '👈🏼': ':backhand_index_pointing_left_medium-light_skin_tone:',\n",
       " '👈🏽': ':backhand_index_pointing_left_medium_skin_tone:',\n",
       " '👉': ':backhand_index_pointing_right:',\n",
       " '👉🏿': ':backhand_index_pointing_right_dark_skin_tone:',\n",
       " '👉🏻': ':backhand_index_pointing_right_light_skin_tone:',\n",
       " '👉🏾': ':backhand_index_pointing_right_medium-dark_skin_tone:',\n",
       " '👉🏼': ':backhand_index_pointing_right_medium-light_skin_tone:',\n",
       " '👉🏽': ':backhand_index_pointing_right_medium_skin_tone:',\n",
       " '👆': ':backhand_index_pointing_up:',\n",
       " '👆🏿': ':backhand_index_pointing_up_dark_skin_tone:',\n",
       " '👆🏻': ':backhand_index_pointing_up_light_skin_tone:',\n",
       " '👆🏾': ':backhand_index_pointing_up_medium-dark_skin_tone:',\n",
       " '👆🏼': ':backhand_index_pointing_up_medium-light_skin_tone:',\n",
       " '👆🏽': ':backhand_index_pointing_up_medium_skin_tone:',\n",
       " '🥓': ':bacon:',\n",
       " '🦡': ':badger:',\n",
       " '🏸': ':badminton:',\n",
       " '🥯': ':bagel:',\n",
       " '🛄': ':baggage_claim:',\n",
       " '🥖': ':baguette_bread:',\n",
       " '⚖': ':balance_scale:',\n",
       " '🦲': ':bald:',\n",
       " '👨\\u200d🦲': ':bald_man:',\n",
       " '👩\\u200d🦲': ':bald_woman:',\n",
       " '\\U0001fa70': ':ballet_shoes:',\n",
       " '🎈': ':balloon:',\n",
       " '🗳': ':ballot_box_with_ballot:',\n",
       " '☑': ':ballot_box_with_check:',\n",
       " '🍌': ':banana:',\n",
       " '\\U0001fa95': ':banjo:',\n",
       " '🏦': ':bank:',\n",
       " '📊': ':bar_chart:',\n",
       " '💈': ':barber_pole:',\n",
       " '⚾': ':baseball:',\n",
       " '🧺': ':basket:',\n",
       " '🏀': ':basketball:',\n",
       " '🦇': ':bat:',\n",
       " '🛁': ':bathtub:',\n",
       " '🔋': ':battery:',\n",
       " '🏖': ':beach_with_umbrella:',\n",
       " '😁': ':beaming_face_with_smiling_eyes:',\n",
       " '🐻': ':bear_face:',\n",
       " '🧔': ':bearded_person:',\n",
       " '🧔🏿': ':bearded_person_dark_skin_tone:',\n",
       " '🧔🏻': ':bearded_person_light_skin_tone:',\n",
       " '🧔🏾': ':bearded_person_medium-dark_skin_tone:',\n",
       " '🧔🏼': ':bearded_person_medium-light_skin_tone:',\n",
       " '🧔🏽': ':bearded_person_medium_skin_tone:',\n",
       " '💓': ':beating_heart:',\n",
       " '🛏': ':bed:',\n",
       " '🍺': ':beer_mug:',\n",
       " '🔔': ':bell:',\n",
       " '🔕': ':bell_with_slash:',\n",
       " '🛎': ':bellhop_bell:',\n",
       " '🍱': ':bento_box:',\n",
       " '\\U0001f9c3': ':beverage_box:',\n",
       " '🚲': ':bicycle:',\n",
       " '👙': ':bikini:',\n",
       " '🧢': ':billed_cap:',\n",
       " '☣': ':biohazard:',\n",
       " '🐦': ':bird:',\n",
       " '🎂': ':birthday_cake:',\n",
       " '⚫': ':black_circle:',\n",
       " '🏴': ':black_flag:',\n",
       " '🖤': ':black_heart:',\n",
       " '⬛': ':black_large_square:',\n",
       " '◾': ':black_medium-small_square:',\n",
       " '◼': ':black_medium_square:',\n",
       " '✒': ':black_nib:',\n",
       " '▪': ':black_small_square:',\n",
       " '🔲': ':black_square_button:',\n",
       " '👱\\u200d♂️': ':blond-haired_man:',\n",
       " '👱🏿\\u200d♂️': ':blond-haired_man_dark_skin_tone:',\n",
       " '👱🏻\\u200d♂️': ':blond-haired_man_light_skin_tone:',\n",
       " '👱🏾\\u200d♂️': ':blond-haired_man_medium-dark_skin_tone:',\n",
       " '👱🏼\\u200d♂️': ':blond-haired_man_medium-light_skin_tone:',\n",
       " '👱🏽\\u200d♂️': ':blond-haired_man_medium_skin_tone:',\n",
       " '👱': ':blond-haired_person:',\n",
       " '👱🏿': ':blond-haired_person_dark_skin_tone:',\n",
       " '👱🏻': ':blond-haired_person_light_skin_tone:',\n",
       " '👱🏾': ':blond-haired_person_medium-dark_skin_tone:',\n",
       " '👱🏼': ':blond-haired_person_medium-light_skin_tone:',\n",
       " '👱🏽': ':blond-haired_person_medium_skin_tone:',\n",
       " '👱\\u200d♀️': ':blond-haired_woman:',\n",
       " '👱🏿\\u200d♀️': ':blond-haired_woman_dark_skin_tone:',\n",
       " '👱🏻\\u200d♀️': ':blond-haired_woman_light_skin_tone:',\n",
       " '👱🏾\\u200d♀️': ':blond-haired_woman_medium-dark_skin_tone:',\n",
       " '👱🏼\\u200d♀️': ':blond-haired_woman_medium-light_skin_tone:',\n",
       " '👱🏽\\u200d♀️': ':blond-haired_woman_medium_skin_tone:',\n",
       " '🌼': ':blossom:',\n",
       " '🐡': ':blowfish:',\n",
       " '📘': ':blue_book:',\n",
       " '🔵': ':blue_circle:',\n",
       " '💙': ':blue_heart:',\n",
       " '\\U0001f7e6': ':blue_square:',\n",
       " '🐗': ':boar:',\n",
       " '💣': ':bomb:',\n",
       " '🦴': ':bone:',\n",
       " '🔖': ':bookmark:',\n",
       " '📑': ':bookmark_tabs:',\n",
       " '📚': ':books:',\n",
       " '🍾': ':bottle_with_popping_cork:',\n",
       " '💐': ':bouquet:',\n",
       " '🏹': ':bow_and_arrow:',\n",
       " '🥣': ':bowl_with_spoon:',\n",
       " '🎳': ':bowling:',\n",
       " '🥊': ':boxing_glove:',\n",
       " '👦': ':boy:',\n",
       " '👦🏿': ':boy_dark_skin_tone:',\n",
       " '👦🏻': ':boy_light_skin_tone:',\n",
       " '👦🏾': ':boy_medium-dark_skin_tone:',\n",
       " '👦🏼': ':boy_medium-light_skin_tone:',\n",
       " '👦🏽': ':boy_medium_skin_tone:',\n",
       " '🧠': ':brain:',\n",
       " '🍞': ':bread:',\n",
       " '🤱': ':breast-feeding:',\n",
       " '🤱🏿': ':breast-feeding_dark_skin_tone:',\n",
       " '🤱🏻': ':breast-feeding_light_skin_tone:',\n",
       " '🤱🏾': ':breast-feeding_medium-dark_skin_tone:',\n",
       " '🤱🏼': ':breast-feeding_medium-light_skin_tone:',\n",
       " '🤱🏽': ':breast-feeding_medium_skin_tone:',\n",
       " '🧱': ':brick:',\n",
       " '👰': ':bride_with_veil:',\n",
       " '👰🏿': ':bride_with_veil_dark_skin_tone:',\n",
       " '👰🏻': ':bride_with_veil_light_skin_tone:',\n",
       " '👰🏾': ':bride_with_veil_medium-dark_skin_tone:',\n",
       " '👰🏼': ':bride_with_veil_medium-light_skin_tone:',\n",
       " '👰🏽': ':bride_with_veil_medium_skin_tone:',\n",
       " '🌉': ':bridge_at_night:',\n",
       " '💼': ':briefcase:',\n",
       " '\\U0001fa72': ':briefs:',\n",
       " '🔆': ':bright_button:',\n",
       " '🥦': ':broccoli:',\n",
       " '💔': ':broken_heart:',\n",
       " '🧹': ':broom:',\n",
       " '\\U0001f7e4': ':brown_circle:',\n",
       " '\\U0001f90e': ':brown_heart:',\n",
       " '\\U0001f7eb': ':brown_square:',\n",
       " '🐛': ':bug:',\n",
       " '🏗': ':building_construction:',\n",
       " '🚅': ':bullet_train:',\n",
       " '🌯': ':burrito:',\n",
       " '🚌': ':bus:',\n",
       " '🚏': ':bus_stop:',\n",
       " '👤': ':bust_in_silhouette:',\n",
       " '👥': ':busts_in_silhouette:',\n",
       " '\\U0001f9c8': ':butter:',\n",
       " '🦋': ':butterfly:',\n",
       " '🌵': ':cactus:',\n",
       " '📅': ':calendar:',\n",
       " '🤙': ':call_me_hand:',\n",
       " '🤙🏿': ':call_me_hand_dark_skin_tone:',\n",
       " '🤙🏻': ':call_me_hand_light_skin_tone:',\n",
       " '🤙🏾': ':call_me_hand_medium-dark_skin_tone:',\n",
       " '🤙🏼': ':call_me_hand_medium-light_skin_tone:',\n",
       " '🤙🏽': ':call_me_hand_medium_skin_tone:',\n",
       " '🐪': ':camel:',\n",
       " '📷': ':camera:',\n",
       " '📸': ':camera_with_flash:',\n",
       " '🏕': ':camping:',\n",
       " '🕯': ':candle:',\n",
       " '🍬': ':candy:',\n",
       " '🥫': ':canned_food:',\n",
       " '🛶': ':canoe:',\n",
       " '🗃': ':card_file_box:',\n",
       " '📇': ':card_index:',\n",
       " '🗂': ':card_index_dividers:',\n",
       " '🎠': ':carousel_horse:',\n",
       " '🎏': ':carp_streamer:',\n",
       " '🥕': ':carrot:',\n",
       " '🏰': ':castle:',\n",
       " '🐈': ':cat:',\n",
       " '🐱': ':cat_face:',\n",
       " '😹': ':cat_face_with_tears_of_joy:',\n",
       " '😼': ':cat_face_with_wry_smile:',\n",
       " '⛓': ':chains:',\n",
       " '\\U0001fa91': ':chair:',\n",
       " '📉': ':chart_decreasing:',\n",
       " '📈': ':chart_increasing:',\n",
       " '💹': ':chart_increasing_with_yen:',\n",
       " '🧀': ':cheese_wedge:',\n",
       " '🏁': ':chequered_flag:',\n",
       " '🍒': ':cherries:',\n",
       " '🌸': ':cherry_blossom:',\n",
       " '♟': ':chess_pawn:',\n",
       " '🌰': ':chestnut:',\n",
       " '🐔': ':chicken:',\n",
       " '🧒': ':child:',\n",
       " '🧒🏿': ':child_dark_skin_tone:',\n",
       " '🧒🏻': ':child_light_skin_tone:',\n",
       " '🧒🏾': ':child_medium-dark_skin_tone:',\n",
       " '🧒🏼': ':child_medium-light_skin_tone:',\n",
       " '🧒🏽': ':child_medium_skin_tone:',\n",
       " '🚸': ':children_crossing:',\n",
       " '🐿': ':chipmunk:',\n",
       " '🍫': ':chocolate_bar:',\n",
       " '🥢': ':chopsticks:',\n",
       " '⛪': ':church:',\n",
       " '🚬': ':cigarette:',\n",
       " '🎦': ':cinema:',\n",
       " 'Ⓜ': ':circled_M:',\n",
       " '🎪': ':circus_tent:',\n",
       " '🏙': ':cityscape:',\n",
       " '🌆': ':cityscape_at_dusk:',\n",
       " '🗜': ':clamp:',\n",
       " '🎬': ':clapper_board:',\n",
       " '👏': ':clapping_hands:',\n",
       " '👏🏿': ':clapping_hands_dark_skin_tone:',\n",
       " '👏🏻': ':clapping_hands_light_skin_tone:',\n",
       " '👏🏾': ':clapping_hands_medium-dark_skin_tone:',\n",
       " '👏🏼': ':clapping_hands_medium-light_skin_tone:',\n",
       " '👏🏽': ':clapping_hands_medium_skin_tone:',\n",
       " '🏛': ':classical_building:',\n",
       " '🍻': ':clinking_beer_mugs:',\n",
       " '🥂': ':clinking_glasses:',\n",
       " '📋': ':clipboard:',\n",
       " '🔃': ':clockwise_vertical_arrows:',\n",
       " '📕': ':closed_book:',\n",
       " '📪': ':closed_mailbox_with_lowered_flag:',\n",
       " '📫': ':closed_mailbox_with_raised_flag:',\n",
       " '🌂': ':closed_umbrella:',\n",
       " '☁': ':cloud:',\n",
       " '🌩': ':cloud_with_lightning:',\n",
       " '⛈': ':cloud_with_lightning_and_rain:',\n",
       " '🌧': ':cloud_with_rain:',\n",
       " '🌨': ':cloud_with_snow:',\n",
       " '🤡': ':clown_face:',\n",
       " '♣': ':club_suit:',\n",
       " '👝': ':clutch_bag:',\n",
       " '🧥': ':coat:',\n",
       " '🍸': ':cocktail_glass:',\n",
       " '🥥': ':coconut:',\n",
       " '⚰': ':coffin:',\n",
       " '🥶': ':cold_face:',\n",
       " '💥': ':collision:',\n",
       " '☄': ':comet:',\n",
       " '🧭': ':compass:',\n",
       " '💽': ':computer_disk:',\n",
       " '🖱': ':computer_mouse:',\n",
       " '🎊': ':confetti_ball:',\n",
       " '😖': ':confounded_face:',\n",
       " '😕': ':confused_face:',\n",
       " '🚧': ':construction:',\n",
       " '👷': ':construction_worker:',\n",
       " '👷🏿': ':construction_worker_dark_skin_tone:',\n",
       " '👷🏻': ':construction_worker_light_skin_tone:',\n",
       " '👷🏾': ':construction_worker_medium-dark_skin_tone:',\n",
       " '👷🏼': ':construction_worker_medium-light_skin_tone:',\n",
       " '👷🏽': ':construction_worker_medium_skin_tone:',\n",
       " '🎛': ':control_knobs:',\n",
       " '🏪': ':convenience_store:',\n",
       " '🍚': ':cooked_rice:',\n",
       " '🍪': ':cookie:',\n",
       " '🍳': ':cooking:',\n",
       " '©': ':copyright:',\n",
       " '🛋': ':couch_and_lamp:',\n",
       " '🔄': ':counterclockwise_arrows_button:',\n",
       " '💑': ':couple_with_heart:',\n",
       " '👨\\u200d❤️\\u200d👨': ':couple_with_heart_man_man:',\n",
       " '👩\\u200d❤️\\u200d👨': ':couple_with_heart_woman_man:',\n",
       " '👩\\u200d❤️\\u200d👩': ':couple_with_heart_woman_woman:',\n",
       " '🐄': ':cow:',\n",
       " '🐮': ':cow_face:',\n",
       " '🤠': ':cowboy_hat_face:',\n",
       " '🦀': ':crab:',\n",
       " '🖍': ':crayon:',\n",
       " '💳': ':credit_card:',\n",
       " '🌙': ':crescent_moon:',\n",
       " '🦗': ':cricket:',\n",
       " '🏏': ':cricket_game:',\n",
       " '🐊': ':crocodile:',\n",
       " '🥐': ':croissant:',\n",
       " '❌': ':cross_mark:',\n",
       " '❎': ':cross_mark_button:',\n",
       " '🤞': ':crossed_fingers:',\n",
       " '🤞🏿': ':crossed_fingers_dark_skin_tone:',\n",
       " '🤞🏻': ':crossed_fingers_light_skin_tone:',\n",
       " '🤞🏾': ':crossed_fingers_medium-dark_skin_tone:',\n",
       " '🤞🏼': ':crossed_fingers_medium-light_skin_tone:',\n",
       " '🤞🏽': ':crossed_fingers_medium_skin_tone:',\n",
       " '🎌': ':crossed_flags:',\n",
       " '⚔': ':crossed_swords:',\n",
       " '👑': ':crown:',\n",
       " '😿': ':crying_cat_face:',\n",
       " '😢': ':crying_face:',\n",
       " '🔮': ':crystal_ball:',\n",
       " '🥒': ':cucumber:',\n",
       " '🧁': ':cupcake:',\n",
       " '🥤': ':cup_with_straw:',\n",
       " '🥌': ':curling_stone:',\n",
       " '🦱': ':curly_hair:',\n",
       " '👨\\u200d🦱': ':curly-haired_man:',\n",
       " '👩\\u200d🦱': ':curly-haired_woman:',\n",
       " '➰': ':curly_loop:',\n",
       " '💱': ':currency_exchange:',\n",
       " '🍛': ':curry_rice:',\n",
       " '🍮': ':custard:',\n",
       " '🛃': ':customs:',\n",
       " '🥩': ':cut_of_meat:',\n",
       " '🌀': ':cyclone:',\n",
       " '🗡': ':dagger:',\n",
       " '🍡': ':dango:',\n",
       " '💨': ':dashing_away:',\n",
       " '\\U0001f9cf': ':deaf_person:',\n",
       " '🌳': ':deciduous_tree:',\n",
       " '🦌': ':deer:',\n",
       " '🚚': ':delivery_truck:',\n",
       " '🏬': ':department_store:',\n",
       " '🏚': ':derelict_house:',\n",
       " '🏜': ':desert:',\n",
       " '🏝': ':desert_island:',\n",
       " '🖥': ':desktop_computer:',\n",
       " '🕵': ':detective:',\n",
       " '🕵🏿': ':detective_dark_skin_tone:',\n",
       " '🕵🏻': ':detective_light_skin_tone:',\n",
       " '🕵🏾': ':detective_medium-dark_skin_tone:',\n",
       " '🕵🏼': ':detective_medium-light_skin_tone:',\n",
       " '🕵🏽': ':detective_medium_skin_tone:',\n",
       " '♦': ':diamond_suit:',\n",
       " '💠': ':diamond_with_a_dot:',\n",
       " '🔅': ':dim_button:',\n",
       " '🎯': ':direct_hit:',\n",
       " '😞': ':disappointed_face:',\n",
       " '\\U0001f93f': ':diving_mask:',\n",
       " '\\U0001fa94': ':diya_lamp:',\n",
       " '💫': ':dizzy:',\n",
       " '😵': ':dizzy_face:',\n",
       " '🧬': ':dna:',\n",
       " '🐕': ':dog:',\n",
       " '🐶': ':dog_face:',\n",
       " '💵': ':dollar_banknote:',\n",
       " '🐬': ':dolphin:',\n",
       " '🚪': ':door:',\n",
       " '🔯': ':dotted_six-pointed_star:',\n",
       " '➿': ':double_curly_loop:',\n",
       " '‼': ':double_exclamation_mark:',\n",
       " '🍩': ':doughnut:',\n",
       " '🕊': ':dove:',\n",
       " '↙': ':down-left_arrow:',\n",
       " '↘': ':down-right_arrow:',\n",
       " '⬇': ':down_arrow:',\n",
       " '😓': ':downcast_face_with_sweat:',\n",
       " '🔽': ':downwards_button:',\n",
       " '🐉': ':dragon:',\n",
       " '🐲': ':dragon_face:',\n",
       " '👗': ':dress:',\n",
       " '🤤': ':drooling_face:',\n",
       " '\\U0001fa78': ':drop_of_blood:',\n",
       " '💧': ':droplet:',\n",
       " '🥁': ':drum:',\n",
       " '🦆': ':duck:',\n",
       " '🥟': ':dumpling:',\n",
       " '📀': ':dvd:',\n",
       " '📧': ':e-mail:',\n",
       " '🦅': ':eagle:',\n",
       " '👂': ':ear:',\n",
       " '👂🏿': ':ear_dark_skin_tone:',\n",
       " '👂🏻': ':ear_light_skin_tone:',\n",
       " '👂🏾': ':ear_medium-dark_skin_tone:',\n",
       " '👂🏼': ':ear_medium-light_skin_tone:',\n",
       " '👂🏽': ':ear_medium_skin_tone:',\n",
       " '🌽': ':ear_of_corn:',\n",
       " '\\U0001f9bb': ':ear_with_hearing_aid:',\n",
       " '🥚': ':egg:',\n",
       " '🍆': ':eggplant:',\n",
       " '✴': ':eight-pointed_star:',\n",
       " '✳': ':eight-spoked_asterisk:',\n",
       " '🕣': ':eight-thirty:',\n",
       " '🕗': ':eight_o’clock:',\n",
       " '⏏': ':eject_button:',\n",
       " '🔌': ':electric_plug:',\n",
       " '🐘': ':elephant:',\n",
       " '🕦': ':eleven-thirty:',\n",
       " '🕚': ':eleven_o’clock:',\n",
       " '🧝': ':elf:',\n",
       " '🧝🏿': ':elf_dark_skin_tone:',\n",
       " '🧝🏻': ':elf_light_skin_tone:',\n",
       " '🧝🏾': ':elf_medium-dark_skin_tone:',\n",
       " '🧝🏼': ':elf_medium-light_skin_tone:',\n",
       " '🧝🏽': ':elf_medium_skin_tone:',\n",
       " '✉': ':envelope:',\n",
       " '📩': ':envelope_with_arrow:',\n",
       " '💶': ':euro_banknote:',\n",
       " '🌲': ':evergreen_tree:',\n",
       " '🐑': ':ewe:',\n",
       " '❗': ':exclamation_mark:',\n",
       " '⁉': ':exclamation_question_mark:',\n",
       " '🤯': ':exploding_head:',\n",
       " '😑': ':expressionless_face:',\n",
       " '👁': ':eye:',\n",
       " '👁️\\u200d🗨️': ':eye_in_speech_bubble:',\n",
       " '👀': ':eyes:',\n",
       " '😘': ':face_blowing_a_kiss:',\n",
       " '😋': ':face_savoring_food:',\n",
       " '😱': ':face_screaming_in_fear:',\n",
       " '🤮': ':face_vomiting:',\n",
       " '🤭': ':face_with_hand_over_mouth:',\n",
       " '🤕': ':face_with_head-bandage:',\n",
       " '😷': ':face_with_medical_mask:',\n",
       " '🧐': ':face_with_monocle:',\n",
       " '😮': ':face_with_open_mouth:',\n",
       " '🤨': ':face_with_raised_eyebrow:',\n",
       " '🙄': ':face_with_rolling_eyes:',\n",
       " '😤': ':face_with_steam_from_nose:',\n",
       " '🤬': ':face_with_symbols_on_mouth:',\n",
       " '😂': ':face_with_tears_of_joy:',\n",
       " '🤒': ':face_with_thermometer:',\n",
       " '😛': ':face_with_tongue:',\n",
       " '😶': ':face_without_mouth:',\n",
       " '🏭': ':factory:',\n",
       " '🧚': ':fairy:',\n",
       " '🧚🏿': ':fairy_dark_skin_tone:',\n",
       " '🧚🏻': ':fairy_light_skin_tone:',\n",
       " '🧚🏾': ':fairy_medium-dark_skin_tone:',\n",
       " '🧚🏼': ':fairy_medium-light_skin_tone:',\n",
       " '🧚🏽': ':fairy_medium_skin_tone:',\n",
       " '\\U0001f9c6': ':falafel:',\n",
       " '🍂': ':fallen_leaf:',\n",
       " '👪': ':family:',\n",
       " '👨\\u200d👦': ':family_man_boy:',\n",
       " '👨\\u200d👦\\u200d👦': ':family_man_boy_boy:',\n",
       " '👨\\u200d👧': ':family_man_girl:',\n",
       " '👨\\u200d👧\\u200d👦': ':family_man_girl_boy:',\n",
       " '👨\\u200d👧\\u200d👧': ':family_man_girl_girl:',\n",
       " '👨\\u200d👨\\u200d👦': ':family_man_man_boy:',\n",
       " '👨\\u200d👨\\u200d👦\\u200d👦': ':family_man_man_boy_boy:',\n",
       " '👨\\u200d👨\\u200d👧': ':family_man_man_girl:',\n",
       " '👨\\u200d👨\\u200d👧\\u200d👦': ':family_man_man_girl_boy:',\n",
       " '👨\\u200d👨\\u200d👧\\u200d👧': ':family_man_man_girl_girl:',\n",
       " '👨\\u200d👩\\u200d👦': ':family_man_woman_boy:',\n",
       " '👨\\u200d👩\\u200d👦\\u200d👦': ':family_man_woman_boy_boy:',\n",
       " '👨\\u200d👩\\u200d👧': ':family_man_woman_girl:',\n",
       " '👨\\u200d👩\\u200d👧\\u200d👦': ':family_man_woman_girl_boy:',\n",
       " '👨\\u200d👩\\u200d👧\\u200d👧': ':family_man_woman_girl_girl:',\n",
       " '👩\\u200d👦': ':family_woman_boy:',\n",
       " '👩\\u200d👦\\u200d👦': ':family_woman_boy_boy:',\n",
       " '👩\\u200d👧': ':family_woman_girl:',\n",
       " '👩\\u200d👧\\u200d👦': ':family_woman_girl_boy:',\n",
       " '👩\\u200d👧\\u200d👧': ':family_woman_girl_girl:',\n",
       " '👩\\u200d👩\\u200d👦': ':family_woman_woman_boy:',\n",
       " '👩\\u200d👩\\u200d👦\\u200d👦': ':family_woman_woman_boy_boy:',\n",
       " '👩\\u200d👩\\u200d👧': ':family_woman_woman_girl:',\n",
       " '👩\\u200d👩\\u200d👧\\u200d👦': ':family_woman_woman_girl_boy:',\n",
       " '👩\\u200d👩\\u200d👧\\u200d👧': ':family_woman_woman_girl_girl:',\n",
       " '⏩': ':fast-forward_button:',\n",
       " '⏬': ':fast_down_button:',\n",
       " '⏪': ':fast_reverse_button:',\n",
       " '⏫': ':fast_up_button:',\n",
       " '📠': ':fax_machine:',\n",
       " '😨': ':fearful_face:',\n",
       " '♀': ':female_sign:',\n",
       " '🎡': ':ferris_wheel:',\n",
       " '⛴': ':ferry:',\n",
       " '🏑': ':field_hockey:',\n",
       " '🗄': ':file_cabinet:',\n",
       " '📁': ':file_folder:',\n",
       " '🎞': ':film_frames:',\n",
       " '📽': ':film_projector:',\n",
       " '🔥': ':fire:',\n",
       " '🧯': ':fire_extinguisher:',\n",
       " '🧨': ':firecracker:',\n",
       " '🚒': ':fire_engine:',\n",
       " '🎆': ':fireworks:',\n",
       " '🌓': ':first_quarter_moon:',\n",
       " '🌛': ':first_quarter_moon_face:',\n",
       " '🐟': ':fish:',\n",
       " '🍥': ':fish_cake_with_swirl:',\n",
       " '🎣': ':fishing_pole:',\n",
       " '🕠': ':five-thirty:',\n",
       " '🕔': ':five_o’clock:',\n",
       " '⛳': ':flag_in_hole:',\n",
       " '\\U0001f9a9': ':flamingo:',\n",
       " '🔦': ':flashlight:',\n",
       " '🥿': ':flat_shoe:',\n",
       " '⚜': ':fleur-de-lis:',\n",
       " '💪': ':flexed_biceps:',\n",
       " '💪🏿': ':flexed_biceps_dark_skin_tone:',\n",
       " '💪🏻': ':flexed_biceps_light_skin_tone:',\n",
       " '💪🏾': ':flexed_biceps_medium-dark_skin_tone:',\n",
       " '💪🏼': ':flexed_biceps_medium-light_skin_tone:',\n",
       " '💪🏽': ':flexed_biceps_medium_skin_tone:',\n",
       " '💾': ':floppy_disk:',\n",
       " '🎴': ':flower_playing_cards:',\n",
       " '😳': ':flushed_face:',\n",
       " '🥏': ':flying_disc:',\n",
       " '🛸': ':flying_saucer:',\n",
       " '🌫': ':fog:',\n",
       " '🌁': ':foggy:',\n",
       " '🙏': ':folded_hands:',\n",
       " '🙏🏿': ':folded_hands_dark_skin_tone:',\n",
       " '🙏🏻': ':folded_hands_light_skin_tone:',\n",
       " '🙏🏾': ':folded_hands_medium-dark_skin_tone:',\n",
       " '🙏🏼': ':folded_hands_medium-light_skin_tone:',\n",
       " '🙏🏽': ':folded_hands_medium_skin_tone:',\n",
       " '🦶': ':foot:',\n",
       " '👣': ':footprints:',\n",
       " '🍴': ':fork_and_knife:',\n",
       " '🍽': ':fork_and_knife_with_plate:',\n",
       " '🥠': ':fortune_cookie:',\n",
       " '⛲': ':fountain:',\n",
       " '🖋': ':fountain_pen:',\n",
       " '🕟': ':four-thirty:',\n",
       " '🍀': ':four_leaf_clover:',\n",
       " '🕓': ':four_o’clock:',\n",
       " '🦊': ':fox_face:',\n",
       " '🖼': ':framed_picture:',\n",
       " '🍟': ':french_fries:',\n",
       " '🍤': ':fried_shrimp:',\n",
       " '🐸': ':frog_face:',\n",
       " '🐥': ':front-facing_baby_chick:',\n",
       " '☹': ':frowning_face:',\n",
       " '😦': ':frowning_face_with_open_mouth:',\n",
       " '⛽': ':fuel_pump:',\n",
       " '🌕': ':full_moon:',\n",
       " '🌝': ':full_moon_face:',\n",
       " '⚱': ':funeral_urn:',\n",
       " '🎲': ':game_die:',\n",
       " '\\U0001f9c4': ':garlic:',\n",
       " '⚙': ':gear:',\n",
       " '💎': ':gem_stone:',\n",
       " '🧞': ':genie:',\n",
       " '👻': ':ghost:',\n",
       " '🦒': ':giraffe:',\n",
       " '👧': ':girl:',\n",
       " '👧🏿': ':girl_dark_skin_tone:',\n",
       " '👧🏻': ':girl_light_skin_tone:',\n",
       " '👧🏾': ':girl_medium-dark_skin_tone:',\n",
       " '👧🏼': ':girl_medium-light_skin_tone:',\n",
       " '👧🏽': ':girl_medium_skin_tone:',\n",
       " '🥛': ':glass_of_milk:',\n",
       " '👓': ':glasses:',\n",
       " '🌎': ':globe_showing_Americas:',\n",
       " '🌏': ':globe_showing_Asia-Australia:',\n",
       " '🌍': ':globe_showing_Europe-Africa:',\n",
       " '🌐': ':globe_with_meridians:',\n",
       " '🧤': ':gloves:',\n",
       " '🌟': ':glowing_star:',\n",
       " '🥅': ':goal_net:',\n",
       " '🐐': ':goat:',\n",
       " '👺': ':goblin:',\n",
       " '🥽': ':goggles:',\n",
       " '🦍': ':gorilla:',\n",
       " '🎓': ':graduation_cap:',\n",
       " '🍇': ':grapes:',\n",
       " '🍏': ':green_apple:',\n",
       " '📗': ':green_book:',\n",
       " '\\U0001f7e2': ':green_circle:',\n",
       " '💚': ':green_heart:',\n",
       " '🥗': ':green_salad:',\n",
       " '\\U0001f7e9': ':green_square:',\n",
       " '😬': ':grimacing_face:',\n",
       " '😺': ':grinning_cat_face:',\n",
       " '😸': ':grinning_cat_face_with_smiling_eyes:',\n",
       " '😀': ':grinning_face:',\n",
       " '😃': ':grinning_face_with_big_eyes:',\n",
       " '😄': ':grinning_face_with_smiling_eyes:',\n",
       " '😅': ':grinning_face_with_sweat:',\n",
       " '😆': ':grinning_squinting_face:',\n",
       " '💗': ':growing_heart:',\n",
       " '💂': ':guard:',\n",
       " '💂🏿': ':guard_dark_skin_tone:',\n",
       " '💂🏻': ':guard_light_skin_tone:',\n",
       " '💂🏾': ':guard_medium-dark_skin_tone:',\n",
       " '💂🏼': ':guard_medium-light_skin_tone:',\n",
       " '💂🏽': ':guard_medium_skin_tone:',\n",
       " '\\U0001f9ae': ':guide_dog:',\n",
       " '🎸': ':guitar:',\n",
       " '🍔': ':hamburger:',\n",
       " '🔨': ':hammer:',\n",
       " '⚒': ':hammer_and_pick:',\n",
       " '🛠': ':hammer_and_wrench:',\n",
       " '🐹': ':hamster_face:',\n",
       " '🖐': ':hand_with_fingers_splayed:',\n",
       " '🖐🏿': ':hand_with_fingers_splayed_dark_skin_tone:',\n",
       " '🖐🏻': ':hand_with_fingers_splayed_light_skin_tone:',\n",
       " '🖐🏾': ':hand_with_fingers_splayed_medium-dark_skin_tone:',\n",
       " '🖐🏼': ':hand_with_fingers_splayed_medium-light_skin_tone:',\n",
       " '🖐🏽': ':hand_with_fingers_splayed_medium_skin_tone:',\n",
       " '👜': ':handbag:',\n",
       " '🤝': ':handshake:',\n",
       " '🐣': ':hatching_chick:',\n",
       " '🎧': ':headphone:',\n",
       " '🙉': ':hear-no-evil_monkey:',\n",
       " '💟': ':heart_decoration:',\n",
       " '♥': ':heart_suit:',\n",
       " '💘': ':heart_with_arrow:',\n",
       " '💝': ':heart_with_ribbon:',\n",
       " '✔': ':heavy_check_mark:',\n",
       " '➗': ':heavy_division_sign:',\n",
       " '💲': ':heavy_dollar_sign:',\n",
       " '❣': ':heavy_heart_exclamation:',\n",
       " '⭕': ':heavy_large_circle:',\n",
       " '➖': ':heavy_minus_sign:',\n",
       " '✖': ':heavy_multiplication_x:',\n",
       " '➕': ':heavy_plus_sign:',\n",
       " '🦔': ':hedgehog:',\n",
       " '🚁': ':helicopter:',\n",
       " '🌿': ':herb:',\n",
       " '🌺': ':hibiscus:',\n",
       " ...}"
      ]
     },
     "execution_count": 168,
     "metadata": {},
     "output_type": "execute_result"
    }
   ],
   "source": [
    "emoji.UNICODE_EMOJI"
   ]
  },
  {
   "cell_type": "code",
   "execution_count": 177,
   "metadata": {},
   "outputs": [],
   "source": [
    "def extract_emojis(string):\n",
    "    emoticon = \"\".join(c for c in string if c in emoji.UNICODE_EMOJI)\n",
    "    if emoticon!=\"\":\n",
    "        return emoticon\n",
    "    return None"
   ]
  },
  {
   "cell_type": "code",
   "execution_count": 194,
   "metadata": {},
   "outputs": [
    {
     "data": {
      "text/plain": [
       "'😊😳😏😁'"
      ]
     },
     "execution_count": 194,
     "metadata": {},
     "output_type": "execute_result"
    }
   ],
   "source": [
    "extract_emojis( \"😊😳😏😁\")"
   ]
  },
  {
   "cell_type": "code",
   "execution_count": 195,
   "metadata": {},
   "outputs": [],
   "source": [
    "extract_emojis('text without emojis')"
   ]
  },
  {
   "cell_type": "code",
   "execution_count": 196,
   "metadata": {},
   "outputs": [],
   "source": [
    "train['emoji']=train['text'].apply(lambda x: extract_emojis(x))"
   ]
  },
  {
   "cell_type": "code",
   "execution_count": 197,
   "metadata": {
    "scrolled": true
   },
   "outputs": [
    {
     "data": {
      "text/html": [
       "<div>\n",
       "<style scoped>\n",
       "    .dataframe tbody tr th:only-of-type {\n",
       "        vertical-align: middle;\n",
       "    }\n",
       "\n",
       "    .dataframe tbody tr th {\n",
       "        vertical-align: top;\n",
       "    }\n",
       "\n",
       "    .dataframe thead th {\n",
       "        text-align: right;\n",
       "    }\n",
       "</style>\n",
       "<table border=\"1\" class=\"dataframe\">\n",
       "  <thead>\n",
       "    <tr style=\"text-align: right;\">\n",
       "      <th></th>\n",
       "      <th>textID</th>\n",
       "      <th>text</th>\n",
       "      <th>selected_text</th>\n",
       "      <th>sentiment</th>\n",
       "      <th>url</th>\n",
       "      <th>emoji</th>\n",
       "    </tr>\n",
       "  </thead>\n",
       "  <tbody>\n",
       "  </tbody>\n",
       "</table>\n",
       "</div>"
      ],
      "text/plain": [
       "Empty DataFrame\n",
       "Columns: [textID, text, selected_text, sentiment, url, emoji]\n",
       "Index: []"
      ]
     },
     "execution_count": 197,
     "metadata": {},
     "output_type": "execute_result"
    }
   ],
   "source": [
    "train.loc[pd.notnull(train.emoji)]"
   ]
  },
  {
   "cell_type": "code",
   "execution_count": 198,
   "metadata": {},
   "outputs": [
    {
     "data": {
      "text/html": [
       "<div>\n",
       "<style scoped>\n",
       "    .dataframe tbody tr th:only-of-type {\n",
       "        vertical-align: middle;\n",
       "    }\n",
       "\n",
       "    .dataframe tbody tr th {\n",
       "        vertical-align: top;\n",
       "    }\n",
       "\n",
       "    .dataframe thead th {\n",
       "        text-align: right;\n",
       "    }\n",
       "</style>\n",
       "<table border=\"1\" class=\"dataframe\">\n",
       "  <thead>\n",
       "    <tr style=\"text-align: right;\">\n",
       "      <th></th>\n",
       "      <th>textID</th>\n",
       "      <th>text</th>\n",
       "      <th>selected_text</th>\n",
       "      <th>sentiment</th>\n",
       "      <th>url</th>\n",
       "      <th>emoji</th>\n",
       "    </tr>\n",
       "  </thead>\n",
       "  <tbody>\n",
       "    <tr>\n",
       "      <th>0</th>\n",
       "      <td>cb774db0d1</td>\n",
       "      <td>I`d have responded, if I were going</td>\n",
       "      <td>I`d have responded, if I were going</td>\n",
       "      <td>neutral</td>\n",
       "      <td>None</td>\n",
       "      <td>None</td>\n",
       "    </tr>\n",
       "    <tr>\n",
       "      <th>1</th>\n",
       "      <td>549e992a42</td>\n",
       "      <td>Sooo SAD I will miss you here in San Diego!!!</td>\n",
       "      <td>Sooo SAD</td>\n",
       "      <td>negative</td>\n",
       "      <td>None</td>\n",
       "      <td>None</td>\n",
       "    </tr>\n",
       "    <tr>\n",
       "      <th>2</th>\n",
       "      <td>088c60f138</td>\n",
       "      <td>my boss is bullying me...</td>\n",
       "      <td>bullying me</td>\n",
       "      <td>negative</td>\n",
       "      <td>None</td>\n",
       "      <td>None</td>\n",
       "    </tr>\n",
       "    <tr>\n",
       "      <th>3</th>\n",
       "      <td>9642c003ef</td>\n",
       "      <td>what interview! leave me alone</td>\n",
       "      <td>leave me alone</td>\n",
       "      <td>negative</td>\n",
       "      <td>None</td>\n",
       "      <td>None</td>\n",
       "    </tr>\n",
       "    <tr>\n",
       "      <th>4</th>\n",
       "      <td>358bd9e861</td>\n",
       "      <td>Sons of ****, why couldn`t they put them on t...</td>\n",
       "      <td>Sons of ****,</td>\n",
       "      <td>negative</td>\n",
       "      <td>None</td>\n",
       "      <td>None</td>\n",
       "    </tr>\n",
       "  </tbody>\n",
       "</table>\n",
       "</div>"
      ],
      "text/plain": [
       "       textID                                               text  \\\n",
       "0  cb774db0d1                I`d have responded, if I were going   \n",
       "1  549e992a42      Sooo SAD I will miss you here in San Diego!!!   \n",
       "2  088c60f138                          my boss is bullying me...   \n",
       "3  9642c003ef                     what interview! leave me alone   \n",
       "4  358bd9e861   Sons of ****, why couldn`t they put them on t...   \n",
       "\n",
       "                         selected_text sentiment   url emoji  \n",
       "0  I`d have responded, if I were going   neutral  None  None  \n",
       "1                             Sooo SAD  negative  None  None  \n",
       "2                          bullying me  negative  None  None  \n",
       "3                       leave me alone  negative  None  None  \n",
       "4                        Sons of ****,  negative  None  None  "
      ]
     },
     "execution_count": 198,
     "metadata": {},
     "output_type": "execute_result"
    }
   ],
   "source": [
    "train.head()"
   ]
  },
  {
   "cell_type": "markdown",
   "metadata": {},
   "source": [
    "## Text preparation"
   ]
  },
  {
   "cell_type": "markdown",
   "metadata": {},
   "source": [
    "### stopwords: words which does not add much meaning to a sentence"
   ]
  },
  {
   "cell_type": "code",
   "execution_count": 209,
   "metadata": {
    "scrolled": true
   },
   "outputs": [
    {
     "data": {
      "text/plain": [
       "{'a',\n",
       " 'about',\n",
       " 'above',\n",
       " 'after',\n",
       " 'again',\n",
       " 'against',\n",
       " 'ain',\n",
       " 'all',\n",
       " 'am',\n",
       " 'an',\n",
       " 'and',\n",
       " 'any',\n",
       " 'are',\n",
       " 'aren',\n",
       " \"aren't\",\n",
       " 'as',\n",
       " 'at',\n",
       " 'be',\n",
       " 'because',\n",
       " 'been',\n",
       " 'before',\n",
       " 'being',\n",
       " 'below',\n",
       " 'between',\n",
       " 'both',\n",
       " 'but',\n",
       " 'by',\n",
       " 'can',\n",
       " 'couldn',\n",
       " \"couldn't\",\n",
       " 'd',\n",
       " 'did',\n",
       " 'didn',\n",
       " \"didn't\",\n",
       " 'do',\n",
       " 'does',\n",
       " 'doesn',\n",
       " \"doesn't\",\n",
       " 'doing',\n",
       " 'don',\n",
       " \"don't\",\n",
       " 'down',\n",
       " 'during',\n",
       " 'each',\n",
       " 'few',\n",
       " 'for',\n",
       " 'from',\n",
       " 'further',\n",
       " 'had',\n",
       " 'hadn',\n",
       " \"hadn't\",\n",
       " 'has',\n",
       " 'hasn',\n",
       " \"hasn't\",\n",
       " 'have',\n",
       " 'haven',\n",
       " \"haven't\",\n",
       " 'having',\n",
       " 'he',\n",
       " 'her',\n",
       " 'here',\n",
       " 'hers',\n",
       " 'herself',\n",
       " 'him',\n",
       " 'himself',\n",
       " 'his',\n",
       " 'how',\n",
       " 'i',\n",
       " 'if',\n",
       " 'in',\n",
       " 'into',\n",
       " 'is',\n",
       " 'isn',\n",
       " \"isn't\",\n",
       " 'it',\n",
       " \"it's\",\n",
       " 'its',\n",
       " 'itself',\n",
       " 'just',\n",
       " 'll',\n",
       " 'm',\n",
       " 'ma',\n",
       " 'me',\n",
       " 'mightn',\n",
       " \"mightn't\",\n",
       " 'more',\n",
       " 'most',\n",
       " 'mustn',\n",
       " \"mustn't\",\n",
       " 'my',\n",
       " 'myself',\n",
       " 'needn',\n",
       " \"needn't\",\n",
       " 'no',\n",
       " 'nor',\n",
       " 'not',\n",
       " 'now',\n",
       " 'o',\n",
       " 'of',\n",
       " 'off',\n",
       " 'on',\n",
       " 'once',\n",
       " 'only',\n",
       " 'or',\n",
       " 'other',\n",
       " 'our',\n",
       " 'ours',\n",
       " 'ourselves',\n",
       " 'out',\n",
       " 'over',\n",
       " 'own',\n",
       " 're',\n",
       " 's',\n",
       " 'same',\n",
       " 'shan',\n",
       " \"shan't\",\n",
       " 'she',\n",
       " \"she's\",\n",
       " 'should',\n",
       " \"should've\",\n",
       " 'shouldn',\n",
       " \"shouldn't\",\n",
       " 'so',\n",
       " 'some',\n",
       " 'such',\n",
       " 't',\n",
       " 'than',\n",
       " 'that',\n",
       " \"that'll\",\n",
       " 'the',\n",
       " 'their',\n",
       " 'theirs',\n",
       " 'them',\n",
       " 'themselves',\n",
       " 'then',\n",
       " 'there',\n",
       " 'these',\n",
       " 'they',\n",
       " 'this',\n",
       " 'those',\n",
       " 'through',\n",
       " 'to',\n",
       " 'too',\n",
       " 'under',\n",
       " 'until',\n",
       " 'up',\n",
       " 've',\n",
       " 'very',\n",
       " 'was',\n",
       " 'wasn',\n",
       " \"wasn't\",\n",
       " 'we',\n",
       " 'were',\n",
       " 'weren',\n",
       " \"weren't\",\n",
       " 'what',\n",
       " 'when',\n",
       " 'where',\n",
       " 'which',\n",
       " 'while',\n",
       " 'who',\n",
       " 'whom',\n",
       " 'why',\n",
       " 'will',\n",
       " 'with',\n",
       " 'won',\n",
       " \"won't\",\n",
       " 'wouldn',\n",
       " \"wouldn't\",\n",
       " 'y',\n",
       " 'you',\n",
       " \"you'd\",\n",
       " \"you'll\",\n",
       " \"you're\",\n",
       " \"you've\",\n",
       " 'your',\n",
       " 'yours',\n",
       " 'yourself',\n",
       " 'yourselves'}"
      ]
     },
     "execution_count": 209,
     "metadata": {},
     "output_type": "execute_result"
    }
   ],
   "source": [
    "#nltk.download('stopwords') <- if error raises on nltk stopwords\n",
    "\n",
    "stops = set(stopwords.words('english'))\n",
    "stops"
   ]
  },
  {
   "cell_type": "markdown",
   "metadata": {},
   "source": [
    "### stem extraction"
   ]
  },
  {
   "cell_type": "code",
   "execution_count": 218,
   "metadata": {},
   "outputs": [],
   "source": [
    "stemmer = nltk.stem.SnowballStemmer('english')  \n",
    "# Porter, Lancaster, Snotball, etc."
   ]
  },
  {
   "cell_type": "code",
   "execution_count": 231,
   "metadata": {},
   "outputs": [],
   "source": [
    "def language_preprocessor(string):\n",
    "    text =  re.sub('[^a-zA-Z]', ' ', string) #replace non-english with blank\n",
    "    text = text.lower().split() #decapitalize texts\n",
    "    text = [word for word in text if not word in stops] #remove stopword\n",
    "    text = [stemmer.stem(word) for word in text]\n",
    "    return text #' '.join(text)\n",
    "    "
   ]
  },
  {
   "cell_type": "code",
   "execution_count": 232,
   "metadata": {},
   "outputs": [],
   "source": [
    "train['text processed'] = train['text'].apply(lambda x: language_preprocessor(x)) "
   ]
  },
  {
   "cell_type": "code",
   "execution_count": 233,
   "metadata": {},
   "outputs": [
    {
     "data": {
      "text/html": [
       "<div>\n",
       "<style scoped>\n",
       "    .dataframe tbody tr th:only-of-type {\n",
       "        vertical-align: middle;\n",
       "    }\n",
       "\n",
       "    .dataframe tbody tr th {\n",
       "        vertical-align: top;\n",
       "    }\n",
       "\n",
       "    .dataframe thead th {\n",
       "        text-align: right;\n",
       "    }\n",
       "</style>\n",
       "<table border=\"1\" class=\"dataframe\">\n",
       "  <thead>\n",
       "    <tr style=\"text-align: right;\">\n",
       "      <th></th>\n",
       "      <th>textID</th>\n",
       "      <th>text</th>\n",
       "      <th>selected_text</th>\n",
       "      <th>sentiment</th>\n",
       "      <th>url</th>\n",
       "      <th>emoji</th>\n",
       "      <th>text processed</th>\n",
       "    </tr>\n",
       "  </thead>\n",
       "  <tbody>\n",
       "    <tr>\n",
       "      <th>0</th>\n",
       "      <td>cb774db0d1</td>\n",
       "      <td>I`d have responded, if I were going</td>\n",
       "      <td>I`d have responded, if I were going</td>\n",
       "      <td>neutral</td>\n",
       "      <td>None</td>\n",
       "      <td>None</td>\n",
       "      <td>[respond, go]</td>\n",
       "    </tr>\n",
       "    <tr>\n",
       "      <th>1</th>\n",
       "      <td>549e992a42</td>\n",
       "      <td>Sooo SAD I will miss you here in San Diego!!!</td>\n",
       "      <td>Sooo SAD</td>\n",
       "      <td>negative</td>\n",
       "      <td>None</td>\n",
       "      <td>None</td>\n",
       "      <td>[sooo, sad, miss, san, diego]</td>\n",
       "    </tr>\n",
       "    <tr>\n",
       "      <th>2</th>\n",
       "      <td>088c60f138</td>\n",
       "      <td>my boss is bullying me...</td>\n",
       "      <td>bullying me</td>\n",
       "      <td>negative</td>\n",
       "      <td>None</td>\n",
       "      <td>None</td>\n",
       "      <td>[boss, bulli]</td>\n",
       "    </tr>\n",
       "    <tr>\n",
       "      <th>3</th>\n",
       "      <td>9642c003ef</td>\n",
       "      <td>what interview! leave me alone</td>\n",
       "      <td>leave me alone</td>\n",
       "      <td>negative</td>\n",
       "      <td>None</td>\n",
       "      <td>None</td>\n",
       "      <td>[interview, leav, alon]</td>\n",
       "    </tr>\n",
       "    <tr>\n",
       "      <th>4</th>\n",
       "      <td>358bd9e861</td>\n",
       "      <td>Sons of ****, why couldn`t they put them on t...</td>\n",
       "      <td>Sons of ****,</td>\n",
       "      <td>negative</td>\n",
       "      <td>None</td>\n",
       "      <td>None</td>\n",
       "      <td>[son, put, releas, alreadi, bought]</td>\n",
       "    </tr>\n",
       "  </tbody>\n",
       "</table>\n",
       "</div>"
      ],
      "text/plain": [
       "       textID                                               text  \\\n",
       "0  cb774db0d1                I`d have responded, if I were going   \n",
       "1  549e992a42      Sooo SAD I will miss you here in San Diego!!!   \n",
       "2  088c60f138                          my boss is bullying me...   \n",
       "3  9642c003ef                     what interview! leave me alone   \n",
       "4  358bd9e861   Sons of ****, why couldn`t they put them on t...   \n",
       "\n",
       "                         selected_text sentiment   url emoji  \\\n",
       "0  I`d have responded, if I were going   neutral  None  None   \n",
       "1                             Sooo SAD  negative  None  None   \n",
       "2                          bullying me  negative  None  None   \n",
       "3                       leave me alone  negative  None  None   \n",
       "4                        Sons of ****,  negative  None  None   \n",
       "\n",
       "                        text processed  \n",
       "0                        [respond, go]  \n",
       "1        [sooo, sad, miss, san, diego]  \n",
       "2                        [boss, bulli]  \n",
       "3              [interview, leav, alon]  \n",
       "4  [son, put, releas, alreadi, bought]  "
      ]
     },
     "execution_count": 233,
     "metadata": {},
     "output_type": "execute_result"
    }
   ],
   "source": [
    "train.head()"
   ]
  },
  {
   "cell_type": "markdown",
   "metadata": {},
   "source": [
    "# Commonly used words for each sentiment type"
   ]
  },
  {
   "cell_type": "code",
   "execution_count": 234,
   "metadata": {
    "scrolled": true
   },
   "outputs": [],
   "source": [
    "positive = train[train.sentiment=='positive']\n",
    "negative = train[train.sentiment=='negative']\n",
    "neutral = train[train.sentiment=='neutral']"
   ]
  },
  {
   "cell_type": "code",
   "execution_count": 257,
   "metadata": {},
   "outputs": [],
   "source": [
    "from collections import Counter\n",
    "\n",
    "def common_words(df, col, n):\n",
    "    counts = Counter([item for sublist in df[col] for item in sublist])\n",
    "    common_words = pd.DataFrame(counts.most_common(n))\n",
    "    common_words.columns =['Word','count']\n",
    "    return common_words\n",
    "    "
   ]
  },
  {
   "cell_type": "markdown",
   "metadata": {},
   "source": [
    "## positive"
   ]
  },
  {
   "cell_type": "code",
   "execution_count": 259,
   "metadata": {},
   "outputs": [
    {
     "data": {
      "text/html": [
       "<div>\n",
       "<style scoped>\n",
       "    .dataframe tbody tr th:only-of-type {\n",
       "        vertical-align: middle;\n",
       "    }\n",
       "\n",
       "    .dataframe tbody tr th {\n",
       "        vertical-align: top;\n",
       "    }\n",
       "\n",
       "    .dataframe thead th {\n",
       "        text-align: right;\n",
       "    }\n",
       "</style>\n",
       "<table border=\"1\" class=\"dataframe\">\n",
       "  <thead>\n",
       "    <tr style=\"text-align: right;\">\n",
       "      <th></th>\n",
       "      <th>Word</th>\n",
       "      <th>count</th>\n",
       "    </tr>\n",
       "  </thead>\n",
       "  <tbody>\n",
       "    <tr>\n",
       "      <th>0</th>\n",
       "      <td>day</td>\n",
       "      <td>1375</td>\n",
       "    </tr>\n",
       "    <tr>\n",
       "      <th>1</th>\n",
       "      <td>love</td>\n",
       "      <td>1160</td>\n",
       "    </tr>\n",
       "    <tr>\n",
       "      <th>2</th>\n",
       "      <td>good</td>\n",
       "      <td>1078</td>\n",
       "    </tr>\n",
       "    <tr>\n",
       "      <th>3</th>\n",
       "      <td>happi</td>\n",
       "      <td>870</td>\n",
       "    </tr>\n",
       "    <tr>\n",
       "      <th>4</th>\n",
       "      <td>thank</td>\n",
       "      <td>834</td>\n",
       "    </tr>\n",
       "    <tr>\n",
       "      <th>5</th>\n",
       "      <td>mother</td>\n",
       "      <td>675</td>\n",
       "    </tr>\n",
       "    <tr>\n",
       "      <th>6</th>\n",
       "      <td>go</td>\n",
       "      <td>581</td>\n",
       "    </tr>\n",
       "    <tr>\n",
       "      <th>7</th>\n",
       "      <td>hope</td>\n",
       "      <td>536</td>\n",
       "    </tr>\n",
       "    <tr>\n",
       "      <th>8</th>\n",
       "      <td>like</td>\n",
       "      <td>487</td>\n",
       "    </tr>\n",
       "    <tr>\n",
       "      <th>9</th>\n",
       "      <td>great</td>\n",
       "      <td>487</td>\n",
       "    </tr>\n",
       "  </tbody>\n",
       "</table>\n",
       "</div>"
      ],
      "text/plain": [
       "     Word  count\n",
       "0     day   1375\n",
       "1    love   1160\n",
       "2    good   1078\n",
       "3   happi    870\n",
       "4   thank    834\n",
       "5  mother    675\n",
       "6      go    581\n",
       "7    hope    536\n",
       "8    like    487\n",
       "9   great    487"
      ]
     },
     "execution_count": 259,
     "metadata": {},
     "output_type": "execute_result"
    }
   ],
   "source": [
    "common_words_positive  = common_words(positive, 'text processed', 10)\n",
    "common_words_positive"
   ]
  },
  {
   "cell_type": "code",
   "execution_count": 260,
   "metadata": {},
   "outputs": [
    {
     "data": {
      "text/plain": [
       "<matplotlib.axes._subplots.AxesSubplot at 0x7fef10538d90>"
      ]
     },
     "execution_count": 260,
     "metadata": {},
     "output_type": "execute_result"
    },
    {
     "data": {
      "image/png": "[encoded data removed]",
      "text/plain": [
       "<Figure size 432x288 with 1 Axes>"
      ]
     },
     "metadata": {
      "needs_background": "light"
     },
     "output_type": "display_data"
    }
   ],
   "source": [
    "common_words_positive.set_index('Word').sort_values(\n",
    "    by='count', ascending=True).plot(kind='barh')"
   ]
  },
  {
   "cell_type": "code",
   "execution_count": 282,
   "metadata": {},
   "outputs": [
    {
     "data": {
      "application/vnd.plotly.v1+json": {
       "config": {
        "plotlyServerURL": "https://plot.ly"
       },
       "data": [
        {
         "branchvalues": "total",
         "domain": {
          "x": [
           0,
           1
          ],
          "y": [
           0,
           1
          ]
         },
         "hovertemplate": "labels=%{label}<br>count=%{value}<br>parent=%{parent}<br>id=%{id}<extra></extra>",
         "ids": [
          "day",
          "go",
          "good",
          "great",
          "happi",
          "hope",
          "like",
          "love",
          "mother",
          "thank"
         ],
         "labels": [
          "day",
          "go",
          "good",
          "great",
          "happi",
          "hope",
          "like",
          "love",
          "mother",
          "thank"
         ],
         "name": "",
         "parents": [
          "",
          "",
          "",
          "",
          "",
          "",
          "",
          "",
          "",
          ""
         ],
         "type": "treemap",
         "values": [
          1375,
          581,
          1078,
          487,
          870,
          536,
          487,
          1160,
          675,
          834
         ]
        }
       ],
       "layout": {
        "height": 400,
        "legend": {
         "tracegroupgap": 0
        },
        "template": {
         "data": {
          "bar": [
           {
            "error_x": {
             "color": "#2a3f5f"
            },
            "error_y": {
             "color": "#2a3f5f"
            },
            "marker": {
             "line": {
              "color": "#E5ECF6",
              "width": 0.5
             }
            },
            "type": "bar"
           }
          ],
          "barpolar": [
           {
            "marker": {
             "line": {
              "color": "#E5ECF6",
              "width": 0.5
             }
            },
            "type": "barpolar"
           }
          ],
          "carpet": [
           {
            "aaxis": {
             "endlinecolor": "#2a3f5f",
             "gridcolor": "white",
             "linecolor": "white",
             "minorgridcolor": "white",
             "startlinecolor": "#2a3f5f"
            },
            "baxis": {
             "endlinecolor": "#2a3f5f",
             "gridcolor": "white",
             "linecolor": "white",
             "minorgridcolor": "white",
             "startlinecolor": "#2a3f5f"
            },
            "type": "carpet"
           }
          ],
          "choropleth": [
           {
            "colorbar": {
             "outlinewidth": 0,
             "ticks": ""
            },
            "type": "choropleth"
           }
          ],
          "contour": [
           {
            "colorbar": {
             "outlinewidth": 0,
             "ticks": ""
            },
            "colorscale": [
             [
              0,
              "#0d0887"
             ],
             [
              0.1111111111111111,
              "#46039f"
             ],
             [
              0.2222222222222222,
              "#7201a8"
             ],
             [
              0.3333333333333333,
              "#9c179e"
             ],
             [
              0.4444444444444444,
              "#bd3786"
             ],
             [
              0.5555555555555556,
              "#d8576b"
             ],
             [
              0.6666666666666666,
              "#ed7953"
             ],
             [
              0.7777777777777778,
              "#fb9f3a"
             ],
             [
              0.8888888888888888,
              "#fdca26"
             ],
             [
              1,
              "#f0f921"
             ]
            ],
            "type": "contour"
           }
          ],
          "contourcarpet": [
           {
            "colorbar": {
             "outlinewidth": 0,
             "ticks": ""
            },
            "type": "contourcarpet"
           }
          ],
          "heatmap": [
           {
            "colorbar": {
             "outlinewidth": 0,
             "ticks": ""
            },
            "colorscale": [
             [
              0,
              "#0d0887"
             ],
             [
              0.1111111111111111,
              "#46039f"
             ],
             [
              0.2222222222222222,
              "#7201a8"
             ],
             [
              0.3333333333333333,
              "#9c179e"
             ],
             [
              0.4444444444444444,
              "#bd3786"
             ],
             [
              0.5555555555555556,
              "#d8576b"
             ],
             [
              0.6666666666666666,
              "#ed7953"
             ],
             [
              0.7777777777777778,
              "#fb9f3a"
             ],
             [
              0.8888888888888888,
              "#fdca26"
             ],
             [
              1,
              "#f0f921"
             ]
            ],
            "type": "heatmap"
           }
          ],
          "heatmapgl": [
           {
            "colorbar": {
             "outlinewidth": 0,
             "ticks": ""
            },
            "colorscale": [
             [
              0,
              "#0d0887"
             ],
             [
              0.1111111111111111,
              "#46039f"
             ],
             [
              0.2222222222222222,
              "#7201a8"
             ],
             [
              0.3333333333333333,
              "#9c179e"
             ],
             [
              0.4444444444444444,
              "#bd3786"
             ],
             [
              0.5555555555555556,
              "#d8576b"
             ],
             [
              0.6666666666666666,
              "#ed7953"
             ],
             [
              0.7777777777777778,
              "#fb9f3a"
             ],
             [
              0.8888888888888888,
              "#fdca26"
             ],
             [
              1,
              "#f0f921"
             ]
            ],
            "type": "heatmapgl"
           }
          ],
          "histogram": [
           {
            "marker": {
             "colorbar": {
              "outlinewidth": 0,
              "ticks": ""
             }
            },
            "type": "histogram"
           }
          ],
          "histogram2d": [
           {
            "colorbar": {
             "outlinewidth": 0,
             "ticks": ""
            },
            "colorscale": [
             [
              0,
              "#0d0887"
             ],
             [
              0.1111111111111111,
              "#46039f"
             ],
             [
              0.2222222222222222,
              "#7201a8"
             ],
             [
              0.3333333333333333,
              "#9c179e"
             ],
             [
              0.4444444444444444,
              "#bd3786"
             ],
             [
              0.5555555555555556,
              "#d8576b"
             ],
             [
              0.6666666666666666,
              "#ed7953"
             ],
             [
              0.7777777777777778,
              "#fb9f3a"
             ],
             [
              0.8888888888888888,
              "#fdca26"
             ],
             [
              1,
              "#f0f921"
             ]
            ],
            "type": "histogram2d"
           }
          ],
          "histogram2dcontour": [
           {
            "colorbar": {
             "outlinewidth": 0,
             "ticks": ""
            },
            "colorscale": [
             [
              0,
              "#0d0887"
             ],
             [
              0.1111111111111111,
              "#46039f"
             ],
             [
              0.2222222222222222,
              "#7201a8"
             ],
             [
              0.3333333333333333,
              "#9c179e"
             ],
             [
              0.4444444444444444,
              "#bd3786"
             ],
             [
              0.5555555555555556,
              "#d8576b"
             ],
             [
              0.6666666666666666,
              "#ed7953"
             ],
             [
              0.7777777777777778,
              "#fb9f3a"
             ],
             [
              0.8888888888888888,
              "#fdca26"
             ],
             [
              1,
              "#f0f921"
             ]
            ],
            "type": "histogram2dcontour"
           }
          ],
          "mesh3d": [
           {
            "colorbar": {
             "outlinewidth": 0,
             "ticks": ""
            },
            "type": "mesh3d"
           }
          ],
          "parcoords": [
           {
            "line": {
             "colorbar": {
              "outlinewidth": 0,
              "ticks": ""
             }
            },
            "type": "parcoords"
           }
          ],
          "pie": [
           {
            "automargin": true,
            "type": "pie"
           }
          ],
          "scatter": [
           {
            "marker": {
             "colorbar": {
              "outlinewidth": 0,
              "ticks": ""
             }
            },
            "type": "scatter"
           }
          ],
          "scatter3d": [
           {
            "line": {
             "colorbar": {
              "outlinewidth": 0,
              "ticks": ""
             }
            },
            "marker": {
             "colorbar": {
              "outlinewidth": 0,
              "ticks": ""
             }
            },
            "type": "scatter3d"
           }
          ],
          "scattercarpet": [
           {
            "marker": {
             "colorbar": {
              "outlinewidth": 0,
              "ticks": ""
             }
            },
            "type": "scattercarpet"
           }
          ],
          "scattergeo": [
           {
            "marker": {
             "colorbar": {
              "outlinewidth": 0,
              "ticks": ""
             }
            },
            "type": "scattergeo"
           }
          ],
          "scattergl": [
           {
            "marker": {
             "colorbar": {
              "outlinewidth": 0,
              "ticks": ""
             }
            },
            "type": "scattergl"
           }
          ],
          "scattermapbox": [
           {
            "marker": {
             "colorbar": {
              "outlinewidth": 0,
              "ticks": ""
             }
            },
            "type": "scattermapbox"
           }
          ],
          "scatterpolar": [
           {
            "marker": {
             "colorbar": {
              "outlinewidth": 0,
              "ticks": ""
             }
            },
            "type": "scatterpolar"
           }
          ],
          "scatterpolargl": [
           {
            "marker": {
             "colorbar": {
              "outlinewidth": 0,
              "ticks": ""
             }
            },
            "type": "scatterpolargl"
           }
          ],
          "scatterternary": [
           {
            "marker": {
             "colorbar": {
              "outlinewidth": 0,
              "ticks": ""
             }
            },
            "type": "scatterternary"
           }
          ],
          "surface": [
           {
            "colorbar": {
             "outlinewidth": 0,
             "ticks": ""
            },
            "colorscale": [
             [
              0,
              "#0d0887"
             ],
             [
              0.1111111111111111,
              "#46039f"
             ],
             [
              0.2222222222222222,
              "#7201a8"
             ],
             [
              0.3333333333333333,
              "#9c179e"
             ],
             [
              0.4444444444444444,
              "#bd3786"
             ],
             [
              0.5555555555555556,
              "#d8576b"
             ],
             [
              0.6666666666666666,
              "#ed7953"
             ],
             [
              0.7777777777777778,
              "#fb9f3a"
             ],
             [
              0.8888888888888888,
              "#fdca26"
             ],
             [
              1,
              "#f0f921"
             ]
            ],
            "type": "surface"
           }
          ],
          "table": [
           {
            "cells": {
             "fill": {
              "color": "#EBF0F8"
             },
             "line": {
              "color": "white"
             }
            },
            "header": {
             "fill": {
              "color": "#C8D4E3"
             },
             "line": {
              "color": "white"
             }
            },
            "type": "table"
           }
          ]
         },
         "layout": {
          "annotationdefaults": {
           "arrowcolor": "#2a3f5f",
           "arrowhead": 0,
           "arrowwidth": 1
          },
          "coloraxis": {
           "colorbar": {
            "outlinewidth": 0,
            "ticks": ""
           }
          },
          "colorscale": {
           "diverging": [
            [
             0,
             "#8e0152"
            ],
            [
             0.1,
             "#c51b7d"
            ],
            [
             0.2,
             "#de77ae"
            ],
            [
             0.3,
             "#f1b6da"
            ],
            [
             0.4,
             "#fde0ef"
            ],
            [
             0.5,
             "#f7f7f7"
            ],
            [
             0.6,
             "#e6f5d0"
            ],
            [
             0.7,
             "#b8e186"
            ],
            [
             0.8,
             "#7fbc41"
            ],
            [
             0.9,
             "#4d9221"
            ],
            [
             1,
             "#276419"
            ]
           ],
           "sequential": [
            [
             0,
             "#0d0887"
            ],
            [
             0.1111111111111111,
             "#46039f"
            ],
            [
             0.2222222222222222,
             "#7201a8"
            ],
            [
             0.3333333333333333,
             "#9c179e"
            ],
            [
             0.4444444444444444,
             "#bd3786"
            ],
            [
             0.5555555555555556,
             "#d8576b"
            ],
            [
             0.6666666666666666,
             "#ed7953"
            ],
            [
             0.7777777777777778,
             "#fb9f3a"
            ],
            [
             0.8888888888888888,
             "#fdca26"
            ],
            [
             1,
             "#f0f921"
            ]
           ],
           "sequentialminus": [
            [
             0,
             "#0d0887"
            ],
            [
             0.1111111111111111,
             "#46039f"
            ],
            [
             0.2222222222222222,
             "#7201a8"
            ],
            [
             0.3333333333333333,
             "#9c179e"
            ],
            [
             0.4444444444444444,
             "#bd3786"
            ],
            [
             0.5555555555555556,
             "#d8576b"
            ],
            [
             0.6666666666666666,
             "#ed7953"
            ],
            [
             0.7777777777777778,
             "#fb9f3a"
            ],
            [
             0.8888888888888888,
             "#fdca26"
            ],
            [
             1,
             "#f0f921"
            ]
           ]
          },
          "colorway": [
           "#636efa",
           "#EF553B",
           "#00cc96",
           "#ab63fa",
           "#FFA15A",
           "#19d3f3",
           "#FF6692",
           "#B6E880",
           "#FF97FF",
           "#FECB52"
          ],
          "font": {
           "color": "#2a3f5f"
          },
          "geo": {
           "bgcolor": "white",
           "lakecolor": "white",
           "landcolor": "#E5ECF6",
           "showlakes": true,
           "showland": true,
           "subunitcolor": "white"
          },
          "hoverlabel": {
           "align": "left"
          },
          "hovermode": "closest",
          "mapbox": {
           "style": "light"
          },
          "paper_bgcolor": "white",
          "plot_bgcolor": "#E5ECF6",
          "polar": {
           "angularaxis": {
            "gridcolor": "white",
            "linecolor": "white",
            "ticks": ""
           },
           "bgcolor": "#E5ECF6",
           "radialaxis": {
            "gridcolor": "white",
            "linecolor": "white",
            "ticks": ""
           }
          },
          "scene": {
           "xaxis": {
            "backgroundcolor": "#E5ECF6",
            "gridcolor": "white",
            "gridwidth": 2,
            "linecolor": "white",
            "showbackground": true,
            "ticks": "",
            "zerolinecolor": "white"
           },
           "yaxis": {
            "backgroundcolor": "#E5ECF6",
            "gridcolor": "white",
            "gridwidth": 2,
            "linecolor": "white",
            "showbackground": true,
            "ticks": "",
            "zerolinecolor": "white"
           },
           "zaxis": {
            "backgroundcolor": "#E5ECF6",
            "gridcolor": "white",
            "gridwidth": 2,
            "linecolor": "white",
            "showbackground": true,
            "ticks": "",
            "zerolinecolor": "white"
           }
          },
          "shapedefaults": {
           "line": {
            "color": "#2a3f5f"
           }
          },
          "ternary": {
           "aaxis": {
            "gridcolor": "white",
            "linecolor": "white",
            "ticks": ""
           },
           "baxis": {
            "gridcolor": "white",
            "linecolor": "white",
            "ticks": ""
           },
           "bgcolor": "#E5ECF6",
           "caxis": {
            "gridcolor": "white",
            "linecolor": "white",
            "ticks": ""
           }
          },
          "title": {
           "x": 0.05
          },
          "xaxis": {
           "automargin": true,
           "gridcolor": "white",
           "linecolor": "white",
           "ticks": "",
           "title": {
            "standoff": 15
           },
           "zerolinecolor": "white",
           "zerolinewidth": 2
          },
          "yaxis": {
           "automargin": true,
           "gridcolor": "white",
           "linecolor": "white",
           "ticks": "",
           "title": {
            "standoff": 15
           },
           "zerolinecolor": "white",
           "zerolinewidth": 2
          }
         }
        },
        "title": {
         "text": "Most commonly used Positive Words"
        },
        "width": 400
       }
      },
      "text/html": [
       "<div>\n",
       "        \n",
       "        \n",
       "            <div id=\"18fa4adf-32d9-4bed-b262-ed2eeaac0b0e\" class=\"plotly-graph-div\" style=\"height:400px; width:400px;\"></div>\n",
       "            <script type=\"text/javascript\">\n",
       "                require([\"plotly\"], function(Plotly) {\n",
       "                    window.PLOTLYENV=window.PLOTLYENV || {};\n",
       "                    \n",
       "                if (document.getElementById(\"18fa4adf-32d9-4bed-b262-ed2eeaac0b0e\")) {\n",
       "                    Plotly.newPlot(\n",
       "                        '18fa4adf-32d9-4bed-b262-ed2eeaac0b0e',\n",
       "                        [{\"branchvalues\": \"total\", \"domain\": {\"x\": [0.0, 1.0], \"y\": [0.0, 1.0]}, \"hovertemplate\": \"labels=%{label}<br>count=%{value}<br>parent=%{parent}<br>id=%{id}<extra></extra>\", \"ids\": [\"day\", \"go\", \"good\", \"great\", \"happi\", \"hope\", \"like\", \"love\", \"mother\", \"thank\"], \"labels\": [\"day\", \"go\", \"good\", \"great\", \"happi\", \"hope\", \"like\", \"love\", \"mother\", \"thank\"], \"name\": \"\", \"parents\": [\"\", \"\", \"\", \"\", \"\", \"\", \"\", \"\", \"\", \"\"], \"type\": \"treemap\", \"values\": [1375, 581, 1078, 487, 870, 536, 487, 1160, 675, 834]}],\n",
       "                        {\"height\": 400, \"legend\": {\"tracegroupgap\": 0}, \"template\": {\"data\": {\"bar\": [{\"error_x\": {\"color\": \"#2a3f5f\"}, \"error_y\": {\"color\": \"#2a3f5f\"}, \"marker\": {\"line\": {\"color\": \"#E5ECF6\", \"width\": 0.5}}, \"type\": \"bar\"}], \"barpolar\": [{\"marker\": {\"line\": {\"color\": \"#E5ECF6\", \"width\": 0.5}}, \"type\": \"barpolar\"}], \"carpet\": [{\"aaxis\": {\"endlinecolor\": \"#2a3f5f\", \"gridcolor\": \"white\", \"linecolor\": \"white\", \"minorgridcolor\": \"white\", \"startlinecolor\": \"#2a3f5f\"}, \"baxis\": {\"endlinecolor\": \"#2a3f5f\", \"gridcolor\": \"white\", \"linecolor\": \"white\", \"minorgridcolor\": \"white\", \"startlinecolor\": \"#2a3f5f\"}, \"type\": \"carpet\"}], \"choropleth\": [{\"colorbar\": {\"outlinewidth\": 0, \"ticks\": \"\"}, \"type\": \"choropleth\"}], \"contour\": [{\"colorbar\": {\"outlinewidth\": 0, \"ticks\": \"\"}, \"colorscale\": [[0.0, \"#0d0887\"], [0.1111111111111111, \"#46039f\"], [0.2222222222222222, \"#7201a8\"], [0.3333333333333333, \"#9c179e\"], [0.4444444444444444, \"#bd3786\"], [0.5555555555555556, \"#d8576b\"], [0.6666666666666666, \"#ed7953\"], [0.7777777777777778, \"#fb9f3a\"], [0.8888888888888888, \"#fdca26\"], [1.0, \"#f0f921\"]], \"type\": \"contour\"}], \"contourcarpet\": [{\"colorbar\": {\"outlinewidth\": 0, \"ticks\": \"\"}, \"type\": \"contourcarpet\"}], \"heatmap\": [{\"colorbar\": {\"outlinewidth\": 0, \"ticks\": \"\"}, \"colorscale\": [[0.0, \"#0d0887\"], [0.1111111111111111, \"#46039f\"], [0.2222222222222222, \"#7201a8\"], [0.3333333333333333, \"#9c179e\"], [0.4444444444444444, \"#bd3786\"], [0.5555555555555556, \"#d8576b\"], [0.6666666666666666, \"#ed7953\"], [0.7777777777777778, \"#fb9f3a\"], [0.8888888888888888, \"#fdca26\"], [1.0, \"#f0f921\"]], \"type\": \"heatmap\"}], \"heatmapgl\": [{\"colorbar\": {\"outlinewidth\": 0, \"ticks\": \"\"}, \"colorscale\": [[0.0, \"#0d0887\"], [0.1111111111111111, \"#46039f\"], [0.2222222222222222, \"#7201a8\"], [0.3333333333333333, \"#9c179e\"], [0.4444444444444444, \"#bd3786\"], [0.5555555555555556, \"#d8576b\"], [0.6666666666666666, \"#ed7953\"], [0.7777777777777778, \"#fb9f3a\"], [0.8888888888888888, \"#fdca26\"], [1.0, \"#f0f921\"]], \"type\": \"heatmapgl\"}], \"histogram\": [{\"marker\": {\"colorbar\": {\"outlinewidth\": 0, \"ticks\": \"\"}}, \"type\": \"histogram\"}], \"histogram2d\": [{\"colorbar\": {\"outlinewidth\": 0, \"ticks\": \"\"}, \"colorscale\": [[0.0, \"#0d0887\"], [0.1111111111111111, \"#46039f\"], [0.2222222222222222, \"#7201a8\"], [0.3333333333333333, \"#9c179e\"], [0.4444444444444444, \"#bd3786\"], [0.5555555555555556, \"#d8576b\"], [0.6666666666666666, \"#ed7953\"], [0.7777777777777778, \"#fb9f3a\"], [0.8888888888888888, \"#fdca26\"], [1.0, \"#f0f921\"]], \"type\": \"histogram2d\"}], \"histogram2dcontour\": [{\"colorbar\": {\"outlinewidth\": 0, \"ticks\": \"\"}, \"colorscale\": [[0.0, \"#0d0887\"], [0.1111111111111111, \"#46039f\"], [0.2222222222222222, \"#7201a8\"], [0.3333333333333333, \"#9c179e\"], [0.4444444444444444, \"#bd3786\"], [0.5555555555555556, \"#d8576b\"], [0.6666666666666666, \"#ed7953\"], [0.7777777777777778, \"#fb9f3a\"], [0.8888888888888888, \"#fdca26\"], [1.0, \"#f0f921\"]], \"type\": \"histogram2dcontour\"}], \"mesh3d\": [{\"colorbar\": {\"outlinewidth\": 0, \"ticks\": \"\"}, \"type\": \"mesh3d\"}], \"parcoords\": [{\"line\": {\"colorbar\": {\"outlinewidth\": 0, \"ticks\": \"\"}}, \"type\": \"parcoords\"}], \"pie\": [{\"automargin\": true, \"type\": \"pie\"}], \"scatter\": [{\"marker\": {\"colorbar\": {\"outlinewidth\": 0, \"ticks\": \"\"}}, \"type\": \"scatter\"}], \"scatter3d\": [{\"line\": {\"colorbar\": {\"outlinewidth\": 0, \"ticks\": \"\"}}, \"marker\": {\"colorbar\": {\"outlinewidth\": 0, \"ticks\": \"\"}}, \"type\": \"scatter3d\"}], \"scattercarpet\": [{\"marker\": {\"colorbar\": {\"outlinewidth\": 0, \"ticks\": \"\"}}, \"type\": \"scattercarpet\"}], \"scattergeo\": [{\"marker\": {\"colorbar\": {\"outlinewidth\": 0, \"ticks\": \"\"}}, \"type\": \"scattergeo\"}], \"scattergl\": [{\"marker\": {\"colorbar\": {\"outlinewidth\": 0, \"ticks\": \"\"}}, \"type\": \"scattergl\"}], \"scattermapbox\": [{\"marker\": {\"colorbar\": {\"outlinewidth\": 0, \"ticks\": \"\"}}, \"type\": \"scattermapbox\"}], \"scatterpolar\": [{\"marker\": {\"colorbar\": {\"outlinewidth\": 0, \"ticks\": \"\"}}, \"type\": \"scatterpolar\"}], \"scatterpolargl\": [{\"marker\": {\"colorbar\": {\"outlinewidth\": 0, \"ticks\": \"\"}}, \"type\": \"scatterpolargl\"}], \"scatterternary\": [{\"marker\": {\"colorbar\": {\"outlinewidth\": 0, \"ticks\": \"\"}}, \"type\": \"scatterternary\"}], \"surface\": [{\"colorbar\": {\"outlinewidth\": 0, \"ticks\": \"\"}, \"colorscale\": [[0.0, \"#0d0887\"], [0.1111111111111111, \"#46039f\"], [0.2222222222222222, \"#7201a8\"], [0.3333333333333333, \"#9c179e\"], [0.4444444444444444, \"#bd3786\"], [0.5555555555555556, \"#d8576b\"], [0.6666666666666666, \"#ed7953\"], [0.7777777777777778, \"#fb9f3a\"], [0.8888888888888888, \"#fdca26\"], [1.0, \"#f0f921\"]], \"type\": \"surface\"}], \"table\": [{\"cells\": {\"fill\": {\"color\": \"#EBF0F8\"}, \"line\": {\"color\": \"white\"}}, \"header\": {\"fill\": {\"color\": \"#C8D4E3\"}, \"line\": {\"color\": \"white\"}}, \"type\": \"table\"}]}, \"layout\": {\"annotationdefaults\": {\"arrowcolor\": \"#2a3f5f\", \"arrowhead\": 0, \"arrowwidth\": 1}, \"coloraxis\": {\"colorbar\": {\"outlinewidth\": 0, \"ticks\": \"\"}}, \"colorscale\": {\"diverging\": [[0, \"#8e0152\"], [0.1, \"#c51b7d\"], [0.2, \"#de77ae\"], [0.3, \"#f1b6da\"], [0.4, \"#fde0ef\"], [0.5, \"#f7f7f7\"], [0.6, \"#e6f5d0\"], [0.7, \"#b8e186\"], [0.8, \"#7fbc41\"], [0.9, \"#4d9221\"], [1, \"#276419\"]], \"sequential\": [[0.0, \"#0d0887\"], [0.1111111111111111, \"#46039f\"], [0.2222222222222222, \"#7201a8\"], [0.3333333333333333, \"#9c179e\"], [0.4444444444444444, \"#bd3786\"], [0.5555555555555556, \"#d8576b\"], [0.6666666666666666, \"#ed7953\"], [0.7777777777777778, \"#fb9f3a\"], [0.8888888888888888, \"#fdca26\"], [1.0, \"#f0f921\"]], \"sequentialminus\": [[0.0, \"#0d0887\"], [0.1111111111111111, \"#46039f\"], [0.2222222222222222, \"#7201a8\"], [0.3333333333333333, \"#9c179e\"], [0.4444444444444444, \"#bd3786\"], [0.5555555555555556, \"#d8576b\"], [0.6666666666666666, \"#ed7953\"], [0.7777777777777778, \"#fb9f3a\"], [0.8888888888888888, \"#fdca26\"], [1.0, \"#f0f921\"]]}, \"colorway\": [\"#636efa\", \"#EF553B\", \"#00cc96\", \"#ab63fa\", \"#FFA15A\", \"#19d3f3\", \"#FF6692\", \"#B6E880\", \"#FF97FF\", \"#FECB52\"], \"font\": {\"color\": \"#2a3f5f\"}, \"geo\": {\"bgcolor\": \"white\", \"lakecolor\": \"white\", \"landcolor\": \"#E5ECF6\", \"showlakes\": true, \"showland\": true, \"subunitcolor\": \"white\"}, \"hoverlabel\": {\"align\": \"left\"}, \"hovermode\": \"closest\", \"mapbox\": {\"style\": \"light\"}, \"paper_bgcolor\": \"white\", \"plot_bgcolor\": \"#E5ECF6\", \"polar\": {\"angularaxis\": {\"gridcolor\": \"white\", \"linecolor\": \"white\", \"ticks\": \"\"}, \"bgcolor\": \"#E5ECF6\", \"radialaxis\": {\"gridcolor\": \"white\", \"linecolor\": \"white\", \"ticks\": \"\"}}, \"scene\": {\"xaxis\": {\"backgroundcolor\": \"#E5ECF6\", \"gridcolor\": \"white\", \"gridwidth\": 2, \"linecolor\": \"white\", \"showbackground\": true, \"ticks\": \"\", \"zerolinecolor\": \"white\"}, \"yaxis\": {\"backgroundcolor\": \"#E5ECF6\", \"gridcolor\": \"white\", \"gridwidth\": 2, \"linecolor\": \"white\", \"showbackground\": true, \"ticks\": \"\", \"zerolinecolor\": \"white\"}, \"zaxis\": {\"backgroundcolor\": \"#E5ECF6\", \"gridcolor\": \"white\", \"gridwidth\": 2, \"linecolor\": \"white\", \"showbackground\": true, \"ticks\": \"\", \"zerolinecolor\": \"white\"}}, \"shapedefaults\": {\"line\": {\"color\": \"#2a3f5f\"}}, \"ternary\": {\"aaxis\": {\"gridcolor\": \"white\", \"linecolor\": \"white\", \"ticks\": \"\"}, \"baxis\": {\"gridcolor\": \"white\", \"linecolor\": \"white\", \"ticks\": \"\"}, \"bgcolor\": \"#E5ECF6\", \"caxis\": {\"gridcolor\": \"white\", \"linecolor\": \"white\", \"ticks\": \"\"}}, \"title\": {\"x\": 0.05}, \"xaxis\": {\"automargin\": true, \"gridcolor\": \"white\", \"linecolor\": \"white\", \"ticks\": \"\", \"title\": {\"standoff\": 15}, \"zerolinecolor\": \"white\", \"zerolinewidth\": 2}, \"yaxis\": {\"automargin\": true, \"gridcolor\": \"white\", \"linecolor\": \"white\", \"ticks\": \"\", \"title\": {\"standoff\": 15}, \"zerolinecolor\": \"white\", \"zerolinewidth\": 2}}}, \"title\": {\"text\": \"Most commonly used Positive Words\"}, \"width\": 400},\n",
       "                        {\"responsive\": true}\n",
       "                    ).then(function(){\n",
       "                            \n",
       "var gd = document.getElementById('18fa4adf-32d9-4bed-b262-ed2eeaac0b0e');\n",
       "var x = new MutationObserver(function (mutations, observer) {{\n",
       "        var display = window.getComputedStyle(gd).display;\n",
       "        if (!display || display === 'none') {{\n",
       "            console.log([gd, 'removed!']);\n",
       "            Plotly.purge(gd);\n",
       "            observer.disconnect();\n",
       "        }}\n",
       "}});\n",
       "\n",
       "// Listen for the removal of the full notebook cells\n",
       "var notebookContainer = gd.closest('#notebook-container');\n",
       "if (notebookContainer) {{\n",
       "    x.observe(notebookContainer, {childList: true});\n",
       "}}\n",
       "\n",
       "// Listen for the clearing of the current output cell\n",
       "var outputEl = gd.closest('.output');\n",
       "if (outputEl) {{\n",
       "    x.observe(outputEl, {childList: true});\n",
       "}}\n",
       "\n",
       "                        })\n",
       "                };\n",
       "                });\n",
       "            </script>\n",
       "        </div>"
      ]
     },
     "metadata": {},
     "output_type": "display_data"
    }
   ],
   "source": [
    "import plotly.express as px\n",
    "\n",
    "px.treemap(common_words_positive, \n",
    "           path=['Word'], values='count',\n",
    "           title='Most commonly used Positive Words',\n",
    "          width=400, height=400)"
   ]
  },
  {
   "cell_type": "code",
   "execution_count": 278,
   "metadata": {},
   "outputs": [
    {
     "data": {
      "image/png": "[encoded data removed]",
      "text/plain": [
       "<Figure size 360x504 with 1 Axes>"
      ]
     },
     "metadata": {},
     "output_type": "display_data"
    }
   ],
   "source": [
    "import matplotlib.pyplot as plt\n",
    "#from palettable.colorbrewer.qualitative import Pastel1_7\n",
    "\n",
    "plt.figure(figsize=(5,7))\n",
    "my_circle=plt.Circle((0,0), 0.7, color='white')\n",
    "\n",
    "\n",
    "plt.pie(common_words_positive['count'], \n",
    "        labels=common_words_positive.Word) #,colors=Pastel1_7.hex_colors)\n",
    "\n",
    "p=plt.gcf()\n",
    "p.gca().add_artist(my_circle)\n",
    "plt.title('Unique Positive Words')\n",
    "plt.show()"
   ]
  },
  {
   "cell_type": "markdown",
   "metadata": {},
   "source": [
    "### visualization with word cloud"
   ]
  },
  {
   "cell_type": "code",
   "execution_count": 331,
   "metadata": {},
   "outputs": [],
   "source": [
    "common_words_positive  = common_words(positive, 'text processed', 100)"
   ]
  },
  {
   "cell_type": "code",
   "execution_count": 332,
   "metadata": {},
   "outputs": [
    {
     "data": {
      "text/plain": [
       "Word\n",
       "day         1375\n",
       "love        1160\n",
       "good        1078\n",
       "happi        870\n",
       "thank        834\n",
       "            ... \n",
       "ever         109\n",
       "start        108\n",
       "sure         107\n",
       "birthday     105\n",
       "ur           105\n",
       "Name: count, Length: 100, dtype: int64"
      ]
     },
     "execution_count": 332,
     "metadata": {},
     "output_type": "execute_result"
    }
   ],
   "source": [
    "common_words_positive.set_index(\"Word\")['count']"
   ]
  },
  {
   "cell_type": "code",
   "execution_count": 333,
   "metadata": {
    "scrolled": true
   },
   "outputs": [
    {
     "data": {
      "text/plain": [
       "{'day': 1375,\n",
       " 'love': 1160,\n",
       " 'good': 1078,\n",
       " 'happi': 870,\n",
       " 'thank': 834,\n",
       " 'mother': 675,\n",
       " 'go': 581,\n",
       " 'hope': 536,\n",
       " 'like': 487,\n",
       " 'great': 487,\n",
       " 'get': 478,\n",
       " 'http': 414,\n",
       " 'lol': 360,\n",
       " 'today': 360,\n",
       " 'u': 355,\n",
       " 'fun': 352,\n",
       " 'work': 352,\n",
       " 'time': 351,\n",
       " 'night': 347,\n",
       " 'nice': 343,\n",
       " 'wish': 325,\n",
       " 'one': 324,\n",
       " 'see': 312,\n",
       " 'realli': 310,\n",
       " 'got': 308,\n",
       " 'morn': 300,\n",
       " 'look': 298,\n",
       " 'com': 294,\n",
       " 'awesom': 286,\n",
       " 'mom': 279,\n",
       " 'new': 275,\n",
       " 'know': 266,\n",
       " 'well': 260,\n",
       " 'haha': 257,\n",
       " 'back': 255,\n",
       " 'much': 255,\n",
       " 'think': 240,\n",
       " 'make': 236,\n",
       " 'better': 222,\n",
       " 'best': 221,\n",
       " 'watch': 216,\n",
       " 'want': 215,\n",
       " 'oh': 210,\n",
       " 'would': 205,\n",
       " 'home': 204,\n",
       " 'feel': 203,\n",
       " 'im': 201,\n",
       " 'come': 198,\n",
       " 'twitter': 196,\n",
       " 'follow': 192,\n",
       " 'amaz': 186,\n",
       " 'enjoy': 183,\n",
       " 'cool': 176,\n",
       " 'friend': 174,\n",
       " 'tonight': 171,\n",
       " 'wait': 169,\n",
       " 'last': 169,\n",
       " 'tomorrow': 168,\n",
       " 'weekend': 166,\n",
       " 'say': 162,\n",
       " 'still': 157,\n",
       " 'need': 157,\n",
       " 'though': 154,\n",
       " 'week': 153,\n",
       " 'thing': 153,\n",
       " 'could': 150,\n",
       " 'everyon': 146,\n",
       " 'excit': 145,\n",
       " 'show': 143,\n",
       " 'yay': 141,\n",
       " 'guy': 141,\n",
       " 'right': 138,\n",
       " 'twitpic': 135,\n",
       " 'movi': 133,\n",
       " 'final': 132,\n",
       " 'glad': 128,\n",
       " 'way': 127,\n",
       " 'pretti': 125,\n",
       " 'star': 124,\n",
       " 'bed': 124,\n",
       " 'sleep': 121,\n",
       " 'even': 121,\n",
       " 'soon': 120,\n",
       " 'tri': 119,\n",
       " 'tweet': 117,\n",
       " 'girl': 117,\n",
       " 'hey': 116,\n",
       " 'yes': 116,\n",
       " 'yeah': 116,\n",
       " 'wow': 115,\n",
       " 'song': 115,\n",
       " 'sound': 114,\n",
       " 'take': 114,\n",
       " 'cute': 110,\n",
       " 'may': 110,\n",
       " 'ever': 109,\n",
       " 'start': 108,\n",
       " 'sure': 107,\n",
       " 'birthday': 105,\n",
       " 'ur': 105}"
      ]
     },
     "execution_count": 333,
     "metadata": {},
     "output_type": "execute_result"
    }
   ],
   "source": [
    "words = common_words_positive.set_index(\"Word\")['count'].to_dict()\n",
    "words"
   ]
  },
  {
   "cell_type": "code",
   "execution_count": 338,
   "metadata": {},
   "outputs": [
    {
     "data": {
      "image/png": "[encoded data removed]",
      "text/plain": [
       "<Figure size 432x288 with 1 Axes>"
      ]
     },
     "metadata": {
      "needs_background": "light"
     },
     "output_type": "display_data"
    }
   ],
   "source": [
    "from wordcloud import WordCloud\n",
    "wc = WordCloud(background_color='white', width=400, height=200)\n",
    "wordcloud = wc.generate_from_frequencies(words)\n",
    "plt.imshow(wordcloud)\n",
    "plt.axis('off')\n",
    "plt.show()"
   ]
  },
  {
   "cell_type": "markdown",
   "metadata": {},
   "source": [
    "## negative"
   ]
  },
  {
   "cell_type": "code",
   "execution_count": 341,
   "metadata": {},
   "outputs": [
    {
     "data": {
      "image/png": "[encoded data removed]",
      "text/plain": [
       "<Figure size 432x288 with 1 Axes>"
      ]
     },
     "metadata": {
      "needs_background": "light"
     },
     "output_type": "display_data"
    }
   ],
   "source": [
    "common_words_negative  = common_words(negative, 'text processed', 100)\n",
    "words_negative = common_words_negative.set_index(\"Word\")['count'].to_dict()\n",
    "\n",
    "wordcloud = wc.generate_from_frequencies(words_negative)\n",
    "plt.imshow(wordcloud)\n",
    "plt.axis('off')\n",
    "plt.show()"
   ]
  },
  {
   "cell_type": "code",
   "execution_count": 345,
   "metadata": {},
   "outputs": [
    {
     "data": {
      "text/plain": [
       "<matplotlib.axes._subplots.AxesSubplot at 0x7feef513e950>"
      ]
     },
     "execution_count": 345,
     "metadata": {},
     "output_type": "execute_result"
    },
    {
     "data": {
      "image/png": "[encoded data removed]",
      "text/plain": [
       "<Figure size 432x288 with 1 Axes>"
      ]
     },
     "metadata": {
      "needs_background": "light"
     },
     "output_type": "display_data"
    }
   ],
   "source": [
    "common_words_negative.set_index('Word').sort_values(\n",
    "    by='count', ascending=True).head(10).plot(kind='barh')"
   ]
  },
  {
   "cell_type": "markdown",
   "metadata": {},
   "source": [
    "# Encoding"
   ]
  },
  {
   "cell_type": "code",
   "execution_count": 355,
   "metadata": {},
   "outputs": [
    {
     "name": "stdout",
     "output_type": "stream",
     "text": [
      "<class 'pandas.core.frame.DataFrame'>\n",
      "Int64Index: 27480 entries, 0 to 27480\n",
      "Data columns (total 7 columns):\n",
      " #   Column          Non-Null Count  Dtype \n",
      "---  ------          --------------  ----- \n",
      " 0   textID          27480 non-null  object\n",
      " 1   text            27480 non-null  object\n",
      " 2   selected_text   27480 non-null  object\n",
      " 3   sentiment       27480 non-null  object\n",
      " 4   url             1221 non-null   object\n",
      " 5   emoji           0 non-null      object\n",
      " 6   text processed  27480 non-null  object\n",
      "dtypes: object(7)\n",
      "memory usage: 2.9+ MB\n"
     ]
    }
   ],
   "source": [
    "train.info()"
   ]
  },
  {
   "cell_type": "code",
   "execution_count": 358,
   "metadata": {},
   "outputs": [
    {
     "data": {
      "text/plain": [
       "array([list(['respond', 'go']),\n",
       "       list(['sooo', 'sad', 'miss', 'san', 'diego']),\n",
       "       list(['boss', 'bulli']), ...,\n",
       "       list(['yay', 'good', 'enjoy', 'break', 'probabl', 'need', 'hectic', 'weekend', 'take', 'care', 'hun', 'xxxx']),\n",
       "       list(['worth']),\n",
       "       list(['flirt', 'go', 'atg', 'smile', 'yay', 'hug'])], dtype=object)"
      ]
     },
     "execution_count": 358,
     "metadata": {},
     "output_type": "execute_result"
    }
   ],
   "source": [
    "train['text processed'].values"
   ]
  },
  {
   "cell_type": "code",
   "execution_count": 359,
   "metadata": {},
   "outputs": [],
   "source": [
    "from tensorflow.keras.preprocessing.text import Tokenizer\n",
    "\n",
    "tokenizer = Tokenizer()\n",
    "tokenizer.fit_on_texts(train['text processed'])"
   ]
  },
  {
   "cell_type": "code",
   "execution_count": 360,
   "metadata": {},
   "outputs": [
    {
     "name": "stdout",
     "output_type": "stream",
     "text": [
      "{'day': 1, 'go': 2, 'get': 3, 'good': 4, 'work': 5, 'love': 6, 'like': 7, 'http': 8, 'today': 9, 'time': 10, 'got': 11, 'one': 12, 'lol': 13, 'happi': 14, 'want': 15, 'thank': 16, 'u': 17, 'know': 18, 'miss': 19, 'back': 20, 'realli': 21, 'see': 22, 'com': 23, 'im': 24, 'think': 25, 'feel': 26, 'night': 27, 'hope': 28, 'mother': 29, 'make': 30, 'home': 31, 'new': 32, 'look': 33, 'well': 34, 'need': 35, 'still': 36, 'oh': 37, 'much': 38, 'watch': 39, 'come': 40, 'great': 41, 'wish': 42, 'last': 43, 'morn': 44, 'twitter': 45, 'haha': 46, 'sad': 47, 'week': 48, 'fun': 49, 'tomorrow': 50, 'would': 51, 'say': 52, 'bad': 53, 'tri': 54, 'wait': 55, 'sleep': 56, 'follow': 57, 'thing': 58, 'sorri': 59, 'tonight': 60, 'friend': 61, 'right': 62, 'nice': 63, 'yeah': 64, 'gonna': 65, 'though': 66, 'mom': 67, 'way': 68, 'better': 69, 'weekend': 70, 'take': 71, 'could': 72, 'bit': 73, 'even': 74, 'bed': 75, 'peopl': 76, 'hate': 77, 'show': 78, 'hour': 79, 'start': 80, 'next': 81, 'twitpic': 82, 'school': 83, 'play': 84, 'guy': 85, 'awesom': 86, 'tweet': 87, 'dont': 88, 'final': 89, 'best': 90, 'movi': 91, 'year': 92, 'girl': 93, 'x': 94, 'call': 95, 'long': 96, 'yes': 97, 'soon': 98, 'use': 99, 'ok': 100, 'littl': 101, 'hey': 102, 'never': 103, 'let': 104, 'suck': 105, 'live': 106, 'tire': 107, 'sure': 108, 'done': 109, 'everyon': 110, 'cool': 111, 'pleas': 112, 'us': 113, 'head': 114, 'may': 115, 'first': 116, 'sick': 117, 'life': 118, 'rain': 119, 'talk': 120, 'man': 121, 'cant': 122, 'anoth': 123, 'ur': 124, 'p': 125, 'phone': 126, 'wanna': 127, 'bore': 128, 'lot': 129, 'alway': 130, 'find': 131, 'eat': 132, 'keep': 133, 'alreadi': 134, 'friday': 135, 'hurt': 136, 'hous': 137, 'someth': 138, 'ever': 139, 'thought': 140, 'song': 141, 'old': 142, 'w': 143, 'enjoy': 144, 'read': 145, 'made': 146, 'yet': 147, 'readi': 148, 'leav': 149, 'yay': 150, 'guess': 151, 'pretti': 152, 'b': 153, 'went': 154, 'n': 155, 'amaz': 156, 'mayb': 157, 'mean': 158, 'check': 159, 'help': 160, 'monday': 161, 'left': 162, 'away': 163, 'wow': 164, 'listen': 165, 'big': 166, 'excit': 167, 'tell': 168, 'also': 169, 'star': 170, 'job': 171, 'omg': 172, 'give': 173, 'finish': 174, 'someon': 175, 'sound': 176, 'hard': 177, 'th': 178, 'actual': 179, 'hear': 180, 'ya': 181, 'ugh': 182, 'late': 183, 'happen': 184, 'noth': 185, 'kid': 186, 'car': 187, 'two': 188, 'ly': 189, 'babi': 190, 'said': 191, 'parti': 192, 'stop': 193, 'hot': 194, 'world': 195, 'run': 196, 'end': 197, 'saw': 198, 'put': 199, 'later': 200, 'earli': 201, 'move': 202, 'wonder': 203, 'pic': 204, 'glad': 205, 'birthday': 206, 'game': 207, 'gone': 208, 'music': 209, 'sun': 210, 'tinyurl': 211, 'yesterday': 212, 'hi': 213, 'poor': 214, 'meet': 215, 'cri': 216, 'r': 217, 'around': 218, 'weather': 219, 'stuff': 220, 'gotta': 221, 'sinc': 222, 'till': 223, 'anyth': 224, 'lost': 225, 'book': 226, 'god': 227, 'seem': 228, 'drink': 229, 'caus': 230, 'found': 231, 'hair': 232, 'that': 233, 'famili': 234, 'must': 235, 'post': 236, 'month': 237, 'stay': 238, 'aww': 239, 'almost': 240, 'might': 241, 'summer': 242, 'shop': 243, 'place': 244, 'cold': 245, 'lunch': 246, 'sunday': 247, 'coffe': 248, 'believ': 249, 'buy': 250, 'tho': 251, 'mani': 252, 'pictur': 253, 'mine': 254, 'everyth': 255, 'busi': 256, 'write': 257, 'total': 258, 'drive': 259, 'boy': 260, 'money': 261, 'far': 262, 'beauti': 263, 'chang': 264, 'least': 265, 'forward': 266, 'plan': 267, 'welcom': 268, 'anyon': 269, 'stupid': 270, 'c': 271, 'funni': 272, 'close': 273, 'cute': 274, 'class': 275, 'video': 276, 'food': 277, 'dinner': 278, 'without': 279, 'luck': 280, 'die': 281, 'sit': 282, 'mum': 283, 'turn': 284, 'probabl': 285, 'exam': 286, 'ask': 287, 'fail': 288, 'www': 289, 'clean': 290, 'free': 291, 'break': 292, 'ha': 293, 'updat': 294, 'okay': 295, 'name': 296, 'sweet': 297, 'everi': 298, 'fan': 299, 'outsid': 300, 'dad': 301, 'minut': 302, 'ill': 303, 'enough': 304, 'woke': 305, 'dog': 306, 'plurk': 307, 'dream': 308, 'didnt': 309, 'whole': 310, 'rock': 311, 'tv': 312, 'seen': 313, 'quit': 314, 'send': 315, 'photo': 316, 'sooo': 317, 'hahaha': 318, 'offic': 319, 'took': 320, 'hit': 321, 'mommi': 322, 'real': 323, 'idea': 324, 'headach': 325, 'room': 326, 'holiday': 327, 'goodnight': 328, 'kinda': 329, 'hang': 330, 'awww': 331, 'boo': 332, 'person': 333, 'ago': 334, 'rememb': 335, 'hug': 336, 'win': 337, 'aw': 338, 'problem': 339, 'vote': 340, 'part': 341, 'super': 342, 'war': 343, 'full': 344, 'els': 345, 'wake': 346, 'anymor': 347, 'trip': 348, 'walk': 349, 'kind': 350, 'came': 351, 'repli': 352, 'hell': 353, 'stuck': 354, 'saturday': 355, 'dude': 356, 'facebook': 357, 'face': 358, 'blog': 359, 'crazi': 360, 'hello': 361, 'wrong': 362, 'comput': 363, 'forgot': 364, 'brother': 365, 'anyway': 366, 'pain': 367, 'mind': 368, 'ticket': 369, 'rest': 370, 'suppos': 371, 'internet': 372, 'word': 373, 'eye': 374, 'open': 375, 'kill': 376, 'cat': 377, 'sometim': 378, 'onlin': 379, 'catch': 380, 'worri': 381, 'broke': 382, 'nite': 383, 'fm': 384, 'set': 385, 'abl': 386, 'k': 387, 'either': 388, 'studi': 389, 'learn': 390, 'alon': 391, 'iphon': 392, 'ice': 393, 'trek': 394, 'awak': 395, 'instead': 396, 'cuz': 397, 'text': 398, 'serious': 399, 'news': 400, 'spend': 401, 'site': 402, 'wont': 403, 'l': 404, 'perfect': 405, 'messag': 406, 'youtub': 407, 'pm': 408, 'blip': 409, 'half': 410, 'test': 411, 'btw': 412, 'e': 413, 'high': 414, 'email': 415, 'bank': 416, 'save': 417, 'ah': 418, 'g': 419, 'hehe': 420, 'interest': 421, 'concert': 422, 'bring': 423, 'moment': 424, 'soo': 425, 'heard': 426, 'short': 427, 'shower': 428, 'link': 429, 'ladi': 430, 'til': 431, 'wear': 432, 'dead': 433, 'st': 434, 'min': 435, 'card': 436, 'true': 437, 'heart': 438, 'lucki': 439, 'fine': 440, 'park': 441, 'breakfast': 442, 'pick': 443, 'told': 444, 'goe': 445, 'list': 446, 'care': 447, 'favorit': 448, 'lmao': 449, 'yea': 450, 'top': 451, 'figur': 452, 'reason': 453, 'beach': 454, 'hungri': 455, 'pack': 456, 'danc': 457, 'account': 458, 'bless': 459, 'fall': 460, 'episod': 461, 'bought': 462, 'soooo': 463, 'sigh': 464, 'hand': 465, 'lil': 466, 'window': 467, 'definit': 468, 'sing': 469, 'tour': 470, 'point': 471, 'j': 472, 'date': 473, 'june': 474, 'cut': 475, 'coupl': 476, 'differ': 477, 'page': 478, 'second': 479, 'pass': 480, 'goin': 481, 'fair': 482, 'train': 483, 'near': 484, 'chocol': 485, 'smile': 486, 'relax': 487, 'graduat': 488, 'share': 489, 'sign': 490, 'wed': 491, 'season': 492, 'la': 493, 'cake': 494, 'join': 495, 'forget': 496, 'laugh': 497, 'citi': 498, 'ride': 499, 'tea': 500, 'finger': 501, 'dear': 502, 'sore': 503, 'fix': 504, 'water': 505, 'past': 506, 'bout': 507, 'app': 508, 'special': 509, 'complet': 510, 'f': 511, 'uk': 512, 'sister': 513, 'gave': 514, 'fast': 515, 'cours': 516, 'revis': 517, 'less': 518, 'ipod': 519, 'visit': 520, 'red': 521, 'fb': 522, 'asleep': 523, 'flu': 524, 'cream': 525, 'unfortun': 526, 'garden': 527, 'yep': 528, 'agre': 529, 'afternoon': 530, 'v': 531, 'mad': 532, 'sunni': 533, 'nd': 534, 'load': 535, 'town': 536, 'nap': 537, 'due': 538, 'chanc': 539, 'stori': 540, 'jealous': 541, 'store': 542, 'download': 543, 'realiz': 544, 'cook': 545, 'togeth': 546, 'answer': 547, 'present': 548, 'xd': 549, 'decid': 550, 'googl': 551, 'warm': 552, 'three': 553, 'jona': 554, 'chat': 555, 'nope': 556, 'side': 557, 'surpris': 558, 'pay': 559, 'worth': 560, 'usual': 561, 'leg': 562, 'knew': 563, 'order': 564, 'ppl': 565, 'dress': 566, 'add': 567, 'comment': 568, 'congrat': 569, 'fli': 570, 'offici': 571, 'london': 572, 'bye': 573, 'ive': 574, 'album': 575, 'men': 576, 'bday': 577, 'upload': 578, 'cancel': 579, 'mood': 580, 'block': 581, 'babe': 582, 'fell': 583, 'cheer': 584, 'apart': 585, 'parent': 586, 'laptop': 587, 'broken': 588, 'spent': 589, 'pizza': 590, 'slow': 591, 'ahh': 592, 'mess': 593, 'mile': 594, 'beer': 595, 'everybodi': 596, 'myspac': 597, 'especi': 598, 'mama': 599, 'wtf': 600, 'rather': 601, 'horribl': 602, 'age': 603, 'film': 604, 'weird': 605, 'doesnt': 606, 'bet': 607, 'understand': 608, 'number': 609, 'line': 610, 'what': 611, 'son': 612, 'english': 613, 'except': 614, 'gift': 615, 'gym': 616, 'project': 617, 'ad': 618, 'black': 619, 'absolut': 620, 'mr': 621, 'celebr': 622, 'meant': 623, 'band': 624, 'depress': 625, 'becom': 626, 'drop': 627, 'remind': 628, 'hmm': 629, 'gut': 630, 'da': 631, 'bus': 632, 'upset': 633, 'appreci': 634, 'stress': 635, 'huge': 636, 'bike': 637, 'yum': 638, 'em': 639, 'lay': 640, 'camera': 641, 'easi': 642, 'question': 643, 'sat': 644, 'blue': 645, 'plus': 646, 'white': 647, 'lose': 648, 'havent': 649, 'annoy': 650, 'beat': 651, 'shot': 652, 'compani': 653, 'sunshin': 654, 'worst': 655, 'bgt': 656, 'shoe': 657, 'appar': 658, 'cousin': 659, 'disappoint': 660, 'z': 661, 'notic': 662, 'sent': 663, 'club': 664, 'bum': 665, 'earlier': 666, 'ahhh': 667, 'slept': 668, 'shirt': 669, 'shame': 670, 'count': 671, 'scare': 672, 'exact': 673, 'h': 674, 'burn': 675, 'fight': 676, 'drunk': 677, 'arriv': 678, 'wash': 679, 'note': 680, 'fact': 681, 'ohh': 682, 'dang': 683, 'fantast': 684, 'chill': 685, 'cover': 686, 'yummi': 687, 'hubbi': 688, 'light': 689, 'throat': 690, 'thx': 691, 'ate': 692, 'insid': 693, 'quick': 694, 'record': 695, 'behind': 696, 'team': 697, 'kick': 698, 'ouch': 699, 'math': 700, 'traffic': 701, 'air': 702, 'pray': 703, 'idk': 704, 'invit': 705, 'profil': 706, 'expect': 707, 'middl': 708, 'chees': 709, 'cloth': 710, 'safe': 711, 'normal': 712, 'longer': 713, 'pool': 714, 'appl': 715, 'version': 716, 'prom': 717, 'colleg': 718, 'green': 719, 'ball': 720, 'snl': 721, 'hold': 722, 'return': 723, 'cos': 724, 'stand': 725, 'lie': 726, 'design': 727, 'wine': 728, 'cross': 729, 'ran': 730, 'hun': 731, 'group': 732, 'luv': 733, 'screen': 734, 'support': 735, 'talent': 736, 'lone': 737, 'deal': 738, 'mac': 739, 'mail': 740, 'lame': 741, 'along': 742, 'cup': 743, 'possibl': 744, 'low': 745, 'twit': 746, 'case': 747, 'bag': 748, 'wors': 749, 'small': 750, 'flight': 751, 'ps': 752, 'forev': 753, 'daughter': 754, 'radio': 755, 'aint': 756, 'piss': 757, 'bodi': 758, 'doctor': 759, 'chicken': 760, 'arm': 761, 'sort': 762, 'box': 763, 'touch': 764, 'crash': 765, 'whatev': 766, 'mention': 767, 'cannot': 768, 'john': 769, 'boyfriend': 770, 'feet': 771, 'random': 772, 'stomach': 773, 'paper': 774, 'copi': 775, 'lazi': 776, 'guitar': 777, 'id': 778, 'justin': 779, 'swine': 780, 'net': 781, 'mobil': 782, 'travel': 783, 'sleepi': 784, 'hospit': 785, 'huh': 786, 'matter': 787, 'sold': 788, 'pull': 789, 'woo': 790, 'key': 791, 'moon': 792, 'wife': 793, 'yr': 794, 'fri': 795, 'ooh': 796, 'via': 797, 'none': 798, 'prob': 799, 'homework': 800, 'felt': 801, 'kiss': 802, 'quiet': 803, 'although': 804, 'edit': 805, 'gd': 806, 'web': 807, 'dm': 808, 'hrs': 809, 'church': 810, 'joke': 811, 'juli': 812, 'bbq': 813, 'wat': 814, 'power': 815, 'shall': 816, 'etc': 817, 'french': 818, 'issu': 819, 'confus': 820, 'mate': 821, 'vega': 822, 'alright': 823, 'isnt': 824, 'bro': 825, 'dvd': 826, 'singl': 827, 'chillin': 828, 'round': 829, 'pop': 830, 'swim': 831, 'hahah': 832, 'anim': 833, 'other': 834, 'met': 835, 'momma': 836, 'goodby': 837, 'manag': 838, 'tuesday': 839, 'recommend': 840, 'current': 841, 'david': 842, 'tom': 843, 'dark': 844, 'paint': 845, 'imagin': 846, 'puppi': 847, 'taken': 848, 'raini': 849, 'view': 850, 'releas': 851, 'addict': 852, 'public': 853, 'code': 854, 'cooki': 855, 'tip': 856, 'bar': 857, 'bug': 858, 'proud': 859, 'alot': 860, 'impress': 861, 'shoot': 862, 'track': 863, 'ff': 864, 'non': 865, 'sale': 866, 'servic': 867, 'fit': 868, 'yo': 869, 'convers': 870, 'event': 871, 'interview': 872, 'voic': 873, 'speak': 874, 'cd': 875, 'peac': 876, 'door': 877, 'suggest': 878, 'experi': 879, 'lesson': 880, 'starbuck': 881, 'doubl': 882, 'thursday': 883, 'state': 884, 'product': 885, 'jay': 886, 'somewher': 887, 'websit': 888, 'xoxo': 889, 'fill': 890, 'tonit': 891, 'vid': 892, 'connect': 893, 'extra': 894, 'freak': 895, 'machin': 896, 'review': 897, 'blackberri': 898, 'sky': 899, 'direct': 900, 'bird': 901, 'vacat': 902, 'twilight': 903, 'hannah': 904, 'airport': 905, 'jus': 906, 'heat': 907, 'wast': 908, 'sexi': 909, 'memori': 910, 'front': 911, 'tummi': 912, 'shes': 913, 'nobodi': 914, 'nyc': 915, 'avail': 916, 'promis': 917, 'fam': 918, 'jump': 919, 'wolverin': 920, 'jack': 921, 'bill': 922, 'gig': 923, 'drag': 924, 'includ': 925, 'street': 926, 'congratul': 927, 'rd': 928, 'yup': 929, 'miley': 930, 'young': 931, 'shut': 932, 'race': 933, 'contact': 934, 'bloodi': 935, 'fish': 936, 'deserv': 937, 'eh': 938, 'rip': 939, 'peep': 940, 'art': 941, 'law': 942, 'inde': 943, 'taylor': 944, 'bottl': 945, 'teach': 946, 'gorgeous': 947, 'egg': 948, 'exhaust': 949, 'feelin': 950, 'fever': 951, 'wit': 952, 'caught': 953, 'shift': 954, 'foot': 955, 'ignor': 956, 'cost': 957, 'fire': 958, 'american': 959, 'roll': 960, 'coz': 961, 'session': 962, 'paid': 963, 'fav': 964, 'quot': 965, 'ima': 966, 'milk': 967, 'ach': 968, 'gettin': 969, 'pc': 970, 'road': 971, 'tear': 972, 'daddi': 973, 'itun': 974, 'tast': 975, 'hmmm': 976, 'self': 977, 'children': 978, 'charg': 979, 'followfriday': 980, 'sweeti': 981, 'anytim': 982, 'mix': 983, 'topic': 984, 'expens': 985, 'favourit': 986, 'perform': 987, 'shine': 988, 'sis': 989, 'type': 990, 'proper': 991, 'scari': 992, 'flower': 993, 'hilari': 994, 'marri': 995, 'hes': 996, 'access': 997, 'dunno': 998, 'knee': 999, 'piec': 1000, 'terribl': 1001, 'glass': 1002, 'thru': 1003, 'screw': 1004, 'q': 1005, 'match': 1006, 'tan': 1007, 'joy': 1008, 'degre': 1009, 'nail': 1010, 'histori': 1011, 'act': 1012, 'ruin': 1013, 'info': 1014, 'ring': 1015, 'blood': 1016, 'jon': 1017, 'grow': 1018, 'entir': 1019, 'nick': 1020, 'practic': 1021, 'darn': 1022, 'joe': 1023, 'brain': 1024, 'bummer': 1025, 'ny': 1026, 'ton': 1027, 'space': 1028, 'mcfli': 1029, 'attempt': 1030, 'search': 1031, 'um': 1032, 'clear': 1033, 'afraid': 1034, 'bake': 1035, 'ear': 1036, 'everyday': 1037, 'thanx': 1038, 'buddi': 1039, 'futur': 1040, 'student': 1041, 'stick': 1042, 'howev': 1043, 'social': 1044, 'blast': 1045, 'delici': 1046, 'five': 1047, 'wednesday': 1048, 'death': 1049, 'bare': 1050, 'sunburn': 1051, 'smell': 1052, 'smoke': 1053, 'allow': 1054, 'troubl': 1055, 'mari': 1056, 'success': 1057, 'area': 1058, 'sooooo': 1059, 'magic': 1060, 'swear': 1061, 'delay': 1062, 'consid': 1063, 'assign': 1064, 'couldnt': 1065, 'import': 1066, 'inspir': 1067, 'there': 1068, 'toy': 1069, 'freakin': 1070, 'outta': 1071, 'sens': 1072, 'plane': 1073, 'delet': 1074, 'begin': 1075, 'mmm': 1076, 'mark': 1077, 'brought': 1078, 'er': 1079, 'instal': 1080, 'hero': 1081, 'spell': 1082, 'major': 1083, 'build': 1084, 'bc': 1085, 'de': 1086, 'surgeri': 1087, 'posit': 1088, 'nah': 1089, 'awwww': 1090, 'strang': 1091, 'everywher': 1092, 'grey': 1093, 'husband': 1094, 'silli': 1095, 'chicago': 1096, 'ben': 1097, 'fab': 1098, 'yall': 1099, 'sell': 1100, 'hill': 1101, 'articl': 1102, 'recov': 1103, 'seat': 1104, 'host': 1105, 'bother': 1106, 'britain': 1107, 'germani': 1108, 'sam': 1109, 'boss': 1110, 'uh': 1111, 'third': 1112, 'honest': 1113, 'certain': 1114, 'relat': 1115, 'schedul': 1116, 'channel': 1117, 'report': 1118, 'sugar': 1119, 'neck': 1120, 'slight': 1121, 'fml': 1122, 'fresh': 1123, 'treat': 1124, 'somebodi': 1125, 'hunt': 1126, 'plant': 1127, 'often': 1128, 'ohhh': 1129, 'chines': 1130, 'fat': 1131, 'across': 1132, 'price': 1133, 'besid': 1134, 'collect': 1135, 'pink': 1136, 'pre': 1137, 'oop': 1138, 'hahahaha': 1139, 'librari': 1140, 'burnt': 1141, 'awe': 1142, 'privat': 1143, 'women': 1144, 'continu': 1145, 'anybodi': 1146, 'latest': 1147, 'def': 1148, 'throw': 1149, 'server': 1150, 'scream': 1151, 'land': 1152, 'dri': 1153, 'ugli': 1154, 'california': 1155, 'step': 1156, 'award': 1157, 'basic': 1158, 'dnt': 1159, 'row': 1160, 'gotten': 1161, 'rule': 1162, 'cough': 1163, 'san': 1164, 'earth': 1165, 'smh': 1166, 'blah': 1167, 'laker': 1168, 'holi': 1169, 'ador': 1170, 'teacher': 1171, 'limit': 1172, 'forc': 1173, 'kitti': 1174, 'empti': 1175, 'dentist': 1176, 'realis': 1177, 'tr': 1178, 'america': 1179, 'grand': 1180, 'breath': 1181, 'floor': 1182, 'system': 1183, 'color': 1184, 'bowl': 1185, 'teeth': 1186, 'spot': 1187, 'camp': 1188, 'lake': 1189, 'spam': 1190, 'hoo': 1191, 'four': 1192, 'jam': 1193, 'canada': 1194, 'heh': 1195, 'local': 1196, 'tumblr': 1197, 'doc': 1198, 'constant': 1199, 'kno': 1200, 'tha': 1201, 'storm': 1202, 'honey': 1203, 'wave': 1204, 'crack': 1205, 'blow': 1206, 'bath': 1207, 'cupcak': 1208, 'distract': 1209, 'australia': 1210, 'style': 1211, 'straight': 1212, 'fave': 1213, 'grandma': 1214, 'wasnt': 1215, 'ms': 1216, 'greg': 1217, 'board': 1218, 'xo': 1219, 'gear': 1220, 'offer': 1221, 'doin': 1222, 'doubt': 1223, 'holli': 1224, 'macbook': 1225, 'afford': 1226, 'dr': 1227, 'result': 1228, 'sushi': 1229, 'deep': 1230, 'bear': 1231, 'woot': 1232, 'energi': 1233, 'mo': 1234, 'quiz': 1235, 'twice': 1236, 'attack': 1237, 'sydney': 1238, 'folk': 1239, 'abt': 1240, 'status': 1241, 'market': 1242, 'excel': 1243, 'feed': 1244, 'heaven': 1245, 'hangov': 1246, 'ace': 1247, 'obvious': 1248, 'network': 1249, 'fake': 1250, 'diet': 1251, 'sport': 1252, 'accept': 1253, 'dish': 1254, 'gross': 1255, 'charact': 1256, 'entertain': 1257, 'dammit': 1258, 'toe': 1259, 'uni': 1260, 'fabul': 1261, 'request': 1262, 'senior': 1263, 'studio': 1264, 'gosh': 1265, 'hav': 1266, 'driver': 1267, 'august': 1268, 'hugh': 1269, 'disney': 1270, 'involv': 1271, 'creat': 1272, 'log': 1273, 'sum': 1274, 'woman': 1275, 'perhap': 1276, 'msn': 1277, 'sux': 1278, 'chick': 1279, 'file': 1280, 'hors': 1281, 'leno': 1282, 'fault': 1283, 'desk': 1284, 'frustrat': 1285, 'situat': 1286, 'bf': 1287, 'coast': 1288, 'tweetdeck': 1289, 'soup': 1290, 'dave': 1291, 'bang': 1292, 'epic': 1293, 'choic': 1294, 'seri': 1295, 'shout': 1296, 'tini': 1297, 'tree': 1298, 'background': 1299, 'respond': 1300, 'boot': 1301, 'ili': 1302, 'ocean': 1303, 'sim': 1304, 'draw': 1305, 'origin': 1306, 'challeng': 1307, 'loud': 1308, 'wide': 1309, 'cell': 1310, 'tabl': 1311, 'mouth': 1312, 'bb': 1313, 'lack': 1314, 'attend': 1315, 'six': 1316, 'somehow': 1317, 'atm': 1318, 'michael': 1319, 'yfrog': 1320, 'action': 1321, 'philippin': 1322, 'push': 1323, 'midnight': 1324, 'flat': 1325, 'base': 1326, 'bee': 1327, 'nervous': 1328, 'kelli': 1329, 'ahhhh': 1330, 'onto': 1331, 'father': 1332, 'jk': 1333, 'slowli': 1334, 'model': 1335, 'program': 1336, 'given': 1337, 'incred': 1338, 'kate': 1339, 'tweep': 1340, 'click': 1341, 'watchin': 1342, 'girlfriend': 1343, 'south': 1344, 'dc': 1345, 'unless': 1346, 'cloudi': 1347, 'mall': 1348, 'button': 1349, 'fanci': 1350, 'alarm': 1351, 'na': 1352, 'admit': 1353, 'crave': 1354, 'tix': 1355, 'hat': 1356, 'tune': 1357, 'plenti': 1358, 'accid': 1359, 'wild': 1360, 'crush': 1361, 'brand': 1362, 'wind': 1363, 'angel': 1364, 'simpl': 1365, 'migrain': 1366, 'argh': 1367, 'essay': 1368, 'chip': 1369, 'sever': 1370, 'rice': 1371, 'kitchen': 1372, 'north': 1373, 'laundri': 1374, 'workin': 1375, 'tweeti': 1376, 'tough': 1377, 'trailer': 1378, 'uncl': 1379, 'nowher': 1380, 'bathroom': 1381, 'montana': 1382, 'winter': 1383, 'steve': 1384, 'grade': 1385, 'credit': 1386, 'size': 1387, 'flash': 1388, 'wall': 1389, 'toast': 1390, 'insan': 1391, 'skin': 1392, 'marathon': 1393, 'mrs': 1394, 'appear': 1395, 'besti': 1396, 'trend': 1397, 'print': 1398, 'mon': 1399, 'strawberri': 1400, 'pub': 1401, 'enter': 1402, 'idiot': 1403, 'theatr': 1404, 'truli': 1405, 'deck': 1406, 'spring': 1407, 'cloud': 1408, 'blame': 1409, 'demi': 1410, 'myloc': 1411, 'pet': 1412, 'countri': 1413, 'replac': 1414, 'main': 1415, 'tool': 1416, 'juic': 1417, 'lead': 1418, 'ship': 1419, 'research': 1420, 'pant': 1421, 'bunni': 1422, 'ryan': 1423, 'batteri': 1424, 'fulli': 1425, 'carri': 1426, 'pleasur': 1427, 'choos': 1428, 'co': 1429, 'havin': 1430, 'lock': 1431, 'control': 1432, 'fourth': 1433, 'aha': 1434, 'bone': 1435, 'strong': 1436, 'wee': 1437, 'theme': 1438, 'ahead': 1439, 'hd': 1440, 'activ': 1441, 'lookin': 1442, 'desktop': 1443, 'ow': 1444, 'client': 1445, 'prefer': 1446, 'tattoo': 1447, 'easier': 1448, 'detail': 1449, 'loss': 1450, 'nose': 1451, 'suit': 1452, 'timberlak': 1453, 'supernatur': 1454, 'tgif': 1455, 'drama': 1456, 'tweeter': 1457, 'discuss': 1458, 'healthi': 1459, 'convinc': 1460, 'allergi': 1461, 'evil': 1462, 'upgrad': 1463, 'score': 1464, 'comp': 1465, 'dj': 1466, 'born': 1467, 'meal': 1468, 'comfort': 1469, 'term': 1470, 'neither': 1471, 'secret': 1472, 'starv': 1473, 'grab': 1474, 'hr': 1475, 'bright': 1476, 'org': 1477, 'alex': 1478, 'roast': 1479, 'announc': 1480, 'aim': 1481, 'nut': 1482, 'basebal': 1483, 'teas': 1484, 'hook': 1485, 'pls': 1486, 'england': 1487, 'mistak': 1488, 'refus': 1489, 'chris': 1490, 'rate': 1491, 'center': 1492, 'freez': 1493, 'unit': 1494, 'advic': 1495, 'develop': 1496, 'neighbor': 1497, 'imma': 1498, 'competit': 1499, 'jb': 1500, 'oooh': 1501, 'decis': 1502, 'retweet': 1503, 'waitin': 1504, 'bottom': 1505, 'hotel': 1506, 'correct': 1507, 'reach': 1508, 'bio': 1509, 'seattl': 1510, 'alcohol': 1511, 'keyboard': 1512, 'pour': 1513, 'item': 1514, 'field': 1515, 'locat': 1516, 'massag': 1517, 'texa': 1518, 'bedtim': 1519, 'thunder': 1520, 'hella': 1521, 'handl': 1522, 'media': 1523, 'pig': 1524, 'bound': 1525, 'ii': 1526, 'killer': 1527, 'tongu': 1528, 'matt': 1529, 'launch': 1530, 'cav': 1531, 'stock': 1532, 'wii': 1533, 'noon': 1534, 'aswel': 1535, 'most': 1536, 'greet': 1537, 'depend': 1538, 'taco': 1539, 'cabl': 1540, 'anywher': 1541, 'iron': 1542, 'tag': 1543, 'fellow': 1544, 'nl': 1545, 'excus': 1546, 'femal': 1547, 'van': 1548, 'regret': 1549, 'loos': 1550, 'attent': 1551, 'christma': 1552, 'motiv': 1553, 'hurri': 1554, 'jimmi': 1555, 'climb': 1556, 'nerd': 1557, 'clock': 1558, 'million': 1559, 'sudden': 1560, 'cheap': 1561, 'yard': 1562, 'talkin': 1563, 'sandwich': 1564, 'gah': 1565, 'christian': 1566, 'bust': 1567, 'effect': 1568, 'mornin': 1569, 'station': 1570, 'scratch': 1571, 'butt': 1572, 'surviv': 1573, 'crappi': 1574, 'bff': 1575, 'avoid': 1576, 'stack': 1577, 'ten': 1578, 'butter': 1579, 'appli': 1580, 'york': 1581, 'user': 1582, 'hole': 1583, 'cnt': 1584, 'letter': 1585, 'wrap': 1586, 'burger': 1587, 'queen': 1588, 'suffer': 1589, 'bay': 1590, 'tweepl': 1591, 'respons': 1592, 'pill': 1593, 'larg': 1594, 'url': 1595, 'sir': 1596, 'ew': 1597, 'recent': 1598, 'comic': 1599, 'hide': 1600, 'awsom': 1601, 'purpl': 1602, 'form': 1603, 'popular': 1604, 'sock': 1605, 'lord': 1606, 'rush': 1607, 'prayer': 1608, 'asap': 1609, 'mountain': 1610, 'peanut': 1611, 'artist': 1612, 'closer': 1613, 'ed': 1614, 'mini': 1615, 'vet': 1616, 'wet': 1617, 'level': 1618, 'cali': 1619, 'hee': 1620, 'bite': 1621, 'nasti': 1622, 'golf': 1623, 'moro': 1624, 'rite': 1625, 'grr': 1626, 'west': 1627, 'orang': 1628, 'grrr': 1629, 'soul': 1630, 'dat': 1631, 'melt': 1632, 'member': 1633, 'realiti': 1634, 'ustr': 1635, 'mike': 1636, 'otherwis': 1637, 'confer': 1638, 'sg': 1639, 'languag': 1640, 'wisdom': 1641, 'thoma': 1642, 'how': 1643, 'miser': 1644, 'bacon': 1645, 'snap': 1646, 'mode': 1647, 'awhil': 1648, 'truck': 1649, 'gunna': 1650, 'within': 1651, 'mcdonald': 1652, 'ashley': 1653, 'dig': 1654, 'heheh': 1655, 'scene': 1656, 'custom': 1657, 'receiv': 1658, 'east': 1659, 'core': 1660, 'your': 1661, 'weight': 1662, 'footbal': 1663, 'bigger': 1664, 'ghost': 1665, 'audit': 1666, 'vs': 1667, 'rais': 1668, 'soooooo': 1669, 'hm': 1670, 'bah': 1671, 'beta': 1672, 'speech': 1673, 'gloomi': 1674, 'workout': 1675, 'grown': 1676, 'termin': 1677, 'skill': 1678, 'jame': 1679, 'error': 1680, 'booo': 1681, 'repeat': 1682, 'cuddl': 1683, 'pancak': 1684, 'goodmorn': 1685, 'poop': 1686, 'aliv': 1687, 'usa': 1688, 'pari': 1689, 'titl': 1690, 'kati': 1691, 'boston': 1692, 'hay': 1693, 'sweat': 1694, 'creativ': 1695, 'nooo': 1696, 'mission': 1697, 'nurs': 1698, 'xbox': 1699, 'classic': 1700, 'content': 1701, 'prepar': 1702, 'brown': 1703, 'extrem': 1704, 'ish': 1705, 'ep': 1706, 'ac': 1707, 'pair': 1708, 'mmmm': 1709, 'up': 1710, 'shake': 1711, 'option': 1712, 'rich': 1713, 'drug': 1714, 'difficult': 1715, 'sunburnt': 1716, 'sri': 1717, 'florida': 1718, 'duti': 1719, 'oliv': 1720, 'yrs': 1721, 'cancer': 1722, 'liter': 1723, 'sync': 1724, 'daili': 1725, 'subway': 1726, 'woohoo': 1727, 'general': 1728, 'period': 1729, 'gray': 1730, 'gb': 1731, 'advanc': 1732, 'angri': 1733, 'king': 1734, 'ground': 1735, 'squar': 1736, 'ef': 1737, 'woop': 1738, 'cruis': 1739, 'player': 1740, 'packag': 1741, 'clue': 1742, 'trust': 1743, 'island': 1744, 'imposs': 1745, 'gud': 1746, 'rose': 1747, 'wrote': 1748, 'odd': 1749, 'downtown': 1750, 'exist': 1751, 'despit': 1752, 'haircut': 1753, 'geek': 1754, 'con': 1755, 'fashion': 1756, 'jess': 1757, 'plug': 1758, 'forum': 1759, 'fear': 1760, 'crawl': 1761, 'warn': 1762, 'adam': 1763, 'dirti': 1764, 'giant': 1765, 'kept': 1766, 'sf': 1767, 'mtv': 1768, 'oven': 1769, 'tax': 1770, 'ahaha': 1771, 'noooo': 1772, 'bunch': 1773, 'bump': 1774, 'address': 1775, 'famous': 1776, 'toni': 1777, 'bella': 1778, 'role': 1779, 'bein': 1780, 'physic': 1781, 'master': 1782, 'sec': 1783, 'grad': 1784, 'rofl': 1785, 'nkotb': 1786, 'ami': 1787, 'greatest': 1788, 'andi': 1789, 'noodl': 1790, 'bk': 1791, 'sara': 1792, 'ala': 1793, 'budget': 1794, 'human': 1795, 'decent': 1796, 'drove': 1797, 'pa': 1798, 'dumb': 1799, 'danni': 1800, 'wen': 1801, 'firefox': 1802, 'salad': 1803, 'rude': 1804, 'ty': 1805, 'gossip': 1806, 'chapter': 1807, 'emot': 1808, 'bean': 1809, 'hah': 1810, 'rent': 1811, 'truth': 1812, 'gas': 1813, 'carter': 1814, 'doll': 1815, 'indian': 1816, 'rob': 1817, 'makin': 1818, 'usb': 1819, 'tech': 1820, 'unfollow': 1821, 'rubbish': 1822, 'infect': 1823, 'miami': 1824, 'intern': 1825, 'zombi': 1826, 'recip': 1827, 'child': 1828, 'whew': 1829, 'skype': 1830, 'pro': 1831, 'plz': 1832, 'coach': 1833, 'defin': 1834, 'chest': 1835, 'yah': 1836, 'josh': 1837, 'festiv': 1838, 'provid': 1839, 'someday': 1840, 'appoint': 1841, 'spider': 1842, 'sa': 1843, 'tooo': 1844, 'homi': 1845, 'octob': 1846, 'philli': 1847, 'brazil': 1848, 'heyi': 1849, 'buzz': 1850, 'rub': 1851, 'panic': 1852, 'loser': 1853, 'msg': 1854, 'deliv': 1855, 'obsess': 1856, 'roommat': 1857, 'cycl': 1858, 'shock': 1859, 'cullen': 1860, 'photographi': 1861, 'twin': 1862, 'contest': 1863, 'heck': 1864, 'fyi': 1865, 'forgiv': 1866, 'bt': 1867, 'thankyou': 1868, 'dread': 1869, 'couch': 1870, 'pound': 1871, 'ap': 1872, 'journey': 1873, 'piti': 1874, 'al': 1875, 'health': 1876, 'yer': 1877, 'root': 1878, 'lmfao': 1879, 'tooth': 1880, 'sober': 1881, 'vancouv': 1882, 'whether': 1883, 'vista': 1884, 'sway': 1885, 'atl': 1886, 'swollen': 1887, 'accord': 1888, 'organ': 1889, 'compar': 1890, 'ooo': 1891, 'massiv': 1892, 'rachel': 1893, 'jean': 1894, 'accident': 1895, 'wing': 1896, 'press': 1897, 'confirm': 1898, 'amus': 1899, 'aunt': 1900, 'charger': 1901, 'gain': 1902, 'grandpar': 1903, 'known': 1904, 'ray': 1905, 'semest': 1906, 'smart': 1907, 'fruit': 1908, 'mexican': 1909, 'banana': 1910, 'cc': 1911, 'bell': 1912, 'flick': 1913, 'ang': 1914, 'babysit': 1915, 'mow': 1916, 'pie': 1917, 'speed': 1918, 'applic': 1919, 'subject': 1920, 'beyond': 1921, 'grill': 1922, 'weed': 1923, 'lab': 1924, 'nicol': 1925, 'wise': 1926, 'boat': 1927, 'hack': 1928, 'ummm': 1929, 'potato': 1930, 'il': 1931, 'ftw': 1932, 'escap': 1933, 'te': 1934, 'groceri': 1935, 'fridg': 1936, 'golden': 1937, 'hangin': 1938, 'restaur': 1939, 'funer': 1940, 'recogn': 1941, 'whoa': 1942, 'logic': 1943, 'china': 1944, 'steak': 1945, 'thingi': 1946, 'sittin': 1947, 'switch': 1948, 'tis': 1949, 'paranoid': 1950, 'yeh': 1951, 'charm': 1952, 'spread': 1953, 'gr': 1954, 'atleast': 1955, 'scrub': 1956, 'paramor': 1957, 'photoshop': 1958, 'effort': 1959, 'metal': 1960, 'refresh': 1961, 'cinema': 1962, 'gf': 1963, 'whoop': 1964, 'portfolio': 1965, 'scienc': 1966, 'glorious': 1967, 'drank': 1968, 'thumb': 1969, 'brian': 1970, 'diego': 1971, 'swift': 1972, 'eric': 1973, 'magazin': 1974, 'zero': 1975, 'trick': 1976, 'pen': 1977, 'poo': 1978, 'knock': 1979, 'nephew': 1980, 'natur': 1981, 'remov': 1982, 'rat': 1983, 'resist': 1984, 'outfit': 1985, 'noo': 1986, 'deadlin': 1987, 'respect': 1988, 'typic': 1989, 'preview': 1990, 'hw': 1991, 'cash': 1992, 'qualiti': 1993, 'boil': 1994, 'ohhhh': 1995, 'urgh': 1996, 'cramp': 1997, 'skip': 1998, 'wore': 1999, 'woken': 2000, 'grace': 2001, 'microsoft': 2002, 'mitchel': 2003, 'ex': 2004, 'mous': 2005, 'idol': 2006, 'entri': 2007, 'everytim': 2008, 'nom': 2009, 'honor': 2010, 'dan': 2011, 'shoutout': 2012, 'lawn': 2013, 'cafe': 2014, 'produc': 2015, 'borrow': 2016, 'mm': 2017, 'boredom': 2018, 'dollar': 2019, 'featur': 2020, 'adopt': 2021, 'relationship': 2022, 'europ': 2023, 'heavi': 2024, 'twist': 2025, 'ankl': 2026, 'avatar': 2027, 'wick': 2028, 'jr': 2029, 'mask': 2030, 'hulu': 2031, 'apolog': 2032, 'shoulder': 2033, 'shini': 2034, 'process': 2035, 'comin': 2036, 'morrow': 2037, 'rehears': 2038, 'humor': 2039, 'henri': 2040, 'pj': 2041, 'digit': 2042, 'anniversari': 2043, 'mid': 2044, 'theater': 2045, 'mi': 2046, 'secur': 2047, 'glasgow': 2048, 'eww': 2049, 'aka': 2050, 'increas': 2051, 'jeff': 2052, 'yayi': 2053, 'britney': 2054, 'palm': 2055, 'anna': 2056, 'regular': 2057, 'ss': 2058, 'select': 2059, 'adventur': 2060, 'cyrus': 2061, 'auto': 2062, 'cheesecak': 2063, 'appt': 2064, 'umm': 2065, 'ja': 2066, 'older': 2067, 'younger': 2068, 'meeee': 2069, 'farm': 2070, 'yell': 2071, 'dye': 2072, 'cast': 2073, 'blond': 2074, 'engag': 2075, 'pump': 2076, 'jesus': 2077, 'deliveri': 2078, 'horror': 2079, 'chem': 2080, 'imag': 2081, 'economi': 2082, 'mummi': 2083, 'settl': 2084, 'repair': 2085, 'hip': 2086, 'biggest': 2087, 'nt': 2088, 'ga': 2089, 'brilliant': 2090, 'franc': 2091, 'tokyo': 2092, 'pillow': 2093, 'ta': 2094, 'picnic': 2095, 'html': 2096, 'knight': 2097, 'becam': 2098, 'convert': 2099, 'friendster': 2100, 'script': 2101, 'mia': 2102, 'bugger': 2103, 'heal': 2104, 'tim': 2105, 'previous': 2106, 'nooooo': 2107, 'marriag': 2108, 'nightmar': 2109, 'smooth': 2110, 'demo': 2111, 'dedic': 2112, 'publish': 2113, 'nugget': 2114, 'minus': 2115, 'adult': 2116, 'winner': 2117, 'lift': 2118, 'damnit': 2119, 'decemb': 2120, 'attract': 2121, 'chili': 2122, 'rough': 2123, 'refer': 2124, 'regard': 2125, 'creepi': 2126, 'spin': 2127, 'promot': 2128, 'toronto': 2129, 'candi': 2130, 'devic': 2131, 'austin': 2132, 'laid': 2133, 'walmart': 2134, 'mysteri': 2135, 'novemb': 2136, 'bob': 2137, 'twurl': 2138, 'nation': 2139, 'ebay': 2140, 'med': 2141, 'wk': 2142, 'villag': 2143, 'grate': 2144, 'dis': 2145, 'yahoo': 2146, 'frog': 2147, 'ng': 2148, 'lang': 2149, 'whenev': 2150, 'tmrw': 2151, 'ping': 2152, 'soccer': 2153, 'hire': 2154, 'singer': 2155, 'audio': 2156, 'ot': 2157, 'yu': 2158, 'ie': 2159, 'sub': 2160, 'ross': 2161, 'complain': 2162, 'patient': 2163, 'per': 2164, 'corner': 2165, 'tradit': 2166, 'hollyoak': 2167, 'snuggl': 2168, 'stink': 2169, 'smash': 2170, 'nothin': 2171, 'stream': 2172, 'virtual': 2173, 'standard': 2174, 'tesco': 2175, 'imac': 2176, 'lisa': 2177, 'lip': 2178, 'browser': 2179, 'polic': 2180, 'duck': 2181, 'condit': 2182, 'rise': 2183, 'italian': 2184, 'owner': 2185, 'translat': 2186, 'thnx': 2187, 'reject': 2188, 'negat': 2189, 'comedi': 2190, 'spain': 2191, 'useless': 2192, 'hahahahaha': 2193, 'pocket': 2194, 'explain': 2195, 'focus': 2196, 'sentenc': 2197, 'obama': 2198, 'teenag': 2199, 'calm': 2200, 'partner': 2201, 'princess': 2202, 'bruis': 2203, 'en': 2204, 'polit': 2205, 'ca': 2206, 'battl': 2207, 'colleagu': 2208, 'recept': 2209, 'belong': 2210, 'trade': 2211, 'lo': 2212, 'afterward': 2213, 'rabbit': 2214, 'plain': 2215, 'wireless': 2216, 'luckili': 2217, 'sayin': 2218, 'muffin': 2219, 'manchest': 2220, 'tie': 2221, 'makeup': 2222, 'junior': 2223, 'hon': 2224, 'lap': 2225, 'ay': 2226, 'hater': 2227, 'paul': 2228, 'meh': 2229, 'errand': 2230, 'ughhh': 2231, 'straighten': 2232, 'wood': 2233, 'cap': 2234, 'rubi': 2235, 'subscrib': 2236, 'belli': 2237, 'snack': 2238, 'ooooh': 2239, 'lovin': 2240, 'jami': 2241, 'spoke': 2242, 'chemistri': 2243, 'sneez': 2244, 'fool': 2245, 'aussi': 2246, 'pretend': 2247, 'sarah': 2248, 'shatter': 2249, 'indi': 2250, 'emo': 2251, 'altern': 2252, 'armi': 2253, 'thrill': 2254, 'sourc': 2255, 'nighti': 2256, 'reali': 2257, 'frm': 2258, 'instant': 2259, 'lauri': 2260, 'boom': 2261, 'chop': 2262, 'ho': 2263, 'discov': 2264, 'roomi': 2265, 'kitten': 2266, 'jst': 2267, 'drum': 2268, 'comfi': 2269, 'heel': 2270, 'exchang': 2271, 'grass': 2272, 'quarter': 2273, 'vip': 2274, 'wassup': 2275, 'pix': 2276, 'extend': 2277, 'clip': 2278, 'dh': 2279, 'tend': 2280, 'theori': 2281, 'edg': 2282, 'tyler': 2283, 'where': 2284, 'abil': 2285, 'speaker': 2286, 'blind': 2287, 'sight': 2288, 'blogspot': 2289, 'snow': 2290, 'houston': 2291, 'proof': 2292, 'lili': 2293, 'ol': 2294, 'kk': 2295, 'tomato': 2296, 'twitt': 2297, 'industri': 2298, 'singapor': 2299, 'clever': 2300, 'amount': 2301, 'ing': 2302, 'chuck': 2303, 'oper': 2304, 'predict': 2305, 'swing': 2306, 'stoke': 2307, 'pout': 2308, 'guilt': 2309, 'lauren': 2310, 'cure': 2311, 'dawn': 2312, 'andrew': 2313, 'omfg': 2314, 'trail': 2315, 'twitterland': 2316, 'bush': 2317, 'hockey': 2318, 'mental': 2319, 'ahhhhh': 2320, 'roof': 2321, 'fone': 2322, 'mic': 2323, 'sp': 2324, 'kay': 2325, 'hyper': 2326, 'steel': 2327, 'insur': 2328, 'centr': 2329, 'accomplish': 2330, 'writer': 2331, 'held': 2332, 'geez': 2333, 'nois': 2334, 'hall': 2335, 'mushroom': 2336, 'pal': 2337, 'sea': 2338, 'map': 2339, 'feedback': 2340, 'smoothi': 2341, 'drew': 2342, 'wifi': 2343, 'icon': 2344, 'monster': 2345, 'naw': 2346, 'transfer': 2347, 'weak': 2348, 'colour': 2349, 'shud': 2350, 'virus': 2351, 'needl': 2352, 'tube': 2353, 'cam': 2354, 'dalla': 2355, 'dayi': 2356, 'minor': 2357, 'jo': 2358, 'curious': 2359, 'faster': 2360, 'slower': 2361, 'fed': 2362, 'sang': 2363, 'jt': 2364, 'mp': 2365, 'starwarsday': 2366, 'grandpa': 2367, 'wah': 2368, 'prove': 2369, 'pole': 2370, 'berri': 2371, 'logo': 2372, 'fox': 2373, 'dogbook': 2374, 'septemb': 2375, 'frank': 2376, 'bleh': 2377, 'bud': 2378, 'river': 2379, 'garag': 2380, 'contract': 2381, 'heap': 2382, 'un': 2383, 'curs': 2384, 'strike': 2385, 'bubbl': 2386, 'leavin': 2387, 'el': 2388, 'ds': 2389, 'brad': 2390, 'niec': 2391, 'author': 2392, 'lower': 2393, 'particular': 2394, 'distanc': 2395, 'bleed': 2396, 'hop': 2397, 'scan': 2398, 'dam': 2399, 'disgust': 2400, 'stat': 2401, 'engin': 2402, 'wouldnt': 2403, 'solo': 2404, 'japanes': 2405, 'jerk': 2406, 'guest': 2407, 'beard': 2408, 'phil': 2409, 'noe': 2410, 'pure': 2411, 'youth': 2412, 'ginger': 2413, 'abandon': 2414, 'lovato': 2415, 'unfair': 2416, 'bea': 2417, 'pathet': 2418, 'aunti': 2419, 'xxxx': 2420, 'stage': 2421, 'zone': 2422, 'improv': 2423, 'mexico': 2424, 'lover': 2425, 'employe': 2426, 'darl': 2427, 'central': 2428, 'fold': 2429, 'educ': 2430, 'lamb': 2431, 'ridicul': 2432, 'denver': 2433, 'bahaha': 2434, 'grandmoth': 2435, 'cop': 2436, 'legal': 2437, 'danger': 2438, 'plot': 2439, 'juss': 2440, 'unhappi': 2441, 'smack': 2442, 'rp': 2443, 'flickr': 2444, 'oz': 2445, 'wud': 2446, 'emerg': 2447, 'geographi': 2448, 'phew': 2449, 'yellow': 2450, 'anti': 2451, 'threw': 2452, 'ellen': 2453, 'whoo': 2454, 'thunderstorm': 2455, 'placement': 2456, 'pit': 2457, 'india': 2458, 'bread': 2459, 'technolog': 2460, 'slip': 2461, 'commut': 2462, 'gun': 2463, 'onion': 2464, 'loung': 2465, 'spare': 2466, 'punch': 2467, 'requir': 2468, 'donat': 2469, 'michell': 2470, 'prize': 2471, 'licens': 2472, 'court': 2473, 'charli': 2474, 'thailand': 2475, 'gmail': 2476, 'ikea': 2477, 'toilet': 2478, 'sauc': 2479, 'twittervers': 2480, 'flew': 2481, 'buffalo': 2482, 'task': 2483, 'stranger': 2484, 'crowd': 2485, 'shave': 2486, 'pepper': 2487, 'soak': 2488, 'prop': 2489, 'jason': 2490, 'faith': 2491, 'dare': 2492, 'marley': 2493, 'arent': 2494, 'chase': 2495, 'prison': 2496, 'yucki': 2497, 'tx': 2498, 'bass': 2499, 'mint': 2500, 'jonathan': 2501, 'purs': 2502, 'spammer': 2503, 'lectur': 2504, 'balanc': 2505, 'chin': 2506, 'profession': 2507, 'guilti': 2508, 'aye': 2509, 'exercis': 2510, 'dun': 2511, 'nake': 2512, 'bomb': 2513, 'kirk': 2514, 'turtl': 2515, 'grape': 2516, 'thousand': 2517, 'kingdom': 2518, 'melbourn': 2519, 'curv': 2520, 'vanilla': 2521, 'georg': 2522, 'stuf': 2523, 'lung': 2524, 'costum': 2525, 'gm': 2526, 'oil': 2527, 'neighbour': 2528, 'chain': 2529, 'verizon': 2530, 'slice': 2531, 'muscl': 2532, 'gir': 2533, 'yess': 2534, 'jg': 2535, 'spanish': 2536, 'surf': 2537, 'sucki': 2538, 'gold': 2539, 'todd': 2540, 'silenc': 2541, 'unabl': 2542, 'ughhhh': 2543, 'dump': 2544, 'dy': 2545, 'eight': 2546, 'thee': 2547, 'assum': 2548, 'upon': 2549, 'harri': 2550, 'rli': 2551, 'disturb': 2552, 'wknd': 2553, 'maddi': 2554, 'eagl': 2555, 'backup': 2556, 'nine': 2557, 'stubborn': 2558, 'yeahh': 2559, 'concentr': 2560, 'shape': 2561, 'target': 2562, 'complic': 2563, 'amazon': 2564, 'soft': 2565, 'keen': 2566, 'venu': 2567, 'genius': 2568, 'diamond': 2569, 'cobra': 2570, 'societi': 2571, 'ubuntu': 2572, 'benson': 2573, 'knowledg': 2574, 'guid': 2575, 'newcastl': 2576, 'steal': 2577, 'generat': 2578, 'poster': 2579, 'mag': 2580, 'cab': 2581, 'bot': 2582, 'font': 2583, 'itch': 2584, 'hmph': 2585, 'honour': 2586, 'stole': 2587, 'wi': 2588, 'chi': 2589, 'cocktail': 2590, 'robin': 2591, 'rare': 2592, 'humid': 2593, 'tennesse': 2594, 'smith': 2595, 'pat': 2596, 'dia': 2597, 'tape': 2598, 'downstair': 2599, 'coke': 2600, 'santa': 2601, 'martin': 2602, 'password': 2603, 'exit': 2604, 'similar': 2605, 'progress': 2606, 'monkey': 2607, 'male': 2608, 'handi': 2609, 'mmmmmm': 2610, 'toward': 2611, 'java': 2612, 'purpos': 2613, 'attic': 2614, 'wana': 2615, 'taxi': 2616, 'blanket': 2617, 'podcast': 2618, 'sissi': 2619, 'bkite': 2620, 'fusion': 2621, 'wheel': 2622, 'owe': 2623, 'staff': 2624, 'struggl': 2625, 'pasta': 2626, 'sausag': 2627, 'donni': 2628, 'canuck': 2629, 'explor': 2630, 'sms': 2631, 'vacuum': 2632, 'etsi': 2633, 'max': 2634, 'crochet': 2635, 'jacket': 2636, 'function': 2637, 'amber': 2638, 'char': 2639, 'bridg': 2640, 'stalker': 2641, 'technic': 2642, 'batman': 2643, 'dougi': 2644, 'zoo': 2645, 'regist': 2646, 'ughh': 2647, 'milkshak': 2648, 'steph': 2649, 'korean': 2650, 'usernam': 2651, 'retard': 2652, 'advantag': 2653, 'programm': 2654, 'potenti': 2655, 'toooo': 2656, 'harder': 2657, 'pierc': 2658, 'burrito': 2659, 'drummer': 2660, 'sinus': 2661, 'cheesi': 2662, 'rid': 2663, 'jane': 2664, 'compliment': 2665, 'oo': 2666, 'wrk': 2667, 'las': 2668, 'crew': 2669, 'spill': 2670, 'friggin': 2671, 'sniffl': 2672, 'spoil': 2673, 'rs': 2674, 'bedroom': 2675, 'victoria': 2676, 'gum': 2677, 'twittervill': 2678, 'chrome': 2679, 'happiest': 2680, 'repres': 2681, 'nba': 2682, 'virgin': 2683, 'peter': 2684, 'lemon': 2685, 'bueno': 2686, 'fishi': 2687, 'lee': 2688, 'crab': 2689, 'allerg': 2690, 'tonsil': 2691, 'bac': 2692, 'anxieti': 2693, 'shin': 2694, 'emili': 2695, 'bs': 2696, 'alien': 2697, 'overcast': 2698, 'jackson': 2699, 'renew': 2700, 'stone': 2701, 'thai': 2702, 'grew': 2703, 'label': 2704, 'srsli': 2705, 'cultur': 2706, 'simpli': 2707, 'pork': 2708, 'photograph': 2709, 'neglect': 2710, 'remot': 2711, 'beast': 2712, 'grrrr': 2713, 'disappear': 2714, 'stitch': 2715, 'salt': 2716, 'boooo': 2717, 'comcast': 2718, 'uber': 2719, 'signal': 2720, 'lebron': 2721, 'stun': 2722, 'awwwww': 2723, 'blink': 2724, 'tommorow': 2725, 'eclips': 2726, 'tempt': 2727, 'nxt': 2728, 'stood': 2729, 'relay': 2730, 'immedi': 2731, 'anthoni': 2732, 'karma': 2733, 'clap': 2734, 'rang': 2735, 'william': 2736, 'safari': 2737, 'os': 2738, 'loop': 2739, 'dust': 2740, 'hung': 2741, 'display': 2742, 'wallet': 2743, 'dublin': 2744, 'tomorow': 2745, 'ko': 2746, 'mass': 2747, 'await': 2748, 'zealand': 2749, 'pong': 2750, 'yey': 2751, 'stolen': 2752, 'dum': 2753, 'itali': 2754, 'march': 2755, 'thur': 2756, 'soda': 2757, 'input': 2758, 'scott': 2759, 'damn': 2760, 'piano': 2761, 'pup': 2762, 'brodi': 2763, 'ass': 2764, 'giggl': 2765, 'spirit': 2766, 'surround': 2767, 'dryer': 2768, 'electr': 2769, 'equal': 2770, 'ian': 2771, 'allah': 2772, 'eddi': 2773, 'opinion': 2774, 'greas': 2775, 'methink': 2776, 'offf': 2777, 'cuppa': 2778, 'satisfi': 2779, 'postpon': 2780, 'brook': 2781, 'junk': 2782, 'filipino': 2783, 'comet': 2784, 'ohio': 2785, 'empir': 2786, 'outlook': 2787, 'cent': 2788, 'medic': 2789, 'wooo': 2790, 'career': 2791, 'tp': 2792, 'orlando': 2793, 'written': 2794, 'sink': 2795, 'whisper': 2796, 'juri': 2797, 'supris': 2798, 'opera': 2799, 'journal': 2800, 'kenni': 2801, 'doggi': 2802, 'nz': 2803, 'blister': 2804, 'apt': 2805, 'oprah': 2806, 'km': 2807, 'bbl': 2808, 'cs': 2809, 'galleri': 2810, 'jen': 2811, 'towel': 2812, 'flow': 2813, 'pug': 2814, 'pad': 2815, 'damag': 2816, 'communiti': 2817, 'happier': 2818, 'mod': 2819, 'headlin': 2820, 'trouser': 2821, 'tight': 2822, 'trash': 2823, 'forest': 2824, 'mee': 2825, 'mel': 2826, 'sew': 2827, 'flip': 2828, 'brit': 2829, 'knit': 2830, 'somewhat': 2831, 'starship': 2832, 'commerci': 2833, 'jet': 2834, 'saddest': 2835, 'wale': 2836, 'toss': 2837, 'demon': 2838, 'commenc': 2839, 'digg': 2840, 'earn': 2841, 'colorado': 2842, 'yoga': 2843, 'fest': 2844, 'wipe': 2845, 'concern': 2846, 'medicin': 2847, 'gurl': 2848, 'bride': 2849, 'metro': 2850, 'default': 2851, 'nj': 2852, 'trial': 2853, 'moi': 2854, 'yearbook': 2855, 'esp': 2856, 'spark': 2857, 'longest': 2858, 'betti': 2859, 'desper': 2860, 'din': 2861, 'document': 2862, 'will': 2863, 'twitterberri': 2864, 'sooooooo': 2865, 'goal': 2866, 'wh': 2867, 'matthew': 2868, 'mcr': 2869, 'belov': 2870, 'nest': 2871, 'separ': 2872, 'judg': 2873, 'indiana': 2874, 'ann': 2875, 'brew': 2876, 'chore': 2877, 'biz': 2878, 'edinburgh': 2879, 'halo': 2880, 'juddday': 2881, 'monitor': 2882, 'highlight': 2883, 'ft': 2884, 'pin': 2885, 'starwar': 2886, 'christ': 2887, 'awh': 2888, 'lyric': 2889, 'cuti': 2890, 'dive': 2891, 'imo': 2892, 'sooner': 2893, 'ultim': 2894, 'shuffl': 2895, 'crown': 2896, 'retir': 2897, 'dislik': 2898, 'piggi': 2899, 'cutest': 2900, 'korea': 2901, 'contribut': 2902, 'riot': 2903, 'blew': 2904, 'dip': 2905, 'bebo': 2906, 'temp': 2907, 'mandi': 2908, 'bat': 2909, 'suppli': 2910, 'pride': 2911, 'ack': 2912, 'coat': 2913, 'hub': 2914, 'hoe': 2915, 'univers': 2916, 'jenni': 2917, 'tampa': 2918, 'suspect': 2919, 'windi': 2920, 'academi': 2921, 'legit': 2922, 'reschedul': 2923, 'flood': 2924, 'mb': 2925, 'german': 2926, 'sweden': 2927, 'checkin': 2928, 'assembl': 2929, 'valley': 2930, 'asian': 2931, 'wink': 2932, 'mango': 2933, 'michigan': 2934, 'brunch': 2935, 'biolog': 2936, 'whoever': 2937, 'kc': 2938, 'hardest': 2939, 'dork': 2940, 'convo': 2941, 'espresso': 2942, 'wks': 2943, 'debat': 2944, 'wendi': 2945, 'econom': 2946, 'transport': 2947, 'pot': 2948, 'diff': 2949, 'foreign': 2950, 'allen': 2951, 'claim': 2952, 'chilli': 2953, 'puke': 2954, 'solid': 2955, 'perth': 2956, 'papa': 2957, 'dk': 2958, 'vibe': 2959, 'bull': 2960, 'laura': 2961, 'bookstor': 2962, 'expert': 2963, 'cooler': 2964, 'reckon': 2965, 'thus': 2966, 'dragon': 2967, 'hott': 2968, 'cowork': 2969, 'easili': 2970, 'missin': 2971, 'snore': 2972, 'bbi': 2973, 'spray': 2974, 'webcam': 2975, 'cooker': 2976, 'offlin': 2977, 'iv': 2978, 'pineappl': 2979, 'inspect': 2980, 'offend': 2981, 'ph': 2982, 'reinstal': 2983, 'bakeri': 2984, 'nerv': 2985, 'failur': 2986, 'investig': 2987, 'soap': 2988, 'actress': 2989, 'brief': 2990, 'nathan': 2991, 'wack': 2992, 'spock': 2993, 'op': 2994, 'invent': 2995, 'inner': 2996, 'rc': 2997, 'karaok': 2998, 'blend': 2999, 'submit': 3000, 'combo': 3001, 'index': 3002, 'forgotten': 3003, 'inbox': 3004, 'aah': 3005, 'gna': 3006, 'wb': 3007, 'celeb': 3008, 'selfish': 3009, 'wif': 3010, 'solv': 3011, 'hai': 3012, 'mothersday': 3013, 'flavor': 3014, 'lit': 3015, 'di': 3016, 'goodi': 3017, 'hol': 3018, 'headin': 3019, 'mushi': 3020, 'fr': 3021, 'buri': 3022, 'kewl': 3023, 'hollywood': 3024, 'kim': 3025, 'shoulda': 3026, 'pattern': 3027, 'granni': 3028, 'strep': 3029, 'bash': 3030, 'richard': 3031, 'loveee': 3032, 'medium': 3033, 'hahahah': 3034, 'cartoon': 3035, 'twitterif': 3036, 'poet': 3037, 'premier': 3038, 'gran': 3039, 'nativ': 3040, 'chair': 3041, 'common': 3042, 'envi': 3043, 'omj': 3044, 'wander': 3045, 'tank': 3046, 'abit': 3047, 'cheek': 3048, 'dee': 3049, 'thinkin': 3050, 'coupon': 3051, 'circus': 3052, 'cinnamon': 3053, 'sob': 3054, 'guinea': 3055, 'grumbl': 3056, 'dew': 3057, 'wrist': 3058, 'section': 3059, 'risk': 3060, 'gona': 3061, 'plate': 3062, 'lbs': 3063, 'prejudic': 3064, 'nan': 3065, 'mite': 3066, 'bak': 3067, 'smiley': 3068, 'shade': 3069, 'peer': 3070, 'communic': 3071, 'grader': 3072, 'gt': 3073, 'sack': 3074, 'sorta': 3075, 'bookmark': 3076, 'pressur': 3077, 'leader': 3078, 'devil': 3079, 'planet': 3080, 'tht': 3081, 'creek': 3082, 'fi': 3083, 'spongebob': 3084, 'rove': 3085, 'chai': 3086, 'sowwi': 3087, 'alic': 3088, 'owl': 3089, 'notebook': 3090, 'chariti': 3091, 'skint': 3092, 'johnni': 3093, 'dell': 3094, 'wive': 3095, 'az': 3096, 'joint': 3097, 'flag': 3098, 'vegetarian': 3099, 'twpp': 3100, 'achiev': 3101, 'cherri': 3102, 'pee': 3103, 'frame': 3104, 'neil': 3105, 'fo': 3106, 'molli': 3107, 'curl': 3108, 'cooper': 3109, 'serv': 3110, 'discount': 3111, 'gate': 3112, 'hiya': 3113, 'utter': 3114, 'hq': 3115, 'relaxin': 3116, 'advert': 3117, 'softwar': 3118, 'expo': 3119, 'presid': 3120, 'hayley': 3121, 'luca': 3122, 'nvm': 3123, 'brooklyn': 3124, 'listenin': 3125, 'takin': 3126, 'linux': 3127, 'thread': 3128, 'cub': 3129, 'thirti': 3130, 'barcelona': 3131, 'ciara': 3132, 'munch': 3133, 'erin': 3134, 'warp': 3135, 'txt': 3136, 'dmv': 3137, 'solut': 3138, 'sting': 3139, 'mirror': 3140, 'joey': 3141, 'rockin': 3142, 'selena': 3143, 'cleaner': 3144, 'wth': 3145, 'affect': 3146, 'aight': 3147, 'muah': 3148, 'fortun': 3149, 'se': 3150, 'mikey': 3151, 'dem': 3152, 'financi': 3153, 'havnt': 3154, 'archi': 3155, 'propos': 3156, 'veronica': 3157, 'inform': 3158, 'creep': 3159, 'upcom': 3160, 'therapi': 3161, 'gon': 3162, 'poke': 3163, 'qld': 3164, 'luke': 3165, 'playin': 3166, 'led': 3167, 'printer': 3168, 'citizen': 3169, 'reveng': 3170, 'login': 3171, 'ch': 3172, 'holla': 3173, 'champion': 3174, 'bbc': 3175, 'cheat': 3176, 'bleach': 3177, 'devast': 3178, 'stair': 3179, 'bing': 3180, 'rant': 3181, 'den': 3182, 'sonni': 3183, 'freedom': 3184, 'hardcor': 3185, 'tryin': 3186, 'soulja': 3187, 'punk': 3188, 'thick': 3189, 'familiar': 3190, 'kevin': 3191, 'coolest': 3192, 'suspend': 3193, 'domain': 3194, 'tbh': 3195, 'eve': 3196, 'sh': 3197, 'dizzi': 3198, 'grin': 3199, 'wut': 3200, 'uhh': 3201, 'neat': 3202, 'slave': 3203, 'parad': 3204, 'data': 3205, 'databas': 3206, 'capit': 3207, 'va': 3208, 'defo': 3209, 'somethin': 3210, 'tisdal': 3211, 'expir': 3212, 'purchas': 3213, 'pamper': 3214, 'shouldnt': 3215, 'gnite': 3216, 'daisi': 3217, 'graphic': 3218, 'stretch': 3219, 'ne': 3220, 'ness': 3221, 'yeahhh': 3222, 'veggi': 3223, 'semi': 3224, 'murder': 3225, 'davi': 3226, 'modern': 3227, 'cheaper': 3228, 'nintendo': 3229, 'mc': 3230, 'sprain': 3231, 'homeless': 3232, 'hmmmm': 3233, 'poppin': 3234, 'bradi': 3235, 'ali': 3236, 'amo': 3237, 'command': 3238, 'birmingham': 3239, 'zac': 3240, 'edward': 3241, 'goood': 3242, 'gasp': 3243, 'thrown': 3244, 'disneyland': 3245, 'pedicur': 3246, 'hp': 3247, 'milan': 3248, 'hve': 3249, 'flop': 3250, 'natali': 3251, 'tooooo': 3252, 'tryna': 3253, 'casa': 3254, 'jordan': 3255, 'dd': 3256, 'liverpool': 3257, 'perez': 3258, 'hood': 3259, 'salari': 3260, 'hectic': 3261, 'lolz': 3262, 'averag': 3263, 'duh': 3264, 'dual': 3265, 'specif': 3266, 'potter': 3267, 'bonus': 3268, 'wreck': 3269, 'clair': 3270, 'lactos': 3271, 'maria': 3272, 'anxious': 3273, 'curri': 3274, 'furnitur': 3275, 'butterfli': 3276, 'sitter': 3277, 'goos': 3278, 'endless': 3279, 'meow': 3280, 'donut': 3281, 'cach': 3282, 'assist': 3283, 'robert': 3284, 'indoor': 3285, 'morgan': 3286, 'jake': 3287, 'sw': 3288, 'drinkin': 3289, 'playoff': 3290, 'gari': 3291, 'jim': 3292, 'ct': 3293, 'hooray': 3294, 'cryin': 3295, 'todayi': 3296, 'rout': 3297, 'rio': 3298, 'explod': 3299, 'wire': 3300, 'forth': 3301, 'git': 3302, 'sweati': 3303, 'overnight': 3304, 'banquet': 3305, 'split': 3306, 'panda': 3307, 'infam': 3308, 'automat': 3309, 'embarrass': 3310, 'python': 3311, 'favor': 3312, 'loll': 3313, 'meee': 3314, 'gaga': 3315, 'leak': 3316, 'brb': 3317, 'farewel': 3318, 'rosi': 3319, 'soooooooo': 3320, 'concept': 3321, 'sin': 3322, 'tiger': 3323, 'bow': 3324, 'squirrel': 3325, 'reaction': 3326, 'ram': 3327, 'gh': 3328, 'ranger': 3329, 'nashvill': 3330, 'romanc': 3331, 'torn': 3332, 'photoshoot': 3333, 'carpet': 3334, 'prolli': 3335, 'lambert': 3336, 'crime': 3337, 'reward': 3338, 'pilot': 3339, 'wax': 3340, 'modem': 3341, 'tweetup': 3342, 'es': 3343, 'woulda': 3344, 'whilst': 3345, 'sneak': 3346, 'prioriti': 3347, 'harm': 3348, 'neighborhood': 3349, 'ftsk': 3350, 'behav': 3351, 'missi': 3352, 'indulg': 3353, 'msgs': 3354, 'rb': 3355, 'wango': 3356, 'tango': 3357, 'graviti': 3358, 'daniel': 3359, 'snake': 3360, 'rug': 3361, 'urg': 3362, 'reader': 3363, 'devon': 3364, 'lj': 3365, 'jersey': 3366, 'transform': 3367, 'android': 3368, 'tierd': 3369, 'popul': 3370, 'mozart': 3371, 'express': 3372, 'numb': 3373, 'ffs': 3374, 'tshirt': 3375, 'skool': 3376, 'mariah': 3377, 'crisi': 3378, 'slap': 3379, 'simpson': 3380, 'relief': 3381, 'worker': 3382, 'unemploy': 3383, 'lemm': 3384, 'flyer': 3385, 'carl': 3386, 'ban': 3387, 'rockstar': 3388, 'hk': 3389, 'nevermind': 3390, 'approach': 3391, 'ci': 3392, 'jackman': 3393, 'brace': 3394, 'craig': 3395, 'grumpi': 3396, 'invis': 3397, 'lightn': 3398, 'refund': 3399, 'elev': 3400, 'cont': 3401, 'chile': 3402, 'precious': 3403, 'admir': 3404, 'tester': 3405, 'ut': 3406, 'hawk': 3407, 'greec': 3408, 'itchi': 3409, 'concret': 3410, 'yaay': 3411, 'unexpect': 3412, 'temporari': 3413, 'vampir': 3414, 'eff': 3415, 'dessert': 3416, 'gooood': 3417, 'teddi': 3418, 'chan': 3419, 'lappi': 3420, 'jog': 3421, 'jpg': 3422, 'softbal': 3423, 'ding': 3424, 'tue': 3425, 'belgian': 3426, 'vt': 3427, 'franki': 3428, 'built': 3429, 'dayyyi': 3430, 'sleepin': 3431, 'smaller': 3432, 'champagn': 3433, 'ooc': 3434, 'rescu': 3435, 'latt': 3436, 'que': 3437, 'mud': 3438, 'xmen': 3439, 'basketbal': 3440, 'justic': 3441, 'qualifi': 3442, 'ab': 3443, 'sweetheart': 3444, 'recoveri': 3445, 'hunni': 3446, 'blogger': 3447, 'tori': 3448, 'kat': 3449, 'nana': 3450, 'kyle': 3451, 'benefit': 3452, 'multipl': 3453, 'woe': 3454, 'soy': 3455, 'motion': 3456, 'robluket': 3457, 'tenni': 3458, 'innoc': 3459, 'worn': 3460, 'tastic': 3461, 'bros': 3462, 'visa': 3463, 'yogurt': 3464, 'perman': 3465, 'decor': 3466, 'appropri': 3467, 'impati': 3468, 'contempl': 3469, 'protect': 3470, 'witti': 3471, 'slam': 3472, 'border': 3473, 'detox': 3474, 'xox': 3475, 'presenc': 3476, 'until': 3477, 'wa': 3478, 'tasti': 3479, 'itt': 3480, 'cba': 3481, 'commit': 3482, 'yt': 3483, 'seper': 3484, 'intens': 3485, 'champ': 3486, 'suicid': 3487, 'cruel': 3488, 'superman': 3489, 'tutori': 3490, 'trent': 3491, 'formula': 3492, 'madr': 3493, 'hike': 3494, 'fluffi': 3495, 'pan': 3496, 'kickin': 3497, 'tutor': 3498, 'dangit': 3499, 'coursework': 3500, 'grant': 3501, 'maui': 3502, 'discoveri': 3503, 'stalk': 3504, 'coincid': 3505, 'pr': 3506, 'dvds': 3507, 'montreal': 3508, 'delhi': 3509, 'fog': 3510, 'reflect': 3511, 'fangirl': 3512, 'shite': 3513, 'enterpris': 3514, 'cow': 3515, 'alllll': 3516, 'highway': 3517, 'sidewalk': 3518, 'pritchard': 3519, 'sidekick': 3520, 'effin': 3521, 'jade': 3522, 'brave': 3523, 'mainten': 3524, 'slack': 3525, 'comm': 3526, 'attach': 3527, 'wallpap': 3528, 'agh': 3529, 'coldplay': 3530, 'nina': 3531, 'blown': 3532, 'trampolin': 3533, 'vocal': 3534, 'union': 3535, 'sampl': 3536, 'crispi': 3537, 'weigh': 3538, 'exhibit': 3539, 'tow': 3540, 'loner': 3541, 'hostag': 3542, 'bl': 3543, 'legend': 3544, 'layout': 3545, 'lovee': 3546, 'sanctuarysunday': 3547, 'hairstyl': 3548, 'hairdress': 3549, 'berlin': 3550, 'brick': 3551, 'combin': 3552, 'taker': 3553, 'hawt': 3554, 'scar': 3555, 'ako': 3556, 'remain': 3557, 'mami': 3558, 'gg': 3559, 'restrict': 3560, 'thin': 3561, 'moan': 3562, 'anticip': 3563, 'cube': 3564, 'nicki': 3565, 'earring': 3566, 'mega': 3567, 'injur': 3568, 'global': 3569, 'eek': 3570, 'del': 3571, 'sac': 3572, 'overtim': 3573, 'cape': 3574, 'erm': 3575, 'australian': 3576, 'playlist': 3577, 'ski': 3578, 'lah': 3579, 'eurovis': 3580, 'sympathi': 3581, 'bg': 3582, 'region': 3583, 'argentina': 3584, 'tragic': 3585, 'brittani': 3586, 'lighter': 3587, 'alexi': 3588, 'japan': 3589, 'pleasant': 3590, 'experienc': 3591, 'eaten': 3592, 'teehe': 3593, 'earphon': 3594, 'damm': 3595, 'samantha': 3596, 'rr': 3597, 'superstar': 3598, 'ahhhhhh': 3599, 'cus': 3600, 'cud': 3601, 'mock': 3602, 'imax': 3603, 'ws': 3604, 'dollhous': 3605, 'scroll': 3606, 'chef': 3607, 'francisco': 3608, 'downsid': 3609, 'pjs': 3610, 'twitterworld': 3611, 'priceless': 3612, 'dms': 3613, 'actor': 3614, 'louis': 3615, 'reunion': 3616, 'oreo': 3617, 'jail': 3618, 'guild': 3619, 'teh': 3620, 'hoppusday': 3621, 'queri': 3622, 'poker': 3623, 'yesss': 3624, 'construct': 3625, 'megan': 3626, 'appeal': 3627, 'menu': 3628, 'greenvill': 3629, 'tn': 3630, 'tidi': 3631, 'midday': 3632, 'nooooooo': 3633, 'statement': 3634, 'dub': 3635, 'popcorn': 3636, 'hayfev': 3637, 'remix': 3638, 'becuz': 3639, 'unpack': 3640, 'leigh': 3641, 'awkward': 3642, 'manual': 3643, 'pregnant': 3644, 'sweetest': 3645, 'intent': 3646, 'roger': 3647, 'string': 3648, 'audienc': 3649, 'wht': 3650, 'workshop': 3651, 'down': 3652, 'braid': 3653, 'ell': 3654, 'russian': 3655, 'emma': 3656, 'travi': 3657, 'clark': 3658, 'buck': 3659, 'twenti': 3660, 'rocket': 3661, 'asthma': 3662, 'pastor': 3663, 'yaaaay': 3664, 'sean': 3665, 'susan': 3666, 'tale': 3667, 'reli': 3668, 'aaron': 3669, 'cord': 3670, 'whistl': 3671, 'necklac': 3672, 'pile': 3673, 'posh': 3674, 'diesel': 3675, 'aaaah': 3676, 'romant': 3677, 'ugg': 3678, 'fals': 3679, 'disconnect': 3680, 'withdraw': 3681, 'sb': 3682, 'tiff': 3683, 'simon': 3684, 'dozen': 3685, 'quilt': 3686, 'ni': 3687, 'intro': 3688, 'nu': 3689, 'eatin': 3690, 'nacho': 3691, 'alaska': 3692, 'brows': 3693, 'leopard': 3694, 'jone': 3695, 'destroy': 3696, 'patio': 3697, 'kayla': 3698, 'keith': 3699, 'chirp': 3700, 'poni': 3701, 'seafood': 3702, 'sheet': 3703, 'factor': 3704, 'doo': 3705, 'rail': 3706, 'likey': 3707, 'format': 3708, 'steam': 3709, 'boooooo': 3710, 'billi': 3711, 'sticker': 3712, 'extern': 3713, 'crimin': 3714, 'freezer': 3715, 'invest': 3716, 'nat': 3717, 'categori': 3718, 'heyyy': 3719, 'denial': 3720, 'ohhhhh': 3721, 'terri': 3722, 'irish': 3723, 'toothach': 3724, 'offens': 3725, 'scotland': 3726, 'chipotl': 3727, 'tila': 3728, 'sd': 3729, 'dev': 3730, 'hype': 3731, 'giveaway': 3732, 'hhrs': 3733, 'hac': 3734, 'browni': 3735, 'muse': 3736, 'abbi': 3737, 'disco': 3738, 'farmer': 3739, 'fatti': 3740, 'factori': 3741, 'nvr': 3742, 'hungov': 3743, 'kudo': 3744, 'pitch': 3745, 'classmat': 3746, 'chap': 3747, 'acct': 3748, 'desir': 3749, 'dimpl': 3750, 'hmv': 3751, 'visual': 3752, 'jp': 3753, 'mayer': 3754, 'bestfriend': 3755, 'ahahaha': 3756, 'inch': 3757, 'jazz': 3758, 'hurray': 3759, 'frickin': 3760, 'allll': 3761, 'taught': 3762, 'limb': 3763, 'pfft': 3764, 'twas': 3765, 'washington': 3766, 'fc': 3767, 'tw': 3768, 'norm': 3769, 'fort': 3770, 'ant': 3771, 'monica': 3772, 'skate': 3773, 'cal': 3774, 'keychain': 3775, 'jerri': 3776, 'sour': 3777, 'closest': 3778, 'bruce': 3779, 'vent': 3780, 'nola': 3781, 'volleybal': 3782, 'arrang': 3783, 'macci': 3784, 'portug': 3785, 'breed': 3786, 'whine': 3787, 'gi': 3788, 'backround': 3789, 'delight': 3790, 'hiccup': 3791, 'flo': 3792, 'tortur': 3793, 'beliv': 3794, 'algebra': 3795, 'choir': 3796, 'gather': 3797, 'fascin': 3798, 'disc': 3799, 'seek': 3800, 'promo': 3801, 'in': 3802, 'bulli': 3803, 'lg': 3804, 'mar': 3805, 'sm': 3806, 'theyr': 3807, 'peel': 3808, 'runner': 3809, 'agent': 3810, 'celtic': 3811, 'rad': 3812, 'juz': 3813, 'parodi': 3814, 'traumat': 3815, 'confid': 3816, 'hahaa': 3817, 'nonetheless': 3818, 'airlin': 3819, 'evan': 3820, 'skl': 3821, 'cassi': 3822, 'oww': 3823, 'icar': 3824, 'spa': 3825, 'bibl': 3826, 'alik': 3827, 'valu': 3828, 'almond': 3829, 'parallel': 3830, 'pp': 3831, 'hahahha': 3832, 'pinch': 3833, 'brandon': 3834, 'hopeless': 3835, 'ireland': 3836, 'mk': 3837, 'molar': 3838, 'swamp': 3839, 'integr': 3840, 'polish': 3841, 'massacr': 3842, 'lobster': 3843, 'dec': 3844, 'si': 3845, 'luna': 3846, 'bounc': 3847, 'nauseous': 3848, 'leagu': 3849, 'cereal': 3850, 'stung': 3851, 'dooo': 3852, 'tuck': 3853, 'corn': 3854, 'pea': 3855, 'martini': 3856, 'mucho': 3857, 'ref': 3858, 'requiem': 3859, 'resum': 3860, 'micro': 3861, 'throwback': 3862, 'tee': 3863, 'oooo': 3864, 'cope': 3865, 'michel': 3866, 'yippe': 3867, 'withdrawl': 3868, 'kit': 3869, 'roo': 3870, 'jungl': 3871, 'melissa': 3872, 'freeway': 3873, 'flap': 3874, 'bryan': 3875, 'sleeep': 3876, 'reminisc': 3877, 'chineselearn': 3878, 'yessir': 3879, 'ada': 3880, 'patienc': 3881, 'courthous': 3882, 'salvat': 3883, 'urban': 3884, 'heather': 3885, 'squad': 3886, 'boi': 3887, 'chart': 3888, 'csi': 3889, 'booz': 3890, 'recit': 3891, 'rocki': 3892, 'boost': 3893, 'tripl': 3894, 'backyard': 3895, 'equip': 3896, 'asada': 3897, 'abus': 3898, 'ahah': 3899, 'cig': 3900, 'grove': 3901, 'veget': 3902, 'inlaw': 3903, 'dashboard': 3904, 'bart': 3905, 'koi': 3906, 'attitud': 3907, 'pud': 3908, 'campus': 3909, 'widget': 3910, 'zach': 3911, 'extens': 3912, 'determin': 3913, 'robot': 3914, 'fifteen': 3915, 'ning': 3916, 'moni': 3917, 'begun': 3918, 'les': 3919, 'evid': 3920, 'phase': 3921, 'lolol': 3922, 'neva': 3923, 'oot': 3924, 'leah': 3925, 'brighten': 3926, 'wordpress': 3927, 'diann': 3928, 'wiki': 3929, 'dong': 3930, 'prosper': 3931, 'pam': 3932, 'vintag': 3933, 'phillip': 3934, 'conrad': 3935, 'nati': 3936, 'quizz': 3937, 'nm': 3938, 'sunglass': 3939, 'sand': 3940, 'oct': 3941, 'matrix': 3942, 'humbl': 3943, 'shelter': 3944, 'shell': 3945, 'circl': 3946, 'coverag': 3947, 'followin': 3948, 'izzard': 3949, 'argu': 3950, 'trump': 3951, 'sk': 3952, 'heehe': 3953, 'tink': 3954, 'doom': 3955, 'circumst': 3956, 'strap': 3957, 'henc': 3958, 'hong': 3959, 'pandora': 3960, 'stu': 3961, 'hoedown': 3962, 'cg': 3963, 'drizzl': 3964, 'css': 3965, 'redo': 3966, 'volum': 3967, 'polar': 3968, 'gadget': 3969, 'gnight': 3970, 'et': 3971, 'gambit': 3972, 'preschool': 3973, 'stripe': 3974, 'stadium': 3975, 'hawaii': 3976, 'eachoth': 3977, 'waitress': 3978, 'lolll': 3979, 'upsid': 3980, 'sql': 3981, 'debit': 3982, 'monk': 3983, 'morrison': 3984, 'aiden': 3985, 'procrastin': 3986, 'lick': 3987, 'syndrom': 3988, 'toddler': 3989, 'forecast': 3990, 'freckl': 3991, 'fieldnot': 3992, 'tumor': 3993, 'novel': 3994, 'spice': 3995, 'rum': 3996, 'weep': 3997, 'ke': 3998, 'fart': 3999, 'fluid': 4000, 'loooong': 4001, 'uncomfort': 4002, 'morrissey': 4003, 'stayin': 4004, 'nw': 4005, 'hive': 4006, 'reznor': 4007, 'uniqu': 4008, 'anywho': 4009, 'treatment': 4010, 'blank': 4011, 'ik': 4012, 'barri': 4013, 'arrest': 4014, 'asham': 4015, 'mmmmm': 4016, 'nod': 4017, 'poetri': 4018, 'stephen': 4019, 'patron': 4020, 'icant': 4021, 'eee': 4022, 'lorrain': 4023, 'thou': 4024, 'drs': 4025, 'venus': 4026, 'steadi': 4027, 'mraz': 4028, 'gov': 4029, 'bailey': 4030, 'conflict': 4031, 'heartbreak': 4032, 'vodka': 4033, 'former': 4034, 'tourist': 4035, 'casino': 4036, 'sadden': 4037, 'canadian': 4038, 'landlin': 4039, 'harsh': 4040, 'pearl': 4041, 'yew': 4042, 'crib': 4043, 'maryland': 4044, 'xoxox': 4045, 'sacramento': 4046, 'meme': 4047, 'fabric': 4048, 'snipurl': 4049, 'knacker': 4050, 'wot': 4051, 'hashtag': 4052, 'explan': 4053, 'landlord': 4054, 'ranch': 4055, 'hid': 4056, 'awar': 4057, 'newborn': 4058, 'encourag': 4059, 'chillax': 4060, 'carolina': 4061, 'domest': 4062, 'bin': 4063, 'ouchi': 4064, 'srri': 4065, 'particip': 4066, 'arnold': 4067, 'ru': 4068, 'chillen': 4069, 'colin': 4070, 'careless': 4071, 'rope': 4072, 'drain': 4073, 'angl': 4074, 'avenu': 4075, 'barack': 4076, 'dull': 4077, 'mentor': 4078, 'bliss': 4079, 'jeremi': 4080, 'jelli': 4081, 'tall': 4082, 'umbrella': 4083, 'trist': 4084, 'burp': 4085, 'hobo': 4086, 'tb': 4087, 'tarmac': 4088, 'whiskey': 4089, 'calori': 4090, 'jip': 4091, 'yumm': 4092, 'pero': 4093, 'tweak': 4094, 'polici': 4095, 'headphon': 4096, 'slim': 4097, 'spotifi': 4098, 'cn': 4099, 'tackl': 4100, 'hiii': 4101, 'vinegar': 4102, 'waaa': 4103, 'sc': 4104, 'fade': 4105, 'tmw': 4106, 'mash': 4107, 'dope': 4108, 'ilov': 4109, 'goodluck': 4110, 'paulo': 4111, 'waaaaay': 4112, 'rt': 4113, 'livin': 4114, 'showin': 4115, 'commentari': 4116, 'yaaay': 4117, 'handsom': 4118, 'elain': 4119, 'dreamt': 4120, 'basket': 4121, 'overal': 4122, 'fl': 4123, 'sn': 4124, 'payment': 4125, 'prada': 4126, 'wooooo': 4127, 'jj': 4128, 'bri': 4129, 'denmark': 4130, 'recess': 4131, 'psych': 4132, 'draft': 4133, 'whip': 4134, 'iq': 4135, 'wwe': 4136, 'wrestler': 4137, 'labor': 4138, 'tricki': 4139, 'rick': 4140, 'fuzzbal': 4141, 'injuri': 4142, 'cabin': 4143, 'backpack': 4144, 'phoenix': 4145, 'cf': 4146, 'cork': 4147, 'seven': 4148, 'clara': 4149, 'gps': 4150, 'marc': 4151, 'necessari': 4152, 'valid': 4153, 'pw': 4154, 'metallica': 4155, 'boooooooo': 4156, 'aidan': 4157, 'chu': 4158, 'joan': 4159, 'estat': 4160, 'mimi': 4161, 'mill': 4162, 'diari': 4163, 'girli': 4164, 'ky': 4165, 'chelsea': 4166, 'barn': 4167, 'alison': 4168, 'vp': 4169, 'wordsaftersex': 4170, 'eventu': 4171, 'readin': 4172, 'puff': 4173, 'laughter': 4174, 'budurl': 4175, 'hookah': 4176, 'higher': 4177, 'trader': 4178, 'ottawa': 4179, 'prank': 4180, 'bias': 4181, 'sheesh': 4182, 'individu': 4183, 'dissapoint': 4184, 'framework': 4185, 'ovi': 4186, 'leather': 4187, 'knox': 4188, 'lincoln': 4189, 'aloud': 4190, 'hindi': 4191, 'mamma': 4192, 'defend': 4193, 'enemi': 4194, 'ce': 4195, 'divers': 4196, 'ye': 4197, 'stevi': 4198, 'tu': 4199, 'ultra': 4200, 'firmwar': 4201, 'tragedi': 4202, 'gloom': 4203, 'aston': 4204, 'funniest': 4205, 'fetch': 4206, 'johnson': 4207, 'zu': 4208, 'vaca': 4209, 'skirt': 4210, 'context': 4211, 'syke': 4212, 'psycholog': 4213, 'occasion': 4214, 'mourn': 4215, 'costa': 4216, 'unlucki': 4217, 'cozi': 4218, 'maid': 4219, 'bagel': 4220, 'dose': 4221, 'jailbreak': 4222, 'nhl': 4223, 'harddriv': 4224, 'chit': 4225, 'warren': 4226, 'caramel': 4227, 'stronger': 4228, 'sucker': 4229, 'nano': 4230, 'dubai': 4231, 'blech': 4232, 'kidney': 4233, 'shallow': 4234, 'overwhelm': 4235, 'bold': 4236, 'shelv': 4237, 'fella': 4238, 'flush': 4239, 'blush': 4240, 'xxxxx': 4241, 'knw': 4242, 'wiv': 4243, 'amanda': 4244, 'sensibl': 4245, 'bach': 4246, 'silent': 4247, 'ba': 4248, 'beyonc': 4249, 'shizz': 4250, 'princ': 4251, 'routin': 4252, 'digest': 4253, 'cheeto': 4254, 'spinach': 4255, 'timelin': 4256, 'associ': 4257, 'rey': 4258, 'tc': 4259, 'disk': 4260, 'trap': 4261, 'meani': 4262, 'flirt': 4263, 'pshh': 4264, 'cordon': 4265, 'advertis': 4266, 'frost': 4267, 'wheat': 4268, 'knife': 4269, 'ken': 4270, 'cigarett': 4271, 'willi': 4272, 'philosoph': 4273, 'sake': 4274, 'rap': 4275, 'chew': 4276, 'discourag': 4277, 'lemonad': 4278, 'foster': 4279, 'christin': 4280, 'thas': 4281, 'wy': 4282, 'counter': 4283, 'heater': 4284, 'cha': 4285, 'goo': 4286, 'fricken': 4287, 'studyin': 4288, 'archuleta': 4289, 'eras': 4290, 'shhh': 4291, 'burst': 4292, 'guna': 4293, 'victori': 4294, 'switzerland': 4295, 'critic': 4296, 'belat': 4297, 'dine': 4298, 'violent': 4299, 'brandi': 4300, 'wifey': 4301, 'fund': 4302, 'php': 4303, 'lacey': 4304, 'utah': 4305, 'mayhem': 4306, 'unfortunat': 4307, 'eu': 4308, 'thaa': 4309, 'insomniac': 4310, 'branch': 4311, 'le': 4312, 'more': 4313, 'cubicl': 4314, 'coulda': 4315, 'asylum': 4316, 'likewis': 4317, 'calcul': 4318, 'independ': 4319, 'mister': 4320, 'illeg': 4321, 'lego': 4322, 'captain': 4323, 'zoe': 4324, 'spree': 4325, 'swedish': 4326, 'liver': 4327, 'pb': 4328, 'sumthin': 4329, 'acid': 4330, 'jodi': 4331, 'spelt': 4332, 'overcom': 4333, 'depot': 4334, 'bloom': 4335, 'dane': 4336, 'shack': 4337, 'fallow': 4338, 'bond': 4339, 'mighti': 4340, 'hurrican': 4341, 'ssd': 4342, 'icecream': 4343, 'su': 4344, 'vast': 4345, 'glove': 4346, 'calendar': 4347, 'nh': 4348, 'insult': 4349, 'civic': 4350, 'itagg': 4351, 'shannon': 4352, 'contain': 4353, 'oral': 4354, 'thr': 4355, 'har': 4356, 'messeng': 4357, 'pg': 4358, 'olymp': 4359, 'paradis': 4360, 'po': 4361, 'daft': 4362, 'ka': 4363, 'jackass': 4364, 'opportun': 4365, 'goat': 4366, 'spici': 4367, 'crunch': 4368, 'sigjean': 4369, 'baltimor': 4370, 'scent': 4371, 'mypict': 4372, 'yao': 4373, 'yuck': 4374, 'raw': 4375, 'njoy': 4376, 'spoken': 4377, 'ti': 4378, 'poem': 4379, 'lov': 4380, 'arizona': 4381, 'tab': 4382, 'wt': 4383, 'tickl': 4384, 'cue': 4385, 'trippin': 4386, 'approv': 4387, 'cur': 4388, 'tmr': 4389, 'babyy': 4390, 'chemic': 4391, 'introduc': 4392, 'patrick': 4393, 'bolt': 4394, 'cds': 4395, 'pirat': 4396, 'bend': 4397, 'fur': 4398, 'mumbai': 4399, 'remeb': 4400, 'resign': 4401, 'yayyy': 4402, 'dreari': 4403, 'feb': 4404, 'ikr': 4405, 'lime': 4406, 'sammi': 4407, 'logi': 4408, 'startrek': 4409, 'directori': 4410, 'luggag': 4411, 'linkedin': 4412, 'lifetim': 4413, 'doh': 4414, 'wal': 4415, 'mart': 4416, 'ec': 4417, 'sequel': 4418, 'liesboystel': 4419, 'cnn': 4420, 'linda': 4421, 'nyt': 4422, 'funki': 4423, 'reel': 4424, 'sole': 4425, 'mit': 4426, 'margarita': 4427, 'deni': 4428, 'arvo': 4429, 'callin': 4430, 'sweater': 4431, 'merlin': 4432, 'migrat': 4433, 'cardio': 4434, 'iowa': 4435, 'tissu': 4436, 'gang': 4437, 'drill': 4438, 'choc': 4439, 'zelda': 4440, 'crafti': 4441, 'nokia': 4442, 'tru': 4443, 'kardashian': 4444, 'descript': 4445, 'frozen': 4446, 'euro': 4447, 'verifi': 4448, 'basement': 4449, 'diva': 4450, 'survey': 4451, 'argument': 4452, 'buff': 4453, 'av': 4454, 'goldfish': 4455, 'ponytail': 4456, 'xp': 4457, 'billion': 4458, 'bail': 4459, 'wand': 4460, 'mocha': 4461, 'erica': 4462, 'spit': 4463, 'whn': 4464, 'cya': 4465, 'whale': 4466, 'addit': 4467, 'replay': 4468, 'broadband': 4469, 'rington': 4470, 'ooooo': 4471, 'bittersweet': 4472, 'currenc': 4473, 'chose': 4474, 'impos': 4475, 'woodi': 4476, 'rogu': 4477, 'fred': 4478, 'laser': 4479, 'shaun': 4480, 'knoww': 4481, 'pos': 4482, 'denni': 4483, 'merch': 4484, 'mann': 4485, 'fate': 4486, 'initi': 4487, 'sniff': 4488, 'caffein': 4489, 'sunda': 4490, 'needa': 4491, 'paw': 4492, 'africa': 4493, 'havn': 4494, 'ea': 4495, 'slipper': 4496, 'itouch': 4497, 'ceremoni': 4498, 'lar': 4499, 'lyk': 4500, 'stanley': 4501, 'hint': 4502, 'bhb': 4503, 'locker': 4504, 'bra': 4505, 'materi': 4506, 'paycheck': 4507, 'mosquito': 4508, 'capac': 4509, 'spoon': 4510, 'lastnight': 4511, 'hut': 4512, 'worm': 4513, 'dreambear': 4514, 'amen': 4515, 'horrid': 4516, 'peek': 4517, 'raid': 4518, 'pitcher': 4519, 'gahh': 4520, 'newest': 4521, 'booth': 4522, 'js': 4523, 'newspap': 4524, 'detroit': 4525, 'transit': 4526, 'au': 4527, 'ustream': 4528, 'muy': 4529, 'mah': 4530, 'minim': 4531, 'ink': 4532, 'restart': 4533, 'malaysia': 4534, 'madd': 4535, 'unni': 4536, 'consol': 4537, 'mayday': 4538, 'salon': 4539, 'eyebrow': 4540, 'mannnn': 4541, 'kitchenfir': 4542, 'eva': 4543, 'fran': 4544, 'marvel': 4545, 'nasal': 4546, 'todayyy': 4547, 'awesome': 4548, 'fallout': 4549, 'pickl': 4550, 'tran': 4551, 'cuss': 4552, 'copenhagen': 4553, 'patch': 4554, 'huggl': 4555, 'creeper': 4556, 'privaci': 4557, 'fame': 4558, 'miranda': 4559, 'bald': 4560, 'ra': 4561, 'wo': 4562, 'bracket': 4563, 'joss': 4564, 'sass': 4565, 'ki': 4566, 'jai': 4567, 'newbi': 4568, 'ducki': 4569, 'paus': 4570, 'tres': 4571, 'compens': 4572, 'tum': 4573, 'bd': 4574, 'hardwar': 4575, 'downer': 4576, 'recal': 4577, 'canal': 4578, 'interact': 4579, 'highschool': 4580, 'sharp': 4581, 'daze': 4582, 'fil': 4583, 'honeymoon': 4584, 'bamboozl': 4585, 'ihav': 4586, 'fudg': 4587, 'kool': 4588, 'puffi': 4589, 'slowest': 4590, 'blair': 4591, 'bipolar': 4592, 'discrimin': 4593, 'hyster': 4594, 'growl': 4595, 'miseri': 4596, 'morri': 4597, 'rebel': 4598, 'fring': 4599, 'stroke': 4600, 'bitten': 4601, 'rabi': 4602, 'infest': 4603, 'lane': 4604, 'pluck': 4605, 'pacquiao': 4606, 'burbank': 4607, 'seed': 4608, 'planter': 4609, 'wkend': 4610, 'motorcycl': 4611, 'bounci': 4612, 'tad': 4613, 'brisban': 4614, 'lax': 4615, 'kittykat': 4616, 'sumtim': 4617, 'victim': 4618, 'paisley': 4619, 'cone': 4620, 'ugggh': 4621, 'cheerlead': 4622, 'babygirl': 4623, 'glimps': 4624, 'prematur': 4625, 'runnin': 4626, 'recycl': 4627, 'richi': 4628, 'clutch': 4629, 'carrier': 4630, 'firefli': 4631, 'bastard': 4632, 'lb': 4633, 'doe': 4634, 'ia': 4635, 'aid': 4636, 'carn': 4637, 'lexus': 4638, 'racoon': 4639, 'nazi': 4640, 'fallen': 4641, 'prevent': 4642, 'naman': 4643, 'forsur': 4644, 'thts': 4645, 'structur': 4646, 'nooooooooo': 4647, 'agil': 4648, 'motorbik': 4649, 'musicmonday': 4650, 'hallmark': 4651, 'shark': 4652, 'okayi': 4653, 'oppos': 4654, 'sl': 4655, 'fewer': 4656, 'audrey': 4657, 'conan': 4658, 'endur': 4659, 'recharg': 4660, 'elliott': 4661, 'violat': 4662, 'sheep': 4663, 'tomo': 4664, 'export': 4665, 'dslr': 4666, 'fourteen': 4667, 'hotter': 4668, 'vinyl': 4669, 'warranti': 4670, 'slide': 4671, 'slot': 4672, 'disabl': 4673, 'luxuri': 4674, 'roflmao': 4675, 'sbs': 4676, 'pe': 4677, 'gimm': 4678, 'meagan': 4679, 'foam': 4680, 'instrument': 4681, 'moo': 4682, 'nic': 4683, 'trekki': 4684, 'lc': 4685, 'raspberri': 4686, 'messi': 4687, 'gilmor': 4688, 'unknown': 4689, 'dash': 4690, 'bun': 4691, 'bonjour': 4692, 'athlet': 4693, 'hibern': 4694, 'noooooooo': 4695, 'lopez': 4696, 'washer': 4697, 'craigslist': 4698, 'enthusiast': 4699, 'oy': 4700, 'rotten': 4701, 'nigga': 4702, 'nottingham': 4703, 'vh': 4704, 'appart': 4705, 'jc': 4706, 'firm': 4707, 'glen': 4708, 'whack': 4709, 'friendship': 4710, 'compromis': 4711, 'wnt': 4712, 'spank': 4713, 'bicycl': 4714, 'georgia': 4715, 'aloha': 4716, 'northern': 4717, 'sleev': 4718, 'throwdown': 4719, 'lool': 4720, 'overr': 4721, 'audioboo': 4722, 'cardiff': 4723, 'possess': 4724, 'lacroix': 4725, 'amsterdam': 4726, 'april': 4727, 'everr': 4728, 'prof': 4729, 'fuel': 4730, 'cheeseburg': 4731, 'socal': 4732, 'kb': 4733, 'drunken': 4734, 'distant': 4735, 'anythin': 4736, 'masculin': 4737, 'glow': 4738, 'ferri': 4739, 'wr': 4740, 'tcot': 4741, 'harold': 4742, 'waz': 4743, 'kh': 4744, 'cw': 4745, 'abc': 4746, 'goooo': 4747, 'glue': 4748, 'looong': 4749, 'luci': 4750, 'spork': 4751, 'minimum': 4752, 'li': 4753, 'worldwid': 4754, 'seaworld': 4755, 'physio': 4756, 'spoilt': 4757, 'kristin': 4758, 'twhirl': 4759, 'heartburn': 4760, 'geeki': 4761, 'ahahah': 4762, 'pow': 4763, 'welsh': 4764, 'evolut': 4765, 'romeo': 4766, 'scratchi': 4767, 'jaunti': 4768, 'mustach': 4769, 'corona': 4770, 'apar': 4771, 'visibl': 4772, 'jare': 4773, 'showcas': 4774, 'chosen': 4775, 'arr': 4776, 'iz': 4777, 'axe': 4778, 'damp': 4779, 'ohwel': 4780, 'ari': 4781, 'screenshot': 4782, 'blogtv': 4783, 'estim': 4784, 'underbelli': 4785, 'mn': 4786, 'rooftop': 4787, 'vegan': 4788, 'yur': 4789, 'cameron': 4790, 'kindergarten': 4791, 'stabl': 4792, 'rez': 4793, 'object': 4794, 'sudoku': 4795, 'hash': 4796, 'ze': 4797, 'conveni': 4798, 'collaps': 4799, 'ewww': 4800, 'badg': 4801, 'politician': 4802, 'passion': 4803, 'cari': 4804, 'holland': 4805, 'reeealli': 4806, 'visitin': 4807, 'jv': 4808, 'hangout': 4809, 'wl': 4810, 'incom': 4811, 'wx': 4812, 'marin': 4813, 'ward': 4814, 'cotton': 4815, 'jealousi': 4816, 'dvr': 4817, 'chad': 4818, 'resort': 4819, 'arg': 4820, 'aol': 4821, 'outlet': 4822, 'omelett': 4823, 'diggin': 4824, 'dns': 4825, 'par': 4826, 'matern': 4827, 'threaten': 4828, 'oyster': 4829, 'cult': 4830, 'jd': 4831, 'stale': 4832, 'upto': 4833, 'sail': 4834, 'ham': 4835, 'spaghetti': 4836, 'wolf': 4837, 'editor': 4838, 'vaccin': 4839, 'insomnia': 4840, 'finest': 4841, 'mohawk': 4842, 'birth': 4843, 'standbi': 4844, 'judi': 4845, 'fiction': 4846, 'pep': 4847, 'clog': 4848, 'mutual': 4849, 'buffet': 4850, 'ibm': 4851, 'compat': 4852, 'vanessa': 4853, 'hudgen': 4854, 'imaginari': 4855, 'itsuck': 4856, 'ip': 4857, 'intel': 4858, 'gutter': 4859, 'macarena': 4860, 'han': 4861, 'gland': 4862, 'derbi': 4863, 'quesadilla': 4864, 'miller': 4865, 'jamba': 4866, 'rugbi': 4867, 'marina': 4868, 'leadership': 4869, 'td': 4870, 'shorti': 4871, 'aj': 4872, 'zulu': 4873, 'panera': 4874, 'gykd': 4875, 'spear': 4876, 'foolish': 4877, 'twitterena': 4878, 'torta': 4879, 'yest': 4880, 'phobia': 4881, 'fought': 4882, 'yike': 4883, 'drool': 4884, 'fifth': 4885, 'vw': 4886, 'greedi': 4887, 'porridg': 4888, 'lion': 4889, 'sunscreen': 4890, 'suv': 4891, 'deli': 4892, 'greek': 4893, 'broadway': 4894, 'meter': 4895, 'christina': 4896, 'wellington': 4897, 'af': 4898, 'cracker': 4899, 'tnx': 4900, 'gal': 4901, 'freshman': 4902, 'ramen': 4903, 'dsi': 4904, 'premium': 4905, 'unlimit': 4906, 'lend': 4907, 'duper': 4908, 'medit': 4909, 'myrtl': 4910, 'lou': 4911, 'deed': 4912, 'intellig': 4913, 'nascar': 4914, 'nightshift': 4915, 'bo': 4916, 'frequent': 4917, 'magnific': 4918, 'exot': 4919, 'hoodi': 4920, 'queue': 4921, 'migran': 4922, 'regardless': 4923, 'diner': 4924, 'seo': 4925, 'tanner': 4926, 'megaredpacket': 4927, 'trekk': 4928, 'loopt': 4929, 'adsens': 4930, 'govt': 4931, 'shadow': 4932, 'realist': 4933, 'earliest': 4934, 'chunki': 4935, 'beef': 4936, 'consider': 4937, 'sv': 4938, 'counti': 4939, 'musician': 4940, 'elect': 4941, 'grub': 4942, 'frustrad': 4943, 'era': 4944, 'pleasee': 4945, 'nemo': 4946, 'youu': 4947, 'brazilian': 4948, 'wuv': 4949, 'observ': 4950, 'toyota': 4951, 'nike': 4952, 'prototyp': 4953, 'bom': 4954, 'rsvp': 4955, 'err': 4956, 'canon': 4957, 'blockbust': 4958, 'twiiter': 4959, 'whaaaat': 4960, 'sparkl': 4961, 'bec': 4962, 'hamilton': 4963, 'optim': 4964, 'pepsi': 4965, 'subscript': 4966, 'qu': 4967, 'volunt': 4968, 'breast': 4969, 'stare': 4970, 'cole': 4971, 'owww': 4972, 'clash': 4973, 'overdu': 4974, 'rotat': 4975, 'nekkid': 4976, 'stylish': 4977, 'chloe': 4978, 'om': 4979, 'saga': 4980, 'ooop': 4981, 'cowboy': 4982, 'graham': 4983, 'tap': 4984, 'inabl': 4985, 'rankin': 4986, 'disapoint': 4987, 'explos': 4988, 'kilkenni': 4989, 'remedi': 4990, 'lean': 4991, 'pint': 4992, 'bacteria': 4993, 'tai': 4994, 'ova': 4995, 'prep': 4996, 'tupac': 4997, 'beatwittyparti': 4998, 'greater': 4999, 'jf': 5000, 'urgent': 5001, 'cupboard': 5002, 'nfg': 5003, 'galor': 5004, 'moor': 5005, 'dandi': 5006, 'haiku': 5007, 'stripper': 5008, 'seminar': 5009, 'drawn': 5010, 'ron': 5011, 'smackdown': 5012, 'wallac': 5013, 'omgosh': 5014, 'formal': 5015, 'whatta': 5016, 'ego': 5017, 'psp': 5018, 'lite': 5019, 'paparazzi': 5020, 'shed': 5021, 'darlin': 5022, 'worthi': 5023, 'thier': 5024, 'cr': 5025, 'januari': 5026, 'reset': 5027, 'hord': 5028, 'intend': 5029, 'habit': 5030, 'spose': 5031, 'leighton': 5032, 'meester': 5033, 'liam': 5034, 'bracelet': 5035, 'sista': 5036, 'byeeeee': 5037, 'foggi': 5038, 'meeeee': 5039, 'academ': 5040, 'recap': 5041, 'sleepov': 5042, 'alexand': 5043, 'uti': 5044, 'wc': 5045, 'sketch': 5046, 'vhs': 5047, 'pcd': 5048, 'starfleet': 5049, 'occur': 5050, 'endors': 5051, 'wher': 5052, 'sip': 5053, 'nova': 5054, 'oneself': 5055, 'bitch': 5056, 'techno': 5057, 'jayce': 5058, 'shh': 5059, 'stealth': 5060, 'skillz': 5061, 'ri': 5062, 'demand': 5063, 'handbag': 5064, 'kavya': 5065, 'jordi': 5066, 'toaster': 5067, 'uuuup': 5068, 'germ': 5069, 'dodger': 5070, 'chica': 5071, 'dexter': 5072, 'twitti': 5073, 'uhhh': 5074, 'columbus': 5075, 'gs': 5076, 'describ': 5077, 'lipstick': 5078, 'graph': 5079, 'vanciti': 5080, 'howard': 5081, 'lenovo': 5082, 'crumbl': 5083, 'ttyl': 5084, 'candid': 5085, 'blu': 5086, 'yday': 5087, 'pwns': 5088, 'athen': 5089, 'corrupt': 5090, 'macaron': 5091, 'dodg': 5092, 'lag': 5093, 'prais': 5094, 'primavera': 5095, 'blaze': 5096, 'doughnut': 5097, 'cart': 5098, 'wizard': 5099, 'dani': 5100, 'soni': 5101, 'alyssa': 5102, 'elsewher': 5103, 'rfc': 5104, 'grrrrr': 5105, 'bali': 5106, 'bsg': 5107, 'movement': 5108, 'dora': 5109, 'ballerina': 5110, 'scale': 5111, 'crop': 5112, 'uniti': 5113, 'rss': 5114, 'dey': 5115, 'vacay': 5116, 'doug': 5117, 'dana': 5118, 'hog': 5119, 'alll': 5120, 'twitterbug': 5121, 'minneapoli': 5122, 'manic': 5123, 'richmond': 5124, 'ungod': 5125, 'angela': 5126, 'learnt': 5127, 'gent': 5128, 'notch': 5129, 'freaki': 5130, 'phrase': 5131, 'tina': 5132, 'tuna': 5133, 'fuse': 5134, 'mitch': 5135, 'redhead': 5136, 'opposit': 5137, 'lush': 5138, 'rack': 5139, 'poison': 5140, 'wikipedia': 5141, 'thirsti': 5142, 'misplac': 5143, 'efron': 5144, 'subtl': 5145, 'mojito': 5146, 'bronchiti': 5147, 'sociolog': 5148, 'scifi': 5149, 'peak': 5150, 'garlic': 5151, 'wayyy': 5152, 'closet': 5153, 'nutella': 5154, 'annual': 5155, 'vi': 5156, 'reno': 5157, 'storag': 5158, 'temperatur': 5159, 'adjust': 5160, 'bi': 5161, 'noisi': 5162, 'ooohhh': 5163, 'tail': 5164, 'kidd': 5165, 'cindi': 5166, 'anyhoo': 5167, 'corpor': 5168, 'employ': 5169, 'acquir': 5170, 'portland': 5171, 'dial': 5172, 'elbow': 5173, 'router': 5174, 'sophi': 5175, 'beani': 5176, 'condol': 5177, 'meat': 5178, 'adob': 5179, 'wid': 5180, 'oj': 5181, 'looool': 5182, 'od': 5183, 'tart': 5184, 'portugues': 5185, 'exampl': 5186, 'retail': 5187, 'arkham': 5188, 'shield': 5189, 'becki': 5190, 'welt': 5191, 'newport': 5192, 'babysitt': 5193, 'vincent': 5194, 'somat': 5195, 'unreal': 5196, 'brighter': 5197, 'finna': 5198, 'goddamn': 5199, 'belfast': 5200, 'booooo': 5201, 'geneva': 5202, 'steroid': 5203, 'mop': 5204, 'pune': 5205, 'helen': 5206, 'vmware': 5207, 'lynn': 5208, 'ofcours': 5209, 'fiddler': 5210, 'aaah': 5211, 'puzzl': 5212, 'racism': 5213, 'awwwh': 5214, 'kan': 5215, 'sweep': 5216, 'balconi': 5217, 'nicer': 5218, 'reunit': 5219, 'sentiment': 5220, 'tournament': 5221, 'tile': 5222, 'np': 5223, 'peru': 5224, 'pun': 5225, 'british': 5226, 'schoool': 5227, 'urself': 5228, 'alo': 5229, 'spi': 5230, 'perri': 5231, 'soundtrack': 5232, 'loader': 5233, 'nighter': 5234, 'gluten': 5235, 'quad': 5236, 'gigant': 5237, 'tat': 5238, 'mri': 5239, 'retain': 5240, 'ro': 5241, 'viewer': 5242, 'crutch': 5243, 'hii': 5244, 'circuit': 5245, 'carbon': 5246, 'statu': 5247, 'noooooo': 5248, 'inn': 5249, 'nth': 5250, 'laterz': 5251, 'aot': 5252, 'runni': 5253, 'weirdo': 5254, 'yawn': 5255, 'julia': 5256, 'expans': 5257, 'talaga': 5258, 'supervis': 5259, 'tao': 5260, 'hen': 5261, 'catcher': 5262, 'strand': 5263, 'beg': 5264, 'campaign': 5265, 'rerun': 5266, 'baka': 5267, 'tafe': 5268, 'tut': 5269, 'lotr': 5270, 'whos': 5271, 'honesti': 5272, 'iplay': 5273, 'assumpt': 5274, 'harlem': 5275, 'cider': 5276, 'bebe': 5277, 'opt': 5278, 'varsiti': 5279, 'fanclub': 5280, 'retro': 5281, 'prism': 5282, 'microwav': 5283, 'rash': 5284, 'hundr': 5285, 'gawd': 5286, 'multi': 5287, 'nk': 5288, 'thnks': 5289, 'heheheh': 5290, 'looooong': 5291, 'izzi': 5292, 'drowsi': 5293, 'benadryl': 5294, 'heheheheh': 5295, 'sped': 5296, 'fu': 5297, 'gabl': 5298, 'delish': 5299, 'mobypictur': 5300, 'hammer': 5301, 'spur': 5302, 'classi': 5303, 'voyag': 5304, 'blade': 5305, 'shown': 5306, 'coralin': 5307, 'du': 5308, 'malibu': 5309, 'catbook': 5310, 'telecom': 5311, 'lash': 5312, 'sed': 5313, 'flame': 5314, 'stain': 5315, 'liquor': 5316, 'sandwhich': 5317, 'sih': 5318, 'unintent': 5319, 'hamburg': 5320, 'uncool': 5321, 'hurtin': 5322, 'african': 5323, 'director': 5324, 'environ': 5325, 'ironi': 5326, 'trooper': 5327, 'registr': 5328, 'breaki': 5329, 'pose': 5330, 'eden': 5331, 'organis': 5332, 'hh': 5333, 'wate': 5334, 'tommi': 5335, 'prix': 5336, 'heya': 5337, 'looov': 5338, 'kong': 5339, 'hurrah': 5340, 'heidi': 5341, 'gem': 5342, 'funnnn': 5343, 'parker': 5344, 'arena': 5345, 'mang': 5346, 'mua': 5347, 'hahahahah': 5348, 'ozzi': 5349, 'victor': 5350, 'lotion': 5351, 'dl': 5352, 'swag': 5353, 'alpha': 5354, 'raft': 5355, 'drip': 5356, 'lu': 5357, 'pt': 5358, 'euruko': 5359, 'der': 5360, 'grammar': 5361, 'murray': 5362, 'kiddo': 5363, 'hurdl': 5364, 'ud': 5365, 'prune': 5366, 'cucumb': 5367, 'sadd': 5368, 'homemad': 5369, 'img': 5370, 'killin': 5371, 'documentari': 5372, 'arghhh': 5373, 'alley': 5374, 'cheddar': 5375, 'eleg': 5376, 'drown': 5377, 'sorrow': 5378, 'crisp': 5379, 'alpin': 5380, 'pacman': 5381, 'shrimp': 5382, 'unusu': 5383, 'strip': 5384, 'inlov': 5385, 'hobbi': 5386, 'restor': 5387, 'carol': 5388, 'thigh': 5389, 'stamp': 5390, 'excurs': 5391, 'dunk': 5392, 'peed': 5393, 'potti': 5394, 'redesign': 5395, 'voodoo': 5396, 'scottish': 5397, 'boxer': 5398, 'nash': 5399, 'tyra': 5400, 'iloveyou': 5401, 'firework': 5402, 'shaw': 5403, 'ment': 5404, 'flake': 5405, 'jonaswebcast': 5406, 'turkey': 5407, 'viral': 5408, 'difficulti': 5409, 'typo': 5410, 'cuba': 5411, 'rene': 5412, 'qi': 5413, 'griffin': 5414, 'sulk': 5415, 'tick': 5416, 'oxford': 5417, 'aaahhh': 5418, 'upp': 5419, 'furious': 5420, 'kent': 5421, 'castl': 5422, 'dice': 5423, 'wooow': 5424, 'deer': 5425, 'derek': 5426, 'cof': 5427, 'ford': 5428, 'bkk': 5429, 'happend': 5430, 'netbal': 5431, 'lizzi': 5432, 'sticki': 5433, 'ctrl': 5434, 'wanda': 5435, 'pixi': 5436, 'gotcha': 5437, 'sofa': 5438, 'artwork': 5439, 'dosent': 5440, 'nov': 5441, 'jessi': 5442, 'gin': 5443, 'coldston': 5444, 'chronicl': 5445, 'pollut': 5446, 'anatomi': 5447, 'creatur': 5448, 'yan': 5449, 'float': 5450, 'ditch': 5451, 'manner': 5452, 'nicest': 5453, 'nudg': 5454, 'madrid': 5455, 'dock': 5456, 'museum': 5457, 'swineflu': 5458, 'geoff': 5459, 'papi': 5460, 'vehicl': 5461, 'hallway': 5462, 'static': 5463, 'hahha': 5464, 'eftel': 5465, 'frown': 5466, 'poopi': 5467, 'snail': 5468, 'liz': 5469, 'samberg': 5470, 'sweatshirt': 5471, 'redbul': 5472, 'kfc': 5473, 'bandwidth': 5474, 'nanni': 5475, 'mph': 5476, 'pale': 5477, 'sarcast': 5478, 'speedi': 5479, 'sfo': 5480, 'cod': 5481, 'wp': 5482, 'whatcha': 5483, 'shatner': 5484, 'intrigu': 5485, 'dunkin': 5486, 'zack': 5487, 'disord': 5488, 'jaw': 5489, 'squeez': 5490, 'leicest': 5491, 'leed': 5492, 'amongst': 5493, 'ic': 5494, 'soooooooooo': 5495, 'pigeon': 5496, 'boyl': 5497, 'lamin': 5498, 'choke': 5499, 'tokio': 5500, 'ittt': 5501, 'parvo': 5502, 'sana': 5503, 'haz': 5504, 'diana': 5505, 'deposit': 5506, 'venic': 5507, 'consist': 5508, 'zachari': 5509, 'quinto': 5510, 'filthi': 5511, 'himym': 5512, 'stanki': 5513, 'lala': 5514, 'voicemail': 5515, 'idiotat': 5516, 'nks': 5517, 'jayk': 5518, 'gooooood': 5519, 'dian': 5520, 'conserv': 5521, 'mattress': 5522, 'crane': 5523, 'kg': 5524, 'probli': 5525, 'blunt': 5526, 'hv': 5527, 'scout': 5528, 'oldi': 5529, 'limp': 5530, 'gaug': 5531, 'overload': 5532, 'lesli': 5533, 'rex': 5534, 'cy': 5535, 'raleigh': 5536, 'gomez': 5537, 'trumpet': 5538, 'costco': 5539, 'adapt': 5540, 'lure': 5541, 'gue': 5542, 'poli': 5543, 'fibe': 5544, 'agenc': 5545, 'flippin': 5546, 'litter': 5547, 'sanctuari': 5548, 'hopin': 5549, 'paso': 5550, 'sicker': 5551, 'cubbi': 5552, 'sep': 5553, 'givin': 5554, 'conf': 5555, 'springsteen': 5556, 'decreas': 5557, 'clone': 5558, 'kristi': 5559, 'htc': 5560, 'hasnt': 5561, 'reserv': 5562, 'orient': 5563, 'lanc': 5564, 'yummm': 5565, 'stumbl': 5566, 'icki': 5567, 'breezi': 5568, 'elimin': 5569, 'mya': 5570, 'mba': 5571, 'dancer': 5572, 'lava': 5573, 'polaroid': 5574, 'mgmt': 5575, 'weirdest': 5576, 'conquer': 5577, 'cherish': 5578, 'brighton': 5579, 'bop': 5580, 'element': 5581, 'charl': 5582, 'lk': 5583, 'wockeez': 5584, 'yeeeeah': 5585, 'bangin': 5586, 'warner': 5587, 'lexington': 5588, 'shirley': 5589, 'vog': 5590, 'tsk': 5591, 'buggi': 5592, 'katherin': 5593, 'biggi': 5594, 'hotdog': 5595, 'nikki': 5596, 'db': 5597, 'tt': 5598, 'hittin': 5599, 'shorten': 5600, 'optimist': 5601, 'journalist': 5602, 'priscilla': 5603, 'jq': 5604, 'gee': 5605, 'assassin': 5606, 'jacki': 5607, 'dolphin': 5608, 'hhaha': 5609, 'serial': 5610, 'nanna': 5611, 'saniti': 5612, 'moz': 5613, 'diy': 5614, 'joker': 5615, 'portabl': 5616, 'wagon': 5617, 'exclus': 5618, 'kindl': 5619, 'marco': 5620, 'reload': 5621, 'etern': 5622, 'beatl': 5623, 'cynic': 5624, 'embrac': 5625, 'yj': 5626, 'rainin': 5627, 'plagu': 5628, 'rah': 5629, 'ninja': 5630, 'niqht': 5631, 'charley': 5632, 'powerpoint': 5633, 'own': 5634, 'zzzz': 5635, 'cage': 5636, 'bewar': 5637, 'humour': 5638, 'ahhhhhhh': 5639, 'scone': 5640, 'teen': 5641, 'brush': 5642, 'anderson': 5643, 'hellotxt': 5644, 'declin': 5645, 'millionair': 5646, 'debbi': 5647, 'isaac': 5648, 'vietnam': 5649, 'bbltwt': 5650, 'fee': 5651, 'asylm': 5652, 'kris': 5653, 'irvin': 5654, 'straw': 5655, 'hulk': 5656, 'foto': 5657, 'outti': 5658, 'horrif': 5659, 'jar': 5660, 'kawawa': 5661, 'sept': 5662, 'ghz': 5663, 'bouquet': 5664, 'ere': 5665, 'strength': 5666, 'feeder': 5667, 'est': 5668, 'helmet': 5669, 'bai': 5670, 'whyyi': 5671, 'hallucin': 5672, 'rethink': 5673, 'dresser': 5674, 'pantera': 5675, 'amp': 5676, 'coco': 5677, 'dot': 5678, 'scrambl': 5679, 'paperwork': 5680, 'siya': 5681, 'partyin': 5682, 'dood': 5683, 'ermm': 5684, 'whyyyy': 5685, 'troy': 5686, 'apprentic': 5687, 'heeey': 5688, 'awwwwwww': 5689, 'pax': 5690, 'sox': 5691, 'stickam': 5692, 'unlik': 5693, 'snicker': 5694, 'lott': 5695, 'visitor': 5696, 'dylan': 5697, 'domino': 5698, 'broadcast': 5699, 'fork': 5700, 'mt': 5701, 'tym': 5702, 'mulch': 5703, 'shampoo': 5704, 'coo': 5705, 'sharpi': 5706, 'wierd': 5707, 'backk': 5708, 'noida': 5709, 'jeje': 5710, 'jaja': 5711, 'dent': 5712, 'avid': 5713, 'encor': 5714, 'trim': 5715, 'prawn': 5716, 'dissappoint': 5717, 'soggi': 5718, 'kean': 5719, 'gor': 5720, 'baddd': 5721, 'cholla': 5722, 'namaskar': 5723, 'marathi': 5724, 'unfortunatley': 5725, 'sprite': 5726, 'dumbo': 5727, 'candl': 5728, 'endear': 5729, 'goooooddd': 5730, 'lunchbreak': 5731, 'lydia': 5732, 'competiton': 5733, 'neic': 5734, 'impromptu': 5735, 'deffo': 5736, 'knowwww': 5737, 'domin': 5738, 'jaz': 5739, 'appolog': 5740, 'powerblog': 5741, 'tish': 5742, 'smelli': 5743, 'dindin': 5744, 'lara': 5745, 'applaud': 5746, 'wz': 5747, 'chock': 5748, 'tabloid': 5749, 'batti': 5750, 'dustbin': 5751, 'mlb': 5752, 'televis': 5753, 'wieter': 5754, 'magnolia': 5755, 'outing': 5756, 'amazin': 5757, 'when': 5758, 'wossi': 5759, 'yk': 5760, 'loooov': 5761, 'boba': 5762, 'perki': 5763, 'sx': 5764, 'smoker': 5765, 'qood': 5766, 'wormi': 5767, 'infact': 5768, 'dosen': 5769, 'electron': 5770, 'waterfront': 5771, 'passeng': 5772, 'spew': 5773, 'ethan': 5774, 'arch': 5775, 'pencil': 5776, 'philosophi': 5777, 'singstar': 5778, 'gn': 5779, 'joseph': 5780, 'arthur': 5781, 'hick': 5782, 'chiropractor': 5783, 'poverti': 5784, 'childhood': 5785, 'beet': 5786, 'cameo': 5787, 'beto': 5788, 'barb': 5789, 'amor': 5790, 'hgtv': 5791, 'throb': 5792, 'influenc': 5793, 'closur': 5794, 'sr': 5795, 'vr': 5796, 'trio': 5797, 'irrit': 5798, 'yeaaaah': 5799, 'weekday': 5800, 'duet': 5801, 'sprinkler': 5802, 'ichigo': 5803, 'contributor': 5804, 'werd': 5805, 'nos': 5806, 'kiwi': 5807, 'latin': 5808, 'evryon': 5809, 'symptom': 5810, 'comb': 5811, 'lobbi': 5812, 'blogher': 5813, 'adel': 5814, 'nirvana': 5815, 'quarantin': 5816, 'crossfit': 5817, 'bodyshop': 5818, 'klein': 5819, 'genuin': 5820, 'folder': 5821, 'ge': 5822, 'anthropomorph': 5823, 'sru': 5824, 'vado': 5825, 'cemetari': 5826, 'pleb': 5827, 'chillaxin': 5828, 'everbodi': 5829, 'whose': 5830, 'habbo': 5831, 'comix': 5832, 'stroll': 5833, 'gahhh': 5834, 'bam': 5835, 'atom': 5836, 'ein': 5837, 'yg': 5838, 'coooooooool': 5839, 'virtu': 5840, 'ruler': 5841, 'stereo': 5842, 'chomp': 5843, 'twitterr': 5844, 'titan': 5845, 'auction': 5846, 'beeri': 5847, 'intak': 5848, 'congratulatori': 5849, 'bsb': 5850, 'windsor': 5851, 'royal': 5852, 'thanxx': 5853, 'axsujx': 5854, 'pedro': 5855, 'rodney': 5856, 'manhattan': 5857, 'kraken': 5858, 'lettuc': 5859, 'freddi': 5860, 'bishop': 5861, 'sez': 5862, 'glu': 5863, 'unlock': 5864, 'decad': 5865, 'greta': 5866, 'cici': 5867, 'lousi': 5868, 'helsinki': 5869, 'esther': 5870, 'rhyme': 5871, 'investor': 5872, 'jester': 5873, 'pester': 5874, 'polyest': 5875, 'wil': 5876, 'tweeten': 5877, 'fallin': 5878, 'suitcas': 5879, 'unread': 5880, 'dota': 5881, 'frisbe': 5882, 'golfer': 5883, 'chiodo': 5884, 'elk': 5885, 'goooooood': 5886, 'twee': 5887, 'bck': 5888, 'frappuccino': 5889, 'lam': 5890, 'luvin': 5891, 'confession': 5892, 'aaawww': 5893, 'evi': 5894, 'effi': 5895, 'magento': 5896, 'amf': 5897, 'nadia': 5898, 'basshunt': 5899, 'clanci': 5900, 'grandkid': 5901, 'amt': 5902, 'jas': 5903, 'djing': 5904, 'roy': 5905, 'chachi': 5906, 'imovi': 5907, 'sixth': 5908, 'nicee': 5909, 'govern': 5910, 'wannab': 5911, 'ttfn': 5912, 'yeaa': 5913, 'iight': 5914, 'shuld': 5915, 'jello': 5916, 'tatum': 5917, 'cafeteria': 5918, 'vin': 5919, 'gmt': 5920, 'luigi': 5921, 'dazzl': 5922, 'scarf': 5923, 'hiatus': 5924, 'ulan': 5925, 'buti': 5926, 'claud': 5927, 'walker': 5928, 'freee': 5929, 'claudia': 5930, 'yeaaa': 5931, 'pratic': 5932, 'wong': 5933, 'hedg': 5934, 'dada': 5935, 'phoeb': 5936, 'qo': 5937, 'jeffre': 5938, 'rawk': 5939, 'empathis': 5940, 'bre': 5941, 'diaper': 5942, 'topgear': 5943, 'cornerston': 5944, 'grind': 5945, 'equival': 5946, 'captur': 5947, 'erni': 5948, 'homepag': 5949, 'fisher': 5950, 'skull': 5951, 'yoko': 5952, 'ono': 5953, 'wherev': 5954, 'menac': 5955, 'quash': 5956, 'heeeey': 5957, 'gaze': 5958, 'glitter': 5959, 'lettin': 5960, 'chandler': 5961, 'bcoz': 5962, 'divin': 5963, 'controversi': 5964, 'histor': 5965, 'htm': 5966, 'ard': 5967, 'reviv': 5968, 'tide': 5969, 'rollerblad': 5970, 'insert': 5971, 'silverston': 5972, 'tote': 5973, 'byeby': 5974, 'pulp': 5975, 'dismal': 5976, 'pmsl': 5977, 'wool': 5978, 'stash': 5979, 'reboot': 5980, 'bootcamp': 5981, 'quebec': 5982, 'ar': 5983, 'anddd': 5984, 'inflam': 5985, 'watkin': 5986, 'config': 5987, 'lia': 5988, 'liar': 5989, 'bm': 5990, 'carrot': 5991, 'reuter': 5992, 'lovelovelov': 5993, 'lsat': 5994, 'sleeeep': 5995, 'teller': 5996, 'boiler': 5997, 'beck': 5998, 'ek': 5999, 'nao': 6000, 'isi': 6001, 'tapeworm': 6002, 'raven': 6003, 'brewer': 6004, 'smooch': 6005, 'twilightguy': 6006, 'kalebn': 6007, 'virginia': 6008, 'tayo': 6009, 'whooop': 6010, 'busiest': 6011, 'moomi': 6012, 'hereeeee': 6013, 'maltes': 6014, 'sharon': 6015, 'eleph': 6016, 'stuart': 6017, 'fp': 6018, 'devo': 6019, 'cocoa': 6020, 'robina': 6021, 'spiritu': 6022, 'yesh': 6023, 'smokey': 6024, 'ob': 6025, 'sacr': 6026, 'hosp': 6027, 'sj': 6028, 'dishwash': 6029, 'insight': 6030, 'fuzzi': 6031, 'caleb': 6032, 'inconveni': 6033, 'sar': 6034, 'df': 6035, 'excruci': 6036, 'dawson': 6037, 'endang': 6038, 'kayo': 6039, 'inspit': 6040, 'dayss': 6041, 'sword': 6042, 'hunger': 6043, 'twitterfridg': 6044, 'jennif': 6045, 'garner': 6046, 'gina': 6047, 'riley': 6048, 'retriev': 6049, 'sweeney': 6050, 'mayo': 6051, 'morrrn': 6052, 'vicki': 6053, 'smudg': 6054, 'omgggg': 6055, 'belinda': 6056, 'vol': 6057, 'stint': 6058, 'safer': 6059, 'moleskin': 6060, 'lmk': 6061, 'splendid': 6062, 'muster': 6063, 'scenario': 6064, 'sholder': 6065, 'weeken': 6066, 'trunk': 6067, 'filter': 6068, 'ceas': 6069, 'geee': 6070, 'okc': 6071, 'presal': 6072, 'yaaaaaay': 6073, 'divorc': 6074, 'cholesterol': 6075, 'midnit': 6076, 'dangggg': 6077, 'juliet': 6078, 'bryant': 6079, 'eventhough': 6080, 'absent': 6081, 'christoph': 6082, 'goddess': 6083, 'owt': 6084, 'hyde': 6085, 'carr': 6086, 'crow': 6087, 'mai': 6088, 'blowin': 6089, 'zo': 6090, 'brawl': 6091, 'twittertakeov': 6092, 'wasssup': 6093, 'stefan': 6094, 'harrass': 6095, 'toll': 6096, 'brixton': 6097, 'fwd': 6098, 'tent': 6099, 'newish': 6100, 'fatigu': 6101, 'vivid': 6102, 'thooo': 6103, 'tame': 6104, 'nichola': 6105, 'speakeasi': 6106, 'whore': 6107, 'motorway': 6108, 'edwin': 6109, 'batch': 6110, 'bluetooth': 6111, 'vogu': 6112, 'angelina': 6113, 'cordova': 6114, 'profess': 6115, 'rita': 6116, 'heyya': 6117, 'fiona': 6118, 'gant': 6119, 'nutt': 6120, 'booni': 6121, 'acoust': 6122, 'carey': 6123, 'whee': 6124, 'porto': 6125, 'tub': 6126, 'resto': 6127, 'youngster': 6128, 'pita': 6129, 'euphoria': 6130, 'heyyyyy': 6131, 'nighttt': 6132, 'drinker': 6133, 'tehe': 6134, 'preserv': 6135, 'sabrina': 6136, 'sincer': 6137, 'uncontrol': 6138, 'txting': 6139, 'lub': 6140, 'adem': 6141, 'vcr': 6142, 'sho': 6143, 'tourney': 6144, 'alabama': 6145, 'underag': 6146, 'rpm': 6147, 'ventur': 6148, 'meatbal': 6149, 'knowww': 6150, 'yl': 6151, 'dayssss': 6152, 'phuket': 6153, 'unpleas': 6154, 'rye': 6155, 'reec': 6156, 'behalf': 6157, 'grave': 6158, 'maven': 6159, 'dim': 6160, 'feast': 6161, 'lumberjack': 6162, 'saynow': 6163, 'jbs': 6164, 'savvi': 6165, 'tucson': 6166, 'crunk': 6167, 'lafayett': 6168, 'wabbl': 6169, 'wade': 6170, 'nto': 6171, 'catalog': 6172, 'minist': 6173, 'rf': 6174, 'hendrix': 6175, 'bambi': 6176, 'frosti': 6177, 'harvard': 6178, 'reciev': 6179, 'oscar': 6180, 'cox': 6181, 'battlestar': 6182, 'galactica': 6183, 'shizzl': 6184, 'rsmv': 6185, 'anotha': 6186, 'pounc': 6187, 'tania': 6188, 'beverag': 6189, 'buffett': 6190, 'passport': 6191, 'wrestl': 6192, 'dirt': 6193, 'cauz': 6194, 'chicki': 6195, 'wavv': 6196, 'sunbeam': 6197, 'raffl': 6198, 'techi': 6199, 'immun': 6200, 'jelous': 6201, 'vinc': 6202, 'fx': 6203, 'kernel': 6204, 'snd': 6205, 'layin': 6206, 'txtin': 6207, 'dough': 6208, 'maxim': 6209, 'caddi': 6210, 'awwwwww': 6211, 'mammal': 6212, 'warhamm': 6213, 'gamer': 6214, 'explicit': 6215, 'awhhh': 6216, 'bej': 6217, 'potus': 6218, 'politico': 6219, 'soldier': 6220, 'blerg': 6221, 'repost': 6222, 'furbabi': 6223, 'saint': 6224, 'sleeeeep': 6225, 'enlighten': 6226, 'inclin': 6227, 'cera': 6228, 'shortag': 6229, 'madison': 6230, 'ashleigh': 6231, 'soonish': 6232, 'sabbeth': 6233, 'skinni': 6234, 'harper': 6235, 'xs': 6236, 'waffl': 6237, 'uy': 6238, 'los': 6239, 'memor': 6240, 'rohan': 6241, 'booboo': 6242, 'sia': 6243, 'fond': 6244, 'balloon': 6245, 'mcflyandjb': 6246, 'ashleighhh': 6247, 'sandal': 6248, 'wayn': 6249, 'bonni': 6250, 'colder': 6251, 'intrus': 6252, 'sleeper': 6253, 'walkin': 6254, 'tramp': 6255, 'stepmom': 6256, 'https': 6257, 'gpu': 6258, 'bid': 6259, 'wealth': 6260, 'pantri': 6261, 'trojan': 6262, 'corey': 6263, 'wich': 6264, 'rqo': 6265, 'ontd': 6266, 'sic': 6267, 'ummmnnn': 6268, 'rees': 6269, 'cass': 6270, 'kimbalici': 6271, 'yooo': 6272, 'heartbroken': 6273, 'kiyosaki': 6274, 'halt': 6275, 'bose': 6276, 'interupt': 6277, 'concur': 6278, 'helloooo': 6279, 'reborn': 6280, 'tk': 6281, 'cabinet': 6282, 'glori': 6283, 'pfff': 6284, 'sucksss': 6285, 'salut': 6286, 'vegi': 6287, 'wgn': 6288, 'bnl': 6289, 'lautner': 6290, 'overh': 6291, 'suspici': 6292, 'newlyw': 6293, 'rewrit': 6294, 'have': 6295, 'rashid': 6296, 'glee': 6297, 'pressi': 6298, 'omgsh': 6299, 'chingo': 6300, 'prodigi': 6301, 'skunk': 6302, 'jewelri': 6303, 'birdi': 6304, 'giv': 6305, 'daylight': 6306, 'keshia': 6307, 'misss': 6308, 'waaaah': 6309, 'everyoneeee': 6310, 'twitta': 6311, 'dint': 6312, 'guarante': 6313, 'cring': 6314, 'blahh': 6315, 'kiddi': 6316, 'von': 6317, 'deplurk': 6318, 'telescop': 6319, 'ib': 6320, 'graf': 6321, 'elvi': 6322, 'summari': 6323, 'asbesto': 6324, 'declar': 6325, 'courtesi': 6326, 'mpg': 6327, 'postal': 6328, 'ribena': 6329, 'financ': 6330, 'fgs': 6331, 'rawr': 6332, 'handz': 6333, 'collar': 6334, 'iraq': 6335, 'howi': 6336, 'loveeee': 6337, 'exp': 6338, 'booooooo': 6339, 'rosemari': 6340, 'cia': 6341, 'zune': 6342, 'sucka': 6343, 'daaay': 6344, 'rome': 6345, 'felin': 6346, 'diseas': 6347, 'rental': 6348, 'lovey': 6349, 'regim': 6350, 'hunk': 6351, 'fountain': 6352, 'strateg': 6353, 'waterfal': 6354, 'afterparti': 6355, 'beth': 6356, 'rlli': 6357, 'taipei': 6358, 'dreamwidth': 6359, 'sadder': 6360, 'chao': 6361, 'waitt': 6362, 'serena': 6363, 'confess': 6364, 'releg': 6365, 'prici': 6366, 'startin': 6367, 'nott': 6368, 'react': 6369, 'speci': 6370, 'jool': 6371, 'za': 6372, 'utd': 6373, 'luncheon': 6374, 'iam': 6375, 'probobl': 6376, 'geometri': 6377, 'fingernail': 6378, 'xoxoxo': 6379, 'laydown': 6380, 'esta': 6381, 'endometriosi': 6382, 'ai': 6383, 'portrait': 6384, 'sweeni': 6385, 'racket': 6386, 'caviti': 6387, 'vend': 6388, 'oregon': 6389, 'furri': 6390, 'rda': 6391, 'cla': 6392, 'revit': 6393, 'pembrok': 6394, 'sooooooooo': 6395, 'aguirr': 6396, 'caviar': 6397, 'phenomenon': 6398, 'neuro': 6399, 'mein': 6400, 'seesmic': 6401, 'interrupt': 6402, 'io': 6403, 'swede': 6404, 'degener': 6405, 'marshal': 6406, 'mina': 6407, 'sunniest': 6408, 'seventh': 6409, 'layer': 6410, 'bmth': 6411, 'truffl': 6412, 'shelf': 6413, 'cambodian': 6414, 'blanki': 6415, 'trace': 6416, 'trivia': 6417, 'knooow': 6418, 'alki': 6419, 'sandman': 6420, 'wound': 6421, 'refuge': 6422, 'persist': 6423, 'crazyangel': 6424, 'sorrri': 6425, 'woodstock': 6426, 'frine': 6427, 'bankruptci': 6428, 'vodafon': 6429, 'profit': 6430, 'aaaw': 6431, 'cuzz': 6432, 'fzo': 6433, 'embassi': 6434, 'ontario': 6435, 'proverb': 6436, 'therefor': 6437, 'deodor': 6438, 'funk': 6439, 'knott': 6440, 'waaah': 6441, 'cheeri': 6442, 'slope': 6443, 'durin': 6444, 'hatch': 6445, 'stapler': 6446, 'coupla': 6447, 'fist': 6448, 'phantom': 6449, 'newark': 6450, 'todayyyyyi': 6451, 'topshop': 6452, 'serenad': 6453, 'fritter': 6454, 'berra': 6455, 'qa': 6456, 'wbu': 6457, 'trendi': 6458, 'cougar': 6459, 'mj': 6460, 'shirtless': 6461, 'kel': 6462, 'malaysian': 6463, 'tagalog': 6464, 'terrif': 6465, 'unpaid': 6466, 'cashier': 6467, 'wath': 6468, 'twitterfon': 6469, 'diploma': 6470, 'opp': 6471, 'chant': 6472, 'sonic': 6473, 'letdown': 6474, 'chaper': 6475, 'hometown': 6476, 'thame': 6477, 'dcd': 6478, 'sesh': 6479, 'ideal': 6480, 'zemot': 6481, 'lm': 6482, 'spike': 6483, 'gy': 6484, 'iwond': 6485, 'howd': 6486, 'iget': 6487, 'kq': 6488, 'lint': 6489, 'absolutley': 6490, 'edmonton': 6491, 'arab': 6492, 'yuk': 6493, 'plop': 6494, 'wu': 6495, 'eeeeeee': 6496, 'sooth': 6497, 'evalu': 6498, 'douchebag': 6499, 'spaniel': 6500, 'rifl': 6501, 'fiasco': 6502, 'disband': 6503, 'highest': 6504, 'addin': 6505, 'roseann': 6506, 'cheryl': 6507, 'experiment': 6508, 'prescript': 6509, 'liek': 6510, 'yaa': 6511, 'midterm': 6512, 'yacht': 6513, 'convent': 6514, 'sy': 6515, 'niley': 6516, 'sterl': 6517, 'discret': 6518, 'techniqu': 6519, 'simplic': 6520, 'dilemma': 6521, 'sanfran': 6522, 'fractur': 6523, 'restur': 6524, 'wisconsin': 6525, 'shane': 6526, 'wohoo': 6527, 'edc': 6528, 'raimi': 6529, 'uptown': 6530, 'cao': 6531, 'faint': 6532, 'rocio': 6533, 'elj': 6534, 'awwh': 6535, 'onesi': 6536, 'chal': 6537, 'milwauke': 6538, 'debussi': 6539, 'qn': 6540, 'nin': 6541, 'kroger': 6542, 'asid': 6543, 'catwalk': 6544, 'backstreet': 6545, 'defens': 6546, 'tropic': 6547, 'mileston': 6548, 'bale': 6549, 'bonfir': 6550, 'lmfaoo': 6551, 'yessss': 6552, 'jedi': 6553, 'gretel': 6554, 'lavend': 6555, 'blur': 6556, 'momi': 6557, 'tss': 6558, 'gender': 6559, 'partyyyy': 6560, 'terra': 6561, 'aus': 6562, 'manga': 6563, 'sunset': 6564, 'loft': 6565, 'xxxxxxxx': 6566, 'cystic': 6567, 'owen': 6568, 'rear': 6569, 'ciao': 6570, 'soz': 6571, 'notion': 6572, 'laodicean': 6573, 'usd': 6574, 'ambien': 6575, 'ash': 6576, 'unholi': 6577, 'nerdi': 6578, 'crate': 6579, 'refriger': 6580, 'hbu': 6581, 'void': 6582, 'dps': 6583, 'travesti': 6584, 'complaint': 6585, 'voucher': 6586, 'fixrepli': 6587, 'asus': 6588, 'mead': 6589, 'platform': 6590, 'womp': 6591, 'shoud': 6592, 'crumpin': 6593, 'templ': 6594, 'donna': 6595, 'joyful': 6596, 'nico': 6597, 'blender': 6598, 'shi': 6599, 'equat': 6600, 'worship': 6601, 'baron': 6602, 'cuuuut': 6603, 'shaki': 6604, 'gfs': 6605, 'plaster': 6606, 'naughti': 6607, 'blackjack': 6608, 'gtg': 6609, 'seventeen': 6610, 'fila': 6611, 'kimba': 6612, 'anita': 6613, 'spite': 6614, 'damnnn': 6615, 'timee': 6616, 'sharapova': 6617, 'welliti': 6618, 'treadmil': 6619, 'haa': 6620, 'hale': 6621, 'disagre': 6622, 'seizur': 6623, 'hairdo': 6624, 'youuu': 6625, 'anni': 6626, 'satellit': 6627, 'krispi': 6628, 'kreme': 6629, 'fullest': 6630, 'drake': 6631, 'imperson': 6632, 'rhythm': 6633, 'nelli': 6634, 'leo': 6635, 'nigguh': 6636, 'yipe': 6637, 'exclam': 6638, 'textin': 6639, 'funnn': 6640, 'gilbert': 6641, 'bklyn': 6642, 'tweefight': 6643, 'castiel': 6644, 'pina': 6645, 'southend': 6646, 'niceeee': 6647, 'duvet': 6648, 'ui': 6649, 'omw': 6650, 'tore': 6651, 'picnik': 6652, 'abuzz': 6653, 'truong': 6654, 'nonsens': 6655, 'spendin': 6656, 'familia': 6657, 'lotteri': 6658, 'ligament': 6659, 'sashimi': 6660, 'sex': 6661, 'shipment': 6662, 'finsh': 6663, 'eleven': 6664, 'rfid': 6665, 'mug': 6666, 'poofi': 6667, 'ppls': 6668, 'cricket': 6669, 'tablet': 6670, 'hiiiiii': 6671, 'ahoy': 6672, 'bris': 6673, 'dustin': 6674, 'fey': 6675, 'uggg': 6676, 'grrh': 6677, 'prologu': 6678, 'canterburi': 6679, 'cola': 6680, 'evr': 6681, 'sci': 6682, 'distribut': 6683, 'worksheet': 6684, 'scotti': 6685, 'aargh': 6686, 'mcflyy': 6687, 'finali': 6688, 'mwahaha': 6689, 'stormi': 6690, 'gooooooood': 6691, 'jammi': 6692, 'notif': 6693, 'gw': 6694, 'iri': 6695, 'designia': 6696, 'ivi': 6697, 'vim': 6698, 'tscc': 6699, 'budapest': 6700, 'clapton': 6701, 'winwood': 6702, 'pimp': 6703, 'stile': 6704, 'chapman': 6705, 'dhpol': 6706, 'saddd': 6707, 'stripey': 6708, 'compos': 6709, 'maxin': 6710, 'sarcasm': 6711, 'sensat': 6712, 'workplac': 6713, 'exceed': 6714, 'yummmm': 6715, 'svm': 6716, 'fukin': 6717, 'unansw': 6718, 'projector': 6719, 'windoz': 6720, 'rec': 6721, 'hitman': 6722, 'muck': 6723, 'correspond': 6724, 'rz': 6725, 'charlott': 6726, 'forcast': 6727, 'kettl': 6728, 'uve': 6729, 'spencer': 6730, 'analyt': 6731, 'jillian': 6732, 'carlton': 6733, 'ruth': 6734, 'earbud': 6735, 'shure': 6736, 'accompani': 6737, 'carlil': 6738, 'roulett': 6739, 'gaah': 6740, 'iva': 6741, 'chowder': 6742, 'watson': 6743, 'arbit': 6744, 'woah': 6745, 'eztv': 6746, 'underwear': 6747, 'gash': 6748, 'kazim': 6749, 'bench': 6750, 'jakarta': 6751, 'dealership': 6752, 'underwood': 6753, 'chaperon': 6754, 'mend': 6755, 'consum': 6756, 'vat': 6757, 'kansa': 6758, 'theyv': 6759, 'loooooong': 6760, 'percent': 6761, 'toasti': 6762, 'subsid': 6763, 'keyword': 6764, 'pave': 6765, 'midst': 6766, 'achi': 6767, 'suckssss': 6768, 'iwa': 6769, 'levi': 6770, 'meredith': 6771, 'beaut': 6772, 'skateboard': 6773, 'autism': 6774, 'empathi': 6775, 'protest': 6776, 'marta': 6777, 'pope': 6778, 'wasabi': 6779, 'thi': 6780, 'bever': 6781, 'crazier': 6782, 'pov': 6783, 'sao': 6784, 'rainforest': 6785, 'rubber': 6786, 'mustang': 6787, 'hiss': 6788, 'ghetto': 6789, 'nita': 6790, 'ag': 6791, 'mx': 6792, 'vitamin': 6793, 'trilog': 6794, 'trackbal': 6795, 'coool': 6796, 'oatmeal': 6797, 'aghhh': 6798, 'das': 6799, 'roadtrip': 6800, 'udon': 6801, 'depart': 6802, 'vomit': 6803, 'takn': 6804, 'psh': 6805, 'pinkpop': 6806, 'autograph': 6807, 'svs': 6808, 'czech': 6809, 'republ': 6810, 'telli': 6811, 'alrighti': 6812, 'pyr': 6813, 'preprom': 6814, 'creator': 6815, 'sleepless': 6816, 'cm': 6817, 'sicken': 6818, 'torment': 6819, 'dz': 6820, 'gorilla': 6821, 'scion': 6822, 'fiesta': 6823, 'squash': 6824, 'jazzi': 6825, 'sumon': 6826, 'mpre': 6827, 'rosco': 6828, 'racer': 6829, 'allegra': 6830, 'inhal': 6831, 'rel': 6832, 'wardrob': 6833, 'congratss': 6834, 'sadfac': 6835, 'slush': 6836, 'huaaaa': 6837, 'gila': 6838, 'technician': 6839, 'depriv': 6840, 'ku': 6841, 'ribbon': 6842, 'aspir': 6843, 'reflux': 6844, 'phoenixfm': 6845, 'partyyyyi': 6846, 'alter': 6847, 'okayyy': 6848, 'lasagna': 6849, 'fasho': 6850, 'impact': 6851, 'blatant': 6852, 'pragu': 6853, 'implement': 6854, 'pagin': 6855, 'trina': 6856, 'hoover': 6857, 'gremlin': 6858, 'whatchu': 6859, 'fantasi': 6860, 'stocktwit': 6861, 'mogwai': 6862, 'arthriti': 6863, 'squat': 6864, 'charleston': 6865, 'tremend': 6866, 'cain': 6867, 'fic': 6868, 'funn': 6869, 'bawa': 6870, 'rachael': 6871, 'chaser': 6872, 'upper': 6873, 'lollll': 6874, 'mak': 6875, 'bbm': 6876, 'breez': 6877, 'stir': 6878, 'scum': 6879, 'yas': 6880, 'sen': 6881, 'moral': 6882, 'matey': 6883, 'suzi': 6884, 'eq': 6885, 'wingstop': 6886, 'md': 6887, 'moldovan': 6888, 'javascript': 6889, 'lice': 6890, 'centuri': 6891, 'igloo': 6892, 'cyber': 6893, 'collab': 6894, 'alicia': 6895, 'nappi': 6896, 'cu': 6897, 'protein': 6898, 'munchkin': 6899, 'leonardo': 6900, 'wiser': 6901, 'neuroanatomi': 6902, 'penalti': 6903, 'unhealthi': 6904, 'medal': 6905, 'righ': 6906, 'footprint': 6907, 'liberti': 6908, 'reopen': 6909, 'flare': 6910, 'icurv': 6911, 'triumph': 6912, 'coordin': 6913, 'beneath': 6914, 'schoolmat': 6915, 'fender': 6916, 'kwod': 6917, 'workk': 6918, 'unoffici': 6919, 'jeep': 6920, 'hayward': 6921, 'num': 6922, 'surreal': 6923, 'eta': 6924, 'grubbi': 6925, 'topifi': 6926, 'diggnat': 6927, 'jjj': 6928, 'ralli': 6929, 'yippee': 6930, 'smfh': 6931, 'jager': 6932, 'calculus': 6933, 'killen': 6934, 'nae': 6935, 'basto': 6936, 'stil': 6937, 'advis': 6938, 'atlanta': 6939, 'lt': 6940, 'newt': 6941, 'austria': 6942, 'carmen': 6943, 'mv': 6944, 'troubleshoot': 6945, 'unavail': 6946, 'extinct': 6947, 'shudder': 6948, 'dal': 6949, 'palac': 6950, 'comeback': 6951, 'upstair': 6952, 'wealthi': 6953, 'precis': 6954, 'chattin': 6955, 'nearest': 6956, 'souffl': 6957, 'montanna': 6958, 'cardboard': 6959, 'cheapi': 6960, 'wooop': 6961, 'tti': 6962, 'kirsti': 6963, 'psn': 6964, 'albeit': 6965, 'judgement': 6966, 'lancast': 6967, 'htown': 6968, 'octopus': 6969, 'fragranc': 6970, 'anthem': 6971, 'belt': 6972, 'shore': 6973, 'plce': 6974, 'cvs': 6975, 'fiddl': 6976, 'workload': 6977, 'gumbo': 6978, 'tommorrow': 6979, 'smug': 6980, 'blower': 6981, 'spectacular': 6982, 'swimsuit': 6983, 'thang': 6984, 'carnt': 6985, 'murphi': 6986, 'segment': 6987, 'uff': 6988, 'niko': 6989, 'vermont': 6990, 'overjoy': 6991, 'tto': 6992, 'pharmaci': 6993, 'composit': 6994, 'qw': 6995, 'cb': 6996, 'guard': 6997, 'blowout': 6998, 'dynasti': 6999, 'agreement': 7000, 'bronco': 7001, 'chief': 7002, 'chalet': 7003, 'snot': 7004, 'fuzz': 7005, 'friendorfollow': 7006, 'rainbow': 7007, 'chevr': 7008, 'nobl': 7009, 'ov': 7010, 'retreat': 7011, 'ina': 7012, 'abram': 7013, 'loui': 7014, 'warrior': 7015, 'bon': 7016, 'cp': 7017, 'hooki': 7018, 'contrari': 7019, 'velvet': 7020, 'dion': 7021, 'hottest': 7022, 'illustr': 7023, 'lullabi': 7024, 'woooooo': 7025, 'ketchup': 7026, 'barley': 7027, 'jour': 7028, 'palin': 7029, 'remark': 7030, 'scrabbl': 7031, 'dutch': 7032, 'xt': 7033, 'pei': 7034, 'audi': 7035, 'uo': 7036, 'chiro': 7037, 'kayleigh': 7038, 'fubumvc': 7039, 'saddo': 7040, 'gracious': 7041, 'britt': 7042, 'backstag': 7043, 'nyquil': 7044, 'shawti': 7045, 'nun': 7046, 'devi': 7047, 'tonigh': 7048, 'treasur': 7049, 'extract': 7050, 'belgium': 7051, 'drat': 7052, 'qljyb': 7053, 'hillsong': 7054, 'pajama': 7055, 'rickbak': 7056, 'caption': 7057, 'tiim': 7058, 'brag': 7059, 'ihat': 7060, 'thanki': 7061, 'fastest': 7062, 'mont': 7063, 'misconstru': 7064, 'qs': 7065, 'needless': 7066, 'spf': 7067, 'sunbath': 7068, 'hdd': 7069, 'wf': 7070, 'pd': 7071, 'cincinnati': 7072, 'matilda': 7073, 'madam': 7074, 'defrag': 7075, 'witch': 7076, 'hehee': 7077, 'tighten': 7078, 'evernot': 7079, 'thm': 7080, 'arrow': 7081, 'gromit': 7082, 'goooood': 7083, 'mcm': 7084, 'howeva': 7085, 'haul': 7086, 'effici': 7087, 'outdat': 7088, 'whatnot': 7089, 'godaw': 7090, 'waikiki': 7091, 'fucktard': 7092, 'vcenter': 7093, 'djs': 7094, 'fuss': 7095, 'incorpor': 7096, 'ambul': 7097, 'warbler': 7098, 'lillysan': 7099, 'colbert': 7100, 'incas': 7101, 'pitti': 7102, 'wld': 7103, 'firewir': 7104, 'oooooo': 7105, 'bandwagon': 7106, 'unf': 7107, 'gus': 7108, 'tiesto': 7109, 'tdl': 7110, 'affili': 7111, 'grl': 7112, 'pest': 7113, 'nuthin': 7114, 'leap': 7115, 'mg': 7116, 'skye': 7117, 'foundat': 7118, 'klutz': 7119, 'fare': 7120, 'poland': 7121, 'boredddd': 7122, 'buffi': 7123, 'kane': 7124, 'awwwwwwwwww': 7125, 'nocturn': 7126, 'gq': 7127, 'butler': 7128, 'chester': 7129, 'sunris': 7130, 'deepli': 7131, 'unlov': 7132, 'backach': 7133, 'bobbi': 7134, 'oopsi': 7135, 'pete': 7136, 'compet': 7137, 'coin': 7138, 'worki': 7139, 'darren': 7140, 'transpar': 7141, 'nx': 7142, 'dg': 7143, 'flesh': 7144, 'custard': 7145, 'atmo': 7146, 'tipsi': 7147, 'errr': 7148, 'bitter': 7149, 'favour': 7150, 'bikini': 7151, 'clemson': 7152, 'hound': 7153, 'bent': 7154, 'rae': 7155, 'orillia': 7156, 'arsenal': 7157, 'prick': 7158, 'pennsylvania': 7159, 'fisch': 7160, 'cece': 7161, 'venezuela': 7162, 'architectur': 7163, 'sytycd': 7164, 'spreadsheet': 7165, 'cudv': 7166, 'kdg': 7167, 'everrr': 7168, 'loool': 7169, 'silverlight': 7170, 'irregular': 7171, 'unload': 7172, 'davey': 7173, 'flour': 7174, 'tortilla': 7175, 'png': 7176, 'weho': 7177, 'sprint': 7178, 'philadelphia': 7179, 'setup': 7180, 'orphan': 7181, 'subconsci': 7182, 'pms': 7183, 'jill': 7184, 'ble': 7185, 'textbook': 7186, 'hahahahahaha': 7187, 'tl': 7188, 'johnathan': 7189, 'grim': 7190, 'guten': 7191, 'morgen': 7192, 'prima': 7193, 'alt': 7194, 'sau': 7195, 'wos': 7196, 'webcast': 7197, 'seuss': 7198, 'sorcha': 7199, 'lata': 7200, 'dio': 7201, 'mio': 7202, 'mere': 7203, 'railsbridg': 7204, 'ira': 7205, 'vers': 7206, 'suss': 7207, 'drivin': 7208, 'interfac': 7209, 'outag': 7210, 'naww': 7211, 'eeee': 7212, 'twikini': 7213, 'tomoz': 7214, 'moss': 7215, 'deeper': 7216, 'column': 7217, 'democrat': 7218, 'panther': 7219, 'unbeliev': 7220, 'fundrais': 7221, 'guin': 7222, 'tomorroww': 7223, 'noggin': 7224, 'bamboo': 7225, 'ofici': 7226, 'lenni': 7227, 'bulgaria': 7228, 'napa': 7229, 'spay': 7230, 'justwatch': 7231, 'cricinfo': 7232, 'mxlcuv': 7233, 'loo': 7234, 'accent': 7235, 'magner': 7236, 'latter': 7237, 'popsicl': 7238, 'eminem': 7239, 'gown': 7240, 'recoup': 7241, 'yarn': 7242, 'rusti': 7243, 'cadburi': 7244, 'sooon': 7245, 'ned': 7246, 'brekki': 7247, 'durian': 7248, 'abbey': 7249, 'rehab': 7250, 'anyday': 7251, 'libbi': 7252, 'align': 7253, 'sensit': 7254, 'seein': 7255, 'thaank': 7256, 'nit': 7257, 'crazii': 7258, 'ave': 7259, 'dunn': 7260, 'mwah': 7261, 'crowdsourc': 7262, 'eo': 7263, 'iya': 7264, 'varnish': 7265, 'strict': 7266, 'housework': 7267, 'giver': 7268, 'trainer': 7269, 'mozilla': 7270, 'lamesauc': 7271, 'wacki': 7272, 'crikey': 7273, 'clumsi': 7274, 'insist': 7275, 'humbug': 7276, 'forbidden': 7277, 'musso': 7278, 'enought': 7279, 'ultrasound': 7280, 'surguri': 7281, 'misunderstood': 7282, 'val': 7283, 'lonley': 7284, 'ceil': 7285, 'drawer': 7286, 'benjamin': 7287, 'noseble': 7288, 'barbecu': 7289, 'froggi': 7290, 'shuck': 7291, 'nc': 7292, 'asda': 7293, 'jose': 7294, 'spontan': 7295, 'beatweetup': 7296, 'camcord': 7297, 'poss': 7298, 'razer': 7299, 'everton': 7300, 'swarm': 7301, 'plzz': 7302, 'heartless': 7303, 'ver': 7304, 'raider': 7305, 'chez': 7306, 'languish': 7307, 'api': 7308, 'repierc': 7309, 'crepe': 7310, 'kerri': 7311, 'overdo': 7312, 'bien': 7313, 'qik': 7314, 'whatsoev': 7315, 'threee': 7316, 'roxi': 7317, 'rode': 7318, 'telephon': 7319, 'wn': 7320, 'inventor': 7321, 'apologis': 7322, 'queer': 7323, 'whitsun': 7324, 'deeeeseart': 7325, 'lmfaoooo': 7326, 'caf': 7327, 'weepi': 7328, 'kickass': 7329, 'chennai': 7330, 'assur': 7331, 'indonesia': 7332, 'trolley': 7333, 'pusher': 7334, 'tuner': 7335, 'fa': 7336, 'ion': 7337, 'shld': 7338, 'gameboy': 7339, 'vpn': 7340, 'trak': 7341, 'bargain': 7342, 'thoughh': 7343, 'lexi': 7344, 'pku': 7345, 'twigga': 7346, 'ayo': 7347, 'wayi': 7348, 'frighten': 7349, 'pox': 7350, 'buttercup': 7351, 'abbrevi': 7352, 'valkyria': 7353, 'dissapear': 7354, 'mower': 7355, 'snjen': 7356, 'una': 7357, 'carb': 7358, 'alzheim': 7359, 'maniac': 7360, 'het': 7361, 'lowest': 7362, 'bloggerif': 7363, 'accus': 7364, 'twtvite': 7365, 'gentl': 7366, 'newli': 7367, 'shelbi': 7368, 'plastic': 7369, 'vfc': 7370, 'dayn': 7371, 'worcest': 7372, 'pollard': 7373, 'looooov': 7374, 'portsmouth': 7375, 'terrifi': 7376, 'boulder': 7377, 'abid': 7378, 'despair': 7379, 'earthquak': 7380, 'subt': 7381, 'pine': 7382, 'paypal': 7383, 'twiter': 7384, 'prettier': 7385, 'southern': 7386, 'jinx': 7387, 'anyhow': 7388, 'cori': 7389, 'unopen': 7390, 'shipwreck': 7391, 'meeeeeeee': 7392, 'ceo': 7393, 'header': 7394, 'unplug': 7395, 'snif': 7396, 'sophomor': 7397, 'harlow': 7398, 'tinyp': 7399, 'nambu': 7400, 'hs': 7401, 'perk': 7402, 'mixer': 7403, 'satan': 7404, 'aero': 7405, 'borin': 7406, 'nab': 7407, 'swallow': 7408, 'mu': 7409, 'polo': 7410, 'pingpong': 7411, 'collabor': 7412, 'yaaaaaaay': 7413, 'ladybug': 7414, 'chino': 7415, 'gentleman': 7416, 'sundress': 7417, 'gap': 7418, 'sherbert': 7419, 'boohoo': 7420, 'panel': 7421, 'gail': 7422, 'kart': 7423, 'garbag': 7424, 'decod': 7425, 'skater': 7426, 'hahhaa': 7427, 'mono': 7428, 'lok': 7429, 'pta': 7430, 'knockout': 7431, 'pros': 7432, 'burr': 7433, 'getaway': 7434, 'energ': 7435, 'kaya': 7436, 'nomatt': 7437, 'superpow': 7438, 'limo': 7439, 'writersblock': 7440, 'foxi': 7441, 'tennant': 7442, 'ericka': 7443, 'nowww': 7444, 'frick': 7445, 'confusin': 7446, 'yeaah': 7447, 'vibrat': 7448, 'pebbl': 7449, 'mochi': 7450, 'vice': 7451, 'bullet': 7452, 'sukk': 7453, 'mga': 7454, 'lng': 7455, 'porter': 7456, 'trigger': 7457, 'blackhawk': 7458, 'ykyat': 7459, 'didgeridoo': 7460, 'bahama': 7461, 'myka': 7462, 'departur': 7463, 'lamer': 7464, 'shrug': 7465, 'plumber': 7466, 'nuttin': 7467, 'unbear': 7468, 'screamin': 7469, 'vine': 7470, 'schooler': 7471, 'longboard': 7472, 'ame': 7473, 'trauma': 7474, 'canberra': 7475, 'halloween': 7476, 'incid': 7477, 'debug': 7478, 'daw': 7479, 'pipe': 7480, 'lemsip': 7481, 'mcmuffin': 7482, 'wikileak': 7483, 'geht': 7484, 'fcking': 7485, 'danica': 7486, 'elliot': 7487, 'prior': 7488, 'piper': 7489, 'btches': 7490, 'dart': 7491, 'nightlif': 7492, 'oversea': 7493, 'globe': 7494, 'tunnel': 7495, 'cliff': 7496, 'spotlight': 7497, 'anh': 7498, 'bif': 7499, 'meann': 7500, 'sli': 7501, 'unnecessari': 7502, 'airbrush': 7503, 'dome': 7504, 'mosh': 7505, 'crumb': 7506, 'southland': 7507, 'kathleen': 7508, 'gta': 7509, 'stacey': 7510, 'candac': 7511, 'bubba': 7512, 'gay': 7513, 'tyre': 7514, 'mario': 7515, 'tove': 7516, 'helicopt': 7517, 'sgt': 7518, 'mening': 7519, 'disinfect': 7520, 'chota': 7521, 'scariest': 7522, 'pace': 7523, 'hoursnz': 7524, 'fanni': 7525, 'homeee': 7526, 'pao': 7527, 'reminis': 7528, 'cisco': 7529, 'shopahol': 7530, 'josiah': 7531, 'ming': 7532, 'wednesay': 7533, 'haley': 7534, 'parc': 7535, 'wd': 7536, 'instructor': 7537, 'bugl': 7538, 'blahhh': 7539, 'shaanxi': 7540, 'mf': 7541, 'tweeet': 7542, 'moncton': 7543, 'qx': 7544, 'chihuahua': 7545, 'slater': 7546, 'lookout': 7547, 'measur': 7548, 'thro': 7549, 'urvv': 7550, 'marg': 7551, 'peppermint': 7552, 'baguio': 7553, 'reg': 7554, 'perspect': 7555, 'embarras': 7556, 'cheaptweet': 7557, 'pendant': 7558, 'sketchi': 7559, 'environment': 7560, 'lappytop': 7561, 'seamless': 7562, 'uggh': 7563, 'frenchi': 7564, 'complex': 7565, 'debut': 7566, 'decemberist': 7567, 'quiero': 7568, 'nigh': 7569, 'watt': 7570, 'cleanin': 7571, 'onnnn': 7572, 'bloomington': 7573, 'roman': 7574, 'render': 7575, 'terabyt': 7576, 'fightin': 7577, 'twiterfon': 7578, 'orchestra': 7579, 'leann': 7580, 'wernt': 7581, 'frenz': 7582, 'laze': 7583, 'mas': 7584, 'lunchtim': 7585, 'teleport': 7586, 'boa': 7587, 'embarass': 7588, 'uss': 7589, 'krystl': 7590, 'prime': 7591, 'metr': 7592, 'priest': 7593, 'fkn': 7594, 'glitch': 7595, 'amateur': 7596, 'barbequ': 7597, 'ensur': 7598, 'nettl': 7599, 'selv': 7600, 'magnet': 7601, 'chauffeur': 7602, 'tm': 7603, 'lad': 7604, 'whys': 7605, 'puerto': 7606, 'hilton': 7607, 'florist': 7608, 'firt': 7609, 'papaya': 7610, 'oll': 7611, 'consumpt': 7612, 'andr': 7613, 'loom': 7614, 'myy': 7615, 'roundtabl': 7616, 'muna': 7617, 'rq': 7618, 'maaaaaan': 7619, 'rena': 7620, 'oakland': 7621, 'rember': 7622, 'orthodontist': 7623, 'wrangler': 7624, 'pakistan': 7625, 'pasadena': 7626, 'riversid': 7627, 'eas': 7628, 'livingroom': 7629, 'regal': 7630, 'princeton': 7631, 'carla': 7632, 'leaf': 7633, 'arun': 7634, 'broodi': 7635, 'gummi': 7636, 'adium': 7637, 'hacker': 7638, 'pinki': 7639, 'shouldv': 7640, 'sheffield': 7641, 'redirect': 7642, 'western': 7643, 'ub': 7644, 'gtalk': 7645, 'bois': 7646, 'fondu': 7647, 'revel': 7648, 'abroad': 7649, 'asshol': 7650, 'blueberri': 7651, 'biscuit': 7652, 'lotsa': 7653, 'heir': 7654, 'bookbag': 7655, 'tiredd': 7656, 'thompson': 7657, 'nowaday': 7658, 'mis': 7659, 'harley': 7660, 'juga': 7661, 'seatbelt': 7662, 'groupi': 7663, 'archetyp': 7664, 'broth': 7665, 'loic': 7666, 'fgxd': 7667, 'jerm': 7668, 'hover': 7669, 'yee': 7670, 'gloss': 7671, 'thoe': 7672, 'groom': 7673, 'racquet': 7674, 'harney': 7675, 'abi': 7676, 'chelsey': 7677, 'huntsvill': 7678, 'tribut': 7679, 'evict': 7680, 'frend': 7681, 'ther': 7682, 'tottali': 7683, 'bffs': 7684, 'payday': 7685, 'modest': 7686, 'hayl': 7687, 'ohmygod': 7688, 'companion': 7689, 'eastern': 7690, 'derbyshir': 7691, 'resid': 7692, 'handmad': 7693, 'fren': 7694, 'housem': 7695, 'preciat': 7696, 'mmot': 7697, 'buyer': 7698, 'thorough': 7699, 'inning': 7700, 'traitor': 7701, 'atlas': 7702, 'holdin': 7703, 'haaa': 7704, 'imm': 7705, 'lens': 7706, 'rearrang': 7707, 'fifti': 7708, 'jammin': 7709, 'mare': 7710, 'tot': 7711, 'ethnic': 7712, 'bulb': 7713, 'pdf': 7714, 'byeeee': 7715, 'midway': 7716, 'makerfair': 7717, 'ritz': 7718, 'footi': 7719, 'hallooo': 7720, 'turnout': 7721, 'paperback': 7722, 'profound': 7723, 'harbour': 7724, 'yip': 7725, 'dodgi': 7726, 'midget': 7727, 'courtney': 7728, 'shopper': 7729, 'sprinkl': 7730, 'mish': 7731, 'downfal': 7732, 'cater': 7733, 'penguin': 7734, 'pooch': 7735, 'tisk': 7736, 'oracl': 7737, 'pleaseeeee': 7738, 'readyyi': 7739, 'stapl': 7740, 'aquat': 7741, 'christa': 7742, 'affair': 7743, 'luk': 7744, 'polli': 7745, 'reiki': 7746, 'reconnect': 7747, 'baad': 7748, 'ale': 7749, 'inhabit': 7750, 'rn': 7751, 'ahn': 7752, 'dupe': 7753, 'shoo': 7754, 'stinkin': 7755, 'obnoxi': 7756, 'hanna': 7757, 'hte': 7758, 'ashington': 7759, 'ej': 7760, 'rumor': 7761, 'phenomen': 7762, 'hammock': 7763, 'gaskarth': 7764, 'gl': 7765, 'tuh': 7766, 'benedryl': 7767, 'enthusiasm': 7768, 'heineken': 7769, 'valentino': 7770, 'elmo': 7771, 'sol': 7772, 'watir': 7773, 'wowzer': 7774, 'rape': 7775, 'robbi': 7776, 'gp': 7777, 'janeiro': 7778, 'valentin': 7779, 'empireonlin': 7780, 'allison': 7781, 'cornwal': 7782, 'dale': 7783, 'bron': 7784, 'lineup': 7785, 'peg': 7786, 'cuter': 7787, 'calcutta': 7788, 'fathom': 7789, 'yorkshir': 7790, 'cld': 7791, 'autofollow': 7792, 'haunt': 7793, 'strategi': 7794, 'gene': 7795, 'wha': 7796, 'cower': 7797, 'vocab': 7798, 'oldest': 7799, 'luff': 7800, 'migr': 7801, 'port': 7802, 'cellphon': 7803, 'institut': 7804, 'chav': 7805, 'chrissi': 7806, 'bacardi': 7807, 'beij': 7808, 'poia': 7809, 'buckl': 7810, 'inan': 7811, 'practis': 7812, 'dreamin': 7813, 'morley': 7814, 'hawthorn': 7815, 'sicki': 7816, 'ls': 7817, 'sod': 7818, 'kennel': 7819, 'yal': 7820, 'overkil': 7821, 'rapid': 7822, 'plato': 7823, 'moe': 7824, 'trs': 7825, 'myst': 7826, 'woooo': 7827, 'vis': 7828, 'touchin': 7829, 'spielburg': 7830, 'deari': 7831, 'tassi': 7832, 'notori': 7833, 'biatch': 7834, 'conspiraci': 7835, 'preced': 7836, 'quest': 7837, 'stressin': 7838, 'shooter': 7839, 'moder': 7840, 'dez': 7841, 'badluck': 7842, 'claw': 7843, 'reliev': 7844, 'ipa': 7845, 'dixon': 7846, 'finland': 7847, 'vienna': 7848, 'grrrrrrr': 7849, 'certif': 7850, 'watermelon': 7851, 'dom': 7852, 'fro': 7853, 'odyssey': 7854, 'rrod': 7855, 'klemm': 7856, 'mccoy': 7857, 'cert': 7858, 'recognit': 7859, 'twibe': 7860, 'liesgirlstel': 7861, 'thq': 7862, 'loan': 7863, 'forreal': 7864, 'thud': 7865, 'mtn': 7866, 'goto': 7867, 'outlin': 7868, 'censor': 7869, 'uniform': 7870, 'lifesav': 7871, 'tf': 7872, 'carson': 7873, 'unhook': 7874, 'aa': 7875, 'coolio': 7876, 'whitney': 7877, 'maker': 7878, 'hungari': 7879, 'clown': 7880, 'karen': 7881, 'bucket': 7882, 'oui': 7883, 'jew': 7884, 'racist': 7885, 'yeahhhhh': 7886, 'carniv': 7887, 'beeen': 7888, 'gocincinnati': 7889, 'streamlin': 7890, 'larri': 7891, 'bacc': 7892, 'wegman': 7893, 'aboard': 7894, 'lapit': 7895, 'sike': 7896, 'bruno': 7897, 'nanci': 7898, 'cleveland': 7899, 'missus': 7900, 'yous': 7901, 'cheesey': 7902, 'wakey': 7903, 'clarifi': 7904, 'cheerio': 7905, 'fianc': 7906, 'loveli': 7907, 'afaik': 7908, 'thorn': 7909, 'dw': 7910, 'layn': 7911, 'thot': 7912, 'chemo': 7913, 'leon': 7914, 'bball': 7915, 'bulki': 7916, 'yn': 7917, 'harmless': 7918, 'grabe': 7919, 'pala': 7920, 'kaloka': 7921, 'signup': 7922, 'ee': 7923, 'farro': 7924, 'bridal': 7925, 'shred': 7926, 'toothbrush': 7927, 'colossus': 7928, 'same': 7929, 'alejandra': 7930, 'redeem': 7931, 'rhubarb': 7932, 'afteral': 7933, 'ladyhawk': 7934, 'trough': 7935, 'dispos': 7936, 'andd': 7937, 'qot': 7938, 'detent': 7939, 'lr': 7940, 'amorsot': 7941, 'cebu': 7942, 'tooooooo': 7943, 'sup': 7944, 'wacom': 7945, 'eg': 7946, 'properti': 7947, 'cave': 7948, 'paracetamol': 7949, 'navi': 7950, 'mor': 7951, 'playtim': 7952, 'kp': 7953, 'niamh': 7954, 'malaria': 7955, 'parasit': 7956, 'torrent': 7957, 'rem': 7958, 'camper': 7959, 'underscor': 7960, 'selfridg': 7961, 'signific': 7962, 'miracl': 7963, 'onward': 7964, 'uno': 7965, 'jenn': 7966, 'dito': 7967, 'sayang': 7968, 'fuckkk': 7969, 'apathet': 7970, 'desert': 7971, 'pgpm': 7972, 'nahh': 7973, 'beav': 7974, 'playerst': 7975, 'illi': 7976, 'fallon': 7977, 'skit': 7978, 'ij': 7979, 'dampen': 7980, 'sceni': 7981, 'zv': 7982, 'whoot': 7983, 'puter': 7984, 'jfg': 7985, 'commerc': 7986, 'hanson': 7987, 'kobe': 7988, 'geocach': 7989, 'hhigd': 7990, 'fischer': 7991, 'reluct': 7992, 'gether': 7993, 'thistl': 7994, 'grizzli': 7995, 'irc': 7996, 'spec': 7997, 'duo': 7998, 'paig': 7999, 'pod': 8000, 'hummmmm': 8001, 'humma': 8002, 'boystown': 8003, 'luvvv': 8004, 'drope': 8005, 'buuuut': 8006, 'novi': 8007, 'twinz': 8008, 'noic': 8009, 'detour': 8010, 'redskin': 8011, 'jansen': 8012, 'tension': 8013, 'boredd': 8014, 'erinchard': 8015, 'sophia': 8016, 'textmat': 8017, 'tryout': 8018, 'kt': 8019, 'isp': 8020, 'tatami': 8021, 'milano': 8022, 'clutter': 8023, 'twitterspher': 8024, 'varieti': 8025, 'cosplay': 8026, 'pavement': 8027, 'und': 8028, 'shish': 8029, 'penni': 8030, 'slumdog': 8031, 'stockholm': 8032, 'evri': 8033, 'tivo': 8034, 'bsc': 8035, 'perv': 8036, 'ipswitch': 8037, 'smoki': 8038, 'ama': 8039, 'furlough': 8040, 'pointi': 8041, 'excedrin': 8042, 'sher': 8043, 'pau': 8044, 'pasti': 8045, 'kbs': 8046, 'superb': 8047, 'sandi': 8048, 'shw': 8049, 'oq': 8050, 'dippin': 8051, 'healthcar': 8052, 'permiss': 8053, 'twitch': 8054, 'nai': 8055, 'ick': 8056, 'stewart': 8057, 'daughtri': 8058, 'advil': 8059, 'oasi': 8060, 'ist': 8061, 'aaaa': 8062, 'execut': 8063, 'lodg': 8064, 'tweetstat': 8065, 'expand': 8066, 'cristal': 8067, 'alia': 8068, 'among': 8069, 'shitttt': 8070, 'bldg': 8071, 'kl': 8072, 'coff': 8073, 'bitchi': 8074, 'summit': 8075, 'backord': 8076, 'godfath': 8077, 'swelter': 8078, 'stuffier': 8079, 'gymnast': 8080, 'mii': 8081, 'bead': 8082, 'hinder': 8083, 'len': 8084, 'ecolog': 8085, 'stud': 8086, 'hank': 8087, 'accadent': 8088, 'over': 8089, 'poorer': 8090, 'omlett': 8091, 'whataburg': 8092, 'ayt': 8093, 'netherland': 8094, 'melb': 8095, 'yeaaah': 8096, 'fruiti': 8097, 'permit': 8098, 'northland': 8099, 'voegel': 8100, 'jalan': 8101, 'pumpkin': 8102, 'outdoor': 8103, 'bark': 8104, 'gareth': 8105, 'cna': 8106, 'betta': 8107, 'skyfir': 8108, 'specialist': 8109, 'dayyy': 8110, 'sodahead': 8111, 'irrespons': 8112, 'waht': 8113, 'annapoli': 8114, 'differnt': 8115, 'getcha': 8116, 'litl': 8117, 'maaan': 8118, 'toro': 8119, 'unparallel': 8120, 'dean': 8121, 'cheshir': 8122, 'retak': 8123, 'xmas': 8124, 'quinn': 8125, 'length': 8126, 'vn': 8127, 'adriana': 8128, 'outttt': 8129, 'fukn': 8130, 'reagan': 8131, 'netbook': 8132, 'kimmi': 8133, 'phat': 8134, 'dawg': 8135, 'kev': 8136, 'cranberri': 8137, 'madaya': 8138, 'nga': 8139, 'brickman': 8140, 'funtim': 8141, 'homesick': 8142, 'angus': 8143, 'priorit': 8144, 'vision': 8145, 'disast': 8146, 'futil': 8147, 'wilson': 8148, 'tweetin': 8149, 'fanta': 8150, 'lighten': 8151, 'chopper': 8152, 'kin': 8153, 'funnier': 8154, 'birthdayi': 8155, 'cassidi': 8156, 'centigrad': 8157, 'elizabeth': 8158, 'windshield': 8159, 'wiper': 8160, 'npr': 8161, 'khan': 8162, 'gabba': 8163, 'hadnt': 8164, 'ethic': 8165, 'lahiran': 8166, 'yanke': 8167, 'stamina': 8168, 'kii': 8169, 'fack': 8170, 'kelley': 8171, 'defeat': 8172, 'nurburgr': 8173, 'immens': 8174, 'bh': 8175, 'chamber': 8176, 'ore': 8177, 'jenkin': 8178, 'cautious': 8179, 'adt': 8180, 'fernanda': 8181, 'zfx': 8182, 'mybrut': 8183, 'lv': 8184, 'sensei': 8185, 'flavour': 8186, 'battleground': 8187, 'obv': 8188, 'knoxvill': 8189, 'coloss': 8190, 'macadamia': 8191, 'caca': 8192, 'crs': 8193, 'imput': 8194, 'allianz': 8195, 'psi': 8196, 'tita': 8197, 'codi': 8198, 'dothebounci': 8199, 'smf': 8200, 'shameless': 8201, 'env': 8202, 'mnf': 8203, 'kw': 8204, 'kirin': 8205, 'metamorph': 8206, 'rebooti': 8207, 'foll': 8208, 'friiday': 8209, 'llower': 8210, 'fillin': 8211, 'berkeleyi': 8212, 'whassqoodd': 8213, 'dahy': 8214, 'bmi': 8215, 'obes': 8216, 'prydz': 8217, 'hpbg': 8218, 'sleeeeepi': 8219, 'ratt': 8220, 'pearci': 8221, 'egh': 8222, 'boooooooooooo': 8223, 'suckkkkkk': 8224, 'donbt': 8225, 'twittersuck': 8226, 'freelesson': 8227, 'freistund': 8228, 'hunchback': 8229, 'ngnar': 8230, 'chilliin': 8231, 'rematch': 8232, 'guttah': 8233, 'yyyyyyyyyoooooooooouuuuu': 8234, 'loservill': 8235, 'simfing': 8236, 'irap': 8237, 'essex': 8238, 'sweeeeet': 8239, 'mounc': 8240, 'casey': 8241, 'piddl': 8242, 'hemp': 8243, 'baddi': 8244, 'yourbiggestfan': 8245, 'reblip': 8246, 'joshi': 8247, 'woof': 8248, 'adress': 8249, 'loco': 8250, 'afrin': 8251, 'teacup': 8252, 'acsm': 8253, 'unfathom': 8254, 'anyy': 8255, 'awesomeeee': 8256, 'ammo': 8257, 'impuls': 8258, 'suncream': 8259, 'minute': 8260, 'chickade': 8261, 'bmfing': 8262, 'spesh': 8263, 'splinter': 8264, 'heroic': 8265, 'gratif': 8266, 'namast': 8267, 'naaaah': 8268, 'humous': 8269, 'dorito': 8270, 'childlin': 8271, 'aerlingus': 8272, 'ryanair': 8273, 'billund': 8274, 'unassum': 8275, 'unpretenti': 8276, 'valeria': 8277, 'arrav': 8278, 'babtizm': 8279, 'cruiser': 8280, 'mmmmmmmm': 8281, 'brutal': 8282, 'coquitlam': 8283, 'lichfield': 8284, 'bevvi': 8285, 'twn': 8286, 'myer': 8287, 'timer': 8288, 'fdb': 8289, 'eilish': 8290, 'mander': 8291, 'namerebecca': 8292, 'hrdest': 8293, 'counsel': 8294, 'goooooooooooood': 8295, 'morrrrrrrrn': 8296, 'nicotin': 8297, 'twitchi': 8298, 'sanderson': 8299, 'twatter': 8300, 'xlm': 8301, 'cyberstalk': 8302, 'tanghal': 8303, 'tapat': 8304, 'carvill': 8305, 'nesmith': 8306, 'wnmsc': 8307, 'tabz': 8308, 'larenz': 8309, 'fineass': 8310, 'tate': 8311, 'monaghan': 8312, 'elud': 8313, 'vic': 8314, 'tavar': 8315, 'detect': 8316, 'shatranjanpoli': 8317, 'andheri': 8318, 'insanedefault': 8319, 'crv': 8320, 'netplay': 8321, 'jijr': 8322, 'hulz': 8323, 'xpg': 8324, 'chug': 8325, 'easact': 8326, 'merci': 8327, 'merced': 8328, 'tumblewe': 8329, 'crackerack': 8330, 'vill': 8331, 'vixon': 8332, 'trait': 8333, 'keyla': 8334, 'janic': 8335, 'grammat': 8336, 'bannish': 8337, 'vita': 8338, 'kellynn': 8339, 'dwell': 8340, 'mlbn': 8341, 'det': 8342, 'bal': 8343, 'workkk': 8344, 'tet': 8345, 'marwel': 8346, 'nightt': 8347, 'tutus': 8348, 'postr': 8349, 'busyy': 8350, 'frist': 8351, 'gordon': 8352, 'heeel': 8353, 'aigm': 8354, 'ohoh': 8355, 'sunehr': 8356, 'oow': 8357, 'jewish': 8358, 'boyo': 8359, 'ehhh': 8360, 'elmwood': 8361, 'siberian': 8362, 'planner': 8363, 'ljwm': 8364, 'flys': 8365, 'charad': 8366, 'brainfreez': 8367, 'shortcom': 8368, 'subtract': 8369, 'vandal': 8370, 'mook': 8371, 'morninq': 8372, 'storyyyyi': 8373, 'erasur': 8374, 'aaaaaah': 8375, 'labyrinth': 8376, 'dsds': 8377, 'lfch': 8378, 'barakat': 8379, 'ssoo': 8380, 'tamlyn': 8381, 'crusti': 8382, 'aawww': 8383, 'hunrgi': 8384, 'keyhol': 8385, 'wukt': 8386, 'ludi': 8387, 'faccia': 8388, 'clarendon': 8389, 'newb': 8390, 'venom': 8391, 'aaaaaw': 8392, 'chackin': 8393, 'qv': 8394, 'mvcc': 8395, 'cad': 8396, 'sharpen': 8397, 'woolseri': 8398, 'molton': 8399, 'clinch': 8400, 'duetter': 8401, 'alwa': 8402, 'fighter': 8403, 'seth': 8404, 'espn': 8405, 'archiv': 8406, 'opus': 8407, 'ehcfp': 8408, 'gettn': 8409, 'whoeva': 8410, 'sponsor': 8411, 'taho': 8412, 'finagl': 8413, 'calibr': 8414, 'nyappi': 8415, 'micros': 8416, 'itil': 8417, 'preach': 8418, 'kwua': 8419, 'libertin': 8420, 'mlia': 8421, 'jkin': 8422, 'sqeaki': 8423, 'oik': 8424, 'pizzeria': 8425, 'banksvill': 8426, 'beachview': 8427, 'dsl': 8428, 'infomerci': 8429, 'kayle': 8430, 'stomp': 8431, 'hokey': 8432, 'cokeu': 8433, 'waaaay': 8434, 'nikon': 8435, 'nup': 8436, 'sane': 8437, 'creation': 8438, 'ohshnapsss': 8439, 'yeeeah': 8440, 'hollykin': 8441, 'soproudofyou': 8442, 'eqbw': 8443, 'odour': 8444, 'easport': 8445, 'madden': 8446, 'flitter': 8447, 'etonlin': 8448, 'satz': 8449, 'diffus': 8450, 'housewif': 8451, 'tinfoil': 8452, 'beachbal': 8453, 'phillll': 8454, 'wazzuppppp': 8455, 'westcott': 8456, 'apollo': 8457, 'ranjan': 8458, 'chichi': 8459, 'booziest': 8460, 'hoooray': 8461, 'delic': 8462, 'fashionisthenextc': 8463, 'stkr': 8464, 'pinkish': 8465, 'grouchi': 8466, 'emmi': 8467, 'aptitud': 8468, 'supper': 8469, 'kurumi': 8470, 'kap': 8471, 'jmeh': 8472, 'pelzer': 8473, 'yrbook': 8474, 'evryth': 8475, 'sympton': 8476, 'darrius': 8477, 'minn': 8478, 'syamptom': 8479, 'ursssss': 8480, 'squee': 8481, 'voci': 8482, 'boohooooooooooo': 8483, 'cjs': 8484, 'phaket': 8485, 'annelies': 8486, 'takeaway': 8487, 'stackeoverflow': 8488, 'nfk': 8489, 'okeef': 8490, 'youuuuuu': 8491, 'qkxh': 8492, 'courag': 8493, 'dreadweav': 8494, 'omaha': 8495, 'calvin': 8496, 'sherrieshepherd': 8497, 'brentozar': 8498, 'bandag': 8499, 'irrelev': 8500, 'bestttt': 8501, 'easti': 8502, 'googledoc': 8503, 'dentent': 8504, 'haaaaaaaaat': 8505, 'larger': 8506, 'avalina': 8507, 'dud': 8508, 'glare': 8509, 'loiusa': 8510, 'kangaroo': 8511, 'lyn': 8512, 'bankholiday': 8513, 'notari': 8514, 'retrograd': 8515, 'rachellovespeac': 8516, 'eewwwww': 8517, 'wingnut': 8518, 'southpark': 8519, 'tmh': 8520, 'refusn': 8521, 'pomona': 8522, 'tenderloin': 8523, 'thar': 8524, 'dulay': 8525, 'bel': 8526, 'alabang': 8527, 'gadgetopia': 8528, 'unsalvag': 8529, 'qrz': 8530, 'dunnooooooo': 8531, 'confuzzzledd': 8532, 'uemq': 8533, 'prd': 8534, 'dnd': 8535, 'lifecam': 8536, 'vx': 8537, 'nashtmusik': 8538, 'acara': 8539, 'menarik': 8540, 'lain': 8541, 'ttg': 8542, 'dikasih': 8543, 'craft': 8544, 'jottonia': 8545, 'dooooooooown': 8546, 'skylin': 8547, 'farrah': 8548, 'ginniejean': 8549, 'mojo': 8550, 'proli': 8551, 'crrrrrazi': 8552, 'cuidalo': 8553, 'ahv': 8554, 'xray': 8555, 'ils': 8556, 'jobro': 8557, 'examin': 8558, 'cathay': 8559, 'marcus': 8560, 'jken': 8561, 'crazzyyyy': 8562, 'reupload': 8563, 'baseship': 8564, 'calor': 8565, 'picci': 8566, 'realz': 8567, 'screengrab': 8568, 'buckley': 8569, 'tiiiiiiir': 8570, 'dote': 8571, 'burnsi': 8572, 'comparison': 8573, 'enlgland': 8574, 'huggabl': 8575, 'eax': 8576, 'gweetin': 8577, 'meeeaaannn': 8578, 'fdgmyo': 8579, 'hauntingxealot': 8580, 'goulburn': 8581, 'kickabl': 8582, 'commodor': 8583, 'repet': 8584, 'dadgum': 8585, 'freight': 8586, 'compo': 8587, 'whoaa': 8588, 'qpzx': 8589, 'mspacer': 8590, 'missmickey': 8591, 'laavli': 8592, 'sami': 8593, 'stalkerish': 8594, 'brooki': 8595, 'moracca': 8596, 'pn': 8597, 'moho': 8598, 'backlin': 8599, 'jaiden': 8600, 'deg': 8601, 'congradt': 8602, 'damjust': 8603, 'panvel': 8604, 'manta': 8605, 'amandallynn': 8606, 'staffer': 8607, 'tmobil': 8608, 'hummer': 8609, 'agressiva': 8610, 'tyg': 8611, 'nonstop': 8612, 'passtim': 8613, 'starr': 8614, 'hawkesburi': 8615, 'savvv': 8616, 'demis': 8617, 'woolworth': 8618, 'gottta': 8619, 'apperici': 8620, 'redi': 8621, 'sylvest': 8622, 'vdc': 8623, 'hopw': 8624, 'jes': 8625, 'knotti': 8626, 'overgrown': 8627, 'kidnap': 8628, 'maar': 8629, 'enthu': 8630, 'anshul': 8631, 'cruch': 8632, 'omgz': 8633, 'yoyo': 8634, 'leica': 8635, 'hhahaa': 8636, 'lolllllyyyyyyyy': 8637, 'nexus': 8638, 'indecic': 8639, 'pleaseeeeeeeeee': 8640, 'curb': 8641, 'omnomnom': 8642, 'backlog': 8643, 'lxjdjc': 8644, 'rian': 8645, 'staden': 8646, 'nako': 8647, 'umuulan': 8648, 'oohh': 8649, 'lhost': 8650, 'usael': 8651, 'notmuch': 8652, 'memo': 8653, 'hilariouss': 8654, 'changi': 8655, 'penang': 8656, 'ucsd': 8657, 'oki': 8658, 'maternalhealth': 8659, 'bpekk': 8660, 'goooodnight': 8661, 'monument': 8662, 'burfday': 8663, 'huaaahhhhh': 8664, 'jupaa': 8665, 'resaaaa': 8666, 'awa': 8667, 'kaliaaannn': 8668, 'twitteraddict': 8669, 'petit': 8670, 'puce': 8671, 'adica': 8672, 'puricel': 8673, 'franceza': 8674, 'kmv': 8675, 'robinson': 8676, 'wfm': 8677, 'lex': 8678, 'incestu': 8679, 'eron': 8680, 'lyxxx': 8681, 'jaydiohead': 8682, 'twt': 8683, 'wgoi': 8684, 'medici': 8685, 'funkey': 8686, 'xmlrpc': 8687, 'codeignit': 8688, 'output': 8689, 'zend': 8690, 'thatd': 8691, 'cov': 8692, 'tah': 8693, 'metroplex': 8694, 'nate': 8695, 'clament': 8696, 'neabi': 8697, 'aaaaaaaahhhhhhhh': 8698, 'roni': 8699, 'dissect': 8700, 'startup': 8701, 'tfa': 8702, 'rgl': 8703, 'southsid': 8704, 'fuster': 8705, 'gob': 8706, 'sneer': 8707, 'schindler': 8708, 'ren': 8709, 'bni': 8710, 'jont': 8711, 'lunchhhhhhhh': 8712, 'trasfus': 8713, 'sso': 8714, 'luckyyyyyyi': 8715, 'deliri': 8716, 'girll': 8717, 'middleschool': 8718, 'calanqu': 8719, 'ebm': 8720, 'cauzinhoooo': 8721, 'celli': 8722, 'dresss': 8723, 'lllooovvvee': 8724, 'coldddd': 8725, 'hami': 8726, 'alryt': 8727, 'tmoro': 8728, 'sud': 8729, 'sumin': 8730, 'aen': 8731, 'wfs': 8732, 'spicey': 8733, 'zaboo': 8734, 'noooooooooooooooooo': 8735, 'laka': 8736, 'nalang': 8737, 'bandana': 8738, 'orphanag': 8739, 'sheeeeit': 8740, 'bushidokan': 8741, 'karat': 8742, 'someplac': 8743, 'meaner': 8744, 'faillllllllll': 8745, 'naturalismo': 8746, 'meanwhil': 8747, 'bigweekend': 8748, 'dfb': 8749, 'werder': 8750, 'marguerit': 8751, 'tweetvill': 8752, 'whataday': 8753, 'softshock': 8754, 'irrat': 8755, 'vuuy': 8756, 'trademark': 8757, 'ogberri': 8758, 'crud': 8759, 'failblog': 8760, 'ching': 8761, 'chong': 8762, 'amadou': 8763, 'miriam': 8764, 'zwitschert': 8765, 'livejourn': 8766, 'sonia': 8767, 'acsvxdcbgfn': 8768, 'rakeem': 8769, 'shreddi': 8770, 'wright': 8771, 'charice': 8772, 'blackberryless': 8773, 'biligu': 8774, 'sweatshop': 8775, 'psychopath': 8776, 'shoesshoessho': 8777, 'yayyayyay': 8778, 'iwouldpostatwitp': 8779, 'butidntknohow': 8780, 'aso': 8781, 'tch': 8782, 'skippin': 8783, 'underpriveledg': 8784, 'studyyyyyyyyyyyyyyyyyyyyyyyyi': 8785, 'clad': 8786, 'playset': 8787, 'mfr': 8788, 'amish': 8789, 'amazecor': 8790, 'tranlsat': 8791, 'overslept': 8792, 'hbd': 8793, 'kelantan': 8794, 'pi': 8795, 'stricken': 8796, 'bckp': 8797, 'fower': 8798, 'ife': 8799, 'floridia': 8800, 'portal': 8801, 'gch': 8802, 'eeeeep': 8803, 'alhamdulilah': 8804, 'nafa': 8805, 'girsl': 8806, 'grovel': 8807, 'augusten': 8808, 'burrough': 8809, 'whisk': 8810, 'somtim': 8811, 'aptism': 8812, 'token': 8813, 'cowan': 8814, 'epicfail': 8815, 'liao': 8816, 'likabl': 8817, 'hahahahahahaha': 8818, 'cello': 8819, 'janeway': 8820, 'mutter': 8821, 'unanticip': 8822, 'unair': 8823, 'twitster': 8824, 'mors': 8825, 'bleeeeah': 8826, 'ganna': 8827, 'lace': 8828, 'eater': 8829, 'misfit': 8830, 'tylenol': 8831, 'som': 8832, 'recover': 8833, 'brum': 8834, 'isay': 8835, 'kamusta': 8836, 'bulacan': 8837, 'gimmick': 8838, 'bodybuild': 8839, 'richardchan': 8840, 'xdd': 8841, 'muuch': 8842, 'luket': 8843, 'heathfox': 8844, 'crimson': 8845, 'voc': 8846, 'sumiu': 8847, 'braunig': 8848, 'shorelin': 8849, 'wor': 8850, 'crampin': 8851, 'rollo': 8852, 'casualti': 8853, 'discographi': 8854, 'sandown': 8855, 'ulduar': 8856, 'fgxr': 8857, 'baitersss': 8858, 'sweeet': 8859, 'bwahahahaha': 8860, 'dtn': 8861, 'napervill': 8862, 'borgata': 8863, 'rockpool': 8864, 'octopi': 8865, 'pika': 8866, 'nichi': 8867, 'heeeee': 8868, 'avian': 8869, 'osx': 8870, 'alexxx': 8871, 'shirttttt': 8872, 'freesat': 8873, 'trueli': 8874, 'inshaa': 8875, 'nagio': 8876, 'configur': 8877, 'labour': 8878, 'writin': 8879, 'lik': 8880, 'seasid': 8881, 'superseed': 8882, 'kaufer': 8883, 'teaser': 8884, 'hackney': 8885, 'ey': 8886, 'beso': 8887, 'guapo': 8888, 'yoghurt': 8889, 'foward': 8890, 'travolta': 8891, 'basslin': 8892, 'anyarticl': 8893, 'rdt': 8894, 'bigmoney': 8895, 'idus': 8896, 'woooooooooo': 8897, 'plantin': 8898, 'soil': 8899, 'bouta': 8900, 'streetcar': 8901, 'fof': 8902, 'wombat': 8903, 'tamara': 8904, 'gda': 8905, 'shadduppp': 8906, 'formul': 8907, 'hungryyyyyyi': 8908, 'pakistani': 8909, 'woowoo': 8910, 'banner': 8911, 'chevrolet': 8912, 'tosser': 8913, 'fuuuuuuuudgee': 8914, 'sumthn': 8915, 'acorn': 8916, 'makati': 8917, 'stnt': 8918, 'gambl': 8919, 'skeptic': 8920, 'cockatiel': 8921, 'jloj': 8922, 'suh': 8923, 'weet': 8924, 'cenario': 8925, 'jdtj': 8926, 'ouuuuuuuuuchhhhhhhh': 8927, 'barca': 8928, 'kapag': 8929, 'magkakasama': 8930, 'ulet': 8931, 'nila': 8932, 'mapet': 8933, 'jeev': 8934, 'noos': 8935, 'grrrrrr': 8936, 'helden': 8937, 'emir': 8938, 'richter': 8939, 'flor': 8940, 'deezi': 8941, 'xxoxo': 8942, 'dealin': 8943, 'songgg': 8944, 'licenc': 8945, 'fwiend': 8946, 'rawrrr': 8947, 'inshalla': 8948, 'astor': 8949, 'sliverlight': 8950, 'amazak': 8951, 'powder': 8952, 'agav': 8953, 'djarka': 8954, 'koool': 8955, 'caiti': 8956, 'hinckley': 8957, 'afganistan': 8958, 'squeal': 8959, 'growth': 8960, 'cj': 8961, 'regress': 8962, 'feen': 8963, 'chelmsford': 8964, 'demad': 8965, 'distort': 8966, 'sleeeeeppyyyyyy': 8967, 'cowbridg': 8968, 'bccg': 8969, 'jacksonvill': 8970, 'fau': 8971, 'steet': 8972, 'slowmot': 8973, 'aweoms': 8974, 'certainti': 8975, 'omd': 8976, 'kv': 8977, 'unfuzzi': 8978, 'nar': 8979, 'yuppi': 8980, 'divo': 8981, 'widow': 8982, 'kinf': 8983, 'mooorrreee': 8984, 'gorayeb': 8985, 'alreadt': 8986, 'braclet': 8987, 'shannan': 8988, 'lade': 8989, 'lanet': 8990, 'hopeful': 8991, 'haiaa': 8992, 'finnish': 8993, 'gaahhhh': 8994, 'anywayz': 8995, 'heltershelt': 8996, 'thatmak': 8997, 'stupor': 8998, 'etb': 8999, 'zbrush': 9000, 'undeni': 9001, 'nkorea': 9002, 'regga': 9003, 'webkit': 9004, 'woootwoooo': 9005, 'nakaka': 9006, 'scii': 9007, 'mona': 9008, 'yoplait': 9009, 'tmorrow': 9010, 'genit': 9011, 'annabell': 9012, 'broughti': 9013, 'mintyfresh': 9014, 'seeyuhhh': 9015, 'mustard': 9016, 'vege': 9017, 'mcfox': 9018, 'miacherri': 9019, 'kik': 9020, 'exposur': 9021, 'inflat': 9022, 'gaha': 9023, 'utton': 9024, 'kahki': 9025, 'twitternam': 9026, 'patricia': 9027, 'docx': 9028, 'ledg': 9029, 'everyher': 9030, 'cinco': 9031, 'failfriday': 9032, 'weeaboo': 9033, 'ozr': 9034, 'kaila': 9035, 'ocampo': 9036, 'rainbowhol': 9037, 'eeri': 9038, 'tamera': 9039, 'hilaaaaari': 9040, 'verna': 9041, 'stns': 9042, 'alkalin': 9043, 'liu': 9044, 'ohay': 9045, 'westt': 9046, 'antonio': 9047, 'mysweeteboni': 9048, 'paysit': 9049, 'tommrow': 9050, 'spatter': 9051, 'sederhana': 9052, 'padang': 9053, 'franco': 9054, 'obtain': 9055, 'elita': 9056, 'alreay': 9057, 'elp': 9058, 'malwar': 9059, 'dept': 9060, 'piccolo': 9061, 'jcf': 9062, 'deff': 9063, 'dummi': 9064, 'accidentali': 9065, 'pastel': 9066, 'ahmaz': 9067, 'panason': 9068, 'wtom': 9069, 'jayr': 9070, 'oto': 9071, 'sz': 9072, 'tranc': 9073, 'admiss': 9074, 'frolic': 9075, 'consumm': 9076, 'erniehalt': 9077, 'vko': 9078, 'heeeeer': 9079, 'disbelief': 9080, 'earl': 9081, 'balist': 9082, 'recyl': 9083, 'jumpi': 9084, 'eprocur': 9085, 'blacklist': 9086, 'whitelist': 9087, 'fieri': 9088, 'anger': 9089, 'wallinwood': 9090, 'montagu': 9091, 'capulet': 9092, 'schulz': 9093, 'alyso': 9094, 'stoner': 9095, 'benton': 9096, 'messa': 9097, 'coment': 9098, 'ughhhhhhhhhhhh': 9099, 'garnier': 9100, 'drugstor': 9101, 'fridaay': 9102, 'kxkw': 9103, 'lmfaaoooo': 9104, 'moonlight': 9105, 'anisalovesu': 9106, 'mumm': 9107, 'hopefuli': 9108, 'beetl': 9109, 'yummmmmyyyy': 9110, 'herb': 9111, 'aasman': 9112, 'paar': 9113, 'shaayad': 9114, 'bleech': 9115, 'armpit': 9116, 'zit': 9117, 'herp': 9118, 'minti': 9119, 'sugarland': 9120, 'gknight': 9121, 'sowbur': 9122, 'promiss': 9123, 'styoopid': 9124, 'hazzunt': 9125, 'kum': 9126, 'agan': 9127, 'sumwar': 9128, 'larf': 9129, 'att': 9130, 'nineteenth': 9131, 'wes': 9132, 'yaaaawwwwnnnn': 9133, 'doeej': 9134, 'ombra': 9135, 'largo': 9136, 'ndel': 9137, 'innabit': 9138, 'dfj': 9139, 'aggreg': 9140, 'mythic': 9141, 'yzb': 9142, 'yoou': 9143, 'crystalmariedontluvspiteanymor': 9144, 'cocolici': 9145, 'mwan': 9146, 'moneyz': 9147, 'humira': 9148, 'enbrel': 9149, 'rheumi': 9150, 'mtfbwi': 9151, 'monthsish': 9152, 'vri': 9153, 'teardrop': 9154, 'bpm': 9155, 'terrac': 9156, 'prospectus': 9157, 'neeed': 9158, 'mack': 9159, 'soupi': 9160, 'heinz': 9161, 'pearlman': 9162, 'suhana': 9163, 'ilikeucoz': 9164, 'youregreat': 9165, 'bringin': 9166, 'comeeeee': 9167, 'braun': 9168, 'goer': 9169, 'symphon': 9170, 'gill': 9171, 'inikco': 9172, 'uniserv': 9173, 'xml': 9174, 'cumbersom': 9175, 'soonnnnnn': 9176, 'hax': 9177, 'kirsten': 9178, 'merh': 9179, 'liddl': 9180, 'beotch': 9181, 'boobi': 9182, 'blake': 9183, 'sandbox': 9184, 'autoreturn': 9185, 'mojokin': 9186, 'mvp': 9187, 'ffaf': 9188, 'distraaaaact': 9189, 'quadricep': 9190, 'woosoo': 9191, 'jimj': 9192, 'keypad': 9193, 'blokey': 9194, 'greatfirewallofchina': 9195, 'mpsh': 9196, 'waterley': 9197, 'mistress': 9198, 'tulan': 9199, 'felix': 9200, 'ixigo': 9201, 'dayuummm': 9202, 'palahniuk': 9203, 'pygmi': 9204, 'fundament': 9205, 'cuwj': 9206, 'speciaal': 9207, 'voor': 9208, 'vind': 9209, 'leuk': 9210, 'butbutbuttt': 9211, 'nipiss': 9212, 'ladder': 9213, 'xxo': 9214, 'istor': 9215, 'keswick': 9216, 'apuya': 9217, 'fhnixon': 9218, 'bgn': 9219, 'breannaros': 9220, 'fuuuuuuck': 9221, 'youuuu': 9222, 'coffin': 9223, 'mort': 9224, 'subit': 9225, 'lampion': 9226, 'bacoor': 9227, 'wahaha': 9228, 'toink': 9229, 'wiih': 9230, 'sveoi': 9231, 'antiboyl': 9232, 'hoop': 9233, 'calgari': 9234, 'putz': 9235, 'adoro': 9236, 'essa': 9237, 'banda': 9238, 'guuud': 9239, 'pantien': 9240, 'shabbi': 9241, 'tfarp': 9242, 'dre': 9243, 'smirker': 9244, 'jak': 9245, 'jjcc': 9246, 'colleen': 9247, 'dubstep': 9248, 'hic': 9249, 'greaaaaat': 9250, 'dmn': 9251, 'moyl': 9252, 'burgen': 9253, 'strauss': 9254, 'whywhywhi': 9255, 'comedian': 9256, 'wondrous': 9257, 'beltain': 9258, 'uit': 9259, 'xdpf': 9260, 'ofmi': 9261, 'alltop': 9262, 'bahah': 9263, 'lurveeeee': 9264, 'saime': 9265, 'unryf': 9266, 'twimul': 9267, 'eeecontrol': 9268, 'drumstick': 9269, 'lighthous': 9270, 'lipz': 9271, 'yaaayyy': 9272, 'scholfield': 9273, 'howr': 9274, 'forgo': 9275, 'youuuuu': 9276, 'santino': 9277, 'thirteen': 9278, 'sleepdepriv': 9279, 'nogard': 9280, 'bwi': 9281, 'suppliment': 9282, 'fragil': 9283, 'fanboy': 9284, 'tangibl': 9285, 'studentfin': 9286, 'sched': 9287, 'bazillionz': 9288, 'supprtin': 9289, 'hum': 9290, 'niffer': 9291, 'speedway': 9292, 'momentum': 9293, 'offshor': 9294, 'cet': 9295, 'rutledg': 9296, 'fcj': 9297, 'slur': 9298, 'kisskass': 9299, 'katey': 9300, 'xkx': 9301, 'wgl': 9302, 'purti': 9303, 'taltal': 9304, 'tal': 9305, 'pinkberri': 9306, 'proclam': 9307, 'rebellioustwitwhoknowsacoolcatcook': 9308, 'congratu': 9309, 'lancey': 9310, 'grapevin': 9311, 'moustachio': 9312, 'daddio': 9313, 'suckkkk': 9314, 'vlogcandi': 9315, 'almostt': 9316, 'ugghhh': 9317, 'wzk': 9318, 'opendn': 9319, 'whit': 9320, 'rihanna': 9321, 'gmw': 9322, 'sexual': 9323, 'harbor': 9324, 'drea': 9325, 'boubous': 9326, 'haile': 9327, 'sunlight': 9328, 'scenic': 9329, 'phatass': 9330, 'camden': 9331, 'rof': 9332, 'eep': 9333, 'hollowbabesher': 9334, 'bffls': 9335, 'nevah': 9336, 'eather': 9337, 'sesam': 9338, 'flover': 9339, 'mucki': 9340, 'lolipop': 9341, 'esplod': 9342, 'cco': 9343, 'pastur': 9344, 'lutheran': 9345, 'unleash': 9346, 'vaccuum': 9347, 'jitsu': 9348, 'dndn': 9349, 'xv': 9350, 'pawnshop': 9351, 'jimi': 9352, 'babydol': 9353, 'crm': 9354, 'bbye': 9355, 'biochem': 9356, 'waaaaahhhhhh': 9357, 'wxizo': 9358, 'unravel': 9359, 'cobbleston': 9360, 'ciwwaf': 9361, 'inern': 9362, 'everythin': 9363, 'selectivetwitt': 9364, 'distel': 9365, 'rotton': 9366, 'wheniwerealad': 9367, 'pleeezzz': 9368, 'dorian': 9369, 'zip': 9370, 'courney': 9371, 'rebellion': 9372, 'gaeta': 9373, 'positivli': 9374, 'hal': 9375, 'jude': 9376, 'blogrol': 9377, 'anste': 9378, 'ooopp': 9379, 'jagex': 9380, 'closin': 9381, 'fulltim': 9382, 'antioch': 9383, 'amtrak': 9384, 'flywithmeobsess': 9385, 'muffler': 9386, 'thanksss': 9387, 'dhq': 9388, 'aaaawww': 9389, 'jab': 9390, 'theview': 9391, 'howdyyi': 9392, 'caveat': 9393, 'clamber': 9394, 'maaat': 9395, 'grooovin': 9396, 'sluzzaa': 9397, 'kxcl': 9398, 'immigr': 9399, 'festivus': 9400, 'oxoxoteambreezi': 9401, 'resteraunt': 9402, 'loverboy': 9403, 'alenka': 9404, 'barnsley': 9405, 'hourssss': 9406, 'calllll': 9407, 'lavish': 9408, 'aitn': 9409, 'starburst': 9410, 'lovabl': 9411, 'principl': 9412, 'mourner': 9413, 'jhp': 9414, 'viabl': 9415, 'brendon': 9416, 'loretta': 9417, 'sexxxi': 9418, 'tiiiiiimmmmmmee': 9419, 'gluttoni': 9420, 'vfactori': 9421, 'nige': 9422, 'goth': 9423, 'sseldorf': 9424, 'nomor': 9425, 'probbi': 9426, 'toledo': 9427, 'shitshow': 9428, 'lyndi': 9429, 'katieedward': 9430, 'legaci': 9431, 'teradici': 9432, 'hda': 9433, 'drv': 9434, 'wishin': 9435, 'badoptus': 9436, 'extaci': 9437, 'magicmo': 9438, 'ljj': 9439, 'coor': 9440, 'dloeyu': 9441, 'chabibi': 9442, 'jtv': 9443, 'twittpic': 9444, 'diddi': 9445, 'diiinner': 9446, 'dooooooodddddiiiieee': 9447, 'mammari': 9448, 'twitterfriend': 9449, 'elit': 9450, 'epl': 9451, 'shudnt': 9452, 'mowg': 9453, 'koala': 9454, 'pubquizz': 9455, 'sinon': 9456, 'mardi': 9457, 'mhc': 9458, 'strain': 9459, 'stich': 9460, 'rachinea': 9461, 'loopjazz': 9462, 'ez': 9463, 'springleaf': 9464, 'tower': 9465, 'marykay': 9466, 'sendai': 9467, 'daddddd': 9468, 'heahhh': 9469, 'toooooo': 9470, 'traffick': 9471, 'dali': 9472, 'chaplain': 9473, 'therapist': 9474, 'scrape': 9475, 'veryy': 9476, 'malta': 9477, 'springfield': 9478, 'dahsar': 9479, 'newamerykah': 9480, 'alllllllllllllllllllllllllllll': 9481, 'wakenbak': 9482, 'whittl': 9483, 'zgfk': 9484, 'bazillion': 9485, 'lazel': 9486, 'bankrupt': 9487, 'decoupl': 9488, 'goingg': 9489, 'turbin': 9490, 'honeyyyi': 9491, 'thornberri': 9492, 'yp': 9493, 'schoolwork': 9494, 'erocka': 9495, 'bree': 9496, 'otter': 9497, 'honourari': 9498, 'fluffett': 9499, 'moistur': 9500, 'rephael': 9501, 'djc': 9502, 'yana': 9503, 'comber': 9504, 'looci': 9505, 'ane': 9506, 'shakalohana': 9507, 'wavez': 9508, 'surfin': 9509, 'reaon': 9510, 'tweetphoto': 9511, 'buhahaha': 9512, 'meth': 9513, 'nontweetinggirlfriend': 9514, 'byyi': 9515, 'sthlm': 9516, 'catchfir': 9517, 'lurgi': 9518, 'yayz': 9519, 'annpyimg': 9520, 'enhanc': 9521, 'sparkler': 9522, 'lvsn': 9523, 'shantz': 9524, 'shantel': 9525, 'nessiah': 9526, 'dcxoti': 9527, 'vocabulari': 9528, 'tigerheat': 9529, 'cara': 9530, 'punter': 9531, 'cupcakey': 9532, 'madi': 9533, 'yyid': 9534, 'mtb': 9535, 'offiaci': 9536, 'glammyyi': 9537, 'crocker': 9538, 'bonassin': 9539, 'ripley': 9540, 'utorr': 9541, 'destroytwitt': 9542, 'timberfak': 9543, 'internship': 9544, 'acw': 9545, 'dazzleglass': 9546, 'jalapeno': 9547, 'chaparro': 9548, 'julius': 9549, 'caesar': 9550, 'nri': 9551, 'karan': 9552, 'johar': 9553, 'audiotist': 9554, 'kulp': 9555, 'norskart': 9556, 'xht': 9557, 'phgl': 9558, 'dens': 9559, 'cps': 9560, 'interpret': 9561, 'sicp': 9562, 'spiderwoman': 9563, 'qeua': 9564, 'swindon': 9565, 'jolli': 9566, 'esh': 9567, 'twittttti': 9568, 'wildomar': 9569, 'outstand': 9570, 'skittl': 9571, 'valiant': 9572, 'romania': 9573, 'eeeeeeeeeeeeee': 9574, 'seee': 9575, 'unzela': 9576, 'hashim': 9577, 'dosnt': 9578, 'funnel': 9579, 'slate': 9580, 'panahra': 9581, 'rolf': 9582, 'shush': 9583, 'ulcer': 9584, 'uminaa': 9585, 'decker': 9586, 'sixteenth': 9587, 'xc': 9588, 'people': 9589, 'inthemak': 9590, 'jarita': 9591, 'musicboat': 9592, 'freakinggg': 9593, 'looks': 9594, 'wearther': 9595, 'oster': 9596, 'alltel': 9597, 'fledg': 9598, 'nv': 9599, 'tracki': 9600, 'dak': 9601, 'inotia': 9602, 'nausea': 9603, 'leac': 9604, 'jib': 9605, 'shenanigan': 9606, 'fightstar': 9607, 'mercuri': 9608, 'dbm': 9609, 'cnkhev': 9610, 'freemus': 9611, 'creditcard': 9612, 'yessssss': 9613, 'hurley': 9614, 'hyperlink': 9615, 'indent': 9616, 'dif': 9617, 'extplor': 9618, 'pushit': 9619, 'americana': 9620, 'realize': 9621, 'ewwwww': 9622, 'marra': 9623, 'ecxcit': 9624, 'annabel': 9625, 'mooney': 9626, 'thermal': 9627, 'succes': 9628, 'cancertown': 9629, 'slovakian': 9630, 'lurk': 9631, 'mahalo': 9632, 'kauai': 9633, 'ejam': 9634, 'yeahhhhhhhhhhhhh': 9635, 'macri': 9636, 'dor': 9637, 'cochran': 9638, 'dlukasrossi': 9639, 'luka': 9640, 'sash': 9641, 'sill': 9642, 'gtfo': 9643, 'qxxhi': 9644, 'bridesmaid': 9645, 'aladdin': 9646, 'urgggh': 9647, 'footwear': 9648, 'grite': 9649, 'rocstar': 9650, 'loney': 9651, 'nare': 9652, 'nightal': 9653, 'husker': 9654, 'garrit': 9655, 'znl': 9656, 'oswgh': 9657, 'softi': 9658, 'sickkkkk': 9659, 'celina': 9660, 'uhpp': 9661, 'myhous': 9662, 'dumugo': 9663, 'ilong': 9664, 'kaka': 9665, 'rprmr': 9666, 'stinki': 9667, 'whooo': 9668, 'hoooo': 9669, 'budden': 9670, 'myyyyy': 9671, 'sleepyhead': 9672, 'dilf': 9673, 'rawknrol': 9674, 'breakin': 9675, 'screech': 9676, 'roooooooooom': 9677, 'mush': 9678, 'gooooooodmorn': 9679, 'kaput': 9680, 'doba': 9681, 'uc': 9682, 'kmvl': 9683, 'vas': 9684, 'commod': 9685, 'cnaterburi': 9686, 'tapit': 9687, 'wwhllyar': 9688, 'prmp': 9689, 'tahxefkt': 9690, 'fininsh': 9691, 'reactiv': 9692, 'whbuv': 9693, 'combon': 9694, 'bordom': 9695, 'woeiwoeiwoei': 9696, 'feminin': 9697, 'joeman': 9698, 'gizmo': 9699, 'prupl': 9700, 'fingi': 9701, 'fanmail': 9702, 'bnas': 9703, 'gmu': 9704, 'sys': 9705, 'eng': 9706, 'tati': 9707, 'emal': 9708, 'flyleaf': 9709, 'twistori': 9710, 'pisss': 9711, 'soetim': 9712, 'fixd': 9713, 'mandarin': 9714, 'hahahahahahhah': 9715, 'leetbix': 9716, 'wahey': 9717, 'refactor': 9718, 'brasilia': 9719, 'flashcad': 9720, 'yesterdayi': 9721, 'quotess': 9722, 'garth': 9723, 'reeeaaaalli': 9724, 'redneck': 9725, 'meself': 9726, 'lucia': 9727, 'amaiz': 9728, 'tbqh': 9729, 'venessa': 9730, 'bu': 9731, 'barcampbkk': 9732, 'geronimo': 9733, 'earlierrr': 9734, 'tooz': 9735, 'pom': 9736, 'pleeas': 9737, 'crocodil': 9738, 'gman': 9739, 'jbp': 9740, 'geordano': 9741, 'crust': 9742, 'peperoni': 9743, 'reallyr': 9744, 'brandwkshop': 9745, 'moxl': 9746, 'bedburi': 9747, 'cath': 9748, 'eeeeeewwwwwwww': 9749, 'beeman': 9750, 'derang': 9751, 'beshia': 9752, 'youhhhhhhh': 9753, 'japenes': 9754, 'sumthinnn': 9755, 'misssesss': 9756, 'supa': 9757, 'baaabi': 9758, 'reeese': 9759, 'isol': 9760, 'southridg': 9761, 'peacin': 9762, 'aisa': 9763, 'shifti': 9764, 'siento': 9765, 'barista': 9766, 'alwayyyyyyyssssssss': 9767, 'surpis': 9768, 'frat': 9769, 'thxs': 9770, 'pooooor': 9771, 'todayyyyy': 9772, 'triangl': 9773, 'speakerphon': 9774, 'qxyc': 9775, 'lli': 9776, 'keynot': 9777, 'screencastsonlin': 9778, 'zls': 9779, 'hhhmmmnnn': 9780, 'conceal': 9781, 'coooolest': 9782, 'nichol': 9783, 'abe': 9784, 'dfggwj': 9785, 'buhbyee': 9786, 'ir': 9787, 'redpacket': 9788, 'mme': 9789, 'coolmax': 9790, 'yukki': 9791, 'prayin': 9792, 'jqg': 9793, 'welli': 9794, 'deze': 9795, 'interessant': 9796, 'kpgg': 9797, 'mascot': 9798, 'virl': 9799, 'omggg': 9800, 'wantewd': 9801, 'jbvo': 9802, 'celebratori': 9803, 'unsucces': 9804, 'stella': 9805, 'sheena': 9806, 'othman': 9807, 'whoolllleee': 9808, 'uwl': 9809, 'toadtast': 9810, 'personifi': 9811, 'nicho': 9812, 'matur': 9813, 'pusrs': 9814, 'holm': 9815, 'tweepsland': 9816, 'elemini': 9817, 'dhlq': 9818, 'giiggl': 9819, 'ight': 9820, 'asher': 9821, 'beckett': 9822, 'rali': 9823, 'tak': 9824, 'dmp': 9825, 'aitana': 9826, 'competet': 9827, 'harpmanhatt': 9828, 'sorryyi': 9829, 'milerz': 9830, 'yourz': 9831, 'accessori': 9832, 'livescrib': 9833, 'smartpen': 9834, 'phonograph': 9835, 'apm': 9836, 'phlegmili': 9837, 'eeeeewwwwww': 9838, 'tweetilici': 9839, 'therapuet': 9840, 'whitbi': 9841, 'oooohhh': 9842, 'leash': 9843, 'pinocchio': 9844, 'duncan': 9845, 'lifehous': 9846, 'apictur': 9847, 'amazn': 9848, 'slovenia': 9849, 'volt': 9850, 'overact': 9851, 'ydhu': 9852, 'persian': 9853, 'goooooodmorn': 9854, 'keegan': 9855, 'wimper': 9856, 'cqc': 9857, 'aaarrrgh': 9858, 'gkr': 9859, 'allo': 9860, 'wri': 9861, 'camerabag': 9862, 'lolo': 9863, 'mlou': 9864, 'havelunch': 9865, 'greeeeeeeeeeeat': 9866, 'frioooo': 9867, 'ju': 9868, 'tittl': 9869, 'booker': 9870, 'josi': 9871, 'armhol': 9872, 'ceasar': 9873, 'daytrott': 9874, 'zorz': 9875, 'alan': 9876, 'partridg': 9877, 'johno': 9878, 'ure': 9879, 'wildwood': 9880, 'amost': 9881, 'schoolbook': 9882, 'inventori': 9883, 'storytel': 9884, 'fishey': 9885, 'undernourish': 9886, 'ltb': 9887, 'finito': 9888, 'blurry': 9889, 'chocki': 9890, 'minibus': 9891, 'tinker': 9892, 'virtualbox': 9893, 'umlaut': 9894, 'gabbi': 9895, 'descans': 9896, 'paz': 9897, 'luto': 9898, 'waraw': 9899, 'illinoi': 9900, 'prose': 9901, 'weeknend': 9902, 'musiq': 9903, 'soulchild': 9904, 'ugggghhhh': 9905, 'blagh': 9906, 'auuac': 9907, 'heeeeey': 9908, 'tellin': 9909, 'beez': 9910, 'hetero': 9911, 'wkzi': 9912, 'began': 9913, 'mozert': 9914, 'dino': 9915, 'wasstraat': 9916, 'jacob': 9917, 'rsvping': 9918, 'houdin': 9919, 'inconsider': 9920, 'keemi': 9921, 'darrian': 9922, 'westlif': 9923, 'ballroom': 9924, 'karasw': 9925, 'shardup': 9926, 'admeeet': 9927, 'ayah': 9928, 'parantha': 9929, 'bettiy': 9930, 'plaid': 9931, 'pu': 9932, 'iweb': 9933, 'shant': 9934, 'cahng': 9935, 'ufff': 9936, 'yus': 9937, 'revamp': 9938, 'outboard': 9939, 'esl': 9940, 'nzz': 9941, 'economist': 9942, 'costsav': 9943, 'tenner': 9944, 'fucken': 9945, 'deffff': 9946, 'hik': 9947, 'essens': 9948, 'nakuh': 9949, 'grabeh': 9950, 'uuuggghh': 9951, 'hidden': 9952, 'wham': 9953, 'lokelani': 9954, 'tiredddd': 9955, 'odeee': 9956, 'sizzl': 9957, 'pois': 9958, 'tickettttt': 9959, 'otra': 9960, 'vez': 9961, 'raccoon': 9962, 'hin': 9963, 'pleasanton': 9964, 'daaaang': 9965, 'wkpl': 9966, 'widescreen': 9967, 'religion': 9968, 'kwanghock': 9969, 'hao': 9970, 'ji': 9971, 'xxxxxxxxxxxxxxxxxxxxxx': 9972, 'omgogmgo': 9973, 'fnaa': 9974, 'dwts': 9975, 'boreddddd': 9976, 'cookbook': 9977, 'trike': 9978, 'thingo': 9979, 'girraff': 9980, 'willl': 9981, 'uppercut': 9982, 'canasta': 9983, 'exict': 9984, 'buckonellen': 9985, 'minday': 9986, 'hydra': 9987, 'finallyy': 9988, 'goshh': 9989, 'shunt': 9990, 'radar': 9991, 'exxciite': 9992, 'heep': 9993, 'swell': 9994, 'sab': 9995, 'dyeded': 9996, 'jeeeez': 9997, 'newsfir': 9998, 'shareee': 9999, 'prego': 10000, 'smut': 10001, 'abang': 10002, 'bledel': 10003, 'screamer': 10004, 'wentworth': 10005, 'marilyn': 10006, 'seria': 10007, 'wiff': 10008, 'pazik': 10009, 'glenelg': 10010, 'notthebest': 10011, 'makino': 10012, 'chaya': 10013, 'biotch': 10014, 'freetd': 10015, 'utf': 10016, 'htb': 10017, 'wxidk': 10018, 'pare': 10019, 'bangbang': 10020, 'itttt': 10021, 'smush': 10022, 'deadset': 10023, 'workmen': 10024, 'lpz': 10025, 'wnat': 10026, 'teratoma': 10027, 'gweg': 10028, 'rni': 10029, 'sugari': 10030, 'bleck': 10031, 'slider': 10032, 'barjohnni': 10033, 'arrog': 10034, 'fad': 10035, 'weeee': 10036, 'proto': 10037, 'acen': 10038, 'jvm': 10039, 'lawrenc': 10040, 'entiti': 10041, 'catalogu': 10042, 'sphere': 10043, 'teet': 10044, 'britainsgottal': 10045, 'hahahahahahahaa': 10046, 'revert': 10047, 'clich': 10048, 'bela': 10049, 'lugosi': 10050, 'apear': 10051, 'outer': 10052, 'abbster': 10053, 'inc': 10054, 'skomer': 10055, 'rowan': 10056, 'kubbur': 10057, 'argggggg': 10058, 'loz': 10059, 'gandhi': 10060, 'howz': 10061, 'unsalt': 10062, 'superbad': 10063, 'bog': 10064, 'eugh': 10065, 'typin': 10066, 'wlda': 10067, 'dummyhead': 10068, 'obu': 10069, 'yearsssssss': 10070, 'dinasadik': 10071, 'forens': 10072, 'kya': 10073, 'bas': 10074, 'jaao': 10075, 'diagnosi': 10076, 'nau': 10077, 'ordeal': 10078, 'venturefil': 10079, 'loooooooov': 10080, 'roe': 10081, 'rockett': 10082, 'worldsbestpornmovi': 10083, 'faithmov': 10084, 'roughnight': 10085, 'discern': 10086, 'yultron': 10087, 'avg': 10088, 'plagiar': 10089, 'concurr': 10090, 'luvvi': 10091, 'tartan': 10092, 'buckfast': 10093, 'lulz': 10094, 'donminican': 10095, 'idanc': 10096, 'dolidh': 10097, 'twittter': 10098, 'occup': 10099, 'reprehens': 10100, 'minethatbird': 10101, 'tlc': 10102, 'koxper': 10103, 'chewi': 10104, 'pseudo': 10105, 'moth': 10106, 'wasp': 10107, 'insect': 10108, 'manford': 10109, 'jetway': 10110, 'cleans': 10111, 'metalcor': 10112, 'merg': 10113, 'offtop': 10114, 'inappropri': 10115, 'germin': 10116, 'qlwbe': 10117, 'denis': 10118, 'wildlif': 10119, 'thankgod': 10120, 'crackberri': 10121, 'pf': 10122, 'icebox': 10123, 'rdj': 10124, 'bmac': 10125, 'thrifti': 10126, 'aberdeen': 10127, 'wkds': 10128, 'gnyq': 10129, 'anurag': 10130, 'tec': 10131, 'roar': 10132, 'cv': 10133, 'mir': 10134, 'echt': 10135, 'angetan': 10136, 'sst': 10137, 'whyyyyyy': 10138, 'getcho': 10139, 'commin': 10140, 'khyy': 10141, 'arrg': 10142, 'tweettttt': 10143, 'uglyone': 10144, 'gregg': 10145, 'flasher': 10146, 'romo': 10147, 'safeti': 10148, 'bbcrew': 10149, 'whhaacck': 10150, 'offset': 10151, 'picturis': 10152, 'ratatat': 10153, 'gjqsh': 10154, 'yupp': 10155, 'dragonbal': 10156, 'heylo': 10157, 'johnn': 10158, 'socialscop': 10159, 'gihac': 10160, 'dfs': 10161, 'fy': 10162, 'beati': 10163, 'livechat': 10164, 'floyd': 10165, 'buena': 10166, 'excercis': 10167, 'shemar': 10168, 'wrxq': 10169, 'gingg': 10170, 'duhhhhhh': 10171, 'weezi': 10172, 'evn': 10173, 'masseus': 10174, 'venti': 10175, 'rhonda': 10176, 'spat': 10177, 'midg': 10178, 'thankyooooou': 10179, 'slightest': 10180, 'hammi': 10181, 'golfbal': 10182, 'mymath': 10183, 'kimberle': 10184, 'whar': 10185, 'biker': 10186, 'lindi': 10187, 'olympiou': 10188, 'diamanti': 10189, 'thessaloniki': 10190, 'toniight': 10191, 'unsoci': 10192, 'suppoort': 10193, 'wimbledon': 10194, 'urselff': 10195, 'mie': 10196, 'goodknight': 10197, 'blockhead': 10198, 'wereld': 10199, 'cdv': 10200, 'piyaaa': 10201, 'noteboook': 10202, 'graandma': 10203, 'housee': 10204, 'dillingen': 10205, 'lololol': 10206, 'kenan': 10207, 'wxnwa': 10208, 'sujth': 10209, 'ecw': 10210, 'yahh': 10211, 'slarm': 10212, 'undrstand': 10213, 'busay': 10214, 'waray': 10215, 'lqux': 10216, 'albani': 10217, 'ao': 10218, 'hahhh': 10219, 'alfr': 10220, 'bristol': 10221, 'melros': 10222, 'registrar': 10223, 'unfun': 10224, 'taquito': 10225, 'cinderelliie': 10226, 'junction': 10227, 'olli': 10228, 'relaps': 10229, 'albert': 10230, 'hatti': 10231, 'hedgehog': 10232, 'edu': 10233, 'djspi': 10234, 'ndari': 10235, 'py': 10236, 'coffie': 10237, 'pleaz': 10238, 'dunker': 10239, 'raymond': 10240, 'laxat': 10241, 'lhgz': 10242, 'ttytomorrow': 10243, 'rblpnqte': 10244, 'delux': 10245, 'preston': 10246, 'opff': 10247, 'partypeopl': 10248, 'wonderland': 10249, 'neeeddd': 10250, 'foooddd': 10251, 'lewishhh': 10252, 'gio': 10253, 'fridaaaayyyyy': 10254, 'buttershot': 10255, 'ruxburi': 10256, 'mdr': 10257, 'paranoif': 10258, 'pho': 10259, 'anchovi': 10260, 'laud': 10261, 'weddin': 10262, 'consult': 10263, 'splash': 10264, 'litteratur': 10265, 'soooooooooooooooooooooooooooooooooooo': 10266, 'yeeee': 10267, 'daxx': 10268, 'kz': 10269, 'milkskak': 10270, 'warrant': 10271, 'agg': 10272, 'guiness': 10273, 'taiwanes': 10274, 'chun': 10275, 'qlad': 10276, 'brantley': 10277, 'debt': 10278, 'aaargh': 10279, 'longggg': 10280, 'inkheart': 10281, 'ffa': 10282, 'plinker': 10283, 'chaceeeeee': 10284, 'eurgh': 10285, 'xoh': 10286, 'proflow': 10287, 'wussup': 10288, 'ferman': 10289, 'philo': 10290, 'ophi': 10291, 'mat': 10292, 'intersubject': 10293, 'shooould': 10294, 'bep': 10295, 'castlebar': 10296, 'galway': 10297, 'rightard': 10298, 'arghh': 10299, 'couuuurs': 10300, 'fika': 10301, 'thes': 10302, 'ttt': 10303, 'ryland': 10304, 'suarez': 10305, 'sunnn': 10306, 'finnalllyyi': 10307, 'iter': 10308, 'reactor': 10309, 'scholar': 10310, 'homeland': 10311, 'ontolog': 10312, 'soooori': 10313, 'learnin': 10314, 'evelyn': 10315, 'rozcz': 10316, 'illog': 10317, 'happpi': 10318, 'starsailor': 10319, 'scrapbook': 10320, 'inflict': 10321, 'bebless': 10322, 'jemi': 10323, 'rung': 10324, 'homesssssskooool': 10325, 'cple': 10326, 'degr': 10327, 'tangl': 10328, 'disloc': 10329, 'whosher': 10330, 'clayton': 10331, 'huckabe': 10332, 'atticus': 10333, 'corral': 10334, 'kaelah': 10335, 'platinum': 10336, 'humm': 10337, 'yujm': 10338, 'ecstat': 10339, 'osap': 10340, 'meantim': 10341, 'holga': 10342, 'thatwouldmak': 10343, 'myfriend': 10344, 'hamdem': 10345, 'aporkalyps': 10346, 'parmageddon': 10347, 'yiiiit': 10348, 'cargo': 10349, 'anythgin': 10350, 'declutt': 10351, 'nofakeri': 10352, 'slipperi': 10353, 'reeeejuvin': 10354, 'dayem': 10355, 'pastri': 10356, 'terenc': 10357, 'mononok': 10358, 'moommi': 10359, 'somn': 10360, 'fcs': 10361, 'dung': 10362, 'mice': 10363, 'oli': 10364, 'snowdaysss': 10365, 'lan': 10366, 'compr': 10367, 'raha': 10368, 'abhi': 10369, 'mckenzi': 10370, 'agaaaaaaiiiin': 10371, 'maaaam': 10372, 'homeboy': 10373, 'anooy': 10374, 'unmarri': 10375, 'ratti': 10376, 'gooodnight': 10377, 'lender': 10378, 'viigo': 10379, 'sxb': 10380, 'omedetou': 10381, 'showww': 10382, 'wjai': 10383, 'ovechkin': 10384, 'phootoboothingisfunforbunni': 10385, 'volumen': 10386, 'grillz': 10387, 'plaqu': 10388, 'lookd': 10389, 'familar': 10390, 'riverwalk': 10391, 'catchi': 10392, 'yahooo': 10393, 'stp': 10394, 'romulin': 10395, 'lagoon': 10396, 'michi': 10397, 'moma': 10398, 'kaki': 10399, 'cheri': 10400, 'twiin': 10401, 'reprob': 10402, 'lcdsoundsystem': 10403, 'suspicion': 10404, 'bustin': 10405, 'tirith': 10406, 'killeen': 10407, 'homebirth': 10408, 'moot': 10409, 'prehistor': 10410, 'podunktown': 10411, 'handwrap': 10412, 'hawksmoor': 10413, 'pizzahut': 10414, 'ehhmyj': 10415, 'streetview': 10416, 'bugzi': 10417, 'skqli': 10418, 'tsss': 10419, 'fluffodil': 10420, 'teg': 10421, 'tess': 10422, 'frey': 10423, 'metavers': 10424, 'gamier': 10425, 'usag': 10426, 'metaverseu': 10427, 'audiobook': 10428, 'witdraw': 10429, 'str': 10430, 'hospic': 10431, 'gpa': 10432, 'islip': 10433, 'killm': 10434, 'pril': 10435, 'jewc': 10436, 'dble': 10437, 'suzaku': 10438, 'lacrim': 10439, 'infectect': 10440, 'airsoft': 10441, 'binocular': 10442, 'tweethampton': 10443, 'zxoj': 10444, 'sgb': 10445, 'cz': 10446, 'nesquik': 10447, 'followillfriday': 10448, 'heyahh': 10449, 'wern': 10450, 'cumin': 10451, 'taylorr': 10452, 'heeder': 10453, 'enzo': 10454, 'catnip': 10455, 'overspend': 10456, 'baptist': 10457, 'missionari': 10458, 'sue': 10459, 'yaaaaay': 10460, 'qsw': 10461, 'vq': 10462, 'gangstarr': 10463, 'exgirl': 10464, 'nas': 10465, 'addison': 10466, 'inher': 10467, 'humil': 10468, 'apetit': 10469, 'ebtg': 10470, 'whedon': 10471, 'cashflow': 10472, 'jpe': 10473, 'midwest': 10474, 'tys': 10475, 'phog': 10476, 'arizzard': 10477, 'stuvk': 10478, 'stpid': 10479, 'mute': 10480, 'gooooonight': 10481, 'alwaysss': 10482, 'kinokuniya': 10483, 'splurg': 10484, 'maro': 10485, 'ewl': 10486, 'yank': 10487, 'bigggest': 10488, 'urlm': 10489, 'cnmt': 10490, 'toosher': 10491, 'reefri': 10492, 'struck': 10493, 'woooomp': 10494, 'bittt': 10495, 'peic': 10496, 'funi': 10497, 'ohrwurm': 10498, 'colorblind': 10499, 'pegel': 10500, 'kelil': 10501, 'kuil': 10502, 'ambienc': 10503, 'ym': 10504, 'meebo': 10505, 'ebuddi': 10506, 'siddi': 10507, 'reimer': 10508, 'kubuntu': 10509, 'grench': 10510, 'akl': 10511, 'sleeveless': 10512, 'kiddin': 10513, 'flouresc': 10514, 'peeli': 10515, 'hideous': 10516, 'timefram': 10517, 'colab': 10518, 'milkkk': 10519, 'cq': 10520, 'nkp': 10521, 'freelanc': 10522, 'dati': 10523, 'lian': 10524, 'eina': 10525, 'gelli': 10526, 'franci': 10527, 'goddam': 10528, 'skimchamp': 10529, 'icetv': 10530, 'smr': 10531, 'withstand': 10532, 'listenen': 10533, 'maximum': 10534, 'tcu': 10535, 'jslb': 10536, 'palmpr': 10537, 'boyssss': 10538, 'publicist': 10539, 'emay': 10540, 'shwasti': 10541, 'shlosh': 10542, 'dmtn': 10543, 'couper': 10544, 'shrt': 10545, 'wakeup': 10546, 'ilook': 10547, 'wsue': 10548, 'exahaust': 10549, 'trackpad': 10550, 'oooowwwch': 10551, 'refil': 10552, 'boyfrann': 10553, 'sprung': 10554, 'tsj': 10555, 'santi': 10556, 'acc': 10557, 'byron': 10558, 'chorleywood': 10559, 'cambridg': 10560, 'seriuosli': 10561, 'postur': 10562, 'peet': 10563, 'workweek': 10564, 'mindless': 10565, 'walwal': 10566, 'sumptuous': 10567, 'matta': 10568, 'tallebudgera': 10569, 'unforgett': 10570, 'xtra': 10571, 'wolvarin': 10572, 'frnd': 10573, 'lh': 10574, 'fopp': 10575, 'bahhhh': 10576, 'sicko': 10577, 'digust': 10578, 'buttfuck': 10579, 'ssshh': 10580, 'empitom': 10581, 'unseed': 10582, 'bidden': 10583, 'bseresult': 10584, 'ucl': 10585, 'digiqom': 10586, 'studyhal': 10587, 'definitley': 10588, 'reco': 10589, 'jkuk': 10590, 'thaz': 10591, 'luton': 10592, 'grieco': 10593, 'mummyyyyyyyy': 10594, 'orlean': 10595, 'watchn': 10596, 'attribut': 10597, 'induc': 10598, 'soloist': 10599, 'antoinett': 10600, 'collinson': 10601, 'yesssssir': 10602, 'pineforest': 10603, 'ojugsb': 10604, 'pitchfork': 10605, 'shutup': 10606, 'todat': 10607, 'mcast': 10608, 'sheli': 10609, 'gerbil': 10610, 'nim': 10611, 'downnnn': 10612, 'outfield': 10613, 'lohang': 10614, 'librefm': 10615, 'audaci': 10616, 'zj': 10617, 'finishin': 10618, 'lottt': 10619, 'ughhhhhhhhh': 10620, 'anwher': 10621, 'babsi': 10622, 'pffff': 10623, 'msft': 10624, 'flik': 10625, 'nanowrimo': 10626, 'jls': 10627, 'genr': 10628, 'todayisaprosper': 10629, 'thankujesus': 10630, 'beyebless': 10631, 'aaauuuggghhh': 10632, 'boverd': 10633, 'waver': 10634, 'inutero': 10635, 'ukpub': 10636, 'tostito': 10637, 'piknik': 10638, 'ysah': 10639, 'potbelli': 10640, 'amercia': 10641, 'coome': 10642, 'maiii': 10643, 'cah': 10644, 'ericsson': 10645, 'arellano': 10646, 'mika': 10647, 'eba': 10648, 'invert': 10649, 'weee': 10650, 'linoleum': 10651, 'carv': 10652, 'wsw': 10653, 'allllllllright': 10654, 'expos': 10655, 'connoisseur': 10656, 'putet': 10657, 'carillo': 10658, 'lhq': 10659, 'howmani': 10660, 'hungraaaaaaaaay': 10661, 'staci': 10662, 'muji': 10663, 'aaaaiieee': 10664, 'squeak': 10665, 'jessica': 10666, 'alba': 10667, 'pirouett': 10668, 'brudder': 10669, 'ccp': 10670, 'eithah': 10671, 'carlin': 10672, 'undergar': 10673, 'kia': 10674, 'louie': 10675, 'dt': 10676, 'umbrellaless': 10677, 'hangi': 10678, 'loveeeeeeeeeeeeeeeeeeeee': 10679, 'bullhorn': 10680, 'onnnnnnnnnnnn': 10681, 'grandad': 10682, 'doggon': 10683, 'ponderosa': 10684, 'pisay': 10685, 'wellz': 10686, 'binstruct': 10687, 'mib': 10688, 'warwound': 10689, 'hairdy': 10690, 'smear': 10691, 'snappier': 10692, 'lotta': 10693, 'precip': 10694, 'zs': 10695, 'shidduch': 10696, 'about': 10697, 'jonathon': 10698, 'catchup': 10699, 'ohwwww': 10700, 'texi': 10701, 'lis': 10702, 'lust': 10703, 'turf': 10704, 'sweetdream': 10705, 'photobucket': 10706, 'valeri': 10707, 'paynetsystem': 10708, 'dagmoq': 10709, 'wayyyyyi': 10710, 'sloanster': 10711, 'muahahaha': 10712, 'chive': 10713, 'sunburnnn': 10714, 'achurley': 10715, 'njubcl': 10716, 'generalis': 10717, 'aku': 10718, 'kbangun': 10719, 'gara': 10720, 'mimpi': 10721, 'lena': 10722, 'sunba': 10723, 'perf': 10724, 'pracc': 10725, 'txpa': 10726, 'valdez': 10727, 'neeeeed': 10728, 'mileyyyyyi': 10729, 'ahhhaaaaa': 10730, 'homski': 10731, 'sexay': 10732, 'bink': 10733, 'centro': 10734, 'sadpanda': 10735, 'diagnos': 10736, 'abalon': 10737, 'moviesss': 10738, 'cgi': 10739, 'hus': 10740, 'mayfield': 10741, 'bluedart': 10742, 'allowd': 10743, 'quotat': 10744, 'tangooo': 10745, 'reckless': 10746, 'nessa': 10747, 'wacht': 10748, 'xri': 10749, 'moreton': 10750, 'stroppi': 10751, 'wikihow': 10752, 'armani': 10753, 'panton': 10754, 'chelseavantol': 10755, 'plzzzzz': 10756, 'mcflys': 10757, 'aam': 10758, 'decal': 10759, 'rahal': 10760, 'undevelop': 10761, 'nerdfriend': 10762, 'rochest': 10763, 'hitch': 10764, 'tanna': 10765, 'bounti': 10766, 'vampyr': 10767, 'donload': 10768, 'tweedl': 10769, 'weeknd': 10770, 'thingss': 10771, 'muzik': 10772, 'lmaao': 10773, 'leyrock': 10774, 'coloursfest': 10775, 'enthus': 10776, 'yesssssssssss': 10777, 'zp': 10778, 'ventolin': 10779, 'mutha': 10780, 'enfest': 10781, 'summaa': 10782, 'corp': 10783, 'nesbitt': 10784, 'arni': 10785, 'booti': 10786, 'shoulv': 10787, 'rm': 10788, 'counteract': 10789, 'sluggish': 10790, 'nonfunctionalproduct': 10791, 'reorgan': 10792, 'interraci': 10793, 'linuxoutlaw': 10794, 'tadpol': 10795, 'ixbj': 10796, 'dogtown': 10797, 'salmon': 10798, 'lindo': 10799, 'blaaaqhhh': 10800, 'hifi': 10801, 'runday': 10802, 'jgro': 10803, 'whittier': 10804, 'alyson': 10805, 'ugboot': 10806, 'crucial': 10807, 'omgood': 10808, 'grat': 10809, 'brngs': 10810, 'starbux': 10811, 'corieographi': 10812, 'beco': 10813, 'skola': 10814, 'impt': 10815, 'timthumb': 10816, 'placebo': 10817, 'dione': 10818, 'bbyshow': 10819, 'fibrosi': 10820, 'crampl': 10821, 'whaaaaaaaaaat': 10822, 'sombodi': 10823, 'fmfl': 10824, 'troub': 10825, 'bowman': 10826, 'strategicclock': 10827, 'pancra': 10828, 'unsurpris': 10829, 'annalisa': 10830, 'mellow': 10831, 'gaaay': 10832, 'heartz': 10833, 'wakeboard': 10834, 'gret': 10835, 'tomoroo': 10836, 'giid': 10837, 'gni': 10838, 'bakugan': 10839, 'yhaw': 10840, 'ntah': 10841, 'kapsel': 10842, 'nuli': 10843, 'spertinya': 10844, 'ditag': 10845, 'notificationnya': 10846, 'huhu': 10847, 'leaver': 10848, 'whistler': 10849, 'monopoli': 10850, 'beasti': 10851, 'pew': 10852, 'peww': 10853, 'phaser': 10854, 'sarci': 10855, 'maintain': 10856, 'haciendo': 10857, 'primer': 10858, 'finn': 10859, 'smelt': 10860, 'getttin': 10861, 'iiight': 10862, 'constructivist': 10863, 'matth': 10864, 'cardin': 10865, 'kmf': 10866, 'macvim': 10867, 'pwned': 10868, 'shotti': 10869, 'stoneheng': 10870, 'grrrrrrrrrrrrrrr': 10871, 'cmd': 10872, 'blighti': 10873, 'shezza': 10874, 'paula': 10875, 'shannen': 10876, 'gangsterrrr': 10877, 'lupo': 10878, 'suprnatur': 10879, 'obbsess': 10880, 'molecul': 10881, 'sackiroth': 10882, 'ewok': 10883, 'matine': 10884, 'qwar': 10885, 'owm': 10886, 'tryinh': 10887, 'arc': 10888, 'songgoeswrong': 10889, 'loaner': 10890, 'ouuhh': 10891, 'snotti': 10892, 'qipuu': 10893, 'kaifj': 10894, 'booklif': 10895, 'overreact': 10896, 'abouttttto': 10897, 'smarmi': 10898, 'gifford': 10899, 'newjabbakidz': 10900, 'whuffaok': 10901, 'gillett': 10902, 'ceddi': 10903, 'scala': 10904, 'tint': 10905, 'grayish': 10906, 'flashi': 10907, 'punctur': 10908, 'rhiniti': 10909, 'boohooo': 10910, 'internetz': 10911, 'tswift': 10912, 'appetit': 10913, 'monarchi': 10914, 'recon': 10915, 'coti': 10916, 'nnc': 10917, 'floral': 10918, 'yoooouuu': 10919, 'uft': 10920, 'eighth': 10921, 'paulevan': 10922, 'wholey': 10923, 'lanka': 10924, 'middlesbrough': 10925, 'yayschoolisout': 10926, 'otjttu': 10927, 'hairrr': 10928, 'threshold': 10929, 'februari': 10930, 'meetin': 10931, 'jeweleri': 10932, 'icehockey': 10933, 'stayn': 10934, 'iemoticon': 10935, 'appstor': 10936, 'kendra': 10937, 'ahol': 10938, 'overturn': 10939, 'arabell': 10940, 'backkkk': 10941, 'kodiak': 10942, 'alegr': 10943, 'norton': 10944, 'nielsenpowermom': 10945, 'palawan': 10946, 'clive': 10947, 'rig': 10948, 'hape': 10949, 'pulleaas': 10950, 'sturday': 10951, 'wov': 10952, 'aaaaarrrrggghhh': 10953, 'kerbear': 10954, 'lanto': 10955, 'itel': 10956, 'amara': 10957, 'percentag': 10958, 'hanger': 10959, 'felton': 10960, 'zeropoint': 10961, 'birfdayi': 10962, 'nobobi': 10963, 'hada': 10964, 'petey': 10965, 'rollersk': 10966, 'subcrib': 10967, 'heffa': 10968, 'rover': 10969, 'calicut': 10970, 'belgrad': 10971, 'hump': 10972, 'gmkbt': 10973, 'mattmccoy': 10974, 'twc': 10975, 'weatherrrrr': 10976, 'starwarswithaddedp': 10977, 'benz': 10978, 'firewal': 10979, 'proxi': 10980, 'yari': 10981, 'miamiadc': 10982, 'zombiepix': 10983, 'summervac': 10984, 'unfinish': 10985, 'dorki': 10986, 'ghostwhisper': 10987, 'tessi': 10988, 'lefti': 10989, 'problemo': 10990, 'sos': 10991, 'gliss': 10992, 'gigwis': 10993, 'squoosh': 10994, 'zoom': 10995, 'retsi': 10996, 'stavro': 10997, 'flatley': 10998, 'liven': 10999, 'prez': 11000, 'mcfonald': 11001, 'mygril': 11002, 'elena': 11003, 'bjs': 11004, 'bestbuy': 11005, 'zzzzzzzzzzzzzzz': 11006, 'yoo': 11007, 'brokun': 11008, 'humun': 11009, 'maybe': 11010, 'agin': 11011, 'wun': 11012, 'skankin': 11013, 'enuff': 11014, 'judith': 11015, 'bfa': 11016, 'marx': 11017, 'nauseat': 11018, 'shitload': 11019, 'pend': 11020, 'showlist': 11021, 'montel': 11022, 'webpag': 11023, 'trivun': 11024, 'polanco': 11025, 'suivez': 11026, 'diga': 11027, 'peasi': 11028, 'chevi': 11029, 'brunswick': 11030, 'ozbargain': 11031, 'optimis': 11032, 'drupal': 11033, 'jazzercis': 11034, 'schuhmach': 11035, 'pincod': 11036, 'hhhhhhaaaaaaaaaaaaa': 11037, 'engross': 11038, 'wellll': 11039, 'wildflow': 11040, 'freebal': 11041, 'carthag': 11042, 'wavi': 11043, 'thks': 11044, 'lalalaland': 11045, 'ministri': 11046, 'curdl': 11047, 'gazillion': 11048, 'mercedez': 11049, 'scheme': 11050, 'majorspoil': 11051, 'doberman': 11052, 'tgvr': 11053, 'kodomo': 11054, 'cyberspac': 11055, 'neeeeeeeed': 11056, 'trafffffffic': 11057, 'wwork': 11058, 'miinnnesota': 11059, 'fastsmallballbust': 11060, 'weirdherout': 11061, 'visionboard': 11062, 'dug': 11063, 'lifelock': 11064, 'experian': 11065, 'reduc': 11066, 'theft': 11067, 'torchwood': 11068, 'earpiec': 11069, 'trop': 11070, 'gameplay': 11071, 'bor': 11072, 'doingn': 11073, 'dujourmag': 11074, 'dongl': 11075, 'razz': 11076, 'touqu': 11077, 'sus': 11078, 'sarm': 11079, 'huff': 11080, 'owu': 11081, 'yayyyyyyyyyyy': 11082, 'foo': 11083, 'carrer': 11084, 'crazyb': 11085, 'cynthia': 11086, 'apathi': 11087, 'summmmmerrrrr': 11088, 'yeahhhhhyaaaaaa': 11089, 'quester': 11090, 'sequest': 11091, 'analog': 11092, 'nyayhahahah': 11093, 'supposeddd': 11094, 'mommii': 11095, 'theaa': 11096, 'thii': 11097, 'wayyyi': 11098, 'ryt': 11099, 'walaikum': 11100, 'assalam': 11101, 'alhamdulillah': 11102, 'dua': 11103, 'overheardinlondon': 11104, 'raing': 11105, 'nimorn': 11106, 'bilko': 11107, 'underpaid': 11108, 'vicious': 11109, 'rot': 11110, 'pvajlm': 11111, 'upbeat': 11112, 'fotoreportag': 11113, 'ishra': 11114, 'ventura': 11115, 'disintegr': 11116, 'shivashankar': 11117, 'spellin': 11118, 'exaust': 11119, 'forebod': 11120, 'rins': 11121, 'conditon': 11122, 'banggg': 11123, 'flore': 11124, 'blackberrymesseng': 11125, 'rambl': 11126, 'wrestlefest': 11127, 'latalkradio': 11128, 'sotomayor': 11129, 'narnia': 11130, 'blurb': 11131, 'aslan': 11132, 'skandar': 11133, 'mdce': 11134, 'destin': 11135, 'weekeeend': 11136, 'trainr': 11137, 'rl': 11138, 'soberana': 11139, 'ana': 11140, 'ele': 11141, 'taqa': 11142, 'dde': 11143, 'newslett': 11144, 'bethhh': 11145, 'ucki': 11146, 'shooeessss': 11147, 'eeeh': 11148, 'whattttev': 11149, 'qwu': 11150, 'noooooth': 11151, 'tegan': 11152, 'renam': 11153, 'wooden': 11154, 'joyrid': 11155, 'pai': 11156, 'rrg': 11157, 'thunderrrr': 11158, 'littelist': 11159, 'kontakt': 11160, 'sniffli': 11161, 'cakin': 11162, 'confit': 11163, 'laaaaaaaaav': 11164, 'allmost': 11165, 'arrghh': 11166, 'eczema': 11167, 'cranki': 11168, 'preacher': 11169, 'qhz': 11170, 'muh': 11171, 'ssssssssssmack': 11172, 'ww': 11173, 'crech': 11174, 'burner': 11175, 'ich': 11176, 'auch': 11177, 'gooseberri': 11178, 'buse': 11179, 'phze': 11180, 'schoooool': 11181, 'onog': 11182, 'honza': 11183, 'toggl': 11184, 'ganesh': 11185, 'jaju': 11186, 'shapeshift': 11187, 'deceit': 11188, 'diplomat': 11189, 'zfz': 11190, 'sesion': 11191, 'villain': 11192, 'eldorado': 11193, 'aliant': 11194, 'bullwinkl': 11195, 'fairi': 11196, 'bumb': 11197, 'yano': 11198, 'elijah': 11199, 'hahhahah': 11200, 'mommiessss': 11201, 'biznesssss': 11202, 'brent': 11203, 'headzup': 11204, 'kaylen': 11205, 'uuurgg': 11206, 'bp': 11207, 'shul': 11208, 'charter': 11209, 'groul': 11210, 'whuahahhaha': 11211, 'bram': 11212, 'ladag': 11213, 'applejack': 11214, 'commm': 11215, 'cote': 11216, 'mandriva': 11217, 'omgee': 11218, 'helll': 11219, 'jer': 11220, 'haywir': 11221, 'swoon': 11222, 'visteon': 11223, 'pyee': 11224, 'scur': 11225, 'stormtroop': 11226, 'bfoyf': 11227, 'mimmiz': 11228, 'eclect': 11229, 'hurghada': 11230, 'doogi': 11231, 'howser': 11232, 'blazin': 11233, 'tms': 11234, 'echo': 11235, 'burgundi': 11236, 'xb': 11237, 'minivan': 11238, 'shawdow': 11239, 'mogul': 11240, 'minish': 11241, 'ezlo': 11242, 'partytiiim': 11243, 'medisoft': 11244, 'twitternut': 11245, 'mozi': 11246, 'scruffi': 11247, 'nerfherd': 11248, 'wsi': 11249, 'kari': 11250, 'fletcher': 11251, 'dammm': 11252, 'lollllll': 11253, 'chancla': 11254, 'hmmmmmmm': 11255, 'aiaahh': 11256, 'judah': 11257, 'sailin': 11258, 'iwish': 11259, 'facepanda': 11260, 'flonas': 11261, 'areo': 11262, 'lumpi': 11263, 'chatter': 11264, 'freebi': 11265, 'jbnoy': 11266, 'beggin': 11267, 'hannahmovi': 11268, 'withmom': 11269, 'johni': 11270, 'anchor': 11271, 'ashminov': 11272, 'zion': 11273, 'genious': 11274, 'wonderful': 11275, 'breakfst': 11276, 'canad': 11277, 'zen': 11278, 'chow': 11279, 'noooowww': 11280, 'hedberg': 11281, 'floss': 11282, 'nigel': 11283, 'inexplic': 11284, 'intervent': 11285, 'deena': 11286, 'chrisett': 11287, 'epiphani': 11288, 'harmon': 11289, 'topol': 11290, 'trene': 11291, 'ovat': 11292, 'incarn': 11293, 'mutant': 11294, 'ghalib': 11295, 'khayyam': 11296, 'wakil': 11297, 'lump': 11298, 'fewfffff': 11299, 'bloodtest': 11300, 'tww': 11301, 'tetep': 11302, 'kurang': 11303, 'buat': 11304, 'kami': 11305, 'nih': 11306, 'syapa': 11307, 'mooorn': 11308, 'plm': 11309, 'akankah': 11310, 'suatu': 11311, 'hari': 11312, 'mendapatkannya': 11313, 'rivet': 11314, 'toothpick': 11315, 'godd': 11316, 'seriousslyyi': 11317, 'tragidi': 11318, 'yeasterday': 11319, 'wiew': 11320, 'embarrassd': 11321, 'brittney': 11322, 'oompa': 11323, 'lumpa': 11324, 'bpd': 11325, 'wdw': 11326, 'kunguma': 11327, 'poovum': 11328, 'konjuma': 11329, 'puravum': 11330, 'cinematographi': 11331, 'doent': 11332, 'insuran': 11333, 'meanw': 11334, 'chuu': 11335, 'muggi': 11336, 'ayi': 11337, 'kanina': 11338, 'wfd': 11339, 'kayi': 11340, 'woopiti': 11341, 'slurpeee': 11342, 'suffolk': 11343, 'botan': 11344, 'borat': 11345, 'izkab': 11346, 'wingman': 11347, 'dx': 11348, 'lpi': 11349, 'weve': 11350, 'lele': 11351, 'bruster': 11352, 'omgaah': 11353, 'bootleg': 11354, 'pharo': 11355, 'gott': 11356, 'radish': 11357, 'recolour': 11358, 'derni': 11359, 'sofi': 11360, 'cause': 11361, 'stag': 11362, 'tonightt': 11363, 'hairloss': 11364, 'kitteh': 11365, 'oramarecord': 11366, 'unagi': 11367, 'noooooooooo': 11368, 'parrent': 11369, 'promiscu': 11370, 'whaaaaaaaahhhh': 11371, 'raincheck': 11372, 'isabell': 11373, 'onther': 11374, 'pohaku': 11375, 'psst': 11376, 'twitwoo': 11377, 'ae': 11378, 'rewatch': 11379, 'jaron': 11380, 'heu': 11381, 'luciano': 11382, 'winterboard': 11383, 'horatio': 11384, 'sippinn': 11385, 'whut': 11386, 'sta': 11387, 'yayay': 11388, 'prerecord': 11389, 'admk': 11390, 'hyderabad': 11391, 'uninvit': 11392, 'deid': 11393, 'esquir': 11394, 'fantas': 11395, 'youuuchuuub': 11396, 'duuud': 11397, 'vase': 11398, 'thirst': 11399, 'wook': 11400, 'tgot': 11401, 'kanin': 11402, 'celib': 11403, 'sympathis': 11404, 'justsayin': 11405, 'aimeeeeee': 11406, 'rosari': 11407, 'cabaret': 11408, 'punlk': 11409, 'torcon': 11410, 'snapppp': 11411, 'phn': 11412, 'tmail': 11413, 'weiter': 11414, 'hatr': 11415, 'shecki': 11416, 'lold': 11417, 'jiy': 11418, 'steigi': 11419, 'ahahahahahaha': 11420, 'dunner': 11421, 'mizmind': 11422, 'ojcf': 11423, 'etha': 11424, 'matic': 11425, 'workdon': 11426, 'redtap': 11427, 'gabe': 11428, 'rw': 11429, 'bragg': 11430, 'blunston': 11431, 'dabbl': 11432, 'jah': 11433, 'hellboy': 11434, 'duff': 11435, 'alli': 11436, 'evluw': 11437, 'packer': 11438, 'startl': 11439, 'sadsho': 11440, 'scab': 11441, 'mizz': 11442, 'ernman': 11443, 'hej': 11444, 'malena': 11445, 'lycka': 11446, 'brussel': 11447, 'sprout': 11448, 'jennnnnn': 11449, 'richhhh': 11450, 'aaggh': 11451, 'duke': 11452, 'mktg': 11453, 'pret': 11454, 'liep': 11455, 'zojuist': 11456, 'ngs': 11457, 'lotti': 11458, 'pastim': 11459, 'knack': 11460, 'zavaroni': 11461, 'barrymor': 11462, 'doona': 11463, 'carpark': 11464, 'crystal': 11465, 'socialili': 11466, 'naiv': 11467, 'restuar': 11468, 'lovi': 11469, 'sammich': 11470, 'bongi': 11471, 'jbcg': 11472, 'plead': 11473, 'metric': 11474, 'ryann': 11475, 'autorun': 11476, 'overlord': 11477, 'tuba': 11478, 'pns': 11479, 'lluuvv': 11480, 'evenn': 11481, 'moree': 11482, 'coolin': 11483, 'idkkkk': 11484, 'igot': 11485, 'gryffindor': 11486, 'kho': 11487, 'longman': 11488, 'kraut': 11489, 'nada': 11490, 'clot': 11491, 'bumf': 11492, 'nkotbtweetentixsd': 11493, 'batcav': 11494, 'teeni': 11495, 'honda': 11496, 'biafra': 11497, 'happeen': 11498, 'tzxqn': 11499, 'clooosee': 11500, 'amanita': 11501, 'samorost': 11502, 'peirc': 11503, 'fridayfirehazzard': 11504, 'fxs': 11505, 'masala': 11506, 'chaa': 11507, 'quark': 11508, 'huhuhu': 11509, 'quaterfin': 11510, 'bruv': 11511, 'timet': 11512, 'amtarot': 11513, 'wrath': 11514, 'imissu': 11515, 'primark': 11516, 'teleconfer': 11517, 'rubik': 11518, 'breaker': 11519, 'soulmat': 11520, 'iznt': 11521, 'lfctv': 11522, 'funnest': 11523, 'moab': 11524, 'transatlant': 11525, 'gaiman': 11526, 'shawna': 11527, 'damon': 11528, 'fraktast': 11529, 'zoidberg': 11530, 'stuffit': 11531, 'oouchhhh': 11532, 'primatech': 11533, 'deflat': 11534, 'nts': 11535, 'pffffffffff': 11536, 'fetti': 11537, 'crosbi': 11538, 'republish': 11539, 'balli': 11540, 'shawn': 11541, 'minniapoli': 11542, 'scoop': 11543, 'satisfact': 11544, 'assess': 11545, 'whacker': 11546, 'skypeeeee': 11547, 'hillcat': 11548, 'iat': 11549, 'rivercent': 11550, 'pokemon': 11551, 'mothr': 11552, 'outt': 11553, 'jayi': 11554, 'mommm': 11555, 'geelong': 11556, 'millsi': 11557, 'headbutt': 11558, 'methodolog': 11559, 'pankraz': 11560, 'boyzon': 11561, 'colett': 11562, 'imtiredonlin': 11563, 'mcsupergirl': 11564, 'cuong': 11565, 'sware': 11566, 'pavyi': 11567, 'playingforchang': 11568, 'glamor': 11569, 'kojikun': 11570, 'seastar': 11571, 'chik': 11572, 'handheld': 11573, 'nqudrt': 11574, 'alexandra': 11575, 'belmont': 11576, 'munderday': 11577, 'ghey': 11578, 'kuya': 11579, 'luch': 11580, 'stina': 11581, 'hooom': 11582, 'tought': 11583, 'pius': 11584, 'vendor': 11585, 'raul': 11586, 'gearbox': 11587, 'feeeeeet': 11588, 'lest': 11589, 'vital': 11590, 'reactin': 11591, 'obscur': 11592, 'ummmm': 11593, 'slackin': 11594, 'pitman': 11595, 'sasha': 11596, 'aweesom': 11597, 'anit': 11598, 'nishiki': 11599, 'mahirap': 11600, 'wxqwa': 11601, 'canna': 11602, 'livi': 11603, 'iab': 11604, 'mabaho': 11605, 'stellar': 11606, 'kneel': 11607, 'hup': 11608, 'joco': 11609, 'yippi': 11610, 'fret': 11611, 'mumbl': 11612, 'muffl': 11613, 'quid': 11614, 'tgthr': 11615, 'jonesi': 11616, 'spaceship': 11617, 'naa': 11618, 'sljbw': 11619, 'downhil': 11620, 'shoutbox': 11621, 'overheat': 11622, 'frc': 11623, 'pcola': 11624, 'hmpf': 11625, 'confsu': 11626, 'mkting': 11627, 'thennn': 11628, 'wst': 11629, 'wheater': 11630, 'naglilihi': 11631, 'exspeci': 11632, 'mileey': 11633, 'voe': 11634, 'tabletop': 11635, 'cluster': 11636, 'ooow': 11637, 'tribe': 11638, 'donald': 11639, 'meka': 11640, 'saaaaaaid': 11641, 'ujua': 11642, 'hateee': 11643, 'wlgi': 11644, 'playcount': 11645, 'hasta': 11646, 'siempr': 11647, 'deen': 11648, 'katnip': 11649, 'saddl': 11650, 'reclaim': 11651, 'chittypulga': 11652, 'wtach': 11653, 'recruit': 11654, 'bps': 11655, 'overlap': 11656, 'kickoff': 11657, 'moveabl': 11658, 'taura': 11659, 'hanafiah': 11660, 'morree': 11661, 'shoott': 11662, 'marbl': 11663, 'eliza': 11664, 'reread': 11665, 'discontinu': 11666, 'facebookov': 11667, 'aplikac': 11668, 'hovno': 11669, 'nht': 11670, 'kairo': 11671, 'enlarg': 11672, 'yearrrr': 11673, 'fuge': 11674, 'asbo': 11675, 'didntb': 11676, 'badmicrosoft': 11677, 'sarrah': 11678, 'pbwork': 11679, 'answerd': 11680, 'neighbourss': 11681, 'wxion': 11682, 'annnnnnddd': 11683, 'bladder': 11684, 'ditto': 11685, 'havealovelytim': 11686, 'disater': 11687, 'ferrari': 11688, 'trebl': 11689, 'digestif': 11690, 'blach': 11691, 'doze': 11692, 'amhzz': 11693, 'balmain': 11694, 'knockoff': 11695, 'juh': 11696, 'garley': 11697, 'boomston': 11698, 'pettigrew': 11699, 'bayou': 11700, 'duckett': 11701, 'jayn': 11702, 'smore': 11703, 'jacuzzi': 11704, 'ellipt': 11705, 'splint': 11706, 'dere': 11707, 'outz': 11708, 'devel': 11709, 'mussel': 11710, 'chamomil': 11711, 'rerecord': 11712, 'otu': 11713, 'hennesseyblack': 11714, 'hilli': 11715, 'iusedtobescaredof': 11716, 'flc': 11717, 'jerseyz': 11718, 'fcr': 11719, 'didja': 11720, 'misog': 11721, 'magix': 11722, 'yessum': 11723, 'homee': 11724, 'clownin': 11725, 'rotr': 11726, 'adelita': 11727, 'invinc': 11728, 'ynxr': 11729, 'taskin': 11730, 'errbodi': 11731, 'mscaseycart': 11732, 'joomla': 11733, 'genet': 11734, 'yooooooo': 11735, 'resco': 11736, 'mobileform': 11737, 'toolkit': 11738, 'keve': 11739, 'faddl': 11740, 'curtain': 11741, 'belay': 11742, 'bromeliad': 11743, 'drace': 11744, 'jefferi': 11745, 'stiller': 11746, 'tengo': 11747, 'dinero': 11748, 'cheif': 11749, 'cane': 11750, 'ehh': 11751, 'arteri': 11752, 'hagen': 11753, 'daz': 11754, 'puddl': 11755, 'exhusband': 11756, 'vld': 11757, 'thumbnail': 11758, 'maatt': 11759, 'dudee': 11760, 'piriton': 11761, 'purifi': 11762, 'flashpoint': 11763, 'kpfa': 11764, 'chevron': 11765, 'cun': 11766, 'audun': 11767, 'lifeestyl': 11768, 'witless': 11769, 'foooood': 11770, 'quickest': 11771, 'tennill': 11772, 'bizzl': 11773, 'dolc': 11774, 'hajji': 11775, 'codla': 11776, 'hjs': 11777, 'uninhabit': 11778, 'swept': 11779, 'comedown': 11780, 'sighhh': 11781, 'caturday': 11782, 'decler': 11783, 'barcalona': 11784, 'palomino': 11785, 'cooolooorss': 11786, 'scribkin': 11787, 'xyb': 11788, 'roc': 11789, 'imi': 11790, 'buu': 11791, 'lrzjr': 11792, 'loveliest': 11793, 'busier': 11794, 'hugger': 11795, 'diegoooooooo': 11796, 'pleaseee': 11797, 'ths': 11798, 'rygbi': 11799, 'rwhat': 11800, 'lucien': 11801, 'kerk': 11802, 'vocalist': 11803, 'rosa': 11804, 'guadalup': 11805, 'sedari': 11806, 'ugghhhhh': 11807, 'feeeeeed': 11808, 'meeeeee': 11809, 'kaleidoscop': 11810, 'zemt': 11811, 'elway': 11812, 'nfl': 11813, 'iono': 11814, 'romina': 11815, 'jewellri': 11816, 'dressssss': 11817, 'shitter': 11818, 'jibberish': 11819, 'casagrand': 11820, 'paiseh': 11821, 'misha': 11822, 'flownyc': 11823, 'nyhmz': 11824, 'dionusia': 11825, 'wishlist': 11826, 'bulldog': 11827, 'fattyyi': 11828, 'yself': 11829, 'heroism': 11830, 'goodbey': 11831, 'pressent': 11832, 'uqi': 11833, 'ffwd': 11834, 'aac': 11835, 'marker': 11836, 'mooooooooornin': 11837, 'thundershow': 11838, 'aba': 11839, 'asd': 11840, 'interven': 11841, 'snowbal': 11842, 'urn': 11843, 'aht': 11844, 'blastinggg': 11845, 'reall': 11846, 'aerob': 11847, 'macaroni': 11848, 'skewl': 11849, 'zywwj': 11850, 'jth': 11851, 'invisalign': 11852, 'refit': 11853, 'eleni': 11854, 'provenc': 11855, 'rpgyy': 11856, 'ded': 11857, 'bigtim': 11858, 'oat': 11859, 'pinot': 11860, 'grigio': 11861, 'desperat': 11862, 'policemen': 11863, 'pappadeux': 11864, 'hasa': 11865, 'casserol': 11866, 'kudai': 11867, 'workahol': 11868, 'lifestyl': 11869, 'mccarran': 11870, 'cyah': 11871, 'bhabhi': 11872, 'horseforth': 11873, 'fitzsimmon': 11874, 'gruel': 11875, 'gordo': 11876, 'roller': 11877, 'tributari': 11878, 'ruthi': 11879, 'sbz': 11880, 'ybwm': 11881, 'presh': 11882, 'zd': 11883, 'jnl': 11884, 'whyd': 11885, 'imho': 11886, 'fotolog': 11887, 'sokristen': 11888, 'engadget': 11889, 'eyeshadow': 11890, 'dinna': 11891, 'hink': 11892, 'elgin': 11893, 'districtlin': 11894, 'revertfashion': 11895, 'enchilado': 11896, 'krauss': 11897, 'foke': 11898, 'hazi': 11899, 'waili': 11900, 'alaiiik': 11901, 'tuff': 11902, 'endeavor': 11903, 'goddaught': 11904, 'emox': 11905, 'kilometr': 11906, 'interv': 11907, 'meltdown': 11908, 'ephraim': 11909, 'zenh': 11910, 'iann': 11911, 'terranc': 11912, 'irma': 11913, 'vep': 11914, 'siyal': 11915, 'foreverrr': 11916, 'pung': 11917, 'boognish': 11918, 'clemmi': 11919, 'unattract': 11920, 'msi': 11921, 'overher': 11922, 'bringtaraback': 11923, 'mesa': 11924, 'twa': 11925, 'thinker': 11926, 'rusk': 11927, 'fennel': 11928, 'camomil': 11929, 'naina': 11930, 'inr': 11931, 'beagl': 11932, 'ori': 11933, 'whitecap': 11934, 'revolut': 11935, 'pleeez': 11936, 'bamf': 11937, 'fieeerrcee': 11938, 'ibiza': 11939, 'souljaa': 11940, 'tine': 11941, 'moisturis': 11942, 'glossari': 11943, 'religi': 11944, 'gallor': 11945, 'coatandkay': 11946, 'inoo': 11947, 'ino': 11948, 'truesdal': 11949, 'bytheway': 11950, 'dragonforc': 11951, 'repop': 11952, 'dmc': 11953, 'transcript': 11954, 'maiko': 11955, 'nnnaaa': 11956, 'uhhhh': 11957, 'playah': 11958, 'bandung': 11959, 'awee': 11960, 'webconcept': 11961, 'memoir': 11962, 'boomin': 11963, 'fucc': 11964, 'buccz': 11965, 'starbuccz': 11966, 'yinz': 11967, 'nuuuuu': 11968, 'wolftrap': 11969, 'crippl': 11970, 'twizzler': 11971, 'rolynn': 11972, 'quak': 11973, 'eastgarden': 11974, 'wdui': 11975, 'cjtqaf': 11976, 'mustv': 11977, 'guesss': 11978, 'stace': 11979, 'somethng': 11980, 'microeconom': 11981, 'ilet': 11982, 'oyi': 11983, 'gea': 11984, 'ronin': 11985, 'mattew': 11986, 'mcconaughey': 11987, 'smexi': 11988, 'liloven': 11989, 'kinduhh': 11990, 'unc': 11991, 'mdm': 11992, 'ter': 11993, 'dayuumm': 11994, 'lingeri': 11995, 'bigi': 11996, 'pairung': 11997, 'kathi': 11998, 'cda': 11999, 'corsen': 12000, 'gaba': 12001, 'evrytim': 12002, 'mojojojo': 12003, 'snub': 12004, 'inept': 12005, 'shyness': 12006, 'chellebell': 12007, 'qdoba': 12008, 'hmz': 12009, 'government': 12010, 'iccvb': 12011, 'benchmark': 12012, 'eeeeeeeeeee': 12013, 'memphi': 12014, 'nia': 12015, 'dayton': 12016, 'wiz': 12017, 'kut': 12018, 'celebritytweet': 12019, 'wembley': 12020, 'respit': 12021, 'reassembl': 12022, 'sooooooooooo': 12023, 'mpp': 12024, 'teetotal': 12025, 'waupoo': 12026, 'bumper': 12027, 'troop': 12028, 'militari': 12029, 'yaayi': 12030, 'medhurst': 12031, 'mcflurri': 12032, 'aaaaahhhh': 12033, 'fishfing': 12034, 'carwash': 12035, 'fllwng': 12036, 'eyefi': 12037, 'mpxn': 12038, 'cantttt': 12039, 'shineeee': 12040, 'ragoon': 12041, 'yumb': 12042, 'unix': 12043, 'fidel': 12044, 'apprais': 12045, 'coza': 12046, 'amyth': 12047, 'senc': 12048, 'mueller': 12049, 'sprigg': 12050, 'skydiv': 12051, 'doomsday': 12052, 'guyz': 12053, 'doinq': 12054, 'elig': 12055, 'itz': 12056, 'paniniii': 12057, 'cram': 12058, 'chf': 12059, 'mashup': 12060, 'hysteria': 12061, 'jnv': 12062, 'wagner': 12063, 'shz': 12064, 'arepli': 12065, 'mmmmmmm': 12066, 'cosmic': 12067, 'unclaim': 12068, 'bigot': 12069, 'patronis': 12070, 'imperialist': 12071, 'monoculturalist': 12072, 'righteous': 12073, 'congrats': 12074, 'tew': 12075, 'tara': 12076, 'cathol': 12077, 'wholeheart': 12078, 'ambigu': 12079, 'bandit': 12080, 'deadliestcatch': 12081, 'tpg': 12082, 'suspens': 12083, 'gahd': 12084, 'uggo': 12085, 'catnap': 12086, 'oberhausen': 12087, 'girlz': 12088, 'vagu': 12089, 'popper': 12090, 'personnel': 12091, 'yardhous': 12092, 'blackpool': 12093, 'imit': 12094, 'shaycarl': 12095, 'vlog': 12096, 'buongiorno': 12097, 'yuen': 12098, 'smashspac': 12099, 'ssbb': 12100, 'wider': 12101, 'reducul': 12102, 'mylan': 12103, 'gnlp': 12104, 'brill': 12105, 'berocca': 12106, 'awesomeeeee': 12107, 'succumb': 12108, 'madina': 12109, 'hyd': 12110, 'theka': 12111, 'qiuqiu': 12112, 'emarosa': 12113, 'shiiiiiiiiiiiiiiiiiiiiiiiiiiiiiiiiiiit': 12114, 'maricar': 12115, 'compabl': 12116, 'ngh': 12117, 'judo': 12118, 'hundreth': 12119, 'looooooooooooool': 12120, 'ticketttttss': 12121, 'talker': 12122, 'csh': 12123, 'eyelid': 12124, 'aaarrrggghhh': 12125, 'shermk': 12126, 'vido': 12127, 'dolor': 12128, 'hottti': 12129, 'poooh': 12130, 'sounda': 12131, 'gnatcatch': 12132, 'somth': 12133, 'frikken': 12134, 'baaaaaaaaaaackkkkkkkk': 12135, 'littttttl': 12136, 'alough': 12137, 'soch': 12138, 'obli': 12139, 'aumfff': 12140, 'datin': 12141, 'mei': 12142, 'frankfurt': 12143, 'arnd': 12144, 'walah': 12145, 'feeeel': 12146, 'annnd': 12147, 'tmwr': 12148, 'kanoa': 12149, 'anymore': 12150, 'backward': 12151, 'twitterrif': 12152, 'muhahaha': 12153, 'happytweet': 12154, 'bidor': 12155, 'wantan': 12156, 'cham': 12157, 'candic': 12158, 'ugliest': 12159, 'exjcn': 12160, 'izhdi': 12161, 'bws': 12162, 'cannabi': 12163, 'marijuana': 12164, 'chewbacca': 12165, 'leung': 12166, 'hb': 12167, 'snsd': 12168, 'ent': 12169, 'porsch': 12170, 'farb': 12171, 'tripoli': 12172, 'haaaa': 12173, 'wannnnaaaa': 12174, 'goooooo': 12175, 'swoob': 12176, 'swass': 12177, 'zensifi': 12178, 'landscap': 12179, 'myoh': 12180, 'tarsier': 12181, 'ayanna': 12182, 'electrik': 12183, 'richgirl': 12184, 'joyologist': 12185, 'noun': 12186, 'bosworth': 12187, 'stead': 12188, 'leaveeee': 12189, 'gurantee': 12190, 'parrot': 12191, 'reptil': 12192, 'grrda': 12193, 'genghi': 12194, 'sade': 12195, 'stiff': 12196, 'aundi': 12197, 'ygpg': 12198, 'dica': 12199, 'ruleaz': 12200, 'zic': 12201, 'discosoutmurdersin': 12202, 'broc': 12203, 'insecticid': 12204, 'muhahahaaaa': 12205, 'ofc': 12206, 'cyborg': 12207, 'newscientist': 12208, 'oxm': 12209, 'viggo': 12210, 'ticker': 12211, 'neway': 12212, 'greentea': 12213, 'libray': 12214, 'hernandez': 12215, 'caitlin': 12216, 'gaffigan': 12217, 'allllllllll': 12218, 'goshi': 12219, 'lillestr': 12220, 'isss': 12221, 'morningg': 12222, 'baggin': 12223, 'lauryn': 12224, 'casual': 12225, 'shiiiiiiiiiiiiiiiiiiiiiiiiiiiiiit': 12226, 'stub': 12227, 'destini': 12228, 'hardi': 12229, 'afterlif': 12230, 'strung': 12231, 'deathstar': 12232, 'enterpric': 12233, 'agcth': 12234, 'serendip': 12235, 'kashmir': 12236, 'drom': 12237, 'mcphee': 12238, 'fhm': 12239, 'dollaz': 12240, 'plangi': 12241, 'hispan': 12242, 'cosmos': 12243, 'ubertwitt': 12244, 'unfix': 12245, 'muahhhhhhhhhhhhhhhhhhhhhhhhhhhhhhhh': 12246, 'boyzzzz': 12247, 'microplaza': 12248, 'abrjp': 12249, 'rage': 12250, 'cjamjt': 12251, 'meyruei': 12252, 'replenish': 12253, 'upppppp': 12254, 'nikeplus': 12255, 'eew': 12256, 'headway': 12257, 'mazda': 12258, 'rx': 12259, 'lewi': 12260, 'connector': 12261, 'origami': 12262, 'dcgeyv': 12263, 'rumag': 12264, 'topless': 12265, 'heyheyheyi': 12266, 'watcha': 12267, 'bender': 12268, 'sosad': 12269, 'yb': 12270, 'medley': 12271, 'ryall': 12272, 'roomat': 12273, 'fk': 12274, 'sloppi': 12275, 'replic': 12276, 'wifeyyyyyi': 12277, 'siki': 12278, 'sakura': 12279, 'slapton': 12280, 'shoooot': 12281, 'ebtter': 12282, 'adn': 12283, 'shortstack': 12284, 'darrenmonro': 12285, 'benzo': 12286, 'recori': 12287, 'opac': 12288, 'tailbon': 12289, 'addi': 12290, 'ncc': 12291, 'maxxi': 12292, 'anwar': 12293, 'neomonia': 12294, 'cyalat': 12295, 'resourc': 12296, 'upx': 12297, 'harrykim': 12298, 'wer': 12299, 'neaaarr': 12300, 'stressd': 12301, 'gammm': 12302, 'showroom': 12303, 'chk': 12304, 'lamp': 12305, 'eclectr': 12306, 'vzerohost': 12307, 'khaki': 12308, 'bleah': 12309, 'aaahaha': 12310, 'youstinkatrespondingtotext': 12311, 'carleigh': 12312, 'stimulus': 12313, 'omgg': 12314, 'tripic': 12315, 'yoda': 12316, 'antibiot': 12317, 'sixx': 12318, 'pubul': 12319, 'ssm': 12320, 'cutoff': 12321, 'rhcp': 12322, 'svxe': 12323, 'jovani': 12324, 'anchorag': 12325, 'loot': 12326, 'gauss': 12327, 'sanctiti': 12328, 'taint': 12329, 'basset': 12330, 'turnon': 12331, 'ahhaha': 12332, 'socialmediatv': 12333, 'njv': 12334, 'dargah': 12335, 'legalis': 12336, 'iloveyouuu': 12337, 'btr': 12338, 'herman': 12339, 'fusedgam': 12340, 'abean': 12341, 'ntp': 12342, 'slouchi': 12343, 'baret': 12344, 'zsg': 12345, 'retort': 12346, 'cofffeeeeee': 12347, 'benihana': 12348, 'misshimalreadi': 12349, 'bossman': 12350, 'meadowbank': 12351, 'whatthefuck': 12352, 'goxn': 12353, 'defunctlesi': 12354, 'carpool': 12355, 'alltim': 12356, 'puffffi': 12357, 'leavinggggggg': 12358, 'hubster': 12359, 'caravan': 12360, 'not': 12361, 'grecia': 12362, 'fershur': 12363, 'countdown': 12364, 'hampa': 12365, 'hatiku': 12366, 'kostet': 12367, 'mathsteach': 12368, 'ska': 12369, 'yyyyuck': 12370, 'ppt': 12371, 'sleeeepi': 12372, 'pupil': 12373, 'dha': 12374, 'chanq': 12375, 'jailbroken': 12376, 'div': 12377, 'ramei': 12378, 'itexa': 12379, 'haiszt': 12380, 'novusnovendo': 12381, 'eyecandi': 12382, 'wga': 12383, 'cuut': 12384, 'bugg': 12385, 'dillah': 12386, 'lorenzo': 12387, 'jarvi': 12388, 'sunnni': 12389, 'passiv': 12390, 'agress': 12391, 'empress': 12392, 'trackk': 12393, 'twitteriff': 12394, 'binder': 12395, 'problemat': 12396, 'implod': 12397, 'snazz': 12398, 'summeri': 12399, 'aaaahh': 12400, 'vigor': 12401, 'flygroup': 12402, 'leonard': 12403, 'nimoy': 12404, 'svg': 12405, 'ekkk': 12406, 'ruff': 12407, 'swipe': 12408, 'nte': 12409, 'adida': 12410, 'denyer': 12411, 'xoxoxoxoxoxo': 12412, 'canazarro': 12413, 'imageshack': 12414, 'iprevailedsig': 12415, 'vallejo': 12416, 'ncp': 12417, 'coffeeclub': 12418, 'swolen': 12419, 'shitt': 12420, 'jig': 12421, 'whr': 12422, 'florenc': 12423, 'nintendog': 12424, 'uninstal': 12425, 'newww': 12426, 'razr': 12427, 'mishaneedschapstick': 12428, 'euhm': 12429, 'foa': 12430, 'dinghi': 12431, 'nbx': 12432, 'bravi': 12433, 'becoz': 12434, 'nta': 12435, 'wrkout': 12436, 'hapen': 12437, 'satrt': 12438, 'sanjaya': 12439, 'teniec': 12440, 'preseason': 12441, 'drawl': 12442, 'custodian': 12443, 'envious': 12444, 'zomg': 12445, 'noghti': 12446, 'zzzzzzz': 12447, 'tsx': 12448, 'morrningg': 12449, 'coursewar': 12450, 'ygt': 12451, 'darnit': 12452, 'interweb': 12453, 'lui': 12454, 'fandango': 12455, 'xbla': 12456, 'plana': 12457, 'fxxxmylif': 12458, 'mortifi': 12459, 'cmf': 12460, 'empanada': 12461, 'skwl': 12462, 'avea': 12463, 'emisiun': 12464, 'ceva': 12465, 'nome': 12466, 'bctini': 12467, 'bode': 12468, 'gastronom': 12469, 'newyork': 12470, 'seriouseat': 12471, 'fickl': 12472, 'gatorad': 12473, 'yumyum': 12474, 'aris': 12475, 'hakuna': 12476, 'matana': 12477, 'tantra': 12478, 'kirki': 12479, 'nooooooooooooooo': 12480, 'grid': 12481, 'iqbal': 12482, 'mayor': 12483, 'brainard': 12484, 'cingular': 12485, 'nttn': 12486, 'redmango': 12487, 'disq': 12488, 'zenjar': 12489, 'wydaf': 12490, 'manni': 12491, 'sowi': 12492, 'directv': 12493, 'ondemand': 12494, 'imiss': 12495, 'ashotn': 12496, 'kiau': 12497, 'kaust': 12498, 'quirk': 12499, 'summar': 12500, 'phylli': 12501, 'hyman': 12502, 'unsung': 12503, 'sealer': 12504, 'juggler': 12505, 'hellyeah': 12506, 'charbotgreen': 12507, 'deborah': 12508, 'nickelback': 12509, 'reaaaalli': 12510, 'lnd': 12511, 'vo': 12512, 'cush': 12513, 'twnzfinest': 12514, 'magician': 12515, 'apnea': 12516, 'goodbyeee': 12517, 'lubbock': 12518, 'mysterio': 12519, 'feastfriday': 12520, 'baillon': 12521, 'beamer': 12522, 'prn': 12523, 'accumul': 12524, 'freo': 12525, 'bruh': 12526, 'erect': 12527, 'swimmer': 12528, 'mbps': 12529, 'horoscop': 12530, 'defit': 12531, 'kaul': 12532, 'bradddd': 12533, 'squeeki': 12534, 'pfftt': 12535, 'eaat': 12536, 'timothi': 12537, 'roflmfao': 12538, 'hairsss': 12539, 'lalala': 12540, 'stoooopit': 12541, 'stooopit': 12542, 'rendit': 12543, 'slippi': 12544, 'powershel': 12545, 'piglet': 12546, 'stove': 12547, 'anniemay': 12548, 'zak': 12549, 'wuld': 12550, 'qkb': 12551, 'knowng': 12552, 'sung': 12553, 'erbdi': 12554, 'hahahahahahhaaaa': 12555, 'randi': 12556, 'vidjagam': 12557, 'vgtribun': 12558, 'shoutin': 12559, 'tarrant': 12560, 'bludg': 12561, 'horten': 12562, 'storys': 12563, 'liner': 12564, 'coukd': 12565, 'flair': 12566, 'yaaawn': 12567, 'metaphor': 12568, 'opaqu': 12569, 'gotto': 12570, 'evermor': 12571, 'iain': 12572, 'artomat': 12573, 'streek': 12574, 'platium': 12575, 'zongzi': 12576, 'winchest': 12577, 'coogar': 12578, 'hwi': 12579, 'cwack': 12580, 'greeeeeat': 12581, 'greenlak': 12582, 'sistah': 12583, 'xxxxxxxxxxxxxxxxx': 12584, 'confuzzl': 12585, 'happyslip': 12586, 'vsp': 12587, 'newman': 12588, 'stephani': 12589, 'greensboro': 12590, 'precari': 12591, 'ricotta': 12592, 'molotov': 12593, 'braxton': 12594, 'dampier': 12595, 'rcb': 12596, 'kissa': 12597, 'enchilada': 12598, 'suiza': 12599, 'krys': 12600, 'dakota': 12601, 'everryth': 12602, 'breadtalk': 12603, 'persaud': 12604, 'goon': 12605, 'subo': 12606, 'britian': 12607, 'ello': 12608, 'gahaha': 12609, 'bulmer': 12610, 'pear': 12611, 'hurryup': 12612, 'omgimpati': 12613, 'goooooodmor': 12614, 'yat': 12615, 'ayge': 12616, 'ariella': 12617, 'gonzalez': 12618, 'geesh': 12619, 'nside': 12620, 'babysitterdirectori': 12621, 'reveal': 12622, 'whing': 12623, 'lannen': 12624, 'hime': 12625, 'rollin': 12626, 'lond': 12627, 'pik': 12628, 'relaxxxx': 12629, 'birthdaaaay': 12630, 'boe': 12631, 'huntington': 12632, 'sugaaar': 12633, 'skrg': 12634, 'sempit': 12635, 'waktunya': 12636, 'linz': 12637, 'squirt': 12638, 'aislinntighe': 12639, 'bhaha': 12640, 'nightclub': 12641, 'urgp': 12642, 'mpaa': 12643, 'videorecord': 12644, 'teflon': 12645, 'whiski': 12646, 'pct': 12647, 'suburb': 12648, 'omigood': 12649, 'morongo': 12650, 'marjori': 12651, 'jemimah': 12652, 'tnshf': 12653, 'bellshil': 12654, 'bothwel': 12655, 'tunnock': 12656, 'swam': 12657, 'grandaddi': 12658, 'ckas': 12659, 'vur': 12660, 'megainternetwealth': 12661, 'pundit': 12662, 'summi': 12663, 'abnorm': 12664, 'pervert': 12665, 'wikid': 12666, 'myne': 12667, 'dudd': 12668, 'spineless': 12669, 'zguqp': 12670, 'distinct': 12671, 'epicent': 12672, 'caaus': 12673, 'bennington': 12674, 'mong': 12675, 'banburi': 12676, 'esspens': 12677, 'haff': 12678, 'bearfoot': 12679, 'gosl': 12680, 'geolog': 12681, 'austen': 12682, 'northang': 12683, 'gphone': 12684, 'conaway': 12685, 'kenicki': 12686, 'sympath': 12687, 'vhemt': 12688, 'basten': 12689, 'proven': 12690, 'kn': 12691, 'boogah': 12692, 'sounder': 12693, 'ladmag': 12694, 'nccqya': 12695, 'jobe': 12696, 'qagh': 12697, 'bogus': 12698, 'asthet': 12699, 'elvira': 12700, 'dow': 12701, 'ackl': 12702, 'lastnt': 12703, 'lammi': 12704, 'sherman': 12705, 'scholl': 12706, 'miscarriag': 12707, 'adaptor': 12708, 'tia': 12709, 'vmv': 12710, 'omfgggg': 12711, 'orderd': 12712, 'bullshit': 12713, 'gunn': 12714, 'meteor': 12715, 'spok': 12716, 'longg': 12717, 'awesomest': 12718, 'heee': 12719, 'burnin': 12720, 'heartbeat': 12721, 'interlock': 12722, 'arlington': 12723, 'zeta': 12724, 'kvt': 12725, 'xpvt': 12726, 'fcukkk': 12727, 'deetz': 12728, 'cancerfre': 12729, 'merrier': 12730, 'owwie': 12731, 'poooooooor': 12732, 'sheeeep': 12733, 'gayorbispac': 12734, 'joburg': 12735, 'lanki': 12736, 'krn': 12737, 'mitzi': 12738, 'baru': 12739, 'ber': 12740, 'happili': 12741, 'yh': 12742, 'eekk': 12743, 'influx': 12744, 'minuto': 12745, 'yeeeeeessss': 12746, 'cypher': 12747, 'teeshirt': 12748, 'faaar': 12749, 'palmdal': 12750, 'convict': 12751, 'lrolj': 12752, 'vmail': 12753, 'pand': 12754, 'minnish': 12755, 'jvop': 12756, 'oversleep': 12757, 'graci': 12758, 'slidebar': 12759, 'makingfun': 12760, 'diplo': 12761, 'kathryn': 12762, 'smartbar': 12763, 'arrgghhhggguuuiiissshhhh': 12764, 'burma': 12765, 'eeeep': 12766, 'klonopin': 12767, 'gotdamn': 12768, 'paintbal': 12769, 'asaran': 12770, 'uswitch': 12771, 'poof': 12772, 'creami': 12773, 'ktfbr': 12774, 'lassetti': 12775, 'wwdc': 12776, 'jeeeeez': 12777, 'scanlon': 12778, 'hoars': 12779, 'depechemod': 12780, 'gahan': 12781, 'meanest': 12782, 'jfk': 12783, 'cockermouth': 12784, 'traveljunki': 12785, 'penql': 12786, 'feedicon': 12787, 'swin': 12788, 'aaaaaaaaaahhhhhhhh': 12789, 'brrrrrr': 12790, 'boopboopboop': 12791, 'lec': 12792, 'luvd': 12793, 'extent': 12794, 'wahoo': 12795, 'brazillian': 12796, 'wqe': 12797, 'kennedi': 12798, 'hypnot': 12799, 'ilost': 12800, 'iappreci': 12801, 'airplan': 12802, 'onpeak': 12803, 'dritan': 12804, 'bran': 12805, 'ysav': 12806, 'twittin': 12807, 'crest': 12808, 'masseuss': 12809, 'buttock': 12810, 'hussein': 12811, 'jiuliani': 12812, 'fontana': 12813, 'woope': 12814, 'ironpython': 12815, 'compact': 12816, 'emit': 12817, 'tomoro': 12818, 'specilist': 12819, 'ectop': 12820, 'uritor': 12821, 'amyyyy': 12822, 'tvs': 12823, 'vhit': 12824, 'chel': 12825, 'demolish': 12826, 'chaseton': 12827, 'rog': 12828, 'minotouro': 12829, 'warcraft': 12830, 'impostor': 12831, 'eeyea': 12832, 'luau': 12833, 'poetiz': 12834, 'cong': 12835, 'karnataka': 12836, 'cauveri': 12837, 'fnb': 12838, 'ddd': 12839, 'scrap': 12840, 'whahahah': 12841, 'bobo': 12842, 'bobobyeby': 12843, 'dreamland': 12844, 'steven': 12845, 'waterhous': 12846, 'jhi': 12847, 'ohmigod': 12848, 'aaaww': 12849, 'courseee': 12850, 'kwijt': 12851, 'wnna': 12852, 'saucepan': 12853, 'starla': 12854, 'jhim': 12855, 'yavanna': 12856, 'shweeeeet': 12857, 'bahahaha': 12858, 'gabriel': 12859, 'helena': 12860, 'cantab': 12861, 'esm': 12862, 'pog': 12863, 'preorder': 12864, 'sphex': 12865, 'mallorca': 12866, 'calyx': 12867, 'edinburghac': 12868, 'iloveitwhen': 12869, 'chemist': 12870, 'applianc': 12871, 'neewwww': 12872, 'veranda': 12873, 'junt': 12874, 'baggag': 12875, 'ooohhhhh': 12876, 'oxteach': 12877, 'artifici': 12878, 'oofm': 12879, 'dahl': 12880, 'brynn': 12881, 'pratchett': 12882, 'westcoastg': 12883, 'facial': 12884, 'nooooooooooo': 12885, 'soprano': 12886, 'como': 12887, 'aaaaall': 12888, 'tailight': 12889, 'wrigley': 12890, 'jessicaaaa': 12891, 'gatwick': 12892, 'chale': 12893, 'tweetless': 12894, 'awok': 12895, 'aguilera': 12896, 'ilovemymommi': 12897, 'grouch': 12898, 'soichi': 12899, 'negishi': 12900, 'amai': 12901, 'koibito': 12902, 'mariel': 12903, 'vdn': 12904, 'babyyi': 12905, 'fgl': 12906, 'embouchur': 12907, 'carcassonn': 12908, 'tomb': 12909, 'avert': 12910, 'meowmi': 12911, 'hawaiian': 12912, 'reus': 12913, 'architect': 12914, 'tar': 12915, 'promenad': 12916, 'wsk': 12917, 'busssssss': 12918, 'bannerbomb': 12919, 'homebrew': 12920, 'tct': 12921, 'shutdown': 12922, 'livestream': 12923, 'bindz': 12924, 'unto': 12925, 'slay': 12926, 'inbrug': 12927, 'fang': 12928, 'botcon': 12929, 'lolzz': 12930, 'moooooorn': 12931, 'custodi': 12932, 'suuuuck': 12933, 'vacin': 12934, 'camb': 12935, 'eeeeeeeeee': 12936, 'allmoth': 12937, 'silicon': 12938, 'happpppi': 12939, 'rosti': 12940, 'svhvh': 12941, 'slammer': 12942, 'dadt': 12943, 'vibrant': 12944, 'cpeven': 12945, 'gmtv': 12946, 'cytheria': 12947, 'gallston': 12948, 'pue': 12949, 'chiquita': 12950, 'esa': 12951, 'dancefloor': 12952, 'ydb': 12953, 'juansimon': 12954, 'newsroom': 12955, 'blossom': 12956, 'localgovcamp': 12957, 'sacrif': 12958, 'wtzj': 12959, 'dnb': 12960, 'fanat': 12961, 'plywood': 12962, 'trickeri': 12963, 'exasper': 12964, 'hijack': 12965, 'uglier': 12966, 'scoobi': 12967, 'habitat': 12968, 'duc': 12969, 'adrenalin': 12970, 'hannahisdead': 12971, 'fuckyeah': 12972, 'xol': 12973, 'qyw': 12974, 'granada': 12975, 'lpmvtk': 12976, 'aaaagggessss': 12977, 'helplin': 12978, 'ndo': 12979, 'tupprwr': 12980, 'lid': 12981, 'ensu': 12982, 'pilat': 12983, 'tweetheart': 12984, 'deaf': 12985, 'waltzer': 12986, 'hopeflli': 12987, 'leandro': 12988, 'subponea': 12989, 'immobil': 12990, 'reclin': 12991, 'willhoit': 12992, 'collist': 12993, 'cupi': 12994, 'rblpnbro': 12995, 'warmth': 12996, 'depth': 12997, 'lincolnshir': 12998, 'xaj': 12999, 'qz': 13000, 'blvd': 13001, 'aleesha': 13002, 'stufft': 13003, 'elanc': 13004, 'catti': 13005, 'tya': 13006, 'vioc': 13007, 'soln': 13008, 'foad': 13009, 'kr': 13010, 'sampler': 13011, 'abuelo': 13012, 'aguadilla': 13013, 'phast': 13014, 'sequenc': 13015, 'pple': 13016, 'shep': 13017, 'melatonin': 13018, 'ldbf': 13019, 'churn': 13020, 'dopppp': 13021, 'moshi': 13022, 'moshhhh': 13023, 'wkhi': 13024, 'jetson': 13025, 'finltston': 13026, 'straycat': 13027, 'bord': 13028, 'rih': 13029, 'squirel': 13030, 'solitair': 13031, 'khn': 13032, 'accordion': 13033, 'thief': 13034, 'parec': 13035, 'persona': 13036, 'estan': 13037, 'acuerdo': 13038, 'xbl': 13039, 'sti': 13040, 'deathcab': 13041, 'maaaannnnnnnnn': 13042, 'dvb': 13043, 'nvidia': 13044, 'ideapad': 13045, 'zy': 13046, 'fn': 13047, 'starter': 13048, 'weig': 13049, 'wooooooooooooooooooooooooooooooooooooooooooooooooooooooooooooooooooooooooooooooooooooooooooooooooooooooooooooo': 13050, 'sheriff': 13051, 'footer': 13052, 'cruisemaniac': 13053, 'litt': 13054, 'lese': 13055, 'sist': 13056, 'tweetsen': 13057, 'proov': 13058, 'hafiz': 13059, 'saigon': 13060, 'hanoi': 13061, 'tps': 13062, 'jelz': 13063, 'loudquietloud': 13064, 'santiago': 13065, 'tron': 13066, 'leakycon': 13067, 'otherinbox': 13068, 'multiplay': 13069, 'gfail': 13070, 'textil': 13071, 'kink': 13072, 'synolog': 13073, 'diskstat': 13074, 'ror': 13075, 'kindest': 13076, 'enquiri': 13077, 'cagebal': 13078, 'joemo': 13079, 'hounslow': 13080, 'rica': 13081, 'height': 13082, 'bumbpi': 13083, 'evo': 13084, 'slingalink': 13085, 'evic': 13086, 'kindergarden': 13087, 'novacain': 13088, 'pumpin': 13089, 'nag': 13090, 'headrush': 13091, 'dinno': 13092, 'nutrit': 13093, 'unladylik': 13094, 'forsaken': 13095, 'stereosound': 13096, 'lainey': 13097, 'glau': 13098, 'mnrezc': 13099, 'omar': 13100, 'jrm': 13101, 'samuri': 13102, 'mealtim': 13103, 'pkuer': 13104, 'leukemia': 13105, 'ht': 13106, 'goodnit': 13107, 'whichev': 13108, 'baybe': 13109, 'diggg': 13110, 'ammoxxx': 13111, 'grrrl': 13112, 'burned': 13113, 'bordum': 13114, 'calfornia': 13115, 'ysj': 13116, 'chandeli': 13117, 'underdog': 13118, 'durango': 13119, 'woodchuck': 13120, 'drumset': 13121, 'carlsbad': 13122, 'montepulciano': 13123, 'dingl': 13124, 'zx': 13125, 'shortcak': 13126, 'shortcakefail': 13127, 'sancha': 13128, 'chini': 13129, 'ukq': 13130, 'whini': 13131, 'wxmt': 13132, 'tutto': 13133, 'cuor': 13134, 'sensor': 13135, 'prac': 13136, 'structr': 13137, 'lwr': 13138, 'usher': 13139, 'lanham': 13140, 'todo': 13141, 'pase': 13142, 'gracin': 13143, 'skitch': 13144, 'tac': 13145, 'ryaaaaaaaaaaaaan': 13146, 'elton': 13147, 'bellion': 13148, 'yiha': 13149, 'tcr': 13150, 'zpf': 13151, 'cinncinatti': 13152, 'zzzzi': 13153, 'okiebud': 13154, 'xuxu': 13155, 'hooo': 13156, 'hyhtt': 13157, 'tequila': 13158, 'rebond': 13159, 'kunal': 13160, 'khemu': 13161, 'starrer': 13162, 'nich': 13163, 'maaad': 13164, 'electro': 13165, 'outright': 13166, 'lori': 13167, 'loooooold': 13168, 'idyl': 13169, 'geordiebird': 13170, 'koyqo': 13171, 'aptw': 13172, 'willkommen': 13173, 'skoo': 13174, 'thiss': 13175, 'sorbet': 13176, 'azl': 13177, 'plural': 13178, 'theatlant': 13179, 'facebookhumor': 13180, 'mhtml': 13181, 'peski': 13182, 'rlqgu': 13183, 'findin': 13184, 'twitaddict': 13185, 'loaf': 13186, 'chantal': 13187, 'yesti': 13188, 'grandrapid': 13189, 'rafa': 13190, 'disect': 13191, 'cumqmv': 13192, 'skeleton': 13193, 'envelop': 13194, 'adio': 13195, 'norfolk': 13196, 'jag': 13197, 'lupita': 13198, 'safeway': 13199, 'depech': 13200, 'yst': 13201, 'adwancrd': 13202, 'pantech': 13203, 'mqf': 13204, 'sunshiin': 13205, 'cotti': 13206, 'omega': 13207, 'belvoir': 13208, 'pentagon': 13209, 'wehl': 13210, 'gudluck': 13211, 'wefollow': 13212, 'badminton': 13213, 'pension': 13214, 'rundown': 13215, 'diver': 13216, 'thesi': 13217, 'lacklust': 13218, 'shortstop': 13219, 'mendoza': 13220, 'smallvill': 13221, 'liber': 13222, 'crucifict': 13223, 'abstract': 13224, 'uterus': 13225, 'copyright': 13226, 'yli': 13227, 'impair': 13228, 'sccr': 13229, 'xxxxxxx': 13230, 'jfuu': 13231, 'penetr': 13232, 'recollect': 13233, 'unkown': 13234, 'musicar': 13235, 'anway': 13236, 'oe': 13237, 'jell': 13238, 'dizon': 13239, 'hail': 13240, 'gqmf': 13241, 'woefulli': 13242, 'webdesign': 13243, 'coboyf': 13244, 'cashout': 13245, 'jlo': 13246, 'mea': 13247, 'coold': 13248, 'tantrum': 13249, 'apologet': 13250, 'grtsat': 13251, 'bggete': 13252, 'wqfv': 13253, 'frapp': 13254, 'recontinu': 13255, 'breathless': 13256, 'knuckl': 13257, 'uugghh': 13258, 'uq': 13259, 'spgridview': 13260, 'jennah': 13261, 'lsu': 13262, 'inovera': 13263, 'jakki': 13264, 'oasxx': 13265, 'fiiiinaaalllyyi': 13266, 'torenti': 13267, 'retract': 13268, 'thennnnnnnn': 13269, 'sosososo': 13270, 'tatteddddd': 13271, 'nathanfillion': 13272, 'wolverhampton': 13273, 'starin': 13274, 'fussi': 13275, 'foxford': 13276, 'pontoon': 13277, 'underground': 13278, 'nothinbg': 13279, 'newsbit': 13280, 'wyb': 13281, 'twomey': 13282, 'icann': 13283, 'neurosurgeon': 13284, 'loov': 13285, 'chimp': 13286, 'cor': 13287, 'baccck': 13288, 'minuet': 13289, 'stratus': 13290, 'whhhyyi': 13291, 'omelet': 13292, 'napkin': 13293, 'rconp': 13294, 'leeloo': 13295, 'tifullytrag': 13296, 'napppinggg': 13297, 'michelleeeeeeeeeeeemybelleeeeeeeeeeeeeeeee': 13298, 'joplin': 13299, 'munsay': 13300, 'droid': 13301, 'esgiq': 13302, 'xx': 13303, 'sxsw': 13304, 'firepit': 13305, 'niiiighht': 13306, 'amazzz': 13307, 'wordddss': 13308, 'arik': 13309, 'scarey': 13310, 'barbara': 13311, 'awoooogahhhhhh': 13312, 'shay': 13313, 'shlda': 13314, 'knwn': 13315, 'crd': 13316, 'scorpian': 13317, 'bwl': 13318, 'upshot': 13319, 'nonlong': 13320, 'freshner': 13321, 'horriblel': 13322, 'daaammmnnnnn': 13323, 'anwb': 13324, 'fjeam': 13325, 'cuckoo': 13326, 'whoishonorsocieti': 13327, 'ayaw': 13328, 'bumuka': 13329, 'wxlxs': 13330, 'soco': 13331, 'damali': 13332, 'chiclit': 13333, 'jorg': 13334, 'tgxzu': 13335, 'landon': 13336, 'yayyyyyyy': 13337, 'flatti': 13338, 'andswer': 13339, 'wrkd': 13340, 'wahliao': 13341, 'fandom': 13342, 'oyfl': 13343, 'minnesota': 13344, 'ermintrud': 13345, 'movin': 13346, 'xww': 13347, 'phh': 13348, 'sennheis': 13349, 'cx': 13350, 'catullus': 13351, 'ovid': 13352, 'aeneid': 13353, 'ux': 13354, 'haaaat': 13355, 'violin': 13356, 'myyearbook': 13357, 'duckrac': 13358, 'seal': 13359, 'entranc': 13360, 'zipcod': 13361, 'orrall': 13362, 'teriyaki': 13363, 'treck': 13364, 'batonroug': 13365, 'cran': 13366, 'glowi': 13367, 'ravey': 13368, 'pizzari': 13369, 'godtalk': 13370, 'knighti': 13371, 'stq': 13372, 'welllll': 13373, 'benn': 13374, 'seeley': 13375, 'vikc': 13376, 'myyi': 13377, 'typhoid': 13378, 'norwood': 13379, 'haaaaaa': 13380, 'aaaaand': 13381, 'endodontist': 13382, 'ceram': 13383, 'ranga': 13384, 'path': 13385, 'nando': 13386, 'zommgg': 13387, 'screamo': 13388, 'kiddshow': 13389, 'vu': 13390, 'unbecominglili': 13391, 'sherri': 13392, 'plzzzz': 13393, 'grungi': 13394, 'boyz': 13395, 'punkin': 13396, 'billiam': 13397, 'cuuutest': 13398, 'christen': 13399, 'upkeep': 13400, 'lentil': 13401, 'itsjeff': 13402, 'ulu': 13403, 'ahhahahaha': 13404, 'ariyan': 13405, 'hamish': 13406, 'chauffer': 13407, 'neti': 13408, 'itd': 13409, 'jewel': 13410, 'boozin': 13411, 'myslef': 13412, 'buwies': 13413, 'ecpm': 13414, 'fontstruct': 13415, 'eje': 13416, 'dafont': 13417, 'wyyp': 13418, 'dap': 13419, 'hoeish': 13420, 'momo': 13421, 'kentucki': 13422, 'geezzz': 13423, 'siargao': 13424, 'nlng': 13425, 'pla': 13426, 'laiter': 13427, 'yeaaaaaah': 13428, 'batter': 13429, 'rumi': 13430, 'fii': 13431, 'mushkila': 13432, 'haayi': 13433, 'avn': 13434, 'waah': 13435, 'seduc': 13436, 'friendlyand': 13437, 'alphonso': 13438, 'lassi': 13439, 'nimbupaani': 13440, 'okaay': 13441, 'maaaaannnn': 13442, 'holidayzzzzz': 13443, 'suwweeeeet': 13444, 'fondont': 13445, 'processor': 13446, 'unintuit': 13447, 'weirder': 13448, 'toodaayi': 13449, 'jummi': 13450, 'todaaaaay': 13451, 'grenad': 13452, 'alert': 13453, 'negghead': 13454, 'ckdwao': 13455, 'ppphhhhhttttt': 13456, 'inth': 13457, 'nigt': 13458, 'hellerrr': 13459, 'followerss': 13460, 'tricina': 13461, 'uhhm': 13462, 'bellyach': 13463, 'meeeeeee': 13464, 'freakkin': 13465, 'clen': 13466, 'musicistheheartofoursoul': 13467, 'niptuck': 13468, 'talktalk': 13469, 'weat': 13470, 'maaddict': 13471, 'greatt': 13472, 'interfer': 13473, 'miri': 13474, 'lhgca': 13475, 'illumin': 13476, 'dreaaam': 13477, 'polyvor': 13478, 'whalen': 13479, 'maccabe': 13480, 'bev': 13481, 'okasan': 13482, 'span': 13483, 'seeeeeeee': 13484, 'firemen': 13485, 'shia': 13486, 'yippie': 13487, 'malo': 13488, 'cloggin': 13489, 'pleeeeeeeassseeeeee': 13490, 'ichat': 13491, 'critiqu': 13492, 'aarrgghh': 13493, 'hose': 13494, 'holbi': 13495, 'nadin': 13496, 'lewington': 13497, 'clifford': 13498, 'statist': 13499, 'fuz': 13500, 'realx': 13501, 'shiit': 13502, 'wwww': 13503, 'fiftyfivethread': 13504, 'homey': 13505, 'dealer': 13506, 'driven': 13507, 'mazi': 13508, 'kristina': 13509, 'seduct': 13510, 'sprawl': 13511, 'bloke': 13512, 'bonnet': 13513, 'shocker': 13514, 'btween': 13515, 'comedyqueen': 13516, 'alrightttt': 13517, 'fuschia': 13518, 'sheath': 13519, 'chic': 13520, 'vera': 13521, 'sharkeez': 13522, 'hiyaaaaaa': 13523, 'peoplebrowsr': 13524, 'frd': 13525, 'yung': 13526, 'palisad': 13527, 'wxk': 13528, 'hairstyp': 13529, 'hayfeveri': 13530, 'sufferin': 13531, 'nanosecond': 13532, 'wishhh': 13533, 'dongggg': 13534, 'smoothstream': 13535, 'lumpia': 13536, 'pancit': 13537, 'fooood': 13538, 'amma': 13539, 'nugent': 13540, 'mif': 13541, 'irwin': 13542, 'roseburg': 13543, 'sicke': 13544, 'miso': 13545, 'grrrrri': 13546, 'rcp': 13547, 'diagram': 13548, 'mainstream': 13549, 'ufig': 13550, 'versa': 13551, 'duber': 13552, 'klondik': 13553, 'sheat': 13554, 'sightse': 13555, 'gaijin': 13556, 'godzilla': 13557, 'yq': 13558, 'mistaken': 13559, 'gasto': 13560, 'namen': 13561, 'serani': 13562, 'cuteset': 13563, 'looooooov': 13564, 'cale': 13565, 'dramat': 13566, 'crazili': 13567, 'pornstar': 13568, 'ajc': 13569, 'muahh': 13570, 'deplyod': 13571, 'falouga': 13572, 'nnd': 13573, 'einstein': 13574, 'manicur': 13575, 'ollmann': 13576, 'sig': 13577, 'stake': 13578, 'challah': 13579, 'ironclad': 13580, 'tortellini': 13581, 'tweeeet': 13582, 'wtyj': 13583, 'shhhweeeet': 13584, 'quitsmokingdiari': 13585, 'yaaaaaayi': 13586, 'sephora': 13587, 'coolidg': 13588, 'ridin': 13589, 'photowalkingutah': 13590, 'photowalk': 13591, 'powerbal': 13592, 'jackpot': 13593, 'formid': 13594, 'inthebattl': 13595, 'aspx': 13596, 'bucher': 13597, 'wichita': 13598, 'kraussey': 13599, 'oblig': 13600, 'donor': 13601, 'chipolt': 13602, 'collin': 13603, 'capabl': 13604, 'jbba': 13605, 'hove': 13606, 'trailor': 13607, 'tourtur': 13608, 'itonlinelol': 13609, 'accdentt': 13610, 'godddd': 13611, 'jeij': 13612, 'spiderweb': 13613, 'dreadzon': 13614, 'macrina': 13615, 'dunham': 13616, 'tks': 13617, 'chiptun': 13618, 'andim': 13619, 'asi': 13620, 'inadequ': 13621, 'ineedhelp': 13622, 'millenia': 13623, 'adequ': 13624, 'ealli': 13625, 'themovi': 13626, 'daniell': 13627, 'heelllll': 13628, 'reden': 13629, 'puffyn': 13630, 'earthlink': 13631, 'businessi': 13632, 'octupi': 13633, 'visl': 13634, 'apaent': 13635, 'masson': 13636, 'moviee': 13637, 'hz': 13638, 'wieder': 13639, 'pllleeeaaassseeeee': 13640, 'halari': 13641, 'jayem': 13642, 'krisisdnb': 13643, 'asx': 13644, 'knda': 13645, 'ronaldo': 13646, 'twune': 13647, 'matanggap': 13648, 'yts': 13649, 'jolt': 13650, 'hagg': 13651, 'thees': 13652, 'flowin': 13653, 'sooooon': 13654, 'freshmen': 13655, 'jpeg': 13656, 'terminolog': 13657, 'biiiiig': 13658, 'insulin': 13659, 'jleno': 13660, 'afterjun': 13661, 'negoti': 13662, 'croon': 13663, 'heyyhoo': 13664, 'heyhey': 13665, 'rim': 13666, 'fright': 13667, 'spartacus': 13668, 'spiritualsmart': 13669, 'oddo': 13670, 'grandfath': 13671, 'eeekkkk': 13672, 'astronomi': 13673, 'fkc': 13674, 'embroideri': 13675, 'bunuelo': 13676, 'trudi': 13677, 'burnet': 13678, 'tsar': 13679, 'aaaaaaaaaamaz': 13680, 'actinggg': 13681, 'powerdvd': 13682, 'screeni': 13683, 'bonker': 13684, 'coleman': 13685, 'releasd': 13686, 'kiddnat': 13687, 'buyin': 13688, 'claus': 13689, 'kristen': 13690, 'brass': 13691, 'bmap': 13692, 'lzrpc': 13693, 'queef': 13694, 'sorryyyyyy': 13695, 'radiat': 13696, 'kurt': 13697, 'aber': 13698, 'dire': 13699, 'shute': 13700, 'jsgl': 13701, 'ravish': 13702, 'inbound': 13703, 'haavent': 13704, 'platypus': 13705, 'edmontonian': 13706, 'shabu': 13707, 'squeege': 13708, 'vespa': 13709, 'headlight': 13710, 'jji': 13711, 'rainini': 13712, 'naplan': 13713, 'nutin': 13714, 'dairi': 13715, 'jcxr': 13716, 'dreamer': 13717, 'dollarama': 13718, 'workday': 13719, 'ade': 13720, 'gettt': 13721, 'ukrainian': 13722, 'marque': 13723, 'firepro': 13724, 'snood': 13725, 'legless': 13726, 'stillborn': 13727, 'ducati': 13728, 'edumedia': 13729, 'ecaytrad': 13730, 'tiffani': 13731, 'eerrrr': 13732, 'thikn': 13733, 'atlanit': 13734, 'mayjah': 13735, 'cristo': 13736, 'confetti': 13737, 'twirl': 13738, 'wrapper': 13739, 'zammo': 13740, 'pag': 13741, 'basta': 13742, 'almighti': 13743, 'scoundrel': 13744, 'buzi': 13745, 'afro': 13746, 'beckwith': 13747, 'joyner': 13748, 'pdx': 13749, 'waaaaaaaa': 13750, 'chilito': 13751, 'irac': 13752, 'lyndon': 13753, 'tasmania': 13754, 'okie': 13755, 'zippi': 13756, 'mths': 13757, 'favourti': 13758, 'exhiler': 13759, 'slash': 13760, 'cuold': 13761, 'steppin': 13762, 'pleaseeeeeeeeeeeee': 13763, 'mystic': 13764, 'bient': 13765, 'lire': 13766, 'quinci': 13767, 'liden': 13768, 'ddoodm': 13769, 'sleepytown': 13770, 'titanium': 13771, 'latrin': 13772, 'reflexi': 13773, 'arcad': 13774, 'interwebnet': 13775, 'xmo': 13776, 'pgymj': 13777, 'bba': 13778, 'haaaaair': 13779, 'sickkkk': 13780, 'roundabout': 13781, 'proxim': 13782, 'lolsz': 13783, 'gracia': 13784, 'barrowman': 13785, 'winnipeg': 13786, 'poser': 13787, 'bishopstorford': 13788, 'sadsvill': 13789, 'buch': 13790, 'preheatin': 13791, 'vbzg': 13792, 'oeira': 13793, 'offhand': 13794, 'nickj': 13795, 'rolemodel': 13796, 'burial': 13797, 'jurass': 13798, 'nemecek': 13799, 'keed': 13800, 'herrrrr': 13801, 'catchyy': 13802, 'darwin': 13803, 'avatarcamp': 13804, 'mejer': 13805, 'emmm': 13806, 'souvlaki': 13807, 'dimitri': 13808, 'harleton': 13809, 'dramathon': 13810, 'nostalg': 13811, 'spar': 13812, 'motorola': 13813, 'jorx': 13814, 'nerdprom': 13815, 'deng': 13816, 'slut': 13817, 'jealz': 13818, 'puggi': 13819, 'pughug': 13820, 'alimoni': 13821, 'mischevi': 13822, 'pinwheel': 13823, 'bubblegum': 13824, 'tatler': 13825, 'jhtv': 13826, 'panwa': 13827, 'stickler': 13828, 'dpi': 13829, 'peril': 13830, 'ember': 13831, 'dant': 13832, 'churchil': 13833, 'kellz': 13834, 'cluedo': 13835, 'spawn': 13836, 'amigui': 13837, 'evar': 13838, 'awnser': 13839, 'maaaan': 13840, 'sch': 13841, 'kinni': 13842, 'chooool': 13843, 'ericson': 13844, 'pralin': 13845, 'kd': 13846, 'derham': 13847, 'yeem': 13848, 'shepard': 13849, 'leyton': 13850, 'tkd': 13851, 'rainstorm': 13852, 'dennisgomez': 13853, 'silvera': 13854, 'greeat': 13855, 'mach': 13856, 'blt': 13857, 'botega': 13858, 'cheeseburglar': 13859, 'taff': 13860, 'nevar': 13861, 'kde': 13862, 'cameraphon': 13863, 'bbbbrrrrrrrrr': 13864, 'lonelyyyy': 13865, 'tomrrow': 13866, 'folo': 13867, 'nomin': 13868, 'gale': 13869, 'dzzaf': 13870, 'combat': 13871, 'boast': 13872, 'gangsterrr': 13873, 'drem': 13874, 'kali': 13875, 'liljess': 13876, 'tweekdeckkk': 13877, 'cryyyy': 13878, 'opportinist': 13879, 'tucker': 13880, 'sko': 13881, 'ean': 13882, 'raf': 13883, 'boulmer': 13884, 'manicurist': 13885, 'kapowski': 13886, 'bberri': 13887, 'retel': 13888, 'saskatoon': 13889, 'siccck': 13890, 'jimbbbbo': 13891, 'stimul': 13892, 'slum': 13893, 'sewag': 13894, 'readysetgo': 13895, 'jalj': 13896, 'healthyliv': 13897, 'solder': 13898, 'fook': 13899, 'phill': 13900, 'yuotub': 13901, 'frappachino': 13902, 'eb': 13903, 'twib': 13904, 'cpf': 13905, 'uce': 13906, 'pgce': 13907, 'linki': 13908, 'apl': 13909, 'clech': 13910, 'bcreativ': 13911, 'harrd': 13912, 'entrepreneur': 13913, 'langley': 13914, 'niiiiiiiight': 13915, 'ykl': 13916, 'stressor': 13917, 'lmhr': 13918, 'fristi': 13919, 'coulton': 13920, 'mfm': 13921, 'julyish': 13922, 'awlll': 13923, 'summa': 13924, 'cruz': 13925, 'aaaaaaaaaaa': 13926, 'bacterin': 13927, 'yoooouuuu': 13928, 'karishmaa': 13929, 'luvv': 13930, 'pleaseeee': 13931, 'birthdayyyi': 13932, 'schade': 13933, 'rpb': 13934, 'liv': 13935, 'lyf': 13936, 'rhel': 13937, 'bnx': 13938, 'packet': 13939, 'nerdiest': 13940, 'gunner': 13941, 'essenti': 13942, 'psps': 13943, 'boofi': 13944, 'twittergadget': 13945, 'syopvd': 13946, 'rhode': 13947, 'nacklac': 13948, 'plis': 13949, 'divx': 13950, 'dunde': 13951, 'chergo': 13952, 'getonu': 13953, 'baterrri': 13954, 'tryingtofind': 13955, 'movieto': 13956, 'goingto': 13957, 'collabro': 13958, 'jphlip': 13959, 'uktv': 13960, 'tomro': 13961, 'oxox': 13962, 'gnt': 13963, 'jasmin': 13964, 'dos': 13965, 'qlzp': 13966, 'hoorah': 13967, 'baha': 13968, 'kearley': 13969, 'tsi': 13970, 'rolland': 13971, 'garro': 13972, 'lawl': 13973, 'seck': 13974, 'xz': 13975, 'werch': 13976, 'ns': 13977, 'pacif': 13978, 'lube': 13979, 'werecount': 13980, 'citipoint': 13981, 'argghhh': 13982, 'ccri': 13983, 'bfe': 13984, 'mcdick': 13985, 'cipriano': 13986, 'redicul': 13987, 'crete': 13988, 'cinnamin': 13989, 'conduc': 13990, 'livewrit': 13991, 'kryptik': 13992, 'wel': 13993, 'lina': 13994, 'birthdaypres': 13995, 'brinn': 13996, 'heerlen': 13997, 'freed': 13998, 'wrng': 13999, 'rlich': 14000, 'flatten': 14001, 'wach': 14002, 'antomi': 14003, 'arti': 14004, 'discrep': 14005, 'aureol': 14006, 'bolshoi': 14007, 'forgottten': 14008, 'insonmia': 14009, 'mgcotd': 14010, 'wfeo': 14011, 'fonzi': 14012, 'pianist': 14013, 'hubz': 14014, 'prompt': 14015, 'bgcnw': 14016, 'bling': 14017, 'bgeezi': 14018, 'rumbo': 14019, 'bachiller': 14020, 'brochur': 14021, 'bwrc': 14022, 'yeehah': 14023, 'regrettin': 14024, 'append': 14025, 'verticalchines': 14026, 'invad': 14027, 'fuckn': 14028, 'photobook': 14029, 'sacrileg': 14030, 'jkpz': 14031, 'embark': 14032, 'mainland': 14033, 'freeringr': 14034, 'zacci': 14035, 'ahahahaha': 14036, 'liee': 14037, 'pattinson': 14038, 'realitycheck': 14039, 'metabol': 14040, 'epitomis': 14041, 'coulnd': 14042, 'yvnd': 14043, 'babycham': 14044, 'cyjvgnp': 14045, 'sowwwwyy': 14046, 'pang': 14047, 'ahahahahaha': 14048, 'launder': 14049, 'sapinsidetrack': 14050, 'palo': 14051, 'alto': 14052, 'unmut': 14053, 'lovah': 14054, 'jenna': 14055, 'ravenclaw': 14056, 'itx': 14057, 'lq': 14058, 'streamkey': 14059, 'yuhh': 14060, 'clemati': 14061, 'harddisk': 14062, 'but': 14063, 'theyu': 14064, 'membership': 14065, 'flipsid': 14066, 'bahrain': 14067, 'bha': 14068, 'tablespot': 14069, 'bham': 14070, 'burlesqu': 14071, 'stfu': 14072, 'trimmer': 14073, 'joshstor': 14074, 'joshmobil': 14075, 'pft': 14076, 'malici': 14077, 'forrest': 14078, 'fpu': 14079, 'raj': 14080, 'sigur': 14081, 'yournam': 14082, 'topman': 14083, 'peruvian': 14084, 'nyokap': 14085, 'pernah': 14086, 'berkata': 14087, 'demikian': 14088, 'rebound': 14089, 'stem': 14090, 'magcwo': 14091, 'trafalg': 14092, 'exclud': 14093, 'lushh': 14094, 'ballarat': 14095, 'clubhous': 14096, 'proppa': 14097, 'paionk': 14098, 'glassez': 14099, 'sph': 14100, 'haiz': 14101, 'legitim': 14102, 'minni': 14103, 'ryme': 14104, 'judd': 14105, 'mild': 14106, 'stastic': 14107, 'misshu': 14108, 'gandang': 14109, 'mahal': 14110, 'sya': 14111, 'batshit': 14112, 'orwel': 14113, 'biketo': 14114, 'abba': 14115, 'uw': 14116, 'hbp': 14117, 'canalway': 14118, 'cavalcad': 14119, 'warwick': 14120, 'firday': 14121, 'dumeril': 14122, 'hognos': 14123, 'distraught': 14124, 'popcornss': 14125, 'feminist': 14126, 'yestarday': 14127, 'telenovela': 14128, 'toniiiit': 14129, 'arggh': 14130, 'pak': 14131, 'nevill': 14132, 'enuh': 14133, 'avin': 14134, 'carrrr': 14135, 'hvr': 14136, 'thos': 14137, 'destrey': 14138, 'grip': 14139, 'phjur': 14140, 'tunsia': 14141, 'chauncey': 14142, 'fjgkfld': 14143, 'sdh': 14144, 'nebal': 14145, 'plc': 14146, 'pangaea': 14147, 'killah': 14148, 'somerset': 14149, 'lrsng': 14150, 'foil': 14151, 'snowi': 14152, 'pentecost': 14153, 'xeh': 14154, 'wetiq': 14155, 'rachmaninoff': 14156, 'amaaaz': 14157, 'laaam': 14158, 'ml': 14159, 'noooootttttttt': 14160, 'henna': 14161, 'quasi': 14162, 'ark': 14163, 'builder': 14164, 'tgc': 14165, 'jbsq': 14166, 'spaz': 14167, 'ted': 14168, 'productnamingrulez': 14169, 'skid': 14170, 'fortuna': 14171, 'ohmygosh': 14172, 'afgan': 14173, 'curvey': 14174, 'hampton': 14175, 'boog': 14176, 'leopold': 14177, 'crank': 14178, 'baffoon': 14179, 'shutupandsmil': 14180, 'charni': 14181, 'ticketless': 14182, 'rico': 14183, 'mclife': 14184, 'pane': 14185, 'twitpeep': 14186, 'clyde': 14187, 'allsort': 14188, 'aaaagh': 14189, 'aircon': 14190, 'listn': 14191, 'tmro': 14192, 'excitin': 14193, 'simplifi': 14194, 'cathylo': 14195, 'tossin': 14196, 'turnin': 14197, 'nicci': 14198, 'whiteman': 14199, 'avocado': 14200, 'psprint': 14201, 'jccd': 14202, 'reebok': 14203, 'triplet': 14204, 'cassade': 14205, 'austira': 14206, 'affirm': 14207, 'kellan': 14208, 'lutz': 14209, 'brenda': 14210, 'jetsett': 14211, 'poughkeepsi': 14212, 'ahhhhhhhh': 14213, 'pridelin': 14214, 'osn': 14215, 'benick': 14216, 'forbid': 14217, 'laddi': 14218, 'blous': 14219, 'bottem': 14220, 'skyrocket': 14221, 'aaaaaaaafternoon': 14222, 'khc': 14223, 'easton': 14224, 'parnoid': 14225, 'tiz': 14226, 'hadthebestdayev': 14227, 'lobbyist': 14228, 'mangosteen': 14229, 'cybersecur': 14230, 'pleasss': 14231, 'wasup': 14232, 'gentoo': 14233, 'bia': 14234, 'burnsid': 14235, 'wkym': 14236, 'smal': 14237, 'pleess': 14238, 'wwwwweeeeeeeeeeeeeeekkkkkeeeennnndddd': 14239, 'booski': 14240, 'reassur': 14241, 'mos': 14242, 'partyend': 14243, 'stubb': 14244, 'yuj': 14245, 'sperm': 14246, 'hahahahahahahahahahahahaha': 14247, 'horay': 14248, 'mywireless': 14249, 'ulja': 14250, 'othaa': 14251, 'gurrrrrl': 14252, 'mccafe': 14253, 'mcskillet': 14254, 'abund': 14255, 'skott': 14256, 'leavingg': 14257, 'boyfrienndd': 14258, 'finallli': 14259, 'psychiatr': 14260, 'spymast': 14261, 'fornic': 14262, 'jessinoel': 14263, 'chweet': 14264, 'muaxxx': 14265, 'sittn': 14266, 'abduct': 14267, 'audioo': 14268, 'songwrit': 14269, 'ripe': 14270, 'mamalaura': 14271, 'boooooooor': 14272, 'ebook': 14273, 'foodland': 14274, 'gregor': 14275, 'arthroscopi': 14276, 'khichadi': 14277, 'pln': 14278, 'earthday': 14279, 'mountainjam': 14280, 'conor': 14281, 'rou': 14282, 'hammond': 14283, 'kbq': 14284, 'keali': 14285, 'cohen': 14286, 'azalea': 14287, 'mja': 14288, 'transact': 14289, 'nitey': 14290, 'collid': 14291, 'lollipop': 14292, 'fresno': 14293, 'werent': 14294, 'paddington': 14295, 'sergi': 14296, 'bmx': 14297, 'burga': 14298, 'careok': 14299, 'bulid': 14300, 'clunki': 14301, 'oohhhh': 14302, 'corny': 14303, 'beathroom': 14304, 'outsi': 14305, 'halla': 14306, 'haloom': 14307, 'eeem': 14308, 'rational': 14309, 'eyas': 14310, 'inshallah': 14311, 'duuuud': 14312, 'hahahahahahahahahahahaha': 14313, 'jolen': 14314, 'harass': 14315, 'nickchien': 14316, 'asia': 14317, 'bologna': 14318, 'shook': 14319, 'haveto': 14320, 'expecto': 14321, 'patronum': 14322, 'enorm': 14323, 'wowsa': 14324, 'choloc': 14325, 'beddi': 14326, 'slab': 14327, 'hahaaaa': 14328, 'soompiradio': 14329, 'retardeddddddd': 14330, 'goooooooo': 14331, 'puhleeezee': 14332, 'beaumont': 14333, 'reliz': 14334, 'sluttin': 14335, 'waaaaaaaaahhhh': 14336, 'greattttt': 14337, 'ayoko': 14338, 'ahem': 14339, 'willblok': 14340, 'zappa': 14341, 'shaven': 14342, 'arkansa': 14343, 'method': 14344, 'prows': 14345, 'jurong': 14346, 'excess': 14347, 'suckss': 14348, 'badbook': 14349, 'tolif': 14350, 'encorag': 14351, 'behavior': 14352, 'provok': 14353, 'mostley': 14354, 'enrol': 14355, 'ucla': 14356, 'maan': 14357, 'chapathi': 14358, 'beanz': 14359, 'indo': 14360, 'hudson': 14361, 'hommmmmm': 14362, 'bridget': 14363, 'buttt': 14364, 'nzntm': 14365, 'hosanna': 14366, 'posterrr': 14367, 'raera': 14368, 'speechless': 14369, 'twitterati': 14370, 'everyond': 14371, 'dagnamit': 14372, 'clickabl': 14373, 'roaster': 14374, 'hqe': 14375, 'xmind': 14376, 'vector': 14377, 'pulish': 14378, 'ripstick': 14379, 'haze': 14380, 'mackillop': 14381, 'hectiv': 14382, 'goof': 14383, 'reallyyyyi': 14384, 'bartend': 14385, 'nf': 14386, 'cravin': 14387, 'vineri': 14388, 'nimic': 14389, 'probabil': 14390, 'pierdut': 14391, 'sata': 14392, 'ncq': 14393, 'madelein': 14394, 'clamp': 14395, 'flora': 14396, 'anych': 14397, 'weatler': 14398, 'linger': 14399, 'impec': 14400, 'rigbi': 14401, 'twh': 14402, 'blinki': 14403, 'justa': 14404, 'travelin': 14405, 'pepo': 14406, 'youl': 14407, 'purat': 14408, 'pooof': 14409, 'amaaaaz': 14410, 'alredi': 14411, 'owi': 14412, 'credo': 14413, 'brighi': 14414, 'suse': 14415, 'commi': 14416, 'fantabul': 14417, 'divis': 14418, 'ffv': 14419, 'girrrrrrrrlll': 14420, 'phd': 14421, 'taunt': 14422, 'underr': 14423, 'gloopi': 14424, 'macaramb': 14425, 'venetian': 14426, 'adriii': 14427, 'lindt': 14428, 'shiggiti': 14429, 'shwa': 14430, 'brett': 14431, 'bikesh': 14432, 'toget': 14433, 'funniset': 14434, 'blve': 14435, 'tenho': 14436, 'curso': 14437, 'drc': 14438, 'ohyeahhh': 14439, 'ought': 14440, 'moiv': 14441, 'yeee': 14442, 'ftp': 14443, 'fireftp': 14444, 'sandiego': 14445, 'selfupd': 14446, 'rubygem': 14447, 'beckyyi': 14448, 'bombard': 14449, 'emilyy': 14450, 'strek': 14451, 'imna': 14452, 'thorw': 14453, 'stickersss': 14454, 'revisingg': 14455, 'holllaaa': 14456, 'yeeh': 14457, 'salti': 14458, 'pretzel': 14459, 'yw': 14460, 'foul': 14461, 'uzx': 14462, 'sank': 14463, 'whimper': 14464, 'motherssss': 14465, 'thankssss': 14466, 'heath': 14467, 'flordia': 14468, 'shrit': 14469, 'tibet': 14470, 'sooooooooooooooooo': 14471, 'deadass': 14472, 'beover': 14473, 'ltlni': 14474, 'bprohibit': 14475, 'dma': 14476, 'tempat': 14477, 'apa': 14478, 'yang': 14479, 'cocok': 14480, 'jupit': 14481, 'seru': 14482, 'otherdad': 14483, 'mischief': 14484, 'weeekend': 14485, 'piston': 14486, 'caww': 14487, 'mandm': 14488, 'helaa': 14489, 'oops': 14490, 'invalid': 14491, 'broom': 14492, 'swiffer': 14493, 'firth': 14494, 'ipsohot': 14495, 'selenagomezlast': 14496, 'unfortunatelli': 14497, 'norway': 14498, 'reissu': 14499, 'newss': 14500, 'diaz': 14501, 'tweeeeeet': 14502, 'egyptian': 14503, 'betterrrrrrrr': 14504, 'iptv': 14505, 'poynter': 14506, 'twain': 14507, 'latharg': 14508, 'muffinsss': 14509, 'aannndd': 14510, 'psyillium': 14511, 'husk': 14512, 'rhineston': 14513, 'pissi': 14514, 'rampag': 14515, 'turnaround': 14516, 'woodland': 14517, 'emuls': 14518, 'biddi': 14519, 'bridezilla': 14520, 'wifflebal': 14521, 'ging': 14522, 'imnot': 14523, 'awesomeili': 14524, 'cooool': 14525, 'lovv': 14526, 'shoooow': 14527, 'fkin': 14528, 'dido': 14529, 'uin': 14530, 'luf': 14531, 'scampi': 14532, 'vermouth': 14533, 'cigg': 14534, 'redirlanda': 14535, 'irlanda': 14536, 'meaway': 14537, 'engulf': 14538, 'shooooe': 14539, 'maani': 14540, 'amazingggg': 14541, 'rele': 14542, 'lfpa': 14543, 'friendsss': 14544, 'chutzpah': 14545, 'yaoo': 14546, 'sonnnni': 14547, 'samson': 14548, 'delilah': 14549, 'brianna': 14550, 'agit': 14551, 'cti': 14552, 'matalatin': 14553, 'sellout': 14554, 'fluke': 14555, 'userid': 14556, 'vishnupsp': 14557, 'ilh': 14558, 'cactus': 14559, 'causin': 14560, 'awayyy': 14561, 'yata': 14562, 'mania': 14563, 'whoooop': 14564, 'sustain': 14565, 'gen': 14566, 'unabash': 14567, 'byw': 14568, 'csdhw': 14569, 'tonyt': 14570, 'letin': 14571, 'aplyin': 14572, 'agen': 14573, 'qt': 14574, 'shrunk': 14575, 'cardigan': 14576, 'strech': 14577, 'houstatlantavega': 14578, 'heavennn': 14579, 'misanthrop': 14580, 'rural': 14581, 'norwich': 14582, 'rival': 14583, 'revien': 14584, 'faceti': 14585, 'oyay': 14586, 'shope': 14587, 'incomplet': 14588, 'acut': 14589, 'mump': 14590, 'pigment': 14591, 'teeve': 14592, 'mediocr': 14593, 'expedit': 14594, 'geeksonaplan': 14595, 'heey': 14596, 'aaaaawwwwwww': 14597, 'alreadyyyy': 14598, 'exet': 14599, 'dukbolgi': 14600, 'xxxxxxloser': 14601, 'perci': 14602, 'thrower': 14603, 'gardner': 14604, 'bubbletweet': 14605, 'menudo': 14606, 'genoes': 14607, 'wellllllllllllll': 14608, 'oof': 14609, 'moronmonday': 14610, 'stvqp': 14611, 'cdue': 14612, 'greenish': 14613, 'whincop': 14614, 'franklin': 14615, 'eveyon': 14616, 'tinh': 14617, 'sanh': 14618, 'gooooooooood': 14619, 'unittest': 14620, 'survivingtheworld': 14621, 'euch': 14622, 'territori': 14623, 'disastr': 14624, 'fem': 14625, 'xxxxxxxxxxxxxxxxxxx': 14626, 'gaytim': 14627, 'jayyte': 14628, 'hailey': 14629, 'saget': 14630, 'aaaaaawwwesom': 14631, 'renta': 14632, 'tyson': 14633, 'hving': 14634, 'jukebox': 14635, 'isafailur': 14636, 'sleeptim': 14637, 'oowwwww': 14638, 'cuy': 14639, 'skim': 14640, 'qfsag': 14641, 'koozi': 14642, 'jamaica': 14643, 'lve': 14644, 'kaohsiung': 14645, 'sdk': 14646, 'fkkk': 14647, 'whatsup': 14648, 'yeeeee': 14649, 'murk': 14650, 'youuuuuuu': 14651, 'holder': 14652, 'rade': 14653, 'ahahaay': 14654, 'timestamp': 14655, 'cest': 14656, 'widddd': 14657, 'azongo': 14658, 'whaaaaaat': 14659, 'cancuk': 14660, 'remors': 14661, 'freind': 14662, 'fuuudg': 14663, 'demilynnmus': 14664, 'creammm': 14665, 'mackenzi': 14666, 'connor': 14667, 'yxd': 14668, 'hedach': 14669, 'kakabalik': 14670, 'tarlac': 14671, 'afti': 14672, 'bbbrrr': 14673, 'simoneserhan': 14674, 'rickrol': 14675, 'infront': 14676, 'jerc': 14677, 'morocco': 14678, 'strait': 14679, 'gibraltar': 14680, 'europa': 14681, 'gib': 14682, 'impal': 14683, 'ewan': 14684, 'mcgregor': 14685, 'toooooom': 14686, 'pleeeas': 14687, 'kayak': 14688, 'tilaaa': 14689, 'hurtig': 14690, 'loveeya': 14691, 'maitreya': 14692, 'hyperventil': 14693, 'crawfish': 14694, 'sumth': 14695, 'cdsuw': 14696, 'wokk': 14697, 'hearin': 14698, 'wanaa': 14699, 'himm': 14700, 'upbring': 14701, 'toler': 14702, 'xxoo': 14703, 'farrrrr': 14704, 'pdhpe': 14705, 'shibuya': 14706, 'shinjuku': 14707, 'boredddddd': 14708, 'cleanout': 14709, 'bookshelf': 14710, 'physiqu': 14711, 'brlliant': 14712, 'supp': 14713, 'shaka': 14714, 'againn': 14715, 'mco': 14716, 'deriv': 14717, 'ident': 14718, 'upstat': 14719, 'tux': 14720, 'techyuppi': 14721, 'stdin': 14722, 'mildura': 14723, 'mhhh': 14724, 'lizard': 14725, 'dann': 14726, 'misconnect': 14727, 'undi': 14728, 'hre': 14729, 'butch': 14730, 'tdi': 14731, 'sportv': 14732, 'suuuk': 14733, 'eyedea': 14734, 'pulaski': 14735, 'rennison': 14736, 'powermac': 14737, 'whaaat': 14738, 'nicknam': 14739, 'mtabi': 14740, 'uniqnam': 14741, 'anoop': 14742, 'smartest': 14743, 'prerequisit': 14744, 'gdgd': 14745, 'wonderfuli': 14746, 'plier': 14747, 'superglu': 14748, 'reap': 14749, 'giraff': 14750, 'aracheologist': 14751, 'bayern': 14752, 'stau': 14753, 'rayn': 14754, 'potrait': 14755, 'citeh': 14756, 'babysitte': 14757, 'zachi': 14758, 'swwwaaaaggg': 14759, 'oooonnnn': 14760, 'horn': 14761, 'missrachel': 14762, 'eish': 14763, 'boet': 14764, 'domsai': 14765, 'matteo': 14766, 'cibic': 14767, 'dangero': 14768, 'waaaaaaa': 14769, 'jor': 14770, 'zorn': 14771, 'bungl': 14772, 'availbl': 14773, 'fukkn': 14774, 'angrrri': 14775, 'sitt': 14776, 'noesss': 14777, 'osbourn': 14778, 'westend': 14779, 'iloveyopu': 14780, 'lymz': 14781, 'cntt': 14782, 'waiit': 14783, 'ponder': 14784, 'constitut': 14785, 'nitenit': 14786, 'spamspamspam': 14787, 'uxofo': 14788, 'fedex': 14789, 'dayyyyyyyyyyyi': 14790, 'clwn': 14791, 'yir': 14792, 'nanaimo': 14793, 'whohoo': 14794, 'algonquin': 14795, 'taser': 14796, 'wg': 14797, 'sadifi': 14798, 'heartpart': 14799, 'halp': 14800, 'pleaseyour': 14801, 'sjdlp': 14802, 'feat': 14803, 'dufaz': 14804, 'gab': 14805, 'jtyh': 14806, 'stressfre': 14807, 'prettti': 14808, 'goooooooood': 14809, 'daaaaaanc': 14810, 'idmfin': 14811, 'manila': 14812, 'ditchin': 14813, 'barfin': 14814, 'esotsm': 14815, 'oic': 14816, 'dreamweav': 14817, 'julio': 14818, 'scriptgirl': 14819, 'hclxp': 14820, 'bexi': 14821, 'glre': 14822, 'mssql': 14823, 'cellgroup': 14824, 'kany': 14825, 'occas': 14826, 'helllllpppp': 14827, 'fleetwood': 14828, 'tribbl': 14829, 'xxxxxx': 14830, 'snoop': 14831, 'wfqn': 14832, 'lf': 14833, 'wharra': 14834, 'unixodbc': 14835, 'autom': 14836, 'youporn': 14837, 'yellowish': 14838, 'orangeish': 14839, 'brownish': 14840, 'sleepytim': 14841, 'ole': 14842, 'dusti': 14843, 'aubrey': 14844, 'lifelin': 14845, 'aaaau': 14846, 'forgivem': 14847, 'hemorrhoid': 14848, 'lofnotc': 14849, 'sweeeet': 14850, 'asst': 14851, 'planss': 14852, 'idon': 14853, 'tknowwhatdamnbrandcoffeethisi': 14854, 'txts': 14855, 'rummag': 14856, 'pheasant': 14857, 'kaotic': 14858, 'domina': 14859, 'ravit': 14860, 'tute': 14861, 'aloof': 14862, 'condescend': 14863, 'faa': 14864, 'cookoutofthecenturi': 14865, 'sunray': 14866, 'fucckinggg': 14867, 'cakss': 14868, 'irk': 14869, 'swizzi': 14870, 'connolli': 14871, 'kirbi': 14872, 'krystal': 14873, 'empow': 14874, 'gooooodnight': 14875, 'pixar': 14876, 'grain': 14877, 'mhm': 14878, 'pleaser': 14879, 'treki': 14880, 'scattergood': 14881, 'kpk': 14882, 'niiick': 14883, 'asasgdygyasdgi': 14884, 'wayyyyy': 14885, 'hru': 14886, 'stunk': 14887, 'sanibel': 14888, 'lammmeee': 14889, 'ciber': 14890, 'sabip': 14891, 'buis': 14892, 'oproer': 14893, 'twwwitter': 14894, 'prs': 14895, 'soph': 14896, 'hydro': 14897, 'buma': 14898, 'mwz': 14899, 'obq': 14900, 'ree': 14901, 'healli': 14902, 'rus': 14903, 'enabl': 14904, 'plugin': 14905, 'kooki': 14906, 'forreall': 14907, 'japsican': 14908, 'whateverwork': 14909, 'pollen': 14910, 'fabian': 14911, 'dailybooth': 14912, 'yehey': 14913, 'exciteeeddd': 14914, 'balm': 14915, 'kwl': 14916, 'okai': 14917, 'dasit': 14918, 'sogni': 14919, 'oro': 14920, 'whitley': 14921, 'bigfanfriday': 14922, 'vinni': 14923, 'aaaaawhh': 14924, 'snitchsneek': 14925, 'amadeus': 14926, 'chorus': 14927, 'ohlala': 14928, 'gwt': 14929, 'hatin': 14930, 'wirt': 14931, 'almo': 14932, 'listenint': 14933, 'afh': 14934, 'batt': 14935, 'hardd': 14936, 'dbsk': 14937, 'oppa': 14938, 'mirot': 14939, 'muchhhhh': 14940, 'fanfic': 14941, 'cyndi': 14942, 'boingo': 14943, 'mdw': 14944, 'concours': 14945, 'saaaaaf': 14946, 'gosshhh': 14947, 'analysi': 14948, 'hansen': 14949, 'moldi': 14950, 'squishi': 14951, 'exhaaaaust': 14952, 'chocolatey': 14953, 'wcf': 14954, 'opi': 14955, 'svdpu': 14956, 'gode': 14957, 'ould': 14958, 'tekzilla': 14959, 'ttc': 14960, 'indiscrim': 14961, 'wegx': 14962, 'appet': 14963, 'oi': 14964, 'rathbon': 14965, 'pollster': 14966, 'identif': 14967, 'republican': 14968, 'coal': 14969, 'hangup': 14970, 'siberia': 14971, 'thay': 14972, 'outsiden': 14973, 'everrrrr': 14974, 'deakin': 14975, 'rdi': 14976, 'byeee': 14977, 'jdrg': 14978, 'picker': 14979, 'louisa': 14980, 'flannel': 14981, 'hobbit': 14982, 'greaattt': 14983, 'lolli': 14984, 'facespac': 14985, 'fiercemichi': 14986, 'thinkgeek': 14987, 'nonfict': 14988, 'peewe': 14989, 'buggin': 14990, 'blockparti': 14991, 'inet': 14992, 'haah': 14993, 'reyt': 14994, 'pqtw': 14995, 'scoreless': 14996, 'gavin': 14997, 'adulthood': 14998, 'sockso': 14999, 'creppi': 15000, 'uniteddog': 15001, 'poppi': 15002, 'cryyi': 15003, 'chroma': 15004, 'cumulus': 15005, 'automobil': 15006, 'juan': 15007, 'pelota': 15008, 'stm': 15009, 'awhh': 15010, 'chiel': 15011, 'sighh': 15012, 'sohcahtoa': 15013, 'guyoj': 15014, 'tannajoy': 15015, 'qqe': 15016, 'here': 15017, 'jameson': 15018, 'peckish': 15019, 'landfil': 15020, 'hindustan': 15021, 'dunia': 15022, 'asay': 15023, 'nehi': 15024, 'milegi': 15025, 'sensex': 15026, 'plethora': 15027, 'friench': 15028, 'schol': 15029, 'pwg': 15030, 'botch': 15031, 'hybrid': 15032, 'xl': 15033, 'orbicul': 15034, 'norwegian': 15035, 'mrw': 15036, 'laughtner': 15037, 'renown': 15038, 'groov': 15039, 'heeelllppppp': 15040, 'bobi': 15041, 'ureo': 15042, 'menageri': 15043, 'lovebug': 15044, 'croissant': 15045, 'greatestgam': 15046, 'pleeeeeas': 15047, 'iraheta': 15048, 'sling': 15049, 'dario': 15050, 'vondt': 15051, 'ryggen': 15052, 'yaer': 15053, 'everrrr': 15054, 'afternooon': 15055, 'landcruis': 15056, 'hcc': 15057, 'fillion': 15058, 'sardon': 15059, 'answerr': 15060, 'elop': 15061, 'itto': 15062, 'fuck': 15063, 'uhm': 15064, 'ohshit': 15065, 'wooowww': 15066, 'hickup': 15067, 'kos': 15068, 'jule': 15069, 'kashtam': 15070, 'similey': 15071, 'csk': 15072, 'lahor': 15073, 'tikka': 15074, 'atlant': 15075, 'salivari': 15076, 'beachwood': 15077, 'nigeria': 15078, 'gerbino': 15079, 'mockup': 15080, 'uv': 15081, 'fatboy': 15082, 'hypnosi': 15083, 'aila': 15084, 'cyclon': 15085, 'sunshad': 15086, 'bambu': 15087, 'jfu': 15088, 'basi': 15089, 'mahn': 15090, 'natsmith': 15091, 'sweepstak': 15092, 'izzayyy': 15093, 'kpdw': 15094, 'oasqr': 15095, 'lambast': 15096, 'banker': 15097, 'greed': 15098, 'wyab': 15099, 'nkkairplay': 15100, 'goosebump': 15101, 'standstil': 15102, 'twttrg': 15103, 'atroci': 15104, 'extranet': 15105, 'jcdecaux': 15106, 'brat': 15107, 'downloadfestiv': 15108, 'youuuuuuuuuuu': 15109, 'mshs': 15110, 'patrol': 15111, 'hust': 15112, 'deleg': 15113, 'kale': 15114, 'forehead': 15115, 'sweetpea': 15116, 'gfx': 15117, 'mem': 15118, 'hacki': 15119, 'franz': 15120, 'sommat': 15121, 'awestruck': 15122, 'bonzo': 15123, 'wxpdj': 15124, 'compli': 15125, 'handbal': 15126, 'twiddl': 15127, 'aff': 15128, 'clickin': 15129, 'doubli': 15130, 'ouuchh': 15131, 'societ': 15132, 'sayid': 15133, 'rector': 15134, 'trix': 15135, 'mana': 15136, 'accel': 15137, 'kqsk': 15138, 'novo': 15139, 'sfn': 15140, 'timo': 15141, 'ticon': 15142, 'neb': 15143, 'buckhead': 15144, 'shorter': 15145, 'huaaaaa': 15146, 'sweetiepi': 15147, 'baker': 15148, 'russel': 15149, 'ponderland': 15150, 'grubb': 15151, 'augustin': 15152, 'yeayyy': 15153, 'colton': 15154, 'grrrreat': 15155, 'bennett': 15156, 'todayyyyyyyyy': 15157, 'profiel': 15158, 'jole': 15159, 'erwin': 15160, 'blom': 15161, 'splodg': 15162, 'goona': 15163, 'nomint': 15164, 'egvw': 15165, 'bawkmark': 15166, 'caotku': 15167, 'ooaf': 15168, 'sctrahc': 15169, 'grisham': 15170, 'innit': 15171, 'tatter': 15172, 'shikari': 15173, 'manderin': 15174, 'becomin': 15175, 'sai': 15176, 'excist': 15177, 'tyga': 15178, 'deleon': 15179, 'tifanni': 15180, 'halu': 15181, 'upward': 15182, 'snugglin': 15183, 'wan': 15184, 'visitng': 15185, 'boyet': 15186, 'famm': 15187, 'huwwt': 15188, 'fuckyoumonday': 15189, 'kartz': 15190, 'ascari': 15191, 'yoooooooou': 15192, 'beardburk': 15193, 'hart': 15194, 'wrox': 15195, 'scamera': 15196, 'gratiss': 15197, 'midol': 15198, 'farolito': 15199, 'various': 15200, 'dolli': 15201, 'bingley': 15202, 'tre': 15203, 'wilshir': 15204, 'braggin': 15205, 'tenenen': 15206, 'tenen': 15207, 'deforest': 15208, 'gooodmorn': 15209, 'balk': 15210, 'athough': 15211, 'atbfm': 15212, 'solidsyn': 15213, 'onstag': 15214, 'butlin': 15215, 'usf': 15216, 'koret': 15217, 'imt': 15218, 'hardcod': 15219, 'bebeisi': 15220, 'chanv': 15221, 'elisabeth': 15222, 'wearin': 15223, 'keygen': 15224, 'keygenmus': 15225, 'zoey': 15226, 'deadgirl': 15227, 'summerr': 15228, 'babyyyy': 15229, 'brera': 15230, 'headahc': 15231, 'marnier': 15232, 'copping': 15233, 'bisquick': 15234, 'deland': 15235, 'thassa': 15236, 'reutimann': 15237, 'geranium': 15238, 'unbox': 15239, 'ofcooourse': 15240, 'pluss': 15241, 'incent': 15242, 'freud': 15243, 'cissburi': 15244, 'cheeek': 15245, 'mediterenean': 15246, 'careerbuild': 15247, 'neutral': 15248, 'sportsmen': 15249, 'warehous': 15250, 'wyfi': 15251, 'oqsqz': 15252, 'funzen': 15253, 'restless': 15254, 'nefuew': 15255, 'bedd': 15256, 'headeach': 15257, 'throwbi': 15258, 'catfight': 15259, 'ccna': 15260, 'ccnp': 15261, 'ccie': 15262, 'orthodontisssttt': 15263, 'sacto': 15264, 'survivor': 15265, 'missd': 15266, 'otha': 15267, 'falkland': 15268, 'mtbcut': 15269, 'tadi': 15270, 'eli': 15271, 'presten': 15272, 'jakeowen': 15273, 'playdat': 15274, 'transmiss': 15275, 'alllllllllllllllll': 15276, 'raquel': 15277, 'garageband': 15278, 'liquid': 15279, 'canvass': 15280, 'amazeeeeee': 15281, 'holdem': 15282, 'cornbread': 15283, 'retri': 15284, 'allyson': 15285, 'lnger': 15286, 'oikbk': 15287, 'finden': 15288, 'hea': 15289, 'nuh': 15290, 'minna': 15291, 'pider': 15292, 'pade': 15293, 'pouch': 15294, 'qnh': 15295, 'spotti': 15296, 'moooooooooooooooo': 15297, 'gamefan': 15298, 'igbara': 15299, 'dove': 15300, 'tomm': 15301, 'wcpt': 15302, 'twitterbff': 15303, 'pxh': 15304, 'hoepfner': 15305, 'burgfest': 15306, 'karlsruh': 15307, 'vdtvf': 15308, 'booooooooo': 15309, 'catherin': 15310, 'raphael': 15311, 'saadiq': 15312, 'conjunct': 15313, 'satde': 15314, 'hairbal': 15315, 'teamgreen': 15316, 'rylt': 15317, 'theem': 15318, 'pav': 15319, 'bhaaji': 15320, 'alissa': 15321, 'taekwando': 15322, 'omgzzz': 15323, 'homer': 15324, 'simspon': 15325, 'discharg': 15326, 'wppn': 15327, 'trnds': 15328, 'blairr': 15329, 'nobel': 15330, 'texan': 15331, 'chequ': 15332, 'gogol': 15333, 'bordello': 15334, 'civil': 15335, 'broccoli': 15336, 'hiyaa': 15337, 'tesla': 15338, 'wac': 15339, 'latteeeeeeeeee': 15340, 'reallyy': 15341, 'gahif': 15342, 'orchid': 15343, 'veo': 15344, 'ahasta': 15345, 'lune': 15346, 'auntiegail': 15347, 'vest': 15348, 'childmind': 15349, 'broccolli': 15350, 'voiceov': 15351, 'druidri': 15352, 'maintan': 15353, 'utrecht': 15354, 'gloucest': 15355, 'thurstag': 15356, 'jaq': 15357, 'macdonald': 15358, 'sender': 15359, 'ara': 15360, 'aapko': 15361, 'sehat': 15362, 'destruct': 15363, 'torino': 15364, 'longhaul': 15365, 'oouuch': 15366, 'jumbo': 15367, 'wintour': 15368, 'vk': 15369, 'mactast': 15370, 'fixin': 15371, 'flyladi': 15372, 'hor': 15373, 'nvd': 15374, 'augh': 15375, 'boytoy': 15376, 'creas': 15377, 'zfd': 15378, 'justcaus': 15379, 'wahahaha': 15380, 'fob': 15381, 'amar': 15382, 'sins': 15383, 'nuffin': 15384, 'eeet': 15385, 'hawain': 15386, 'wellllll': 15387, 'cdcave': 15388, 'yogg': 15389, 'isl': 15390, 'mediterranean': 15391, 'hazin': 15392, 'harrump': 15393, 'gag': 15394, 'tutl': 15395, 'nye': 15396, 'flea': 15397, 'lilim': 15398, 'goodtim': 15399, 'kona': 15400, 'triathlon': 15401, 'selalu': 15402, 'ruang': 15403, 'untuk': 15404, 'sahabat': 15405, 'bugsssss': 15406, 'nowwwww': 15407, 'aaaargh': 15408, 'pocketwit': 15409, 'rk': 15410, 'sie': 15411, 'mcds': 15412, 'hader': 15413, 'chickfila': 15414, 'daysssssss': 15415, 'yahoooo': 15416, 'ftl': 15417, 'volcano': 15418, 'ito': 15419, 'quihot': 15420, 'feria': 15421, 'urbana': 15422, 'qlrcec': 15423, 'agessss': 15424, 'eal': 15425, 'puppyyi': 15426, 'shey': 15427, 'niqhti': 15428, 'toqeth': 15429, 'artesia': 15430, 'cerrito': 15431, 'bigg': 15432, 'moooorn': 15433, 'awayyyyy': 15434, 'keren': 15435, 'upsidedown': 15436, 'shutter': 15437, 'hallo': 15438, 'folio': 15439, 'mymea': 15440, 'caaaaan': 15441, 'wahhhh': 15442, 'coki': 15443, 'arnt': 15444, 'mmmmmmmmmmmm': 15445, 'poll': 15446, 'strudl': 15447, 'kitsch': 15448, 'bait': 15449, 'intoler': 15450, 'tortoiseshel': 15451, 'cantus': 15452, 'moin': 15453, 'tdwp': 15454, 'gwuhx': 15455, 'conti': 15456, 'godown': 15457, 'fungus': 15458, 'inconclus': 15459, 'nutz': 15460, 'wcr': 15461, 'por': 15462, 'dzcpg': 15463, 'dosriosrestaur': 15464, 'ochh': 15465, 'supos': 15466, 'thaught': 15467, 'horrend': 15468, 'xanax': 15469, 'pres': 15470, 'surveil': 15471, 'ayvio': 15472, 'altanta': 15473, 'northbound': 15474, 'calmin': 15475, 'goljwp': 15476, 'certian': 15477, 'beatric': 15478, 'fkl': 15479, 'slpi': 15480, 'mufasa': 15481, 'gota': 15482, 'reword': 15483, 'snappi': 15484, 'songd': 15485, 'relient': 15486, 'pledg': 15487, 'doabl': 15488, 'buxton': 15489, 'urrxta': 15490, 'cryy': 15491, 'pushin': 15492, 'tireddd': 15493, 'hairbrush': 15494, 'fiuuhh': 15495, 'yummiest': 15496, 'ipoh': 15497, 'wattch': 15498, 'rubbishhhhhh': 15499, 'viz': 15500, 'beup': 15501, 'wondefl': 15502, 'oooiiful': 15503, 'oregan': 15504, 'joshua': 15505, 'spazz': 15506, 'tronic': 15507, 'sainthood': 15508, 'weiss': 15509, 'disspoint': 15510, 'lifehack': 15511, 'sngs': 15512, 'pblz': 15513, 'glacier': 15514, 'weeooow': 15515, 'pfffffffffffffffffffffftttttttt': 15516, 'iyaa': 15517, 'ecxept': 15518, 'decembbberrrrrrrr': 15519, 'stilll': 15520, 'carnivalsofpari': 15521, 'listent': 15522, 'deceiv': 15523, 'pffftt': 15524, 'int': 15525, 'biiig': 15526, 'aaahh': 15527, 'weeek': 15528, 'yoooo': 15529, 'weaselbe': 15530, 'mariag': 15531, 'compaq': 15532, 'toodl': 15533, 'pip': 15534, 'eassi': 15535, 'montmel': 15536, 'flollop': 15537, 'ental': 15538, 'marpl': 15539, 'meg': 15540, 'ronni': 15541, 'carrol': 15542, 'marti': 15543, 'pickkshaa': 15544, 'milki': 15545, 'ssshhh': 15546, 'beeeeeddddddd': 15547, 'triniti': 15548, 'wrrp': 15549, 'slamma': 15550, 'agustin': 15551, 'whyyyyi': 15552, 'merm': 15553, 'sappi': 15554, 'bangalor': 15555, 'destroyalllin': 15556, 'rpg': 15557, 'jhe': 15558, 'lopatcong': 15559, 'underworld': 15560, 'lamentablement': 15561, 'jrztwitterlunch': 15562, 'duster': 15563, 'shopp': 15564, 'greenhil': 15565, 'balikbayan': 15566, 'dvj': 15567, 'momol': 15568, 'rplpr': 15569, 'tei': 15570, 'senci': 15571, 'ghina': 15572, 'aerobar': 15573, 'alkek': 15574, 'chex': 15575, 'patsi': 15576, 'intellectu': 15577, 'disagr': 15578, 'xiz': 15579, 'grief': 15580, 'barakitten': 15581, 'ilycecili': 15582, 'sap': 15583, 'blackird': 15584, 'mazemb': 15585, 'jkbp': 15586, 'flaki': 15587, 'vrbo': 15588, 'amanzimtoti': 15589, 'lonovala': 15590, 'arrngmnt': 15591, 'wrkg': 15592, 'bithday': 15593, 'pierr': 15594, 'alriiightt': 15595, 'visialvoicemail': 15596, 'diqf': 15597, 'rik': 15598, 'botti': 15599, 'treeeeek': 15600, 'hospitol': 15601, 'tourni': 15602, 'transcrib': 15603, 'tenth': 15604, 'specul': 15605, 'feck': 15606, 'naptim': 15607, 'poltergeist': 15608, 'wauk': 15609, 'lolzor': 15610, 'mammyy': 15611, 'sakata': 15612, 'cevich': 15613, 'bellini': 15614, 'sculpt': 15615, 'croni': 15616, 'wsop': 15617, 'screamm': 15618, 'orc': 15619, 'deb': 15620, 'mcmcbuddi': 15621, 'wilmi': 15622, 'vyi': 15623, 'sisa': 15624, 'yomt': 15625, 'yani': 15626, 'soc': 15627, 'flashlight': 15628, 'viper': 15629, 'tna': 15630, 'inglewood': 15631, 'sinhalenfoss': 15632, 'kpor': 15633, 'lle': 15634, 'bareill': 15635, 'yeg': 15636, 'mime': 15637, 'calib': 15638, 'symphonycm': 15639, 'zum': 15640, 'spooohort': 15641, 'hoisin': 15642, 'gelato': 15643, 'edmund': 15644, 'darnitt': 15645, 'ffk': 15646, 'astri': 15647, 'ntn': 15648, 'bbf': 15649, 'hihi': 15650, 'sukanya': 15651, 'jun': 15652, 'pyo': 15653, 'garland': 15654, 'lupus': 15655, 'blogtalkradio': 15656, 'therebi': 15657, 'lovliest': 15658, 'hotshot': 15659, 'frehley': 15660, 'coher': 15661, 'neemah': 15662, 'luckkyy': 15663, 'virg': 15664, 'charlenedianetravel': 15665, 'jzp': 15666, 'jeu': 15667, 'chux': 15668, 'intrud': 15669, 'stillll': 15670, 'wbc': 15671, 'counterprotest': 15672, 'waterfir': 15673, 'nnnnoooooo': 15674, 'robsessedpattinson': 15675, 'faz': 15676, 'president': 15677, 'mailbox': 15678, 'motto': 15679, 'twitterfail': 15680, 'regina': 15681, 'deux': 15682, 'marle': 15683, 'toeat': 15684, 'kahuna': 15685, 'gerald': 15686, 'argi': 15687, 'succeed': 15688, 'giddi': 15689, 'brainbon': 15690, 'ryqc': 15691, 'comeee': 15692, 'shannii': 15693, 'stringer': 15694, 'owwwwwww': 15695, 'crossroad': 15696, 'nicley': 15697, 'halfway': 15698, 'kegger': 15699, 'trudg': 15700, 'anathem': 15701, 'sear': 15702, 'minh': 15703, 'sauna': 15704, 'trillin': 15705, 'hobnob': 15706, 'mwean': 15707, 'tingl': 15708, 'sian': 15709, 'mayyyyb': 15710, 'rodr': 15711, 'guez': 15712, 'generous': 15713, 'sexxxxxxxi': 15714, 'hahahahahahahahahah': 15715, 'josa': 15716, 'slowdown': 15717, 'fuccin': 15718, 'blocc': 15719, 'honk': 15720, 'unev': 15721, 'bof': 15722, 'juno': 15723, 'pikachu': 15724, 'thash': 15725, 'waldo': 15726, 'ckc': 15727, 'staack': 15728, 'pde': 15729, 'bowi': 15730, 'alyanna': 15731, 'bondoc': 15732, 'cesar': 15733, 'sosa': 15734, 'sullivan': 15735, 'sunnybank': 15736, 'bhr': 15737, 'rqpl': 15738, 'sundayyyi': 15739, 'magout': 15740, 'rrj': 15741, 'truce': 15742, 'goingtorain': 15743, 'wxluu': 15744, 'hillari': 15745, 'northpark': 15746, 'jzs': 15747, 'bymyself': 15748, 'thnk': 15749, 'southwestern': 15750, 'ingredi': 15751, 'kaci': 15752, 'mrgqdc': 15753, 'errg': 15754, 'guapisimo': 15755, 'chico': 15756, 'nsti': 15757, 'marki': 15758, 'tammi': 15759, 'heavyweight': 15760, 'sublimin': 15761, 'ironpoodonia': 15762, 'jeebus': 15763, 'moood': 15764, 'feliz': 15765, 'dela': 15766, 'cornish': 15767, 'countrysid': 15768, 'ailun': 15769, 'rwwtj': 15770, 'mol': 15771, 'changedd': 15772, 'karla': 15773, 'choreograph': 15774, 'awaken': 15775, 'maxiin': 15776, 'gdnight': 15777, 'otay': 15778, 'defici': 15779, 'ohnoyoudidnt': 15780, 'goitn': 15781, 'spellcheck': 15782, 'unhelp': 15783, 'eavi': 15784, 'shakeyyyi': 15785, 'schooliooo': 15786, 'maggot': 15787, 'civilizati': 15788, 'headsup': 15789, 'celebxxxvidsyh': 15790, 'aybygw': 15791, 'fwend': 15792, 'psycho': 15793, 'helio': 15794, 'volcom': 15795, 'jjdx': 15796, 'livebox': 15797, 'haggi': 15798, 'toke': 15799, 'spidey': 15800, 'itll': 15801, 'stephan': 15802, 'hoilday': 15803, 'lotchecktest': 15804, 'hoffentlich': 15805, 'wird': 15806, 'stell': 15807, 'sowwwi': 15808, 'theraflu': 15809, 'wese': 15810, 'vynk': 15811, 'dbn': 15812, 'rescuer': 15813, 'dru': 15814, 'mickey': 15815, 'balear': 15816, 'ape': 15817, 'mootool': 15818, 'odqwgh': 15819, 'yourock': 15820, 'dgtcj': 15821, 'cusack': 15822, 'calexico': 15823, 'ankil': 15824, 'moneyi': 15825, 'cervic': 15826, 'proctor': 15827, 'wealthwithsoul': 15828, 'surfer': 15829, 'mommacherri': 15830, 'musashi': 15831, 'rep': 15832, 'kitaro': 15833, 'urk': 15834, 'maxwel': 15835, 'crocco': 15836, 'salsa': 15837, 'ienjoy': 15838, 'laertesgirl': 15839, 'woodvin': 15840, 'saute': 15841, 'enna': 15842, 'kodumai': 15843, 'idhu': 15844, 'pythonk': 15845, 'hayle': 15846, 'mane': 15847, 'pol': 15848, 'udd': 15849, 'naini': 15850, 'snt': 15851, 'multimedia': 15852, 'expnsiv': 15853, 'momotlv': 15854, 'dalek': 15855, 'whaaay': 15856, 'sorehead': 15857, 'tolddd': 15858, 'copier': 15859, 'aerosmith': 15860, 'hotspot': 15861, 'shoppin': 15862, 'goy': 15863, 'preacheri': 15864, 'djandyw': 15865, 'wateva': 15866, 'samee': 15867, 'dmed': 15868, 'happymothersday': 15869, 'honeypot': 15870, 'fckeditor': 15871, 'valencia': 15872, 'tomorrowland': 15873, 'gridiron': 15874, 'marshmellow': 15875, 'cramcrack': 15876, 'surrey': 15877, 'nippi': 15878, 'duong': 15879, 'zt': 15880, 'bloat': 15881, 'mam': 15882, 'mingin': 15883, 'overrr': 15884, 'yikeysss': 15885, 'pamela': 15886, 'esqu': 15887, 'nqgp': 15888, 'dami': 15889, 'flamenco': 15890, 'solea': 15891, 'dojo': 15892, 'munich': 15893, 'welll': 15894, 'folkiesss': 15895, 'ewwi': 15896, 'talkkk': 15897, 'lurve': 15898, 'everyoneeeeeeeee': 15899, 'fern': 15900, 'petal': 15901, 'fnp': 15902, 'minit': 15903, 'leff': 15904, 'bitbett': 15905, 'facepalm': 15906, 'hittt': 15907, 'applebe': 15908, 'ssug': 15909, 'penanc': 15910, 'dismiss': 15911, 'galbladia': 15912, 'scaredededed': 15913, 'denton': 15914, 'alphabet': 15915, 'managa': 15916, 'suffic': 15917, 'artofphotographyshow': 15918, 'honorari': 15919, 'banjo': 15920, 'tooie': 15921, 'cellstorm': 15922, 'robber': 15923, 'jaoo': 15924, 'alllllll': 15925, 'cse': 15926, 'chares': 15927, 'chzlw': 15928, 'congrad': 15929, 'luddit': 15930, 'dyer': 15931, 'snurl': 15932, 'hpwnz': 15933, 'bui': 15934, 'tritonlink': 15935, 'tantal': 15936, 'communism': 15937, 'communist': 15938, 'hmmphh': 15939, 'redsox': 15940, 'zoita': 15941, 'ghurm': 15942, 'mot': 15943, 'covina': 15944, 'whatz': 15945, 'waaaaaaaaaah': 15946, 'whispergift': 15947, 'registri': 15948, 'tol': 15949, 'wowza': 15950, 'ohno': 15951, 'wppe': 15952, 'eventho': 15953, 'defect': 15954, 'talinda': 15955, 'iknow': 15956, 'thati': 15957, 'fij': 15958, 'yield': 15959, 'webkinz': 15960, 'whoooooo': 15961, 'spcn': 15962, 'richell': 15963, 'succubus': 15964, 'thong': 15965, 'wrecker': 15966, 'innov': 15967, 'voil': 15968, 'cplt': 15969, 'goblet': 15970, 'twiggi': 15971, 'goign': 15972, 'booster': 15973, 'woork': 15974, 'putt': 15975, 'lp': 15976, 'scofil': 15977, 'goooosh': 15978, 'lastfm': 15979, 'yon': 15980, 'walgreen': 15981, 'incredili': 15982, 'thnkn': 15983, 'virtus': 15984, 'treviso': 15985, 'futurshow': 15986, 'forza': 15987, 'ragazzi': 15988, 'tomarrow': 15989, 'foreword': 15990, 'maxium': 15991, 'maxi': 15992, 'twiit': 15993, 'pinkappl': 15994, 'desrib': 15995, 'shiraz': 15996, 'bahai': 15997, 'mosqu': 15998, 'zahedan': 15999, 'azz': 16000, 'liquour': 16001, 'moovi': 16002, 'buddhist': 16003, 'gotham': 16004, 'mymunchi': 16005, 'rutger': 16006, 'hauer': 16007, 'jbzv': 16008, 'wxiux': 16009, 'neighbourhood': 16010, 'assfuck': 16011, 'dayquil': 16012, 'supermodel': 16013, 'moodl': 16014, 'jckp': 16015, 'realliz': 16016, 'racin': 16017, 'mommasss': 16018, 'vacant': 16019, 'dynam': 16020, 'herniat': 16021, 'hitchik': 16022, 'fs': 16023, 'motherss': 16024, 'twiligghhttt': 16025, 'maroon': 16026, 'shuuut': 16027, 'heston': 16028, 'bleumenth': 16029, 'aruba': 16030, 'ode': 16031, 'lonq': 16032, 'eesh': 16033, 'ahold': 16034, 'mornig': 16035, 'everon': 16036, 'allahpundit': 16037, 'spooki': 16038, 'commiser': 16039, 'panicaway': 16040, 'peni': 16041, 'cltln': 16042, 'drasda': 16043, 'mose': 16044, 'mesmer': 16045, 'yezzzir': 16046, 'passyunk': 16047, 'eink': 16048, 'shortcut': 16049, 'buisi': 16050, 'raggi': 16051, 'doucheee': 16052, 'purdi': 16053, 'hongkong': 16054, 'summat': 16055, 'showr': 16056, 'hse': 16057, 'preggo': 16058, 'mckinney': 16059, 'actial': 16060, 'tweeterz': 16061, 'cabrera': 16062, 'artoo': 16063, 'wattup': 16064, 'ogzbdl': 16065, 'cinerama': 16066, 'nextday': 16067, 'dillemat': 16068, 'dib': 16069, 'sulu': 16070, 'stuffi': 16071, 'sudaf': 16072, 'twitteeeerrr': 16073, 'babiieshow': 16074, 'thng': 16075, 'sulumit': 16076, 'retsambew': 16077, 'condom': 16078, 'supwp': 16079, 'gleneagl': 16080, 'geje': 16081, 'rqaoe': 16082, 'ricki': 16083, 'softer': 16084, 'sutzkev': 16085, 'nesscaf': 16086, 'zeke': 16087, 'pearlyn': 16088, 'svc': 16089, 'longoria': 16090, 'stressiest': 16091, 'marisa': 16092, 'mauro': 16093, 'arsehol': 16094, 'anew': 16095, 'trish': 16096, 'czhzb': 16097, 'rpzmx': 16098, 'colombia': 16099, 'kimbeommi': 16100, 'uf': 16101, 'pointless': 16102, 'yyud': 16103, 'stupido': 16104, 'twitski': 16105, 'sleeeeeeep': 16106, 'goonight': 16107, 'riah': 16108, 'ware': 16109, 'mhz': 16110, 'iop': 16111, 'hpt': 16112, 'adaptec': 16113, 'qci': 16114, 'wna': 16115, 'unsur': 16116, 'peddl': 16117, 'assort': 16118, 'fruitbat': 16119, 'cldnt': 16120, 'vedanta': 16121, 'momz': 16122, 'fisnihs': 16123, 'yesert': 16124, 'wsjr': 16125, 'leisur': 16126, 'evenlyn': 16127, 'tomora': 16128, 'goodwil': 16129, 'burnett': 16130, 'embed': 16131, 'hampstead': 16132, 'constitu': 16133, 'shemm': 16134, 'wxsgi': 16135, 'sardin': 16136, 'togetha': 16137, 'schmoo': 16138, 'whaa': 16139, 'wmid': 16140, 'pleeeeeasssee': 16141, 'qanta': 16142, 'flyertalk': 16143, 'resolv': 16144, 'iloco': 16145, 'nueva': 16146, 'ecija': 16147, 'overpr': 16148, 'beath': 16149, 'victoia': 16150, 'czb': 16151, 'graveyard': 16152, 'atltweet': 16153, 'multitask': 16154, 'savechuck': 16155, 'ghhh': 16156, 'uduhn': 16157, 'lun': 16158, 'thehannabeth': 16159, 'teca': 16160, 'twed': 16161, 'antic': 16162, 'parella': 16163, 'marcia': 16164, 'outzen': 16165, 'clorox': 16166, 'shag': 16167, 'mqm': 16168, 'altaf': 16169, 'bhai': 16170, 'unveil': 16171, 'karachi': 16172, 'ehq': 16173, 'dayuuum': 16174, 'vengaboy': 16175, 'zane': 16176, 'gladiat': 16177, 'melodi': 16178, 'rippl': 16179, 'alec': 16180, 'volterra': 16181, 'portableapp': 16182, 'dobro': 16183, 'caltrain': 16184, 'isabela': 16185, 'urib': 16186, 'fineart': 16187, 'jere': 16188, 'briliant': 16189, 'heb': 16190, 'cred': 16191, 'safesex': 16192, 'trunc': 16193, 'booooor': 16194, 'weeeee': 16195, 'straggler': 16196, 'fizz': 16197, 'milo': 16198, 'oooooooh': 16199, 'eeeeeeekkkkkkk': 16200, 'ellipit': 16201, 'eastcoast': 16202, 'samsung': 16203, 'omnia': 16204, 'quirki': 16205, 'concerto': 16206, 'milit': 16207, 'overheard': 16208, 'yrold': 16209, 'eom': 16210, 'ahaa': 16211, 'ambyr': 16212, 'omr': 16213, 'lhr': 16214, 'alochol': 16215, 'princecharm': 16216, 'borri': 16217, 'hahahahhahaha': 16218, 'avi': 16219, 'reprez': 16220, 'zent': 16221, 'cassandra': 16222, 'wilcox': 16223, 'bloss': 16224, 'receipt': 16225, 'hereditari': 16226, 'poolsid': 16227, 'toniht': 16228, 'overtur': 16229, 'yesssss': 16230, 'excti': 16231, 'cairn': 16232, 'clan': 16233, 'renounc': 16234, 'cleavag': 16235, 'jenson': 16236, 'annonym': 16237, 'shelaaaaaaaa': 16238, 'thesixthaxi': 16239, 'lovesick': 16240, 'trueee': 16241, 'ricardo': 16242, 'ashi': 16243, 'manor': 16244, 'answear': 16245, 'zyg': 16246, 'burden': 16247, 'mdc': 16248, 'geodefens': 16249, 'zoozoo': 16250, 'voda': 16251, 'ilik': 16252, 'ybd': 16253, 'janett': 16254, 'myspace': 16255, 'yvr': 16256, 'yuu': 16257, 'lcd': 16258, 'nix': 16259, 'guava': 16260, 'hsbc': 16261, 'underneath': 16262, 'nds': 16263, 'mettallica': 16264, 'navarro': 16265, 'uor': 16266, 'tvtotal': 16267, 'kpdx': 16268, 'borgellaj': 16269, 'blumenth': 16270, 'keiron': 16271, 'twindexx': 16272, 'rprl': 16273, 'wacha': 16274, 'snoopi': 16275, 'thelovelybon': 16276, 'premir': 16277, 'xbb': 16278, 'qyx': 16279, 'arcadia': 16280, 'deadpool': 16281, 'reynold': 16282, 'thaw': 16283, 'cinelux': 16284, 'almaden': 16285, 'payrol': 16286, 'realest': 16287, 'qet': 16288, 'drankin': 16289, 'bapang': 16290, 'moondog': 16291, 'roundtrip': 16292, 'loooooooooong': 16293, 'submarin': 16294, 'fiber': 16295, 'optic': 16296, 'naz': 16297, 'gel': 16298, 'resembl': 16299, 'famin': 16300, 'kritt': 16301, 'spw': 16302, 'gaggl': 16303, 'squish': 16304, 'mrsal': 16305, 'samstephen': 16306, 'bekah': 16307, 'cnyhp': 16308, 'juuuuuust': 16309, 'irat': 16310, 'caller': 16311, 'husb': 16312, 'sigma': 16313, 'easel': 16314, 'snipr': 16315, 'hble': 16316, 'leatherman': 16317, 'recouper': 16318, 'chocolateland': 16319, 'fonz': 16320, 'casablanca': 16321, 'soreadi': 16322, 'hermin': 16323, 'sudetenland': 16324, 'eastend': 16325, 'niandra': 16326, 'peabodi': 16327, 'anto': 16328, 'pinkpawsforlif': 16329, 'ox': 16330, 'douchenozzl': 16331, 'wjg': 16332, 'hercul': 16333, 'crater': 16334, 'uma': 16335, 'oph': 16336, 'ser': 16337, 'caput': 16338, 'saturn': 16339, 'eyepiec': 16340, 'daarl': 16341, 'tiki': 16342, 'postieee': 16343, 'andshehop': 16344, 'kewpi': 16345, 'holcomb': 16346, 'hatee': 16347, 'cinder': 16348, 'danta': 16349, 'porki': 16350, 'schuhz': 16351, 'arabyrd': 16352, 'acceler': 16353, 'fullscreen': 16354, 'plex': 16355, 'kelsen': 16356, 'pasi': 16357, 'eupham': 16358, 'aneki': 16359, 'traci': 16360, 'weaver': 16361, 'rave': 16362, 'collegu': 16363, 'panicki': 16364, 'uup': 16365, 'boffert': 16366, 'bubl': 16367, 'kohl': 16368, 'annnnd': 16369, 'lonnngg': 16370, 'loopi': 16371, 'geeta': 16372, 'backgroung': 16373, 'ppictur': 16374, 'cockney': 16375, 'luc': 16376, 'bourdon': 16377, 'tweetb': 16378, 'ueat': 16379, 'watti': 16380, 'ishi': 16381, 'aquarius': 16382, 'chas': 16383, 'julian': 16384, 'javaon': 16385, 'nzth': 16386, 'sinner': 16387, 'femm': 16388, 'fatal': 16389, 'ointment': 16390, 'stalin': 16391, 'quaver': 16392, 'commando': 16393, 'inx': 16394, 'bayle': 16395, 'shortest': 16396, 'fcb': 16397, 'tunapuna': 16398, 'rida': 16399, 'ommegang': 16400, 'rv': 16401, 'inav': 16402, 'iblu': 16403, 'ida': 16404, 'egan': 16405, 'ventana': 16406, 'cielo': 16407, 'mommaz': 16408, 'pennyblossom': 16409, 'wj': 16410, 'vacashun': 16411, 'onscreen': 16412, 'officejet': 16413, 'fax': 16414, 'kateag': 16415, 'ahseya': 16416, 'puppet': 16417, 'workstat': 16418, 'musican': 16419, 'legion': 16420, 'authent': 16421, 'annivarsari': 16422, 'lawnmow': 16423, 'baulko': 16424, 'suckiest': 16425, 'tiasha': 16426, 'lorri': 16427, 'scheur': 16428, 'funnili': 16429, 'roland': 16430, 'mkay': 16431, 'bfgurelgbsr': 16432, 'lvl': 16433, 'rwitter': 16434, 'tpt': 16435, 'rubadeau': 16436, 'rejoic': 16437, 'slurpe': 16438, 'dangl': 16439, 'recours': 16440, 'atti': 16441, 'inolv': 16442, 'nullif': 16443, 'seller': 16444, 'imtetst': 16445, 'angrili': 16446, 'extem': 16447, 'nightss': 16448, 'pellet': 16449, 'beb': 16450, 'innn': 16451, 'ritualist': 16452, 'carolyn': 16453, 'tooooth': 16454, 'wakin': 16455, 'ak': 16456, 'rag': 16457, 'loggad': 16458, 'visst': 16459, 'rdag': 16460, 'bellevill': 16461, 'scarlet': 16462, 'thristi': 16463, 'ohhhhhh': 16464, 'pendulum': 16465, 'aaaand': 16466, 'stamford': 16467, 'teignmouth': 16468, 'dawlish': 16469, 'eirtaku': 16470, 'bubblewrap': 16471, 'belief': 16472, 'entourag': 16473, 'mediat': 16474, 'sweeter': 16475, 'muchachomalo': 16476, 'uniten': 16477, 'luh': 16478, 'detlev': 16479, 'bitv': 16480, 'xing': 16481, 'on': 16482, 'saginaki': 16483, 'cesna': 16484, 'fightclub': 16485, 'heavili': 16486, 'oth': 16487, 'twitgoo': 16488, 'girllll': 16489, 'caraf': 16490, 'caffien': 16491, 'buh': 16492, 'showwwww': 16493, 'fuckingtast': 16494, 'iov': 16495, 'xoi': 16496, 'oriol': 16497, 'suet': 16498, 'clubber': 16499, 'smartphon': 16500, 'cabo': 16501, 'buttefli': 16502, 'ano': 16503, 'yun': 16504, 'unsettl': 16505, 'thursdayyy': 16506, 'boohoohoo': 16507, 'burgh': 16508, 'callum': 16509, 'softe': 16510, 'kach': 16511, 'mariqueen': 16512, 'josett': 16513, 'pond': 16514, 'chocr': 16515, 'gourd': 16516, 'sanit': 16517, 'atkin': 16518, 'referenc': 16519, 'fnh': 16520, 'caliburn': 16521, 'dynamicproxi': 16522, 'aaaaw': 16523, 'linkin': 16524, 'sergeant': 16525, 'beetch': 16526, 'anai': 16527, 'stalkersaturday': 16528, 'inspiron': 16529, 'ddr': 16530, 'deuci': 16531, 'funchal': 16532, 'swa': 16533, 'kadi': 16534, 'dp': 16535, 'rochell': 16536, 'klaudin': 16537, 'mason': 16538, 'redbubbl': 16539, 'gurq': 16540, 'naiveti': 16541, 'butno': 16542, 'kenyatta': 16543, 'jihoon': 16544, 'longgggg': 16545, 'gentlemen': 16546, 'facehunt': 16547, 'represent': 16548, 'sophmor': 16549, 'goderich': 16550, 'pitt': 16551, 'eastwood': 16552, 'invitw': 16553, 'steviewond': 16554, 'adi': 16555, 'yale': 16556, 'aquest': 16557, 'csla': 16558, 'cyd': 16559, 'arrggghhh': 16560, 'goog': 16561, 'iloveyoutwoooo': 16562, 'drep': 16563, 'cinci': 16564, 'ashleycat': 16565, 'sharffenberg': 16566, 'thngs': 16567, 'supastit': 16568, 'imeem': 16569, 'kpeqpg': 16570, 'vuy': 16571, 'entonc': 16572, 'perdonada': 16573, 'porqu': 16574, 'sigu': 16575, 'tos': 16576, 'tray': 16577, 'crazyyi': 16578, 'boringgg': 16579, 'dodd': 16580, 'deploy': 16581, 'snob': 16582, 'dijon': 16583, 'herdman': 16584, 'imprint': 16585, 'recepi': 16586, 'godda': 16587, 'charlen': 16588, 'iloveyoutoo': 16589, 'butttt': 16590, 'feeler': 16591, 'jass': 16592, 'xm': 16593, 'weinfest': 16594, 'boredboot': 16595, 'celebret': 16596, 'fulfil': 16597, 'bunk': 16598, 'maaaaan': 16599, 'prog': 16600, 'whoor': 16601, 'cologn': 16602, 'pxi': 16603, 'korn': 16604, 'gilf': 16605, 'sikaflex': 16606, 'caulk': 16607, 'jljf': 16608, 'campjitterbug': 16609, 'siiiick': 16610, 'paintballin': 16611, 'ueivwi': 16612, 'toolbar': 16613, 'wssc': 16614, 'knitterati': 16615, 'ravelri': 16616, 'secondari': 16617, 'vlw': 16618, 'motor': 16619, 'whop': 16620, 'blokeslib': 16621, 'jarn': 16622, 'uhmygawddd': 16623, 'plez': 16624, 'mussoooooo': 16625, 'gwenyth': 16626, 'scarlett': 16627, 'epi': 16628, 'talkedabout': 16629, 'unproduct': 16630, 'woth': 16631, 'kiran': 16632, 'wheew': 16633, 'outa': 16634, 'trackflashback': 16635, 'yeay': 16636, 'jiah': 16637, 'carefre': 16638, 'qvz': 16639, 'chatroom': 16640, 'pissssss': 16641, 'moodi': 16642, 'thatss': 16643, 'iarprg': 16644, 'likelyy': 16645, 'hordi': 16646, 'euh': 16647, 'ldap': 16648, 'schema': 16649, 'ava': 16650, 'greenwizard': 16651, 'punjab': 16652, 'psalm': 16653, 'thght': 16654, 'workd': 16655, 'winc': 16656, 'flatland': 16657, 'tard': 16658, 'chegay': 16659, 'autocad': 16660, 'pts': 16661, 'loadsa': 16662, 'earnest': 16663, 'xxxrebelrebelxxx': 16664, 'vida': 16665, 'umpir': 16666, 'traing': 16667, 'lfpress': 16668, 'newsstand': 16669, 'ketboard': 16670, 'wlpf': 16671, 'turkish': 16672, 'aesnk': 16673, 'gqdbd': 16674, 'webshot': 16675, 'jkes': 16676, 'scanner': 16677, 'robertpatt': 16678, 'otara': 16679, 'tweetbud': 16680, 'flwrs': 16681, 'grimmi': 16682, 'carina': 16683, 'glade': 16684, 'debian': 16685, 'uuuu': 16686, 'wheelchair': 16687, 'homebound': 16688, 'mtml': 16689, 'hmmpph': 16690, 'spout': 16691, 'welp': 16692, 'throwin': 16693, 'shalonda': 16694, 'tam': 16695, 'tele': 16696, 'ittttt': 16697, 'flawless': 16698, 'brrr': 16699, 'scarc': 16700, 'keri': 16701, 'hilson': 16702, 'dropper': 16703, 'quesadiaa': 16704, 'bombbb': 16705, 'gorham': 16706, 'dicaprio': 16707, 'davisson': 16708, 'killoran': 16709, 'idestroy': 16710, 'rygegrej': 16711, 'vv': 16712, 'stoko': 16713, 'remak': 16714, 'groundbreak': 16715, 'dac': 16716, 'oscc': 16717, 'mickeyd': 16718, 'eggmcmuffin': 16719, 'mcyum': 16720, 'tryst': 16721, 'walc': 16722, 'panhandl': 16723, 'endulg': 16724, 'alfi': 16725, 'ehheheh': 16726, 'yojg': 16727, 'aton': 16728, 'phne': 16729, 'dne': 16730, 'donkey': 16731, 'babyfath': 16732, 'gemstar': 16733, 'toki': 16734, 'feelinq': 16735, 'huqe': 16736, 'pimpl': 16737, 'riqht': 16738, 'ekin': 16739, 'robe': 16740, 'highland': 16741, 'saurus': 16742, 'touchscreen': 16743, 'uninterest': 16744, 'haahaaa': 16745, 'jellybeaniesss': 16746, 'avocet': 16747, 'patent': 16748, 'earplug': 16749, 'socksi': 16750, 'plucki': 16751, 'caspar': 16752, 'arthritus': 16753, 'nurofen': 16754, 'darkest': 16755, 'iloveyoumoreee': 16756, 'goooooooooooooooooooooooood': 16757, 'thankss': 16758, 'haih': 16759, 'booya': 16760, 'dbar': 16761, 'timezzz': 16762, 'kawaii': 16763, 'cujxg': 16764, 'rpp': 16765, 'hilda': 16766, 'gallar': 16767, 'kindr': 16768, 'ncis': 16769, 'aeropuerto': 16770, 'mattcutt': 16771, 'umzug': 16772, 'neue': 16773, 'redir': 16774, 'anr': 16775, 'bigcitymonkey': 16776, 'lonesom': 16777, 'bollywood': 16778, 'beckii': 16779, 'claratyn': 16780, 'mastermind': 16781, 'statesboro': 16782, 'avaialbl': 16783, 'ancient': 16784, 'carlo': 16785, 'cotch': 16786, 'bajan': 16787, 'shakedown': 16788, 'thu': 16789, 'surfac': 16790, 'mcdo': 16791, 'ghd': 16792, 'cancl': 16793, 'beezi': 16794, 'thermomet': 16795, 'strangl': 16796, 'salesman': 16797, 'shamwow': 16798, 'roi': 16799, 'pleeeeeeas': 16800, 'pleeeeas': 16801, 'mozconcept': 16802, 'geogeektv': 16803, 'toa': 16804, 'tabbi': 16805, 'diabet': 16806, 'footybal': 16807, 'stomatch': 16808, 'dramafest': 16809, 'crummi': 16810, 'niterzzz': 16811, 'twitterbugz': 16812, 'vod': 16813, 'mey': 16814, 'ajax': 16815, 'autorefresh': 16816, 'chander': 16817, 'corlain': 16818, 'shezz': 16819, 'starss': 16820, 'cement': 16821, 'pixel': 16822, 'osu': 16823, 'ath': 16824, 'trng': 16825, 'rcption': 16826, 'rhiannon': 16827, 'smuggl': 16828, 'payn': 16829, 'runway': 16830, 'yen': 16831, 'duec': 16832, 'yolanda': 16833, 'ical': 16834, 'sososo': 16835, 'olivia': 16836, 'loveyoufletch': 16837, 'bate': 16838, 'yaeh': 16839, 'suekd': 16840, 'incap': 16841, 'fel': 16842, 'fff': 16843, 'leeuwarden': 16844, 'ditzi': 16845, 'unsubscrib': 16846, 'kmart': 16847, 'alexajordan': 16848, 'mazur': 16849, 'itv': 16850, 'undelet': 16851, 'squirrellist': 16852, 'sliver': 16853, 'tequillla': 16854, 'keeper': 16855, 'ebru': 16856, 'pismo': 16857, 'powershot': 16858, 'hasd': 16859, 'squid': 16860, 'hafta': 16861, 'rqk': 16862, 'ughhhhhh': 16863, 'insuffici': 16864, 'fundag': 16865, 'watchmen': 16866, 'umma': 16867, 'yonker': 16868, 'calc': 16869, 'smokefre': 16870, 'somethign': 16871, 'wxji': 16872, 'unpopular': 16873, 'kaitlyn': 16874, 'inerti': 16875, 'muslim': 16876, 'briyani': 16877, 'observatori': 16878, 'connecticut': 16879, 'metzger': 16880, 'mage': 16881, 'sugarfre': 16882, 'wahahahaha': 16883, 'naaaaa': 16884, 'hapit': 16885, 'narn': 16886, 'ecomonday': 16887, 'headless': 16888, 'youknowimsofreshtilldeath': 16889, 'downpour': 16890, 'freakish': 16891, 'delusion': 16892, 'gaaaaaaasp': 16893, 'lyke': 16894, 'beeeeaaaaatooooo': 16895, 'nostalgia': 16896, 'tushar': 16897, 'clint': 16898, 'silly': 16899, 'delcious': 16900, 'bttf': 16901, 'yjpq': 16902, 'rqh': 16903, 'parrrtti': 16904, 'twister': 16905, 'freeagentapp': 16906, 'zwart': 16907, 'maillot': 16908, 'folkeston': 16909, 'kon': 16910, 'faq': 16911, 'campin': 16912, 'judgment': 16913, 'escentu': 16914, 'tearrrrrrrr': 16915, 'perfum': 16916, 'tarot': 16917, 'obess': 16918, 'yvonn': 16919, 'ffrecommend': 16920, 'tito': 16921, 'novemeb': 16922, 'laineygossip': 16923, 'taylena': 16924, 'bittercreek': 16925, 'hopnoxi': 16926, 'sweetgrass': 16927, 'tacki': 16928, 'keepsitr': 16929, 'mdewfk': 16930, 'zpsqo': 16931, 'unheard': 16932, 'twing': 16933, 'csbo': 16934, 'bacontaco': 16935, 'myspacee': 16936, 'clarkson': 16937, 'cecilia': 16938, 'penjiiii': 16939, 'mcbabi': 16940, 'simmon': 16941, 'unfri': 16942, 'snapshot': 16943, 'befoooor': 16944, 'aesthet': 16945, 'fizzi': 16946, 'spasi': 16947, 'lovag': 16948, 'helooo': 16949, 'seam': 16950, 'suffici': 16951, 'overstress': 16952, 'cybernet': 16953, 'bttr': 16954, 'thrillseek': 16955, 'governor': 16956, 'boduch': 16957, 'bordatella': 16958, 'bsod': 16959, 'dhcp': 16960, 'chung': 16961, 'alexa': 16962, 'cottag': 16963, 'haiiii': 16964, 'sankq': 16965, 'finee': 16966, 'checkup': 16967, 'rib': 16968, 'jiberish': 16969, 'maggi': 16970, 'galaxi': 16971, 'kbal': 16972, 'edna': 16973, 'joelt': 16974, 'becuas': 16975, 'pooh': 16976, 'sleeeeeeepz': 16977, 'persia': 16978, 'loon': 16979, 'alynn': 16980, 'breweri': 16981, 'aaand': 16982, 'twittascop': 16983, 'yaaw': 16984, 'while': 16985, 'reid': 16986, 'diss': 16987, 'moxi': 16988, 'supervisor': 16989, 'adelaid': 16990, 'noy': 16991, 'kashi': 16992, 'disservic': 16993, 'alittl': 16994, 'whyareyoustillher': 16995, 'bylaurenluk': 16996, 'cudamo': 16997, 'shriya': 16998, 'mortgag': 16999, 'outbreak': 17000, 'confidenti': 17001, 'spinelli': 17002, 'nawwwww': 17003, 'tussaud': 17004, 'bearer': 17005, 'cher': 17006, 'recipi': 17007, 'fartingloud': 17008, 'grice': 17009, 'dhc': 17010, 'hg': 17011, 'giftcert': 17012, 'hipfabr': 17013, 'brrrrr': 17014, 'saab': 17015, 'withdrew': 17016, 'idp': 17017, 'idprelief': 17018, 'ichiban': 17019, 'eeehhh': 17020, 'sunbathin': 17021, 'bullsey': 17022, 'nyeh': 17023, 'gourmet': 17024, 'greasi': 17025, 'horsesho': 17026, 'puppyy': 17027, 'newnew': 17028, 'hypnotyst': 17029, 'nxe': 17030, 'nameless': 17031, 'basment': 17032, 'jaxx': 17033, 'raindrop': 17034, 'fuji': 17035, 'heckitti': 17036, 'mjb': 17037, 'administr': 17038, 'firew': 17039, 'jw': 17040, 'sebastian': 17041, 'zq': 17042, 'gahhhhh': 17043, 'funti': 17044, 'cheesesteak': 17045, 'rustl': 17046, 'doodl': 17047, 'nepal': 17048, 'dayum': 17049, 'understood': 17050, 'ouchhhhhh': 17051, 'frkn': 17052, 'rsi': 17053, 'depaul': 17054, 'yeha': 17055, 'damit': 17056, 'communityfirstandtrust': 17057, 'uz': 17058, 'padawan': 17059, 'hitrecord': 17060, 'divid': 17061, 'agn': 17062, 'barton': 17063, 'akh': 17064, 'hassan': 17065, 'coda': 17066, 'watchign': 17067, 'thow': 17068, 'tae': 17069, 'speedbump': 17070, 'hadfr': 17071, 'posada': 17072, 'sameway': 17073, 'trustyfotografi': 17074, 'hardwood': 17075, 'sawn': 17076, 'lmaaaooooo': 17077, 'altho': 17078, 'jumpstart': 17079, 'wotd': 17080, 'jape': 17081, 'qq': 17082, 'comppetit': 17083, 'overcompetit': 17084, 'ngayon': 17085, 'nagrerehab': 17086, 'lustig': 17087, 'armer': 17088, 'garantiefal': 17089, 'occupi': 17090, 'wking': 17091, 'massachusett': 17092, 'lager': 17093, 'slobber': 17094, 'everythinggg': 17095, 'vimeo': 17096, 'winninggggg': 17097, 'speedtest': 17098, 'sheridan': 17099, 'churro': 17100, 'jrla': 17101, 'eur': 17102, 'jpi': 17103, 'mandarich': 17104, 'aahhh': 17105, 'brokt': 17106, 'fotc': 17107, 'suyev': 17108, 'epsilon': 17109, 'tauren': 17110, 'shaman': 17111, 'icewat': 17112, 'jani': 17113, 'hustlabal': 17114, 'prowler': 17115, 'viviann': 17116, 'sociabl': 17117, 'hermit': 17118, 'everblu': 17119, 'lmbo': 17120, 'tweetag': 17121, 'orgasm': 17122, 'completley': 17123, 'hellloooo': 17124, 'northumberland': 17125, 'oc': 17126, 'rachyl': 17127, 'thimk': 17128, 'zimmer': 17129, 'amigo': 17130, 'fou': 17131, 'maat': 17132, 'gooni': 17133, 'jensen': 17134, 'tweethug': 17135, 'mikeywayday': 17136, 'woxi': 17137, 'ddqpoa': 17138, 'everyone': 17139, 'boak': 17140, 'gage': 17141, 'mfs': 17142, 'possib': 17143, 'rught': 17144, 'tedious': 17145, 'ickkk': 17146, 'shakespear': 17147, 'garrul': 17148, 'scribe': 17149, 'twp': 17150, 'saran': 17151, 'volvicchalleng': 17152, 'fraser': 17153, 'andrea': 17154, 'latonya': 17155, 'unstopp': 17156, 'tedx': 17157, 'approxim': 17158, 'samsam': 17159, 'crook': 17160, 'cugi': 17161, 'jackalop': 17162, 'intrepid': 17163, 'ibex': 17164, 'chay': 17165, 'mondaaaaaay': 17166, 'ideia': 17167, 'sumfink': 17168, 'owwwwwwwwwwwww': 17169, 'mcloven': 17170, 'olina': 17171, 'shoree': 17172, 'nid': 17173, 'bombtast': 17174, 'cho': 17175, 'exploit': 17176, 'gino': 17177, 'gump': 17178, 'enact': 17179, 'suicidegirl': 17180, 'grandbabi': 17181, 'infant': 17182, 'pimm': 17183, 'abp': 17184, 'contagi': 17185, 'coffeeshop': 17186, 'earnt': 17187, 'strongest': 17188, 'minnebron': 17189, 'unreli': 17190, 'jhn': 17191, 'airco': 17192, 'clxl': 17193, 'afterwork': 17194, 'flock': 17195, 'sneezi': 17196, 'speedrach': 17197, 'doorknob': 17198, 'yeeet': 17199, 'freeeeeeeeeeeeeeeez': 17200, 'soooooooon': 17201, 'yehhaaaaaaa': 17202, 'peroni': 17203, 'padster': 17204, 'haaha': 17205, 'standin': 17206, 'maddest': 17207, 'acknowledg': 17208, 'inevit': 17209, 'tynisha': 17210, 'keli': 17211, 'tynishak': 17212, 'mishaaaaaaaa': 17213, 'thomson': 17214, 'msla': 17215, 'gss': 17216, 'hxc': 17217, 'chanel': 17218, 'pedder': 17219, 'ferragamo': 17220, 'downturn': 17221, 'eppi': 17222, 'geograhi': 17223, 'waldi': 17224, 'bayliss': 17225, 'scotter': 17226, 'trang': 17227, 'xem': 17228, 'kmxhk': 17229, 'bekz': 17230, 'derrian': 17231, 'septa': 17232, 'weightless': 17233, 'woofer': 17234, 'compass': 17235, 'evacu': 17236, 'mandingo': 17237, 'soror': 17238, 'yummmmi': 17239, 'unconditon': 17240, 'materialist': 17241, 'memeb': 17242, 'watchingn': 17243, 'everaldo': 17244, 'ofoz': 17245, 'janey': 17246, 'gamestop': 17247, 'pickler': 17248, 'lux': 17249, 'messga': 17250, 'saver': 17251, 'dfizzi': 17252, 'grrrrrrrr': 17253, 'giro': 17254, 'caruso': 17255, 'deanna': 17256, 'carlingford': 17257, 'lough': 17258, 'faceless': 17259, 'pangang': 17260, 'temm': 17261, 'firang': 17262, 'baaaaaaaad': 17263, 'numero': 17264, 'harrymcflytos': 17265, 'gemf': 17266, 'mckenna': 17267, 'trian': 17268, 'blogsit': 17269, 'uhhhg': 17270, 'herrreeee': 17271, 'thxx': 17272, 'whever': 17273, 'intil': 17274, 'thougth': 17275, 'wilber': 17276, 'clfzdx': 17277, 'tactic': 17278, 'parcel': 17279, 'acaban': 17280, 'tocar': 17281, 'uj': 17282, 'pci': 17283, 'wtg': 17284, 'dvsca': 17285, 'mpls': 17286, 'ake': 17287, 'armada': 17288, 'charla': 17289, 'edgefesssssst': 17290, 'brawn': 17291, 'mclaren': 17292, 'dbl': 17293, 'marlon': 17294, 'brando': 17295, 'besi': 17296, 'anoh': 17297, 'haribo': 17298, 'oinkflu': 17299, 'opda': 17300, 'aghh': 17301, 'wowp': 17302, 'maddd': 17303, 'melancholi': 17304, 'slither': 17305, 'grinder': 17306, 'pjnc': 17307, 'reallli': 17308, 'univ': 17309, 'yoooooooooooooooooooou': 17310, 'yaya': 17311, 'tekenen': 17312, 'handshak': 17313, 'nmr': 17314, 'underp': 17315, 'backroom': 17316, 'youll': 17317, 'wmaw': 17318, 'zad': 17319, 'tayla': 17320, 'brecki': 17321, 'froma': 17322, 'zap': 17323, 'lath': 17324, 'miin': 17325, 'lewd': 17326, 'smtime': 17327, 'solitud': 17328, 'choregoraphi': 17329, 'jessicab': 17330, 'violenc': 17331, 'heyyyi': 17332, 'withb': 17333, 'alrer': 17334, 'focal': 17335, 'thedailyshow': 17336, 'wcqa': 17337, 'navig': 17338, 'bnp': 17339, 'tinkerbel': 17340, 'peekaboo': 17341, 'herhsey': 17342, 'syrup': 17343, 'mamiya': 17344, 'eco': 17345, 'monstr': 17346, 'amazingg': 17347, 'replyy': 17348, 'jcjr': 17349, 'iknowww': 17350, 'jhtq': 17351, 'guitarist': 17352, 'duuuum': 17353, 'margret': 17354, 'cms': 17355, 'mikado': 17356, 'mwaha': 17357, 'redbon': 17358, 'cento': 17359, 'exodus': 17360, 'purrtti': 17361, 'keanu': 17362, 'bludger': 17363, 'beater': 17364, 'quidditch': 17365, 'gpt': 17366, 'finsih': 17367, 'lalaland': 17368, 'headaaaaaaaaaaaach': 17369, 'wrinkl': 17370, 'mer': 17371, 'piggl': 17372, 'mende': 17373, 'discog': 17374, 'eeeeeeek': 17375, 'thor': 17376, 'wonderfur': 17377, 'kittykiss': 17378, 'peepin': 17379, 'happyd': 17380, 'luat': 17381, 'examenul': 17382, 'spss': 17383, 'carnivor': 17384, 'jmichell': 17385, 'dumpster': 17386, 'upss': 17387, 'writen': 17388, 'chesca': 17389, 'inlapush': 17390, 'quil': 17391, 'nickleback': 17392, 'twitterparti': 17393, 'unfortuantley': 17394, 'martwo': 17395, 'xvd': 17396, 'wankt': 17397, 'wizz': 17398, 'shen': 17399, 'genevaaa': 17400, 'lisett': 17401, 'hc': 17402, 'waaay': 17403, 'cruisey': 17404, 'astroturf': 17405, 'collector': 17406, 'watergun': 17407, 'tonk': 17408, 'pdgg': 17409, 'hehaheahaaaa': 17410, 'kotenok': 17411, 'gush': 17412, 'laaazi': 17413, 'zb': 17414, 'zapato': 17415, 'trashcan': 17416, 'hooooommmeee': 17417, 'waitn': 17418, 'rappn': 17419, 'gav': 17420, 'hel': 17421, 'agfest': 17422, 'lei': 17423, 'anywayss': 17424, 'qua': 17425, 'kpc': 17426, 'needi': 17427, 'heyyyyyyyyyyyyyya': 17428, 'bionomi': 17429, 'rane': 17430, 'trini': 17431, 'esata': 17432, 'bendito': 17433, 'exsaust': 17434, 'chalki': 17435, 'groundhog': 17436, 'angi': 17437, 'tatto': 17438, 'strut': 17439, 'artillero': 17440, 'orthadontist': 17441, 'babelfish': 17442, 'beastypop': 17443, 'ochoa': 17444, 'theskinsocieti': 17445, 'omnomlett': 17446, 'jagk': 17447, 'bestest': 17448, 'cdrbt': 17449, 'helllllloooooooooooo': 17450, 'fieldwork': 17451, 'databook': 17452, 'asp': 17453, 'listview': 17454, 'fume': 17455, 'rotk': 17456, 'gosforth': 17457, 'antoni': 17458, 'mundo': 17459, 'errrr': 17460, 'zw': 17461, 'talli': 17462, 'katieheidi': 17463, 'uuu': 17464, 'nou': 17465, 'yeey': 17466, 'epeni': 17467, 'truss': 17468, 'upj': 17469, 'campo': 17470, 'missendon': 17471, 'newtown': 17472, 'iloveshawniedur': 17473, 'hollaback': 17474, 'elora': 17475, 'danan': 17476, 'nsw': 17477, 'natalyy': 17478, 'jubey': 17479, 'kyneton': 17480, 'autumn': 17481, 'daylesford': 17482, 'jdubb': 17483, 'folkkz': 17484, 'baaaaaaaah': 17485, 'cockroach': 17486, 'heeeeelp': 17487, 'lovebank': 17488, 'torey': 17489, 'llama': 17490, 'temptat': 17491, 'mysefl': 17492, 'awessome': 17493, 'hurrr': 17494, 'orr': 17495, 'foodtour': 17496, 'noctweetup': 17497, 'goodgirl': 17498, 'escobar': 17499, 'eastbay': 17500, 'webcom': 17501, 'yul': 17502, 'laff': 17503, 'aright': 17504, 'musiic': 17505, 'therealfunkymonkey': 17506, 'jkbc': 17507, 'silverstein': 17508, 'shotgun': 17509, 'dming': 17510, 'maccym': 17511, 'ankit': 17512, 'parlour': 17513, 'hokeypokeybandra': 17514, 'glasser': 17515, 'calla': 17516, 'homeschool': 17517, 'twibbl': 17518, 'loca': 17519, 'lovley': 17520, 'yogini': 17521, 'partyyi': 17522, 'lant': 17523, 'lore': 17524, 'changin': 17525, 'newscent': 17526, 'decompress': 17527, 'croquett': 17528, 'ani': 17529, 'booey': 17530, 'hungryyyyyy': 17531, 'xam': 17532, 'guniea': 17533, 'glastonburi': 17534, 'wyattt': 17535, 'geeez': 17536, 'concer': 17537, 'gourmetcook': 17538, 'leiiin': 17539, 'introoo': 17540, 'bluri': 17541, 'medan': 17542, 'steemer': 17543, 'masterchef': 17544, 'pugsli': 17545, 'otrip': 17546, 'twoloer': 17547, 'candlelight': 17548, 'morcom': 17549, 'hva': 17550, 'crap': 17551, 'precaut': 17552, 'luckiest': 17553, 'happeh': 17554, 'verita': 17555, 'diablo': 17556, 'quantum': 17557, 'craigi': 17558, 'upppp': 17559, 'thinksm': 17560, 'rapp': 17561, 'purrrti': 17562, 'feckin': 17563, 'noah': 17564, 'calll': 17565, 'moveout': 17566, 'gibb': 17567, 'strudel': 17568, 'runt': 17569, 'pwnage': 17570, 'pcfopc': 17571, 'solang': 17572, 'gtta': 17573, 'rrrrr': 17574, 'twidget': 17575, 'lester': 17576, 'happppppyyyy': 17577, 'mothersdayyyyyyyyy': 17578, 'metsi': 17579, 'delicaci': 17580, 'pict': 17581, 'realllllllllli': 17582, 'bampa': 17583, 'disdrict': 17584, 'sweety': 17585, 'aoki': 17586, 'larin': 17587, 'sanzz': 17588, 'waaaa': 17589, 'onfir': 17590, 'letitia': 17591, 'brenden': 17592, 'snuff': 17593, 'hermion': 17594, 'zul': 17595, 'jin': 17596, 'blanco': 17597, 'rican': 17598, 'yi': 17599, 'preform': 17600, 'holden': 17601, 'tenerif': 17602, 'omgggggggggg': 17603, 'tytn': 17604, 'youself': 17605, 'fafsa': 17606, 'arbor': 17607, 'paragraph': 17608, 'para': 17609, 'heffer': 17610, 'jcwm': 17611, 'ubook': 17612, 'alma': 17613, 'brake': 17614, 'liana': 17615, 'corber': 17616, 'moreov': 17617, 'wiaih': 17618, 'bret': 17619, 'havta': 17620, 'fllwing': 17621, 'loveeeeeee': 17622, 'compon': 17623, 'fes': 17624, 'chairman': 17625, 'ivfm': 17626, 'pyyuci': 17627, 'zgz': 17628, 'whattaburg': 17629, 'siren': 17630, 'lapiti': 17631, 'topiti': 17632, 'owwi': 17633, 'awayz': 17634, 'weebo': 17635, 'greshamblak': 17636, 'blatent': 17637, 'shove': 17638, 'wei': 17639, 'pier': 17640, 'stooopid': 17641, 'inter': 17642, 'substanc': 17643, 'justifi': 17644, 'curler': 17645, 'twirp': 17646, 'polka': 17647, 'glam': 17648, 'chantelli': 17649, 'capitan': 17650, 'singtel': 17651, 'mychemicalrom': 17652, 'anerex': 17653, 'tataindicom': 17654, 'tataski': 17655, 'airtel': 17656, 'whoott': 17657, 'wari': 17658, 'marshmallow': 17659, 'provolon': 17660, 'beefsteak': 17661, 'cic': 17662, 'timid': 17663, 'osocut': 17664, 'sonetim': 17665, 'vorderman': 17666, 'interivew': 17667, 'kebab': 17668, 'hmmp': 17669, 'rovin': 17670, 'caland': 17671, 'colland': 17672, 'slooowww': 17673, 'lonestar': 17674, 'beli': 17675, 'urm': 17676, 'soonest': 17677, 'butthurt': 17678, 'funnyy': 17679, 'whope': 17680, 'vma': 17681, 'fintster': 17682, 'awwwwwwww': 17683, 'tanyya': 17684, 'micster': 17685, 'rentaphon': 17686, 'yesi': 17687, 'sssnore': 17688, 'unfort': 17689, 'warrenti': 17690, 'hahaaaha': 17691, 'flypsid': 17692, 'foist': 17693, 'coffeclub': 17694, 'hallelujah': 17695, 'bermuda': 17696, 'cwazi': 17697, 'mindi': 17698, 'christi': 17699, 'venki': 17700, 'pachad': 17701, 'crowntown': 17702, 'dix': 17703, 'an': 17704, 'froyo': 17705, 'phelp': 17706, 'overexcit': 17707, 'disembark': 17708, 'tswassen': 17709, 'keycard': 17710, 'throooooooooooooo': 17711, 'srtart': 17712, 'zebra': 17713, 'playstat': 17714, 'juliamari': 17715, 'orbitron': 17716, 'parde': 17717, 'awwwwweee': 17718, 'clockkk': 17719, 'sooper': 17720, 'dooper': 17721, 'bharia': 17722, 'dhumchik': 17723, 'slo': 17724, 'ocracok': 17725, 'amritsar': 17726, 'wholesal': 17727, 'tuition': 17728, 'jan': 17729, 'demistylesourc': 17730, 'aggress': 17731, 'ado': 17732, 'pdrmj': 17733, 'jjlc': 17734, 'loooonnnggg': 17735, 'nno': 17736, 'slr': 17737, 'allright': 17738, 'lucknow': 17739, 'absenc': 17740, 'downright': 17741, 'masochist': 17742, 'gutwrench': 17743, 'idgaf': 17744, 'mq': 17745, 'loosen': 17746, 'reinforc': 17747, 'clay': 17748, 'aiken': 17749, 'ezin': 17750, 'bandoni': 17751, 'workyy': 17752, 'lin': 17753, 'numan': 17754, 'yeeeehaaa': 17755, 'backseat': 17756, 'freecd': 17757, 'backseatgoodby': 17758, 'angsti': 17759, 'krautrock': 17760, 'kirkland': 17761, 'totali': 17762, 'emboss': 17763, 'papersourc': 17764, 'clam': 17765, 'sciif': 17766, 'hyperbirdi': 17767, 'terror': 17768, 'twi': 17769, 'goldmin': 17770, 'biknightu': 17771, 'tweedeck': 17772, 'defer': 17773, 'tomorah': 17774, 'aphrodisiac': 17775, 'sadi': 17776, 'complianc': 17777, 'resurrect': 17778, 'tisha': 17779, 'horsi': 17780, 'estep': 17781, 'tduke': 17782, 'flwd': 17783, 'dhmptn': 17784, 'nicc': 17785, 'twtr': 17786, 'wsxi': 17787, 'louder': 17788, 'caribdir': 17789, 'twitterrr': 17790, 'intermin': 17791, 'approx': 17792, 'breesahol': 17793, 'ooommmmggggg': 17794, 'ballist': 17795, 'autist': 17796, 'relish': 17797, 'fiftythousand': 17798, 'haystack': 17799, 'supertarget': 17800, 'healthifi': 17801, 'streusel': 17802, 'hice': 17803, 'maruchan': 17804, 'jfkw': 17805, 'afc': 17806, 'ommg': 17807, 'gurll': 17808, 'damnat': 17809, 'brokeback': 17810, 'totoro': 17811, 'atmospher': 17812, 'mamagra': 17813, 'screaaaaaaaaaaaaaaaaaaaaaaaaaaaaam': 17814, 'freu': 17815, 'nav': 17816, 'workkkkkkkkkkkkkkkkk': 17817, 'frenchfri': 17818, 'corndog': 17819, 'openhacklondon': 17820, 'cowel': 17821, 'daugter': 17822, 'thatv': 17823, 'don': 17824, 'upland': 17825, 'groovi': 17826, 'troi': 17827, 'ohbabayi': 17828, 'bcit': 17829, 'grimestopp': 17830, 'roam': 17831, 'janessa': 17832, 'russia': 17833, 'maya': 17834, 'kibbel': 17835, 'sunfay': 17836, 'nymph': 17837, 'joo': 17838, 'omegl': 17839, 'lovesss': 17840, 'anyhooo': 17841, 'mumzi': 17842, 'uuuugh': 17843, 'lightmar': 17844, 'galveston': 17845, 'skipton': 17846, 'aural': 17847, 'hugz': 17848, 'xxxxxxxxxx': 17849, 'encod': 17850, 'creme': 17851, 'brule': 17852, 'tiramisu': 17853, 'pooorr': 17854, 'guiliti': 17855, 'wyqow': 17856, 'giutar': 17857, 'amazinq': 17858, 'qirl': 17859, 'quess': 17860, 'qreat': 17861, 'todayyyi': 17862, 'nerrrvous': 17863, 'folow': 17864, 'comanch': 17865, 'itsur': 17866, 'shmolan': 17867, 'wsst': 17868, 'xnx': 17869, 'qyn': 17870, 'greeeeen': 17871, 'mutitask': 17872, 'shiiit': 17873, 'unapp': 17874, 'hkuj': 17875, 'swap': 17876, 'popup': 17877, 'blocker': 17878, 'lasertag': 17879, 'sermon': 17880, 'meca': 17881, 'milonzzi': 17882, 'whoohoo': 17883, 'achilli': 17884, 'playabl': 17885, 'suckd': 17886, 'pocked': 17887, 'lindsay': 17888, 'fansit': 17889, 'ultimatelohan': 17890, 'thorp': 17891, 'feliza': 17892, 'gmorn': 17893, 'giirll': 17894, 'rblpn': 17895, 'snuggi': 17896, 'cade': 17897, 'garcia': 17898, 'oge': 17899, 'motherland': 17900, 'caro': 17901, 'disorgan': 17902, 'minstrel': 17903, 'petrol': 17904, 'thabk': 17905, 'gbw': 17906, 'tager': 17907, 'mhmm': 17908, 'degreas': 17909, 'snaaaap': 17910, 'jimmaaayi': 17911, 'hookup': 17912, 'ridden': 17913, 'gng': 17914, 'glyder': 17915, 'supremist': 17916, 'abhor': 17917, 'duerden': 17918, 'jealousmuch': 17919, 'transgress': 17920, 'clp': 17921, 'teari': 17922, 'horrifi': 17923, 'warz': 17924, 'ahora': 17925, 'br': 17926, 'bred': 17927, 'donot': 17928, 'fas': 17929, 'grahmcrack': 17930, 'pcvs': 17931, 'sowwiee': 17932, 'sneakerz': 17933, 'pinga': 17934, 'elabor': 17935, 'coogan': 17936, 'moran': 17937, 'showstopp': 17938, 'msize': 17939, 'janell': 17940, 'boreedd': 17941, 'nutti': 17942, 'newsir': 17943, 'twitterfe': 17944, 'tjefferson': 17945, 'troosevelt': 17946, 'barrio': 17947, 'cmyk': 17948, 'gala': 17949, 'ftr': 17950, 'wzzzzzzzzzup': 17951, 'derrek': 17952, 'skylar': 17953, 'yuuup': 17954, 'undertand': 17955, 'unimpress': 17956, 'procut': 17957, 'awesomeupdat': 17958, 'winksi': 17959, 'dachshund': 17960, 'stupidstupid': 17961, 'gprs': 17962, 'yaymen': 17963, 'palmad': 17964, 'sleppytim': 17965, 'britta': 17966, 'stoopid': 17967, 'accela': 17968, 'daphn': 17969, 'qnjqx': 17970, 'dpress': 17971, 'freecycl': 17972, 'seann': 17973, 'itl': 17974, 'menlo': 17975, 'enw': 17976, 'loook': 17977, 'kung': 17978, 'sloooooooooowlyyyyyyyyyyyyi': 17979, 'offenc': 17980, 'heyheyheyheyehyeyyyyyyyyyyyyyyyi': 17981, 'friad': 17982, 'whisker': 17983, 'carpent': 17984, 'shoesless': 17985, 'ardillaaaaaaaaaaaa': 17986, 'epicentr': 17987, 'wheelock': 17988, 'sicckkkk': 17989, 'marrrrrrrrrri': 17990, 'punchi': 17991, 'pager': 17992, 'macedonia': 17993, 'mxjj': 17994, 'frenchtoastcak': 17995, 'unrel': 17996, 'mamabear': 17997, 'persepoli': 17998, 'okok': 17999, 'getha': 18000, 'ciroc': 18001, 'superstit': 18002, 'outvot': 18003, 'francesc': 18004, 'fabrega': 18005, 'fabr': 18006, 'santana': 18007, 'wraith': 18008, 'eunic': 18009, 'kyna': 18010, 'vicodin': 18011, 'bjaday': 18012, 'whasup': 18013, 'themat': 18014, 'enthusiam': 18015, 'conscienc': 18016, 'aaa': 18017, 'ferber': 18018, 'sacrific': 18019, 'ks': 18020, 'admin': 18021, 'warmer': 18022, 'lill': 18023, 'applebottom': 18024, 'fubu': 18025, 'muay': 18026, 'octo': 18027, 'disclaim': 18028, 'reloc': 18029, 'westin': 18030, 'tweetshrink': 18031, 'tweed': 18032, 'thie': 18033, 'ysc': 18034, 'runthrough': 18035, 'bwm': 18036, 'tsm': 18037, 'rollercoast': 18038, 'improp': 18039, 'marzipan': 18040, 'wolfram': 18041, 'cuil': 18042, 'hesz': 18043, 'krista': 18044, 'daaaaang': 18045, 'postcard': 18046, 'northview': 18047, 'req': 18048, 'whaf': 18049, 'ffanci': 18050, 'aobut': 18051, 'bmore': 18052, 'adobo': 18053, 'mcc': 18054, 'chubba': 18055, 'winston': 18056, 'rplkr': 18057, 'iater': 18058, 'sheer': 18059, 'ug': 18060, 'kboom': 18061, 'fibromyalgia': 18062, 'compoundin': 18063, 'westgat': 18064, 'deathfic': 18065, 'expmtevsfqg': 18066, 'earlyer': 18067, 'smartcar': 18068, 'beachmex': 18069, 'jonasnewsong': 18070, 'robart': 18071, 'wench': 18072, 'conni': 18073, 'ginorm': 18074, 'stafford': 18075, 'chapel': 18076, 'jgj': 18077, 'hou': 18078, 'biglot': 18079, 'honi': 18080, 'naku': 18081, 'squiggi': 18082, 'lavern': 18083, 'shontell': 18084, 'kingston': 18085, 'gru': 18086, 'zyrtec': 18087, 'detector': 18088, 'iflow': 18089, 'kwnx': 18090, 'voraci': 18091, 'stubbl': 18092, 'yaaaaaaaaaaaay': 18093, 'thereeeeeeeeee': 18094, 'haahaha': 18095, 'hassn': 18096, 'flowi': 18097, 'oystser': 18098, 'platter': 18099, 'crunchi': 18100, 'mesaj': 18101, 'eroar': 18102, 'forbiddenyou': 18103, 'ghicit': 18104, 'facebeek': 18105, 'kilo': 18106, 'mela': 18107, 'cept': 18108, 'lostthegam': 18109, 'euggh': 18110, 'higgin': 18111, 'striker': 18112, 'twittix': 18113, 'parachut': 18114, 'greastest': 18115, 'trevor': 18116, 'cabanaaaaaa': 18117, 'campp': 18118, 'cwpm': 18119, 'sheboygan': 18120, 'teekay': 18121, 'virtualkiss': 18122, 'trulli': 18123, 'kaibosh': 18124, 'sideway': 18125, 'tvz': 18126, 'aaaaaahhhhhhhh': 18127, 'sweeeeeeet': 18128, 'idiom': 18129, 'stope': 18130, 'sailor': 18131, 'reaper': 18132, 'phped': 18133, 'successfuli': 18134, 'roxar': 18135, 'germaphob': 18136, 'noob': 18137, 'shifter': 18138, 'harajuku': 18139, 'longgggggggg': 18140, 'blaisdel': 18141, 'cheehe': 18142, 'awwrrit': 18143, 'reyah': 18144, 'homegirl': 18145, 'ry': 18146, 'wap': 18147, 'recommendatiion': 18148, 'tong': 18149, 'cordial': 18150, 'hur': 18151, 'mist': 18152, 'minibar': 18153, 'starup': 18154, 'avalanch': 18155, 'goddamnit': 18156, 'sourish': 18157, 'ummmph': 18158, 'parsley': 18159, 'nay': 18160, 'kelvin': 18161, 'spittin': 18162, 'smokinggg': 18163, 'saaad': 18164, 'hotti': 18165, 'switchfoot': 18166, 'hsg': 18167, 'tweetbeak': 18168, 'watcher': 18169, 'lmgtfi': 18170, 'sharn': 18171, 'booor': 18172, 'gzx': 18173, 'afterthought': 18174, 'synn': 18175, 'kaushik': 18176, 'industrynew': 18177, 'kennedyreleas': 18178, 'ughhhhhhhh': 18179, 'jamlegend': 18180, 'hershey': 18181, 'emc': 18182, 'sudi': 18183, 'martabak': 18184, 'fatten': 18185, 'bfast': 18186, 'cuuuba': 18187, 'applescript': 18188, 'smite': 18189, 'seeker': 18190, 'supperinn': 18191, 'mhs': 18192, 'nailpolish': 18193, 'eddplant': 18194, 'overstuf': 18195, 'aaaaaoouoouoouu': 18196, 'tallcre': 18197, 'lapa': 18198, 'samba': 18199, 'iver': 18200, 'acquaint': 18201, 'bsnl': 18202, 'fost': 18203, 'tiberiu': 18204, 'noi': 18205, 'aflat': 18206, 'sunt': 18207, 'imbecili': 18208, 'overs': 18209, 'byee': 18210, 'poorest': 18211, 'shiv': 18212, 'ethernet': 18213, 'jehovah': 18214, 'macmaz': 18215, 'lula': 18216, 'kcsq': 18217, 'danstorc': 18218, 'woooh': 18219, 'yahyan': 18220, 'iaaaaaaaaaaaaan': 18221, 'chlav': 18222, 'lifebal': 18223, 'perus': 18224, 'narcot': 18225, 'moist': 18226, 'speedo': 18227, 'dontlik': 18228, 'estk': 18229, 'nemonemesi': 18230, 'mito': 18231, 'adoreiii': 18232, 'lof': 18233, 'cosmo': 18234, 'kamikaz': 18235, 'armin': 18236, 'tornado': 18237, 'desappoint': 18238, 'loooooov': 18239, 'wqi': 18240, 'minnesoooooooota': 18241, 'cliquot': 18242, 'letterman': 18243, 'abueltia': 18244, 'ignment': 18245, 'sufka': 18246, 'jcjj': 18247, 'boagsi': 18248, 'loveu': 18249, 'ofzj': 18250, 'sheeeeittt': 18251, 'bwaaaahhh': 18252, 'thanku': 18253, 'jericho': 18254, 'pleeaasse': 18255, 'flee': 18256, 'ohi': 18257, 'pastrana': 18258, 'iprocrastin': 18259, 'flaw': 18260, 'janedurkin': 18261, 'qfl': 18262, 'baq': 18263, 'wci': 18264, 'befor': 18265, 'zeb': 18266, 'insensit': 18267, 'ous': 18268, 'hypertrophi': 18269, 'jnizbw': 18270, 'tort': 18271, 'noarchiv': 18272, 'beautifulll': 18273, 'pwwlj': 18274, 'tilli': 18275, 'nifti': 18276, 'jacquelin': 18277, 'cbbc': 18278, 'mikesh': 18279, 'givein': 18280, 'cyderrrrrrrrr': 18281, 'yow': 18282, 'attal': 18283, 'alrit': 18284, 'shudv': 18285, 'pmg': 18286, 'relasi': 18287, 'zol': 18288, 'yogulici': 18289, 'salli': 18290, 'competitor': 18291, 'footag': 18292, 'craptast': 18293, 'girrrrl': 18294, 'granul': 18295, 'taboo': 18296, 'pwn': 18297, 'xhosa': 18298, 'chuckl': 18299, 'garbo': 18300, 'sorc': 18301, 'footlong': 18302, 'halal': 18303, 'dmore': 18304, 'chargerrr': 18305, 'cyprus': 18306, 'surrend': 18307, 'mjyj': 18308, 'sdp': 18309, 'peristalsi': 18310, 'henpeck': 18311, 'condition': 18312, 'compiment': 18313, 'sixti': 18314, 'micah': 18315, 'photovia': 18316, 'secondstar': 18317, 'xyt': 18318, 'qynya': 18319, 'edaust': 18320, 'gdit': 18321, 'siad': 18322, 'happilett': 18323, 'jkvh': 18324, 'redd': 18325, 'defianc': 18326, 'spurt': 18327, 'laughin': 18328, 'apper': 18329, 'belofsouthi': 18330, 'granda': 18331, 'milag': 18332, 'bootay': 18333, 'thanxxx': 18334, 'tada': 18335, 'pointlesss': 18336, 'leaveee': 18337, 'caan': 18338, 'iht': 18339, 'ahar': 18340, 'defunct': 18341, 'sml': 18342, 'elitecamp': 18343, 'zotz': 18344, 'supertramp': 18345, 'jucn': 18346, 'arrggh': 18347, 'kava': 18348, 'becasu': 18349, 'uset': 18350, 'sleepppppppp': 18351, 'molyneux': 18352, 'whaatttaatttt': 18353, 'sierra': 18354, 'aniya': 18355, 'spaceport': 18356, 'fannish': 18357, 'inquisit': 18358, 'conchord': 18359, 'ashli': 18360, 'yeaterday': 18361, 'befriend': 18362, 'motorsport': 18363, 'americanidolislov': 18364, 'fann': 18365, 'jcfg': 18366, 'quarri': 18367, 'shipley': 18368, 'baildon': 18369, 'spoiler': 18370, 'speller': 18371, 'jbobsess': 18372, 'bookfac': 18373, 'ammmmaz': 18374, 'goodniqht': 18375, 'streak': 18376, 'cantazaro': 18377, 'calabria': 18378, 'marl': 18379, 'heartstr': 18380, 'nofair': 18381, 'uhura': 18382, 'nero': 18383, 'agenda': 18384, 'holyyyyyyi': 18385, 'injustic': 18386, 'wq': 18387, 'incl': 18388, 'iiii': 18389, 'butck': 18390, 'heav': 18391, 'funfunfun': 18392, 'repel': 18393, 'agoraphob': 18394, 'yearl': 18395, 'lipton': 18396, 'trapez': 18397, 'spn': 18398, 'unifi': 18399, 'drastic': 18400, 'doubleclick': 18401, 'cultureshockmag': 18402, 'shoutz': 18403, 'nervvoouuss': 18404, 'wij': 18405, 'jojo': 18406, 'willdo': 18407, 'anythig': 18408, 'uzbekistan': 18409, 'fraudster': 18410, 'cxze': 18411, 'lovecraftian': 18412, 'siitter': 18413, 'hsd': 18414, 'weheyyyi': 18415, 'midi': 18416, 'petti': 18417, 'niggl': 18418, 'selfhelpmagazin': 18419, 'psychtoon': 18420, 'glasbergen': 18421, 'stressmanag': 18422, 'stresstest': 18423, 'gif': 18424, 'rendez': 18425, 'vous': 18426, 'somervill': 18427, 'jez': 18428, 'sabi': 18429, 'hazard': 18430, 'loneli': 18431, 'greaaat': 18432, 'twitterin': 18433, 'eighti': 18434, 'jmjb': 18435, 'jz': 18436, 'lasagn': 18437, 'askin': 18438, 'oowwee': 18439, 'wuz': 18440, 'lipstic': 18441, 'repetit': 18442, 'purrrr': 18443, 'luckyyi': 18444, 'itlog': 18445, 'whaat': 18446, 'pussycat': 18447, 'hxlfm': 18448, 'gar': 18449, 'relight': 18450, 'russtl': 18451, 'bluff': 18452, 'meadowhal': 18453, 'spector': 18454, 'zwd': 18455, 'yeyah': 18456, 'fink': 18457, 'popey': 18458, 'semanggi': 18459, 'siggghh': 18460, 'yeeeeeeeee': 18461, 'pistol': 18462, 'absolv': 18463, 'oceanup': 18464, 'gaston': 18465, 'stumpi': 18466, 'cuban': 18467, 'breakfastservic': 18468, 'marjolein': 18469, 'guido': 18470, 'dirk': 18471, 'hapi': 18472, 'mouthi': 18473, 'jitteri': 18474, 'xfs': 18475, 'ahhhhhhhhh': 18476, 'rrtheatr': 18477, 'whooaaa': 18478, 'overwheolm': 18479, 'itus': 18480, 'mckay': 18481, 'friiiiiday': 18482, 'newsboy': 18483, 'wyck': 18484, 'lazzzi': 18485, 'crissi': 18486, 'doinnnn': 18487, 'jae': 18488, 'payat': 18489, 'cooould': 18490, 'picki': 18491, 'clingi': 18492, 'noriega': 18493, 'milow': 18494, 'aeg': 18495, 'pvyyh': 18496, 'latvian': 18497, 'beaurocraci': 18498, 'braill': 18499, 'farsi': 18500, 'shoplift': 18501, 'darfur': 18502, 'dominick': 18503, 'comiccon': 18504, 'pleaas': 18505, 'surrrrrous': 18506, 'misadventur': 18507, 'agwl': 18508, 'shah': 18509, 'rukh': 18510, 'impost': 18511, 'pearson': 18512, 'mindblow': 18513, 'pumkpin': 18514, 'padestrian': 18515, 'skank': 18516, 'sastch': 18517, 'tiday': 18518, 'tshwane': 18519, 'robertson': 18520, 'photoblog': 18521, 'faceee': 18522, 'mader': 18523, 'elus': 18524, 'cabbag': 18525, 'russ': 18526, 'bachelor': 18527, 'partial': 18528, 'sobr': 18529, 'suitabl': 18530, 'eabeauti': 18531, 'holyday': 18532, 'docker': 18533, 'achan': 18534, 'waft': 18535, 'papaw': 18536, 'gimmeh': 18537, 'mhmhmh': 18538, 'badu': 18539, 'deffin': 18540, 'agus': 18541, 'wxz': 18542, 'okey': 18543, 'uwian': 18544, 'phplurk': 18545, 'pelangi': 18546, 'serco': 18547, 'jnfwn': 18548, 'whoah': 18549, 'arrrgh': 18550, 'redwood': 18551, 'metreon': 18552, 'matchmak': 18553, 'dorm': 18554, 'unprepar': 18555, 'iigghhtt': 18556, 'geet': 18557, 'idc': 18558, 'immboredddd': 18559, 'fuckitt': 18560, 'elsinor': 18561, 'worshipp': 18562, 'schack': 18563, 'scouser': 18564, 'gusi': 18565, 'bourbon': 18566, 'zeitgeist': 18567, 'thereeeeee': 18568, 'forseeabl': 18569, 'estrella': 18570, 'azul': 18571, 'welch': 18572, 'ust': 18573, 'citibank': 18574, 'yuup': 18575, 'runaway': 18576, 'bedalii': 18577, 'aaarrrgggghhh': 18578, 'decrib': 18579, 'mope': 18580, 'clemenc': 18581, 'pinic': 18582, 'nungguin': 18583, 'asih': 18584, 'kayaknya': 18585, 'ini': 18586, 'yeayi': 18587, 'bew': 18588, 'erock': 18589, 'deangeloredman': 18590, 'nlc': 18591, 'ltj': 18592, 'yoke': 18593, 'restaraunt': 18594, 'garfield': 18595, 'tweetsuit': 18596, 'ftuv': 18597, 'xmrn': 18598, 'macaroon': 18599, 'elmer': 18600, 'hihihi': 18601, 'corni': 18602, 'alam': 18603, 'kidz': 18604, 'sherraton': 18605, 'bbqd': 18606, 'muthafuckin': 18607, 'jax': 18608, 'ableton': 18609, 'cassian': 18610, 'serio': 18611, 'barroca': 18612, 'paraben': 18613, 'phish': 18614, 'preoccupi': 18615, 'motorcad': 18616, 'clinton': 18617, 'broompark': 18618, 'onoir': 18619, 'ubc': 18620, 'ladiez': 18621, 'cambi': 18622, 'troll': 18623, 'gurrl': 18624, 'basquash': 18625, 'sengoku': 18626, 'basara': 18627, 'requiemforthephantom': 18628, 'edenoftheeast': 18629, 'yosemit': 18630, 'decongest': 18631, 'celin': 18632, 'iw': 18633, 'waaw': 18634, 'kwzh': 18635, 'becas': 18636, 'fitzcarraldo': 18637, 'daaaaaaaaay': 18638, 'dsaa': 18639, 'bussi': 18640, 'emmett': 18641, 'tradewind': 18642, 'vive': 18643, 'boardi': 18644, 'lawyer': 18645, 'rosali': 18646, 'yardsal': 18647, 'reson': 18648, 'bara': 18649, 'aggghhhh': 18650, 'muak': 18651, 'sudah': 18652, 'ngobrolin': 18653, 'cii': 18654, 'kesian': 18655, 'kamu': 18656, 'speakernya': 18657, 'rusak': 18658, 'benerin': 18659, 'hotsawc': 18660, 'owwwwww': 18661, 'sharsi': 18662, 'ipt': 18663, 'williamssssss': 18664, 'teletubbi': 18665, 'interior': 18666, 'bahahah': 18667, 'ciggarett': 18668, 'immatur': 18669, 'ababa': 18670, 'nbc': 18671, 'theofficenbc': 18672, 'gervai': 18673, 'cathi': 18674, 'ordinarili': 18675, 'trusti': 18676, 'juneau': 18677, 'bryce': 18678, 'elementari': 18679, 'shaken': 18680, 'pengpengsplac': 18681, 'bwahaha': 18682, 'disgrac': 18683, 'perfectionist': 18684, 'luckkkk': 18685, 'ank': 18686, 'orign': 18687, 'hurtl': 18688, 'headlong': 18689, 'largest': 18690, 'ihop': 18691, 'cob': 18692, 'mh': 18693, 'mnet': 18694, 'tuunee': 18695, 'cheroke': 18696, 'nkpuz': 18697, 'tyb': 18698, 'absoulutley': 18699, 'weer': 18700, 'een': 18701, 'raar': 18702, 'gelopen': 18703, 'mccartney': 18704, 'judici': 18705, 'commonwealth': 18706, 'caribbean': 18707, 'rieger': 18708, 'begonia': 18709, 'kjr': 18710, 'rpaag': 18711, 'dencorub': 18712, 'tone': 18713, 'dealz': 18714, 'playback': 18715, 'lulu': 18716, 'slant': 18717, 'freehug': 18718, 'criado': 18719, 'paraguay': 18720, 'bailon': 18721, 'krcamp': 18722, 'brummi': 18723, 'alicev': 18724, 'vesak': 18725, 'lova': 18726, 'bbff': 18727, 'communifuckingc': 18728, 'arlando': 18729, 'pringl': 18730, 'guidanc': 18731, 'counsellor': 18732, 'blob': 18733, 'tentacl': 18734, 'ygcp': 18735, 'mpoghc': 18736, 'stomachac': 18737, 'trailhead': 18738, 'awwzn': 18739, 'indeedi': 18740, 'teng': 18741, 'chutti': 18742, 'hormon': 18743, 'misbehav': 18744, 'totem': 18745, 'aust': 18746, 'herew': 18747, 'instinct': 18748, 'menfolk': 18749, 'ocd': 18750, 'outside': 18751, 'revisionn': 18752, 'aquatard': 18753, 'watchinggg': 18754, 'hellooooooo': 18755, 'beefin': 18756, 'steakhous': 18757, 'rossi': 18758, 'bankrol': 18759, 'yogurtland': 18760, 'wahh': 18761, 'zuccini': 18762, 'pinpoint': 18763, 'weber': 18764, 'founder': 18765, 'puma': 18766, 'charmer': 18767, 'kgs': 18768, 'thump': 18769, 'evangel': 18770, 'geo': 18771, 'waaaaa': 18772, 'dryclean': 18773, 'whatshappen': 18774, 'hunter': 18775, 'frasier': 18776, 'twelv': 18777, 'thorni': 18778, 'nanay': 18779, 'beshi': 18780, 'jkid': 18781, 'funday': 18782, 'farrel': 18783, 'parlor': 18784, 'viejo': 18785, 'afraidiow': 18786, 'exsplain': 18787, 'ynxo': 18788, 'printchick': 18789, 'gradual': 18790, 'ptfe': 18791, 'kuwait': 18792, 'sorrryy': 18793, 'sorrrri': 18794, 'pwnd': 18795, 'yeahhhh': 18796, 'aswer': 18797, 'yeaup': 18798, 'disprov': 18799, 'teus': 18800, 'smo': 18801, 'uqh': 18802, 'supposedd': 18803, 'wakk': 18804, 'earlyy': 18805, 'cantt': 18806, 'sleepp': 18807, 'omq': 18808, 'iss': 18809, 'dya': 18810, 'tedtalk': 18811, 'nowt': 18812, 'bananabrain': 18813, 'oepn': 18814, 'bulk': 18815, 'neitherrrr': 18816, 'aeroplan': 18817, 'wkp': 18818, 'albuquerqu': 18819, 'kknow': 18820, 'josey': 18821, 'chainsaw': 18822, 'canva': 18823, 'ooooover': 18824, 'oooover': 18825, 'stuttgart': 18826, 'befah': 18827, 'brokey': 18828, 'momsen': 18829, 'videok': 18830, 'nyahahaha': 18831, 'tanya': 18832, 'zumba': 18833, 'nooobodi': 18834, 'sleeeeeeeepi': 18835, 'friendss': 18836, 'waaaaayyyyy': 18837, 'overpow': 18838, 'talkshow': 18839, 'marketplac': 18840, 'nitentdo': 18841, 'instanc': 18842, 'gil': 18843, 'jsepj': 18844, 'fenc': 18845, 'darian': 18846, 'lennon': 18847, 'burton': 18848, 'ibood': 18849, 'jobless': 18850, 'quizfarm': 18851, 'quizrunn': 18852, 'carera': 18853, 'captiv': 18854, 'peol': 18855, 'yolonda': 18856, 'emporium': 18857, 'lockdown': 18858, 'moolah': 18859, 'flatworld': 18860, 'enzian': 18861, 'singz': 18862, 'girrrlfriend': 18863, 'reallllyyi': 18864, 'aiza': 18865, 'cliiimb': 18866, 'basil': 18867, 'telegraph': 18868, 'ttvn': 18869, 'qfc': 18870, 'broad': 18871, 'caroooo': 18872, 'telemarket': 18873, 'cbw': 18874, 'neko': 18875, 'amcmain': 18876, 'sibl': 18877, 'ts': 18878, 'noooooooooooo': 18879, 'cofo': 18880, 'laffi': 18881, 'taffi': 18882, 'huffi': 18883, 'chiangmai': 18884, 'loy': 18885, 'krathong': 18886, 'ptour': 18887, 'fh': 18888, 'jboh': 18889, 'suiva': 18890, 'saaaaaaaaaaaaaad': 18891, 'summerbal': 18892, 'naise': 18893, 'arond': 18894, 'brotha': 18895, 'liveloves': 18896, 'gratitud': 18897, 'timeless': 18898, 'crampsss': 18899, 'ralphi': 18900, 'hgoj': 18901, 'relis': 18902, 'margi': 18903, 'wooohooo': 18904, 'ujzq': 18905, 'collag': 18906, 'femin': 18907, 'gottaaa': 18908, 'darius': 18909, 'neight': 18910, 'spahk': 18911, 'terass': 18912, 'mtl': 18913, 'halv': 18914, 'looki': 18915, 'paradic': 18916, 'boc': 18917, 'hairspray': 18918, 'shannt': 18919, 'howl': 18920, 'gba': 18921, 'niiight': 18922, 'defcon': 18923, 'fakin': 18924, 'kisha': 18925, 'smarter': 18926, 'classier': 18927, 'ruilen': 18928, 'freeeeeeee': 18929, 'laaandan': 18930, 'mw': 18931, 'jap': 18932, 'jynxedpanda': 18933, 'princelpl': 18934, 'fireeeee': 18935, 'steadili': 18936, 'breakout': 18937, 'chari': 18938, 'ahug': 18939, 'wooki': 18940, 'malamut': 18941, 'caffin': 18942, 'nicola': 18943, 'hbs': 18944, 'ahahahahahahahaha': 18945, 'shediddi': 18946, 'beautifuul': 18947, 'sunblock': 18948, 'tipper': 18949, 'opc': 18950, 'mule': 18951, 'holmburi': 18952, 'summahkayi': 18953, 'intentando': 18954, 'intentarlo': 18955, 'lmfa': 18956, 'bwahah': 18957, 'chocolateee': 18958, 'eeeeevvveeerrrr': 18959, 'kalahari': 18960, 'fmlllll': 18961, 'hypervenil': 18962, 'pogu': 18963, 'easywrit': 18964, 'gxx': 18965, 'jkea': 18966, 'mrskutcher': 18967, 'aplusk': 18968, 'hughesi': 18969, 'rafferti': 18970, 'afireinsid': 18971, 'kansai': 18972, 'blackout': 18973, 'oklahomaaaaa': 18974, 'cbeebi': 18975, 'epg': 18976, 'pinkyponk': 18977, 'adiel': 18978, 'sabbi': 18979, 'ln': 18980, 'turbul': 18981, 'bunt': 18982, 'assignemtn': 18983, 'remmeb': 18984, 'licns': 18985, 'mechan': 18986, 'thelma': 18987, 'rebeca': 18988, 'symond': 18989, 'imprison': 18990, 'evenin': 18991, 'verey': 18992, 'madri': 18993, 'chasawi': 18994, 'deathmatch': 18995, 'profi': 18996, 'uspln': 18997, 'amend': 18998, 'pimpin': 18999, 'thrd': 19000, 'packin': 19001, 'cashi': 19002, 'neverend': 19003, 'babbbi': 19004, 'hemmat': 19005, 'layenn': 19006, 'uughh': 19007, 'dunt': 19008, 'detali': 19009, 'gruesom': 19010, 'remould': 19011, 'chivalri': 19012, 'mtfye': 19013, 'furbi': 19014, 'cobbl': 19015, 'filipno': 19016, 'challang': 19017, 'xhu': 19018, 'svdsh': 19019, 'samuel': 19020, 'clueless': 19021, 'witcha': 19022, 'photofiltr': 19023, 'photoscap': 19024, 'gimp': 19025, 'shard': 19026, 'pokey': 19027, 'dokomi': 19028, 'lonni': 19029, 'cunningham': 19030, 'stanc': 19031, 'meltingaway': 19032, 'throte': 19033, 'tahong': 19034, 'wellwood': 19035, 'beaten': 19036, 'pittsburgh': 19037, 'wiggiti': 19038, 'thehodg': 19039, 'inclus': 19040, 'indianapoli': 19041, 'redgi': 19042, 'splashtown': 19043, 'buger': 19044, 'mmmmmmmmm': 19045, 'termineda': 19046, 'cooraper': 19047, 'uproot': 19048, 'bunchh': 19049, 'amherst': 19050, 'okaaaay': 19051, 'jasper': 19052, 'swensen': 19053, 'acess': 19054, 'jobfield': 19055, 'ashton': 19056, 'noor': 19057, 'rugrat': 19058, 'anndd': 19059, 'kmrn': 19060, 'kosong': 19061, 'compil': 19062, 'baxx': 19063, 'baaha': 19064, 'antm': 19065, 'outro': 19066, 'cjc': 19067, 'wua': 19068, 'strighter': 19069, 'yhana': 19070, 'lif': 19071, 'leftov': 19072, 'noiiiiic': 19073, 'btwn': 19074, 'spp': 19075, 'yroy': 19076, 'delucca': 19077, 'prisnor': 19078, 'agreeabl': 19079, 'flown': 19080, 'dillybar': 19081, 'dq': 19082, 'yuuum': 19083, 'heeeyyy': 19084, 'fle': 19085, 'bulletin': 19086, 'musli': 19087, 'droop': 19088, 'shawne': 19089, 'cydia': 19090, 'springboard': 19091, 'lier': 19092, 'bereft': 19093, 'williamsburg': 19094, 'infinit': 19095, 'boutiqu': 19096, 'whant': 19097, 'surlytween': 19098, 'sworn': 19099, 'soarin': 19100, 'gnna': 19101, 'knockin': 19102, 'gyah': 19103, 'teten': 19104, 'nearbi': 19105, 'signatur': 19106, 'kamei': 19107, 'kuso': 19108, 'gout': 19109, 'toughest': 19110, 'lifespan': 19111, 'theeee': 19112, 'brunt': 19113, 'tonematrix': 19114, 'mccain': 19115, 'spilt': 19116, 'recognis': 19117, 'sweetpotato': 19118, 'seasalt': 19119, 'tired': 19120, 'nottt': 19121, 'jain': 19122, 'shir': 19123, 'commiss': 19124, 'mex': 19125, 'mqko': 19126, 'wsm': 19127, 'frak': 19128, 'bae': 19129, 'wamu': 19130, 'dgree': 19131, 'ensconc': 19132, 'doooo': 19133, 'broiler': 19134, 'expresso': 19135, 'voy': 19136, 'wbt': 19137, 'subhana': 19138, 'outtamyleagu': 19139, 'pardon': 19140, 'mimci': 19141, 'queensland': 19142, 'aquino': 19143, 'rreml': 19144, 'spade': 19145, 'confisc': 19146, 'tulip': 19147, 'craziier': 19148, 'ytke': 19149, 'noboddddyyyy': 19150, 'mmemarko': 19151, 'schilderweb': 19152, 'tpc': 19153, 'alga': 19154, 'laski': 19155, 'sandwichesss': 19156, 'felicia': 19157, 'gril': 19158, 'assault': 19159, 'reverbn': 19160, 'suki': 19161, 'dirteeh': 19162, 'diwali': 19163, 'saddi': 19164, 'dilli': 19165, 'scuba': 19166, 'janet': 19167, 'tossa': 19168, 'etown': 19169, 'jmccartney': 19170, 'walnut': 19171, 'becca': 19172, 'sickk': 19173, 'okami': 19174, 'yesyesy': 19175, 'jowki': 19176, 'cli': 19177, 'zzre': 19178, 'jkphn': 19179, 'ungrat': 19180, 'slimmer': 19181, 'bigest': 19182, 'taskbar': 19183, 'chkdisk': 19184, 'tiniest': 19185, 'practition': 19186, 'devot': 19187, 'wbn': 19188, 'adoarbl': 19189, 'supervillian': 19190, 'warfield': 19191, 'emoticon': 19192, 'cait': 19193, 'mysor': 19194, 'superfresh': 19195, 'cieg': 19196, 'cagalawan': 19197, 'nooooowwww': 19198, 'adoreeee': 19199, 'nathanson': 19200, 'kaggra': 19201, 'dynamit': 19202, 'reef': 19203, 'neith': 19204, 'keepin': 19205, 'missinmydgbigtym': 19206, 'showss': 19207, 'havnet': 19208, 'drift': 19209, 'jobo': 19210, 'renegad': 19211, 'greenock': 19212, 'kilmacolm': 19213, 'tonoght': 19214, 'pinkey': 19215, 'oist': 19216, 'sakit': 19217, 'monsterpalooza': 19218, 'amason': 19219, 'gos': 19220, 'whatt': 19221, 'jeuno': 19222, 'coudl': 19223, 'starbuk': 19224, 'daa': 19225, 'crewww': 19226, 'verdict': 19227, 'fuunn': 19228, 'prov': 19229, 'earedpag': 19230, 'joanna': 19231, 'bown': 19232, 'twitterolog': 19233, 'playmat': 19234, 'calgon': 19235, 'heartwarm': 19236, 'logan': 19237, 'whitex': 19238, 'gratz': 19239, 'harvey': 19240, 'rothlisberg': 19241, 'sexifi': 19242, 'bribe': 19243, 'pricey': 19244, 'wimpi': 19245, 'cymk': 19246, 'flipfold': 19247, 'wookie': 19248, 'arggghhhhhhhhhhh': 19249, 'bung': 19250, 'decaf': 19251, 'sunshineeeeee': 19252, 'myweak': 19253, 'threat': 19254, 'collerbon': 19255, 'lmaoz': 19256, 'mcmanus': 19257, 'poprl': 19258, 'yessssssir': 19259, 'tnite': 19260, 'hert': 19261, 'cstm': 19262, 'buaa': 19263, 'meirizka': 19264, 'welcomee': 19265, 'backkkkk': 19266, 'dv': 19267, 'bravo': 19268, 'gitwar': 19269, 'baffl': 19270, 'norf': 19271, 'repent': 19272, 'overdid': 19273, 'gover': 19274, 'downsiz': 19275, 'hellooo': 19276, 'amarula': 19277, 'klum': 19278, 'herd': 19279, 'somalion': 19280, 'jkvf': 19281, 'vvou': 19282, 'melika': 19283, 'grooveshark': 19284, 'tinysong': 19285, 'pz': 19286, 'asprin': 19287, 'myweawk': 19288, 'cayman': 19289, 'antidisestablishmentarian': 19290, 'wlan': 19291, 'socialis': 19292, 'ros': 19293, 'conced': 19294, 'odessey': 19295, 'register': 19296, 'goofin': 19297, 'meir': 19298, 'interwebz': 19299, 'isint': 19300, 'smthng': 19301, 'horseback': 19302, 'reaaaallli': 19303, 'gis': 19304, 'waaayyyi': 19305, 'eeek': 19306, 'axkit': 19307, 'bsame': 19308, 'cleanup': 19309, 'stakc': 19310, 'boredddddddd': 19311, 'buttermilk': 19312, 'delawar': 19313, 'cheeki': 19314, 'tacoma': 19315, 'kgw': 19316, 'pedal': 19317, 'godamn': 19318, 'enlist': 19319, 'labo': 19320, 'mentali': 19321, 'barr': 19322, 'chord': 19323, 'hearti': 19324, 'otalia': 19325, 'dahh': 19326, 'luvli': 19327, 'koh': 19328, 'meaning': 19329, 'oom': 19330, 'jconsol': 19331, 'mms': 19332, 'waer': 19333, 'nexxt': 19334, 'arrr': 19335, 'bwahahaha': 19336, 'xdxdxd': 19337, 'moy': 19338, 'cayogi': 19339, 'bz': 19340, 'mercenari': 19341, 'wroclaw': 19342, 'kosmo': 19343, 'eovvn': 19344, 'uuuuugh': 19345, 'remodel': 19346, 'anouth': 19347, 'lilash': 19348, 'yorker': 19349, 'rahul': 19350, 'bask': 19351, 'pablo': 19352, 'tweetcannon': 19353, 'odrza': 19354, 'tinytwitt': 19355, 'mcnugget': 19356, 'miz': 19357, 'audiomicro': 19358, 'gwoy': 19359, 'gwpx': 19360, 'amisha': 19361, 'patel': 19362, 'lottsa': 19363, 'muhaha': 19364, 'martha': 19365, 'uu': 19366, 'mnth': 19367, 'neverrr': 19368, 'damper': 19369, 'georgetown': 19370, 'invoic': 19371, 'ddub': 19372, 'butineedhelp': 19373, 'masekela': 19374, 'contern': 19375, 'clada': 19376, 'realllllllli': 19377, 'llike': 19378, 'mast': 19379, 'ladki': 19380, 'patata': 19381, 'jisk': 19382, 'sath': 19383, 'bhi': 19384, 'khush': 19385, 'rehna': 19386, 'decci': 19387, 'jwjmi': 19388, 'flicker': 19389, 'recomend': 19390, 'someone': 19391, 'tomoo': 19392, 'viva': 19393, 'juici': 19394, 'impli': 19395, 'deficit': 19396, 'cuzzo': 19397, 'vivi': 19398, 'flue': 19399, 'elisha': 19400, 'hooorah': 19401, 'ninth': 19402, 'sickkk': 19403, 'ufr': 19404, 'rank': 19405, 'controlyourrank': 19406, 'veryyi': 19407, 'hacienda': 19408, 'airi': 19409, 'urghh': 19410, 'valuabl': 19411, 'peolpl': 19412, 'doooooo': 19413, 'wxshi': 19414, 'circa': 19415, 'guus': 19416, 'zoombezi': 19417, 'callmecourt': 19418, 'tyvm': 19419, 'arghhhh': 19420, 'nb': 19421, 'scalper': 19422, 'moron': 19423, 'ddyyd': 19424, 'stracchino': 19425, 'warden': 19426, 'lookn': 19427, 'specifi': 19428, 'zi': 19429, 'ltermand': 19430, 'kaar': 19431, 'coypsl': 19432, 'smitten': 19433, 'malaka': 19434, 'chlamydia': 19435, 'syphili': 19436, 'munchin': 19437, 'tweetbreak': 19438, 'havaiana': 19439, 'mold': 19440, 'waaaaaay': 19441, 'priviledg': 19442, 'freaaaaaaak': 19443, 'contradict': 19444, 'malay': 19445, 'cyonct': 19446, 'frack': 19447, 'woul': 19448, 'modcloth': 19449, 'stray': 19450, 'can': 19451, 'ooooooooold': 19452, 'hoot': 19453, 'greenbelt': 19454, 'cfs': 19455, 'wweeeeooo': 19456, 'bestsel': 19457, 'melo': 19458, 'mount': 19459, 'clrbau': 19460, 'jehr': 19461, 'wonton': 19462, 'wireimag': 19463, 'oooooooooo': 19464, 'dancin': 19465, 'beignet': 19466, 'siouxsinn': 19467, 'vgzi': 19468, 'ooz': 19469, 'wdgr': 19470, 'awesoom': 19471, 'xjoc': 19472, 'blimey': 19473, 'gtgs': 19474, 'hamster': 19475, 'baptiz': 19476, 'webdu': 19477, 'nfti': 19478, 'croatian': 19479, 'gmas': 19480, 'eggo': 19481, 'synthet': 19482, 'sustitut': 19483, 'callback': 19484, 'scurri': 19485, 'booomb': 19486, 'sitar': 19487, 'idkk': 19488, 'ganda': 19489, 'svkch': 19490, 'suuuuuuuur': 19491, 'picat': 19492, 'lola': 19493, 'wesley': 19494, 'helpin': 19495, 'postin': 19496, 'wmiad': 19497, 'pllleeeaaass': 19498, 'aud': 19499, 'gwh': 19500, 'bwahahahahahahaha': 19501, 'ahd': 19502, 'gprof': 19503, 'ext': 19504, 'filesystem': 19505, 'ryanseacrest': 19506, 'milanq': 19507, 'whyte': 19508, 'montday': 19509, 'jkvl': 19510, 'wordart': 19511, 'eoi': 19512, 'nutriti': 19513, 'plnm': 19514, 'wowwww': 19515, 'sympahti': 19516, 'monro': 19517, 'trx': 19518, 'windmil': 19519, 'wve': 19520, 'pdate': 19521, 'gossipi': 19522, 'worthless': 19523, 'gucci': 19524, 'yhere': 19525, 'loongerrr': 19526, 'migawd': 19527, 'unfortunet': 19528, 'blehh': 19529, 'steff': 19530, 'ballet': 19531, 'kayyy': 19532, 'twittl': 19533, 'cutback': 19534, 'yummyyi': 19535, 'feather': 19536, 'tubey': 19537, 'thugh': 19538, 'hubb': 19539, 'lmoa': 19540, 'lantz': 19541, 'hearn': 19542, 'snooz': 19543, 'whre': 19544, 'heartach': 19545, 'mascara': 19546, 'lvoe': 19547, 'seshion': 19548, 'arrand': 19549, 'tweepular': 19550, 'blacket': 19551, 'vwll': 19552, 'vwller': 19553, 'sunstrok': 19554, 'reisl': 19555, 'verona': 19556, 'enjoyyitverymuch': 19557, 'photho': 19558, 'cajun': 19559, 'poetic': 19560, 'gyrl': 19561, 'stopp': 19562, 'disgruntl': 19563, 'youngest': 19564, 'awesomer': 19565, 'blcok': 19566, 'haox': 19567, 'esplain': 19568, 'docent': 19569, 'hvng': 19570, 'aftrn': 19571, 'cheescak': 19572, 'pque': 19573, 'carbonara': 19574, 'holler': 19575, 'dnw': 19576, 'malamang': 19577, 'brokennn': 19578, 'groupchat': 19579, 'ymous': 19580, 'contrast': 19581, 'machineeee': 19582, 'neighboor': 19583, 'bingo': 19584, 'breakingg': 19585, 'feta': 19586, 'defi': 19587, 'rake': 19588, 'ccnet': 19589, 'atg': 19590}\n"
     ]
    }
   ],
   "source": [
    "print(tokenizer.word_index)"
   ]
  },
  {
   "cell_type": "code",
   "execution_count": null,
   "metadata": {},
   "outputs": [],
   "source": []
  }
 ],
 "metadata": {
  "kernelspec": {
   "display_name": "Python 3",
   "language": "python",
   "name": "python3"
  },
  "language_info": {
   "codemirror_mode": {
    "name": "ipython",
    "version": 3
   },
   "file_extension": ".py",
   "mimetype": "text/x-python",
   "name": "python",
   "nbconvert_exporter": "python",
   "pygments_lexer": "ipython3",
   "version": "3.7.7"
  }
 },
 "nbformat": 4,
 "nbformat_minor": 4
}
