{
 "cells": [
  {
   "cell_type": "code",
   "execution_count": 1,
   "id": "lightweight-married",
   "metadata": {},
   "outputs": [],
   "source": [
    "import pandas as pd\n",
    "import numpy as np\n",
    "import os\n",
    "\n",
    "import emoji\n",
    "\n",
    "import matplotlib.pyplot as plt\n",
    "\n",
    "import urllib.request"
   ]
  },
  {
   "cell_type": "markdown",
   "id": "widespread-principle",
   "metadata": {},
   "source": [
    "from sklearn.preprocessing import LabelEncoder, OneHotEncoder\n",
    "from sklearn.feature_extraction.text import CountVectorizer, TfidfVectorizer\n",
    "\n",
    "from nltk.corpus import stopwords\n",
    "from nltk.tokenize import word_tokenize\n",
    "\n",
    "from nltk.classify import NaiveBayesClassifier\n",
    "from nltk.corpus import subjectivity\n",
    "from nltk.sentiment import SentimentAnalyzer\n",
    "from nltk.sentiment.util import *"
   ]
  },
  {
   "cell_type": "code",
   "execution_count": 4,
   "id": "wanted-messaging",
   "metadata": {},
   "outputs": [],
   "source": [
    "from konlpy.tag import Hannanum\n",
    "hannanum = Hannanum()"
   ]
  },
  {
   "cell_type": "code",
   "execution_count": 5,
   "id": "streaming-hybrid",
   "metadata": {},
   "outputs": [
    {
     "name": "stdout",
     "output_type": "stream",
     "text": [
      "[[[('질문', 'ncpa'), ('이나', 'jcj')], [('질문', 'ncpa'), ('이나', 'jxc')], [('질문', 'ncpa'), ('이', 'jcc'), ('나', 'jxc')], [('질문', 'ncpa'), ('이', 'jcs'), ('나', 'jxc')], [('질문', 'ncpa'), ('이', 'jp'), ('나', 'ef')], [('질문', 'ncpa'), ('이', 'ncn'), ('나', 'jcj')], [('질문', 'ncpa'), ('이', 'ncn'), ('나', 'jxc')], [('질문', 'ncpa'), ('이', 'ncn'), ('이', 'jp'), ('나', 'ef')], [('질문', 'ncpa'), ('이', 'ncn'), ('이', 'jp'), ('나', 'ecc')], [('질문', 'ncpa'), ('이', 'ncn'), ('이', 'jp'), ('나', 'ecs')], [('질문', 'ncpa'), ('이', 'jp'), ('나', 'ecc')], [('질문', 'ncpa'), ('이', 'jp'), ('나', 'ecs')]], [[('건의', 'ncpa'), ('사항', 'ncn'), ('은', 'jxc')], [('건의', 'ncpa'), ('사항', 'ncn'), ('은', 'ncn')]], [[('깃헙', 'ncn')], [('깃헙', 'nqq')]], [[('이슈', 'ncn')]], [[('트래커', 'ncn'), ('에', 'jca')], [('트래커에', 'ncn')], [('트래커', 'nqq'), ('에', 'jca')], [('트래커에', 'nqq')]], [[('남기', 'pvg'), ('어', 'ecx'), ('주', 'px'), ('세요', 'ef')], [('남기', 'pvg'), ('어', 'ecx'), ('주', 'px'), ('세', 'ef'), ('요', 'jxf')], [('남기', 'pvg'), ('어', 'ecx'), ('줄', 'px'), ('세요', 'ef')], [('남기', 'pvg'), ('어', 'ecx'), ('줄', 'px'), ('세', 'ef'), ('요', 'jxf')]], [[('.', 'sf')], [('.', 'sy')]]]\n"
     ]
    }
   ],
   "source": [
    "print(hannanum.analyze('질문이나 건의사항은 깃헙 이슈 트래커에 남겨주세요.'))"
   ]
  },
  {
   "cell_type": "code",
   "execution_count": 6,
   "id": "relevant-international",
   "metadata": {
    "scrolled": true
   },
   "outputs": [
    {
     "name": "stdout",
     "output_type": "stream",
     "text": [
      "['질문', '이나', '건의사항', '은', '깃헙', '이슈', '트래커', '에', '남기', '어', '주', '세', '요', '.']\n"
     ]
    }
   ],
   "source": [
    "print(hannanum.morphs('질문이나 건의사항은 깃헙 이슈 트래커에 남겨주세요.'))"
   ]
  },
  {
   "cell_type": "code",
   "execution_count": 2,
   "id": "needed-experiment",
   "metadata": {},
   "outputs": [],
   "source": [
    "import konlpy\n",
    "\n",
    "from konlpy.tag import Kkma\n",
    "from konlpy.utils import pprint\n",
    "kkma = Kkma()"
   ]
  },
  {
   "cell_type": "code",
   "execution_count": 3,
   "id": "worthy-console",
   "metadata": {},
   "outputs": [
    {
     "name": "stdout",
     "output_type": "stream",
     "text": [
      "['질문', '건의', '건의사항', '사항', '깃헙', '이슈', '트래커']\n"
     ]
    }
   ],
   "source": [
    "print(kkma.nouns('질문이나 건의사항은 깃헙 이슈 트래커에 남겨주세요.'))"
   ]
  },
  {
   "cell_type": "code",
   "execution_count": 9,
   "id": "italian-subdivision",
   "metadata": {},
   "outputs": [],
   "source": [
    "file = r\"/Users/reejungkim/Documents/Git/WebCrawler/GooglePlayStore_Review_2021-02-14-17:02:09.csv\""
   ]
  },
  {
   "cell_type": "code",
   "execution_count": 10,
   "id": "removable-letters",
   "metadata": {
    "scrolled": false
   },
   "outputs": [],
   "source": [
    "df = pd.read_csv(file)"
   ]
  },
  {
   "cell_type": "code",
   "execution_count": 11,
   "id": "muslim-heaven",
   "metadata": {},
   "outputs": [
    {
     "data": {
      "text/html": [
       "<div>\n",
       "<style scoped>\n",
       "    .dataframe tbody tr th:only-of-type {\n",
       "        vertical-align: middle;\n",
       "    }\n",
       "\n",
       "    .dataframe tbody tr th {\n",
       "        vertical-align: top;\n",
       "    }\n",
       "\n",
       "    .dataframe thead th {\n",
       "        text-align: right;\n",
       "    }\n",
       "</style>\n",
       "<table border=\"1\" class=\"dataframe\">\n",
       "  <thead>\n",
       "    <tr style=\"text-align: right;\">\n",
       "      <th></th>\n",
       "      <th>Unnamed: 0</th>\n",
       "      <th>author</th>\n",
       "      <th>developer_reply</th>\n",
       "      <th>review</th>\n",
       "      <th>review_date</th>\n",
       "      <th>reviewer_ratings</th>\n",
       "    </tr>\n",
       "  </thead>\n",
       "  <tbody>\n",
       "    <tr>\n",
       "      <th>0</th>\n",
       "      <td>0</td>\n",
       "      <td>임닉이</td>\n",
       "      <td>NaN</td>\n",
       "      <td>회원가입을하려니까 가입 필수조건을 다 체크하고 전화번호 인증하니까 필수조건 체크가...</td>\n",
       "      <td>2021년 2월 8일</td>\n",
       "      <td>52</td>\n",
       "    </tr>\n",
       "    <tr>\n",
       "      <th>1</th>\n",
       "      <td>1</td>\n",
       "      <td>Nayeon kang</td>\n",
       "      <td>NaN</td>\n",
       "      <td>나름 대기업인데 일좀 열심히 했으면 좋겠다. 쇼핑앱 여러개 사용중인데 이렇게 뭐 ...</td>\n",
       "      <td>2021년 2월 5일</td>\n",
       "      <td>51</td>\n",
       "    </tr>\n",
       "    <tr>\n",
       "      <th>2</th>\n",
       "      <td>2</td>\n",
       "      <td>산뜻산뜻</td>\n",
       "      <td>NaN</td>\n",
       "      <td>주문조회에서 택배&amp;12개월로 보고 싶은데 택배배송을 누르면 12개월이 3개월로 바...</td>\n",
       "      <td>2021년 1월 25일</td>\n",
       "      <td>51</td>\n",
       "    </tr>\n",
       "    <tr>\n",
       "      <th>3</th>\n",
       "      <td>3</td>\n",
       "      <td>신종철</td>\n",
       "      <td>NaN</td>\n",
       "      <td>시스템 잘도 만들어놨네요.왠만해서 귀찮아서 글도 잘 안쓰는 사람인데요. 시스템 왜...</td>\n",
       "      <td>2021년 1월 20일</td>\n",
       "      <td>51</td>\n",
       "    </tr>\n",
       "    <tr>\n",
       "      <th>4</th>\n",
       "      <td>4</td>\n",
       "      <td>김재규</td>\n",
       "      <td>&lt;div class=\"LVQB0b\"&gt;&lt;div class=\"QoPmEb\"&gt;&lt;/div&gt;...</td>\n",
       "      <td>장바구니에 있는 목록들의 순서를 이동, 변경할 수 있게 해주면 좋겠습니다. 장바구...</td>\n",
       "      <td>2020년 12월 15일</td>\n",
       "      <td>55</td>\n",
       "    </tr>\n",
       "  </tbody>\n",
       "</table>\n",
       "</div>"
      ],
      "text/plain": [
       "   Unnamed: 0       author                                    developer_reply  \\\n",
       "0           0          임닉이                                                NaN   \n",
       "1           1  Nayeon kang                                                NaN   \n",
       "2           2         산뜻산뜻                                                NaN   \n",
       "3           3          신종철                                                NaN   \n",
       "4           4          김재규  <div class=\"LVQB0b\"><div class=\"QoPmEb\"></div>...   \n",
       "\n",
       "                                              review    review_date  \\\n",
       "0   회원가입을하려니까 가입 필수조건을 다 체크하고 전화번호 인증하니까 필수조건 체크가...    2021년 2월 8일   \n",
       "1   나름 대기업인데 일좀 열심히 했으면 좋겠다. 쇼핑앱 여러개 사용중인데 이렇게 뭐 ...    2021년 2월 5일   \n",
       "2   주문조회에서 택배&12개월로 보고 싶은데 택배배송을 누르면 12개월이 3개월로 바...   2021년 1월 25일   \n",
       "3   시스템 잘도 만들어놨네요.왠만해서 귀찮아서 글도 잘 안쓰는 사람인데요. 시스템 왜...   2021년 1월 20일   \n",
       "4   장바구니에 있는 목록들의 순서를 이동, 변경할 수 있게 해주면 좋겠습니다. 장바구...  2020년 12월 15일   \n",
       "\n",
       "   reviewer_ratings  \n",
       "0                52  \n",
       "1                51  \n",
       "2                51  \n",
       "3                51  \n",
       "4                55  "
      ]
     },
     "execution_count": 11,
     "metadata": {},
     "output_type": "execute_result"
    }
   ],
   "source": [
    "df.head()"
   ]
  },
  {
   "cell_type": "code",
   "execution_count": 12,
   "id": "affected-appeal",
   "metadata": {},
   "outputs": [
    {
     "data": {
      "text/plain": [
       "(200, 6)"
      ]
     },
     "execution_count": 12,
     "metadata": {},
     "output_type": "execute_result"
    }
   ],
   "source": [
    "df.shape"
   ]
  },
  {
   "cell_type": "code",
   "execution_count": 13,
   "id": "robust-wings",
   "metadata": {},
   "outputs": [],
   "source": [
    "def language_preprocessor(string):\n",
    "    text =  re.sub('[^a-zA-Z]', ' ', string) #replace non-english with blank\n",
    "    text = text.lower().split() #decapitalize texts\n",
    "    text = [word for word in text if not word in stops] #remove stopword\n",
    "    text = [lm.lemmatize(word) for word in text]  #lemmatization of texts\n",
    "    return text #' '.join(text)\n",
    "    "
   ]
  },
  {
   "cell_type": "code",
   "execution_count": 14,
   "id": "wrong-crime",
   "metadata": {},
   "outputs": [],
   "source": [
    "import re\n",
    "\n",
    "def clean_text(texts):\n",
    "    corpus = []\n",
    "    for i in range(0, len(texts)):\n",
    "        review = re.sub(r'[@%\\\\*=()/~#&\\+á?\\xc3\\xa1\\-\\|\\.\\:\\;\\!\\-\\,\\_\\~\\$\\'\\\"]', '',str(texts[i])) #remove punctuation\n",
    "        review = re.sub(r'\\d+','', str(texts[i]))# remove number\n",
    "        review = review.lower() #lower case\n",
    "        review = re.sub(r'\\s+', ' ', review) #remove extra space\n",
    "        review = re.sub(r'<[^>]+>','',review) #remove Html tags\n",
    "        review = re.sub(r'\\s+', ' ', review) #remove spaces\n",
    "        review = re.sub(r\"^\\s+\", '', review) #remove space from start\n",
    "        review = re.sub(r'\\s+$', '', review) #remove space from the end\n",
    "        corpus.append(review)\n",
    "    return corpus"
   ]
  },
  {
   "cell_type": "markdown",
   "id": "accomplished-times",
   "metadata": {},
   "source": [
    "df['text processed'] = df['review'].apply(lambda x: clean_text(x)) "
   ]
  },
  {
   "cell_type": "code",
   "execution_count": 15,
   "id": "nonprofit-bones",
   "metadata": {},
   "outputs": [],
   "source": [
    "df['nouns'] = df['review'].apply(lambda x: kkma.nouns(x))"
   ]
  },
  {
   "cell_type": "code",
   "execution_count": 16,
   "id": "loaded-mountain",
   "metadata": {},
   "outputs": [
    {
     "data": {
      "text/html": [
       "<div>\n",
       "<style scoped>\n",
       "    .dataframe tbody tr th:only-of-type {\n",
       "        vertical-align: middle;\n",
       "    }\n",
       "\n",
       "    .dataframe tbody tr th {\n",
       "        vertical-align: top;\n",
       "    }\n",
       "\n",
       "    .dataframe thead th {\n",
       "        text-align: right;\n",
       "    }\n",
       "</style>\n",
       "<table border=\"1\" class=\"dataframe\">\n",
       "  <thead>\n",
       "    <tr style=\"text-align: right;\">\n",
       "      <th></th>\n",
       "      <th>Unnamed: 0</th>\n",
       "      <th>author</th>\n",
       "      <th>developer_reply</th>\n",
       "      <th>review</th>\n",
       "      <th>review_date</th>\n",
       "      <th>reviewer_ratings</th>\n",
       "      <th>nouns</th>\n",
       "    </tr>\n",
       "  </thead>\n",
       "  <tbody>\n",
       "    <tr>\n",
       "      <th>0</th>\n",
       "      <td>0</td>\n",
       "      <td>임닉이</td>\n",
       "      <td>NaN</td>\n",
       "      <td>회원가입을하려니까 가입 필수조건을 다 체크하고 전화번호 인증하니까 필수조건 체크가...</td>\n",
       "      <td>2021년 2월 8일</td>\n",
       "      <td>52</td>\n",
       "      <td>[회원, 가입, 하려, 필수, 필수조건, 조건, 체크, 전화, 전화번호, 번호, 인...</td>\n",
       "    </tr>\n",
       "    <tr>\n",
       "      <th>1</th>\n",
       "      <td>1</td>\n",
       "      <td>Nayeon kang</td>\n",
       "      <td>NaN</td>\n",
       "      <td>나름 대기업인데 일좀 열심히 했으면 좋겠다. 쇼핑앱 여러개 사용중인데 이렇게 뭐 ...</td>\n",
       "      <td>2021년 2월 5일</td>\n",
       "      <td>51</td>\n",
       "      <td>[나름, 대기업, 일, 쇼핑, 쇼핑앱, 앱, 개, 사용, 사용중, 중, 뭐, 이벤트...</td>\n",
       "    </tr>\n",
       "    <tr>\n",
       "      <th>2</th>\n",
       "      <td>2</td>\n",
       "      <td>산뜻산뜻</td>\n",
       "      <td>NaN</td>\n",
       "      <td>주문조회에서 택배&amp;12개월로 보고 싶은데 택배배송을 누르면 12개월이 3개월로 바...</td>\n",
       "      <td>2021년 1월 25일</td>\n",
       "      <td>51</td>\n",
       "      <td>[주문, 주문조회, 조회, 택배, 12, 12개월, 개월, 택배배송, 배송, 3, ...</td>\n",
       "    </tr>\n",
       "    <tr>\n",
       "      <th>3</th>\n",
       "      <td>3</td>\n",
       "      <td>신종철</td>\n",
       "      <td>NaN</td>\n",
       "      <td>시스템 잘도 만들어놨네요.왠만해서 귀찮아서 글도 잘 안쓰는 사람인데요. 시스템 왜...</td>\n",
       "      <td>2021년 1월 20일</td>\n",
       "      <td>51</td>\n",
       "      <td>[시스템, 글, 사람, 식, 이해, 상담, 상담사, 사, 기본, 기본적인, 적인, ...</td>\n",
       "    </tr>\n",
       "    <tr>\n",
       "      <th>4</th>\n",
       "      <td>4</td>\n",
       "      <td>김재규</td>\n",
       "      <td>&lt;div class=\"LVQB0b\"&gt;&lt;div class=\"QoPmEb\"&gt;&lt;/div&gt;...</td>\n",
       "      <td>장바구니에 있는 목록들의 순서를 이동, 변경할 수 있게 해주면 좋겠습니다. 장바구...</td>\n",
       "      <td>2020년 12월 15일</td>\n",
       "      <td>55</td>\n",
       "      <td>[장, 장바구니, 바구니, 목록, 순서, 이동, 변경, 수, 시간, 물품, 아래, ...</td>\n",
       "    </tr>\n",
       "  </tbody>\n",
       "</table>\n",
       "</div>"
      ],
      "text/plain": [
       "   Unnamed: 0       author                                    developer_reply  \\\n",
       "0           0          임닉이                                                NaN   \n",
       "1           1  Nayeon kang                                                NaN   \n",
       "2           2         산뜻산뜻                                                NaN   \n",
       "3           3          신종철                                                NaN   \n",
       "4           4          김재규  <div class=\"LVQB0b\"><div class=\"QoPmEb\"></div>...   \n",
       "\n",
       "                                              review    review_date  \\\n",
       "0   회원가입을하려니까 가입 필수조건을 다 체크하고 전화번호 인증하니까 필수조건 체크가...    2021년 2월 8일   \n",
       "1   나름 대기업인데 일좀 열심히 했으면 좋겠다. 쇼핑앱 여러개 사용중인데 이렇게 뭐 ...    2021년 2월 5일   \n",
       "2   주문조회에서 택배&12개월로 보고 싶은데 택배배송을 누르면 12개월이 3개월로 바...   2021년 1월 25일   \n",
       "3   시스템 잘도 만들어놨네요.왠만해서 귀찮아서 글도 잘 안쓰는 사람인데요. 시스템 왜...   2021년 1월 20일   \n",
       "4   장바구니에 있는 목록들의 순서를 이동, 변경할 수 있게 해주면 좋겠습니다. 장바구...  2020년 12월 15일   \n",
       "\n",
       "   reviewer_ratings                                              nouns  \n",
       "0                52  [회원, 가입, 하려, 필수, 필수조건, 조건, 체크, 전화, 전화번호, 번호, 인...  \n",
       "1                51  [나름, 대기업, 일, 쇼핑, 쇼핑앱, 앱, 개, 사용, 사용중, 중, 뭐, 이벤트...  \n",
       "2                51  [주문, 주문조회, 조회, 택배, 12, 12개월, 개월, 택배배송, 배송, 3, ...  \n",
       "3                51  [시스템, 글, 사람, 식, 이해, 상담, 상담사, 사, 기본, 기본적인, 적인, ...  \n",
       "4                55  [장, 장바구니, 바구니, 목록, 순서, 이동, 변경, 수, 시간, 물품, 아래, ...  "
      ]
     },
     "execution_count": 16,
     "metadata": {},
     "output_type": "execute_result"
    }
   ],
   "source": [
    "df.head()"
   ]
  },
  {
   "cell_type": "code",
   "execution_count": 18,
   "id": "restricted-sapphire",
   "metadata": {},
   "outputs": [],
   "source": [
    "df['nouns'] = df['nouns'].apply(lambda x: clean_text(x))"
   ]
  },
  {
   "cell_type": "code",
   "execution_count": 19,
   "id": "meaning-representation",
   "metadata": {},
   "outputs": [
    {
     "data": {
      "text/html": [
       "<div>\n",
       "<style scoped>\n",
       "    .dataframe tbody tr th:only-of-type {\n",
       "        vertical-align: middle;\n",
       "    }\n",
       "\n",
       "    .dataframe tbody tr th {\n",
       "        vertical-align: top;\n",
       "    }\n",
       "\n",
       "    .dataframe thead th {\n",
       "        text-align: right;\n",
       "    }\n",
       "</style>\n",
       "<table border=\"1\" class=\"dataframe\">\n",
       "  <thead>\n",
       "    <tr style=\"text-align: right;\">\n",
       "      <th></th>\n",
       "      <th>Unnamed: 0</th>\n",
       "      <th>author</th>\n",
       "      <th>developer_reply</th>\n",
       "      <th>review</th>\n",
       "      <th>review_date</th>\n",
       "      <th>reviewer_ratings</th>\n",
       "      <th>nouns</th>\n",
       "    </tr>\n",
       "  </thead>\n",
       "  <tbody>\n",
       "    <tr>\n",
       "      <th>0</th>\n",
       "      <td>0</td>\n",
       "      <td>임닉이</td>\n",
       "      <td>NaN</td>\n",
       "      <td>회원가입을하려니까 가입 필수조건을 다 체크하고 전화번호 인증하니까 필수조건 체크가...</td>\n",
       "      <td>2021년 2월 8일</td>\n",
       "      <td>52</td>\n",
       "      <td>[회원, 가입, 하려, 필수, 필수조건, 조건, 체크, 전화, 전화번호, 번호, 인...</td>\n",
       "    </tr>\n",
       "    <tr>\n",
       "      <th>1</th>\n",
       "      <td>1</td>\n",
       "      <td>Nayeon kang</td>\n",
       "      <td>NaN</td>\n",
       "      <td>나름 대기업인데 일좀 열심히 했으면 좋겠다. 쇼핑앱 여러개 사용중인데 이렇게 뭐 ...</td>\n",
       "      <td>2021년 2월 5일</td>\n",
       "      <td>51</td>\n",
       "      <td>[나름, 대기업, 일, 쇼핑, 쇼핑앱, 앱, 개, 사용, 사용중, 중, 뭐, 이벤트...</td>\n",
       "    </tr>\n",
       "    <tr>\n",
       "      <th>2</th>\n",
       "      <td>2</td>\n",
       "      <td>산뜻산뜻</td>\n",
       "      <td>NaN</td>\n",
       "      <td>주문조회에서 택배&amp;12개월로 보고 싶은데 택배배송을 누르면 12개월이 3개월로 바...</td>\n",
       "      <td>2021년 1월 25일</td>\n",
       "      <td>51</td>\n",
       "      <td>[주문, 주문조회, 조회, 택배, , 개월, 개월, 택배배송, 배송, , 개월, 전...</td>\n",
       "    </tr>\n",
       "    <tr>\n",
       "      <th>3</th>\n",
       "      <td>3</td>\n",
       "      <td>신종철</td>\n",
       "      <td>NaN</td>\n",
       "      <td>시스템 잘도 만들어놨네요.왠만해서 귀찮아서 글도 잘 안쓰는 사람인데요. 시스템 왜...</td>\n",
       "      <td>2021년 1월 20일</td>\n",
       "      <td>51</td>\n",
       "      <td>[시스템, 글, 사람, 식, 이해, 상담, 상담사, 사, 기본, 기본적인, 적인, ...</td>\n",
       "    </tr>\n",
       "    <tr>\n",
       "      <th>4</th>\n",
       "      <td>4</td>\n",
       "      <td>김재규</td>\n",
       "      <td>&lt;div class=\"LVQB0b\"&gt;&lt;div class=\"QoPmEb\"&gt;&lt;/div&gt;...</td>\n",
       "      <td>장바구니에 있는 목록들의 순서를 이동, 변경할 수 있게 해주면 좋겠습니다. 장바구...</td>\n",
       "      <td>2020년 12월 15일</td>\n",
       "      <td>55</td>\n",
       "      <td>[장, 장바구니, 바구니, 목록, 순서, 이동, 변경, 수, 시간, 물품, 아래, ...</td>\n",
       "    </tr>\n",
       "  </tbody>\n",
       "</table>\n",
       "</div>"
      ],
      "text/plain": [
       "   Unnamed: 0       author                                    developer_reply  \\\n",
       "0           0          임닉이                                                NaN   \n",
       "1           1  Nayeon kang                                                NaN   \n",
       "2           2         산뜻산뜻                                                NaN   \n",
       "3           3          신종철                                                NaN   \n",
       "4           4          김재규  <div class=\"LVQB0b\"><div class=\"QoPmEb\"></div>...   \n",
       "\n",
       "                                              review    review_date  \\\n",
       "0   회원가입을하려니까 가입 필수조건을 다 체크하고 전화번호 인증하니까 필수조건 체크가...    2021년 2월 8일   \n",
       "1   나름 대기업인데 일좀 열심히 했으면 좋겠다. 쇼핑앱 여러개 사용중인데 이렇게 뭐 ...    2021년 2월 5일   \n",
       "2   주문조회에서 택배&12개월로 보고 싶은데 택배배송을 누르면 12개월이 3개월로 바...   2021년 1월 25일   \n",
       "3   시스템 잘도 만들어놨네요.왠만해서 귀찮아서 글도 잘 안쓰는 사람인데요. 시스템 왜...   2021년 1월 20일   \n",
       "4   장바구니에 있는 목록들의 순서를 이동, 변경할 수 있게 해주면 좋겠습니다. 장바구...  2020년 12월 15일   \n",
       "\n",
       "   reviewer_ratings                                              nouns  \n",
       "0                52  [회원, 가입, 하려, 필수, 필수조건, 조건, 체크, 전화, 전화번호, 번호, 인...  \n",
       "1                51  [나름, 대기업, 일, 쇼핑, 쇼핑앱, 앱, 개, 사용, 사용중, 중, 뭐, 이벤트...  \n",
       "2                51  [주문, 주문조회, 조회, 택배, , 개월, 개월, 택배배송, 배송, , 개월, 전...  \n",
       "3                51  [시스템, 글, 사람, 식, 이해, 상담, 상담사, 사, 기본, 기본적인, 적인, ...  \n",
       "4                55  [장, 장바구니, 바구니, 목록, 순서, 이동, 변경, 수, 시간, 물품, 아래, ...  "
      ]
     },
     "execution_count": 19,
     "metadata": {},
     "output_type": "execute_result"
    }
   ],
   "source": [
    "df.head()"
   ]
  },
  {
   "cell_type": "code",
   "execution_count": null,
   "id": "environmental-stadium",
   "metadata": {},
   "outputs": [],
   "source": []
  }
 ],
 "metadata": {
  "kernelspec": {
   "display_name": "Python 3",
   "language": "python",
   "name": "python3"
  },
  "language_info": {
   "codemirror_mode": {
    "name": "ipython",
    "version": 3
   },
   "file_extension": ".py",
   "mimetype": "text/x-python",
   "name": "python",
   "nbconvert_exporter": "python",
   "pygments_lexer": "ipython3",
   "version": "3.7.0"
  }
 },
 "nbformat": 4,
 "nbformat_minor": 5
}
