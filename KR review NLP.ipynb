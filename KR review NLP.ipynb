{
 "cells": [
  {
   "cell_type": "markdown",
   "id": "b7f1d3e9",
   "metadata": {},
   "source": [
    "# Korean NLP\n",
    "\n",
    "[Data source](https://play.google.com/store/apps/details?id=com.facebook.katana&hl=ko&gl=US&showAllReviews=true)\n",
    "\n",
    "[web cralwer](http://localhost:8888/notebooks/Documents/Git/WebCrawler/Google%20App%20Play%20Web%20Scraping.ipynb)"
   ]
  },
  {
   "cell_type": "code",
   "execution_count": 46,
   "id": "f6a479f0",
   "metadata": {},
   "outputs": [],
   "source": [
    "file = r\"/Users/reejungkim/Documents/Git/WebCrawler/coupang_eats_ko_kr.csv\"\n",
    "target = 'coupang'"
   ]
  },
  {
   "cell_type": "code",
   "execution_count": 47,
   "id": "22745f93",
   "metadata": {},
   "outputs": [],
   "source": [
    "import pandas as pd\n",
    "import numpy as np\n",
    "import os\n",
    "import datetime as dt\n",
    "\n",
    "import emoji\n",
    "\n",
    "\n",
    "import konlpy\n",
    "from konlpy.utils import pprint\n",
    "\n",
    "\n",
    "import matplotlib.pyplot as plt\n",
    "import warnings\n",
    "warnings.filterwarnings('ignore')\n",
    "\n",
    "import urllib.request\n",
    "\n",
    "\n",
    "\n",
    "import seaborn as sns\n",
    "sns.set_palette(\"light:#5A9\")"
   ]
  },
  {
   "cell_type": "markdown",
   "id": "04f4a22b",
   "metadata": {},
   "source": [
    "!pip install soylemma"
   ]
  },
  {
   "cell_type": "code",
   "execution_count": 48,
   "id": "636d30ec",
   "metadata": {},
   "outputs": [],
   "source": [
    "from soylemma import Lemmatizer"
   ]
  },
  {
   "cell_type": "code",
   "execution_count": 49,
   "id": "daf968fe",
   "metadata": {},
   "outputs": [
    {
     "data": {
      "text/plain": [
       "[(('줄', 'Verb'), ('ㄴ다는데', 'Eomi')), (('주', 'Verb'), ('ㄴ다는데', 'Eomi'))]"
      ]
     },
     "execution_count": 49,
     "metadata": {},
     "output_type": "execute_result"
    }
   ],
   "source": [
    "lemmatizer = Lemmatizer()\n",
    "lemmatizer.analyze('준다는데')"
   ]
  },
  {
   "cell_type": "code",
   "execution_count": 50,
   "id": "cb869102",
   "metadata": {
    "scrolled": false
   },
   "outputs": [],
   "source": [
    "df = pd.read_csv(file, index_col=None)"
   ]
  },
  {
   "cell_type": "code",
   "execution_count": 51,
   "id": "abee8bec",
   "metadata": {},
   "outputs": [
    {
     "data": {
      "text/html": [
       "<div>\n",
       "<style scoped>\n",
       "    .dataframe tbody tr th:only-of-type {\n",
       "        vertical-align: middle;\n",
       "    }\n",
       "\n",
       "    .dataframe tbody tr th {\n",
       "        vertical-align: top;\n",
       "    }\n",
       "\n",
       "    .dataframe thead th {\n",
       "        text-align: right;\n",
       "    }\n",
       "</style>\n",
       "<table border=\"1\" class=\"dataframe\">\n",
       "  <thead>\n",
       "    <tr style=\"text-align: right;\">\n",
       "      <th></th>\n",
       "      <th>Unnamed: 0</th>\n",
       "      <th>reviewId</th>\n",
       "      <th>userName</th>\n",
       "      <th>userImage</th>\n",
       "      <th>content</th>\n",
       "      <th>score</th>\n",
       "      <th>thumbsUpCount</th>\n",
       "      <th>reviewCreatedVersion</th>\n",
       "      <th>at</th>\n",
       "      <th>replyContent</th>\n",
       "      <th>repliedAt</th>\n",
       "    </tr>\n",
       "  </thead>\n",
       "  <tbody>\n",
       "    <tr>\n",
       "      <th>0</th>\n",
       "      <td>0</td>\n",
       "      <td>891c64ac-65d3-4195-9fe3-aff249992735</td>\n",
       "      <td>VLOG마상</td>\n",
       "      <td>https://play-lh.googleusercontent.com/a-/AD5-W...</td>\n",
       "      <td>배달기사가 없다고 배달이 19분에서 37분이 지연됨 ㅋㅋㅋ 갈수록 배달지연이 계속됨</td>\n",
       "      <td>2</td>\n",
       "      <td>0</td>\n",
       "      <td>1.3.79</td>\n",
       "      <td>2023-01-02 21:06:18</td>\n",
       "      <td>안녕하세요, 쿠팡이츠 입니다.\\n\\n고객님께서는 쿠팡이츠를 이용하시며 맛있는 음식이...</td>\n",
       "      <td>2023-01-03 09:53:47</td>\n",
       "    </tr>\n",
       "    <tr>\n",
       "      <th>1</th>\n",
       "      <td>1</td>\n",
       "      <td>86d723e5-beb0-4b2c-ac9e-3d0bdfdb7422</td>\n",
       "      <td>이니는풍산개다</td>\n",
       "      <td>https://play-lh.googleusercontent.com/a-/AD5-W...</td>\n",
       "      <td>배딜료가 넘비싸</td>\n",
       "      <td>3</td>\n",
       "      <td>0</td>\n",
       "      <td>1.3.79</td>\n",
       "      <td>2023-01-02 20:51:38</td>\n",
       "      <td>안녕하세요, 쿠팡이츠 입니다.\\n\\n먼저, 쿠팡이츠를 이용해 주시는 과정에 배달비로...</td>\n",
       "      <td>2023-01-03 09:52:26</td>\n",
       "    </tr>\n",
       "    <tr>\n",
       "      <th>2</th>\n",
       "      <td>2</td>\n",
       "      <td>28870510-8c42-471f-a599-853660a54848</td>\n",
       "      <td>Euna</td>\n",
       "      <td>https://play-lh.googleusercontent.com/a/AEdFTp...</td>\n",
       "      <td>시의 경계에 살고 있는데 다른 시의 업체들이 거리상 가까우니 목록에 뜨는데 다른 시...</td>\n",
       "      <td>2</td>\n",
       "      <td>0</td>\n",
       "      <td>1.3.79</td>\n",
       "      <td>2023-01-02 18:29:54</td>\n",
       "      <td>안녕하세요, 쿠팡이츠 입니다.\\n\\n먼저 쿠팡이츠 APP을 이용하시는 과정에 불편을...</td>\n",
       "      <td>2023-01-03 09:44:18</td>\n",
       "    </tr>\n",
       "    <tr>\n",
       "      <th>3</th>\n",
       "      <td>3</td>\n",
       "      <td>9064b57a-740b-41de-b56d-660092b75cad</td>\n",
       "      <td>이제덕</td>\n",
       "      <td>https://play-lh.googleusercontent.com/a/AEdFTp...</td>\n",
       "      <td>사용하는데 편리하고 좋네요</td>\n",
       "      <td>4</td>\n",
       "      <td>0</td>\n",
       "      <td>1.3.79</td>\n",
       "      <td>2023-01-02 17:30:13</td>\n",
       "      <td>안녕하세요, 쿠팡이츠 입니다.\\n\\n쿠팡이츠는 한층 더 강화된 서비스를 제공하며, ...</td>\n",
       "      <td>2023-01-02 18:14:54</td>\n",
       "    </tr>\n",
       "    <tr>\n",
       "      <th>4</th>\n",
       "      <td>4</td>\n",
       "      <td>e8813cb7-b013-425f-be95-d9c88242eea4</td>\n",
       "      <td>연상소</td>\n",
       "      <td>https://play-lh.googleusercontent.com/a/AEdFTp...</td>\n",
       "      <td>메뉴 보기가 편함</td>\n",
       "      <td>4</td>\n",
       "      <td>0</td>\n",
       "      <td>1.3.79</td>\n",
       "      <td>2023-01-02 16:01:41</td>\n",
       "      <td>안녕하세요, 쿠팡이츠 입니다.\\n\\n쿠팡이츠는 한 집 배달을 원칙으로 한층 더 강화...</td>\n",
       "      <td>2023-01-02 16:34:22</td>\n",
       "    </tr>\n",
       "  </tbody>\n",
       "</table>\n",
       "</div>"
      ],
      "text/plain": [
       "   Unnamed: 0                              reviewId userName  \\\n",
       "0           0  891c64ac-65d3-4195-9fe3-aff249992735   VLOG마상   \n",
       "1           1  86d723e5-beb0-4b2c-ac9e-3d0bdfdb7422  이니는풍산개다   \n",
       "2           2  28870510-8c42-471f-a599-853660a54848     Euna   \n",
       "3           3  9064b57a-740b-41de-b56d-660092b75cad      이제덕   \n",
       "4           4  e8813cb7-b013-425f-be95-d9c88242eea4      연상소   \n",
       "\n",
       "                                           userImage  \\\n",
       "0  https://play-lh.googleusercontent.com/a-/AD5-W...   \n",
       "1  https://play-lh.googleusercontent.com/a-/AD5-W...   \n",
       "2  https://play-lh.googleusercontent.com/a/AEdFTp...   \n",
       "3  https://play-lh.googleusercontent.com/a/AEdFTp...   \n",
       "4  https://play-lh.googleusercontent.com/a/AEdFTp...   \n",
       "\n",
       "                                             content  score  thumbsUpCount  \\\n",
       "0     배달기사가 없다고 배달이 19분에서 37분이 지연됨 ㅋㅋㅋ 갈수록 배달지연이 계속됨      2              0   \n",
       "1                                           배딜료가 넘비싸      3              0   \n",
       "2  시의 경계에 살고 있는데 다른 시의 업체들이 거리상 가까우니 목록에 뜨는데 다른 시...      2              0   \n",
       "3                                     사용하는데 편리하고 좋네요      4              0   \n",
       "4                                          메뉴 보기가 편함      4              0   \n",
       "\n",
       "  reviewCreatedVersion                   at  \\\n",
       "0               1.3.79  2023-01-02 21:06:18   \n",
       "1               1.3.79  2023-01-02 20:51:38   \n",
       "2               1.3.79  2023-01-02 18:29:54   \n",
       "3               1.3.79  2023-01-02 17:30:13   \n",
       "4               1.3.79  2023-01-02 16:01:41   \n",
       "\n",
       "                                        replyContent            repliedAt  \n",
       "0  안녕하세요, 쿠팡이츠 입니다.\\n\\n고객님께서는 쿠팡이츠를 이용하시며 맛있는 음식이...  2023-01-03 09:53:47  \n",
       "1  안녕하세요, 쿠팡이츠 입니다.\\n\\n먼저, 쿠팡이츠를 이용해 주시는 과정에 배달비로...  2023-01-03 09:52:26  \n",
       "2  안녕하세요, 쿠팡이츠 입니다.\\n\\n먼저 쿠팡이츠 APP을 이용하시는 과정에 불편을...  2023-01-03 09:44:18  \n",
       "3  안녕하세요, 쿠팡이츠 입니다.\\n\\n쿠팡이츠는 한층 더 강화된 서비스를 제공하며, ...  2023-01-02 18:14:54  \n",
       "4  안녕하세요, 쿠팡이츠 입니다.\\n\\n쿠팡이츠는 한 집 배달을 원칙으로 한층 더 강화...  2023-01-02 16:34:22  "
      ]
     },
     "execution_count": 51,
     "metadata": {},
     "output_type": "execute_result"
    }
   ],
   "source": [
    "df.head()"
   ]
  },
  {
   "cell_type": "markdown",
   "id": "a4480172",
   "metadata": {},
   "source": [
    "# 탐색적 분석 (EDA) "
   ]
  },
  {
   "cell_type": "code",
   "execution_count": 52,
   "id": "1244e001",
   "metadata": {},
   "outputs": [
    {
     "data": {
      "text/plain": [
       "(26799, 11)"
      ]
     },
     "execution_count": 52,
     "metadata": {},
     "output_type": "execute_result"
    }
   ],
   "source": [
    "df.shape"
   ]
  },
  {
   "cell_type": "code",
   "execution_count": 53,
   "id": "eb1d0a5f",
   "metadata": {},
   "outputs": [
    {
     "name": "stdout",
     "output_type": "stream",
     "text": [
      "<class 'pandas.core.frame.DataFrame'>\n",
      "RangeIndex: 26799 entries, 0 to 26798\n",
      "Data columns (total 11 columns):\n",
      " #   Column                Non-Null Count  Dtype \n",
      "---  ------                --------------  ----- \n",
      " 0   Unnamed: 0            26799 non-null  int64 \n",
      " 1   reviewId              26799 non-null  object\n",
      " 2   userName              26799 non-null  object\n",
      " 3   userImage             26799 non-null  object\n",
      " 4   content               26799 non-null  object\n",
      " 5   score                 26799 non-null  int64 \n",
      " 6   thumbsUpCount         26799 non-null  int64 \n",
      " 7   reviewCreatedVersion  24358 non-null  object\n",
      " 8   at                    26799 non-null  object\n",
      " 9   replyContent          1270 non-null   object\n",
      " 10  repliedAt             1270 non-null   object\n",
      "dtypes: int64(3), object(8)\n",
      "memory usage: 2.2+ MB\n"
     ]
    }
   ],
   "source": [
    "df.info()"
   ]
  },
  {
   "cell_type": "markdown",
   "id": "b5f420fa",
   "metadata": {},
   "source": [
    "df['review_date'] = df['review_date'].str.replace('년 ','/').str.replace('월 ', '/').str.replace('일', '/')"
   ]
  },
  {
   "cell_type": "code",
   "execution_count": 54,
   "id": "a7740757",
   "metadata": {},
   "outputs": [],
   "source": [
    "df['review_date'] = pd.to_datetime(df['at'])"
   ]
  },
  {
   "cell_type": "markdown",
   "id": "5d9d787e",
   "metadata": {},
   "source": [
    "df['year-m'] = df['review_date'].dt.strftime('%Y-%m')"
   ]
  },
  {
   "cell_type": "code",
   "execution_count": 55,
   "id": "7101aaeb",
   "metadata": {
    "scrolled": true
   },
   "outputs": [
    {
     "data": {
      "text/html": [
       "<div>\n",
       "<style scoped>\n",
       "    .dataframe tbody tr th:only-of-type {\n",
       "        vertical-align: middle;\n",
       "    }\n",
       "\n",
       "    .dataframe tbody tr th {\n",
       "        vertical-align: top;\n",
       "    }\n",
       "\n",
       "    .dataframe thead th {\n",
       "        text-align: right;\n",
       "    }\n",
       "</style>\n",
       "<table border=\"1\" class=\"dataframe\">\n",
       "  <thead>\n",
       "    <tr style=\"text-align: right;\">\n",
       "      <th></th>\n",
       "      <th>Unnamed: 0</th>\n",
       "      <th>reviewId</th>\n",
       "      <th>userName</th>\n",
       "      <th>userImage</th>\n",
       "      <th>content</th>\n",
       "      <th>score</th>\n",
       "      <th>thumbsUpCount</th>\n",
       "      <th>reviewCreatedVersion</th>\n",
       "      <th>at</th>\n",
       "      <th>replyContent</th>\n",
       "      <th>repliedAt</th>\n",
       "      <th>review_date</th>\n",
       "    </tr>\n",
       "  </thead>\n",
       "  <tbody>\n",
       "    <tr>\n",
       "      <th>0</th>\n",
       "      <td>0</td>\n",
       "      <td>891c64ac-65d3-4195-9fe3-aff249992735</td>\n",
       "      <td>VLOG마상</td>\n",
       "      <td>https://play-lh.googleusercontent.com/a-/AD5-W...</td>\n",
       "      <td>배달기사가 없다고 배달이 19분에서 37분이 지연됨 ㅋㅋㅋ 갈수록 배달지연이 계속됨</td>\n",
       "      <td>2</td>\n",
       "      <td>0</td>\n",
       "      <td>1.3.79</td>\n",
       "      <td>2023-01-02 21:06:18</td>\n",
       "      <td>안녕하세요, 쿠팡이츠 입니다.\\n\\n고객님께서는 쿠팡이츠를 이용하시며 맛있는 음식이...</td>\n",
       "      <td>2023-01-03 09:53:47</td>\n",
       "      <td>2023-01-02 21:06:18</td>\n",
       "    </tr>\n",
       "    <tr>\n",
       "      <th>1</th>\n",
       "      <td>1</td>\n",
       "      <td>86d723e5-beb0-4b2c-ac9e-3d0bdfdb7422</td>\n",
       "      <td>이니는풍산개다</td>\n",
       "      <td>https://play-lh.googleusercontent.com/a-/AD5-W...</td>\n",
       "      <td>배딜료가 넘비싸</td>\n",
       "      <td>3</td>\n",
       "      <td>0</td>\n",
       "      <td>1.3.79</td>\n",
       "      <td>2023-01-02 20:51:38</td>\n",
       "      <td>안녕하세요, 쿠팡이츠 입니다.\\n\\n먼저, 쿠팡이츠를 이용해 주시는 과정에 배달비로...</td>\n",
       "      <td>2023-01-03 09:52:26</td>\n",
       "      <td>2023-01-02 20:51:38</td>\n",
       "    </tr>\n",
       "  </tbody>\n",
       "</table>\n",
       "</div>"
      ],
      "text/plain": [
       "   Unnamed: 0                              reviewId userName  \\\n",
       "0           0  891c64ac-65d3-4195-9fe3-aff249992735   VLOG마상   \n",
       "1           1  86d723e5-beb0-4b2c-ac9e-3d0bdfdb7422  이니는풍산개다   \n",
       "\n",
       "                                           userImage  \\\n",
       "0  https://play-lh.googleusercontent.com/a-/AD5-W...   \n",
       "1  https://play-lh.googleusercontent.com/a-/AD5-W...   \n",
       "\n",
       "                                          content  score  thumbsUpCount  \\\n",
       "0  배달기사가 없다고 배달이 19분에서 37분이 지연됨 ㅋㅋㅋ 갈수록 배달지연이 계속됨      2              0   \n",
       "1                                        배딜료가 넘비싸      3              0   \n",
       "\n",
       "  reviewCreatedVersion                   at  \\\n",
       "0               1.3.79  2023-01-02 21:06:18   \n",
       "1               1.3.79  2023-01-02 20:51:38   \n",
       "\n",
       "                                        replyContent            repliedAt  \\\n",
       "0  안녕하세요, 쿠팡이츠 입니다.\\n\\n고객님께서는 쿠팡이츠를 이용하시며 맛있는 음식이...  2023-01-03 09:53:47   \n",
       "1  안녕하세요, 쿠팡이츠 입니다.\\n\\n먼저, 쿠팡이츠를 이용해 주시는 과정에 배달비로...  2023-01-03 09:52:26   \n",
       "\n",
       "          review_date  \n",
       "0 2023-01-02 21:06:18  \n",
       "1 2023-01-02 20:51:38  "
      ]
     },
     "execution_count": 55,
     "metadata": {},
     "output_type": "execute_result"
    }
   ],
   "source": [
    "df.head(2)"
   ]
  },
  {
   "cell_type": "markdown",
   "id": "9ef9b4d9",
   "metadata": {},
   "source": [
    "plt.figure(figsize=(5,3))\n",
    "\n",
    "ax = df.groupby('year-m')['review'].count().plot(kind='bar', color='green')\n",
    "ax.set_xticklabels(ax.get_xticklabels(), rotation=40, ha=\"right\")\n",
    "plt.title(\"Number of reviews added\")\n",
    "plt.tight_layout()\n",
    "plt.show()"
   ]
  },
  {
   "cell_type": "markdown",
   "id": "d4232cc9",
   "metadata": {},
   "source": [
    "plt.figure(figsize=(7,5))\n",
    "sns.countplot(x='at',data=df, hue='star', dodge=False, order=df['at'].sort_values().unique()) \n",
    "plt.show()"
   ]
  },
  {
   "cell_type": "markdown",
   "id": "6e8e5141",
   "metadata": {},
   "source": [
    "## 텍스트 정재 Clean texts"
   ]
  },
  {
   "cell_type": "markdown",
   "id": "697e834f",
   "metadata": {},
   "source": [
    "### Clean star rating"
   ]
  },
  {
   "cell_type": "markdown",
   "id": "95a17b6b",
   "metadata": {
    "scrolled": true
   },
   "source": [
    "df['star'] = df['star'].str.replace('별표 5개 만점에 ', '').str.replace('개를 받았습니다.', '')"
   ]
  },
  {
   "cell_type": "code",
   "execution_count": 56,
   "id": "e3b2778f",
   "metadata": {},
   "outputs": [],
   "source": [
    "df['score'] = df['score'].astype(str).astype(int)"
   ]
  },
  {
   "cell_type": "code",
   "execution_count": 57,
   "id": "60e1c8ae",
   "metadata": {},
   "outputs": [
    {
     "data": {
      "text/html": [
       "<div>\n",
       "<style scoped>\n",
       "    .dataframe tbody tr th:only-of-type {\n",
       "        vertical-align: middle;\n",
       "    }\n",
       "\n",
       "    .dataframe tbody tr th {\n",
       "        vertical-align: top;\n",
       "    }\n",
       "\n",
       "    .dataframe thead th {\n",
       "        text-align: right;\n",
       "    }\n",
       "</style>\n",
       "<table border=\"1\" class=\"dataframe\">\n",
       "  <thead>\n",
       "    <tr style=\"text-align: right;\">\n",
       "      <th></th>\n",
       "      <th>Unnamed: 0</th>\n",
       "      <th>reviewId</th>\n",
       "      <th>userName</th>\n",
       "      <th>userImage</th>\n",
       "      <th>content</th>\n",
       "      <th>score</th>\n",
       "      <th>thumbsUpCount</th>\n",
       "      <th>reviewCreatedVersion</th>\n",
       "      <th>at</th>\n",
       "      <th>replyContent</th>\n",
       "      <th>repliedAt</th>\n",
       "      <th>review_date</th>\n",
       "    </tr>\n",
       "  </thead>\n",
       "  <tbody>\n",
       "    <tr>\n",
       "      <th>0</th>\n",
       "      <td>0</td>\n",
       "      <td>891c64ac-65d3-4195-9fe3-aff249992735</td>\n",
       "      <td>VLOG마상</td>\n",
       "      <td>https://play-lh.googleusercontent.com/a-/AD5-W...</td>\n",
       "      <td>배달기사가 없다고 배달이 19분에서 37분이 지연됨 ㅋㅋㅋ 갈수록 배달지연이 계속됨</td>\n",
       "      <td>2</td>\n",
       "      <td>0</td>\n",
       "      <td>1.3.79</td>\n",
       "      <td>2023-01-02 21:06:18</td>\n",
       "      <td>안녕하세요, 쿠팡이츠 입니다.\\n\\n고객님께서는 쿠팡이츠를 이용하시며 맛있는 음식이...</td>\n",
       "      <td>2023-01-03 09:53:47</td>\n",
       "      <td>2023-01-02 21:06:18</td>\n",
       "    </tr>\n",
       "    <tr>\n",
       "      <th>1</th>\n",
       "      <td>1</td>\n",
       "      <td>86d723e5-beb0-4b2c-ac9e-3d0bdfdb7422</td>\n",
       "      <td>이니는풍산개다</td>\n",
       "      <td>https://play-lh.googleusercontent.com/a-/AD5-W...</td>\n",
       "      <td>배딜료가 넘비싸</td>\n",
       "      <td>3</td>\n",
       "      <td>0</td>\n",
       "      <td>1.3.79</td>\n",
       "      <td>2023-01-02 20:51:38</td>\n",
       "      <td>안녕하세요, 쿠팡이츠 입니다.\\n\\n먼저, 쿠팡이츠를 이용해 주시는 과정에 배달비로...</td>\n",
       "      <td>2023-01-03 09:52:26</td>\n",
       "      <td>2023-01-02 20:51:38</td>\n",
       "    </tr>\n",
       "    <tr>\n",
       "      <th>2</th>\n",
       "      <td>2</td>\n",
       "      <td>28870510-8c42-471f-a599-853660a54848</td>\n",
       "      <td>Euna</td>\n",
       "      <td>https://play-lh.googleusercontent.com/a/AEdFTp...</td>\n",
       "      <td>시의 경계에 살고 있는데 다른 시의 업체들이 거리상 가까우니 목록에 뜨는데 다른 시...</td>\n",
       "      <td>2</td>\n",
       "      <td>0</td>\n",
       "      <td>1.3.79</td>\n",
       "      <td>2023-01-02 18:29:54</td>\n",
       "      <td>안녕하세요, 쿠팡이츠 입니다.\\n\\n먼저 쿠팡이츠 APP을 이용하시는 과정에 불편을...</td>\n",
       "      <td>2023-01-03 09:44:18</td>\n",
       "      <td>2023-01-02 18:29:54</td>\n",
       "    </tr>\n",
       "  </tbody>\n",
       "</table>\n",
       "</div>"
      ],
      "text/plain": [
       "   Unnamed: 0                              reviewId userName  \\\n",
       "0           0  891c64ac-65d3-4195-9fe3-aff249992735   VLOG마상   \n",
       "1           1  86d723e5-beb0-4b2c-ac9e-3d0bdfdb7422  이니는풍산개다   \n",
       "2           2  28870510-8c42-471f-a599-853660a54848     Euna   \n",
       "\n",
       "                                           userImage  \\\n",
       "0  https://play-lh.googleusercontent.com/a-/AD5-W...   \n",
       "1  https://play-lh.googleusercontent.com/a-/AD5-W...   \n",
       "2  https://play-lh.googleusercontent.com/a/AEdFTp...   \n",
       "\n",
       "                                             content  score  thumbsUpCount  \\\n",
       "0     배달기사가 없다고 배달이 19분에서 37분이 지연됨 ㅋㅋㅋ 갈수록 배달지연이 계속됨      2              0   \n",
       "1                                           배딜료가 넘비싸      3              0   \n",
       "2  시의 경계에 살고 있는데 다른 시의 업체들이 거리상 가까우니 목록에 뜨는데 다른 시...      2              0   \n",
       "\n",
       "  reviewCreatedVersion                   at  \\\n",
       "0               1.3.79  2023-01-02 21:06:18   \n",
       "1               1.3.79  2023-01-02 20:51:38   \n",
       "2               1.3.79  2023-01-02 18:29:54   \n",
       "\n",
       "                                        replyContent            repliedAt  \\\n",
       "0  안녕하세요, 쿠팡이츠 입니다.\\n\\n고객님께서는 쿠팡이츠를 이용하시며 맛있는 음식이...  2023-01-03 09:53:47   \n",
       "1  안녕하세요, 쿠팡이츠 입니다.\\n\\n먼저, 쿠팡이츠를 이용해 주시는 과정에 배달비로...  2023-01-03 09:52:26   \n",
       "2  안녕하세요, 쿠팡이츠 입니다.\\n\\n먼저 쿠팡이츠 APP을 이용하시는 과정에 불편을...  2023-01-03 09:44:18   \n",
       "\n",
       "          review_date  \n",
       "0 2023-01-02 21:06:18  \n",
       "1 2023-01-02 20:51:38  \n",
       "2 2023-01-02 18:29:54  "
      ]
     },
     "execution_count": 57,
     "metadata": {},
     "output_type": "execute_result"
    }
   ],
   "source": [
    "df.head(3)"
   ]
  },
  {
   "cell_type": "markdown",
   "id": "2278b663",
   "metadata": {
    "scrolled": true
   },
   "source": [
    "plt.figure(figsize=(5,3))\n",
    "sns.countplot(x='star',data=df) #,hue='year-m', dodge=False)\n",
    "plt.show()"
   ]
  },
  {
   "cell_type": "code",
   "execution_count": 58,
   "id": "d7ec6a01",
   "metadata": {
    "scrolled": false
   },
   "outputs": [
    {
     "data": {
      "text/html": [
       "<div>\n",
       "<style scoped>\n",
       "    .dataframe tbody tr th:only-of-type {\n",
       "        vertical-align: middle;\n",
       "    }\n",
       "\n",
       "    .dataframe tbody tr th {\n",
       "        vertical-align: top;\n",
       "    }\n",
       "\n",
       "    .dataframe thead th {\n",
       "        text-align: right;\n",
       "    }\n",
       "</style>\n",
       "<table border=\"1\" class=\"dataframe\">\n",
       "  <thead>\n",
       "    <tr style=\"text-align: right;\">\n",
       "      <th></th>\n",
       "      <th>content</th>\n",
       "    </tr>\n",
       "    <tr>\n",
       "      <th>score</th>\n",
       "      <th></th>\n",
       "    </tr>\n",
       "  </thead>\n",
       "  <tbody>\n",
       "    <tr>\n",
       "      <th>1</th>\n",
       "      <td>6267</td>\n",
       "    </tr>\n",
       "    <tr>\n",
       "      <th>2</th>\n",
       "      <td>492</td>\n",
       "    </tr>\n",
       "    <tr>\n",
       "      <th>3</th>\n",
       "      <td>767</td>\n",
       "    </tr>\n",
       "    <tr>\n",
       "      <th>4</th>\n",
       "      <td>1458</td>\n",
       "    </tr>\n",
       "    <tr>\n",
       "      <th>5</th>\n",
       "      <td>17815</td>\n",
       "    </tr>\n",
       "  </tbody>\n",
       "</table>\n",
       "</div>"
      ],
      "text/plain": [
       "       content\n",
       "score         \n",
       "1         6267\n",
       "2          492\n",
       "3          767\n",
       "4         1458\n",
       "5        17815"
      ]
     },
     "execution_count": 58,
     "metadata": {},
     "output_type": "execute_result"
    }
   ],
   "source": [
    "count_stars = pd.pivot_table(df, values='content', index=['score'], aggfunc='count') #df.groupby(['star']).size().reset_index(name='counts') \n",
    "count_stars"
   ]
  },
  {
   "cell_type": "code",
   "execution_count": 65,
   "id": "b678af49",
   "metadata": {},
   "outputs": [
    {
     "data": {
      "text/html": [
       "<div>\n",
       "<style scoped>\n",
       "    .dataframe tbody tr th:only-of-type {\n",
       "        vertical-align: middle;\n",
       "    }\n",
       "\n",
       "    .dataframe tbody tr th {\n",
       "        vertical-align: top;\n",
       "    }\n",
       "\n",
       "    .dataframe thead th {\n",
       "        text-align: right;\n",
       "    }\n",
       "</style>\n",
       "<table border=\"1\" class=\"dataframe\">\n",
       "  <thead>\n",
       "    <tr style=\"text-align: right;\">\n",
       "      <th></th>\n",
       "      <th>content</th>\n",
       "    </tr>\n",
       "    <tr>\n",
       "      <th>score</th>\n",
       "      <th></th>\n",
       "    </tr>\n",
       "  </thead>\n",
       "  <tbody>\n",
       "    <tr>\n",
       "      <th>1</th>\n",
       "      <td>23.39%</td>\n",
       "    </tr>\n",
       "    <tr>\n",
       "      <th>2</th>\n",
       "      <td>1.84%</td>\n",
       "    </tr>\n",
       "    <tr>\n",
       "      <th>3</th>\n",
       "      <td>2.86%</td>\n",
       "    </tr>\n",
       "    <tr>\n",
       "      <th>4</th>\n",
       "      <td>5.44%</td>\n",
       "    </tr>\n",
       "    <tr>\n",
       "      <th>5</th>\n",
       "      <td>66.48%</td>\n",
       "    </tr>\n",
       "  </tbody>\n",
       "</table>\n",
       "</div>"
      ],
      "text/plain": [
       "      content\n",
       "score        \n",
       "1      23.39%\n",
       "2       1.84%\n",
       "3       2.86%\n",
       "4       5.44%\n",
       "5      66.48%"
      ]
     },
     "execution_count": 65,
     "metadata": {},
     "output_type": "execute_result"
    }
   ],
   "source": [
    "pd.pivot_table(df,index='score',values='content',\n",
    "               aggfunc = lambda x: (round(x.count()/df['content'].count() * 100,2)).astype(str) + '%' )"
   ]
  },
  {
   "cell_type": "markdown",
   "id": "89b9d1bd",
   "metadata": {},
   "source": [
    "#### star ratings weighted by reviewer ratings\n",
    "공감을 많이 받은 별점에 무게를 더한 값"
   ]
  },
  {
   "cell_type": "code",
   "execution_count": 66,
   "id": "eff7f842",
   "metadata": {},
   "outputs": [
    {
     "data": {
      "text/html": [
       "<div>\n",
       "<style scoped>\n",
       "    .dataframe tbody tr th:only-of-type {\n",
       "        vertical-align: middle;\n",
       "    }\n",
       "\n",
       "    .dataframe tbody tr th {\n",
       "        vertical-align: top;\n",
       "    }\n",
       "\n",
       "    .dataframe thead th {\n",
       "        text-align: right;\n",
       "    }\n",
       "</style>\n",
       "<table border=\"1\" class=\"dataframe\">\n",
       "  <thead>\n",
       "    <tr style=\"text-align: right;\">\n",
       "      <th></th>\n",
       "      <th>thumbsUpCount</th>\n",
       "    </tr>\n",
       "    <tr>\n",
       "      <th>score</th>\n",
       "      <th></th>\n",
       "    </tr>\n",
       "  </thead>\n",
       "  <tbody>\n",
       "    <tr>\n",
       "      <th>1</th>\n",
       "      <td>66388</td>\n",
       "    </tr>\n",
       "    <tr>\n",
       "      <th>2</th>\n",
       "      <td>6016</td>\n",
       "    </tr>\n",
       "    <tr>\n",
       "      <th>3</th>\n",
       "      <td>7070</td>\n",
       "    </tr>\n",
       "    <tr>\n",
       "      <th>4</th>\n",
       "      <td>6718</td>\n",
       "    </tr>\n",
       "    <tr>\n",
       "      <th>5</th>\n",
       "      <td>24021</td>\n",
       "    </tr>\n",
       "  </tbody>\n",
       "</table>\n",
       "</div>"
      ],
      "text/plain": [
       "       thumbsUpCount\n",
       "score               \n",
       "1              66388\n",
       "2               6016\n",
       "3               7070\n",
       "4               6718\n",
       "5              24021"
      ]
     },
     "execution_count": 66,
     "metadata": {},
     "output_type": "execute_result"
    }
   ],
   "source": [
    "count_stars_weighted = pd.pivot_table(df, values='thumbsUpCount', index=['score'], aggfunc=np.sum)\n",
    "count_stars_weighted"
   ]
  },
  {
   "cell_type": "code",
   "execution_count": 75,
   "id": "5c608f3b",
   "metadata": {},
   "outputs": [
    {
     "data": {
      "text/html": [
       "<div>\n",
       "<style scoped>\n",
       "    .dataframe tbody tr th:only-of-type {\n",
       "        vertical-align: middle;\n",
       "    }\n",
       "\n",
       "    .dataframe tbody tr th {\n",
       "        vertical-align: top;\n",
       "    }\n",
       "\n",
       "    .dataframe thead th {\n",
       "        text-align: right;\n",
       "    }\n",
       "</style>\n",
       "<table border=\"1\" class=\"dataframe\">\n",
       "  <thead>\n",
       "    <tr style=\"text-align: right;\">\n",
       "      <th></th>\n",
       "      <th>thumbsUpCount</th>\n",
       "    </tr>\n",
       "    <tr>\n",
       "      <th>score</th>\n",
       "      <th></th>\n",
       "    </tr>\n",
       "  </thead>\n",
       "  <tbody>\n",
       "    <tr>\n",
       "      <th>1</th>\n",
       "      <td>23.39%</td>\n",
       "    </tr>\n",
       "    <tr>\n",
       "      <th>2</th>\n",
       "      <td>1.84%</td>\n",
       "    </tr>\n",
       "    <tr>\n",
       "      <th>3</th>\n",
       "      <td>2.86%</td>\n",
       "    </tr>\n",
       "    <tr>\n",
       "      <th>4</th>\n",
       "      <td>5.44%</td>\n",
       "    </tr>\n",
       "    <tr>\n",
       "      <th>5</th>\n",
       "      <td>66.48%</td>\n",
       "    </tr>\n",
       "  </tbody>\n",
       "</table>\n",
       "</div>"
      ],
      "text/plain": [
       "      thumbsUpCount\n",
       "score              \n",
       "1            23.39%\n",
       "2             1.84%\n",
       "3             2.86%\n",
       "4             5.44%\n",
       "5            66.48%"
      ]
     },
     "execution_count": 75,
     "metadata": {},
     "output_type": "execute_result"
    }
   ],
   "source": [
    "count_stars_weighted = pd.pivot_table(df,index='score',values='thumbsUpCount',\n",
    "               aggfunc = lambda x: (round(x.count()/df['content'].count() * 100,2)).astype(str) + '%' )\n",
    "count_stars_weighted"
   ]
  },
  {
   "cell_type": "code",
   "execution_count": 76,
   "id": "e7181219",
   "metadata": {},
   "outputs": [
    {
     "data": {
      "text/html": [
       "<div>\n",
       "<style scoped>\n",
       "    .dataframe tbody tr th:only-of-type {\n",
       "        vertical-align: middle;\n",
       "    }\n",
       "\n",
       "    .dataframe tbody tr th {\n",
       "        vertical-align: top;\n",
       "    }\n",
       "\n",
       "    .dataframe thead th {\n",
       "        text-align: right;\n",
       "    }\n",
       "</style>\n",
       "<table border=\"1\" class=\"dataframe\">\n",
       "  <thead>\n",
       "    <tr style=\"text-align: right;\">\n",
       "      <th></th>\n",
       "      <th>content</th>\n",
       "    </tr>\n",
       "    <tr>\n",
       "      <th>score</th>\n",
       "      <th></th>\n",
       "    </tr>\n",
       "  </thead>\n",
       "  <tbody>\n",
       "    <tr>\n",
       "      <th>1</th>\n",
       "      <td>6267</td>\n",
       "    </tr>\n",
       "    <tr>\n",
       "      <th>2</th>\n",
       "      <td>492</td>\n",
       "    </tr>\n",
       "    <tr>\n",
       "      <th>3</th>\n",
       "      <td>767</td>\n",
       "    </tr>\n",
       "    <tr>\n",
       "      <th>4</th>\n",
       "      <td>1458</td>\n",
       "    </tr>\n",
       "    <tr>\n",
       "      <th>5</th>\n",
       "      <td>17815</td>\n",
       "    </tr>\n",
       "  </tbody>\n",
       "</table>\n",
       "</div>"
      ],
      "text/plain": [
       "       content\n",
       "score         \n",
       "1         6267\n",
       "2          492\n",
       "3          767\n",
       "4         1458\n",
       "5        17815"
      ]
     },
     "execution_count": 76,
     "metadata": {},
     "output_type": "execute_result"
    }
   ],
   "source": [
    "count_stars"
   ]
  },
  {
   "cell_type": "code",
   "execution_count": 77,
   "id": "2984bf8c",
   "metadata": {
    "scrolled": true
   },
   "outputs": [
    {
     "data": {
      "image/png": "[encoded data removed]",
      "text/plain": [
       "<Figure size 360x288 with 1 Axes>"
      ]
     },
     "metadata": {},
     "output_type": "display_data"
    }
   ],
   "source": [
    "import matplotlib.pyplot as plt\n",
    "#from palettable.colorbrewer.qualitative import Pastel1_7\n",
    "\n",
    "plt.figure(figsize=(5,4))\n",
    "my_circle=plt.Circle((0,0), 0.4, color='white')\n",
    "\n",
    "textprops={\"color\":\"black\",\"size\":8,\n",
    "\"weight\":\"bold\"}  \n",
    "\n",
    "plt.pie( count_stars.content, \n",
    "        labels=count_stars.index, startangle=0,\n",
    "        #autopct='%.1f%%'\n",
    "        autopct=lambda p: \"{:.1f}% ({:.0f})\".format(p, p/100*count_stars.content.sum()),\n",
    "        textprops=textprops\n",
    "        ) #,colors=Pastel1_7.hex_colors)\n",
    "\n",
    "#p=plt.gcf()\n",
    "\n",
    "\n",
    "plt.title(target + ' review score')\n",
    "plt.savefig(target+\"_review_score.png\")\n",
    "plt.show()\n"
   ]
  },
  {
   "cell_type": "markdown",
   "id": "cb4cb82c",
   "metadata": {},
   "source": [
    "공감을 가장 많이 얻은 리뷰 Top10"
   ]
  },
  {
   "cell_type": "code",
   "execution_count": 80,
   "id": "d22ed55a",
   "metadata": {},
   "outputs": [
    {
     "data": {
      "text/html": [
       "<div>\n",
       "<style scoped>\n",
       "    .dataframe tbody tr th:only-of-type {\n",
       "        vertical-align: middle;\n",
       "    }\n",
       "\n",
       "    .dataframe tbody tr th {\n",
       "        vertical-align: top;\n",
       "    }\n",
       "\n",
       "    .dataframe thead th {\n",
       "        text-align: right;\n",
       "    }\n",
       "</style>\n",
       "<table border=\"1\" class=\"dataframe\">\n",
       "  <thead>\n",
       "    <tr style=\"text-align: right;\">\n",
       "      <th></th>\n",
       "      <th>content</th>\n",
       "      <th>thumbsUpCount</th>\n",
       "      <th>score</th>\n",
       "    </tr>\n",
       "  </thead>\n",
       "  <tbody>\n",
       "    <tr>\n",
       "      <th>16075</th>\n",
       "      <td>배달원 이상한 사람 정말 많네요. 오늘 진짜로 빈정 상했어요. 고객센터에서 대응도 ...</td>\n",
       "      <td>1189</td>\n",
       "      <td>1</td>\n",
       "    </tr>\n",
       "    <tr>\n",
       "      <th>10576</th>\n",
       "      <td>배달비가 표기된가격보다 비쌉니다. 자세히보기를 눌러야만 실제 지불가격이 나와요. 어...</td>\n",
       "      <td>923</td>\n",
       "      <td>1</td>\n",
       "    </tr>\n",
       "    <tr>\n",
       "      <th>9111</th>\n",
       "      <td>배달료무료 표기 수정 요청드립니다. 무료배송이라고 표기 되어 있어서 무료인줄 알았더...</td>\n",
       "      <td>912</td>\n",
       "      <td>2</td>\n",
       "    </tr>\n",
       "    <tr>\n",
       "      <th>18843</th>\n",
       "      <td>쓴지 일주일도 안돼서 지우게 하시네요. 치타배달이라고 돈 더 냈는데, 예상 시간보다...</td>\n",
       "      <td>873</td>\n",
       "      <td>1</td>\n",
       "    </tr>\n",
       "    <tr>\n",
       "      <th>8955</th>\n",
       "      <td>이용은 잘 하고 있습니다만...무료배달 이라는 문구는 수정이 필요하겠네요. 조건부 ...</td>\n",
       "      <td>822</td>\n",
       "      <td>3</td>\n",
       "    </tr>\n",
       "    <tr>\n",
       "      <th>18965</th>\n",
       "      <td>배달비 무료라고 써놓았는데, 음식 고르고 주문하려 하면 소액주문 추가비용 붙이는게 ...</td>\n",
       "      <td>701</td>\n",
       "      <td>1</td>\n",
       "    </tr>\n",
       "    <tr>\n",
       "      <th>23761</th>\n",
       "      <td>1. 결제되면 주소 변동 불가능 2. 주문 1분 안되서 들어감(앱 취소불가능) 3....</td>\n",
       "      <td>669</td>\n",
       "      <td>1</td>\n",
       "    </tr>\n",
       "    <tr>\n",
       "      <th>9431</th>\n",
       "      <td>주문 배달 전문이라 다 좋지만 사실과 다른 광고는 없어져야 합니다. 예를들어서 배송...</td>\n",
       "      <td>658</td>\n",
       "      <td>3</td>\n",
       "    </tr>\n",
       "    <tr>\n",
       "      <th>4626</th>\n",
       "      <td>전에 5점줬었는데 쓰다가 불편한 부분이 있었어서 변경합니다. 요즘 배달을 시켜먹을 ...</td>\n",
       "      <td>643</td>\n",
       "      <td>4</td>\n",
       "    </tr>\n",
       "    <tr>\n",
       "      <th>17845</th>\n",
       "      <td>쿠팡에 비해 쿠팡이츠는 아직도 개선할 점이 많아 보입니다. 분명히 제대로 주문했는데...</td>\n",
       "      <td>615</td>\n",
       "      <td>1</td>\n",
       "    </tr>\n",
       "  </tbody>\n",
       "</table>\n",
       "</div>"
      ],
      "text/plain": [
       "                                                 content  thumbsUpCount  score\n",
       "16075  배달원 이상한 사람 정말 많네요. 오늘 진짜로 빈정 상했어요. 고객센터에서 대응도 ...           1189      1\n",
       "10576  배달비가 표기된가격보다 비쌉니다. 자세히보기를 눌러야만 실제 지불가격이 나와요. 어...            923      1\n",
       "9111   배달료무료 표기 수정 요청드립니다. 무료배송이라고 표기 되어 있어서 무료인줄 알았더...            912      2\n",
       "18843  쓴지 일주일도 안돼서 지우게 하시네요. 치타배달이라고 돈 더 냈는데, 예상 시간보다...            873      1\n",
       "8955   이용은 잘 하고 있습니다만...무료배달 이라는 문구는 수정이 필요하겠네요. 조건부 ...            822      3\n",
       "18965  배달비 무료라고 써놓았는데, 음식 고르고 주문하려 하면 소액주문 추가비용 붙이는게 ...            701      1\n",
       "23761  1. 결제되면 주소 변동 불가능 2. 주문 1분 안되서 들어감(앱 취소불가능) 3....            669      1\n",
       "9431   주문 배달 전문이라 다 좋지만 사실과 다른 광고는 없어져야 합니다. 예를들어서 배송...            658      3\n",
       "4626   전에 5점줬었는데 쓰다가 불편한 부분이 있었어서 변경합니다. 요즘 배달을 시켜먹을 ...            643      4\n",
       "17845  쿠팡에 비해 쿠팡이츠는 아직도 개선할 점이 많아 보입니다. 분명히 제대로 주문했는데...            615      1"
      ]
     },
     "execution_count": 80,
     "metadata": {},
     "output_type": "execute_result"
    }
   ],
   "source": [
    "df[['content', 'thumbsUpCount', 'score']].sort_values(by='thumbsUpCount', ascending=False)[:10]#.to_csv(target_+'공감많은순_탑10.csv')"
   ]
  },
  {
   "cell_type": "markdown",
   "id": "f4437146",
   "metadata": {},
   "source": [
    "df.loc[df.reviewer_ratings.isnull()]"
   ]
  },
  {
   "cell_type": "markdown",
   "id": "613bae23",
   "metadata": {},
   "source": [
    "### 이모티콘 추출 Extract emojis"
   ]
  },
  {
   "cell_type": "code",
   "execution_count": 81,
   "id": "5a4320ca",
   "metadata": {},
   "outputs": [
    {
     "data": {
      "text/plain": [
       "0           배달기사가 없다고 배달이 19분에서 37분이 지연됨 ㅋㅋㅋ 갈수록 배달지연이 계속됨\n",
       "1                                                 배딜료가 넘비싸\n",
       "2        시의 경계에 살고 있는데 다른 시의 업체들이 거리상 가까우니 목록에 뜨는데 다른 시...\n",
       "3                                           사용하는데 편리하고 좋네요\n",
       "4                                                메뉴 보기가 편함\n",
       "                               ...                        \n",
       "26794                                   배달속도 장난아니네요... ㅎㄷㄷ\n",
       "26795                                                    굿\n",
       "26796                      사용하기 좋아요! 앞으로 업체수가 많아졌으면 좋겠습니다.\n",
       "26797                                            배달 겁나 왕빠름\n",
       "26798                                             쿠팡 이츠 대박\n",
       "Name: content, Length: 26799, dtype: object"
      ]
     },
     "execution_count": 81,
     "metadata": {},
     "output_type": "execute_result"
    }
   ],
   "source": [
    "df.content"
   ]
  },
  {
   "cell_type": "code",
   "execution_count": 82,
   "id": "7ced8271",
   "metadata": {},
   "outputs": [],
   "source": [
    "def extract_emojis(string):\n",
    "    emoticon = \"\".join(c for c in string if c in emoji.UNICODE_EMOJI)\n",
    "    if emoticon!=\"\":\n",
    "        return emoticon\n",
    "    return None"
   ]
  },
  {
   "cell_type": "code",
   "execution_count": 83,
   "id": "7309a820",
   "metadata": {},
   "outputs": [],
   "source": [
    "df['emoji']=df['content'].apply(lambda x: extract_emojis(x))"
   ]
  },
  {
   "cell_type": "code",
   "execution_count": 84,
   "id": "8a20ea1a",
   "metadata": {},
   "outputs": [
    {
     "data": {
      "text/plain": [
       "0    None\n",
       "1    None\n",
       "2    None\n",
       "3    None\n",
       "4    None\n",
       "Name: emoji, dtype: object"
      ]
     },
     "execution_count": 84,
     "metadata": {},
     "output_type": "execute_result"
    }
   ],
   "source": [
    "df.emoji.head()"
   ]
  },
  {
   "cell_type": "code",
   "execution_count": 85,
   "id": "0fb9424f",
   "metadata": {},
   "outputs": [
    {
     "data": {
      "text/html": [
       "<div>\n",
       "<style scoped>\n",
       "    .dataframe tbody tr th:only-of-type {\n",
       "        vertical-align: middle;\n",
       "    }\n",
       "\n",
       "    .dataframe tbody tr th {\n",
       "        vertical-align: top;\n",
       "    }\n",
       "\n",
       "    .dataframe thead th {\n",
       "        text-align: right;\n",
       "    }\n",
       "</style>\n",
       "<table border=\"1\" class=\"dataframe\">\n",
       "  <thead>\n",
       "    <tr style=\"text-align: right;\">\n",
       "      <th></th>\n",
       "      <th>content</th>\n",
       "      <th>emoji</th>\n",
       "      <th>score</th>\n",
       "    </tr>\n",
       "  </thead>\n",
       "  <tbody>\n",
       "  </tbody>\n",
       "</table>\n",
       "</div>"
      ],
      "text/plain": [
       "Empty DataFrame\n",
       "Columns: [content, emoji, score]\n",
       "Index: []"
      ]
     },
     "execution_count": 85,
     "metadata": {},
     "output_type": "execute_result"
    }
   ],
   "source": [
    "df[['content','emoji', 'score']].loc[df.emoji.notnull()]"
   ]
  },
  {
   "cell_type": "markdown",
   "id": "9eec1fb0",
   "metadata": {},
   "source": [
    "### 명사 추출 (Extract nouns)"
   ]
  },
  {
   "cell_type": "markdown",
   "id": "2d78b301",
   "metadata": {},
   "source": [
    "kkma과 okt의 다른점"
   ]
  },
  {
   "cell_type": "markdown",
   "id": "4f9f2cb5",
   "metadata": {},
   "source": [
    "Okt는 Kkma에 비해 비교적 빠른 속도로 처리하지만 지원하는 품사 태그가 적다. \n",
    "속도가 중요할 때는 Okt를, 정확한 품사 정보가 필요할 때는 Kkma를 많이 사용.\n"
   ]
  },
  {
   "cell_type": "markdown",
   "id": "7a04833b",
   "metadata": {},
   "source": [
    "http://kkma.snu.ac.kr/documents/?doc=postag"
   ]
  },
  {
   "cell_type": "code",
   "execution_count": 86,
   "id": "4bab6016",
   "metadata": {},
   "outputs": [
    {
     "name": "stdout",
     "output_type": "stream",
     "text": [
      "kkma 사용: ['로그', '로그인', '인']\n",
      "okt 사용: ['로그인']\n"
     ]
    }
   ],
   "source": [
    "from konlpy.tag import Kkma\n",
    "kkma = Kkma()\n",
    "\n",
    "from konlpy.tag import Okt\n",
    "okt = Okt()\n",
    "\n",
    "print('kkma 사용: {}'.format(kkma.nouns(\"로그인이 안돼요\")))\n",
    "print('okt 사용: {}'.format(okt.nouns(\"로그인이 안돼요\")))"
   ]
  },
  {
   "cell_type": "code",
   "execution_count": 87,
   "id": "1c55736f",
   "metadata": {},
   "outputs": [
    {
     "name": "stdout",
     "output_type": "stream",
     "text": [
      "[('하', 'VV'), ('었', 'EPT'), ('다', 'EFN')]\n",
      "[('하', 'VV'), ('었', 'EPT'), ('지만', 'ECE')]\n",
      "[('하면서', 'NNG'), ('도', 'JX')]\n",
      "[('하', 'VV'), ('었', 'EPT'), ('던', 'EFQ')]\n",
      "[('하', 'VV'), ('니까', 'ECD')]\n"
     ]
    }
   ],
   "source": [
    "\n",
    "from konlpy.tag import Kkma #Twitter\n",
    "\n",
    "for word in ['했다', '했지만', '하면서도', '했던', '하니까']:\n",
    "    print(kkma.pos(word))"
   ]
  },
  {
   "cell_type": "code",
   "execution_count": 88,
   "id": "b71bbf5b",
   "metadata": {},
   "outputs": [
    {
     "name": "stdout",
     "output_type": "stream",
     "text": [
      "CPU times: user 2min 1s, sys: 925 ms, total: 2min 2s\n",
      "Wall time: 58.5 s\n"
     ]
    }
   ],
   "source": [
    "%%time \n",
    "df['nouns'] = df['content'].apply(lambda x: okt.nouns(x))"
   ]
  },
  {
   "cell_type": "code",
   "execution_count": 89,
   "id": "eb8d4e38",
   "metadata": {},
   "outputs": [
    {
     "data": {
      "text/html": [
       "<div>\n",
       "<style scoped>\n",
       "    .dataframe tbody tr th:only-of-type {\n",
       "        vertical-align: middle;\n",
       "    }\n",
       "\n",
       "    .dataframe tbody tr th {\n",
       "        vertical-align: top;\n",
       "    }\n",
       "\n",
       "    .dataframe thead th {\n",
       "        text-align: right;\n",
       "    }\n",
       "</style>\n",
       "<table border=\"1\" class=\"dataframe\">\n",
       "  <thead>\n",
       "    <tr style=\"text-align: right;\">\n",
       "      <th></th>\n",
       "      <th>Unnamed: 0</th>\n",
       "      <th>reviewId</th>\n",
       "      <th>userName</th>\n",
       "      <th>userImage</th>\n",
       "      <th>content</th>\n",
       "      <th>score</th>\n",
       "      <th>thumbsUpCount</th>\n",
       "      <th>reviewCreatedVersion</th>\n",
       "      <th>at</th>\n",
       "      <th>replyContent</th>\n",
       "      <th>repliedAt</th>\n",
       "      <th>review_date</th>\n",
       "      <th>emoji</th>\n",
       "      <th>nouns</th>\n",
       "    </tr>\n",
       "  </thead>\n",
       "  <tbody>\n",
       "    <tr>\n",
       "      <th>0</th>\n",
       "      <td>0</td>\n",
       "      <td>891c64ac-65d3-4195-9fe3-aff249992735</td>\n",
       "      <td>VLOG마상</td>\n",
       "      <td>https://play-lh.googleusercontent.com/a-/AD5-W...</td>\n",
       "      <td>배달기사가 없다고 배달이 19분에서 37분이 지연됨 ㅋㅋㅋ 갈수록 배달지연이 계속됨</td>\n",
       "      <td>2</td>\n",
       "      <td>0</td>\n",
       "      <td>1.3.79</td>\n",
       "      <td>2023-01-02 21:06:18</td>\n",
       "      <td>안녕하세요, 쿠팡이츠 입니다.\\n\\n고객님께서는 쿠팡이츠를 이용하시며 맛있는 음식이...</td>\n",
       "      <td>2023-01-03 09:53:47</td>\n",
       "      <td>2023-01-02 21:06:18</td>\n",
       "      <td>None</td>\n",
       "      <td>[배달, 기사, 배달, 지연, 갈수록, 배달, 지연, 계속]</td>\n",
       "    </tr>\n",
       "    <tr>\n",
       "      <th>1</th>\n",
       "      <td>1</td>\n",
       "      <td>86d723e5-beb0-4b2c-ac9e-3d0bdfdb7422</td>\n",
       "      <td>이니는풍산개다</td>\n",
       "      <td>https://play-lh.googleusercontent.com/a-/AD5-W...</td>\n",
       "      <td>배딜료가 넘비싸</td>\n",
       "      <td>3</td>\n",
       "      <td>0</td>\n",
       "      <td>1.3.79</td>\n",
       "      <td>2023-01-02 20:51:38</td>\n",
       "      <td>안녕하세요, 쿠팡이츠 입니다.\\n\\n먼저, 쿠팡이츠를 이용해 주시는 과정에 배달비로...</td>\n",
       "      <td>2023-01-03 09:52:26</td>\n",
       "      <td>2023-01-02 20:51:38</td>\n",
       "      <td>None</td>\n",
       "      <td>[배딜료]</td>\n",
       "    </tr>\n",
       "    <tr>\n",
       "      <th>2</th>\n",
       "      <td>2</td>\n",
       "      <td>28870510-8c42-471f-a599-853660a54848</td>\n",
       "      <td>Euna</td>\n",
       "      <td>https://play-lh.googleusercontent.com/a/AEdFTp...</td>\n",
       "      <td>시의 경계에 살고 있는데 다른 시의 업체들이 거리상 가까우니 목록에 뜨는데 다른 시...</td>\n",
       "      <td>2</td>\n",
       "      <td>0</td>\n",
       "      <td>1.3.79</td>\n",
       "      <td>2023-01-02 18:29:54</td>\n",
       "      <td>안녕하세요, 쿠팡이츠 입니다.\\n\\n먼저 쿠팡이츠 APP을 이용하시는 과정에 불편을...</td>\n",
       "      <td>2023-01-03 09:44:18</td>\n",
       "      <td>2023-01-02 18:29:54</td>\n",
       "      <td>None</td>\n",
       "      <td>[시, 경계, 살, 다른, 시, 업체, 거리, 목록, 다른, 시라, 배달, 기사, ...</td>\n",
       "    </tr>\n",
       "  </tbody>\n",
       "</table>\n",
       "</div>"
      ],
      "text/plain": [
       "   Unnamed: 0                              reviewId userName  \\\n",
       "0           0  891c64ac-65d3-4195-9fe3-aff249992735   VLOG마상   \n",
       "1           1  86d723e5-beb0-4b2c-ac9e-3d0bdfdb7422  이니는풍산개다   \n",
       "2           2  28870510-8c42-471f-a599-853660a54848     Euna   \n",
       "\n",
       "                                           userImage  \\\n",
       "0  https://play-lh.googleusercontent.com/a-/AD5-W...   \n",
       "1  https://play-lh.googleusercontent.com/a-/AD5-W...   \n",
       "2  https://play-lh.googleusercontent.com/a/AEdFTp...   \n",
       "\n",
       "                                             content  score  thumbsUpCount  \\\n",
       "0     배달기사가 없다고 배달이 19분에서 37분이 지연됨 ㅋㅋㅋ 갈수록 배달지연이 계속됨      2              0   \n",
       "1                                           배딜료가 넘비싸      3              0   \n",
       "2  시의 경계에 살고 있는데 다른 시의 업체들이 거리상 가까우니 목록에 뜨는데 다른 시...      2              0   \n",
       "\n",
       "  reviewCreatedVersion                   at  \\\n",
       "0               1.3.79  2023-01-02 21:06:18   \n",
       "1               1.3.79  2023-01-02 20:51:38   \n",
       "2               1.3.79  2023-01-02 18:29:54   \n",
       "\n",
       "                                        replyContent            repliedAt  \\\n",
       "0  안녕하세요, 쿠팡이츠 입니다.\\n\\n고객님께서는 쿠팡이츠를 이용하시며 맛있는 음식이...  2023-01-03 09:53:47   \n",
       "1  안녕하세요, 쿠팡이츠 입니다.\\n\\n먼저, 쿠팡이츠를 이용해 주시는 과정에 배달비로...  2023-01-03 09:52:26   \n",
       "2  안녕하세요, 쿠팡이츠 입니다.\\n\\n먼저 쿠팡이츠 APP을 이용하시는 과정에 불편을...  2023-01-03 09:44:18   \n",
       "\n",
       "          review_date emoji                                              nouns  \n",
       "0 2023-01-02 21:06:18  None                  [배달, 기사, 배달, 지연, 갈수록, 배달, 지연, 계속]  \n",
       "1 2023-01-02 20:51:38  None                                              [배딜료]  \n",
       "2 2023-01-02 18:29:54  None  [시, 경계, 살, 다른, 시, 업체, 거리, 목록, 다른, 시라, 배달, 기사, ...  "
      ]
     },
     "execution_count": 89,
     "metadata": {},
     "output_type": "execute_result"
    }
   ],
   "source": [
    "df.head(3)"
   ]
  },
  {
   "cell_type": "code",
   "execution_count": 90,
   "id": "0133db5f",
   "metadata": {},
   "outputs": [
    {
     "data": {
      "text/plain": [
       "0"
      ]
     },
     "execution_count": 90,
     "metadata": {},
     "output_type": "execute_result"
    }
   ],
   "source": [
    "df.nouns.isnull().sum()"
   ]
  },
  {
   "cell_type": "markdown",
   "id": "9ae1f688",
   "metadata": {},
   "source": [
    "### 불용어 정리 Remove Stopwords"
   ]
  },
  {
   "cell_type": "code",
   "execution_count": 91,
   "id": "e4a8e807",
   "metadata": {},
   "outputs": [],
   "source": [
    "stopwords = ['덕분', '안', '중','때문', '짓', '이것', '하', '거', '식', '시', '앱', '뭐', '데','나', '개','페', '주세',\n",
    "             '이거', '일', '업', '북', '인', '구', '저', '해','해보고','대','여', '페북', '페이스북', '페이스', '수', \n",
    "             '전', '제가','제','것','이것' , '좀', '왜','어째서', '재', '때', '계속', '후', '다시', '요','를', '을', \n",
    "             '무슨','못','사', '진짜', '제발','비', '자꾸', '츠궁', '뿌']"
   ]
  },
  {
   "cell_type": "code",
   "execution_count": 92,
   "id": "7a5a1cf2",
   "metadata": {},
   "outputs": [],
   "source": [
    "with open('/Users/reejungkim/Documents/Git/NLP/한국어불용어100.txt') as f:\n",
    "    lines = f.readlines()\n",
    "    result=[]\n",
    "    for x in lines:\n",
    "        result.append(x.split('\\t')[0])\n",
    "    f.close()\n"
   ]
  },
  {
   "cell_type": "code",
   "execution_count": 93,
   "id": "f5f1b7db",
   "metadata": {},
   "outputs": [],
   "source": [
    "stopwords = stopwords + result"
   ]
  },
  {
   "cell_type": "code",
   "execution_count": 94,
   "id": "f2075537",
   "metadata": {},
   "outputs": [],
   "source": [
    "def removeStopWords(Noun_words):\n",
    "    unique_Noun_words = set(Noun_words)\n",
    "    for word in unique_Noun_words:\n",
    "        if word in stopwords:\n",
    "            while word in Noun_words: \n",
    "                Noun_words.remove(word) \n",
    "    return Noun_words"
   ]
  },
  {
   "cell_type": "code",
   "execution_count": 95,
   "id": "a2659d6b",
   "metadata": {
    "scrolled": true
   },
   "outputs": [],
   "source": [
    "df['nouns'] = df['nouns'].apply(lambda x: removeStopWords(x))"
   ]
  },
  {
   "cell_type": "code",
   "execution_count": 96,
   "id": "b34c0c20",
   "metadata": {},
   "outputs": [
    {
     "data": {
      "text/html": [
       "<div>\n",
       "<style scoped>\n",
       "    .dataframe tbody tr th:only-of-type {\n",
       "        vertical-align: middle;\n",
       "    }\n",
       "\n",
       "    .dataframe tbody tr th {\n",
       "        vertical-align: top;\n",
       "    }\n",
       "\n",
       "    .dataframe thead th {\n",
       "        text-align: right;\n",
       "    }\n",
       "</style>\n",
       "<table border=\"1\" class=\"dataframe\">\n",
       "  <thead>\n",
       "    <tr style=\"text-align: right;\">\n",
       "      <th></th>\n",
       "      <th>Unnamed: 0</th>\n",
       "      <th>reviewId</th>\n",
       "      <th>userName</th>\n",
       "      <th>userImage</th>\n",
       "      <th>content</th>\n",
       "      <th>score</th>\n",
       "      <th>thumbsUpCount</th>\n",
       "      <th>reviewCreatedVersion</th>\n",
       "      <th>at</th>\n",
       "      <th>replyContent</th>\n",
       "      <th>repliedAt</th>\n",
       "      <th>review_date</th>\n",
       "      <th>emoji</th>\n",
       "      <th>nouns</th>\n",
       "    </tr>\n",
       "  </thead>\n",
       "  <tbody>\n",
       "    <tr>\n",
       "      <th>0</th>\n",
       "      <td>0</td>\n",
       "      <td>891c64ac-65d3-4195-9fe3-aff249992735</td>\n",
       "      <td>VLOG마상</td>\n",
       "      <td>https://play-lh.googleusercontent.com/a-/AD5-W...</td>\n",
       "      <td>배달기사가 없다고 배달이 19분에서 37분이 지연됨 ㅋㅋㅋ 갈수록 배달지연이 계속됨</td>\n",
       "      <td>2</td>\n",
       "      <td>0</td>\n",
       "      <td>1.3.79</td>\n",
       "      <td>2023-01-02 21:06:18</td>\n",
       "      <td>안녕하세요, 쿠팡이츠 입니다.\\n\\n고객님께서는 쿠팡이츠를 이용하시며 맛있는 음식이...</td>\n",
       "      <td>2023-01-03 09:53:47</td>\n",
       "      <td>2023-01-02 21:06:18</td>\n",
       "      <td>None</td>\n",
       "      <td>[배달, 기사, 배달, 지연, 갈수록, 배달, 지연]</td>\n",
       "    </tr>\n",
       "    <tr>\n",
       "      <th>1</th>\n",
       "      <td>1</td>\n",
       "      <td>86d723e5-beb0-4b2c-ac9e-3d0bdfdb7422</td>\n",
       "      <td>이니는풍산개다</td>\n",
       "      <td>https://play-lh.googleusercontent.com/a-/AD5-W...</td>\n",
       "      <td>배딜료가 넘비싸</td>\n",
       "      <td>3</td>\n",
       "      <td>0</td>\n",
       "      <td>1.3.79</td>\n",
       "      <td>2023-01-02 20:51:38</td>\n",
       "      <td>안녕하세요, 쿠팡이츠 입니다.\\n\\n먼저, 쿠팡이츠를 이용해 주시는 과정에 배달비로...</td>\n",
       "      <td>2023-01-03 09:52:26</td>\n",
       "      <td>2023-01-02 20:51:38</td>\n",
       "      <td>None</td>\n",
       "      <td>[배딜료]</td>\n",
       "    </tr>\n",
       "    <tr>\n",
       "      <th>2</th>\n",
       "      <td>2</td>\n",
       "      <td>28870510-8c42-471f-a599-853660a54848</td>\n",
       "      <td>Euna</td>\n",
       "      <td>https://play-lh.googleusercontent.com/a/AEdFTp...</td>\n",
       "      <td>시의 경계에 살고 있는데 다른 시의 업체들이 거리상 가까우니 목록에 뜨는데 다른 시...</td>\n",
       "      <td>2</td>\n",
       "      <td>0</td>\n",
       "      <td>1.3.79</td>\n",
       "      <td>2023-01-02 18:29:54</td>\n",
       "      <td>안녕하세요, 쿠팡이츠 입니다.\\n\\n먼저 쿠팡이츠 APP을 이용하시는 과정에 불편을...</td>\n",
       "      <td>2023-01-03 09:44:18</td>\n",
       "      <td>2023-01-02 18:29:54</td>\n",
       "      <td>None</td>\n",
       "      <td>[경계, 업체, 거리, 목록, 시라, 배달, 기사, 배달, 항상, 배달, 음식, 항...</td>\n",
       "    </tr>\n",
       "    <tr>\n",
       "      <th>3</th>\n",
       "      <td>3</td>\n",
       "      <td>9064b57a-740b-41de-b56d-660092b75cad</td>\n",
       "      <td>이제덕</td>\n",
       "      <td>https://play-lh.googleusercontent.com/a/AEdFTp...</td>\n",
       "      <td>사용하는데 편리하고 좋네요</td>\n",
       "      <td>4</td>\n",
       "      <td>0</td>\n",
       "      <td>1.3.79</td>\n",
       "      <td>2023-01-02 17:30:13</td>\n",
       "      <td>안녕하세요, 쿠팡이츠 입니다.\\n\\n쿠팡이츠는 한층 더 강화된 서비스를 제공하며, ...</td>\n",
       "      <td>2023-01-02 18:14:54</td>\n",
       "      <td>2023-01-02 17:30:13</td>\n",
       "      <td>None</td>\n",
       "      <td>[사용]</td>\n",
       "    </tr>\n",
       "    <tr>\n",
       "      <th>4</th>\n",
       "      <td>4</td>\n",
       "      <td>e8813cb7-b013-425f-be95-d9c88242eea4</td>\n",
       "      <td>연상소</td>\n",
       "      <td>https://play-lh.googleusercontent.com/a/AEdFTp...</td>\n",
       "      <td>메뉴 보기가 편함</td>\n",
       "      <td>4</td>\n",
       "      <td>0</td>\n",
       "      <td>1.3.79</td>\n",
       "      <td>2023-01-02 16:01:41</td>\n",
       "      <td>안녕하세요, 쿠팡이츠 입니다.\\n\\n쿠팡이츠는 한 집 배달을 원칙으로 한층 더 강화...</td>\n",
       "      <td>2023-01-02 16:34:22</td>\n",
       "      <td>2023-01-02 16:01:41</td>\n",
       "      <td>None</td>\n",
       "      <td>[메뉴, 보기]</td>\n",
       "    </tr>\n",
       "  </tbody>\n",
       "</table>\n",
       "</div>"
      ],
      "text/plain": [
       "   Unnamed: 0                              reviewId userName  \\\n",
       "0           0  891c64ac-65d3-4195-9fe3-aff249992735   VLOG마상   \n",
       "1           1  86d723e5-beb0-4b2c-ac9e-3d0bdfdb7422  이니는풍산개다   \n",
       "2           2  28870510-8c42-471f-a599-853660a54848     Euna   \n",
       "3           3  9064b57a-740b-41de-b56d-660092b75cad      이제덕   \n",
       "4           4  e8813cb7-b013-425f-be95-d9c88242eea4      연상소   \n",
       "\n",
       "                                           userImage  \\\n",
       "0  https://play-lh.googleusercontent.com/a-/AD5-W...   \n",
       "1  https://play-lh.googleusercontent.com/a-/AD5-W...   \n",
       "2  https://play-lh.googleusercontent.com/a/AEdFTp...   \n",
       "3  https://play-lh.googleusercontent.com/a/AEdFTp...   \n",
       "4  https://play-lh.googleusercontent.com/a/AEdFTp...   \n",
       "\n",
       "                                             content  score  thumbsUpCount  \\\n",
       "0     배달기사가 없다고 배달이 19분에서 37분이 지연됨 ㅋㅋㅋ 갈수록 배달지연이 계속됨      2              0   \n",
       "1                                           배딜료가 넘비싸      3              0   \n",
       "2  시의 경계에 살고 있는데 다른 시의 업체들이 거리상 가까우니 목록에 뜨는데 다른 시...      2              0   \n",
       "3                                     사용하는데 편리하고 좋네요      4              0   \n",
       "4                                          메뉴 보기가 편함      4              0   \n",
       "\n",
       "  reviewCreatedVersion                   at  \\\n",
       "0               1.3.79  2023-01-02 21:06:18   \n",
       "1               1.3.79  2023-01-02 20:51:38   \n",
       "2               1.3.79  2023-01-02 18:29:54   \n",
       "3               1.3.79  2023-01-02 17:30:13   \n",
       "4               1.3.79  2023-01-02 16:01:41   \n",
       "\n",
       "                                        replyContent            repliedAt  \\\n",
       "0  안녕하세요, 쿠팡이츠 입니다.\\n\\n고객님께서는 쿠팡이츠를 이용하시며 맛있는 음식이...  2023-01-03 09:53:47   \n",
       "1  안녕하세요, 쿠팡이츠 입니다.\\n\\n먼저, 쿠팡이츠를 이용해 주시는 과정에 배달비로...  2023-01-03 09:52:26   \n",
       "2  안녕하세요, 쿠팡이츠 입니다.\\n\\n먼저 쿠팡이츠 APP을 이용하시는 과정에 불편을...  2023-01-03 09:44:18   \n",
       "3  안녕하세요, 쿠팡이츠 입니다.\\n\\n쿠팡이츠는 한층 더 강화된 서비스를 제공하며, ...  2023-01-02 18:14:54   \n",
       "4  안녕하세요, 쿠팡이츠 입니다.\\n\\n쿠팡이츠는 한 집 배달을 원칙으로 한층 더 강화...  2023-01-02 16:34:22   \n",
       "\n",
       "          review_date emoji                                              nouns  \n",
       "0 2023-01-02 21:06:18  None                      [배달, 기사, 배달, 지연, 갈수록, 배달, 지연]  \n",
       "1 2023-01-02 20:51:38  None                                              [배딜료]  \n",
       "2 2023-01-02 18:29:54  None  [경계, 업체, 거리, 목록, 시라, 배달, 기사, 배달, 항상, 배달, 음식, 항...  \n",
       "3 2023-01-02 17:30:13  None                                               [사용]  \n",
       "4 2023-01-02 16:01:41  None                                           [메뉴, 보기]  "
      ]
     },
     "execution_count": 96,
     "metadata": {},
     "output_type": "execute_result"
    }
   ],
   "source": [
    "df.head()"
   ]
  },
  {
   "cell_type": "code",
   "execution_count": 97,
   "id": "a8d760df",
   "metadata": {},
   "outputs": [],
   "source": [
    "from nltk.corpus import stopwords\n",
    "from nltk.tokenize import word_tokenize\n",
    "\n",
    "from nltk.classify import NaiveBayesClassifier\n",
    "from nltk.corpus import subjectivity\n",
    "from nltk.sentiment import SentimentAnalyzer\n",
    "from nltk.sentiment.util import *"
   ]
  },
  {
   "cell_type": "markdown",
   "id": "45d5762a",
   "metadata": {},
   "source": [
    "### 리뷰 분류 classify reviews\n",
    "\n",
    "\n",
    "3,4,5 의 점수는 긍정리뷰\n",
    "\n",
    "1 또는 2의 점수는 부정적리뷰"
   ]
  },
  {
   "cell_type": "code",
   "execution_count": 98,
   "id": "6f8b3ddb",
   "metadata": {},
   "outputs": [],
   "source": [
    "df_positive_review = df.loc[df.score>=3]"
   ]
  },
  {
   "cell_type": "code",
   "execution_count": 99,
   "id": "2bed4326",
   "metadata": {},
   "outputs": [],
   "source": [
    "df_negative_review = df.loc[df.score<=2]"
   ]
  },
  {
   "cell_type": "markdown",
   "id": "d2a7be2e",
   "metadata": {},
   "source": [
    "### Counter"
   ]
  },
  {
   "cell_type": "code",
   "execution_count": 100,
   "id": "141b77d9",
   "metadata": {},
   "outputs": [],
   "source": [
    "from collections import Counter"
   ]
  },
  {
   "cell_type": "code",
   "execution_count": 101,
   "id": "5837e1ed",
   "metadata": {},
   "outputs": [
    {
     "name": "stdout",
     "output_type": "stream",
     "text": [
      "[('배달', 3), ('지연', 2), ('기사', 1), ('갈수록', 1)]\n"
     ]
    }
   ],
   "source": [
    "#카운터 쓰임예제\n",
    "c = Counter(df.nouns[0])\n",
    "print(c.most_common(10))"
   ]
  },
  {
   "cell_type": "markdown",
   "id": "6e4ed22f",
   "metadata": {},
   "source": []
  },
  {
   "cell_type": "code",
   "execution_count": 102,
   "id": "12087c5d",
   "metadata": {},
   "outputs": [],
   "source": [
    "def common_words(df, col, n):\n",
    "    counts = Counter([item for sublist in df[col] for item in sublist])\n",
    "    common_words = pd.DataFrame(counts.most_common(n))\n",
    "    common_words.columns =['Word','count']\n",
    "    return common_words"
   ]
  },
  {
   "cell_type": "code",
   "execution_count": 103,
   "id": "b164ac8a",
   "metadata": {
    "scrolled": true
   },
   "outputs": [],
   "source": [
    "common_review = common_words(df, 'nouns', 50)"
   ]
  },
  {
   "cell_type": "code",
   "execution_count": 104,
   "id": "5c6d39c8",
   "metadata": {},
   "outputs": [
    {
     "data": {
      "text/html": [
       "<div>\n",
       "<style scoped>\n",
       "    .dataframe tbody tr th:only-of-type {\n",
       "        vertical-align: middle;\n",
       "    }\n",
       "\n",
       "    .dataframe tbody tr th {\n",
       "        vertical-align: top;\n",
       "    }\n",
       "\n",
       "    .dataframe thead th {\n",
       "        text-align: right;\n",
       "    }\n",
       "</style>\n",
       "<table border=\"1\" class=\"dataframe\">\n",
       "  <thead>\n",
       "    <tr style=\"text-align: right;\">\n",
       "      <th></th>\n",
       "      <th>Word</th>\n",
       "      <th>count</th>\n",
       "    </tr>\n",
       "  </thead>\n",
       "  <tbody>\n",
       "    <tr>\n",
       "      <th>0</th>\n",
       "      <td>배달</td>\n",
       "      <td>12119</td>\n",
       "    </tr>\n",
       "    <tr>\n",
       "      <th>1</th>\n",
       "      <td>쿠팡</td>\n",
       "      <td>4093</td>\n",
       "    </tr>\n",
       "    <tr>\n",
       "      <th>2</th>\n",
       "      <td>주문</td>\n",
       "      <td>2443</td>\n",
       "    </tr>\n",
       "    <tr>\n",
       "      <th>3</th>\n",
       "      <td>츠</td>\n",
       "      <td>2312</td>\n",
       "    </tr>\n",
       "    <tr>\n",
       "      <th>4</th>\n",
       "      <td>음식</td>\n",
       "      <td>1865</td>\n",
       "    </tr>\n",
       "    <tr>\n",
       "      <th>5</th>\n",
       "      <td>쿠폰</td>\n",
       "      <td>1834</td>\n",
       "    </tr>\n",
       "    <tr>\n",
       "      <th>6</th>\n",
       "      <td>배민</td>\n",
       "      <td>1679</td>\n",
       "    </tr>\n",
       "    <tr>\n",
       "      <th>7</th>\n",
       "      <td>사용</td>\n",
       "      <td>1489</td>\n",
       "    </tr>\n",
       "    <tr>\n",
       "      <th>8</th>\n",
       "      <td>굿</td>\n",
       "      <td>1407</td>\n",
       "    </tr>\n",
       "    <tr>\n",
       "      <th>9</th>\n",
       "      <td>고객</td>\n",
       "      <td>1290</td>\n",
       "    </tr>\n",
       "    <tr>\n",
       "      <th>10</th>\n",
       "      <td>어플</td>\n",
       "      <td>1232</td>\n",
       "    </tr>\n",
       "    <tr>\n",
       "      <th>11</th>\n",
       "      <td>배송</td>\n",
       "      <td>1147</td>\n",
       "    </tr>\n",
       "    <tr>\n",
       "      <th>12</th>\n",
       "      <td>결제</td>\n",
       "      <td>1056</td>\n",
       "    </tr>\n",
       "    <tr>\n",
       "      <th>13</th>\n",
       "      <td>취소</td>\n",
       "      <td>1003</td>\n",
       "    </tr>\n",
       "    <tr>\n",
       "      <th>14</th>\n",
       "      <td>기사</td>\n",
       "      <td>881</td>\n",
       "    </tr>\n",
       "    <tr>\n",
       "      <th>15</th>\n",
       "      <td>최고</td>\n",
       "      <td>877</td>\n",
       "    </tr>\n",
       "    <tr>\n",
       "      <th>16</th>\n",
       "      <td>이용</td>\n",
       "      <td>811</td>\n",
       "    </tr>\n",
       "    <tr>\n",
       "      <th>17</th>\n",
       "      <td>센터</td>\n",
       "      <td>798</td>\n",
       "    </tr>\n",
       "    <tr>\n",
       "      <th>18</th>\n",
       "      <td>무료</td>\n",
       "      <td>763</td>\n",
       "    </tr>\n",
       "    <tr>\n",
       "      <th>19</th>\n",
       "      <td>할인</td>\n",
       "      <td>733</td>\n",
       "    </tr>\n",
       "    <tr>\n",
       "      <th>20</th>\n",
       "      <td>실시간</td>\n",
       "      <td>684</td>\n",
       "    </tr>\n",
       "    <tr>\n",
       "      <th>21</th>\n",
       "      <td>확인</td>\n",
       "      <td>664</td>\n",
       "    </tr>\n",
       "    <tr>\n",
       "      <th>22</th>\n",
       "      <td>정말</td>\n",
       "      <td>646</td>\n",
       "    </tr>\n",
       "    <tr>\n",
       "      <th>23</th>\n",
       "      <td>리뷰</td>\n",
       "      <td>637</td>\n",
       "    </tr>\n",
       "    <tr>\n",
       "      <th>24</th>\n",
       "      <td>전화</td>\n",
       "      <td>636</td>\n",
       "    </tr>\n",
       "    <tr>\n",
       "      <th>25</th>\n",
       "      <td>곳</td>\n",
       "      <td>624</td>\n",
       "    </tr>\n",
       "    <tr>\n",
       "      <th>26</th>\n",
       "      <td>위치</td>\n",
       "      <td>614</td>\n",
       "    </tr>\n",
       "    <tr>\n",
       "      <th>27</th>\n",
       "      <td>가게</td>\n",
       "      <td>599</td>\n",
       "    </tr>\n",
       "    <tr>\n",
       "      <th>28</th>\n",
       "      <td>그냥</td>\n",
       "      <td>571</td>\n",
       "    </tr>\n",
       "    <tr>\n",
       "      <th>29</th>\n",
       "      <td>빨</td>\n",
       "      <td>524</td>\n",
       "    </tr>\n",
       "    <tr>\n",
       "      <th>30</th>\n",
       "      <td>삭제</td>\n",
       "      <td>520</td>\n",
       "    </tr>\n",
       "    <tr>\n",
       "      <th>31</th>\n",
       "      <td>업체</td>\n",
       "      <td>511</td>\n",
       "    </tr>\n",
       "    <tr>\n",
       "      <th>32</th>\n",
       "      <td>바로</td>\n",
       "      <td>508</td>\n",
       "    </tr>\n",
       "    <tr>\n",
       "      <th>33</th>\n",
       "      <td>매장</td>\n",
       "      <td>495</td>\n",
       "    </tr>\n",
       "    <tr>\n",
       "      <th>34</th>\n",
       "      <td>함</td>\n",
       "      <td>445</td>\n",
       "    </tr>\n",
       "    <tr>\n",
       "      <th>35</th>\n",
       "      <td>서비스</td>\n",
       "      <td>443</td>\n",
       "    </tr>\n",
       "    <tr>\n",
       "      <th>36</th>\n",
       "      <td>아주</td>\n",
       "      <td>414</td>\n",
       "    </tr>\n",
       "    <tr>\n",
       "      <th>37</th>\n",
       "      <td>라이더</td>\n",
       "      <td>407</td>\n",
       "    </tr>\n",
       "    <tr>\n",
       "      <th>38</th>\n",
       "      <td>료</td>\n",
       "      <td>406</td>\n",
       "    </tr>\n",
       "    <tr>\n",
       "      <th>39</th>\n",
       "      <td>카드</td>\n",
       "      <td>383</td>\n",
       "    </tr>\n",
       "    <tr>\n",
       "      <th>40</th>\n",
       "      <td>메뉴</td>\n",
       "      <td>375</td>\n",
       "    </tr>\n",
       "    <tr>\n",
       "      <th>41</th>\n",
       "      <td>음식점</td>\n",
       "      <td>372</td>\n",
       "    </tr>\n",
       "    <tr>\n",
       "      <th>42</th>\n",
       "      <td>임</td>\n",
       "      <td>372</td>\n",
       "    </tr>\n",
       "    <tr>\n",
       "      <th>43</th>\n",
       "      <td>자주</td>\n",
       "      <td>358</td>\n",
       "    </tr>\n",
       "    <tr>\n",
       "      <th>44</th>\n",
       "      <td>최악</td>\n",
       "      <td>358</td>\n",
       "    </tr>\n",
       "    <tr>\n",
       "      <th>45</th>\n",
       "      <td>치타</td>\n",
       "      <td>358</td>\n",
       "    </tr>\n",
       "    <tr>\n",
       "      <th>46</th>\n",
       "      <td>광고</td>\n",
       "      <td>354</td>\n",
       "    </tr>\n",
       "    <tr>\n",
       "      <th>47</th>\n",
       "      <td>연락</td>\n",
       "      <td>352</td>\n",
       "    </tr>\n",
       "    <tr>\n",
       "      <th>48</th>\n",
       "      <td>주소</td>\n",
       "      <td>350</td>\n",
       "    </tr>\n",
       "    <tr>\n",
       "      <th>49</th>\n",
       "      <td>지연</td>\n",
       "      <td>349</td>\n",
       "    </tr>\n",
       "  </tbody>\n",
       "</table>\n",
       "</div>"
      ],
      "text/plain": [
       "   Word  count\n",
       "0    배달  12119\n",
       "1    쿠팡   4093\n",
       "2    주문   2443\n",
       "3     츠   2312\n",
       "4    음식   1865\n",
       "5    쿠폰   1834\n",
       "6    배민   1679\n",
       "7    사용   1489\n",
       "8     굿   1407\n",
       "9    고객   1290\n",
       "10   어플   1232\n",
       "11   배송   1147\n",
       "12   결제   1056\n",
       "13   취소   1003\n",
       "14   기사    881\n",
       "15   최고    877\n",
       "16   이용    811\n",
       "17   센터    798\n",
       "18   무료    763\n",
       "19   할인    733\n",
       "20  실시간    684\n",
       "21   확인    664\n",
       "22   정말    646\n",
       "23   리뷰    637\n",
       "24   전화    636\n",
       "25    곳    624\n",
       "26   위치    614\n",
       "27   가게    599\n",
       "28   그냥    571\n",
       "29    빨    524\n",
       "30   삭제    520\n",
       "31   업체    511\n",
       "32   바로    508\n",
       "33   매장    495\n",
       "34    함    445\n",
       "35  서비스    443\n",
       "36   아주    414\n",
       "37  라이더    407\n",
       "38    료    406\n",
       "39   카드    383\n",
       "40   메뉴    375\n",
       "41  음식점    372\n",
       "42    임    372\n",
       "43   자주    358\n",
       "44   최악    358\n",
       "45   치타    358\n",
       "46   광고    354\n",
       "47   연락    352\n",
       "48   주소    350\n",
       "49   지연    349"
      ]
     },
     "execution_count": 104,
     "metadata": {},
     "output_type": "execute_result"
    }
   ],
   "source": [
    "common_review"
   ]
  },
  {
   "cell_type": "code",
   "execution_count": 105,
   "id": "2c40c9ab",
   "metadata": {},
   "outputs": [],
   "source": [
    "common_positive_review = common_words(df_positive_review, 'nouns', 50)"
   ]
  },
  {
   "cell_type": "code",
   "execution_count": 106,
   "id": "d8ded8fd",
   "metadata": {},
   "outputs": [],
   "source": [
    "common_negative_review = common_words(df_negative_review, 'nouns', 50)"
   ]
  },
  {
   "cell_type": "code",
   "execution_count": 107,
   "id": "6de67e16",
   "metadata": {},
   "outputs": [],
   "source": [
    "common_negative_review.to_excel(target+'_negative_reviews.xlsx')"
   ]
  },
  {
   "cell_type": "code",
   "execution_count": 108,
   "id": "02c2d88a",
   "metadata": {},
   "outputs": [],
   "source": [
    "common_positive_review.to_excel(target+'_positive_reviews.xlsx')"
   ]
  },
  {
   "cell_type": "code",
   "execution_count": 514,
   "id": "b6a7b2f3",
   "metadata": {},
   "outputs": [],
   "source": [
    "#%%bash\n",
    "#wget http://cdn.naver.com/naver/NanumFont/fontfiles/NanumFont_TTF_ALL.zip\n",
    "#unzip NanumFont_TTF_ALL.zip -d NanumFont\n",
    "#ls -al"
   ]
  },
  {
   "cell_type": "code",
   "execution_count": 109,
   "id": "58a81183",
   "metadata": {},
   "outputs": [],
   "source": [
    "import matplotlib\n",
    "#matplotlib.matplotlib_fname()\n",
    "\n",
    "import matplotlib.pyplot as plt\n",
    "import matplotlib.font_manager as fm\n",
    "#print(fm.findSystemFonts(fontpaths=None, fontext='ttf'))\n",
    "\n",
    "font_location = '/Users/reejungkim/Documents/나눔 글꼴/나눔고딕/NanumFontSetup_OTF_GOTHIC/NanumGothic.otf'  #font 경로 설정\n",
    "font_name = fm.FontProperties(fname=font_location).get_name()\n",
    "plt.rc('font', family=font_name)"
   ]
  },
  {
   "cell_type": "code",
   "execution_count": null,
   "id": "2b331cf2",
   "metadata": {},
   "outputs": [],
   "source": []
  },
  {
   "cell_type": "code",
   "execution_count": 115,
   "id": "db1a3564",
   "metadata": {},
   "outputs": [
    {
     "name": "stdout",
     "output_type": "stream",
     "text": [
      "['NanumGothicOTF']\n"
     ]
    }
   ],
   "source": [
    "# 폰트 설정 방법 1\n",
    "import matplotlib.pyplot as plt\n",
    "\n",
    "# matplotlib 폰트설정\n",
    "plt.rc('font', family='NanumGothicOTF') # For MacOS\n",
    "#plt.rc('font', family='Nanum Malgun Gothic') # For Windows\n",
    "print(plt.rcParams['font.family'])\n",
    "\n",
    "fontprop = fm.FontProperties(fname='/Users/reejungkim/Documents/나눔 글꼴/나눔고딕/NanumFontSetup_OTF_GOTHIC/NanumGothic.otf', size=18)"
   ]
  },
  {
   "cell_type": "code",
   "execution_count": 116,
   "id": "20393c95",
   "metadata": {},
   "outputs": [
    {
     "name": "stderr",
     "output_type": "stream",
     "text": [
      "findfont: Font family ['NanumGothicOTF'] not found. Falling back to DejaVu Sans.\n"
     ]
    },
    {
     "data": {
      "image/png": "[encoded data removed]",
      "text/plain": [
       "<Figure size 432x288 with 1 Axes>"
      ]
     },
     "metadata": {},
     "output_type": "display_data"
    }
   ],
   "source": [
    "# fname 옵션을 사용하는 방법\n",
    "path = '/Users/reejungkim/Documents/나눔 글꼴/나눔고딕/NanumFontSetup_OTF_GOTHIC/NanumGothic.otf'\n",
    "fontprop = fm.FontProperties(fname=path, size=18)\n",
    "\n",
    "plt.pie( count_stars.content, \n",
    "        labels=count_stars.index, startangle=0,\n",
    "        #autopct='%.1f%%'\n",
    "        autopct=lambda p: \"{:.1f}% ({:.0f})\".format(p, p/100*count_stars.content.sum()),\n",
    "        textprops=textprops\n",
    "        ) #,colors=Pastel1_7.hex_colors)\n",
    "\n",
    "#p=plt.gcf()\n",
    "\n",
    "\n",
    "plt.title(target + ' review score', fontproperties=fontprop)\n",
    "plt.savefig(target+\"_review_score.png\")\n",
    "plt.show()"
   ]
  },
  {
   "cell_type": "code",
   "execution_count": 117,
   "id": "5ef655fc",
   "metadata": {},
   "outputs": [],
   "source": [
    "\n",
    "        \n",
    "# unicode minus를 사용하지 않기 위한 설정 (minus 깨짐현상 방지)\n",
    "plt.rcParams['axes.unicode_minus'] = False\n",
    "plt.rcParams['font.family'] = 'AppleGothic'\n",
    "plt.rcParams['font.size'] = 5"
   ]
  },
  {
   "cell_type": "code",
   "execution_count": 118,
   "id": "b26238ed",
   "metadata": {},
   "outputs": [
    {
     "data": {
      "image/png": "[encoded data removed]",
      "text/plain": [
       "<Figure size 432x288 with 1 Axes>"
      ]
     },
     "metadata": {
      "needs_background": "light"
     },
     "output_type": "display_data"
    }
   ],
   "source": [
    "\n",
    "ax = sns.barplot(data=common_negative_review, y='Word', x='count' , ci=None)# fname 옵션을 사용하는 방법\n",
    "\n",
    "for i in ax.containers:\n",
    "    ax.bar_label(i,)\n",
    "plt.savefig(target+\"_부정리뷰키워드.png\")\n",
    "\n"
   ]
  },
  {
   "cell_type": "code",
   "execution_count": 114,
   "id": "5bb8c10b",
   "metadata": {},
   "outputs": [
    {
     "data": {
      "image/png": "[encoded data removed]",
      "text/plain": [
       "<Figure size 432x288 with 1 Axes>"
      ]
     },
     "metadata": {
      "needs_background": "light"
     },
     "output_type": "display_data"
    }
   ],
   "source": [
    "\n",
    "ax = sns.barplot(data=common_positive_review, y='Word', x='count' , ci=None)# fname 옵션을 사용하는 방법\n",
    "\n",
    "for i in ax.containers:\n",
    "    ax.bar_label(i,)\n",
    "plt.savefig(target+\"_긍정리뷰키워드.png\")"
   ]
  },
  {
   "cell_type": "code",
   "execution_count": 119,
   "id": "94c44be2",
   "metadata": {},
   "outputs": [],
   "source": [
    "def getCounter(row):\n",
    "    return dict(Counter(row['nouns']))#.most_common"
   ]
  },
  {
   "cell_type": "code",
   "execution_count": 120,
   "id": "12d3a3ed",
   "metadata": {
    "scrolled": true
   },
   "outputs": [],
   "source": [
    "df['counter']= df.apply(lambda row : getCounter(row), axis=1)"
   ]
  },
  {
   "cell_type": "markdown",
   "id": "d2e689ed",
   "metadata": {},
   "source": [
    "#### Counter without weight"
   ]
  },
  {
   "cell_type": "code",
   "execution_count": 121,
   "id": "eb071a76",
   "metadata": {},
   "outputs": [
    {
     "data": {
      "text/plain": [
       "0                    {'배달': 3, '기사': 1, '지연': 2, '갈수록': 1}\n",
       "1                                               {'배딜료': 1}\n",
       "2        {'경계': 1, '업체': 2, '거리': 1, '목록': 1, '시라': 1, ...\n",
       "3                                                {'사용': 1}\n",
       "4                                       {'메뉴': 1, '보기': 1}\n",
       "                               ...                        \n",
       "26794                          {'배달': 1, '속도': 1, '장난': 1}\n",
       "26795                                             {'굿': 1}\n",
       "26796                          {'사용': 1, '업체': 1, '수가': 1}\n",
       "26797                                    {'배달': 1, '왕': 1}\n",
       "26798                          {'쿠팡': 1, '이츠': 1, '대박': 1}\n",
       "Name: counter, Length: 26799, dtype: object"
      ]
     },
     "execution_count": 121,
     "metadata": {},
     "output_type": "execute_result"
    }
   ],
   "source": [
    "df.counter"
   ]
  },
  {
   "cell_type": "markdown",
   "id": "fe41c821",
   "metadata": {},
   "source": [
    "def getWeightedCounter(row):\n",
    "    for key, value in row['counter'].items():\n",
    "        newvalue = value*row['reviewer_ratings'] + 1\n",
    "        row['counter'][key] = newvalue"
   ]
  },
  {
   "cell_type": "markdown",
   "id": "94b6d604",
   "metadata": {},
   "source": [
    "df.apply(lambda row : getWeightedCounter(row), axis=1)"
   ]
  },
  {
   "cell_type": "markdown",
   "id": "01bf9bbb",
   "metadata": {},
   "source": [
    "#### Counter weighted by reviewer ratings (likes on the review)"
   ]
  },
  {
   "cell_type": "code",
   "execution_count": 122,
   "id": "184032e9",
   "metadata": {},
   "outputs": [
    {
     "data": {
      "text/plain": [
       "0                    {'배달': 3, '기사': 1, '지연': 2, '갈수록': 1}\n",
       "1                                               {'배딜료': 1}\n",
       "2        {'경계': 1, '업체': 2, '거리': 1, '목록': 1, '시라': 1, ...\n",
       "3                                                {'사용': 1}\n",
       "4                                       {'메뉴': 1, '보기': 1}\n",
       "                               ...                        \n",
       "26794                          {'배달': 1, '속도': 1, '장난': 1}\n",
       "26795                                             {'굿': 1}\n",
       "26796                          {'사용': 1, '업체': 1, '수가': 1}\n",
       "26797                                    {'배달': 1, '왕': 1}\n",
       "26798                          {'쿠팡': 1, '이츠': 1, '대박': 1}\n",
       "Name: counter, Length: 26799, dtype: object"
      ]
     },
     "execution_count": 122,
     "metadata": {},
     "output_type": "execute_result"
    }
   ],
   "source": [
    "df.counter"
   ]
  },
  {
   "cell_type": "markdown",
   "id": "05e49eeb",
   "metadata": {},
   "source": [
    "## Visualization"
   ]
  },
  {
   "cell_type": "code",
   "execution_count": null,
   "id": "d0fc22df",
   "metadata": {},
   "outputs": [],
   "source": []
  },
  {
   "cell_type": "code",
   "execution_count": 123,
   "id": "a4b64a18",
   "metadata": {},
   "outputs": [
    {
     "data": {
      "text/html": [
       "<html>\n",
       "<head><meta charset=\"utf-8\" /></head>\n",
       "<body>\n",
       "    <div>            <script src=\"https://cdnjs.cloudflare.com/ajax/libs/mathjax/2.7.5/MathJax.js?config=TeX-AMS-MML_SVG\"></script><script type=\"text/javascript\">if (window.MathJax && window.MathJax.Hub && window.MathJax.Hub.Config) {window.MathJax.Hub.Config({SVG: {font: \"STIX-Web\"}});}</script>                <script type=\"text/javascript\">window.PlotlyConfig = {MathJaxConfig: 'local'};</script>\n",
       "        <script src=\"https://cdn.plot.ly/plotly-2.12.1.min.js\"></script>                <div id=\"b5c04110-a7a4-4cf0-89ff-72161b328314\" class=\"plotly-graph-div\" style=\"height:400px; width:400px;\"></div>            <script type=\"text/javascript\">                                    window.PLOTLYENV=window.PLOTLYENV || {};                                    if (document.getElementById(\"b5c04110-a7a4-4cf0-89ff-72161b328314\")) {                    Plotly.newPlot(                        \"b5c04110-a7a4-4cf0-89ff-72161b328314\",                        [{\"branchvalues\":\"total\",\"domain\":{\"x\":[0.0,1.0],\"y\":[0.0,1.0]},\"hovertemplate\":\"labels=%{label}<br>count=%{value}<br>parent=%{parent}<br>id=%{id}<extra></extra>\",\"ids\":[\"\\uac00\\uac8c\",\"\\uacb0\\uc81c\",\"\\uace0\\uac1d\",\"\\uacf3\",\"\\uad11\\uace0\",\"\\uad7f\",\"\\uadf8\\ub0e5\",\"\\uae30\\uc0ac\",\"\\ub77c\\uc774\\ub354\",\"\\ub8cc\",\"\\ub9ac\\ubdf0\",\"\\ub9e4\\uc7a5\",\"\\uba54\\ub274\",\"\\ubb34\\ub8cc\",\"\\ubc14\\ub85c\",\"\\ubc30\\ub2ec\",\"\\ubc30\\ubbfc\",\"\\ubc30\\uc1a1\",\"\\ube68\",\"\\uc0ac\\uc6a9\",\"\\uc0ad\\uc81c\",\"\\uc11c\\ube44\\uc2a4\",\"\\uc13c\\ud130\",\"\\uc2e4\\uc2dc\\uac04\",\"\\uc544\\uc8fc\",\"\\uc5b4\\ud50c\",\"\\uc5c5\\uccb4\",\"\\uc5f0\\ub77d\",\"\\uc704\\uce58\",\"\\uc74c\\uc2dd\",\"\\uc74c\\uc2dd\\uc810\",\"\\uc774\\uc6a9\",\"\\uc784\",\"\\uc790\\uc8fc\",\"\\uc804\\ud654\",\"\\uc815\\ub9d0\",\"\\uc8fc\\ubb38\",\"\\uc8fc\\uc18c\",\"\\uc9c0\\uc5f0\",\"\\ucd5c\\uace0\",\"\\ucd5c\\uc545\",\"\\ucde8\\uc18c\",\"\\uce20\",\"\\uce58\\ud0c0\",\"\\uce74\\ub4dc\",\"\\ucfe0\\ud321\",\"\\ucfe0\\ud3f0\",\"\\ud560\\uc778\",\"\\ud568\",\"\\ud655\\uc778\"],\"labels\":[\"\\uac00\\uac8c\",\"\\uacb0\\uc81c\",\"\\uace0\\uac1d\",\"\\uacf3\",\"\\uad11\\uace0\",\"\\uad7f\",\"\\uadf8\\ub0e5\",\"\\uae30\\uc0ac\",\"\\ub77c\\uc774\\ub354\",\"\\ub8cc\",\"\\ub9ac\\ubdf0\",\"\\ub9e4\\uc7a5\",\"\\uba54\\ub274\",\"\\ubb34\\ub8cc\",\"\\ubc14\\ub85c\",\"\\ubc30\\ub2ec\",\"\\ubc30\\ubbfc\",\"\\ubc30\\uc1a1\",\"\\ube68\",\"\\uc0ac\\uc6a9\",\"\\uc0ad\\uc81c\",\"\\uc11c\\ube44\\uc2a4\",\"\\uc13c\\ud130\",\"\\uc2e4\\uc2dc\\uac04\",\"\\uc544\\uc8fc\",\"\\uc5b4\\ud50c\",\"\\uc5c5\\uccb4\",\"\\uc5f0\\ub77d\",\"\\uc704\\uce58\",\"\\uc74c\\uc2dd\",\"\\uc74c\\uc2dd\\uc810\",\"\\uc774\\uc6a9\",\"\\uc784\",\"\\uc790\\uc8fc\",\"\\uc804\\ud654\",\"\\uc815\\ub9d0\",\"\\uc8fc\\ubb38\",\"\\uc8fc\\uc18c\",\"\\uc9c0\\uc5f0\",\"\\ucd5c\\uace0\",\"\\ucd5c\\uc545\",\"\\ucde8\\uc18c\",\"\\uce20\",\"\\uce58\\ud0c0\",\"\\uce74\\ub4dc\",\"\\ucfe0\\ud321\",\"\\ucfe0\\ud3f0\",\"\\ud560\\uc778\",\"\\ud568\",\"\\ud655\\uc778\"],\"name\":\"\",\"parents\":[\"\",\"\",\"\",\"\",\"\",\"\",\"\",\"\",\"\",\"\",\"\",\"\",\"\",\"\",\"\",\"\",\"\",\"\",\"\",\"\",\"\",\"\",\"\",\"\",\"\",\"\",\"\",\"\",\"\",\"\",\"\",\"\",\"\",\"\",\"\",\"\",\"\",\"\",\"\",\"\",\"\",\"\",\"\",\"\",\"\",\"\",\"\",\"\",\"\",\"\"],\"values\":[599,1056,1290,624,354,1407,571,881,407,406,637,495,375,763,508,12119,1679,1147,524,1489,520,443,798,684,414,1232,511,352,614,1865,372,811,372,358,636,646,2443,350,349,877,358,1003,2312,358,383,4093,1834,733,445,664],\"type\":\"treemap\"}],                        {\"template\":{\"data\":{\"histogram2dcontour\":[{\"type\":\"histogram2dcontour\",\"colorbar\":{\"outlinewidth\":0,\"ticks\":\"\"},\"colorscale\":[[0.0,\"#0d0887\"],[0.1111111111111111,\"#46039f\"],[0.2222222222222222,\"#7201a8\"],[0.3333333333333333,\"#9c179e\"],[0.4444444444444444,\"#bd3786\"],[0.5555555555555556,\"#d8576b\"],[0.6666666666666666,\"#ed7953\"],[0.7777777777777778,\"#fb9f3a\"],[0.8888888888888888,\"#fdca26\"],[1.0,\"#f0f921\"]]}],\"choropleth\":[{\"type\":\"choropleth\",\"colorbar\":{\"outlinewidth\":0,\"ticks\":\"\"}}],\"histogram2d\":[{\"type\":\"histogram2d\",\"colorbar\":{\"outlinewidth\":0,\"ticks\":\"\"},\"colorscale\":[[0.0,\"#0d0887\"],[0.1111111111111111,\"#46039f\"],[0.2222222222222222,\"#7201a8\"],[0.3333333333333333,\"#9c179e\"],[0.4444444444444444,\"#bd3786\"],[0.5555555555555556,\"#d8576b\"],[0.6666666666666666,\"#ed7953\"],[0.7777777777777778,\"#fb9f3a\"],[0.8888888888888888,\"#fdca26\"],[1.0,\"#f0f921\"]]}],\"heatmap\":[{\"type\":\"heatmap\",\"colorbar\":{\"outlinewidth\":0,\"ticks\":\"\"},\"colorscale\":[[0.0,\"#0d0887\"],[0.1111111111111111,\"#46039f\"],[0.2222222222222222,\"#7201a8\"],[0.3333333333333333,\"#9c179e\"],[0.4444444444444444,\"#bd3786\"],[0.5555555555555556,\"#d8576b\"],[0.6666666666666666,\"#ed7953\"],[0.7777777777777778,\"#fb9f3a\"],[0.8888888888888888,\"#fdca26\"],[1.0,\"#f0f921\"]]}],\"heatmapgl\":[{\"type\":\"heatmapgl\",\"colorbar\":{\"outlinewidth\":0,\"ticks\":\"\"},\"colorscale\":[[0.0,\"#0d0887\"],[0.1111111111111111,\"#46039f\"],[0.2222222222222222,\"#7201a8\"],[0.3333333333333333,\"#9c179e\"],[0.4444444444444444,\"#bd3786\"],[0.5555555555555556,\"#d8576b\"],[0.6666666666666666,\"#ed7953\"],[0.7777777777777778,\"#fb9f3a\"],[0.8888888888888888,\"#fdca26\"],[1.0,\"#f0f921\"]]}],\"contourcarpet\":[{\"type\":\"contourcarpet\",\"colorbar\":{\"outlinewidth\":0,\"ticks\":\"\"}}],\"contour\":[{\"type\":\"contour\",\"colorbar\":{\"outlinewidth\":0,\"ticks\":\"\"},\"colorscale\":[[0.0,\"#0d0887\"],[0.1111111111111111,\"#46039f\"],[0.2222222222222222,\"#7201a8\"],[0.3333333333333333,\"#9c179e\"],[0.4444444444444444,\"#bd3786\"],[0.5555555555555556,\"#d8576b\"],[0.6666666666666666,\"#ed7953\"],[0.7777777777777778,\"#fb9f3a\"],[0.8888888888888888,\"#fdca26\"],[1.0,\"#f0f921\"]]}],\"surface\":[{\"type\":\"surface\",\"colorbar\":{\"outlinewidth\":0,\"ticks\":\"\"},\"colorscale\":[[0.0,\"#0d0887\"],[0.1111111111111111,\"#46039f\"],[0.2222222222222222,\"#7201a8\"],[0.3333333333333333,\"#9c179e\"],[0.4444444444444444,\"#bd3786\"],[0.5555555555555556,\"#d8576b\"],[0.6666666666666666,\"#ed7953\"],[0.7777777777777778,\"#fb9f3a\"],[0.8888888888888888,\"#fdca26\"],[1.0,\"#f0f921\"]]}],\"mesh3d\":[{\"type\":\"mesh3d\",\"colorbar\":{\"outlinewidth\":0,\"ticks\":\"\"}}],\"scatter\":[{\"fillpattern\":{\"fillmode\":\"overlay\",\"size\":10,\"solidity\":0.2},\"type\":\"scatter\"}],\"parcoords\":[{\"type\":\"parcoords\",\"line\":{\"colorbar\":{\"outlinewidth\":0,\"ticks\":\"\"}}}],\"scatterpolargl\":[{\"type\":\"scatterpolargl\",\"marker\":{\"colorbar\":{\"outlinewidth\":0,\"ticks\":\"\"}}}],\"bar\":[{\"error_x\":{\"color\":\"#2a3f5f\"},\"error_y\":{\"color\":\"#2a3f5f\"},\"marker\":{\"line\":{\"color\":\"#E5ECF6\",\"width\":0.5},\"pattern\":{\"fillmode\":\"overlay\",\"size\":10,\"solidity\":0.2}},\"type\":\"bar\"}],\"scattergeo\":[{\"type\":\"scattergeo\",\"marker\":{\"colorbar\":{\"outlinewidth\":0,\"ticks\":\"\"}}}],\"scatterpolar\":[{\"type\":\"scatterpolar\",\"marker\":{\"colorbar\":{\"outlinewidth\":0,\"ticks\":\"\"}}}],\"histogram\":[{\"marker\":{\"pattern\":{\"fillmode\":\"overlay\",\"size\":10,\"solidity\":0.2}},\"type\":\"histogram\"}],\"scattergl\":[{\"type\":\"scattergl\",\"marker\":{\"colorbar\":{\"outlinewidth\":0,\"ticks\":\"\"}}}],\"scatter3d\":[{\"type\":\"scatter3d\",\"line\":{\"colorbar\":{\"outlinewidth\":0,\"ticks\":\"\"}},\"marker\":{\"colorbar\":{\"outlinewidth\":0,\"ticks\":\"\"}}}],\"scattermapbox\":[{\"type\":\"scattermapbox\",\"marker\":{\"colorbar\":{\"outlinewidth\":0,\"ticks\":\"\"}}}],\"scatterternary\":[{\"type\":\"scatterternary\",\"marker\":{\"colorbar\":{\"outlinewidth\":0,\"ticks\":\"\"}}}],\"scattercarpet\":[{\"type\":\"scattercarpet\",\"marker\":{\"colorbar\":{\"outlinewidth\":0,\"ticks\":\"\"}}}],\"carpet\":[{\"aaxis\":{\"endlinecolor\":\"#2a3f5f\",\"gridcolor\":\"white\",\"linecolor\":\"white\",\"minorgridcolor\":\"white\",\"startlinecolor\":\"#2a3f5f\"},\"baxis\":{\"endlinecolor\":\"#2a3f5f\",\"gridcolor\":\"white\",\"linecolor\":\"white\",\"minorgridcolor\":\"white\",\"startlinecolor\":\"#2a3f5f\"},\"type\":\"carpet\"}],\"table\":[{\"cells\":{\"fill\":{\"color\":\"#EBF0F8\"},\"line\":{\"color\":\"white\"}},\"header\":{\"fill\":{\"color\":\"#C8D4E3\"},\"line\":{\"color\":\"white\"}},\"type\":\"table\"}],\"barpolar\":[{\"marker\":{\"line\":{\"color\":\"#E5ECF6\",\"width\":0.5},\"pattern\":{\"fillmode\":\"overlay\",\"size\":10,\"solidity\":0.2}},\"type\":\"barpolar\"}],\"pie\":[{\"automargin\":true,\"type\":\"pie\"}]},\"layout\":{\"autotypenumbers\":\"strict\",\"colorway\":[\"#636efa\",\"#EF553B\",\"#00cc96\",\"#ab63fa\",\"#FFA15A\",\"#19d3f3\",\"#FF6692\",\"#B6E880\",\"#FF97FF\",\"#FECB52\"],\"font\":{\"color\":\"#2a3f5f\"},\"hovermode\":\"closest\",\"hoverlabel\":{\"align\":\"left\"},\"paper_bgcolor\":\"white\",\"plot_bgcolor\":\"#E5ECF6\",\"polar\":{\"bgcolor\":\"#E5ECF6\",\"angularaxis\":{\"gridcolor\":\"white\",\"linecolor\":\"white\",\"ticks\":\"\"},\"radialaxis\":{\"gridcolor\":\"white\",\"linecolor\":\"white\",\"ticks\":\"\"}},\"ternary\":{\"bgcolor\":\"#E5ECF6\",\"aaxis\":{\"gridcolor\":\"white\",\"linecolor\":\"white\",\"ticks\":\"\"},\"baxis\":{\"gridcolor\":\"white\",\"linecolor\":\"white\",\"ticks\":\"\"},\"caxis\":{\"gridcolor\":\"white\",\"linecolor\":\"white\",\"ticks\":\"\"}},\"coloraxis\":{\"colorbar\":{\"outlinewidth\":0,\"ticks\":\"\"}},\"colorscale\":{\"sequential\":[[0.0,\"#0d0887\"],[0.1111111111111111,\"#46039f\"],[0.2222222222222222,\"#7201a8\"],[0.3333333333333333,\"#9c179e\"],[0.4444444444444444,\"#bd3786\"],[0.5555555555555556,\"#d8576b\"],[0.6666666666666666,\"#ed7953\"],[0.7777777777777778,\"#fb9f3a\"],[0.8888888888888888,\"#fdca26\"],[1.0,\"#f0f921\"]],\"sequentialminus\":[[0.0,\"#0d0887\"],[0.1111111111111111,\"#46039f\"],[0.2222222222222222,\"#7201a8\"],[0.3333333333333333,\"#9c179e\"],[0.4444444444444444,\"#bd3786\"],[0.5555555555555556,\"#d8576b\"],[0.6666666666666666,\"#ed7953\"],[0.7777777777777778,\"#fb9f3a\"],[0.8888888888888888,\"#fdca26\"],[1.0,\"#f0f921\"]],\"diverging\":[[0,\"#8e0152\"],[0.1,\"#c51b7d\"],[0.2,\"#de77ae\"],[0.3,\"#f1b6da\"],[0.4,\"#fde0ef\"],[0.5,\"#f7f7f7\"],[0.6,\"#e6f5d0\"],[0.7,\"#b8e186\"],[0.8,\"#7fbc41\"],[0.9,\"#4d9221\"],[1,\"#276419\"]]},\"xaxis\":{\"gridcolor\":\"white\",\"linecolor\":\"white\",\"ticks\":\"\",\"title\":{\"standoff\":15},\"zerolinecolor\":\"white\",\"automargin\":true,\"zerolinewidth\":2},\"yaxis\":{\"gridcolor\":\"white\",\"linecolor\":\"white\",\"ticks\":\"\",\"title\":{\"standoff\":15},\"zerolinecolor\":\"white\",\"automargin\":true,\"zerolinewidth\":2},\"scene\":{\"xaxis\":{\"backgroundcolor\":\"#E5ECF6\",\"gridcolor\":\"white\",\"linecolor\":\"white\",\"showbackground\":true,\"ticks\":\"\",\"zerolinecolor\":\"white\",\"gridwidth\":2},\"yaxis\":{\"backgroundcolor\":\"#E5ECF6\",\"gridcolor\":\"white\",\"linecolor\":\"white\",\"showbackground\":true,\"ticks\":\"\",\"zerolinecolor\":\"white\",\"gridwidth\":2},\"zaxis\":{\"backgroundcolor\":\"#E5ECF6\",\"gridcolor\":\"white\",\"linecolor\":\"white\",\"showbackground\":true,\"ticks\":\"\",\"zerolinecolor\":\"white\",\"gridwidth\":2}},\"shapedefaults\":{\"line\":{\"color\":\"#2a3f5f\"}},\"annotationdefaults\":{\"arrowcolor\":\"#2a3f5f\",\"arrowhead\":0,\"arrowwidth\":1},\"geo\":{\"bgcolor\":\"white\",\"landcolor\":\"#E5ECF6\",\"subunitcolor\":\"white\",\"showland\":true,\"showlakes\":true,\"lakecolor\":\"white\"},\"title\":{\"x\":0.05},\"mapbox\":{\"style\":\"light\"}}},\"legend\":{\"tracegroupgap\":0},\"title\":{\"text\":\"Most commonly used words\"},\"height\":400,\"width\":400},                        {\"responsive\": true}                    ).then(function(){\n",
       "                            \n",
       "var gd = document.getElementById('b5c04110-a7a4-4cf0-89ff-72161b328314');\n",
       "var x = new MutationObserver(function (mutations, observer) {{\n",
       "        var display = window.getComputedStyle(gd).display;\n",
       "        if (!display || display === 'none') {{\n",
       "            console.log([gd, 'removed!']);\n",
       "            Plotly.purge(gd);\n",
       "            observer.disconnect();\n",
       "        }}\n",
       "}});\n",
       "\n",
       "// Listen for the removal of the full notebook cells\n",
       "var notebookContainer = gd.closest('#notebook-container');\n",
       "if (notebookContainer) {{\n",
       "    x.observe(notebookContainer, {childList: true});\n",
       "}}\n",
       "\n",
       "// Listen for the clearing of the current output cell\n",
       "var outputEl = gd.closest('.output');\n",
       "if (outputEl) {{\n",
       "    x.observe(outputEl, {childList: true});\n",
       "}}\n",
       "\n",
       "                        })                };                            </script>        </div>\n",
       "</body>\n",
       "</html>"
      ]
     },
     "metadata": {},
     "output_type": "display_data"
    }
   ],
   "source": [
    "import plotly.express as px\n",
    "\n",
    "px.treemap(common_review, \n",
    "           path=['Word'], values='count',\n",
    "           title='Most commonly used words',\n",
    "          width=400, height=400)"
   ]
  },
  {
   "cell_type": "code",
   "execution_count": 124,
   "id": "66b43c81",
   "metadata": {
    "scrolled": true
   },
   "outputs": [
    {
     "data": {
      "text/html": [
       "<html>\n",
       "<head><meta charset=\"utf-8\" /></head>\n",
       "<body>\n",
       "    <div>            <script src=\"https://cdnjs.cloudflare.com/ajax/libs/mathjax/2.7.5/MathJax.js?config=TeX-AMS-MML_SVG\"></script><script type=\"text/javascript\">if (window.MathJax && window.MathJax.Hub && window.MathJax.Hub.Config) {window.MathJax.Hub.Config({SVG: {font: \"STIX-Web\"}});}</script>                <script type=\"text/javascript\">window.PlotlyConfig = {MathJaxConfig: 'local'};</script>\n",
       "        <script src=\"https://cdn.plot.ly/plotly-2.12.1.min.js\"></script>                <div id=\"951b5b44-fbf7-48df-a770-d46df9dad3dc\" class=\"plotly-graph-div\" style=\"height:400px; width:400px;\"></div>            <script type=\"text/javascript\">                                    window.PLOTLYENV=window.PLOTLYENV || {};                                    if (document.getElementById(\"951b5b44-fbf7-48df-a770-d46df9dad3dc\")) {                    Plotly.newPlot(                        \"951b5b44-fbf7-48df-a770-d46df9dad3dc\",                        [{\"branchvalues\":\"total\",\"domain\":{\"x\":[0.0,1.0],\"y\":[0.0,1.0]},\"hovertemplate\":\"labels=%{label}<br>count=%{value}<br>parent=%{parent}<br>id=%{id}<extra></extra>\",\"ids\":[\"\\uac00\\uac8c\",\"\\uacb0\\uc81c\",\"\\uace0\\uac1d\",\"\\uacf3\",\"\\uad11\\uace0\",\"\\uadf8\\ub0e5\",\"\\uae30\\uc0ac\",\"\\uae30\\uc5c5\",\"\\ub3c8\",\"\\ub77c\\uc774\\ub354\",\"\\ub8cc\",\"\\ub9ac\\ubdf0\",\"\\ub9e4\\uc7a5\",\"\\ubb34\\ub8cc\",\"\\ubc14\\ub85c\",\"\\ubc30\\ub2ec\",\"\\ubc30\\ubbfc\",\"\\ubc30\\uc1a1\",\"\\ubc30\\uc815\",\"\\ubcf4\\uace0\",\"\\uc0ac\\uc6a9\",\"\\uc0ad\\uc81c\",\"\\uc11c\\ube44\\uc2a4\",\"\\uc13c\\ud130\",\"\\uc2dc\\uc2a4\\ud15c\",\"\\uc4f0\\ub808\\uae30\",\"\\uc5b4\\ud50c\",\"\\uc5c5\\uccb4\",\"\\uc5f0\\uacb0\",\"\\uc5f0\\ub77d\",\"\\uc74c\\uc2dd\",\"\\uc74c\\uc2dd\\uc810\",\"\\uc774\\uc0c1\",\"\\uc774\\uc6a9\",\"\\uc784\",\"\\uc798\\ubabb\",\"\\uc804\\ud654\",\"\\uc815\\ub9d0\",\"\\uc8fc\\ubb38\",\"\\uc8fc\\uc18c\",\"\\uc9c0\\uc5f0\",\"\\ucd5c\\uc545\",\"\\ucde8\\uc18c\",\"\\uce20\",\"\\ucfe0\\ud321\",\"\\ucfe0\\ud3f0\",\"\\ud560\\uc778\",\"\\ud568\",\"\\ud655\\uc778\",\"\\ud658\\ubd88\"],\"labels\":[\"\\uac00\\uac8c\",\"\\uacb0\\uc81c\",\"\\uace0\\uac1d\",\"\\uacf3\",\"\\uad11\\uace0\",\"\\uadf8\\ub0e5\",\"\\uae30\\uc0ac\",\"\\uae30\\uc5c5\",\"\\ub3c8\",\"\\ub77c\\uc774\\ub354\",\"\\ub8cc\",\"\\ub9ac\\ubdf0\",\"\\ub9e4\\uc7a5\",\"\\ubb34\\ub8cc\",\"\\ubc14\\ub85c\",\"\\ubc30\\ub2ec\",\"\\ubc30\\ubbfc\",\"\\ubc30\\uc1a1\",\"\\ubc30\\uc815\",\"\\ubcf4\\uace0\",\"\\uc0ac\\uc6a9\",\"\\uc0ad\\uc81c\",\"\\uc11c\\ube44\\uc2a4\",\"\\uc13c\\ud130\",\"\\uc2dc\\uc2a4\\ud15c\",\"\\uc4f0\\ub808\\uae30\",\"\\uc5b4\\ud50c\",\"\\uc5c5\\uccb4\",\"\\uc5f0\\uacb0\",\"\\uc5f0\\ub77d\",\"\\uc74c\\uc2dd\",\"\\uc74c\\uc2dd\\uc810\",\"\\uc774\\uc0c1\",\"\\uc774\\uc6a9\",\"\\uc784\",\"\\uc798\\ubabb\",\"\\uc804\\ud654\",\"\\uc815\\ub9d0\",\"\\uc8fc\\ubb38\",\"\\uc8fc\\uc18c\",\"\\uc9c0\\uc5f0\",\"\\ucd5c\\uc545\",\"\\ucde8\\uc18c\",\"\\uce20\",\"\\ucfe0\\ud321\",\"\\ucfe0\\ud3f0\",\"\\ud560\\uc778\",\"\\ud568\",\"\\ud655\\uc778\",\"\\ud658\\ubd88\"],\"name\":\"\",\"parents\":[\"\",\"\",\"\",\"\",\"\",\"\",\"\",\"\",\"\",\"\",\"\",\"\",\"\",\"\",\"\",\"\",\"\",\"\",\"\",\"\",\"\",\"\",\"\",\"\",\"\",\"\",\"\",\"\",\"\",\"\",\"\",\"\",\"\",\"\",\"\",\"\",\"\",\"\",\"\",\"\",\"\",\"\",\"\",\"\",\"\",\"\",\"\",\"\",\"\",\"\"],\"values\":[348,510,1149,309,308,468,619,220,206,264,190,366,323,542,301,4973,511,256,248,237,454,468,255,737,234,287,653,235,194,315,1038,196,219,281,275,199,570,188,1494,269,313,355,849,1104,2083,1051,322,330,246,190],\"type\":\"treemap\"}],                        {\"template\":{\"data\":{\"histogram2dcontour\":[{\"type\":\"histogram2dcontour\",\"colorbar\":{\"outlinewidth\":0,\"ticks\":\"\"},\"colorscale\":[[0.0,\"#0d0887\"],[0.1111111111111111,\"#46039f\"],[0.2222222222222222,\"#7201a8\"],[0.3333333333333333,\"#9c179e\"],[0.4444444444444444,\"#bd3786\"],[0.5555555555555556,\"#d8576b\"],[0.6666666666666666,\"#ed7953\"],[0.7777777777777778,\"#fb9f3a\"],[0.8888888888888888,\"#fdca26\"],[1.0,\"#f0f921\"]]}],\"choropleth\":[{\"type\":\"choropleth\",\"colorbar\":{\"outlinewidth\":0,\"ticks\":\"\"}}],\"histogram2d\":[{\"type\":\"histogram2d\",\"colorbar\":{\"outlinewidth\":0,\"ticks\":\"\"},\"colorscale\":[[0.0,\"#0d0887\"],[0.1111111111111111,\"#46039f\"],[0.2222222222222222,\"#7201a8\"],[0.3333333333333333,\"#9c179e\"],[0.4444444444444444,\"#bd3786\"],[0.5555555555555556,\"#d8576b\"],[0.6666666666666666,\"#ed7953\"],[0.7777777777777778,\"#fb9f3a\"],[0.8888888888888888,\"#fdca26\"],[1.0,\"#f0f921\"]]}],\"heatmap\":[{\"type\":\"heatmap\",\"colorbar\":{\"outlinewidth\":0,\"ticks\":\"\"},\"colorscale\":[[0.0,\"#0d0887\"],[0.1111111111111111,\"#46039f\"],[0.2222222222222222,\"#7201a8\"],[0.3333333333333333,\"#9c179e\"],[0.4444444444444444,\"#bd3786\"],[0.5555555555555556,\"#d8576b\"],[0.6666666666666666,\"#ed7953\"],[0.7777777777777778,\"#fb9f3a\"],[0.8888888888888888,\"#fdca26\"],[1.0,\"#f0f921\"]]}],\"heatmapgl\":[{\"type\":\"heatmapgl\",\"colorbar\":{\"outlinewidth\":0,\"ticks\":\"\"},\"colorscale\":[[0.0,\"#0d0887\"],[0.1111111111111111,\"#46039f\"],[0.2222222222222222,\"#7201a8\"],[0.3333333333333333,\"#9c179e\"],[0.4444444444444444,\"#bd3786\"],[0.5555555555555556,\"#d8576b\"],[0.6666666666666666,\"#ed7953\"],[0.7777777777777778,\"#fb9f3a\"],[0.8888888888888888,\"#fdca26\"],[1.0,\"#f0f921\"]]}],\"contourcarpet\":[{\"type\":\"contourcarpet\",\"colorbar\":{\"outlinewidth\":0,\"ticks\":\"\"}}],\"contour\":[{\"type\":\"contour\",\"colorbar\":{\"outlinewidth\":0,\"ticks\":\"\"},\"colorscale\":[[0.0,\"#0d0887\"],[0.1111111111111111,\"#46039f\"],[0.2222222222222222,\"#7201a8\"],[0.3333333333333333,\"#9c179e\"],[0.4444444444444444,\"#bd3786\"],[0.5555555555555556,\"#d8576b\"],[0.6666666666666666,\"#ed7953\"],[0.7777777777777778,\"#fb9f3a\"],[0.8888888888888888,\"#fdca26\"],[1.0,\"#f0f921\"]]}],\"surface\":[{\"type\":\"surface\",\"colorbar\":{\"outlinewidth\":0,\"ticks\":\"\"},\"colorscale\":[[0.0,\"#0d0887\"],[0.1111111111111111,\"#46039f\"],[0.2222222222222222,\"#7201a8\"],[0.3333333333333333,\"#9c179e\"],[0.4444444444444444,\"#bd3786\"],[0.5555555555555556,\"#d8576b\"],[0.6666666666666666,\"#ed7953\"],[0.7777777777777778,\"#fb9f3a\"],[0.8888888888888888,\"#fdca26\"],[1.0,\"#f0f921\"]]}],\"mesh3d\":[{\"type\":\"mesh3d\",\"colorbar\":{\"outlinewidth\":0,\"ticks\":\"\"}}],\"scatter\":[{\"fillpattern\":{\"fillmode\":\"overlay\",\"size\":10,\"solidity\":0.2},\"type\":\"scatter\"}],\"parcoords\":[{\"type\":\"parcoords\",\"line\":{\"colorbar\":{\"outlinewidth\":0,\"ticks\":\"\"}}}],\"scatterpolargl\":[{\"type\":\"scatterpolargl\",\"marker\":{\"colorbar\":{\"outlinewidth\":0,\"ticks\":\"\"}}}],\"bar\":[{\"error_x\":{\"color\":\"#2a3f5f\"},\"error_y\":{\"color\":\"#2a3f5f\"},\"marker\":{\"line\":{\"color\":\"#E5ECF6\",\"width\":0.5},\"pattern\":{\"fillmode\":\"overlay\",\"size\":10,\"solidity\":0.2}},\"type\":\"bar\"}],\"scattergeo\":[{\"type\":\"scattergeo\",\"marker\":{\"colorbar\":{\"outlinewidth\":0,\"ticks\":\"\"}}}],\"scatterpolar\":[{\"type\":\"scatterpolar\",\"marker\":{\"colorbar\":{\"outlinewidth\":0,\"ticks\":\"\"}}}],\"histogram\":[{\"marker\":{\"pattern\":{\"fillmode\":\"overlay\",\"size\":10,\"solidity\":0.2}},\"type\":\"histogram\"}],\"scattergl\":[{\"type\":\"scattergl\",\"marker\":{\"colorbar\":{\"outlinewidth\":0,\"ticks\":\"\"}}}],\"scatter3d\":[{\"type\":\"scatter3d\",\"line\":{\"colorbar\":{\"outlinewidth\":0,\"ticks\":\"\"}},\"marker\":{\"colorbar\":{\"outlinewidth\":0,\"ticks\":\"\"}}}],\"scattermapbox\":[{\"type\":\"scattermapbox\",\"marker\":{\"colorbar\":{\"outlinewidth\":0,\"ticks\":\"\"}}}],\"scatterternary\":[{\"type\":\"scatterternary\",\"marker\":{\"colorbar\":{\"outlinewidth\":0,\"ticks\":\"\"}}}],\"scattercarpet\":[{\"type\":\"scattercarpet\",\"marker\":{\"colorbar\":{\"outlinewidth\":0,\"ticks\":\"\"}}}],\"carpet\":[{\"aaxis\":{\"endlinecolor\":\"#2a3f5f\",\"gridcolor\":\"white\",\"linecolor\":\"white\",\"minorgridcolor\":\"white\",\"startlinecolor\":\"#2a3f5f\"},\"baxis\":{\"endlinecolor\":\"#2a3f5f\",\"gridcolor\":\"white\",\"linecolor\":\"white\",\"minorgridcolor\":\"white\",\"startlinecolor\":\"#2a3f5f\"},\"type\":\"carpet\"}],\"table\":[{\"cells\":{\"fill\":{\"color\":\"#EBF0F8\"},\"line\":{\"color\":\"white\"}},\"header\":{\"fill\":{\"color\":\"#C8D4E3\"},\"line\":{\"color\":\"white\"}},\"type\":\"table\"}],\"barpolar\":[{\"marker\":{\"line\":{\"color\":\"#E5ECF6\",\"width\":0.5},\"pattern\":{\"fillmode\":\"overlay\",\"size\":10,\"solidity\":0.2}},\"type\":\"barpolar\"}],\"pie\":[{\"automargin\":true,\"type\":\"pie\"}]},\"layout\":{\"autotypenumbers\":\"strict\",\"colorway\":[\"#636efa\",\"#EF553B\",\"#00cc96\",\"#ab63fa\",\"#FFA15A\",\"#19d3f3\",\"#FF6692\",\"#B6E880\",\"#FF97FF\",\"#FECB52\"],\"font\":{\"color\":\"#2a3f5f\"},\"hovermode\":\"closest\",\"hoverlabel\":{\"align\":\"left\"},\"paper_bgcolor\":\"white\",\"plot_bgcolor\":\"#E5ECF6\",\"polar\":{\"bgcolor\":\"#E5ECF6\",\"angularaxis\":{\"gridcolor\":\"white\",\"linecolor\":\"white\",\"ticks\":\"\"},\"radialaxis\":{\"gridcolor\":\"white\",\"linecolor\":\"white\",\"ticks\":\"\"}},\"ternary\":{\"bgcolor\":\"#E5ECF6\",\"aaxis\":{\"gridcolor\":\"white\",\"linecolor\":\"white\",\"ticks\":\"\"},\"baxis\":{\"gridcolor\":\"white\",\"linecolor\":\"white\",\"ticks\":\"\"},\"caxis\":{\"gridcolor\":\"white\",\"linecolor\":\"white\",\"ticks\":\"\"}},\"coloraxis\":{\"colorbar\":{\"outlinewidth\":0,\"ticks\":\"\"}},\"colorscale\":{\"sequential\":[[0.0,\"#0d0887\"],[0.1111111111111111,\"#46039f\"],[0.2222222222222222,\"#7201a8\"],[0.3333333333333333,\"#9c179e\"],[0.4444444444444444,\"#bd3786\"],[0.5555555555555556,\"#d8576b\"],[0.6666666666666666,\"#ed7953\"],[0.7777777777777778,\"#fb9f3a\"],[0.8888888888888888,\"#fdca26\"],[1.0,\"#f0f921\"]],\"sequentialminus\":[[0.0,\"#0d0887\"],[0.1111111111111111,\"#46039f\"],[0.2222222222222222,\"#7201a8\"],[0.3333333333333333,\"#9c179e\"],[0.4444444444444444,\"#bd3786\"],[0.5555555555555556,\"#d8576b\"],[0.6666666666666666,\"#ed7953\"],[0.7777777777777778,\"#fb9f3a\"],[0.8888888888888888,\"#fdca26\"],[1.0,\"#f0f921\"]],\"diverging\":[[0,\"#8e0152\"],[0.1,\"#c51b7d\"],[0.2,\"#de77ae\"],[0.3,\"#f1b6da\"],[0.4,\"#fde0ef\"],[0.5,\"#f7f7f7\"],[0.6,\"#e6f5d0\"],[0.7,\"#b8e186\"],[0.8,\"#7fbc41\"],[0.9,\"#4d9221\"],[1,\"#276419\"]]},\"xaxis\":{\"gridcolor\":\"white\",\"linecolor\":\"white\",\"ticks\":\"\",\"title\":{\"standoff\":15},\"zerolinecolor\":\"white\",\"automargin\":true,\"zerolinewidth\":2},\"yaxis\":{\"gridcolor\":\"white\",\"linecolor\":\"white\",\"ticks\":\"\",\"title\":{\"standoff\":15},\"zerolinecolor\":\"white\",\"automargin\":true,\"zerolinewidth\":2},\"scene\":{\"xaxis\":{\"backgroundcolor\":\"#E5ECF6\",\"gridcolor\":\"white\",\"linecolor\":\"white\",\"showbackground\":true,\"ticks\":\"\",\"zerolinecolor\":\"white\",\"gridwidth\":2},\"yaxis\":{\"backgroundcolor\":\"#E5ECF6\",\"gridcolor\":\"white\",\"linecolor\":\"white\",\"showbackground\":true,\"ticks\":\"\",\"zerolinecolor\":\"white\",\"gridwidth\":2},\"zaxis\":{\"backgroundcolor\":\"#E5ECF6\",\"gridcolor\":\"white\",\"linecolor\":\"white\",\"showbackground\":true,\"ticks\":\"\",\"zerolinecolor\":\"white\",\"gridwidth\":2}},\"shapedefaults\":{\"line\":{\"color\":\"#2a3f5f\"}},\"annotationdefaults\":{\"arrowcolor\":\"#2a3f5f\",\"arrowhead\":0,\"arrowwidth\":1},\"geo\":{\"bgcolor\":\"white\",\"landcolor\":\"#E5ECF6\",\"subunitcolor\":\"white\",\"showland\":true,\"showlakes\":true,\"lakecolor\":\"white\"},\"title\":{\"x\":0.05},\"mapbox\":{\"style\":\"light\"}}},\"legend\":{\"tracegroupgap\":0},\"title\":{\"text\":\"Negative reviews\"},\"height\":400,\"width\":400},                        {\"responsive\": true}                    ).then(function(){\n",
       "                            \n",
       "var gd = document.getElementById('951b5b44-fbf7-48df-a770-d46df9dad3dc');\n",
       "var x = new MutationObserver(function (mutations, observer) {{\n",
       "        var display = window.getComputedStyle(gd).display;\n",
       "        if (!display || display === 'none') {{\n",
       "            console.log([gd, 'removed!']);\n",
       "            Plotly.purge(gd);\n",
       "            observer.disconnect();\n",
       "        }}\n",
       "}});\n",
       "\n",
       "// Listen for the removal of the full notebook cells\n",
       "var notebookContainer = gd.closest('#notebook-container');\n",
       "if (notebookContainer) {{\n",
       "    x.observe(notebookContainer, {childList: true});\n",
       "}}\n",
       "\n",
       "// Listen for the clearing of the current output cell\n",
       "var outputEl = gd.closest('.output');\n",
       "if (outputEl) {{\n",
       "    x.observe(outputEl, {childList: true});\n",
       "}}\n",
       "\n",
       "                        })                };                            </script>        </div>\n",
       "</body>\n",
       "</html>"
      ]
     },
     "metadata": {},
     "output_type": "display_data"
    }
   ],
   "source": [
    "fig = px.treemap(common_negative_review, \n",
    "           path=['Word'], values='count',\n",
    "           title='Negative reviews',\n",
    "          width=400, height=400)\n",
    "\n",
    "fig.write_html(\"NegativeReviewsTreeMap_\"+target+\".html\")\n",
    "\n",
    "fig.show()"
   ]
  },
  {
   "cell_type": "code",
   "execution_count": 125,
   "id": "bd36efcc",
   "metadata": {},
   "outputs": [],
   "source": [
    "import wordcloud\n",
    "from wordcloud import WordCloud\n",
    "import matplotlib.pyplot as plt"
   ]
  },
  {
   "cell_type": "code",
   "execution_count": 126,
   "id": "55fc0c61",
   "metadata": {},
   "outputs": [],
   "source": [
    "FONT_PATH = '/Users/reejungkim/Documents/Git/NLP/Korean font ttf/BMHANNA_11yrs_ttf.ttf'"
   ]
  },
  {
   "cell_type": "markdown",
   "id": "191c3f6f",
   "metadata": {},
   "source": [
    "words = common_review.set_index(\"Word\")['count'].to_dict()"
   ]
  },
  {
   "cell_type": "code",
   "execution_count": 127,
   "id": "495f9473",
   "metadata": {},
   "outputs": [],
   "source": [
    "wc = WordCloud(background_color='white',width=800, height=400, font_path=FONT_PATH)"
   ]
  },
  {
   "cell_type": "markdown",
   "id": "dc3b2e90",
   "metadata": {},
   "source": [
    "## negative reviews"
   ]
  },
  {
   "cell_type": "code",
   "execution_count": 128,
   "id": "2051c01a",
   "metadata": {
    "scrolled": true
   },
   "outputs": [
    {
     "data": {
      "image/png": "[encoded data removed]",
      "text/plain": [
       "<Figure size 432x288 with 1 Axes>"
      ]
     },
     "metadata": {
      "needs_background": "light"
     },
     "output_type": "display_data"
    }
   ],
   "source": [
    "negative_words =common_negative_review.set_index(\"Word\")['count'].to_dict()\n",
    "wordcloud = wc.generate_from_frequencies(negative_words)\n",
    "plt.imshow(wordcloud)\n",
    "plt.savefig(target + \" 부정리뷰WC.png\")\n",
    "plt.axis('off')\n",
    "plt.show()\n"
   ]
  },
  {
   "cell_type": "code",
   "execution_count": 129,
   "id": "e8736be9",
   "metadata": {},
   "outputs": [
    {
     "data": {
      "text/plain": [
       "array(['배달', '쿠팡', '주문', '고객', '츠', '쿠폰', '음식', '취소', '센터', '어플', '기사',\n",
       "       '전화', '무료', '배민', '결제', '그냥', '삭제', '사용', '리뷰', '최악', '가게', '함',\n",
       "       '매장', '할인', '연락', '지연', '곳', '광고', '바로', '쓰레기', '이용', '임', '주소',\n",
       "       '라이더', '배송', '서비스', '배정', '확인', '보고', '업체', '시스템', '기업', '이상', '돈',\n",
       "       '잘못', '음식점', '연결', '료', '환불', '정말'], dtype=object)"
      ]
     },
     "execution_count": 129,
     "metadata": {},
     "output_type": "execute_result"
    }
   ],
   "source": [
    "common_negative_review.Word.values"
   ]
  },
  {
   "cell_type": "code",
   "execution_count": 130,
   "id": "0d5815a4",
   "metadata": {},
   "outputs": [
    {
     "data": {
      "image/png": "[encoded data removed]",
      "text/plain": [
       "<Figure size 432x288 with 1 Axes>"
      ]
     },
     "metadata": {
      "needs_background": "light"
     },
     "output_type": "display_data"
    }
   ],
   "source": [
    "positive_words =common_positive_review.set_index(\"Word\")['count'].to_dict()\n",
    "wordcloud = wc.generate_from_frequencies(positive_words)\n",
    "plt.imshow(wordcloud)\n",
    "plt.savefig(\"PositiveReviewsWC_hogang.png\")\n",
    "plt.axis('off')\n",
    "plt.show()"
   ]
  },
  {
   "cell_type": "code",
   "execution_count": null,
   "id": "8c773db9",
   "metadata": {},
   "outputs": [],
   "source": []
  },
  {
   "cell_type": "markdown",
   "id": "220cd8d0",
   "metadata": {
    "scrolled": true
   },
   "source": [
    "common_negative_review.reset_index(drop=True).values"
   ]
  },
  {
   "cell_type": "markdown",
   "id": "03b4e263",
   "metadata": {},
   "source": [
    "import matplotlib.font_manager as fm\n",
    "\n",
    "fm.get_fontconfig_fonts()\n",
    "font_name = fm.FontProperties(fname=FONT_PATH).get_name()\n",
    "plt.rc('font', family=font_name)\n",
    "\n",
    "plt.bar(common_negative_review.Word.values, range(len( common_negative_review)))"
   ]
  },
  {
   "cell_type": "markdown",
   "id": "faf466f2",
   "metadata": {},
   "source": [
    "common_negative_review.set_index('Word').sort_values(\n",
    "    by='count', ascending=True).plot(kind='barh') \n"
   ]
  },
  {
   "cell_type": "code",
   "execution_count": null,
   "id": "7435a1dd",
   "metadata": {},
   "outputs": [],
   "source": []
  },
  {
   "cell_type": "code",
   "execution_count": null,
   "id": "aea2c3ba",
   "metadata": {},
   "outputs": [],
   "source": []
  },
  {
   "cell_type": "code",
   "execution_count": null,
   "id": "93486179",
   "metadata": {},
   "outputs": [],
   "source": []
  },
  {
   "cell_type": "code",
   "execution_count": null,
   "id": "e4ffe96f",
   "metadata": {},
   "outputs": [],
   "source": []
  },
  {
   "cell_type": "code",
   "execution_count": null,
   "id": "d4c21f40",
   "metadata": {},
   "outputs": [],
   "source": []
  },
  {
   "cell_type": "code",
   "execution_count": null,
   "id": "8abbfb76",
   "metadata": {},
   "outputs": [],
   "source": []
  },
  {
   "cell_type": "code",
   "execution_count": null,
   "id": "af847e98",
   "metadata": {},
   "outputs": [],
   "source": []
  },
  {
   "cell_type": "code",
   "execution_count": null,
   "id": "6442893c",
   "metadata": {},
   "outputs": [],
   "source": []
  }
 ],
 "metadata": {
  "kernelspec": {
   "display_name": "Python 3 (ipykernel)",
   "language": "python",
   "name": "python3"
  },
  "language_info": {
   "codemirror_mode": {
    "name": "ipython",
    "version": 3
   },
   "file_extension": ".py",
   "mimetype": "text/x-python",
   "name": "python",
   "nbconvert_exporter": "python",
   "pygments_lexer": "ipython3",
   "version": "3.7.13"
  }
 },
 "nbformat": 4,
 "nbformat_minor": 5
}
